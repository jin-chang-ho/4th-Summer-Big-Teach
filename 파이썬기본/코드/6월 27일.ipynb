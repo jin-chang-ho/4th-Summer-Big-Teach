{
 "cells": [
  {
   "cell_type": "markdown",
   "metadata": {
    "id": "vrFc8KUVrAAX"
   },
   "source": [
    "# Google Drive 연동"
   ]
  },
  {
   "cell_type": "code",
   "execution_count": 1,
   "metadata": {
    "colab": {
     "base_uri": "https://localhost:8080/"
    },
    "executionInfo": {
     "elapsed": 242766,
     "status": "ok",
     "timestamp": 1656308150691,
     "user": {
      "displayName": "진창호",
      "userId": "09608549926967536417"
     },
     "user_tz": -540
    },
    "id": "_Yp1J88ZpCZh",
    "outputId": "26d513e2-4bd7-4eda-e3fd-d812c4f8ecfe"
   },
   "outputs": [
    {
     "name": "stdout",
     "output_type": "stream",
     "text": [
      "Mounted at /content/gdrive\n"
     ]
    }
   ],
   "source": [
    "# from google.colab import drive\n",
    "# drive.mount('/content/gdrive')"
   ]
  },
  {
   "cell_type": "code",
   "execution_count": 1,
   "metadata": {
    "executionInfo": {
     "elapsed": 23,
     "status": "ok",
     "timestamp": 1656308228868,
     "user": {
      "displayName": "진창호",
      "userId": "09608549926967536417"
     },
     "user_tz": -540
    },
    "id": "WVIKzXvdpLhM"
   },
   "outputs": [],
   "source": [
    "import pandas as pd"
   ]
  },
  {
   "cell_type": "code",
   "execution_count": 3,
   "metadata": {
    "executionInfo": {
     "elapsed": 972,
     "status": "ok",
     "timestamp": 1656308310432,
     "user": {
      "displayName": "진창호",
      "userId": "09608549926967536417"
     },
     "user_tz": -540
    },
    "id": "QYXO42DiqdmN"
   },
   "outputs": [],
   "source": [
    "df = pd.read_csv(\"C:\\\\Users\\\\Windows\\\\Desktop\\\\대학교\\\\4학년 여름방학\\\\Big_AI\\\\파이썬기본\\\\pytest_basic\\\\income.csv\", encoding = \"cp949\")"
   ]
  },
  {
   "cell_type": "code",
   "execution_count": 4,
   "metadata": {
    "colab": {
     "base_uri": "https://localhost:8080/"
    },
    "executionInfo": {
     "elapsed": 430,
     "status": "ok",
     "timestamp": 1656308319508,
     "user": {
      "displayName": "진창호",
      "userId": "09608549926967536417"
     },
     "user_tz": -540
    },
    "id": "r4TqqMW8qyr9",
    "outputId": "9803c78d-3305-42f2-eaa0-69292e9096eb"
   },
   "outputs": [
    {
     "name": "stdout",
     "output_type": "stream",
     "text": [
      "       age          workclass    education  educationNumber  \\\n",
      "0       39          State-gov    Bachelors               13   \n",
      "1       50   Self-emp-not-inc    Bachelors               13   \n",
      "2       38            Private      HS-grad                9   \n",
      "3       53            Private         11th                7   \n",
      "4       28            Private    Bachelors               13   \n",
      "...    ...                ...          ...              ...   \n",
      "32556   27            Private   Assoc-acdm               12   \n",
      "32557   40            Private      HS-grad                9   \n",
      "32558   58            Private      HS-grad                9   \n",
      "32559   22            Private      HS-grad                9   \n",
      "32560   52       Self-emp-inc      HS-grad                9   \n",
      "\n",
      "             maritalStatus          occupation    relationship  race   gender  \\\n",
      "0            Never-married        Adm-clerical   Not-in-family     4     Male   \n",
      "1       Married-civ-spouse     Exec-managerial         Husband     4     Male   \n",
      "2                 Divorced   Handlers-cleaners   Not-in-family     4     Male   \n",
      "3       Married-civ-spouse   Handlers-cleaners         Husband     3     Male   \n",
      "4       Married-civ-spouse      Prof-specialty            Wife     3   Female   \n",
      "...                    ...                 ...             ...   ...      ...   \n",
      "32556   Married-civ-spouse        Tech-support            Wife     4   Female   \n",
      "32557   Married-civ-spouse   Machine-op-inspct         Husband     4     Male   \n",
      "32558              Widowed        Adm-clerical       Unmarried     4   Female   \n",
      "32559        Never-married        Adm-clerical       Own-child     4     Male   \n",
      "32560   Married-civ-spouse     Exec-managerial            Wife     4   Female   \n",
      "\n",
      "       hourPerWeek   nativeCountry  income  \n",
      "0               40   United-States       0  \n",
      "1               13   United-States       0  \n",
      "2               40   United-States       0  \n",
      "3               40   United-States       0  \n",
      "4               40            Cuba       0  \n",
      "...            ...             ...     ...  \n",
      "32556           38   United-States       0  \n",
      "32557           40   United-States       1  \n",
      "32558           40   United-States       0  \n",
      "32559           20   United-States       0  \n",
      "32560           40   United-States       1  \n",
      "\n",
      "[32561 rows x 12 columns]\n"
     ]
    }
   ],
   "source": [
    "print(df)"
   ]
  },
  {
   "cell_type": "markdown",
   "metadata": {
    "id": "CyGMVqxNrE6b"
   },
   "source": [
    "# Python 기본"
   ]
  },
  {
   "cell_type": "code",
   "execution_count": 6,
   "metadata": {
    "colab": {
     "base_uri": "https://localhost:8080/"
    },
    "executionInfo": {
     "elapsed": 655,
     "status": "ok",
     "timestamp": 1656308466565,
     "user": {
      "displayName": "진창호",
      "userId": "09608549926967536417"
     },
     "user_tz": -540
    },
    "id": "gluQdPgQq3Vs",
    "outputId": "4a16f897-8cd7-4dd1-9393-3452de692529"
   },
   "outputs": [
    {
     "name": "stdout",
     "output_type": "stream",
     "text": [
      "2020\n",
      "5\n",
      "안녕하세요\n"
     ]
    }
   ],
   "source": [
    "print(2020)\n",
    "print(3+2)\n",
    "print(\"안녕하세요\")"
   ]
  },
  {
   "cell_type": "code",
   "execution_count": 7,
   "metadata": {
    "colab": {
     "base_uri": "https://localhost:8080/"
    },
    "executionInfo": {
     "elapsed": 543,
     "status": "ok",
     "timestamp": 1656308468752,
     "user": {
      "displayName": "진창호",
      "userId": "09608549926967536417"
     },
     "user_tz": -540
    },
    "id": "LGzdzo1IrUQU",
    "outputId": "3c8f0744-6b3e-4f09-b9e2-7d710c3142fe"
   },
   "outputs": [
    {
     "name": "stdout",
     "output_type": "stream",
     "text": [
      "6.28318530718\n"
     ]
    }
   ],
   "source": [
    "pi = 3.14159265359\n",
    "print(pi * 2)"
   ]
  },
  {
   "cell_type": "code",
   "execution_count": 8,
   "metadata": {
    "colab": {
     "base_uri": "https://localhost:8080/"
    },
    "executionInfo": {
     "elapsed": 745,
     "status": "ok",
     "timestamp": 1656308605419,
     "user": {
      "displayName": "진창호",
      "userId": "09608549926967536417"
     },
     "user_tz": -540
    },
    "id": "pgK5ela1rZHL",
    "outputId": "6bccd6da-dcf7-422e-9073-24612fb7706e"
   },
   "outputs": [
    {
     "name": "stdout",
     "output_type": "stream",
     "text": [
      "apple :  10\n",
      "banana :  50\n",
      "fruit :  80\n",
      "apple :  30\n"
     ]
    }
   ],
   "source": [
    "apple = 10\n",
    "lemon, banana = 20, 50\n",
    "fruit = apple + lemon + banana\n",
    "\n",
    "print(\"apple : \", apple)\n",
    "print(\"banana : \", banana)\n",
    "print(\"fruit : \", fruit)\n",
    "\n",
    "apple = 30\n",
    "print(\"apple : \", apple)"
   ]
  }
 ],
 "metadata": {
  "colab": {
   "authorship_tag": "ABX9TyO5Pyyd4DlIkcdTIjy+GjRZ",
   "collapsed_sections": [],
   "name": "6월 27일.ipynb",
   "provenance": []
  },
  "kernelspec": {
   "display_name": "Python 3",
   "language": "python",
   "name": "python3"
  },
  "language_info": {
   "codemirror_mode": {
    "name": "ipython",
    "version": 3
   },
   "file_extension": ".py",
   "mimetype": "text/x-python",
   "name": "python",
   "nbconvert_exporter": "python",
   "pygments_lexer": "ipython3",
   "version": "3.8.5"
  }
 },
 "nbformat": 4,
 "nbformat_minor": 1
}
