{
 "cells": [
  {
   "cell_type": "code",
   "execution_count": null,
   "id": "a53c262d",
   "metadata": {},
   "outputs": [],
   "source": [
    "# 네이버 자동 로그인하기\n",
    "from selenium import webdriver\n",
    "import time\n",
    "\n",
    "#크롬 드라이버 설정 및 웹 페이지 열기\n",
    "import chromedriver_autoinstaller\n",
    "chromedriver_autoinstaller.install()\n",
    "driver= webdriver.Chrome()\n",
    "\n",
    "#사용자에게 필요한 정보들을를 입력 받습니다.\n",
    "v_id = input('네이버 로그인 ID를 입력하세요:')\n",
    "v_passwd = input('네이버 로그인 비밀번호를 입력하세요:')\n",
    "time.sleep(2)\n",
    "\n",
    "# 네이버 자동 로그인\n",
    "driver.get(\"https://nid.naver.com/nidlogin.login\")\n",
    "\n",
    " # execute_script : 윈도우 기능을 이용해서 로그인, so 네이버 로그인을 가능하게 한다.\n",
    "driver.execute_script(\"document.getElementsByName('id')[0].value=\\'\"+v_id+\"\\'\")\n",
    "driver.execute_script(\"document.getElementsByName('pw')[0].value=\\'\"+v_passwd+\"\\'\")\n",
    "driver.find_element_by_xpath('//*[@id=\"frmNIDLogin\"]/fieldset/input').click()\n",
    "time.sleep(2)"
   ]
  }
 ],
 "metadata": {
  "kernelspec": {
   "display_name": "Python 3",
   "language": "python",
   "name": "python3"
  },
  "language_info": {
   "codemirror_mode": {
    "name": "ipython",
    "version": 3
   },
   "file_extension": ".py",
   "mimetype": "text/x-python",
   "name": "python",
   "nbconvert_exporter": "python",
   "pygments_lexer": "ipython3",
   "version": "3.8.5"
  }
 },
 "nbformat": 4,
 "nbformat_minor": 5
}
