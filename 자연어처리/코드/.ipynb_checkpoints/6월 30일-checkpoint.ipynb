{
 "cells": [
  {
   "cell_type": "markdown",
   "metadata": {
    "id": "XogAytr7XTfz"
   },
   "source": [
    "# 감성분석 - 사전"
   ]
  },
  {
   "cell_type": "code",
   "execution_count": 10,
   "metadata": {},
   "outputs": [
    {
     "name": "stdout",
     "output_type": "stream",
     "text": [
      "Requirement already up-to-date: nbformat in c:\\programdata\\anaconda3\\lib\\site-packages (5.4.0)Note: you may need to restart the kernel to use updated packages.\n",
      "\n",
      "Requirement already satisfied, skipping upgrade: jupyter-core in c:\\programdata\\anaconda3\\lib\\site-packages (from nbformat) (4.6.3)\n",
      "Requirement already satisfied, skipping upgrade: fastjsonschema in c:\\programdata\\anaconda3\\lib\\site-packages (from nbformat) (2.15.3)\n",
      "Requirement already satisfied, skipping upgrade: traitlets>=5.1 in c:\\programdata\\anaconda3\\lib\\site-packages (from nbformat) (5.3.0)\n",
      "Requirement already satisfied, skipping upgrade: jsonschema>=2.6 in c:\\programdata\\anaconda3\\lib\\site-packages (from nbformat) (3.2.0)\n",
      "Requirement already satisfied, skipping upgrade: pywin32>=1.0; sys_platform == \"win32\" in c:\\programdata\\anaconda3\\lib\\site-packages (from jupyter-core->nbformat) (227)\n",
      "Requirement already satisfied, skipping upgrade: six>=1.11.0 in c:\\programdata\\anaconda3\\lib\\site-packages (from jsonschema>=2.6->nbformat) (1.15.0)\n",
      "Requirement already satisfied, skipping upgrade: setuptools in c:\\programdata\\anaconda3\\lib\\site-packages (from jsonschema>=2.6->nbformat) (50.3.1.post20201107)\n",
      "Requirement already satisfied, skipping upgrade: pyrsistent>=0.14.0 in c:\\programdata\\anaconda3\\lib\\site-packages (from jsonschema>=2.6->nbformat) (0.17.3)\n",
      "Requirement already satisfied, skipping upgrade: attrs>=17.4.0 in c:\\programdata\\anaconda3\\lib\\site-packages (from jsonschema>=2.6->nbformat) (20.3.0)\n"
     ]
    }
   ],
   "source": [
    "pip install -U nbformat"
   ]
  },
  {
   "cell_type": "markdown",
   "metadata": {
    "id": "33-nRa7XSHi3"
   },
   "source": [
    "## 파일 읽기"
   ]
  },
  {
   "cell_type": "code",
   "execution_count": 4,
   "metadata": {
    "id": "Av61ggXf9mOX"
   },
   "outputs": [],
   "source": [
    "def read_data(filename, encoding = \"cp949\"):\n",
    "  with open(filename, \"r\", encoding = encoding) as f:\n",
    "    data = [line.split('\\t') for line in f.read().splitlines()]\n",
    "    data = data[1:]\n",
    "  return data\n",
    "\n",
    "def write_data(data, filename, encoding = \"cp949\"):\n",
    "  with open(filename, \"w\", encoding = encoding) as f:\n",
    "    f.write(data)\n",
    "\n",
    "data = read_data(\"C:\\\\Users\\\\Windows\\\\Desktop\\\\대학교\\\\4학년 여름방학\\\\Big_AI\\\\자연어처리\\\\pytest\\\\ratings.txt\", encoding = 'cp949')"
   ]
  },
  {
   "cell_type": "markdown",
   "metadata": {
    "id": "xf_syYSKSJAu"
   },
   "source": [
    "## 형태소 분석"
   ]
  },
  {
   "cell_type": "code",
   "execution_count": 6,
   "metadata": {
    "colab": {
     "base_uri": "https://localhost:8080/"
    },
    "executionInfo": {
     "elapsed": 118553,
     "status": "ok",
     "timestamp": 1656634053795,
     "user": {
      "displayName": "진창호",
      "userId": "09608549926967536417"
     },
     "user_tz": -540
    },
    "id": "64qOfkzjQkK3",
    "outputId": "6e492042-6f74-406f-fd8a-71b3345ad417"
   },
   "outputs": [
    {
     "name": "stdout",
     "output_type": "stream",
     "text": [
      "filepath:  C:\\ProgramData\\Anaconda3\\Lib\\site-packages\n",
      "classpath:  C:\\ProgramData\\Anaconda3\\Lib\\site-packages\\rhinoMorph/lib/rhino.jar\n",
      "JVM is already started~\n",
      "RHINO started!\n"
     ]
    }
   ],
   "source": [
    "import rhinoMorph\n",
    "rn = rhinoMorph.startRhino()\n",
    "\n",
    "morphed_data = ''\n",
    "for data_each in data:\n",
    "  morphed_data_each = rhinoMorph.onlyMorph_list(rn, data_each[1], pos = ['NNG', 'NNP', 'VV', 'VA', 'XR', 'IC', 'MM', 'MAG', 'MAJ'])\n",
    "  joined_data_each = \" \".join(morphed_data_each)\n",
    "  if joined_data_each:\n",
    "    morphed_data += data_each[0] + '\\t' + joined_data_each + '\\t' + data_each[2] + '\\n'\n",
    "\n",
    "write_data(morphed_data, 'C:\\\\Users\\\\Windows\\\\Desktop\\\\대학교\\\\4학년 여름방학\\\\Big_AI\\\\자연어처리\\\\pytest\\\\ratings_morphed.txt', encoding = 'cp949')"
   ]
  },
  {
   "cell_type": "code",
   "execution_count": 7,
   "metadata": {
    "colab": {
     "base_uri": "https://localhost:8080/"
    },
    "executionInfo": {
     "elapsed": 727,
     "status": "ok",
     "timestamp": 1656634054442,
     "user": {
      "displayName": "진창호",
      "userId": "09608549926967536417"
     },
     "user_tz": -540
    },
    "id": "dLxKAqYjRUk_",
    "outputId": "14ddce87-9d53-49bc-b73d-334e6b953c5c"
   },
   "outputs": [
    {
     "name": "stdout",
     "output_type": "stream",
     "text": [
      "197559\n",
      "3\n",
      "['8132799', '디자인 배우 학생 외국 디자이너 일구 전통 통하 발전 문화 산업 부럽 사실 우리나라 그 어렵 시절 끝 열정 지키 노라노 같 전통 있 같 사람 꿈 꾸 이루 나가 있 감사', '1']\n"
     ]
    }
   ],
   "source": [
    "data = read_data('C:\\\\Users\\\\Windows\\\\Desktop\\\\대학교\\\\4학년 여름방학\\\\Big_AI\\\\자연어처리\\\\pytest\\\\ratings_morphed.txt', encoding = 'cp949')\n",
    "print(len(data))\n",
    "print(len(data[0]))\n",
    "print(data[0])"
   ]
  },
  {
   "cell_type": "markdown",
   "metadata": {
    "id": "S0rhw_gqSLmg"
   },
   "source": [
    "## 감정사전 읽기"
   ]
  },
  {
   "cell_type": "code",
   "execution_count": 8,
   "metadata": {
    "colab": {
     "base_uri": "https://localhost:8080/"
    },
    "executionInfo": {
     "elapsed": 1624,
     "status": "ok",
     "timestamp": 1656634056058,
     "user": {
      "displayName": "진창호",
      "userId": "09608549926967536417"
     },
     "user_tz": -540
    },
    "id": "MJPYPDb6Rfzh",
    "outputId": "dca50abe-794d-4d53-d6ad-14056d2fa097"
   },
   "outputs": [
    {
     "name": "stdout",
     "output_type": "stream",
     "text": [
      "positive :  [['가능'], ['가능하'], ['가락'], ['가치'], ['간단하'], ['간단히'], ['간직하'], ['간호'], ['간호하'], ['감동'], ['감사'], ['감사하'], ['감싸'], ['감탄하'], ['강화'], ['강화되'], ['강화하'], ['갚'], ['개방되'], ['개방하'], ['개선'], ['개선되'], ['개선하'], ['개혁'], ['거침없이'], ['건강'], ['건장하'], ['걸맞'], ['격려'], ['결심'], ['결심하'], ['결혼'], ['결혼하'], ['경감'], ['경감되'], ['공언'], ['공언하'], ['공정하'], ['관대하'], ['관리되'], ['굉장하'], ['구원'], ['굳'], ['귀엽'], ['귀하'], ['균형'], ['그치'], ['극복'], ['극복하'], ['근절되'], ['근절하'], ['긁'], ['긍정'], ['기념'], ['기대'], ['기부하'], ['기쁘'], ['기쁨'], ['기사도'], ['기적'], ['기회'], ['깨끗하'], ['꼼꼼하'], ['꽃'], ['꿀'], ['끌리'], ['나아가'], ['낙'], ['낫'], ['넓'], ['넓히'], ['노력'], ['노력하'], ['논리'], ['논의'], ['논의하'], ['놀랍'], ['놀이'], ['늘리'], ['다이아몬드'], ['다정'], ['다행히'], ['단장'], ['달래'], ['달콤하'], ['대단'], ['대담하'], ['대화'], ['덕'], ['도덕'], ['도전'], ['독립'], ['독립되'], ['돌보'], ['돕'], ['동의'], ['동의하'], ['되살리'], ['드라이브'], ['따르'], ['뚜렷하'], ['뛰어나'], ['띄우'], ['마법'], ['만족'], ['만족하'], ['맑'], ['맑음'], ['맛'], ['맛있'], ['맞'], ['맞추'], ['매력'], ['멋지'], ['메이저'], ['면밀히'], ['명백히'], ['명시되'], ['명예'], ['명확하'], ['모범'], ['무료'], ['미'], ['미모'], ['미소'], ['믿'], ['바람직하'], ['바르'], ['반짝'], ['반짝이'], ['받아들이'], ['발견'], ['발견되'], ['발견하'], ['발의'], ['발의하'], ['발전'], ['발전하'], ['발휘하'], ['밝'], ['밝히'], ['벌'], ['벗어나'], ['베풀'], ['보강'], ['보완'], ['보완하'], ['보조'], ['보호'], ['복구되'], ['복구하'], ['본격'], ['부자'], ['분명'], ['분명히'], ['분배'], ['분배하'], ['빛'], ['빛나'], ['빠르'], ['사랑'], ['사랑하'], ['사려'], ['사로잡'], ['살피'], ['상의하'], ['상호'], ['새롭'], ['생명'], ['생생'], ['생생하'], ['생존'], ['샷'], ['선량하'], ['선명하'], ['선의'], ['설명'], ['설명하'], ['성공'], ['성공하'], ['성숙되'], ['성실하'], ['성장'], ['성장하'], ['세련되'], ['섹시'], ['소개'], ['소개되'], ['소개하'], ['소탕하'], ['소화하'], ['손쉽'], ['솔직하'], ['수락'], ['수용하'], ['수월하'], ['수익'], ['순조'], ['쉽'], ['스타'], ['승리'], ['승인하'], ['시식하'], ['시정되'], ['신뢰'], ['신뢰하'], ['신선하'], ['신속하'], ['신용'], ['신중하'], ['신청'], ['신청하'], ['실증하'], ['실현'], ['싸'], ['싸게'], ['쏘'], ['아름답'], ['안심'], ['안심되'], ['안심하'], ['안전'], ['안전하'], ['안정'], ['안정되'], ['애인'], ['애정'], ['약속'], ['약속하'], ['얌전하'], ['양보'], ['양보하'], ['얻'], ['엄격하'], ['에너지'], ['에티켓'], ['여신'], ['연락'], ['연락하'], ['연습'], ['연애'], ['연애하'], ['연인'], ['열심히'], ['예쁘'], ['예의'], ['온건'], ['옳'], ['완전히'], ['완화'], ['완화되'], ['완화하'], ['용서하'], ['우수'], ['우호'], ['운'], ['웃'], ['웃음'], ['원하'], ['위대하'], ['위안'], ['위엄'], ['유력'], ['유력하'], ['유연'], ['유연하'], ['유용하'], ['유쾌하'], ['유행하'], ['응하'], ['이루'], ['이해'], ['이해하'], ['익숙하'], ['인가'], ['인기'], ['인정'], ['인정하'], ['인증'], ['일관하'], ['일조하'], ['일찍'], ['입증'], ['입증되'], ['입증하'], ['자'], ['자발'], ['자비'], ['자선'], ['자세하'], ['자유'], ['자유로이'], ['잘'], ['장수'], ['재미있'], ['적극'], ['적당하'], ['적법'], ['적응'], ['적응하'], ['적절'], ['적정'], ['적정하'], ['적합하'], ['절감'], ['절감하'], ['절약하'], ['젊은'], ['젊음'], ['점검'], ['점검하'], ['정당'], ['정당하'], ['정밀'], ['정상'], ['정의'], ['정착'], ['정착되'], ['정착하'], ['정확하'], ['정확히'], ['제거하'], ['제휴'], ['제휴하'], ['조심하'], ['조언'], ['조언하'], ['조용'], ['조용히'], ['조율하'], ['조절'], ['조절하'], ['조정'], ['조정되'], ['조정하'], ['조치'], ['조치하'], ['조화'], ['존경'], ['존경하'], ['좋'], ['좋아하'], ['주어지'], ['준법'], ['준수'], ['중요'], ['중요하'], ['즐겁'], ['즐기'], ['증대'], ['증대되'], ['증명하'], ['지성'], ['지키'], ['지혜'], ['진실'], ['진심'], ['집중'], ['집중되'], ['집중하'], ['차선'], ['찬성'], ['찬성하'], ['참'], ['채우'], ['챔피언'], ['천사'], ['철저하'], ['철저히'], ['철학'], ['청결'], ['청하'], ['초월하'], ['촉진하'], ['최고'], ['최대한'], ['최상'], ['최선'], ['최적'], ['추구하'], ['추억'], ['추천'], ['추천하'], ['축적하'], ['축제'], ['축하하'], ['충분'], ['충분하'], ['충분히'], ['충성'], ['취득'], ['취득하'], ['취지'], ['취하'], ['친구'], ['친절'], ['친절하'], ['칭찬'], ['칭찬하'], ['캡'], ['크'], ['클래스'], ['키스'], ['타당'], ['탁월하'], ['탑'], ['태우'], ['통과'], ['통과되'], ['통과하'], ['통하'], ['통행'], ['특별'], ['특별하'], ['팁'], ['파티'], ['팔리'], ['편리'], ['편리하'], ['편의'], ['포인트'], ['풀'], ['품'], ['프리미엄'], ['할인'], ['할인되'], ['할인하'], ['합리'], ['합법'], ['합의'], ['합의하'], ['해제'], ['해제되'], ['해제하'], ['핵심'], ['행복'], ['행복하'], ['행진'], ['향'], ['허가'], ['허락'], ['허락하'], ['허용'], ['허용되'], ['허용하'], ['혁신'], ['협력'], ['협력하'], ['협약'], ['호위'], ['화려하'], ['확립'], ['확실하'], ['확실히'], ['확인'], ['확인되'], ['확인하'], ['환영'], ['환영하'], ['활약하'], ['횡재하'], ['후끈'], ['휴식'], ['흥겹']]\n",
      "negative :  [['가로막'], ['가로지르'], ['가리'], ['가명'], ['가시'], ['가열'], ['가열되'], ['간섭하'], ['간신히'], ['갇히'], ['감수하'], ['감시'], ['감옥'], ['감추'], ['갑자기'], ['강간'], ['강도'], ['강력'], ['강력하'], ['강요'], ['강요하'], ['강제'], ['강제하'], ['개'], ['거꾸로'], ['거부'], ['거부하'], ['거세'], ['거절'], ['거절하'], ['거짓말'], ['거칠'], ['걱정'], ['걱정거리'], ['걱정되'], ['걱정하'], ['겁'], ['격렬하'], ['격분'], ['견디'], ['견인'], ['견인차'], ['견인하'], ['견적'], ['경계'], ['경계하'], ['경고'], ['경쟁'], ['경쟁하'], ['고민'], ['고민하'], ['고발'], ['고발하'], ['고백'], ['고백하'], ['고생'], ['고생하'], ['고소'], ['고의'], ['고장'], ['고집'], ['고통'], ['곤란하'], ['공격'], ['공격하'], ['공포'], ['과다'], ['과다하'], ['과도하'], ['과시하'], ['과실'], ['과잉'], ['과장'], ['관계없'], ['관료'], ['괴롭'], ['괴롭히'], ['교도소'], ['구걸하'], ['구기'], ['구르'], ['구리'], ['구멍'], ['구속'], ['구속하'], ['구타'], ['구토'], ['구형'], ['구형하'], ['굴욕'], ['귀머거리'], ['귀찮'], ['균'], ['그늘'], ['그만두'], ['그치'], ['극성'], ['금지'], ['금지되'], ['금지하'], ['급등'], ['급사'], ['급증'], ['급증하'], ['급하'], ['기생하'], ['기소'], ['기소되'], ['기소하'], ['기웃거리'], ['기침'], ['기피'], ['기피하'], ['긴급'], ['긴장되'], ['까'], ['깨'], ['깨지'], ['꼬리'], ['꼬이'], ['꼬집'], ['꼴'], ['끊어지'], ['끌어내'], ['끼어들'], ['나쁘'], ['난색'], ['난처하'], ['난폭'], ['난해하'], ['납치'], ['낭비'], ['낭비되'], ['낭비하'], ['내뿜'], ['내시'], ['내전'], ['내쫓'], ['냄새'], ['냉담하'], ['너무'], ['너무하'], ['넘'], ['년'], ['노골'], ['노릇'], ['노예'], ['노출'], ['노출되'], ['노출하'], ['논쟁'], ['놓치'], ['누락'], ['누락되'], ['느리'], ['느슨하'], ['늦'], ['다치'], ['단정'], ['달아나'], ['담'], ['당장'], ['당황'], ['당황하'], ['대가리'], ['대포'], ['더럽'], ['덧없'], ['도망치'], ['도박'], ['도주'], ['독설'], ['독점'], ['독점하'], ['돌연'], ['돌진하'], ['동정'], ['동정하'], ['돼지'], ['되풀이'], ['되풀이되'], ['뒹굴'], ['드러나'], ['때리'], ['떠들'], ['떨'], ['떨리'], ['떨어뜨리'], ['떨어지'], ['떼'], ['뚱뚱하'], ['마'], ['마비'], ['마약'], ['마찰'], ['막'], ['막히'], ['만취'], ['만취하'], ['말다툼'], ['말장난'], ['망치'], ['맞'], ['맞서'], ['매섭'], ['맵'], ['먼지'], ['멀'], ['멋대로'], ['멍청이'], ['명백하'], ['모르'], ['모순'], ['모자라'], ['모호하'], ['목격되'], ['목격하'], ['몰아내'], ['못'], ['무겁'], ['무기'], ['무너지'], ['무력'], ['무리'], ['무리수'], ['무모'], ['무색하'], ['무섭'], ['무시하'], ['무심하'], ['무용지물'], ['무효'], ['문제'], ['물리'], ['미치'], ['미치광이'], ['민감하'], ['밀리'], ['밀집'], ['밀집되'], ['밀착'], ['밀항'], ['바위'], ['바이러스'], ['박'], ['박대'], ['박탈하'], ['반대'], ['반대하'], ['반박'], ['반발'], ['반발하'], ['반칙'], ['반항하'], ['발각'], ['발각되'], ['발뺌하'], ['밟'], ['방전되'], ['방해'], ['방해하'], ['방화'], ['방황'], ['방황하'], ['배상'], ['배상하'], ['배제하'], ['백혈병'], ['뱀'], ['뱉'], ['버리'], ['버티'], ['번거롭'], ['벌'], ['벌점'], ['범죄'], ['범죄자'], ['범퍼'], ['벼락'], ['변명'], ['변칙'], ['변형'], ['별'], ['병원'], ['보상'], ['보상하'], ['보험'], ['복잡'], ['복잡하'], ['부과'], ['부과되'], ['부과하'], ['부담'], ['부담하'], ['부당'], ['부리'], ['부메랑'], ['부상'], ['부위'], ['부인'], ['부인하'], ['부재'], ['부정'], ['부정하'], ['부족'], ['부족하'], ['부풀'], ['분개하'], ['분노'], ['분노하'], ['불'], ['불만'], ['불법'], ['불신'], ['불쌍하'], ['불안'], ['불안하'], ['불쾌하'], ['불편'], ['불편하'], ['불평하'], ['붕괴'], ['비꼬'], ['비난'], ['비난하'], ['비밀'], ['비싸'], ['비웃'], ['비참하'], ['비판'], ['비판하'], ['빈번하'], ['빗발'], ['빚'], ['빠지'], ['빼'], ['빼앗'], ['뻗'], ['뼈'], ['사각'], ['사고'], ['사기'], ['사라지'], ['사망'], ['사망하'], ['사범'], ['사법'], ['사선'], ['사치'], ['사태'], ['사형'], ['살인'], ['상'], ['상대'], ['상실'], ['상하'], ['상해'], ['새'], ['새끼'], ['새치기'], ['새치기하'], ['생계'], ['서두르'], ['서리'], ['설치'], ['섬뜩'], ['소극'], ['소동'], ['소름'], ['소리치'], ['소문'], ['소송'], ['속이'], ['손해'], ['수상하'], ['수치'], ['숨'], ['숨기'], ['스트레스'], ['슬프'], ['슬픔'], ['습격'], ['습격하'], ['시정'], ['식'], ['신경'], ['신경질'], ['신음'], ['실망'], ['실수'], ['실정'], ['실패'], ['실패하'], ['싫'], ['싫어하'], ['심하'], ['싸늘'], ['싸늘하'], ['싸우'], ['싸움'], ['썩'], ['쓰레기'], ['아슬아슬하'], ['아집'], ['아프'], ['아픔'], ['안일하'], ['암'], ['압박'], ['압박하'], ['야기'], ['야기하'], ['약점'], ['얇'], ['얕'], ['어긋나'], ['어기'], ['어둡'], ['어렵'], ['어리둥절하'], ['어리석'], ['어지럽'], ['억울하'], ['억제'], ['억제하'], ['언'], ['얼룩'], ['얽히'], ['엄청나'], ['없애'], ['엉뚱하'], ['엉터리'], ['여드름'], ['여의'], ['여파'], ['연기'], ['열대'], ['영장'], ['예외'], ['오류'], ['오만'], ['오염'], ['오해'], ['온상'], ['올가미'], ['왜곡'], ['외롭'], ['외치'], ['요구'], ['요구되'], ['요구하'], ['요금'], ['욕설'], ['욕심'], ['용의자'], ['우기'], ['우려'], ['우려되'], ['우려하'], ['우습'], ['울'], ['원인'], ['위기'], ['위로'], ['위로하'], ['위반'], ['위반되'], ['위반자'], ['위반하'], ['위배되'], ['위법'], ['위축되'], ['위험'], ['위험하'], ['위협'], ['위협하'], ['유괴'], ['유기'], ['유기하'], ['유인'], ['유인하'], ['유죄'], ['유출하'], ['유포'], ['은밀'], ['은퇴'], ['음주'], ['의심'], ['의심되'], ['의심하'], ['의존'], ['의존하'], ['이상'], ['이상하'], ['이탈'], ['이탈하'], ['인사불성'], ['인상'], ['인상되'], ['인상하'], ['인위'], ['잃'], ['입원'], ['입원하'], ['잊'], ['자르'], ['자살'], ['자포자기'], ['작'], ['잔혹'], ['잘못'], ['재생'], ['재앙'], ['저리'], ['저조하'], ['저지르'], ['저하'], ['저항'], ['적'], ['전쟁'], ['전치'], ['전혀'], ['절'], ['절단'], ['절도'], ['점령하'], ['접촉'], ['접촉하'], ['정체'], ['정체되'], ['젖'], ['제멋대로'], ['제압하'], ['제외'], ['제외되'], ['제외하'], ['조금'], ['조작'], ['조작하'], ['좁'], ['좌절'], ['좌초되'], ['죄'], ['주저'], ['주저하'], ['죽'], ['죽음'], ['죽이'], ['줄'], ['줄이'], ['중단'], ['중단되'], ['중단하'], ['중상'], ['중지하'], ['지각'], ['지각하'], ['지나치'], ['지독하'], ['지배'], ['지연되'], ['지옥'], ['지적'], ['지적되'], ['지적하'], ['지진'], ['지체'], ['지체되'], ['지치'], ['진술'], ['진술하'], ['질리'], ['질책'], ['짓'], ['징계'], ['쫓'], ['쫓아내'], ['찌푸리'], ['차갑'], ['차단'], ['차단되'], ['차단하'], ['차라리'], ['차별'], ['참'], ['책임'], ['처벌'], ['처벌되'], ['처벌하'], ['처분'], ['처분되'], ['처분하'], ['철수하'], ['체포'], ['체포하'], ['초래'], ['초래되'], ['초래하'], ['총알'], ['축소하'], ['춥'], ['충격'], ['충돌'], ['충돌하'], ['취소되'], ['취소하'], ['취하'], ['치'], ['치기'], ['치료'], ['치열하'], ['침수되'], ['침체'], ['침해'], ['침해되'], ['침해하'], ['타격'], ['타도'], ['탈수'], ['탐욕'], ['터뜨리'], ['터무니없'], ['터지'], ['텅'], ['테러'], ['토하'], ['퇴직'], ['퇴직하'], ['투쟁'], ['파괴'], ['파산'], ['파손'], ['파손되'], ['파열'], ['파장'], ['퍼붓'], ['편파'], ['폐쇄'], ['폐지'], ['폐지하'], ['포기하'], ['포르노'], ['포화'], ['폭력'], ['폭로'], ['폭로되'], ['폭발'], ['폭탄'], ['폭풍'], ['프레스'], ['피곤하'], ['필요'], ['필요하'], ['핑계'], ['하위'], ['함정'], ['항의'], ['항의하'], ['해고되'], ['해이'], ['해치'], ['허수아비'], ['허위'], ['허탕'], ['헤매'], ['호통'], ['혼돈'], ['혼란'], ['혼잡'], ['혼잡하'], ['화'], ['화나'], ['화내'], ['화약'], ['화재'], ['환각'], ['환불'], ['환불하'], ['환상'], ['환자'], ['횡포'], ['후회'], ['훔치'], ['휘'], ['휘두르'], ['흉터'], ['흐리'], ['흔적'], ['흘리'], ['흠'], ['흥청망청'], ['흩어지'], ['힘들']]\n"
     ]
    }
   ],
   "source": [
    "data_id = [line[0] for line in data]\n",
    "data_text = [line[1] for line in data]\n",
    "data_senti = [line[2] for line in data]\n",
    "\n",
    "positive = read_data('C:\\\\Users\\\\Windows\\\\Desktop\\\\대학교\\\\4학년 여름방학\\\\Big_AI\\\\자연어처리\\\\pytest\\\\positive.txt')\n",
    "negative = read_data('C:\\\\Users\\\\Windows\\\\Desktop\\\\대학교\\\\4학년 여름방학\\\\Big_AI\\\\자연어처리\\\\pytest\\\\negative.txt')\n",
    "\n",
    "print(\"positive : \", positive)\n",
    "print(\"negative : \", negative)\n",
    "\n",
    "pos_found = []\n",
    "neg_found = []"
   ]
  },
  {
   "cell_type": "markdown",
   "metadata": {
    "id": "MHLI7iVmUOA-"
   },
   "source": [
    "## 감정단어 분석"
   ]
  },
  {
   "cell_type": "code",
   "execution_count": 9,
   "metadata": {
    "colab": {
     "base_uri": "https://localhost:8080/"
    },
    "executionInfo": {
     "elapsed": 40438,
     "status": "ok",
     "timestamp": 1656634096484,
     "user": {
      "displayName": "진창호",
      "userId": "09608549926967536417"
     },
     "user_tz": -540
    },
    "id": "olEV9g4sSN4C",
    "outputId": "625cac59-793c-4fb6-e0e2-f99817c58760"
   },
   "outputs": [
    {
     "name": "stdout",
     "output_type": "stream",
     "text": [
      "data_senti_poscnt :  [5, 1, 0, 0, 2, 1, 0, 0, 0, 1, 1, 1, 0, 1, 2, 0, 1, 0, 1, 0]\n",
      "data_senti_negcnt :  [1, 0, 1, 0, 0, 0, 1, 0, 0, 0, 0, 0, 0, 0, 1, 0, 0, 1, 0, 1]\n"
     ]
    }
   ],
   "source": [
    "def cntWordInLine(data, senti):\n",
    "  senti_found = []\n",
    "  for onedata in data:\n",
    "    oneline_word = onedata.split(' ')\n",
    "    senti_temp = 0\n",
    "    for sentiword in senti:\n",
    "      if sentiword[0] in oneline_word: # 매우 매우 매우 재밌었다와 매우 재밌었다를 동일하게 보고자 함\n",
    "        senti_temp += 1\n",
    "    senti_found.append(senti_temp)\n",
    "  return senti_found\n",
    "\n",
    "data_senti_poscnt = cntWordInLine(data_text, positive)\n",
    "data_senti_negcnt = cntWordInLine(data_text, negative)\n",
    "\n",
    "print(\"data_senti_poscnt : \", data_senti_poscnt[:20])\n",
    "print(\"data_senti_negcnt : \", data_senti_negcnt[:20])"
   ]
  },
  {
   "cell_type": "markdown",
   "metadata": {
    "id": "Ea38GC_FUZu-"
   },
   "source": [
    "## 감정점수 계산"
   ]
  },
  {
   "cell_type": "code",
   "execution_count": 11,
   "metadata": {
    "id": "i4b4gakEUUro"
   },
   "outputs": [],
   "source": [
    "import pandas as pd\n",
    "\n",
    "newdata = pd.DataFrame({'id' : data_id, 'text' : data_text, 'original' : data_senti, \"pos\" : data_senti_poscnt, \"neg\" : data_senti_negcnt})\n",
    "senti_score = newdata['pos'] - newdata['neg']\n",
    "newdata['senti_score'] = senti_score\n",
    "\n",
    "newdata.loc[newdata.senti_score > 0, 'new'] = 1\n",
    "newdata.loc[newdata.senti_score <= 0, 'new'] = 0\n",
    "\n",
    "newdata.loc[pd.to_numeric(newdata.original) == newdata.new, 'matched'] = 'True'\n",
    "newdata.loc[pd.to_numeric(newdata.original) != newdata.new, 'matched'] = 'False'"
   ]
  },
  {
   "cell_type": "markdown",
   "metadata": {
    "id": "oglLPxfYUeAh"
   },
   "source": [
    "## 원점수와 비교 및 저장"
   ]
  },
  {
   "cell_type": "code",
   "execution_count": 12,
   "metadata": {
    "colab": {
     "base_uri": "https://localhost:8080/"
    },
    "executionInfo": {
     "elapsed": 782,
     "status": "ok",
     "timestamp": 1656634097205,
     "user": {
      "displayName": "진창호",
      "userId": "09608549926967536417"
     },
     "user_tz": -540
    },
    "id": "ycQ9mHcmSN-I",
    "outputId": "6fb01818-805c-4be8-924e-e4130f1835aa"
   },
   "outputs": [
    {
     "name": "stdout",
     "output_type": "stream",
     "text": [
      "62.60711989835948\n"
     ]
    }
   ],
   "source": [
    "score = newdata.matched.str.count('True').sum() / (newdata.matched.str.count('True').sum() + newdata.matched.str.count('False').sum()) * 100\n",
    "\n",
    "print(score)"
   ]
  },
  {
   "cell_type": "code",
   "execution_count": null,
   "metadata": {
    "id": "0-Q4b6ljXbAJ"
   },
   "outputs": [],
   "source": [
    "newdata.to_csv(\"newfile.csv\", sep = ',', encoding = 'cp949', index = False)\n",
    "newdata.to_csv(\"newfile2.txt\", sep = '\\t', encoding = 'cp949', index = False)"
   ]
  },
  {
   "cell_type": "markdown",
   "metadata": {
    "id": "Y7kb6NytX_dh"
   },
   "source": [
    "시그모이드 점수 계산"
   ]
  },
  {
   "cell_type": "code",
   "execution_count": null,
   "metadata": {
    "id": "AOZBqsBNYAj4"
   },
   "outputs": [],
   "source": [
    "import math\n",
    "\n",
    "def sigmoid(x):\n",
    "  return 1 / (1 + math.exp(-x))\n",
    "\n",
    "newdata['sigmoid'] = newdata.senti_score.apply(sigmoid)"
   ]
  },
  {
   "cell_type": "code",
   "execution_count": null,
   "metadata": {
    "colab": {
     "base_uri": "https://localhost:8080/",
     "height": 206
    },
    "executionInfo": {
     "elapsed": 42,
     "status": "ok",
     "timestamp": 1656634099100,
     "user": {
      "displayName": "진창호",
      "userId": "09608549926967536417"
     },
     "user_tz": -540
    },
    "id": "kEYq0mMiYlV5",
    "outputId": "52e5a23c-e81c-43f6-847f-41e0c10938ab"
   },
   "outputs": [
    {
     "data": {
      "text/html": [
       "\n",
       "  <div id=\"df-e1d63426-37cc-44ee-b984-2289428138c3\">\n",
       "    <div class=\"colab-df-container\">\n",
       "      <div>\n",
       "<style scoped>\n",
       "    .dataframe tbody tr th:only-of-type {\n",
       "        vertical-align: middle;\n",
       "    }\n",
       "\n",
       "    .dataframe tbody tr th {\n",
       "        vertical-align: top;\n",
       "    }\n",
       "\n",
       "    .dataframe thead th {\n",
       "        text-align: right;\n",
       "    }\n",
       "</style>\n",
       "<table border=\"1\" class=\"dataframe\">\n",
       "  <thead>\n",
       "    <tr style=\"text-align: right;\">\n",
       "      <th></th>\n",
       "      <th>id</th>\n",
       "      <th>text</th>\n",
       "      <th>original</th>\n",
       "      <th>pos</th>\n",
       "      <th>neg</th>\n",
       "      <th>senti_score</th>\n",
       "      <th>new</th>\n",
       "      <th>matched</th>\n",
       "      <th>sigmoid</th>\n",
       "    </tr>\n",
       "  </thead>\n",
       "  <tbody>\n",
       "    <tr>\n",
       "      <th>0</th>\n",
       "      <td>8132799</td>\n",
       "      <td>디자인 배우 학생 외국 디자이너 일구 전통 통하 발전 문화 산업 부럽 사실 우리나라...</td>\n",
       "      <td>1</td>\n",
       "      <td>5</td>\n",
       "      <td>1</td>\n",
       "      <td>4</td>\n",
       "      <td>1.0</td>\n",
       "      <td>True</td>\n",
       "      <td>0.982014</td>\n",
       "    </tr>\n",
       "    <tr>\n",
       "      <th>1</th>\n",
       "      <td>4655635</td>\n",
       "      <td>폴리스스토리 시리즈 뉴 없 최고</td>\n",
       "      <td>1</td>\n",
       "      <td>1</td>\n",
       "      <td>0</td>\n",
       "      <td>1</td>\n",
       "      <td>1.0</td>\n",
       "      <td>True</td>\n",
       "      <td>0.731059</td>\n",
       "    </tr>\n",
       "    <tr>\n",
       "      <th>2</th>\n",
       "      <td>9251303</td>\n",
       "      <td>와 연기 진짜 쩔 지루 생각하 몰입 그래 이런 진짜 영화</td>\n",
       "      <td>1</td>\n",
       "      <td>0</td>\n",
       "      <td>1</td>\n",
       "      <td>-1</td>\n",
       "      <td>0.0</td>\n",
       "      <td>False</td>\n",
       "      <td>0.268941</td>\n",
       "    </tr>\n",
       "    <tr>\n",
       "      <th>3</th>\n",
       "      <td>10067386</td>\n",
       "      <td>안개 자욱 하 밤하늘 뜨 초승달 같 영화</td>\n",
       "      <td>1</td>\n",
       "      <td>0</td>\n",
       "      <td>0</td>\n",
       "      <td>0</td>\n",
       "      <td>0.0</td>\n",
       "      <td>False</td>\n",
       "      <td>0.500000</td>\n",
       "    </tr>\n",
       "    <tr>\n",
       "      <th>4</th>\n",
       "      <td>2190435</td>\n",
       "      <td>사랑 해보 사람 처음 끝 웃 있 영화</td>\n",
       "      <td>1</td>\n",
       "      <td>2</td>\n",
       "      <td>0</td>\n",
       "      <td>2</td>\n",
       "      <td>1.0</td>\n",
       "      <td>True</td>\n",
       "      <td>0.880797</td>\n",
       "    </tr>\n",
       "  </tbody>\n",
       "</table>\n",
       "</div>\n",
       "      <button class=\"colab-df-convert\" onclick=\"convertToInteractive('df-e1d63426-37cc-44ee-b984-2289428138c3')\"\n",
       "              title=\"Convert this dataframe to an interactive table.\"\n",
       "              style=\"display:none;\">\n",
       "        \n",
       "  <svg xmlns=\"http://www.w3.org/2000/svg\" height=\"24px\"viewBox=\"0 0 24 24\"\n",
       "       width=\"24px\">\n",
       "    <path d=\"M0 0h24v24H0V0z\" fill=\"none\"/>\n",
       "    <path d=\"M18.56 5.44l.94 2.06.94-2.06 2.06-.94-2.06-.94-.94-2.06-.94 2.06-2.06.94zm-11 1L8.5 8.5l.94-2.06 2.06-.94-2.06-.94L8.5 2.5l-.94 2.06-2.06.94zm10 10l.94 2.06.94-2.06 2.06-.94-2.06-.94-.94-2.06-.94 2.06-2.06.94z\"/><path d=\"M17.41 7.96l-1.37-1.37c-.4-.4-.92-.59-1.43-.59-.52 0-1.04.2-1.43.59L10.3 9.45l-7.72 7.72c-.78.78-.78 2.05 0 2.83L4 21.41c.39.39.9.59 1.41.59.51 0 1.02-.2 1.41-.59l7.78-7.78 2.81-2.81c.8-.78.8-2.07 0-2.86zM5.41 20L4 18.59l7.72-7.72 1.47 1.35L5.41 20z\"/>\n",
       "  </svg>\n",
       "      </button>\n",
       "      \n",
       "  <style>\n",
       "    .colab-df-container {\n",
       "      display:flex;\n",
       "      flex-wrap:wrap;\n",
       "      gap: 12px;\n",
       "    }\n",
       "\n",
       "    .colab-df-convert {\n",
       "      background-color: #E8F0FE;\n",
       "      border: none;\n",
       "      border-radius: 50%;\n",
       "      cursor: pointer;\n",
       "      display: none;\n",
       "      fill: #1967D2;\n",
       "      height: 32px;\n",
       "      padding: 0 0 0 0;\n",
       "      width: 32px;\n",
       "    }\n",
       "\n",
       "    .colab-df-convert:hover {\n",
       "      background-color: #E2EBFA;\n",
       "      box-shadow: 0px 1px 2px rgba(60, 64, 67, 0.3), 0px 1px 3px 1px rgba(60, 64, 67, 0.15);\n",
       "      fill: #174EA6;\n",
       "    }\n",
       "\n",
       "    [theme=dark] .colab-df-convert {\n",
       "      background-color: #3B4455;\n",
       "      fill: #D2E3FC;\n",
       "    }\n",
       "\n",
       "    [theme=dark] .colab-df-convert:hover {\n",
       "      background-color: #434B5C;\n",
       "      box-shadow: 0px 1px 3px 1px rgba(0, 0, 0, 0.15);\n",
       "      filter: drop-shadow(0px 1px 2px rgba(0, 0, 0, 0.3));\n",
       "      fill: #FFFFFF;\n",
       "    }\n",
       "  </style>\n",
       "\n",
       "      <script>\n",
       "        const buttonEl =\n",
       "          document.querySelector('#df-e1d63426-37cc-44ee-b984-2289428138c3 button.colab-df-convert');\n",
       "        buttonEl.style.display =\n",
       "          google.colab.kernel.accessAllowed ? 'block' : 'none';\n",
       "\n",
       "        async function convertToInteractive(key) {\n",
       "          const element = document.querySelector('#df-e1d63426-37cc-44ee-b984-2289428138c3');\n",
       "          const dataTable =\n",
       "            await google.colab.kernel.invokeFunction('convertToInteractive',\n",
       "                                                     [key], {});\n",
       "          if (!dataTable) return;\n",
       "\n",
       "          const docLinkHtml = 'Like what you see? Visit the ' +\n",
       "            '<a target=\"_blank\" href=https://colab.research.google.com/notebooks/data_table.ipynb>data table notebook</a>'\n",
       "            + ' to learn more about interactive tables.';\n",
       "          element.innerHTML = '';\n",
       "          dataTable['output_type'] = 'display_data';\n",
       "          await google.colab.output.renderOutput(dataTable, element);\n",
       "          const docLink = document.createElement('div');\n",
       "          docLink.innerHTML = docLinkHtml;\n",
       "          element.appendChild(docLink);\n",
       "        }\n",
       "      </script>\n",
       "    </div>\n",
       "  </div>\n",
       "  "
      ],
      "text/plain": [
       "         id                                               text original  pos  \\\n",
       "0   8132799  디자인 배우 학생 외국 디자이너 일구 전통 통하 발전 문화 산업 부럽 사실 우리나라...        1    5   \n",
       "1   4655635                                  폴리스스토리 시리즈 뉴 없 최고        1    1   \n",
       "2   9251303                    와 연기 진짜 쩔 지루 생각하 몰입 그래 이런 진짜 영화        1    0   \n",
       "3  10067386                             안개 자욱 하 밤하늘 뜨 초승달 같 영화        1    0   \n",
       "4   2190435                               사랑 해보 사람 처음 끝 웃 있 영화        1    2   \n",
       "\n",
       "   neg  senti_score  new matched   sigmoid  \n",
       "0    1            4  1.0    True  0.982014  \n",
       "1    0            1  1.0    True  0.731059  \n",
       "2    1           -1  0.0   False  0.268941  \n",
       "3    0            0  0.0   False  0.500000  \n",
       "4    0            2  1.0    True  0.880797  "
      ]
     },
     "execution_count": 15,
     "metadata": {},
     "output_type": "execute_result"
    }
   ],
   "source": [
    "newdata.head()"
   ]
  },
  {
   "cell_type": "markdown",
   "metadata": {
    "id": "QLI81n4pZ55w"
   },
   "source": [
    "# 감성분석 - 머신러닝"
   ]
  },
  {
   "cell_type": "code",
   "execution_count": null,
   "metadata": {
    "colab": {
     "base_uri": "https://localhost:8080/"
    },
    "executionInfo": {
     "elapsed": 9286,
     "status": "ok",
     "timestamp": 1656634108357,
     "user": {
      "displayName": "진창호",
      "userId": "09608549926967536417"
     },
     "user_tz": -540
    },
    "id": "AxBupCjvad8J",
    "outputId": "724ea97b-ef70-4a8e-8ac8-2cc99f4357f4"
   },
   "outputs": [
    {
     "name": "stdout",
     "output_type": "stream",
     "text": [
      "\r",
      "0% [Working]\r",
      "            \r",
      "Hit:1 https://cloud.r-project.org/bin/linux/ubuntu bionic-cran40/ InRelease\n",
      "Hit:2 https://developer.download.nvidia.com/compute/cuda/repos/ubuntu1804/x86_64  InRelease\n",
      "Hit:3 http://archive.ubuntu.com/ubuntu bionic InRelease\n",
      "Hit:4 http://ppa.launchpad.net/c2d4u.team/c2d4u4.0+/ubuntu bionic InRelease\n",
      "Hit:5 http://security.ubuntu.com/ubuntu bionic-security InRelease\n",
      "Ign:6 https://developer.download.nvidia.com/compute/machine-learning/repos/ubuntu1804/x86_64  InRelease\n",
      "Hit:7 https://developer.download.nvidia.com/compute/machine-learning/repos/ubuntu1804/x86_64  Release\n",
      "Hit:8 http://archive.ubuntu.com/ubuntu bionic-updates InRelease\n",
      "Hit:9 http://archive.ubuntu.com/ubuntu bionic-backports InRelease\n",
      "Hit:10 http://ppa.launchpad.net/cran/libgit2/ubuntu bionic InRelease\n",
      "Hit:12 http://ppa.launchpad.net/deadsnakes/ppa/ubuntu bionic InRelease\n",
      "Hit:13 http://ppa.launchpad.net/graphics-drivers/ppa/ubuntu bionic InRelease\n",
      "Reading package lists... Done\n",
      "Reading package lists... Done\n",
      "Building dependency tree       \n",
      "Reading state information... Done\n",
      "E: Unable to locate package openjdk-8\n",
      "Looking in indexes: https://pypi.org/simple, https://us-python.pkg.dev/colab-wheels/public/simple/\n",
      "Requirement already satisfied: JPype1 in /usr/local/lib/python3.7/dist-packages (1.4.0)\n",
      "Requirement already satisfied: typing-extensions in /usr/local/lib/python3.7/dist-packages (from JPype1) (4.1.1)\n",
      "Looking in indexes: https://pypi.org/simple, https://us-python.pkg.dev/colab-wheels/public/simple/\n",
      "Requirement already satisfied: rhinoMorph in /usr/local/lib/python3.7/dist-packages (4.0.0.2)\n"
     ]
    }
   ],
   "source": [
    "!apt-get update\n",
    "!apt-get install g++ openjdk-8-\n",
    "!pip install JPype1\n",
    "!pip install rhinoMorph"
   ]
  },
  {
   "cell_type": "code",
   "execution_count": null,
   "metadata": {
    "colab": {
     "base_uri": "https://localhost:8080/"
    },
    "executionInfo": {
     "elapsed": 3975,
     "status": "ok",
     "timestamp": 1656634112285,
     "user": {
      "displayName": "진창호",
      "userId": "09608549926967536417"
     },
     "user_tz": -540
    },
    "id": "KueQIv-EaB3g",
    "outputId": "719a889a-c5e3-46a1-b441-6915d8bc0e67"
   },
   "outputs": [
    {
     "name": "stdout",
     "output_type": "stream",
     "text": [
      "Drive already mounted at /content/gdrive; to attempt to forcibly remount, call drive.mount(\"/content/gdrive\", force_remount=True).\n"
     ]
    }
   ],
   "source": [
    "from google.colab import drive\n",
    "\n",
    "drive.mount(\"/content/gdrive\")"
   ]
  },
  {
   "cell_type": "code",
   "execution_count": null,
   "metadata": {
    "colab": {
     "base_uri": "https://localhost:8080/"
    },
    "executionInfo": {
     "elapsed": 2958,
     "status": "ok",
     "timestamp": 1656634115226,
     "user": {
      "displayName": "진창호",
      "userId": "09608549926967536417"
     },
     "user_tz": -540
    },
    "id": "fw2DDhYZaCM_",
    "outputId": "2ad74b12-4d97-45c9-c4d4-1bc231998fc8"
   },
   "outputs": [
    {
     "name": "stdout",
     "output_type": "stream",
     "text": [
      "Reading package lists... Done\n",
      "Building dependency tree       \n",
      "Reading state information... Done\n",
      "fonts-nanum is already the newest version (20170925-1).\n",
      "The following package was automatically installed and is no longer required:\n",
      "  libnvidia-common-460\n",
      "Use 'apt autoremove' to remove it.\n",
      "0 upgraded, 0 newly installed, 0 to remove and 49 not upgraded.\n"
     ]
    }
   ],
   "source": [
    "import matplotlib as mpl\n",
    "import matplotlib.pyplot as plt\n",
    "\n",
    "%config InlineBackend.figure_format = \"retina\"\n",
    "!apt install fonts-nanum\n",
    "\n",
    "import matplotlib.font_manager as fm\n",
    "fontpath = \"/usr/share/fonts/truetype/nanum/NanumMyeongjo.ttf\"\n",
    "font = fm.FontProperties(fname = fontpath, size = 9)\n",
    "\n",
    "import matplotlib as mpl\n",
    "mpl.font_manager._rebuild()\n",
    "mpl.pyplot.rc('font', family=\"NanumMyeongjo\")"
   ]
  },
  {
   "cell_type": "code",
   "execution_count": null,
   "metadata": {
    "colab": {
     "base_uri": "https://localhost:8080/"
    },
    "executionInfo": {
     "elapsed": 1191,
     "status": "ok",
     "timestamp": 1656634116348,
     "user": {
      "displayName": "진창호",
      "userId": "09608549926967536417"
     },
     "user_tz": -540
    },
    "id": "A2V_UoEdabEw",
    "outputId": "03ad6dea-3606-4f3a-feb0-db10ad6c13a3"
   },
   "outputs": [
    {
     "name": "stdout",
     "output_type": "stream",
     "text": [
      "197559\n",
      "3\n",
      "['8132799', '디자인 배우 학생 외국 디자이너 일구 전통 통하 발전 문화 산업 부럽 사실 우리나라 그 어렵 시절 끝 열정 지키 노라노 같 전통 있 같 사람 꿈 꾸 이루 나가 있 감사', '1']\n"
     ]
    }
   ],
   "source": [
    "def read_data(filename, encoding = \"cp949\"):\n",
    "  with open(filename, \"r\", encoding = encoding) as f:\n",
    "    data = [line.split('\\t') for line in f.read().splitlines()]\n",
    "    data = data[1:]\n",
    "  return data\n",
    "\n",
    "def write_data(data, filename, encoding = \"cp949\"):\n",
    "  with open(filename, \"w\", encoding = encoding) as f:\n",
    "    f.write(data)\n",
    "\n",
    "data = read_data('ratings_morphed.txt', encoding = 'cp949')\n",
    "print(len(data))\n",
    "print(len(data[0]))\n",
    "print(data[0])"
   ]
  },
  {
   "cell_type": "markdown",
   "metadata": {
    "id": "Rp_E2Tv42Co9"
   },
   "source": [
    "## 훈련데이터와 테스트데이터 분리"
   ]
  },
  {
   "cell_type": "code",
   "execution_count": null,
   "metadata": {
    "colab": {
     "base_uri": "https://localhost:8080/"
    },
    "executionInfo": {
     "elapsed": 39,
     "status": "ok",
     "timestamp": 1656634116351,
     "user": {
      "displayName": "진창호",
      "userId": "09608549926967536417"
     },
     "user_tz": -540
    },
    "id": "9DNmRDnqcaxv",
    "outputId": "a9400d28-8a04-47e9-f26e-760099ac7883"
   },
   "outputs": [
    {
     "name": "stdout",
     "output_type": "stream",
     "text": [
      "train_data_senti_freq :  Counter({'1': 74115, '0': 74054})\n",
      "test_data_senti_freq :  Counter({'1': 24705, '0': 24685})\n"
     ]
    }
   ],
   "source": [
    "data_text = [line[1] for line in data]\n",
    "data_senti = [line[2] for line in data]\n",
    "\n",
    "from sklearn.model_selection import train_test_split # sklearn은 7.5, 2.5 train_size나 test_size로 조절 가능 \n",
    "train_data_text, test_data_text, train_data_senti, test_data_senti = train_test_split(data_text, data_senti, stratify = data_senti) # 독립 : text, 종속 : senti, 층화추출(train_data label이랑 test_data label이랑 비율이 동일하게 나옴) 사용\n",
    "\n",
    "from collections import Counter\n",
    "train_data_senti_freq = Counter(train_data_senti)\n",
    "print(\"train_data_senti_freq : \", train_data_senti_freq)\n",
    "\n",
    "test_data_senti_freq = Counter(test_data_senti)\n",
    "print(\"test_data_senti_freq : \", test_data_senti_freq)"
   ]
  },
  {
   "cell_type": "markdown",
   "metadata": {
    "id": "cUvqw1UL2GMk"
   },
   "source": [
    "## 행렬 형태로 변환"
   ]
  },
  {
   "cell_type": "code",
   "execution_count": null,
   "metadata": {
    "colab": {
     "base_uri": "https://localhost:8080/"
    },
    "executionInfo": {
     "elapsed": 2594,
     "status": "ok",
     "timestamp": 1656634118927,
     "user": {
      "displayName": "진창호",
      "userId": "09608549926967536417"
     },
     "user_tz": -540
    },
    "id": "3k_dCylQeIOG",
    "outputId": "80e119a5-855d-456b-f94a-4b925e677135"
   },
   "outputs": [
    {
     "name": "stdout",
     "output_type": "stream",
     "text": [
      "X_train : \n",
      " <148169x11710 sparse matrix of type '<class 'numpy.int64'>'\n",
      "\twith 826993 stored elements in Compressed Sparse Row format>\n"
     ]
    }
   ],
   "source": [
    "from sklearn.feature_extraction.text import CountVectorizer\n",
    "vect = CountVectorizer(min_df = 5).fit(train_data_text) # 최소 빈도 5이상의 단어만 대상 (vect는 .pickle로 저장가능)\n",
    "X_train = vect.transform(train_data_text)\n",
    "print(\"X_train : \\n\", repr(X_train))"
   ]
  },
  {
   "cell_type": "code",
   "execution_count": null,
   "metadata": {
    "colab": {
     "base_uri": "https://localhost:8080/"
    },
    "executionInfo": {
     "elapsed": 104,
     "status": "ok",
     "timestamp": 1656634118932,
     "user": {
      "displayName": "진창호",
      "userId": "09608549926967536417"
     },
     "user_tz": -540
    },
    "id": "mzSIzPlcxnOU",
    "outputId": "9884558a-6beb-4ab6-f105-7842ae9ea20d"
   },
   "outputs": [
    {
     "name": "stdout",
     "output_type": "stream",
     "text": [
      "특성 개수 : \n",
      " 11710\n",
      "처음 20개 특성 : \n",
      " ['10점', '1빠', 'cgv', 'ebs', 'jtbc', 'kbs', 'la', 'mb', 'mbc', 'naver', 'new', 'ok', 'sbs', 'sns', 'tv', 'usb', 'ㄱㅅ', 'ㄴㄴ', 'ㄷㄷ', 'ㅂㄷㅂㄷ']\n",
      "3000~5000까지의 특성 : \n",
      " ['리더십', '리드', '리들리', '리듬', '리리', '리마', '리메이크', '리모컨', '리모콘', '리버', '리뷰', '리브', '리브스', '리비', '리사', '리스', '리스트', '리슨', '리안', '리암', '리언', '리얼', '리얼리즘', '리얼리티', '리오', '리즈', '리차드', '리처드', '리치', '리콜', '리키', '리턴', '리틀', '리포터', '리포트', '리플', '리플리', '리허설', '린다', '린이', '린제이', '린지', '린치', '릴리', '링컨', '링크', '마가', '마가렛', '마감', '마고', '마구', '마구잡이', '마귀', '마나', '마냥', '마네', '마네킹', '마녀', '마녀사냥', '마누라', '마니아', '마담', '마당', '마더', '마돈나', '마동석', '마디', '마땅', '마라도나', '마라톤', '마력', '마련', '마루', '마르', '마른', '마리', '마리아', '마리오', '마리옹', '마린', '마마', '마모루', '마무리', '마미', '마법', '마법사', '마보', '마블', '마비', '마사', '마사미', '마샬', '마성', '마수리', '마술', '마술사', '마스', '마스크', '마스터', '마시', '마실', '마약', '마왕', '마우스', '마을', '마음', '마음껏', '마음대로', '마음속', '마음씨', '마의', '마이', '마이너', '마이너리티', '마이너스', '마이애미', '마이어스', '마이크', '마이클', '마인', '마인드', '마일리지', '마저', '마주', '마주치', '마주하', '마중', '마지', '마지막', '마직', '마징가', '마찬가지', '마초', '마츠다', '마츠야마', '마치', '마침', '마침내', '마케팅', '마코토', '마크', '마키', '마타', '마트', '마티', '마틴', '마틸다', '마피아', '마하', '막가', '막가파', '막걸리', '막내', '막대', '막돼먹', '막되', '막론', '막막', '막말', '막무가내', '막바지', '막상', '막스', '막연', '막연히', '막이', '막장', '막지', '막판', '막히', '만가', '만개', '만고', '만그', '만끽', '만나', '만날', '만남', '만내', '만년', '만능', '만담', '만들', '만듦새', '만땅', '만만', '만명', '만발', '만보', '만사', '만세', '만약', '만점', '만족', '만족감', '만지', '만찬', '만하', '만해', '만행', '만화', '만화가', '만화영화', '만화책', '만회', '많이', '말기', '말길', '말년', '말로', '말론', '말리', '말미', '말살', '말세', '말씀', '말아먹', '말없이', '말입', '말자', '말장난', '말종', '말초신경', '말코비치', '말타', '말투', '말하', '말하기', '말해', '맘껏', '맘대로', '맘마', '맘마미아', '맘속', '맙소사', '맛깔', '맛나', '맛보', '맛보기', '맛없', '맛있', '맛집', '망가', '망가뜨리', '망가지', '망각', '망상', '망설이', '망설임', '망신', '망인', '망조', '망처', '망쳐놓', '망치', '망하', '맞대', '맞먹', '맞물리', '맞서', '맞아떨어지', '맞이', '맞추', '맞춤', '맡기', '매개체', '매국노', '매기', '매끄럽', '매너', '매너리즘', '매년', '매니아', '매달', '매달리', '매도', '매드', '매들린', '매력', '매력적', '매료', '매매', '매미', '매번', '매수', '매염방', '매우', '매일', '매일매일', '매장', '매주', '매직', '매진', '매체', '매춘부', '매치', '매튜', '매트릭스', '매한가지', '매혹', '매혹적', '매회', '맥과이어', '맥그리거', '맥라이언', '맥락', '맥빠지', '맥스', '맥아', '맥아더', '맥없', '맥이', '맥주', '맥퀸', '맥클레인', '맨날', '맨들', '맨디', '맨몸', '맨발', '맨손', '맨인블랙', '맨홀', '맴돌', '맴버', '맹글', '맹목적', '맹물', '맹인', '맹탕', '맺히', '머금', '머나멀', '머니', '머드', '머레이', '머리', '머리카락', '머리털', '머리통', '머릿속', '머물', '머신', '머이', '머저리', '머피', '먹고살', '먹먹', '먹방', '먹음직', '먹이', '먹칠', '먹히', '먼데', '먼저', '먼지', '멀더', '멀리', '멀리서', '멀미', '멀쩡', '멀쩡히', '멀티', '멈추', '멋대로', '멋모르', '멋있', '멋지', '멍멍이', '멍청', '멍청이', '멍하', '멍하니', '메가', '메가박스', '메가폰', '메기', '메니', '메디컬', '메롱', '메르스', '메리', '메릴', '메마르', '메멘토', '메모리', '메세지', '메소드', '메스껍', '메시지', '메어', '메오', '메우', '메이', '메이드', '메이슨', '메이저', '메이크업', '메이킹', '메이트', '메인', '메일', '메카', '메카닉', '메타', '메타포', '멕시코', '멘스', '멘탈', '멘트', '멜라니', '멜로', '멜로드라마', '멜로디', '멜로물', '멤버', '며느리', '며칠', '면도', '면모', '면상', '면하', '멸망', '멸종', '명감독', '명계남', '명곡', '명과', '명관', '명대사', '명도', '명랑', '명량', '명료', '명목', '명배우', '명백', '명복', '명분', '명색', '명성', '명심', '명언', '명에', '명연', '명연기', '명예', '명예훼손', '명인', '명작', '명장', '명장면', '명절', '명치', '명칭', '명쾌', '명탐정', '명품', '명함', '명화', '명화극장', '명확', '명확히', '몇몇', '몇일', '모가지', '모건', '모기', '모녀', '모니', '모니카', '모니터', '모던', '모델', '모독', '모독이', '모두', '모드', '모든', '모라', '모래', '모래시계', '모레', '모로', '모르', '모리', '모방', '모범', '모범적', '모성', '모성애', '모세', '모셔', '모션', '모순', '모스', '모습', '모시', '모야', '모양', '모양새', '모어', '모에', '모욕', '모욕감', '모욕적', '모으', '모음집', '모이', '모임', '모자', '모자라', '모자람', '모자르', '모자이크', '모조리', '모지', '모짜르트', '모차르트', '모처럼', '모태', '모텔', '모토', '모티브', '모험', '모호', '모히칸', '목걸이', '목격', '목록', '목마르', '목사', '목소리', '목숨', '목요일', '목욕', '목적', '목표', '몬스터', '몰두', '몰라보', '몰락', '몰래', '몰려오', '몰르', '몰리', '몰살', '몰상식', '몰아', '몰아가', '몰아넣', '몰아주', '몰아치', '몰이', '몰입', '몰입감', '몰입도', '몰카', '몸매', '몸부림', '몸소', '몸짓', '몸파', '몹시', '못나', '못난이', '못내', '못되', '못살', '못생기', '못쓰', '못지않', '못하', '몽골', '몽둥이', '몽땅', '몽롱', '몽상', '몽상가', '몽정기', '몽키', '몽환', '몽환적', '묘미', '묘사', '묘하', '무간', '무감각', '무개', '무겁', '무게', '무게감', '무고', '무공', '무관', '무관심', '무교', '무기', '무기력', '무난', '무너뜨리', '무너지', '무녀', '무뇌아', '무능', '무능력', '무늬', '무당', '무대', '무덤', '무덤덤', '무덥', '무도', '무디', '무뚝뚝', '무라', '무라카미', '무려', '무력', '무례', '무료', '무르', '무릎', '무릎팍', '무리', '무리수', '무림', '무명', '무모', '무미', '무미건조', '무방', '무법자', '무분별', '무비', '무사', '무산', '무상', '무색', '무서', '무서움', '무서워하', '무섭', '무성', '무성영화', '무성의', '무술', '무술인', '무스', '무슨', '무시', '무시무시', '무식', '무심', '무심코', '무안', '무언', '무얼', '무엇', '무용', '무의미', '무의식', '무이', '무인', '무인도', '무자', '무자비', '무자식', '무작정', '무장', '무적', '무전', '무정', '무조', '무조건', '무조건적', '무죄', '무지', '무지개', '무지막지', '무지무지', '무진', '무진장', '무찌르', '무차별', '무차별적', '무참히', '무책임', '무척', '무턱대고', '무표정', '무한', '무한대', '무협', '무협물', '무협지', '묵묵히', '묵시록', '묵직', '묶이', '문구', '문근영', '문득', '문득문득', '문란', '문명', '문법', '문성근', '문소리', '문어', '문외한', '문자', '문장', '문정희', '문제', '문제없', '문제의식', '문제작', '문제점', '문제지', '문채원', '문학', '문학관', '문학적', '문화', '문화적', '묻어나', '묻히', '물건', '물결', '물고기', '물들', '물량', '물려주', '물론', '물리', '물리치', '물보', '물속', '물씬', '물어내', '물어보', '물음', '물음표', '물의', '물질', '물질적', '물체', '물타기', '뭉개', '뭉치', '뭉클', '뭍히', '뭐야', '뭐어', '뭣하', '뮤비', '뮤지션', '뮤지컬', '뮤직', '뮤직비디오', '뮬란', '미가', '미개', '미국', '미국인', '미국판', '미군', '미끼', '미나', '미남', '미녀', '미니', '미달', '미덕', '미도', '미드', '미들', '미디어', '미라', '미란', '미란다', '미래', '미련', '미로', '미루', '미리', '미만', '미모', '미묘', '미미', '미사', '미사일', '미생', '미성년자', '미성숙', '미세', '미세스', '미셀', '미션', '미션임파서블', '미셸', '미소', '미소녀', '미숙', '미술', '미술관', '미쉘', '미스', '미스터', '미스터리', '미스테리', '미신', '미쓰', '미아', '미안', '미야자키', '미약', '미어', '미어지', '미에', '미완성', '미움', '미워하', '미이라', '미인', '미자', '미장센', '미쟝센', '미적지근', '미제', '미지', '미지근', '미진', '미처', '미쳐', '미취학', '미치', '미치광이', '미친년', '미친놈', '미켈슨', '미키', '미필', '미학', '미학적', '미혼', '미혼모', '미화', '미흡', '믹스', '민간인', '민감', '민경채', '민국', '민들레', '민망', '민비', '민세연', '민아', '민영화', '민이', '민정', '민족', '민주', '민주주의', '민주화', '민중', '민폐', '민하', '민호', '믿기', '믿음', '밀당', '밀도', '밀라', '밀러', '밀레니엄', '밀려오', '밀리', '밀양', '밀어내', '밀어붙이', '밀어주', '밀폐', '밉상', '밋밋', '밍밍', '밑바닥', '바가지', '바꾸', '바꾸기', '바꿔주', '바뀌', '바네사', '바늘', '바니', '바닐라', '바다', '바닥', '바닷가', '바닷속', '바둑', '바디', '바라', '바라보', '바라지', '바람', '바람나', '바람둥이', '바람직', '바래', '바램', '바로', '바르', '바르뎀', '바리', '바바라', '바바리', '바보', '바비', '바쁘', '바스코', '바위', '바이', '바이러스', '바이블', '바이오', '바이올린', '바인', '바지', '바치', '바퀴벌레', '바탕', '바티스타', '바티칸', '바흐', '박건', '박근형', '박근혜', '박기웅', '박력', '박명수', '박물관', '박민영', '박민우', '박보영', '박사', '박살', '박상민', '박상원', '박선영', '박성웅', '박세영', '박수', '박스', '박스오피스', '박시환', '박신혜', '박영규', '박예진', '박용우', '박용하', '박유천', '박은혜', '박의', '박자', '박장대소', '박재범', '박재정', '박정민', '박정희', '박준규', '박준형', '박중훈', '박쥐', '박지성', '박지윤', '박진감', '박진영', '박진희', '박차', '박찬욱', '박철민', '박철수', '박평식', '박하', '박한', '박해일', '박해진', '박현지', '박형식', '박희순', '박히', '반감', '반갑', '반격', '반공', '반납', '반담', '반대', '반대편', '반대하', '반데라스', '반도', '반드시', '반디', '반란', '반려', '반말', '반면', '반반', '반복', '반사', '반성', '반성하', '반성해', '반세기', '반열', '반영', '반영한', '반올림', '반응', '반의', '반장', '반전', '반절', '반점', '반죽', '반지', '반짝', '반짝반짝', '반짝이', '반쪽', '반찬', '반칙', '반하', '반할', '반함', '반항', '반환', '받아들이', '받치', '발가락', '발견', '발광', '발굴', '발기', '발끝', '발단', '발달', '발동', '발라', '발랄', '발레', '발로', '발리', '발매', '발목', '발버둥', '발사', '발산', '발상', '발생', '발성', '발시', '발악', '발암', '발암물질', '발언', '발음', '발자국', '발작', '발전', '발정', '발차기', '발칙', '발톱', '발판', '발표', '발하', '발해', '발현', '발휘', '밝히', '밤새', '밥맛', '밥상', '방가', '방관', '방구', '방귀', '방금', '방금보', '방대', '방도', '방문', '방법', '방사능', '방송', '방송국', '방송사', '방송인', '방식', '방심', '방어', '방언', '방영', '방영하', '방영한', '방영해', '방울', '방이', '방자', '방주', '방지', '방청객', '방치', '방콕', '방하', '방학', '방해', '방향', '방화', '방황', '배가', '배경', '배경음악', '배경지식', '배고프', '배급', '배급사', '배기', '배꼽', '배달', '배달부', '배두나', '배드', '배려', '배리', '배배', '배부르', '배설', '배설물', '배속', '배신', '배신감', '배신자', '배아', '배역', '배역도', '배용준', '배우', '배우자', '배우중', '배우진', '배제', '배제하', '배제한', '배종옥', '배짱', '배창호', '배출', '배치', '배타', '배터리', '배트', '배트맨', '배틀', '배포', '배합', '백동수', '백미', '백발', '백배', '백번', '백설공주', '백성', '백성현', '백수', '백야', '백윤식', '백인', '백인우', '백제', '백조', '백진희', '백치미', '백터', '백투더', '밴드', '밸런스', '뱀파이어', '뱃속', '뱅뱅', '뱅크', '버거', '버겁', '버그', '버금가', '버드', '버디', '버러지', '버릇', '버리', '버림받', '버마', '버무리', '버블', '버스', '버전', '버젓이', '버지니아', '버킷', '버터', '버트', '버튼', '버틀러', '버티', '버프', '버호벤', '벅스', '벅차', '벅차오르', '번개', '번뜩이', '번역', '번외', '번지', '번지르르', '번쩍', '번하', '번호', '벌레', '벌리', '벌벌', '벌써', '벌어', '벌어지', '벌이', '범람', '범벅', '범수', '범위', '범인', '범죄', '범죄자', '범주', '범하', '법인', '법적', '법정', '법칙', '벗기', '벗어나', '벙어리', '벙커', '베끼', '베끼기', '베네딕트', '베니스', '베닝', '베드', '베드신', '베를린', '베리', '베리굿', '베송', '베스트', '베스트극장', '베스트셀러', '베아', '베어', '베이', '베이더', '베이비', '베이스', '베이커', '베이컨', '베인', '베일', '베테랑', '베토벤', '베트남', '베트남전', '베트남전쟁', '베틀', '베티', '벡터', '벤자민', '벤츠', '벤틀리', '벤허', '벨라', '벽돌', '변강쇠', '변경', '변기', '변덕', '변명', '변신', '변요한', '변주', '변질', '변태', '변태영', '변태적', '변하', '변한', '변함없', '변형', '변호', '변호사', '변호인', '변화', '변환', '별개', '별거', '별것', '별관', '별다르', '별도', '별로', '별론', '별명', '별반', '별볼일', '별생각', '별은', '별이', '별점', '병기', '병동', '병들', '병력', '병사', '병원', '병장', '병풍', '병헌', '보가트', '보고', '보고서', '보그', '보급', '보기', '보내', '보내기', '보너스', '보도', '보드', '보듬', '보디가드', '보라', '보람', '보리', '보물', '보복', '보살', '보살피', '보상', '보석', '보성', '보수', '보수적', '보스', '보신', '보심', '보아하니', '보안관', '보여주', '보완', '보이', '보이스', '보인', '보일', '보잘것', '보장', '보정', '보존', '보지', '보충', '보컬', '보태', '보통', '보통이', '보트', '보편적', '보합', '보호', '복고', '복구', '복귀', '복도', '복사', '복선', '복수', '복수심', '복수초', '복습', '복싱', '복원', '복잡', '복장', '복제', '복지', '복합적', '본거', '본거지', '본건', '본격', '본격적', '본기', '본능', '본능적', '본드', '본래', '본받', '본방', '본보기', '본분', '본사', '본성', '본시', '본업', '본연', '본영', '본의', '본인', '본전', '본질', '본질적', '본토', '본편', '볼거리', '볼륨', '볼만하', '볼일', '볼타', '볼트', '볼품없', '봄여름', '봉사', '봉원', '봉인', '봉준호', '봉태', '봉하', '봐주', '부각', '부기', '부끄러움', '부끄럽', '부녀', '부다페스트', '부담', '부당', '부대', '부대원', '부도', '부드럽', '부들부들', '부디', '부딪치', '부러', '부러움', '부러지', '부럽', '부류', '부르', '부르기', '부르스', '부릅뜨', '부릉부릉', '부리', '부모', '부부', '부분', '부산', '부상', '부서지', '부성애', '부세미', '부셔', '부수', '부술', '부스', '부시', '부시맨', '부실', '부여', '부유', '부의', '부인', '부자', '부자연', '부자지간', '부작', '부작용', '부잣집', '부장', '부재', '부적절', '부정', '부정적', '부제', '부조리', '부조화', '부족', '부진', '부질없', '부처', '부천', '부추기', '부치', '부탁', '부트', '부패', '부풀', '부풀리', '부하', '부활', '북괴', '북극', '북두', '북받치', '북유럽', '북한', '북한군', '북한인', '분간', '분노', '분단', '분량', '분류', '분리', '분리수거', '분만', '분명', '분명히', '분발', '분별', '분석', '분신', '분야', '분열', '분위', '분위기', '분임', '분장', '분전', '분출', '분투', '분하', '분한', '불가', '불가능', '불가사의', '불감증', '불공평', '불과', '불교', '불구', '불꽃', '불꽃놀이', '불량', '불러대', '불러오', '불러일으키', '불륜', '불리', '불리우', '불만', '불만족', '불면', '불면증', '불멸', '불명', '불명확', '불문', '불법', '불복', '불분명', '불사', '불사신', '불사조', '불신', '불쌍', '불안', '불안감', '불안정', '불완전', '불우', '불운', '불의', '불치병', '불친절', '불쾌', '불쾌감', '불타', '불태우', '불편', '불평', '불평등', '불필요', '불행', '불허', '불현듯', '불협화음', '불확실', '불후', '붉은', '붓다', '붕괴', '붕붕', '붙들', '붙이', '붙잡', '뷰티', '뷰티풀', '브라더스', '브라보', '브라운', '브라운관', '브라이언', '브라질', '브란도', '브래드', '브래들리', '브랜드', '브레드', '브레이크', '브레인', '브로스넌', '브루스', '브룩', '브리', '브리지스', '브리짓', '브리트니', '브이', '블라인드', '블랑', '블랙', '블랙리스트', '블랙코미디', '블랙홀', '블러드', '블럭', '블레어', '블레이드', '블로그', '블록', '블록버스터', '블루', '블루스', '블룸', '비겁', '비견', '비교', '비교적', '비극', '비극적', '비기', '비꼬', '비난', '비노쉬', '비도', '비둘기', '비디', '비디오', '비디오물', '비디오방', '비디오테이프', '비뚤어지', '비로소', '비록', '비롯', '비루', '비리', '비만', '비명', '비밀', '비밥', '비범', '비보', '비비', '비비안리', '비빔밥', '비서', '비슷', '비슷비슷', '비싸', '비씨', '비애', '비약', '비열', '비용', '비우', '비운', '비웃', '비웃음', '비위', '비유', '비율', '비의', '비장', '비장미', '비전', '비정', '비정상', '비정상적', '비정상회담', '비주류', '비주얼', '비중', '비지', '비참', '비추', '비추천', '비치', '비키', '비키니', '비토', '비트', '비틀', '비틀즈', '비판', '비판적', '비평', '비평가', '비포', '비하', '비행', '비행기', '비행선', '비현실적', '비호', '비화', '빅뱅', '빅토리아', '빈곤', '빈껍데기', '빈센트', '빈스', '빈약', '빈자리', '빈틈', '빈틈없', '빌딩', '빌리', '빌어먹을', '빗나가', '빗대', '빙빙', '빙의', '빙자', '빚어내', '빛나', '빛내', '빠가', '빠다', '빠돌이', '빠뜨리', '빠르', '빠리', '빠순이', '빠이', '빠져나', '빠져나가', '빠져나오', '빠져들', '빠지', '빠지지', '빠짐없이', '빡빡이', '빤스', '빤하', '빤히', '빨간', '빨갛', '빨갱이', '빨랑', '빨리', '빨리빨리', '빨아먹', '빨치산', '빵빵', '빵점', '빼내', '빼놓', '빼먹', '빼앗', '빼앗기', '빼어나', '뺏기', '뺨치', '뻐꾸기', '뻔뻔', '뻔하', '뻔히', '뻗치', '뻣뻣', '뻥튀기', '뼈저리', '뽀뽀', '뽐내', '뽑아내', '뽑히', '뽕짝', '뿌듯', '뿌리', '뿜어내', '삐딱', '삐뚤어지', '사가', '사간', '사건', '사계절', '사고', '사고방식', '사골', '사공', '사과', '사귀', '사극', '사기', '사기극', '사나이', '사납', '사내', '사냥', '사다리', '사단', '사담', '사도세자', '사라', '사라지', '사람', '사랑', '사랑놀음', '사랑하', '사례', '사로', '사로잡', '사로잡히', '사료', '사리', '사막', '사망', '사면', '사명', '사명감', '사모', '사무', '사무라이', '사무실', '사무엘', '사무치', '사물', '사뭇', '사바', '사발', '사방', '사보', '사부', '사사키', '사살', '사상', '사색', '사생아', '사생활', '사세', '사소', '사수', '사스', '사슴', '사신', '사실', '사실감', '사실은', '사실적', '사심', '사십', '사악', '사업', '사연', '사용', '사운드', '사운드트랙', '사위', '사유', '사의', '사이', '사이다', '사이드', '사이렌', '사이먼', '사이버', '사이보그', '사이비', '사이사이', '사이코', '사이트', '사인', '사자', '사장', '사전', '사정', '사족', '사죄', '사주', '사진', '사채', '사채업자', '사촌', '사춘기', '사치', '사탄', '사탕', '사태', '사토', '사토시', '사투', '사투리', '사파리', '사하', '사항', '사형', '사형수', '사회', '사회문제', '사회상', '사회생활', '사회악', '사회적', '사회주의', '사후', '삭막', '삭제', '산드라', '산드라블록', '산뜻', '산만', '산맥', '산물', '산산조각', '산악', '산업', '산책', '산타', '산트', '살길', '살리', '살리기', '살림', '살벌', '살살', '살상', '살수', '살아가', '살아나', '살아남', '살아오', '살의', '살인', '살인마', '살인범', '살인자', '살지', '살짝', '살찌', '살펴보', '살피', '살해', '삶이', '삼가', '삼각', '삼각관계', '삼국', '삼국지', '삼류', '삼박자', '삼성', '삼순', '삼시', '삼위일체', '삼천포', '삼촌', '삼총사', '삼키', '삼형제', '삽입', '삽입곡', '상관', '상관없', '상관없이', '상급', '상기', '상남']\n"
     ]
    },
    {
     "name": "stderr",
     "output_type": "stream",
     "text": [
      "/usr/local/lib/python3.7/dist-packages/sklearn/utils/deprecation.py:87: FutureWarning: Function get_feature_names is deprecated; get_feature_names is deprecated in 1.0 and will be removed in 1.2. Please use get_feature_names_out instead.\n",
      "  warnings.warn(msg, category=FutureWarning)\n"
     ]
    }
   ],
   "source": [
    "feature_names = vect.get_feature_names()\n",
    "\n",
    "print(\"특성 개수 : \\n\", len(feature_names))\n",
    "print(\"처음 20개 특성 : \\n\", feature_names[:20])\n",
    "print(\"3000~5000까지의 특성 : \\n\", feature_names[3000:5000])"
   ]
  },
  {
   "cell_type": "markdown",
   "metadata": {
    "id": "rtePMWOz2J95"
   },
   "source": [
    "## 머신러닝 알고리즘 적용"
   ]
  },
  {
   "cell_type": "code",
   "execution_count": null,
   "metadata": {
    "colab": {
     "base_uri": "https://localhost:8080/"
    },
    "executionInfo": {
     "elapsed": 2042,
     "status": "ok",
     "timestamp": 1656634120898,
     "user": {
      "displayName": "진창호",
      "userId": "09608549926967536417"
     },
     "user_tz": -540
    },
    "id": "HtZy_VbxyIz7",
    "outputId": "6f3ab269-898b-4a44-98a6-0820e136d673"
   },
   "outputs": [
    {
     "data": {
      "text/plain": [
       "LogisticRegression(solver='liblinear')"
      ]
     },
     "execution_count": 23,
     "metadata": {},
     "output_type": "execute_result"
    }
   ],
   "source": [
    "import pandas as pd\n",
    "from sklearn.model_selection import cross_val_score\n",
    "from sklearn.linear_model import LogisticRegression\n",
    "y_train = pd.Series(train_data_senti) # Series나 Numpy array로 넣기\n",
    "\n",
    "lr = LogisticRegression(solver = \"liblinear\")\n",
    "lr.fit(X_train, y_train)"
   ]
  },
  {
   "cell_type": "code",
   "execution_count": null,
   "metadata": {
    "colab": {
     "base_uri": "https://localhost:8080/"
    },
    "executionInfo": {
     "elapsed": 996,
     "status": "ok",
     "timestamp": 1656634121884,
     "user": {
      "displayName": "진창호",
      "userId": "09608549926967536417"
     },
     "user_tz": -540
    },
    "id": "2zhHQEt2yuBA",
    "outputId": "fa9a7520-6974-4223-df9f-b1c06d5a1cb9"
   },
   "outputs": [
    {
     "name": "stdout",
     "output_type": "stream",
     "text": [
      "테스트 데이터 점수 :  0.8075521360599311\n"
     ]
    }
   ],
   "source": [
    "# vect = CountVectorizer(min_df = 5).fit(test_data_text)를 수행해서는 안된다. -> test data의 5개 이상 값이 train data의 5개 이상 값과 다르기 때문\n",
    "X_test = vect.transform(test_data_text)\n",
    "y_test = pd.Series(test_data_senti)\n",
    "print(\"테스트 데이터 점수 : \", lr.score(X_test, y_test))"
   ]
  },
  {
   "cell_type": "markdown",
   "metadata": {
    "id": "Vz-5LJMX6my6"
   },
   "source": [
    "# 1개 데이터 예측"
   ]
  },
  {
   "cell_type": "code",
   "execution_count": null,
   "metadata": {
    "colab": {
     "base_uri": "https://localhost:8080/"
    },
    "executionInfo": {
     "elapsed": 798,
     "status": "ok",
     "timestamp": 1656634122640,
     "user": {
      "displayName": "진창호",
      "userId": "09608549926967536417"
     },
     "user_tz": -540
    },
    "id": "ofupxwff18Ii",
    "outputId": "ab46c2c0-9882-443f-8e6a-73cc2fa27c98"
   },
   "outputs": [
    {
     "name": "stdout",
     "output_type": "stream",
     "text": [
      "filepath:  /usr/local/lib/python3.7/dist-packages\n",
      "classpath:  /usr/local/lib/python3.7/dist-packages/rhinoMorph/lib/rhino.jar\n",
      "JVM is already started~\n",
      "RHINO started!\n",
      "input data :  ['즐겁 하루']\n"
     ]
    }
   ],
   "source": [
    "import rhinoMorph\n",
    "rn = rhinoMorph.startRhino()\n",
    "\n",
    "new_input = \"즐거운 하루!\"\n",
    "inputdata = []\n",
    "morphed_input = rhinoMorph.onlyMorph_list(rn, new_input, pos = ['NNG', 'NNP', 'VV', 'VA', 'XR', 'IC', 'MM', 'MAG', 'MAJ'])\n",
    "morphed_input = ' '.join(morphed_input)\n",
    "\n",
    "inputdata.append(morphed_input)\n",
    "print('input data : ', inputdata)"
   ]
  },
  {
   "cell_type": "code",
   "execution_count": null,
   "metadata": {
    "colab": {
     "base_uri": "https://localhost:8080/"
    },
    "executionInfo": {
     "elapsed": 36,
     "status": "ok",
     "timestamp": 1656634122643,
     "user": {
      "displayName": "진창호",
      "userId": "09608549926967536417"
     },
     "user_tz": -540
    },
    "id": "SMhcDahx7Rjk",
    "outputId": "f26f2c9b-f7f9-47c8-95f9-e735a614cb2d"
   },
   "outputs": [
    {
     "name": "stdout",
     "output_type": "stream",
     "text": [
      "긍정적인 글입니다.\n"
     ]
    }
   ],
   "source": [
    "X_input = vect.transform(inputdata)\n",
    "result = lr.predict(X_input)\n",
    "\n",
    "if result == 0:\n",
    "  print(\"부정적인 글입니다.\")\n",
    "else:\n",
    "  print(\"긍정적인 글입니다.\")"
   ]
  },
  {
   "cell_type": "markdown",
   "metadata": {
    "id": "VTftl6SZ_jFy"
   },
   "source": [
    "# 딥러닝 이해 1"
   ]
  },
  {
   "cell_type": "markdown",
   "metadata": {
    "id": "ql2LVhteAvMm"
   },
   "source": [
    "## Mnist 데이터"
   ]
  },
  {
   "cell_type": "code",
   "execution_count": null,
   "metadata": {
    "colab": {
     "base_uri": "https://localhost:8080/"
    },
    "executionInfo": {
     "elapsed": 6482,
     "status": "ok",
     "timestamp": 1656634129110,
     "user": {
      "displayName": "진창호",
      "userId": "09608549926967536417"
     },
     "user_tz": -540
    },
    "id": "EyTmLkdv_jZr",
    "outputId": "ea19ff1d-a7a7-44c3-fe10-8cf56b341fcd"
   },
   "outputs": [
    {
     "name": "stdout",
     "output_type": "stream",
     "text": [
      "Downloading data from https://storage.googleapis.com/tensorflow/tf-keras-datasets/mnist.npz\n",
      "11493376/11490434 [==============================] - 1s 0us/step\n",
      "11501568/11490434 [==============================] - 1s 0us/step\n",
      "(60000, 28, 28)\n",
      "(10000, 28, 28)\n"
     ]
    }
   ],
   "source": [
    "from keras.datasets import mnist\n",
    "((train_images, train_labels), (test_images, test_labels)) = mnist.load_data()\n",
    "\n",
    "print(train_images.shape)\n",
    "print(test_images.shape)"
   ]
  },
  {
   "cell_type": "code",
   "execution_count": null,
   "metadata": {
    "colab": {
     "base_uri": "https://localhost:8080/"
    },
    "executionInfo": {
     "elapsed": 49,
     "status": "ok",
     "timestamp": 1656634129113,
     "user": {
      "displayName": "진창호",
      "userId": "09608549926967536417"
     },
     "user_tz": -540
    },
    "id": "6YeXzltWAt_S",
    "outputId": "a538d8db-9c2c-4aeb-9389-cd255ae34bd2"
   },
   "outputs": [
    {
     "name": "stdout",
     "output_type": "stream",
     "text": [
      "<class 'numpy.ndarray'>\n",
      "[[  0   0   0   0   0   0   0   0   0   0   0   0   0   0   0   0   0   0   0   0   0   0   0   0   0   0   0   0]\n",
      " [  0   0   0   0   0   0   0   0   0   0   0   0   0   0   0   0   0   0   0   0   0   0   0   0   0   0   0   0]\n",
      " [  0   0   0   0   0   0   0   0   0   0   0   0   0   0   0   0   0   0   0   0   0   0   0   0   0   0   0   0]\n",
      " [  0   0   0   0   0   0   0   0   0   0 116 125 171 255 255 150  93   0   0   0   0   0   0   0   0   0   0   0]\n",
      " [  0   0   0   0   0   0   0   0   0 169 253 253 253 253 253 253 218  30   0   0   0   0   0   0   0   0   0   0]\n",
      " [  0   0   0   0   0   0   0   0 169 253 253 253 213 142 176 253 253 122   0   0   0   0   0   0   0   0   0   0]\n",
      " [  0   0   0   0   0   0   0  52 250 253 210  32  12   0   6 206 253 140   0   0   0   0   0   0   0   0   0   0]\n",
      " [  0   0   0   0   0   0   0  77 251 210  25   0   0   0 122 248 253  65   0   0   0   0   0   0   0   0   0   0]\n",
      " [  0   0   0   0   0   0   0   0  31  18   0   0   0   0 209 253 253  65   0   0   0   0   0   0   0   0   0   0]\n",
      " [  0   0   0   0   0   0   0   0   0   0   0   0   0 117 247 253 198  10   0   0   0   0   0   0   0   0   0   0]\n",
      " [  0   0   0   0   0   0   0   0   0   0   0   0  76 247 253 231  63   0   0   0   0   0   0   0   0   0   0   0]\n",
      " [  0   0   0   0   0   0   0   0   0   0   0   0 128 253 253 144   0   0   0   0   0   0   0   0   0   0   0   0]\n",
      " [  0   0   0   0   0   0   0   0   0   0   0 176 246 253 159  12   0   0   0   0   0   0   0   0   0   0   0   0]\n",
      " [  0   0   0   0   0   0   0   0   0   0  25 234 253 233  35   0   0   0   0   0   0   0   0   0   0   0   0   0]\n",
      " [  0   0   0   0   0   0   0   0   0   0 198 253 253 141   0   0   0   0   0   0   0   0   0   0   0   0   0   0]\n",
      " [  0   0   0   0   0   0   0   0   0  78 248 253 189  12   0   0   0   0   0   0   0   0   0   0   0   0   0   0]\n",
      " [  0   0   0   0   0   0   0   0  19 200 253 253 141   0   0   0   0   0   0   0   0   0   0   0   0   0   0   0]\n",
      " [  0   0   0   0   0   0   0   0 134 253 253 173  12   0   0   0   0   0   0   0   0   0   0   0   0   0   0   0]\n",
      " [  0   0   0   0   0   0   0   0 248 253 253  25   0   0   0   0   0   0   0   0   0   0   0   0   0   0   0   0]\n",
      " [  0   0   0   0   0   0   0   0 248 253 253  43  20  20  20  20   5   0   5  20  20  37 150 150 150 147  10   0]\n",
      " [  0   0   0   0   0   0   0   0 248 253 253 253 253 253 253 253 168 143 166 253 253 253 253 253 253 253 123   0]\n",
      " [  0   0   0   0   0   0   0   0 174 253 253 253 253 253 253 253 253 253 253 253 249 247 247 169 117 117  57   0]\n",
      " [  0   0   0   0   0   0   0   0   0 118 123 123 123 166 253 253 253 155 123 123  41   0   0   0   0   0   0   0]\n",
      " [  0   0   0   0   0   0   0   0   0   0   0   0   0   0   0   0   0   0   0   0   0   0   0   0   0   0   0   0]\n",
      " [  0   0   0   0   0   0   0   0   0   0   0   0   0   0   0   0   0   0   0   0   0   0   0   0   0   0   0   0]\n",
      " [  0   0   0   0   0   0   0   0   0   0   0   0   0   0   0   0   0   0   0   0   0   0   0   0   0   0   0   0]\n",
      " [  0   0   0   0   0   0   0   0   0   0   0   0   0   0   0   0   0   0   0   0   0   0   0   0   0   0   0   0]\n",
      " [  0   0   0   0   0   0   0   0   0   0   0   0   0   0   0   0   0   0   0   0   0   0   0   0   0   0   0   0]]\n"
     ]
    }
   ],
   "source": [
    "import numpy as np\n",
    "\n",
    "print(type(test_images))\n",
    "np.set_printoptions(linewidth=np.inf)\n",
    "print(test_images[1])"
   ]
  },
  {
   "cell_type": "code",
   "execution_count": null,
   "metadata": {
    "colab": {
     "base_uri": "https://localhost:8080/",
     "height": 283
    },
    "executionInfo": {
     "elapsed": 1373,
     "status": "ok",
     "timestamp": 1656634130460,
     "user": {
      "displayName": "진창호",
      "userId": "09608549926967536417"
     },
     "user_tz": -540
    },
    "id": "bOxGqlI2AuK2",
    "outputId": "72004222-6af5-4287-ef3d-8ad7e687d32e"
   },
   "outputs": [
    {
     "data": {
      "text/plain": [
       "<matplotlib.image.AxesImage at 0x7fb6116cf3d0>"
      ]
     },
     "execution_count": 29,
     "metadata": {},
     "output_type": "execute_result"
    },
    {
     "name": "stderr",
     "output_type": "stream",
     "text": [
      "findfont: Font family ['NanumMyeongjo'] not found. Falling back to DejaVu Sans.\n"
     ]
    },
    {
     "data": {
      "image/png": "[encoded data removed]",
      "text/plain": [
       "<Figure size 432x288 with 1 Axes>"
      ]
     },
     "metadata": {
      "image/png": {
       "height": 248,
       "width": 251
      },
      "needs_background": "light"
     },
     "output_type": "display_data"
    }
   ],
   "source": [
    "import matplotlib.pyplot as plt\n",
    "plt.imshow(test_images[1], cmap = 'gray')"
   ]
  },
  {
   "cell_type": "code",
   "execution_count": null,
   "metadata": {
    "colab": {
     "base_uri": "https://localhost:8080/"
    },
    "executionInfo": {
     "elapsed": 71,
     "status": "ok",
     "timestamp": 1656634130461,
     "user": {
      "displayName": "진창호",
      "userId": "09608549926967536417"
     },
     "user_tz": -540
    },
    "id": "3wsSHJluAuYq",
    "outputId": "04755160-99d9-4346-becd-e22fafb4fa20"
   },
   "outputs": [
    {
     "name": "stdout",
     "output_type": "stream",
     "text": [
      "10000\n",
      "[7 2 1 ... 4 5 6]\n"
     ]
    }
   ],
   "source": [
    "print(len(test_labels))\n",
    "print(test_labels)"
   ]
  },
  {
   "cell_type": "markdown",
   "metadata": {
    "id": "6L8-9KQgI5zC"
   },
   "source": [
    "## 모델 생성"
   ]
  },
  {
   "cell_type": "code",
   "execution_count": null,
   "metadata": {
    "colab": {
     "base_uri": "https://localhost:8080/"
    },
    "executionInfo": {
     "elapsed": 6073,
     "status": "ok",
     "timestamp": 1656634136478,
     "user": {
      "displayName": "진창호",
      "userId": "09608549926967536417"
     },
     "user_tz": -540
    },
    "id": "fLpqq0kQC3Fy",
    "outputId": "b8506254-5d6c-4ae8-bb6d-a16b739e3649"
   },
   "outputs": [
    {
     "name": "stdout",
     "output_type": "stream",
     "text": [
      "Model: \"sequential\"\n",
      "_________________________________________________________________\n",
      " Layer (type)                Output Shape              Param #   \n",
      "=================================================================\n",
      " dense (Dense)               (None, 256)               200960    \n",
      "                                                                 \n",
      " dense_1 (Dense)             (None, 10)                2570      \n",
      "                                                                 \n",
      "=================================================================\n",
      "Total params: 203,530\n",
      "Trainable params: 203,530\n",
      "Non-trainable params: 0\n",
      "_________________________________________________________________\n"
     ]
    }
   ],
   "source": [
    "from keras.models import Sequential\n",
    "from keras.layers import Dense\n",
    "\n",
    "model = Sequential()\n",
    "model.add(Dense(256, activation = 'relu', input_shape = (28*28,))) # 대부분 Dense의 Cell 갯수는 2의 n승을 많이 사용\n",
    "model.add(Dense(10, activation = 'softmax'))\n",
    "model.compile(loss = 'categorical_crossentropy', optimizer = \"rmsprop\", metrics = [\"accuracy\"]) # 이진 분류는 binary_crossentropy, 다중 분류는 categorical_crossentropy\n",
    "model.summary()"
   ]
  },
  {
   "cell_type": "markdown",
   "metadata": {
    "id": "aXluLsbrI74c"
   },
   "source": [
    "## 데이터 전처리"
   ]
  },
  {
   "cell_type": "code",
   "execution_count": null,
   "metadata": {
    "id": "URUITD54IqWm"
   },
   "outputs": [],
   "source": [
    "train_images = train_images.reshape(60000, 28*28)\n",
    "train_images = train_images.astype('float32') / 255.\n",
    "\n",
    "test_images = test_images.reshape(10000, 28*28)\n",
    "test_images = test_images.astype('float32') / 255."
   ]
  },
  {
   "cell_type": "code",
   "execution_count": null,
   "metadata": {
    "colab": {
     "base_uri": "https://localhost:8080/"
    },
    "executionInfo": {
     "elapsed": 755,
     "status": "ok",
     "timestamp": 1656634137164,
     "user": {
      "displayName": "진창호",
      "userId": "09608549926967536417"
     },
     "user_tz": -540
    },
    "id": "hH9FQj54JYdC",
    "outputId": "94ca9734-a882-45d4-d485-7c42d2338300"
   },
   "outputs": [
    {
     "name": "stdout",
     "output_type": "stream",
     "text": [
      "[0.         0.         0.         0.         0.         0.         0.         0.         0.         0.         0.         0.         0.         0.         0.         0.         0.         0.         0.         0.         0.         0.         0.         0.         0.         0.         0.         0.\n",
      " 0.         0.         0.         0.         0.         0.         0.         0.         0.         0.         0.         0.         0.         0.         0.         0.         0.         0.         0.         0.         0.         0.         0.         0.         0.         0.         0.         0.\n",
      " 0.         0.         0.         0.         0.         0.         0.         0.         0.         0.         0.         0.         0.         0.         0.         0.         0.         0.         0.         0.         0.         0.         0.         0.         0.         0.         0.         0.\n",
      " 0.         0.         0.         0.         0.         0.         0.         0.         0.         0.         0.45490196 0.49019608 0.67058825 1.         1.         0.5882353  0.3647059  0.         0.         0.         0.         0.         0.         0.         0.         0.         0.         0.\n",
      " 0.         0.         0.         0.         0.         0.         0.         0.         0.         0.6627451  0.99215686 0.99215686 0.99215686 0.99215686 0.99215686 0.99215686 0.85490197 0.11764706 0.         0.         0.         0.         0.         0.         0.         0.         0.         0.\n",
      " 0.         0.         0.         0.         0.         0.         0.         0.         0.6627451  0.99215686 0.99215686 0.99215686 0.8352941  0.5568628  0.6901961  0.99215686 0.99215686 0.47843137 0.         0.         0.         0.         0.         0.         0.         0.         0.         0.\n",
      " 0.         0.         0.         0.         0.         0.         0.         0.20392157 0.98039216 0.99215686 0.8235294  0.1254902  0.04705882 0.         0.02352941 0.80784315 0.99215686 0.54901963 0.         0.         0.         0.         0.         0.         0.         0.         0.         0.\n",
      " 0.         0.         0.         0.         0.         0.         0.         0.3019608  0.9843137  0.8235294  0.09803922 0.         0.         0.         0.47843137 0.972549   0.99215686 0.25490198 0.         0.         0.         0.         0.         0.         0.         0.         0.         0.\n",
      " 0.         0.         0.         0.         0.         0.         0.         0.         0.12156863 0.07058824 0.         0.         0.         0.         0.81960785 0.99215686 0.99215686 0.25490198 0.         0.         0.         0.         0.         0.         0.         0.         0.         0.\n",
      " 0.         0.         0.         0.         0.         0.         0.         0.         0.         0.         0.         0.         0.         0.45882353 0.96862745 0.99215686 0.7764706  0.03921569 0.         0.         0.         0.         0.         0.         0.         0.         0.         0.\n",
      " 0.         0.         0.         0.         0.         0.         0.         0.         0.         0.         0.         0.         0.29803923 0.96862745 0.99215686 0.90588236 0.24705882 0.         0.         0.         0.         0.         0.         0.         0.         0.         0.         0.\n",
      " 0.         0.         0.         0.         0.         0.         0.         0.         0.         0.         0.         0.         0.5019608  0.99215686 0.99215686 0.5647059  0.         0.         0.         0.         0.         0.         0.         0.         0.         0.         0.         0.\n",
      " 0.         0.         0.         0.         0.         0.         0.         0.         0.         0.         0.         0.6901961  0.9647059  0.99215686 0.62352943 0.04705882 0.         0.         0.         0.         0.         0.         0.         0.         0.         0.         0.         0.\n",
      " 0.         0.         0.         0.         0.         0.         0.         0.         0.         0.         0.09803922 0.91764706 0.99215686 0.9137255  0.13725491 0.         0.         0.         0.         0.         0.         0.         0.         0.         0.         0.         0.         0.\n",
      " 0.         0.         0.         0.         0.         0.         0.         0.         0.         0.         0.7764706  0.99215686 0.99215686 0.5529412  0.         0.         0.         0.         0.         0.         0.         0.         0.         0.         0.         0.         0.         0.\n",
      " 0.         0.         0.         0.         0.         0.         0.         0.         0.         0.30588236 0.972549   0.99215686 0.7411765  0.04705882 0.         0.         0.         0.         0.         0.         0.         0.         0.         0.         0.         0.         0.         0.\n",
      " 0.         0.         0.         0.         0.         0.         0.         0.         0.07450981 0.78431374 0.99215686 0.99215686 0.5529412  0.         0.         0.         0.         0.         0.         0.         0.         0.         0.         0.         0.         0.         0.         0.\n",
      " 0.         0.         0.         0.         0.         0.         0.         0.         0.5254902  0.99215686 0.99215686 0.6784314  0.04705882 0.         0.         0.         0.         0.         0.         0.         0.         0.         0.         0.         0.         0.         0.         0.\n",
      " 0.         0.         0.         0.         0.         0.         0.         0.         0.972549   0.99215686 0.99215686 0.09803922 0.         0.         0.         0.         0.         0.         0.         0.         0.         0.         0.         0.         0.         0.         0.         0.\n",
      " 0.         0.         0.         0.         0.         0.         0.         0.         0.972549   0.99215686 0.99215686 0.16862746 0.07843138 0.07843138 0.07843138 0.07843138 0.01960784 0.         0.01960784 0.07843138 0.07843138 0.14509805 0.5882353  0.5882353  0.5882353  0.5764706  0.03921569 0.\n",
      " 0.         0.         0.         0.         0.         0.         0.         0.         0.972549   0.99215686 0.99215686 0.99215686 0.99215686 0.99215686 0.99215686 0.99215686 0.65882355 0.56078434 0.6509804  0.99215686 0.99215686 0.99215686 0.99215686 0.99215686 0.99215686 0.99215686 0.48235294 0.\n",
      " 0.         0.         0.         0.         0.         0.         0.         0.         0.68235296 0.99215686 0.99215686 0.99215686 0.99215686 0.99215686 0.99215686 0.99215686 0.99215686 0.99215686 0.99215686 0.99215686 0.9764706  0.96862745 0.96862745 0.6627451  0.45882353 0.45882353 0.22352941 0.\n",
      " 0.         0.         0.         0.         0.         0.         0.         0.         0.         0.4627451  0.48235294 0.48235294 0.48235294 0.6509804  0.99215686 0.99215686 0.99215686 0.60784316 0.48235294 0.48235294 0.16078432 0.         0.         0.         0.         0.         0.         0.\n",
      " 0.         0.         0.         0.         0.         0.         0.         0.         0.         0.         0.         0.         0.         0.         0.         0.         0.         0.         0.         0.         0.         0.         0.         0.         0.         0.         0.         0.\n",
      " 0.         0.         0.         0.         0.         0.         0.         0.         0.         0.         0.         0.         0.         0.         0.         0.         0.         0.         0.         0.         0.         0.         0.         0.         0.         0.         0.         0.\n",
      " 0.         0.         0.         0.         0.         0.         0.         0.         0.         0.         0.         0.         0.         0.         0.         0.         0.         0.         0.         0.         0.         0.         0.         0.         0.         0.         0.         0.\n",
      " 0.         0.         0.         0.         0.         0.         0.         0.         0.         0.         0.         0.         0.         0.         0.         0.         0.         0.         0.         0.         0.         0.         0.         0.         0.         0.         0.         0.\n",
      " 0.         0.         0.         0.         0.         0.         0.         0.         0.         0.         0.         0.         0.         0.         0.         0.         0.         0.         0.         0.         0.         0.         0.         0.         0.         0.         0.         0.        ]\n"
     ]
    }
   ],
   "source": [
    "np.set_printoptions(linewidth=310)\n",
    "print(test_images[1]) # 출력은 강제로 조절해서 2차원처럼 보이지만 실제 데이터는 1차원"
   ]
  },
  {
   "cell_type": "code",
   "execution_count": null,
   "metadata": {
    "id": "9Ox7Tg-hJtt7"
   },
   "outputs": [],
   "source": [
    "from tensorflow.keras.utils import to_categorical\n",
    "\n",
    "train_labels = to_categorical(train_labels) # 값을 확률로 표현\n",
    "test_labels = to_categorical(test_labels)"
   ]
  },
  {
   "cell_type": "markdown",
   "metadata": {
    "id": "BhEjS5XyLCn7"
   },
   "source": [
    "## 데이터 학습"
   ]
  },
  {
   "cell_type": "code",
   "execution_count": null,
   "metadata": {
    "colab": {
     "base_uri": "https://localhost:8080/"
    },
    "executionInfo": {
     "elapsed": 25199,
     "status": "ok",
     "timestamp": 1656634162358,
     "user": {
      "displayName": "진창호",
      "userId": "09608549926967536417"
     },
     "user_tz": -540
    },
    "id": "yG_5xLZNLDF6",
    "outputId": "b7645226-000b-4c93-b45e-adab037285a8"
   },
   "outputs": [
    {
     "name": "stdout",
     "output_type": "stream",
     "text": [
      "Epoch 1/5\n",
      "469/469 [==============================] - 6s 4ms/step - loss: 0.2915 - accuracy: 0.9170\n",
      "Epoch 2/5\n",
      "469/469 [==============================] - 1s 3ms/step - loss: 0.1274 - accuracy: 0.9631\n",
      "Epoch 3/5\n",
      "469/469 [==============================] - 1s 3ms/step - loss: 0.0861 - accuracy: 0.9752\n",
      "Epoch 4/5\n",
      "469/469 [==============================] - 1s 3ms/step - loss: 0.0650 - accuracy: 0.9809\n",
      "Epoch 5/5\n",
      "469/469 [==============================] - 1s 3ms/step - loss: 0.0509 - accuracy: 0.9848\n"
     ]
    },
    {
     "data": {
      "text/plain": [
       "<keras.callbacks.History at 0x7fb6000f0790>"
      ]
     },
     "execution_count": 35,
     "metadata": {},
     "output_type": "execute_result"
    }
   ],
   "source": [
    "model.fit(train_images, train_labels, epochs = 5, batch_size = 128) # epoch : 훈련 로테이션 횟수, batch_size : 한번에 훈련할 데이터의 양(메모리 한계와 속도 저하 문제)\n",
    "# 이론적으론 batch_size를 나누지 않는 게 좋으나, 현실적으로는 매우 큰 데이터를 다루기 때문에 불가능하다. batch_size는 8 ~ 512개가 적당하다."
   ]
  },
  {
   "cell_type": "markdown",
   "metadata": {
    "id": "KRlYU2EaQ45r"
   },
   "source": [
    "## 예측"
   ]
  },
  {
   "cell_type": "code",
   "execution_count": null,
   "metadata": {
    "colab": {
     "base_uri": "https://localhost:8080/"
    },
    "executionInfo": {
     "elapsed": 163,
     "status": "ok",
     "timestamp": 1656634162359,
     "user": {
      "displayName": "진창호",
      "userId": "09608549926967536417"
     },
     "user_tz": -540
    },
    "id": "5PPzDXf6Qjcz",
    "outputId": "57aabe45-a1e3-42c7-a242-4e71f636c172"
   },
   "outputs": [
    {
     "name": "stdout",
     "output_type": "stream",
     "text": [
      "313/313 [==============================] - 1s 2ms/step - loss: 0.0703 - accuracy: 0.9779\n",
      "test_acc :  0.9779000282287598\n"
     ]
    }
   ],
   "source": [
    "test_loss, test_acc = model.evaluate(test_images, test_labels)\n",
    "print('test_acc : ', test_acc)"
   ]
  },
  {
   "cell_type": "markdown",
   "metadata": {
    "id": "m04hM9tkSLxf"
   },
   "source": [
    "# 딥러닝 이해 2"
   ]
  },
  {
   "cell_type": "markdown",
   "metadata": {
    "id": "VhQHeo3nSMeD"
   },
   "source": [
    "## 0D Tensor (Scalar)"
   ]
  },
  {
   "cell_type": "code",
   "execution_count": null,
   "metadata": {
    "colab": {
     "base_uri": "https://localhost:8080/"
    },
    "executionInfo": {
     "elapsed": 123,
     "status": "ok",
     "timestamp": 1656634162360,
     "user": {
      "displayName": "진창호",
      "userId": "09608549926967536417"
     },
     "user_tz": -540
    },
    "id": "FyxYduN2SL_7",
    "outputId": "078c02b9-9ddd-44b9-e60d-032434899e6d"
   },
   "outputs": [
    {
     "name": "stdout",
     "output_type": "stream",
     "text": [
      "<class 'numpy.ndarray'>\n",
      "0\n"
     ]
    }
   ],
   "source": [
    "import numpy as np\n",
    "\n",
    "x = np.array(12)\n",
    "print(type(x))\n",
    "print(x.ndim)"
   ]
  },
  {
   "cell_type": "markdown",
   "metadata": {
    "id": "xLAZgmQMS-GT"
   },
   "source": [
    "## 1D Tensor (Vector)"
   ]
  },
  {
   "cell_type": "code",
   "execution_count": null,
   "metadata": {
    "colab": {
     "base_uri": "https://localhost:8080/"
    },
    "executionInfo": {
     "elapsed": 113,
     "status": "ok",
     "timestamp": 1656634162361,
     "user": {
      "displayName": "진창호",
      "userId": "09608549926967536417"
     },
     "user_tz": -540
    },
    "id": "UtbPE6xDS-V9",
    "outputId": "7a52b459-8c16-4597-b773-d11692b1596d"
   },
   "outputs": [
    {
     "name": "stdout",
     "output_type": "stream",
     "text": [
      "<class 'numpy.ndarray'>\n",
      "1\n"
     ]
    }
   ],
   "source": [
    "import numpy as np\n",
    "\n",
    "x = np.array([12, 35, 23])\n",
    "print(type(x))\n",
    "print(x.ndim)"
   ]
  },
  {
   "cell_type": "markdown",
   "metadata": {
    "id": "CW5Qr5wBTGp-"
   },
   "source": [
    "## 2D Tensor (Matrix)"
   ]
  },
  {
   "cell_type": "code",
   "execution_count": null,
   "metadata": {
    "colab": {
     "base_uri": "https://localhost:8080/"
    },
    "executionInfo": {
     "elapsed": 99,
     "status": "ok",
     "timestamp": 1656634162362,
     "user": {
      "displayName": "진창호",
      "userId": "09608549926967536417"
     },
     "user_tz": -540
    },
    "id": "Vuvsi6xETG3t",
    "outputId": "2513a214-be47-4f04-aea3-8452f70be349"
   },
   "outputs": [
    {
     "name": "stdout",
     "output_type": "stream",
     "text": [
      "<class 'numpy.ndarray'>\n",
      "2\n"
     ]
    }
   ],
   "source": [
    "import numpy as np\n",
    "\n",
    "x = np.array([[12, 35, 23], [4, 63, 7], [5, 28, 4]])\n",
    "print(type(x))\n",
    "print(x.ndim)"
   ]
  },
  {
   "cell_type": "markdown",
   "metadata": {
    "id": "up543-FFTQSj"
   },
   "source": [
    "## 3D & High-Dimensional Tensor"
   ]
  },
  {
   "cell_type": "code",
   "execution_count": null,
   "metadata": {
    "colab": {
     "base_uri": "https://localhost:8080/"
    },
    "executionInfo": {
     "elapsed": 82,
     "status": "ok",
     "timestamp": 1656634162363,
     "user": {
      "displayName": "진창호",
      "userId": "09608549926967536417"
     },
     "user_tz": -540
    },
    "id": "gaj5UyjrTQhN",
    "outputId": "8070c009-754d-426b-fb32-cab24398b81a"
   },
   "outputs": [
    {
     "name": "stdout",
     "output_type": "stream",
     "text": [
      "<class 'numpy.ndarray'>\n",
      "3\n"
     ]
    }
   ],
   "source": [
    "import numpy as np\n",
    "\n",
    "x = np.array([[[12, 35, 23], [4, 63, 7], [5, 28, 4]], [[12, 35, 23], [4, 63, 7], [5, 28, 4]], [[12, 35, 23], [4, 63, 7], [5, 28, 4]]])\n",
    "print(type(x))\n",
    "print(x.ndim)"
   ]
  },
  {
   "cell_type": "code",
   "execution_count": null,
   "metadata": {
    "colab": {
     "base_uri": "https://localhost:8080/"
    },
    "executionInfo": {
     "elapsed": 67,
     "status": "ok",
     "timestamp": 1656634162364,
     "user": {
      "displayName": "진창호",
      "userId": "09608549926967536417"
     },
     "user_tz": -540
    },
    "id": "uDYYilu4Ts38",
    "outputId": "48744825-24fc-4219-c238-fa71bb7b6d63"
   },
   "outputs": [
    {
     "name": "stdout",
     "output_type": "stream",
     "text": [
      "<class 'numpy.ndarray'>\n",
      "4\n"
     ]
    }
   ],
   "source": [
    "import numpy as np\n",
    "\n",
    "x = np.array([[[[12, 35, 23], [4, 63, 7], [5, 28, 4]], [[12, 35, 23], [4, 63, 7], [5, 28, 4]], [[12, 35, 23], [4, 63, 7], [5, 28, 4]]],\n",
    "              [[[12, 35, 23], [4, 63, 7], [5, 28, 4]], [[12, 35, 23], [4, 63, 7], [5, 28, 4]], [[12, 35, 23], [4, 63, 7], [5, 28, 4]]],\n",
    "              [[[12, 35, 23], [4, 63, 7], [5, 28, 4]], [[12, 35, 23], [4, 63, 7], [5, 28, 4]], [[12, 35, 23], [4, 63, 7], [5, 28, 4]]]])\n",
    "print(type(x))\n",
    "print(x.ndim)"
   ]
  },
  {
   "cell_type": "code",
   "execution_count": null,
   "metadata": {
    "colab": {
     "base_uri": "https://localhost:8080/"
    },
    "executionInfo": {
     "elapsed": 53,
     "status": "ok",
     "timestamp": 1656634162366,
     "user": {
      "displayName": "진창호",
      "userId": "09608549926967536417"
     },
     "user_tz": -540
    },
    "id": "hien4IfPU1PD",
    "outputId": "5a48030a-7bfa-4ac5-df5f-6986999fea5c"
   },
   "outputs": [
    {
     "name": "stdout",
     "output_type": "stream",
     "text": [
      "<class 'numpy.ndarray'>\n",
      "5\n"
     ]
    }
   ],
   "source": [
    "import numpy as np\n",
    "\n",
    "x = np.array([[[[[12, 35, 23], [4, 63, 7], [5, 28, 4]], [[12, 35, 23], [4, 63, 7], [5, 28, 4]], [[12, 35, 23], [4, 63, 7], [5, 28, 4]]],\n",
    "              [[[12, 35, 23], [4, 63, 7], [5, 28, 4]], [[12, 35, 23], [4, 63, 7], [5, 28, 4]], [[12, 35, 23], [4, 63, 7], [5, 28, 4]]],\n",
    "              [[[12, 35, 23], [4, 63, 7], [5, 28, 4]], [[12, 35, 23], [4, 63, 7], [5, 28, 4]], [[12, 35, 23], [4, 63, 7], [5, 28, 4]]]],\n",
    "              [[[[12, 35, 23], [4, 63, 7], [5, 28, 4]], [[12, 35, 23], [4, 63, 7], [5, 28, 4]], [[12, 35, 23], [4, 63, 7], [5, 28, 4]]],\n",
    "              [[[12, 35, 23], [4, 63, 7], [5, 28, 4]], [[12, 35, 23], [4, 63, 7], [5, 28, 4]], [[12, 35, 23], [4, 63, 7], [5, 28, 4]]],\n",
    "              [[[12, 35, 23], [4, 63, 7], [5, 28, 4]], [[12, 35, 23], [4, 63, 7], [5, 28, 4]], [[12, 35, 23], [4, 63, 7], [5, 28, 4]]]],\n",
    "              [[[[12, 35, 23], [4, 63, 7], [5, 28, 4]], [[12, 35, 23], [4, 63, 7], [5, 28, 4]], [[12, 35, 23], [4, 63, 7], [5, 28, 4]]],\n",
    "              [[[12, 35, 23], [4, 63, 7], [5, 28, 4]], [[12, 35, 23], [4, 63, 7], [5, 28, 4]], [[12, 35, 23], [4, 63, 7], [5, 28, 4]]],\n",
    "              [[[12, 35, 23], [4, 63, 7], [5, 28, 4]], [[12, 35, 23], [4, 63, 7], [5, 28, 4]], [[12, 35, 23], [4, 63, 7], [5, 28, 4]]]]])\n",
    "print(type(x))\n",
    "print(x.ndim)"
   ]
  },
  {
   "cell_type": "markdown",
   "metadata": {
    "id": "WkBb-3CeTxts"
   },
   "source": [
    "# 감성분석 - 딥러닝"
   ]
  },
  {
   "cell_type": "code",
   "execution_count": null,
   "metadata": {
    "colab": {
     "base_uri": "https://localhost:8080/"
    },
    "executionInfo": {
     "elapsed": 7643,
     "status": "ok",
     "timestamp": 1656638161255,
     "user": {
      "displayName": "진창호",
      "userId": "09608549926967536417"
     },
     "user_tz": -540
    },
    "id": "ypvhKDQ7Txjc",
    "outputId": "c3a756d9-aefe-4894-fab7-3f8e4413b194"
   },
   "outputs": [
    {
     "name": "stdout",
     "output_type": "stream",
     "text": [
      "Drive already mounted at /content/gdrive; to attempt to forcibly remount, call drive.mount(\"/content/gdrive\", force_remount=True).\n"
     ]
    }
   ],
   "source": [
    "from google.colab import drive\n",
    "\n",
    "drive.mount(\"/content/gdrive\")"
   ]
  },
  {
   "cell_type": "code",
   "execution_count": null,
   "metadata": {
    "colab": {
     "base_uri": "https://localhost:8080/"
    },
    "executionInfo": {
     "elapsed": 2268,
     "status": "ok",
     "timestamp": 1656638163504,
     "user": {
      "displayName": "진창호",
      "userId": "09608549926967536417"
     },
     "user_tz": -540
    },
    "id": "ne55ElW-WIJb",
    "outputId": "9bb8c9d9-f5ec-49f6-c0b4-f69e63ec6abd"
   },
   "outputs": [
    {
     "name": "stdout",
     "output_type": "stream",
     "text": [
      "Reading package lists... Done\n",
      "Building dependency tree       \n",
      "Reading state information... Done\n",
      "fonts-nanum is already the newest version (20170925-1).\n",
      "The following package was automatically installed and is no longer required:\n",
      "  libnvidia-common-460\n",
      "Use 'apt autoremove' to remove it.\n",
      "0 upgraded, 0 newly installed, 0 to remove and 49 not upgraded.\n"
     ]
    }
   ],
   "source": [
    "import matplotlib as mpl\n",
    "import matplotlib.pyplot as plt\n",
    "\n",
    "%config InlineBackend.figure_format = \"retina\"\n",
    "!apt install fonts-nanum\n",
    "\n",
    "import matplotlib.font_manager as fm\n",
    "fontpath = \"/usr/share/fonts/truetype/nanum/NanumMyeongjo.ttf\"\n",
    "font = fm.FontProperties(fname = fontpath, size = 9)\n",
    "\n",
    "import matplotlib as mpl\n",
    "mpl.font_manager._rebuild()\n",
    "mpl.pyplot.rc('font', family=\"NanumMyeongjo\")"
   ]
  },
  {
   "cell_type": "code",
   "execution_count": null,
   "metadata": {
    "id": "XjUDNMXRW9-U"
   },
   "outputs": [],
   "source": [
    "def read_data(filename, encoding = \"cp949\"):\n",
    "  with open(filename, \"r\", encoding = encoding) as f:\n",
    "    data = [line.split('\\t') for line in f.read().splitlines()]\n",
    "    data = data[1:]\n",
    "  return data\n",
    "\n",
    "def write_data(data, filename, encoding = \"cp949\"):\n",
    "  with open(filename, \"w\", encoding = encoding) as f:\n",
    "    f.write(data)\n",
    "\n",
    "data = read_data('/content/gdrive/MyDrive/Colab Notebooks/Big AI/Dataset/pytest/ratings.txt', encoding = 'cp949')"
   ]
  },
  {
   "cell_type": "code",
   "execution_count": null,
   "metadata": {
    "colab": {
     "base_uri": "https://localhost:8080/"
    },
    "executionInfo": {
     "elapsed": 140850,
     "status": "ok",
     "timestamp": 1656638304350,
     "user": {
      "displayName": "진창호",
      "userId": "09608549926967536417"
     },
     "user_tz": -540
    },
    "id": "sDFsQRjHXJZt",
    "outputId": "7c62da8e-61b1-479f-b395-e8fd30147420"
   },
   "outputs": [
    {
     "name": "stdout",
     "output_type": "stream",
     "text": [
      "filepath:  /usr/local/lib/python3.7/dist-packages\n",
      "classpath:  /usr/local/lib/python3.7/dist-packages/rhinoMorph/lib/rhino.jar\n",
      "RHINO started!\n"
     ]
    }
   ],
   "source": [
    "import rhinoMorph\n",
    "rn = rhinoMorph.startRhino()\n",
    "\n",
    "morphed_data = ''\n",
    "for data_each in data:\n",
    "  morphed_data_each = rhinoMorph.onlyMorph_list(rn, data_each[1], pos = ['NNG', 'NNP', 'VV', 'VA', 'XR', 'IC', 'MM', 'MAG', 'MAJ'])\n",
    "  joined_data_each = \" \".join(morphed_data_each)\n",
    "  if joined_data_each:\n",
    "    morphed_data += data_each[0] + '\\t' + joined_data_each + '\\t' + data_each[2] + '\\n'\n",
    "\n",
    "write_data(morphed_data, 'ratings_morphed.txt', encoding = 'cp949')"
   ]
  },
  {
   "cell_type": "code",
   "execution_count": null,
   "metadata": {
    "colab": {
     "base_uri": "https://localhost:8080/"
    },
    "executionInfo": {
     "elapsed": 8,
     "status": "ok",
     "timestamp": 1656638304351,
     "user": {
      "displayName": "진창호",
      "userId": "09608549926967536417"
     },
     "user_tz": -540
    },
    "id": "HMM30yWKWIXV",
    "outputId": "3af98233-0bfc-4530-a31f-6e44fecfb3b8"
   },
   "outputs": [
    {
     "name": "stdout",
     "output_type": "stream",
     "text": [
      "197559\n",
      "3\n",
      "['8132799', '디자인 배우 학생 외국 디자이너 일구 전통 통하 발전 문화 산업 부럽 사실 우리나라 그 어렵 시절 끝 열정 지키 노라노 같 전통 있 같 사람 꿈 꾸 이루 나가 있 감사', '1']\n"
     ]
    }
   ],
   "source": [
    "data = read_data('ratings_morphed.txt', encoding = 'cp949')\n",
    "print(len(data))\n",
    "print(len(data[0]))\n",
    "print(data[0])"
   ]
  },
  {
   "cell_type": "code",
   "execution_count": null,
   "metadata": {
    "colab": {
     "base_uri": "https://localhost:8080/"
    },
    "executionInfo": {
     "elapsed": 697,
     "status": "ok",
     "timestamp": 1656638305043,
     "user": {
      "displayName": "진창호",
      "userId": "09608549926967536417"
     },
     "user_tz": -540
    },
    "id": "yecj282bWOLV",
    "outputId": "1d60c46a-597a-4031-dbb6-15005c9e4770"
   },
   "outputs": [
    {
     "name": "stdout",
     "output_type": "stream",
     "text": [
      "65853\n"
     ]
    }
   ],
   "source": [
    "import random\n",
    "import math\n",
    "import numpy as np\n",
    "\n",
    "random.shuffle(data) # data 한 번 섞어주기\n",
    "\n",
    "part_num = math.floor(len(data) * 1/3) # data의 1/3을 정수로 읽음\n",
    "data = data[:part_num]\n",
    "print(len(data))"
   ]
  },
  {
   "cell_type": "markdown",
   "metadata": {
    "id": "mb57AHkHXmiS"
   },
   "source": [
    "## 데이터 분리"
   ]
  },
  {
   "cell_type": "code",
   "execution_count": null,
   "metadata": {
    "id": "QeWG4b-vXmYr"
   },
   "outputs": [],
   "source": [
    "from sklearn.model_selection import train_test_split\n",
    "\n",
    "data_text = [line[1] for line in data]\n",
    "data_senti = [line[2] for line in data]\n",
    "\n",
    "train_data_text, test_data_text, train_data_senti, test_data_senti = train_test_split(data_text, data_senti, stratify = data_senti)"
   ]
  },
  {
   "cell_type": "code",
   "execution_count": null,
   "metadata": {
    "colab": {
     "base_uri": "https://localhost:8080/"
    },
    "executionInfo": {
     "elapsed": 11,
     "status": "ok",
     "timestamp": 1656638306262,
     "user": {
      "displayName": "진창호",
      "userId": "09608549926967536417"
     },
     "user_tz": -540
    },
    "id": "7vZ4xVvIX-DG",
    "outputId": "0f3ca8eb-d78d-4702-81a2-23dc72b533e8"
   },
   "outputs": [
    {
     "name": "stdout",
     "output_type": "stream",
     "text": [
      "train_data_senti_freq :  Counter({'1': 24697, '0': 24692})\n",
      "test_data_senti_freq :  Counter({'1': 8233, '0': 8231})\n"
     ]
    }
   ],
   "source": [
    "from collections import Counter\n",
    "train_data_senti_freq = Counter(train_data_senti)\n",
    "print(\"train_data_senti_freq : \", train_data_senti_freq)\n",
    "\n",
    "test_data_senti_freq = Counter(test_data_senti)\n",
    "print(\"test_data_senti_freq : \", test_data_senti_freq)"
   ]
  },
  {
   "cell_type": "code",
   "execution_count": null,
   "metadata": {
    "colab": {
     "base_uri": "https://localhost:8080/"
    },
    "executionInfo": {
     "elapsed": 10,
     "status": "ok",
     "timestamp": 1656638306263,
     "user": {
      "displayName": "진창호",
      "userId": "09608549926967536417"
     },
     "user_tz": -540
    },
    "id": "1_8eU2Q7YbWL",
    "outputId": "cabf848c-721b-415f-a092-ba456410ce37"
   },
   "outputs": [
    {
     "name": "stdout",
     "output_type": "stream",
     "text": [
      "최소길이 :  1\n",
      "최대길이 :  68\n",
      "평균길이 :  8.8\n",
      "중위수길이 :  7.0\n",
      "구간별 최대 길이 :  [ 1.  4.  7. 11. 19. 68.]\n",
      "최소 길이 문장 :  그래도\n",
      "최대 길이 문장 :  찌꺼기 헌터 ㅋㅋ ㅋㅋ ㅋㅋ ㅋㅋ ㅋㅋ ㅋㅋ ㅋㅋ ㅋㅋ ㅋㅋ ㅋㅋ ㅋㅋ ㅋㅋ ㅋㅋ ㅋㅋ ㅋㅋ ㅋㅋ ㅋㅋ ㅋㅋ ㅋㅋ ㅋㅋ ㅋㅋ ㅋㅋ ㅋㅋ ㅋㅋ ㅋㅋ ㅋㅋ ㅋㅋ ㅋㅋ ㅋㅋ ㅋㅋ ㅋㅋ ㅋㅋ ㅋㅋ ㅋㅋ ㅋㅋ ㅋㅋ ㅋㅋ ㅋㅋ ㅋㅋ ㅋㅋ ㅋㅋ ㅋㅋ ㅋㅋ ㅋㅋ ㅋㅋ ㅋㅋ ㅋㅋ ㅋㅋ ㅋㅋ ㅋㅋ ㅋㅋ ㅋㅋ ㅋㅋ ㅋㅋ ㅋㅋ ㅋㅋ ㅋㅋ ㅋㅋ ㅋㅋ ㅋㅋ ㅋㅋ ㅋㅋ ㅋㅋ ㅋㅋ ㅋㅋ ㅋ\n"
     ]
    }
   ],
   "source": [
    "import numpy as np\n",
    "\n",
    "text_len = [len(line.split(' ')) for line in train_data_text]\n",
    "print(\"최소길이 : \", np.min(text_len))\n",
    "print(\"최대길이 : \", np.max(text_len))\n",
    "print(\"평균길이 : \", np.round(np.mean(text_len), 1))\n",
    "print(\"중위수길이 : \", np.median(text_len))\n",
    "print(\"구간별 최대 길이 : \", np.percentile(text_len, [0, 25, 50, 75, 90, 100])) # 90%인 20개를 담는 게 좋아 보임\n",
    "print(\"최소 길이 문장 : \", train_data_text[np.argmin(text_len)])\n",
    "print(\"최대 길이 문장 : \", train_data_text[np.argmax(text_len)])"
   ]
  },
  {
   "cell_type": "markdown",
   "metadata": {
    "id": "h9DZPabmaoSJ"
   },
   "source": [
    "## 데이터 Tokenizing"
   ]
  },
  {
   "cell_type": "code",
   "execution_count": null,
   "metadata": {
    "id": "gUkqiVKSaoim"
   },
   "outputs": [],
   "source": [
    "from keras.preprocessing.text import Tokenizer\n",
    "from keras.preprocessing.sequence import pad_sequences\n",
    "import numpy as np\n",
    "import math\n",
    "\n",
    "max_words = 10000\n",
    "maxlen = 20\n",
    "\n",
    "tokenizer = Tokenizer(num_words = max_words) # 상위 빈도 10000개가 적절\n",
    "tokenizer.fit_on_texts(train_data_text)\n",
    "word_index = tokenizer.word_index"
   ]
  },
  {
   "cell_type": "code",
   "execution_count": null,
   "metadata": {
    "colab": {
     "base_uri": "https://localhost:8080/"
    },
    "executionInfo": {
     "elapsed": 145,
     "status": "ok",
     "timestamp": 1656638324806,
     "user": {
      "displayName": "진창호",
      "userId": "09608549926967536417"
     },
     "user_tz": -540
    },
    "id": "Aa28n6MdbLJj",
    "outputId": "2069adea-65ca-4d71-8b55-412b60546bf2"
   },
   "outputs": [
    {
     "name": "stdout",
     "output_type": "stream",
     "text": [
      "전체에서 22082개의 고유한 토큰을 찾았습니다.\n",
      "word_index type :  <class 'dict'>\n",
      "word_index :  {'영화': 1, '하': 2, '보': 3, '없': 4, 'ㅋㅋ': 5, '재미있': 6, '좋': 7, '너무': 8, '되': 9, '있': 10, '정말': 11, '진짜': 12, '같': 13, '만들': 14, '나오': 15, '말': 16, '연기': 17, '최고': 18, '평점': 19, 'ㅋ': 20, '다': 21, '안': 22, '왜': 23, '이': 24, '알': 25, '잘': 26, '이런': 27, '주': 28, '스토리': 29, '드라마': 30, '때': 31, '더': 32, '사람': 33, '지루': 34, '배우': 35, '가': 36, '좀': 37, '내용': 38, '생각': 39, '감독': 40, '아깝': 41, '그냥': 42, '재미': 43, '재미없': 44, 'ㅠㅠ': 45, '시간': 46, '쓰레기': 47, '감동': 48, '모르': 49, '다시': 50, '들': 51, '처음': 52, '작품': 53, '기대': 54, '액션': 55, '완전': 56, '못하': 57, '사랑': 58, '아': 59, '마지막': 60, '그': 61, '많': 62, '참': 63, '정도': 64, '이야기': 65, '별로': 66, '남': 67, '쓰': 68, '못': 69, '이렇게': 70, '10점': 71, '장면': 72, 'ㅎㅎ': 73, '지금': 74, '느끼': 75, '오': 76, '보이': 77, '최악': 78, '무슨': 79, '끝': 80, '느낌': 81, '돈': 82, '마음': 83, '역시': 84, '명작': 85, '받': 86, '이것': 87, '주인공': 88, '여자': 89, '또': 90, '그리고': 91, '괜찮': 92, '안되': 93, '한국': 94, '이해': 95, '많이': 96, '좋아하': 97, '울': 98, 'ㅠ': 99, '연출': 100, '한': 101, 'ㅡㅡ': 102, '이상': 103, '웃기': 104, '그렇': 105, '대하': 106, '살': 107, '꼭': 108, '아름답': 109, '남자': 110, '공포': 111, '짱': 112, '인생': 113, '기억': 114, '크': 115, '내내': 116, '유치': 117, '아쉽': 118, '굿': 119, '죽': 120, '낮': 121, '아이': 122, '결말': 123, '날': 124, 'ㅎ': 125, '반전': 126, '소재': 127, '전': 128, '맞': 129, '도': 130, '수준': 131, '일본': 132, '감동적': 133, '다른': 134, '속': 135, '줄': 136, '가장': 137, '없이': 138, '나': 139, '뻔하': 140, '끝나': 141, '별': 142, '필요': 143, '전개': 144, '눈물': 145, '멋지': 146, '원작': 147, '가슴': 148, '애': 149, '어리': 150, '높': 151, 'ㅜㅜ': 152, '위하': 153, '이제': 154, '대박': 155, '찍': 156, '무섭': 157, '생각하': 158, '추천': 159, '캐릭터': 160, '잼': 161, '슬프': 162, '아직': 163, '인간': 164, '솔직히': 165, '길': 166, '모든': 167, '현실': 168, '눈': 169, '모두': 170, '여운': 171, '코미디': 172, '하지만': 173, '웃': 174, '실망': 175, '재밌': 176, '볼만하': 177, '아주': 178, '모습': 179, '와': 180, '영': 181, '어떻하': 182, '전혀': 183, '이쁘': 184, '점': 185, '작': 186, '수': 187, '계속': 188, '자': 189, '두': 190, '근데': 191, '공감': 192, '표현': 193, '자체': 194, 'ㅡ': 195, '연기력': 196, '개봉': 197, '음악': 198, '후': 199, '기분': 200, '내': 201, '매력': 202, '시리즈': 203, '작가': 204, '치': 205, '미치': 206, '요즘': 207, '고': 208, '진심': 209, '알바': 210, '그래도': 211, '억지': 212, '인': 213, '가족': 214, '긴장감': 215, '귀엽': 216, '막장': 217, '힘들': 218, '떨어지': 219, '제목': 220, '애니': 221, '다르': 222, '넘': 223, '먹': 224, '서': 225, '그런': 226, '친구': 227, '본': 228, '시작': 229, '부분': 230, '스릴러': 231, '물': 232, '극장': 233, '노래': 234, '빠지': 235, '대사': 236, '딱': 237, '부족': 238, '특히': 239, '대단': 240, '개인적': 241, '믿': 242, '점수': 243, '일': 244, '깊': 245, '죽이': 246, '짜증': 247, '싫': 248, '차라리': 249, '훌륭': 250, '제대로': 251, '제일': 252, '이유': 253, '라': 254, '영상': 255, '조금': 256, '삶': 257, '잇': 258, '듣': 259, '오랜만': 260, '강추': 261, '예쁘': 262, '함': 263, '찾': 264, '까': 265, '가지': 266, '미국': 267, '노잼': 268, '당시': 269, '빼': 270, '걍': 271, '짜증나': 272, '시대': 273, '우리나라': 274, '비': 275, '끄': 276, '몰입': 277, '절대': 278, '도대체': 279, '의': 280, '팬': 281, '엄청': 282, '앞': 283, '사랑하': 284, '리': 285, '맛': 286, '망': 287, '졸작': 288, '행복': 289, '미': 290, '자신': 291, '분': 292, '시나리오': 293, '타': 294, '시절': 295, '답답': 296, '함께': 297, '화': 298, '포스터': 299, '웃음': 300, '허접': 301, '엄마': 302, '지나': 303, '수작': 304, '캐스팅': 305, '중간': 306, '어설프': 307, '잘하': 308, '흥미': 309, '로': 310, '초반': 311, '그저': 312, '관객': 313, '설정': 314, '의미': 315, '욕': 316, '저': 317, '신': 318, '발': 319, '소리': 320, '전쟁': 321, '낫': 322, '그렇게': 323, '씬': 324, '킬링타임': 325, '진부': 326, '아프': 327, '완벽': 328, '분위기': 329, 'ㅜ': 330, '더빙': 331, '결국': 332, '제발': 333, '그리': 334, '코믹': 335, '이러': 336, '안타깝': 337, '어이없': 338, '멋있': 339, 'tv': 340, '어색': 341, '너무나': 342, '오늘': 343, '개연성': 344, '나쁘': 345, '잡': 346, '배경': 347, '문제': 348, '몰입도': 349, '추억': 350, '여기': 351, '트': 352, '애니메이션': 353, '아무리': 354, '감정': 355, '잊': 356, '생각나': 357, '사': 358, '급': 359, '불쌍': 360, '병': 361, '음': 362, '진정': 363, '예전': 364, '책': 365, '더럽': 366, '비하': 367, '집중': 368, '힘': 369, '어렵': 370, '구성': 371, '얼굴': 372, '보여주': 373, '영화관': 374, '짓': 375, '엔딩': 376, '배': 377, '어떤': 378, '만나': 379, '한번': 380, '마': 381, 'ㄷㄷ': 382, '만화': 383, '엇': 384, '읽': 385, '간만': 386, '얼마나': 387, '야': 388, '낭비': 389, '실화': 390, '티비': 391, '같이': 392, '옛날': 393, 'ㅇ': 394, '시즌': 395, '출연': 396, '뒤': 397, '머리': 398, '소름': 399, '어쩌': 400, '평가': 401, '후회': 402, '영상미': 403, '어울리': 404, '별점': 405, '그래서': 406, '주연': 407, '극': 408, '글': 409, '장르': 410, '역사': 411, '존': 412, '집': 413, '세': 414, '매우': 415, '걸작': 416, '정신': 417, '드리': 418, '안보': 419, '사실': 420, '잔잔': 421, '놈': 422, '요': 423, '따뜻': 424, '새롭': 425, '대체': 426, '으': 427, '스릴': 428, '갈수록': 429, '이리하': 430, '내가': 431, '시청': 432, '순수': 433, '이름': 434, '그나마': 435, '남기': 436, '약간': 437, '만점': 438, '돌': 439, '그대로': 440, '나이': 441, '따르': 442, '매력적': 443, '누구': 444, '시': 445, '뭐야': 446, '그만': 447, '이후': 448, '차': 449, '한마디': 450, '세상': 451, '로맨스': 452, '낚이': 453, '다큐': 454, '개': 455, '여배우': 456, '감사': 457, '위': 458, '비슷': 459, '독특': 460, '볼': 461, '기': 462, '딸': 463, '어느': 464, '살리': 465, '존나': 466, '바라': 467, '즐겁': 468, '망하': 469, '짜': 470, '재': 471, '현실적': 472, '밖': 473, '걸': 474, '여주인공': 475, '비교': 476, '성룡': 477, '잔잔하': 478, '방송': 479, '티': 480, '토': 481, '반': 482, '중국': 483, '훨씬': 484, '다음': 485, '수없': 486, '질질': 487, '상당히': 488, '화려': 489, '궁금': 490, '만': 491, '줄거리': 492, '소설': 493, '놓': 494, '심하': 495, '빨리': 496, '꽤': 497, '넘치': 498, 'ㅉㅉ': 499, '놀라': 500, '떠나': 501, '졸': 502, '상황': 503, '그러': 504, '장난': 505, '이리': 506, '운': 507, '끌': 508, '비디오': 509, '판타지': 510, '올리': 511, '혼자': 512, '거의': 513, '막': 514, 'ㄱ': 515, '평론가': 516, '꿀잼': 517, '인물': 518, '지': 519, '돋': 520, '여주': 521, '네': 522, '가볍': 523, '엉성': 524, '뜨': 525, '목소리': 526, '장': 527, '동안': 528, '잠': 529, '극장판': 530, '삼류': 531, '네이버': 532, '아들': 533, '피': 534, '가치': 535, '예술': 536, '각본': 537, '입': 538, '생기': 539, '초딩': 540, '바로': 541, '밑': 542, '우': 543, '평': 544, '쉽': 545, '어': 546, '유쾌': 547, '저런': 548, '기다리': 549, '그때': 550, '한영': 551, '주제': 552, '오래': 553, '너무너무': 554, '굉장히': 555, '점점': 556, '똥': 557, '김': 558, '무': 559, '성우': 560, '좀비': 561, '감성': 562, '터지': 563, '여러': 564, '담': 565, '꿈': 566, '아버지': 567, '봄': 568, '존재': 569, '돌리': 570, '카': 571, '풀': 572, '아빠': 573, '잔인': 574, '전부': 575, '사회': 576, '알리': 577, '한편': 578, '보내': 579, '이따': 580, '질': 581, '당하': 582, '부르': 583, '갑자기': 584, '이하': 585, '충격': 586, '대': 587, '원': 588, '예상': 589, '어른': 590, '다운': 591, '순간': 592, '도안': 593, '홍콩': 594, '나라': 595, '엄청나': 596, '잘못': 597, '끝내': 598, '역': 599, '이번': 600, '평범': 601, '일단': 602, '항상': 603, '쉬': 604, '넣': 605, '버리': 606, '첫': 607, '아무': 608, '역대': 609, '나가': 610, '탄탄': 611, '복수': 612, '깨': 613, '요소': 614, '화이팅': 615, '귀': 616, '잃': 617, '화면': 618, '감': 619, '총': 620, '아까': 621, '댓글': 622, '멜로': 623, '귀신': 624, '그러나': 625, '편': 626, '스타일': 627, '과': 628, '신선': 629, '훈훈': 630, '어이': 631, '중요': 632, '한심': 633, '불륜': 634, '신선하': 635, '파': 636, '흥미진진': 637, '갖': 638, '취향': 639, '진행': 640, '미안': 641, '달리': 642, '학교': 643, '불편': 644, '연출력': 645, '똑같': 646, '식상': 647, '그리하': 648, '제작': 649, '허무': 650, '즐기': 651, '의도': 652, '교훈': 653, '개그': 654, '코메디': 655, '만족': 656, '왕': 657, '사건': 658, '따뜻하': 659, '걸리': 660, '그립': 661, '전체적': 662, '단': 663, '뛰어나': 664, '몸': 665, '미화': 666, '인상적': 667, '물론': 668, '원래': 669, '프랑스': 670, '강하': 671, '황당': 672, '전형적': 673, '찌': 674, '손': 675, '매': 676, '후반부': 677, '더욱': 678, '돋보이': 679, '헐': 680, '무조건': 681, '잊히': 682, '흥행': 683, '소녀': 684, '전편': 685, '망치': 686, '찾아보': 687, '맞추': 688, '선택': 689, '놀랍': 690, '박': 691, '게임': 692, '뭐': 693, '세계': 694, '세상에': 695, '관심': 696, '곳': 697, '쩔': 698, '단순': 699, '후반': 700, '도저히': 701, '답': 702, '편집': 703, '류': 704, '팔': 705, '충분히': 706, '인상': 707, '연기자': 708, '통하': 709, '관람': 710, '자연': 711, '모으': 712, 'ㅅ': 713, '흐르': 714, '윤': 715, '그닥': 716, '에': 717, '짧': 718, '진지': 719, '또한': 720, '대작': 721, '앗': 722, '숨': 723, '노력': 724, '들어가': 725, '구': 726, '전달': 727, '죽음': 728, 'ㅈ': 729, '괜히': 730, 'ㄷ': 731, '다니': 732, '참신': 733, '여': 734, '까지': 735, '들이': 736, '최': 737, '해보': 738, '거지': 739, '스타': 740, '디': 741, '시키': 742, '그래': 743, '간': 744, '마치': 745, '메': 746, '최근': 747, '결혼': 748, '돌아가': 749, '우연히': 750, '흠': 751, '년': 752, '성': 753, '노출': 754, '오글거리': 755, '벌': 756, '새끼': 757, '멀': 758, '정': 759, '억지로': 760, '메세지': 761, '조연': 762, '형': 763, '켜': 764, '먼저': 765, '오히려': 766, '촬영': 767, '적당': 768, '벗': 769, '비추': 770, '바꾸': 771, '아저씨': 772, '서로': 773, '엉망': 774, '틀': 775, '그런데': 776, '예산': 777, '생': 778, '특유': 779, '등장': 780, '상영': 781, '범죄': 782, '싸우': 783, '아쉬움': 784, '제작비': 785, '이해하': 786, '설명': 787, '끼': 788, '명': 789, 'ㄴ': 790, '완성도': 791, '효과': 792, '로맨틱': 793, 'ㄹ': 794, '지겹': 795, '자꾸': 796, '졸리': 797, '그래픽': 798, '동생': 799, '내리': 800, '마무리': 801, '레': 802, '상': 803, '범인': 804, '다만': 805, '맨': 806, '노': 807, '아놔': 808, '살인': 809, '현재': 810, '충격적': 811, '젤': 812, '프로그램': 813, '놀': 814, '예고편': 815, '독립': 816, '흘리': 817, '청춘': 818, '멍청': 819, '역겹': 820, '삼': 821, '졸라': 822, '울리': 823, '관계': 824, '그럼': 825, '열': 826, '남주': 827, '어찌': 828, '중반': 829, '예': 830, '대한민국': 831, '다루': 832, '에로': 833, '광고': 834, '희망': 835, '스케일': 836, '따': 837, '왠지': 838, '리뷰': 839, '감상': 840, '워': 841, '능력': 842, '이야': 843, '먹먹': 844, '코': 845, '부': 846, '부모': 847, '밤': 848, '저렇': 849, '심리': 850, '잘생기': 851, '바보': 852, '전설': 853, '법': 854, '굳': 855, '사라지': 856, '진실': 857, '겁나': 858, '암': 859, '전작': 860, '저질': 861, '베': 862, '연': 863, '경찰': 864, '흔하': 865, 'ㅅㅂ': 866, '아무것': 867, '적': 868, '빌': 869, '셈': 870, '분명': 871, '무비': 872, '찡': 873, '야하': 874, '가득': 875, '상상': 876, '미래': 877, '이미': 878, '나중': 879, '게이': 880, '다소': 881, '유': 882, '카메라': 883, '심심': 884, '일어나': 885, '핵': 886, '어린이': 887, '영웅': 888, '빠': 889, '초': 890, '성장': 891, '속편': 892, '한계': 893, '슬': 894, '시도': 895, '실제': 896, '우울': 897, '한데': 898, '조폭': 899, '달': 900, '가능': 901, '과정': 902, '유머': 903, '대충': 904, '이러하': 905, '여전히': 906, '체': 907, '신기': 908, '욕하': 909, '동화': 910, '열심히': 911, '원하': 912, '빠르': 913, '히': 914, '인가': 915, '지나치': 916, '불': 917, '전기세': 918, '포장': 919, '과거': 920, '역할': 921, '여성': 922, '약': 923, '소중': 924, '촌': 925, '사이': 926, '그림': 927, '빵': 928, '채널': 929, '악': 930, '위대': 931, '살짝': 932, '박수': 933, '이기': 934, '갑': 935, '뜻': 936, '메시지': 937, '인하': 938, '다행': 939, '소': 940, '결론': 941, '쏘': 942, '유쾌하': 943, '구하': 944, '언제나': 945, '날리': 946, '써': 947, '타임': 948, '코난': 949, '괴물': 950, '표정': 951, '펑펑': 952, '손발': 953, '빌리': 954, '늘': 955, '재밌게': 956, '운영': 957, '와닿': 958, 'ㅁ': 959, '차이': 960, '오빠': 961, '질리': 962, '휴': 963, '남편': 964, '심': 965, '산만': 966, '감탄': 967, '프로': 968, '제작진': 969, '용서': 970, '조잡': 971, '군대': 972, '바뀌': 973, '보고': 974, '내생': 975, '성인': 976, '묻': 977, '아이돌': 978, '평이': 979, '사극': 980, '가끔': 981, '몸매': 982, '깊이': 983, '약하': 984, '싸이코': 985, '테': 986, '기억나': 987, '릴': 988, '던지': 989, '시청자': 990, '평생': 991, '소장': 992, '중의': 993, '포': 994, '인정': 995, '미소': 996, '커플': 997, '불구': 998, '과연': 999, '중간중간': 1000, '군': 1001, '엿': 1002, '느와르': 1003, '리메이크': 1004, '행동': 1005, '소소': 1006, '언니': 1007, '어제': 1008, '케이블': 1009, '태어나': 1010, '묘사': 1011, '굳이': 1012, '히어로': 1013, '깔끔': 1014, '되게': 1015, '얼': 1016, '터': 1017, '어린': 1018, '인기': 1019, '온': 1020, '유명하': 1021, '선생': 1022, '얻': 1023, '표절': 1024, '독': 1025, '하나하나': 1026, '힐링': 1027, '왠': 1028, '훨': 1029, '거리': 1030, '중': 1031, '광': 1032, '섹스': 1033, '성공': 1034, '그럭저럭': 1035, '실패': 1036, '살아가': 1037, '긴하': 1038, '덕': 1039, '어떻': 1040, '드럽': 1041, '데리': 1042, '몰입감': 1043, '무겁': 1044, '확실히': 1045, '자식': 1046, '방': 1047, '새': 1048, '리얼': 1049, '톰': 1050, '우정': 1051, '금': 1052, '비주얼': 1053, '분노': 1054, '긴장': 1055, '녀': 1056, '캐': 1057, '특수': 1058, '아줌마': 1059, '난해': 1060, '천재': 1061, '판': 1062, '포기': 1063, '정서': 1064, '떠오르': 1065, '충분': 1066, '허술': 1067, '형님': 1068, '빡': 1069, '업': 1070, '강': 1071, '여행': 1072, '존경': 1073, '자막': 1074, '쥬': 1075, '씨': 1076, '호러': 1077, '하루': 1078, '뭉클': 1079, '특별': 1080, '슬픔': 1081, '해': 1082, '외모': 1083, '지도': 1084, '감명': 1085, '챙기': 1086, '전문가': 1087, '통쾌': 1088, '새벽': 1089, '글쎄': 1090, '지우': 1091, '이때': 1092, '빛나': 1093, '이연걸': 1094, '노답': 1095, '불가': 1096, '선': 1097, '아역': 1098, '게다가': 1099, '짱짱': 1100, '용': 1101, '막판': 1102, '담기': 1103, '이루': 1104, '코드': 1105, '젊은': 1106, '암튼': 1107, '덕분': 1108, '방식': 1109, '오르': 1110, '사귀': 1111, '음악도': 1112, '고맙': 1113, '아련': 1114, '러브': 1115, '입장': 1116, '님': 1117, '무시': 1118, '뮤지컬': 1119, '연애': 1120, '멋': 1121, '상상력': 1122, '딱히': 1123, '오버': 1124, '애기': 1125, '본건': 1126, 'ㅏ': 1127, '말자': 1128, '건': 1129, '막히': 1130, '공부': 1131, '정말로': 1132, '죄': 1133, '나머지': 1134, '상처': 1135, '그다지': 1136, '창': 1137, '동': 1138, '아마': 1139, '테러': 1140, '눈빛': 1141, '에피소드': 1142, '형사': 1143, '고전': 1144, '국내': 1145, '종교': 1146, '늙': 1147, '에휴': 1148, '애인': 1149, '런': 1150, '현': 1151, '기자': 1152, '실력': 1153, '악역': 1154, 'ㅇㅇ': 1155, '연결': 1156, '벌써': 1157, '쿠': 1158, '아침': 1159, '볼거리': 1160, '바람': 1161, '짐': 1162, '함의': 1163, '퀄리티': 1164, '섬세': 1165, '국민': 1166, '쩝': 1167, '키스': 1168, '옷': 1169, '태': 1170, '자극적': 1171, '방금': 1172, '닮': 1173, '허': 1174, '임': 1175, '싫어하': 1176, '싸구려': 1177, '헐리우드': 1178, '아픔': 1179, '방법': 1180, '청소년': 1181, '시원': 1182, '아오': 1183, '느리': 1184, '마이클': 1185, '남녀': 1186, '오브': 1187, '웬만하': 1188, '주말': 1189, '우와': 1190, '때리': 1191, '무협': 1192, '지구': 1193, '개판': 1194, '밥': 1195, '루': 1196, '치밀': 1197, '희': 1198, '미스': 1199, '잔인하': 1200, '진리': 1201, '본방': 1202, '호': 1203, '지금보': 1204, '싸': 1205, '지키': 1206, '한국인': 1207, '씁쓸': 1208, '패': 1209, '빛': 1210, '제로': 1211, '마이너스': 1212, '디즈니': 1213, '싸움': 1214, '열정': 1215, '본인': 1216, '대부분': 1217, '스스로': 1218, '그렇지': 1219, '고생': 1220, '말하': 1221, '연속': 1222, '솔직': 1223, '장난하': 1224, '찝찝': 1225, '환상': 1226, '시걸': 1227, '이보': 1228, '필름': 1229, '부끄럽': 1230, '꼴': 1231, '소년': 1232, '춤': 1233, '잭': 1234, '끌리': 1235, '신경': 1236, '한참': 1237, '경험': 1238, '품': 1239, '문화': 1240, '레전드': 1241, '흑': 1242, '영원히': 1243, '신나': 1244, '시선': 1245, '무지': 1246, '맨날': 1247, '악당': 1248, '로그인': 1249, '낳': 1250, '흐름': 1251, '관점': 1252, '갈등': 1253, '전하': 1254, '강렬': 1255, '압권': 1256, '썩': 1257, '빠져들': 1258, '레알': 1259, '그만큼': 1260, '각': 1261, '의문': 1262, '숨기': 1263, '색다르': 1264, '푸': 1265, '이제야': 1266, '러닝타임': 1267, '깨닫': 1268, '민망': 1269, '펴': 1270, '주성치': 1271, '짝': 1272, '주변': 1273, '투자': 1274, '이미지': 1275, '죄다': 1276, '로봇': 1277, '뇌': 1278, '설레': 1279, '발견': 1280, '탑': 1281, '동물': 1282, '외계인': 1283, '다큐멘터리': 1284, '효': 1285, '재난': 1286, '영국': 1287, '올해': 1288, '영원': 1289, '의심': 1290, '검색': 1291, '희생': 1292, '내면': 1293, '터미네이터': 1294, '탓': 1295, '사진': 1296, '지르': 1297, '가진': 1298, '착하': 1299, '결과': 1300, '고통': 1301, '양': 1302, '얼마': 1303, '반복': 1304, '고르': 1305, '놓치': 1306, '화끈': 1307, '꽝': 1308, '영혼': 1309, '폭력': 1310, '그지': 1311, '공': 1312, '의영': 1313, '면': 1314, '불쾌': 1315, '짝퉁': 1316, '할머니': 1317, '의리': 1318, '끼치': 1319, '이어지': 1320, '조절': 1321, '따라가': 1322, '재미나': 1323, '해피엔딩': 1324, '꼽': 1325, '외국': 1326, '컷': 1327, '뽑': 1328, '리즈': 1329, '어머니': 1330, '출연진': 1331, '스트레스': 1332, '시트콤': 1333, '복잡': 1334, '초등학교': 1335, '의사': 1336, '실제로': 1337, '참고': 1338, '관하': 1339, '풋풋': 1340, '나서': 1341, 'ebs': 1342, '어휴': 1343, '유발': 1344, '극치': 1345, '허세': 1346, '하나': 1347, '칼': 1348, '해석': 1349, '등장인물': 1350, '오글': 1351, '가깝': 1352, '학생': 1353, '시시': 1354, '과장': 1355, '넘기': 1356, '아동': 1357, '견자': 1358, '대화': 1359, '피해자': 1360, '명화': 1361, '절': 1362, '응원': 1363, '북한': 1364, '패러디': 1365, '채': 1366, '일상': 1367, '처': 1368, '뜬금없': 1369, '세련': 1370, '대본': 1371, '전개도': 1372, '라인': 1373, '자살': 1374, '오래전': 1375, '송': 1376, '홍보': 1377, '흘러가': 1378, '적절': 1379, '시사회': 1380, '드물': 1381, '쥐': 1382, '조작': 1383, '비판': 1384, '다양': 1385, '기가': 1386, '푹': 1387, '늦': 1388, '모자라': 1389, '높이': 1390, '거슬리': 1391, '덜': 1392, '상태': 1393, '꼬': 1394, '설마': 1395, '어둡': 1396, '꿈꾸': 1397, '당연': 1398, '붕': 1399, '편하': 1400, '추': 1401, '점정': 1402, '기도': 1403, '헐리웃': 1404, '조합': 1405, '위로': 1406, '개막': 1407, '형편없': 1408, '절정': 1409, '악마': 1410, '확실': 1411, '영어': 1412, '바라보': 1413, '미드': 1414, '아예': 1415, '세기': 1416, '은': 1417, '떨': 1418, '왜곡': 1419, '시각': 1420, '프': 1421, '말해': 1422, '개념': 1423, '고민': 1424, '심각': 1425, 'ㅗ': 1426, '포인트': 1427, '소름끼치': 1428, '해라': 1429, '대신': 1430, '캐리': 1431, '발전': 1432, '비현실적': 1433, '기술': 1434, '심장': 1435, '아류': 1436, '명품': 1437, '예수': 1438, '학년': 1439, '인도': 1440, '전율': 1441, '자리': 1442, '다가오': 1443, '크리스마스': 1444, '건지': 1445, '문': 1446, '들어오': 1447, '붙이': 1448, '영화계': 1449, '채우': 1450, '아래': 1451, '겟다': 1452, '화나': 1453, '표': 1454, '브루스': 1455, '사수': 1456, '강력': 1457, '국가': 1458, '자유': 1459, '냄새': 1460, '사상': 1461, '일깨우': 1462, '밋밋': 1463, '개인': 1464, '조선': 1465, '감흥': 1466, '돌아오': 1467, '겨울': 1468, 'ㅣ': 1469, '봐주': 1470, '아이디어': 1471, '이끌': 1472, '운명': 1473, '스포': 1474, '기본': 1475, '변하': 1476, '믿기': 1477, '대통령': 1478, '베스트': 1479, '신의': 1480, '매일': 1481, '빵빵': 1482, '포르노': 1483, '술': 1484, '한장': 1485, '수고': 1486, '넘어가': 1487, '묘하': 1488, '하긴': 1489, '초등학생': 1490, '홍상수': 1491, '기독교': 1492, '색': 1493, '잉': 1494, '빨': 1495, '더불': 1496, '반하': 1497, '잔혹': 1498, '보통': 1499, '링': 1500, '생활': 1501, '별반': 1502, '넘넘': 1503, '꺼지': 1504, '흉내': 1505, '생생': 1506, '올라가': 1507, '만남': 1508, '잠깐': 1509, '패스': 1510, '옆': 1511, '자주': 1512, '몰': 1513, '줌': 1514, '동시': 1515, '전체': 1516, '의외로': 1517, '오바': 1518, '센스': 1519, '콘': 1520, '아내': 1521, '다이': 1522, '벗어나': 1523, '탈출': 1524, '전투': 1525, '엄': 1526, '틈': 1527, '아니야': 1528, '신분': 1529, '무척': 1530, '유덕화': 1531, '의하': 1532, '공짜': 1533, '부실': 1534, '김기덕': 1535, '삭제': 1536, '즐': 1537, '꼬마': 1538, '밝': 1539, '주연배': 1540, '따로': 1541, '바다': 1542, '양심': 1543, '확': 1544, '모이': 1545, '깎': 1546, '개성': 1547, '본사': 1548, '해리포터': 1549, '대놓고': 1550, '흐': 1551, '아무런': 1552, '내일': 1553, '열받': 1554, '와우': 1555, '비극': 1556, '최강': 1557, '잔뜩': 1558, '것': 1559, '유일': 1560, '모험': 1561, '뛰': 1562, '이렇': 1563, '회': 1564, '여친': 1565, '구리': 1566, '스티븐': 1567, '결코': 1568, '편견': 1569, '동성애': 1570, '조니뎁': 1571, '땅': 1572, '제시카': 1573, '자극': 1574, '완전히': 1575, '시끄럽': 1576, '욕망': 1577, '엔': 1578, '유일하': 1579, '근래': 1580, '네티즌': 1581, '조화': 1582, '키우': 1583, '스텝': 1584, '우주': 1585, '기법': 1586, '한사람': 1587, '잔': 1588, '앉': 1589, '상업': 1590, '맡': 1591, '산': 1592, '안습': 1593, '제이슨': 1594, '런닝': 1595, '후속작': 1596, '맥': 1597, '설득력': 1598, '젖': 1599, '섹시': 1600, '팀': 1601, '기만': 1602, '응': 1603, '연인': 1604, '사실적': 1605, '확인': 1606, '연예인': 1607, '한숨': 1608, '미모': 1609, '나타나': 1610, '예능': 1611, '꾸': 1612, '캬': 1613, '세월': 1614, '깜짝': 1615, '클레멘타인': 1616, '갖추': 1617, '오랫만': 1618, '밝히': 1619, '기회': 1620, '개뿔': 1621, '밀': 1622, '디테일': 1623, '걱정': 1624, '부럽': 1625, '불가능': 1626, '거짓말': 1627, '가수': 1628, '단지': 1629, '계기': 1630, '환상적': 1631, '잠들': 1632, '성격': 1633, '인형': 1634, '슈퍼': 1635, '예고': 1636, '직접': 1637, '트랜스': 1638, '순': 1639, '따지': 1640, '샘': 1641, '시점': 1642, '주제가': 1643, '심지어': 1644, '마르': 1645, '감히': 1646, '블랙': 1647, '탄생': 1648, '잘나': 1649, '영구': 1650, '풍경': 1651, '누나': 1652, '알아보': 1653, '풍자': 1654, '기준': 1655, '떼': 1656, '그동안': 1657, '로코': 1658, '우려먹': 1659, '다리': 1660, '낚': 1661, '기발': 1662, '관련': 1663, '그린': 1664, '짜임새': 1665, '골': 1666, '신비': 1667, '공포물': 1668, '무술': 1669, '생애': 1670, '각색': 1671, '가정': 1672, '실수': 1673, '삶이': 1674, '당': 1675, '꽃': 1676, '내놓': 1677, '민': 1678, '겉': 1679, '은거': 1680, '드러나': 1681, '겪': 1682, '중심': 1683, '거장': 1684, '김치': 1685, '용기': 1686, '블록버스터': 1687, '쪽': 1688, '정치': 1689, '풀어내': 1690, '짠하': 1691, '도전': 1692, '목적': 1693, '록': 1694, '움직이': 1695, '도무지': 1696, '달달': 1697, '폐지': 1698, '승': 1699, '자랑': 1700, '영화화': 1701, '말아먹': 1702, '선물': 1703, '하도': 1704, '절대로': 1705, '비밀': 1706, '카리스마': 1707, '작위적': 1708, '니콜': 1709, '돌아보': 1710, '장국영': 1711, '지나가': 1712, 'ㅓ': 1713, '자르': 1714, '벨': 1715, '다크': 1716, '졸업': 1717, 'ㅊ': 1718, '내시': 1719, '고양이': 1720, '키': 1721, '인간적': 1722, '목숨': 1723, '해결': 1724, '제임스': 1725, '붙': 1726, '궁금하': 1727, '일으키': 1728, '리얼리티': 1729, '부리': 1730, '듣기': 1731, '어처구니': 1732, '젠장': 1733, '습': 1734, '단연': 1735, '아끼': 1736, '가족영화': 1737, '깜놀': 1738, '하늘': 1739, '하정우': 1740, '이전': 1741, '컴퓨터': 1742, '울컥': 1743, '이기적': 1744, '감안': 1745, '명장면': 1746, '심오': 1747, '피해': 1748, '컨셉': 1749, '접하': 1750, '부담': 1751, '외롭': 1752, '식': 1753, '겨우': 1754, '향하': 1755, '깡패': 1756, '형제': 1757, '검': 1758, '씹': 1759, '단어': 1760, '단순히': 1761, '선동': 1762, '깍': 1763, '숀': 1764, '안무': 1765, '아놀드': 1766, '매니아': 1767, '계시': 1768, '하아': 1769, '종영': 1770, '억울': 1771, '혹은': 1772, '빵점': 1773, '정이': 1774, '당황': 1775, '후속': 1776, '자동차': 1777, '데': 1778, '을': 1779, '난잡': 1780, '다세포': 1781, '적어도': 1782, '참나': 1783, '무대': 1784, '변화': 1785, '콩': 1786, '지옥': 1787, '도시': 1788, '첫사랑': 1789, '중학교': 1790, '베드신': 1791, '보일': 1792, '떡': 1793, '말투': 1794, '거북': 1795, '어쩜': 1796, '비호': 1797, '끈': 1798, '명성': 1799, '짜릿': 1800, '폴': 1801, '감정이입': 1802, '하나같이': 1803, '이소룡': 1804, '깨알': 1805, '괴': 1806, '징': 1807, '담배': 1808, '튀': 1809, '정보': 1810, '교회': 1811, '충실': 1812, '갓': 1813, '락': 1814, '털': 1815, '욕심': 1816, '국': 1817, '무리': 1818, '누르': 1819, '철학': 1820, '마이': 1821, '과하': 1822, '윌리스': 1823, '이용': 1824, '발상': 1825, '이어': 1826, '통': 1827, '플롯': 1828, '배경음악': 1829, '만약': 1830, '워낙': 1831, '늑대': 1832, '일본인': 1833, '탁월': 1834, '우기': 1835, '할아버지': 1836, '영향': 1837, '조카': 1838, '버전': 1839, '개재': 1840, '헛웃음': 1841, '일반': 1842, '앞서': 1843, '현대': 1844, '부탁': 1845, '의상': 1846, '최초': 1847, '임창정': 1848, '난리': 1849, '참여': 1850, '늘어지': 1851, '수많': 1852, '않': 1853, '이토록': 1854, '여름': 1855, '특이': 1856, '로버트': 1857, '뛰어넘': 1858, '손가락': 1859, '철학적': 1860, '상영관': 1861, '신고': 1862, '독일': 1863, '대사들': 1864, '중독': 1865, '하품': 1866, '천사': 1867, '요새': 1868, '뱀파이어': 1869, '에이': 1870, '여인': 1871, '담담': 1872, '재능': 1873, '도움': 1874, '박진감': 1875, '짠': 1876, '견디': 1877, '월': 1878, '엑스': 1879, '상관없': 1880, '평소': 1881, '포스': 1882, '배역': 1883, '공간': 1884, '재수': 1885, '비중': 1886, '부부': 1887, '목': 1888, '유리': 1889, '로빈': 1890, '얘': 1891, '도데체': 1892, '일부러': 1893, '간지': 1894, '귀여움': 1895, '권상우': 1896, '션': 1897, '구조': 1898, '립': 1899, '장애': 1900, '차리': 1901, '인지도': 1902, '절로': 1903, '잠시': 1904, '동심': 1905, '고딩': 1906, '인내심': 1907, '불과': 1908, '찬양': 1909, '하지원': 1910, '현실감': 1911, '뛰어다니': 1912, '심형래': 1913, '값': 1914, '빈약': 1915, '변태': 1916, '혹시': 1917, '건강': 1918, '걷': 1919, '정신없': 1920, '범죄자': 1921, '인터넷': 1922, '길이': 1923, '신파': 1924, '상어': 1925, '뜬금없이': 1926, '이병헌': 1927, '반담': 1928, '흑인': 1929, '킬': 1930, '애초': 1931, '크레딧': 1932, '쿵': 1933, '정사': 1934, '조용': 1935, '소통': 1936, 'ㅆ': 1937, '데이': 1938, '닥치': 1939, '해내': 1940, '쿡': 1941, '천국': 1942, '드라': 1943, '심사': 1944, '의식': 1945, '멈추': 1946, '페이': 1947, '쓸': 1948, '진하': 1949, '근': 1950, '케빈': 1951, '바치': 1952, '종': 1953, '스크린': 1954, '및': 1955, '극장가': 1956, '지치': 1957, '오락영': 1958, '배급사': 1959, '대결': 1960, '동영상': 1961, '밀라': 1962, '양아치': 1963, '홧팅': 1964, '설': 1965, '최대': 1966, '민폐': 1967, '우뢰매': 1968, '거품': 1969, '동네': 1970, '다하': 1971, '보기': 1972, '분량': 1973, '열연': 1974, '인류': 1975, '정우성': 1976, '담아내': 1977, '지지': 1978, '끼우': 1979, '전반적': 1980, '잭슨': 1981, '아기': 1982, '옛': 1983, '취급': 1984, '바닥': 1985, '바탕': 1986, '영화적': 1987, '여태': 1988, '끊': 1989, '중년': 1990, '정작': 1991, '못되': 1992, '한방': 1993, '썰': 1994, '여러모로': 1995, '바르': 1996, '무식': 1997, '어쩌면': 1998, '일품': 1999, '낚시': 2000, '드니로': 2001, '반성': 2002, '원조': 2003, '정부': 2004, '강동원': 2005, '넘어서': 2006, '극적': 2007, '사용': 2008, '이지': 2009, '염': 2010, '장난치': 2011, '반드시': 2012, '치유': 2013, '고등학교': 2014, '그림체': 2015, '기획': 2016, '주윤발': 2017, '위험': 2018, '최소한': 2019, '마시': 2020, '당장': 2021, '헤어지': 2022, '호구': 2023, '상당': 2024, 'kbs': 2025, '방영': 2026, '선수': 2027, '착각': 2028, '지저분': 2029, '못생기': 2030, '혐오': 2031, '소화': 2032, '폰': 2033, '서울': 2034, '집착': 2035, '추가': 2036, '위트': 2037, '보신': 2038, '몽': 2039, '평균': 2040, '호기심': 2041, '이르': 2042, '개그맨': 2043, '빨갱이': 2044, '명대사': 2045, '란': 2046, '익숙': 2047, '최고봉': 2048, '오그라들': 2049, '저지르': 2050, '족': 2051, '끔찍': 2052, '남성': 2053, '저급': 2054, '들리': 2055, '쌩': 2056, '고증': 2057, '아있': 2058, '가족애': 2059, '쓸데없이': 2060, '차별': 2061, '환경': 2062, '틀리': 2063, '마냥': 2064, '때우': 2065, '달콤': 2066, '곡': 2067, '관': 2068, '웬만': 2069, '정신병자': 2070, '힘내': 2071, '영화사': 2072, '장점': 2073, '축구': 2074, '점주': 2075, '사운드': 2076, '뒤죽박죽': 2077, '때로': 2078, '가면': 2079, '수입': 2080, '늘리': 2081, '혀': 2082, '제작자': 2083, '교육': 2084, '두개': 2085, '뎅': 2086, '무료': 2087, '진수': 2088, '글자': 2089, '처절': 2090, '때가': 2091, '토니': 2092, '픽': 2093, '아야': 2094, '최후': 2095, '낮추': 2096, '뻔': 2097, '쇼': 2098, '애정': 2099, '행': 2100, '분장': 2101, '한순간': 2102, '외국인': 2103, '은근히': 2104, '감각': 2105, '짱구': 2106, '움': 2107, '퍼': 2108, '만화책': 2109, '가짜': 2110, '기적': 2111, '굳굳': 2112, '한가': 2113, '흑백': 2114, '안타': 2115, '차원': 2116, '대중': 2117, '파격적': 2118, '판단': 2119, '이은주': 2120, '사회적': 2121, '사고': 2122, '구분': 2123, '폐': 2124, '도중': 2125, '어떠': 2126, '출연자': 2127, '나누': 2128, '고하': 2129, '요리': 2130, '미스테리': 2131, '고인': 2132, '명복': 2133, '질문': 2134, '잡히': 2135, '관람객': 2136, 'ㅇㅇㅇ': 2137, '존스': 2138, '그르': 2139, '브래드': 2140, '주기': 2141, '외치': 2142, '모양': 2143, '배트맨': 2144, '루즈': 2145, '앞뒤': 2146, '거부감': 2147, '발음': 2148, '사투리': 2149, '짬뽕': 2150, '떠올리': 2151, '예술영화': 2152, '몇': 2153, 'ㄲ': 2154, '세대': 2155, '고독': 2156, '도망가': 2157, '오프닝': 2158, '무너지': 2159, '적당히': 2160, '미니': 2161, '블랙코미디': 2162, '전성기': 2163, '후하': 2164, '상실': 2165, '아무튼': 2166, '아만다': 2167, '무한': 2168, '흥분': 2169, '덤': 2170, '고뇌': 2171, '최민수': 2172, '드디어': 2173, '제니퍼': 2174, '이별': 2175, '재앙': 2176, '식의': 2177, '김희선': 2178, '예측': 2179, '연상': 2180, '헤': 2181, '이남': 2182, '나루': 2183, '혹평': 2184, '떡밥': 2185, '살인마': 2186, '섬': 2187, '열라': 2188, '나이트': 2189, '따분': 2190, '만세': 2191, '신화': 2192, '승리': 2193, '각자': 2194, '당연히': 2195, '기존': 2196, '킬링': 2197, '논리': 2198, '슈': 2199, '비극적': 2200, '화장실': 2201, '어우러지': 2202, '추리': 2203, '류승범': 2204, '피아노': 2205, '돼지': 2206, '스포츠': 2207, '더하': 2208, '과학': 2209, '재개봉': 2210, '규': 2211, '곧': 2212, '정주': 2213, '제외': 2214, '생명': 2215, '치료': 2216, '작화': 2217, '원숭이': 2218, '손예진': 2219, '역사상': 2220, '킹': 2221, '스릴감': 2222, '탐': 2223, 'ㅂ': 2224, '아리': 2225, '뚱': 2226, '새삼': 2227, '갈리': 2228, '애절': 2229, '방해': 2230, '공주': 2231, '절제': 2232, '섹시하': 2233, '음향': 2234, '반갑': 2235, '없애': 2236, '여자애': 2237, '점도': 2238, '유아': 2239, '하이틴': 2240, '꿀': 2241, '강간': 2242, '본능': 2243, '김혜수': 2244, '덩어리': 2245, '만화영화': 2246, '재치': 2247, '먹이': 2248, '스파이더맨': 2249, '모자': 2250, '유지': 2251, '정리': 2252, '영화감독': 2253, '의외': 2254, '유치원': 2255, '스파이': 2256, 'ㅐ': 2257, '애니매이션': 2258, '연극': 2259, '군인': 2260, '향기': 2261, '편안': 2262, '에라이': 2263, '오로라': 2264, '기본적': 2265, '별것': 2266, '마약': 2267, '믿음': 2268, '죄송': 2269, '슈퍼맨': 2270, '듯': 2271, '욕먹': 2272, '뜨겁': 2273, '우디': 2274, '애잔': 2275, '아오이': 2276, '반대': 2277, '어째': 2278, '저리': 2279, '말리': 2280, '가난': 2281, '의지': 2282, '첨부': 2283, '만하': 2284, '준비': 2285, '무간': 2286, '속지': 2287, '키드먼': 2288, '라이언': 2289, '색감': 2290, '케이': 2291, '최소': 2292, '힐': 2293, '봉': 2294, '하하': 2295, '또라이': 2296, '프리': 2297, '클리셰': 2298, '희대': 2299, '도라': 2300, '단점': 2301, '사이코': 2302, '호불호': 2303, '집기': 2304, '스톤': 2305, '군더더기': 2306, '역활': 2307, '럼': 2308, '각각': 2309, '리암': 2310, '닥터': 2311, '액': 2312, '베일': 2313, '어중간': 2314, '파리': 2315, '구로': 2316, '장애인': 2317, '박히': 2318, '흡입력': 2319, '블루': 2320, '별다르': 2321, '년도': 2322, '극복': 2323, '비행기': 2324, '허나': 2325, '신인': 2326, '무기': 2327, '장진': 2328, '홍': 2329, '안쓰럽': 2330, '상대': 2331, '하하하': 2332, '침': 2333, '왓': 2334, '멍': 2335, '어정쩡': 2336, '정화': 2337, '차승원': 2338, '멜': 2339, '밀리': 2340, '그라드': 2341, '최민식': 2342, '접': 2343, '기영화': 2344, '뒤늦': 2345, '뻔뻔': 2346, '겉멋': 2347, '피하': 2348, '여전': 2349, '정의': 2350, '음식': 2351, '마음속': 2352, '공중': 2353, '운동': 2354, '버티': 2355, '공유': 2356, '버스': 2357, 'mbc': 2358, '학창': 2359, '소개': 2360, '더욱더': 2361, '난무': 2362, '정점': 2363, '왕조현': 2364, '뽕': 2365, '언젠가': 2366, '마리': 2367, '쭉': 2368, '정신병': 2369, '존중': 2370, '광기': 2371, '권력': 2372, '짙': 2373, '보석': 2374, '폭발': 2375, '남친': 2376, '뺏': 2377, '웰메이드': 2378, '환': 2379, '거대': 2380, '타인': 2381, '신세계': 2382, '아닌것': 2383, '논하': 2384, '적나라': 2385, '단체': 2386, '반성하': 2387, '흔들': 2388, '유럽': 2389, '모': 2390, '나레이션': 2391, '처리': 2392, '중딩': 2393, '징그럽': 2394, '잘살': 2395, '벽': 2396, '주관적': 2397, '감수': 2398, '쓸데없': 2399, '뽀': 2400, '에바': 2401, '데뷔작': 2402, '몰락': 2403, '호흡': 2404, '조낸': 2405, '미녀': 2406, '유명': 2407, '안무섭': 2408, '멀쩡': 2409, '카메론': 2410, '데이빗': 2411, '조차': 2412, '다니엘': 2413, '대표': 2414, '니콜라스': 2415, '부활': 2416, '라도': 2417, '공룡': 2418, '본질': 2419, '벌어지': 2420, '발랄': 2421, '뽕짝': 2422, '시대적': 2423, '한때': 2424, '조지': 2425, '탁': 2426, '틱': 2427, '반응': 2428, '재방': 2429, '아아': 2430, '납득': 2431, '담백': 2432, '디카프리오': 2433, '긋': 2434, '정체': 2435, '해피': 2436, '차태현': 2437, '본드': 2438, '키아누': 2439, '한국판': 2440, '청년': 2441, '실사': 2442, '받아들이': 2443, '깔': 2444, '벅차': 2445, '맛있': 2446, '합': 2447, '꽉': 2448, '인권': 2449, '불필요': 2450, '피트': 2451, '즐거움': 2452, '손색': 2453, '가리': 2454, '조기': 2455, '욱': 2456, '임팩트': 2457, '타란티노': 2458, '뚝뚝': 2459, '가보': 2460, '혹시나': 2461, '애틋': 2462, '배신': 2463, '오글오글': 2464, '웨이': 2465, '회상': 2466, '이따위': 2467, '다시금': 2468, '톤': 2469, '국산': 2470, '멘탈': 2471, '구역': 2472, '팝콘': 2473, '레옹': 2474, '눈치': 2475, '마법': 2476, '장치': 2477, '황': 2478, '쓰리': 2479, '김구': 2480, '말씀': 2481, '효주': 2482, '엮': 2483, '땡': 2484, '총체적': 2485, '애쓰': 2486, '명연기': 2487, '평론': 2488, '레이싱': 2489, '속의': 2490, '변신': 2491, '용감': 2492, '먹칠': 2493, '빼놓': 2494, '온갖': 2495, '관대': 2496, '권하': 2497, '겨': 2498, '매혹적': 2499, '무난': 2500, '댄스': 2501, '만보': 2502, '책임지': 2503, '성의': 2504, '베이': 2505, '강지환': 2506, '천재적': 2507, '제왕': 2508, '앗다': 2509, '정체성': 2510, '파일': 2511, '스틸': 2512, '어쩌다': 2513, '살아남': 2514, '팀버': 2515, '보호': 2516, '로버츠': 2517, '수도': 2518, '올드': 2519, '첩보': 2520, '성찰': 2521, '원표': 2522, '액션물': 2523, '물건': 2524, '경': 2525, '찬사': 2526, '한두': 2527, '미이라': 2528, '외국영화': 2529, '시종일관': 2530, '록키': 2531, '닿': 2532, '꾸미': 2533, '대실': 2534, '본격': 2535, '역사적': 2536, '베끼': 2537, '정하': 2538, '일반인': 2539, '황비홍': 2540, '망가지': 2541, '명배우': 2542, '가까이': 2543, '임수정': 2544, '머릿속': 2545, '콜': 2546, '자격': 2547, '끊기': 2548, '이해도': 2549, '실감': 2550, '심정': 2551, '사무라이': 2552, '싱겁': 2553, '경악': 2554, '장군': 2555, '거짓': 2556, '에로물': 2557, '오직': 2558, '밴드': 2559, '백': 2560, '시기': 2561, '착': 2562, '심리묘사': 2563, '쓰러지': 2564, '곱': 2565, '한정': 2566, '뿌리': 2567, '상식': 2568, '힙합': 2569, '러': 2570, '애가': 2571, '이나영': 2572, '찾아오': 2573, '저리하': 2574, '절반': 2575, '전지현': 2576, '여기저기': 2577, '초반부': 2578, '하드': 2579, '애매': 2580, '칸': 2581, '말길': 2582, '민족': 2583, '한수': 2584, '영화제': 2585, '국어': 2586, '등록': 2587, '마초': 2588, '다운로드': 2589, '사기': 2590, '기괴': 2591, '주먹': 2592, '된장': 2593, '힌': 2594, '무게': 2595, '출신': 2596, '포함': 2597, '배꼽': 2598, '동감': 2599, '단편': 2600, '실험': 2601, '시골': 2602, '러시아': 2603, '충': 2604, '서양': 2605, '가능성': 2606, '옥': 2607, '창피': 2608, '아쉬': 2609, '혼란': 2610, '반영': 2611, '꺄': 2612, '김하늘': 2613, '좌': 2614, '떨어뜨리': 2615, '고프': 2616, '박하': 2617, '이웃': 2618, '허허': 2619, '꼬이': 2620, '주의': 2621, '감옥': 2622, '선사': 2623, '상징': 2624, '의견': 2625, '스콧': 2626, '클래식': 2627, '크루즈': 2628, '녀석': 2629, '강혜정': 2630, '무서': 2631, '공허': 2632, '어거지': 2633, '팅': 2634, '냉정': 2635, '해지': 2636, '반지': 2637, '높지': 2638, '불법': 2639, '대부': 2640, '증말': 2641, '오페라': 2642, '유지태': 2643, '막상': 2644, '뜬금': 2645, '부수': 2646, '끝판': 2647, '인연': 2648, '노인': 2649, '청': 2650, '어차피': 2651, '스탈': 2652, '그렇지만': 2653, '이준기': 2654, '부자연': 2655, '중국인': 2656, '몽환적': 2657, '모방': 2658, '괴롭': 2659, '지경': 2660, '이정재': 2661, '은근': 2662, '울림': 2663, '몇몇': 2664, '동일': 2665, '성적': 2666, '여우': 2667, '감성적': 2668, '재탕': 2669, '안티': 2670, '일주일': 2671, '오해': 2672, '스필버그': 2673, '패션': 2674, '박찬욱': 2675, '기승전': 2676, '초점': 2677, '넓': 2678, '미스터': 2679, '매미': 2680, '자세': 2681, '코엔': 2682, '혁명': 2683, '섞이': 2684, '비치': 2685, '콜린': 2686, '철없': 2687, '설치': 2688, '똑같이': 2689, '밀려오': 2690, '괴롭히': 2691, '극단적': 2692, '어쨌든': 2693, '박보영': 2694, '격': 2695, '유우': 2696, '부정': 2697, '엉뚱': 2698, '북': 2699, '여유': 2700, '과도': 2701, '녹': 2702, '사장': 2703, '능가': 2704, '쓸쓸': 2705, '한석규': 2706, '조심': 2707, '언': 2708, '깐': 2709, '부산': 2710, '돕': 2711, '폼': 2712, '강아지': 2713, '안남': 2714, '열광': 2715, '널': 2716, '오타': 2717, '외로움': 2718, '예술가': 2719, '신현준': 2720, '전화': 2721, '주제도': 2722, '미스터리': 2723, '폭풍': 2724, '연습': 2725, '박중훈': 2726, '평화': 2727, '여신': 2728, '함정': 2729, '느슨': 2730, '교수': 2731, '배드': 2732, '박평식': 2733, '화질': 2734, '번': 2735, '극본': 2736, '암울': 2737, '모성애': 2738, '프레': 2739, '스티브': 2740, '매끄럽': 2741, '비참': 2742, '구도': 2743, '웬': 2744, '이탈리아': 2745, '히트': 2746, '탕': 2747, '깨끗': 2748, '률': 2749, '추구': 2750, '쌈': 2751, '추락': 2752, '역량': 2753, '동양': 2754, '장소': 2755, '펜': 2756, '타령': 2757, '서스펜스': 2758, '개꿀잼': 2759, '젊': 2760, '들보': 2761, '전문': 2762, '죽기': 2763, '어지럽': 2764, '풀리': 2765, '대표작': 2766, '출현': 2767, '데스': 2768, '오래되': 2769, '기어': 2770, '유령': 2771, '킬러': 2772, '초월': 2773, '엄정화': 2774, '클린트': 2775, '집단': 2776, '결정': 2777, '배려': 2778, '사나이': 2779, '이스트우드': 2780, '미술': 2781, '백인': 2782, '저러': 2783, '색채': 2784, '남발': 2785, '줄이': 2786, '일탈': 2787, '세트': 2788, '딱이': 2789, '침묵': 2790, '드림': 2791, '쏟': 2792, '주위': 2793, '조승우': 2794, '속이': 2795, '활약': 2796, '발로': 2797, '지독': 2798, '피곤': 2799, '로보캅': 2800, '숲': 2801, '형식': 2802, '륜': 2803, '능': 2804, '재방송': 2805, '세우': 2806, '엽기': 2807, '젠': 2808, '로보': 2809, '모야': 2810, '공개': 2811, '워커': 2812, '일찍': 2813, '허구': 2814, '추악': 2815, '그냥저냥': 2816, '구석': 2817, '조용히': 2818, '인식': 2819, '파워': 2820, '긍정적': 2821, '비록': 2822, '똑바로': 2823, '학살': 2824, '책임': 2825, '순위': 2826, '고문': 2827, '크리스토퍼': 2828, '엉망진창': 2829, '마디': 2830, '출': 2831, '장난감': 2832, '납치': 2833, '기묘': 2834, 'cgv': 2835, '패닝': 2836, '최하': 2837, '줄리': 2838, '쏟아지': 2839, '이감': 2840, '남고': 2841, '시간대': 2842, '악몽': 2843, '의연': 2844, '하차': 2845, '상큼': 2846, '종교적': 2847, '만지': 2848, '양동근': 2849, '나무': 2850, '알파치노': 2851, '이면': 2852, '뮤직비디오': 2853, '오랫동안': 2854, '예매': 2855, '인걸': 2856, '행하': 2857, '망쳐놓': 2858, '허무맹랑': 2859, '벗기': 2860, '와중': 2861, '이연희': 2862, '스펙': 2863, '부자': 2864, '강요': 2865, '유희': 2866, '기록': 2867, '텐': 2868, '벌이': 2869, '해외': 2870, '츄': 2871, '시체': 2872, '마틴': 2873, '전라도': 2874, '그려': 2875, '새록새록': 2876, '배틀': 2877, '도하': 2878, '우연': 2879, '빅뱅': 2880, '뉴욕': 2881, '유혹': 2882, '사과': 2883, '스타워즈': 2884, '고어': 2885, '짱짱맨': 2886, '레드': 2887, '포드': 2888, '구라': 2889, '누님': 2890, '지원': 2891, '슬기': 2892, '집안': 2893, '추격': 2894, '어린애': 2895, '커피': 2896, '낼': 2897, '변': 2898, '목사': 2899, '클럽': 2900, '클라스': 2901, '체험': 2902, '드림웍스': 2903, '아바타': 2904, '불허': 2905, '쳐먹': 2906, '흠잡': 2907, '서프라이즈': 2908, '성기': 2909, '대상': 2910, '짜이': 2911, '좆': 2912, '살아나': 2913, '혜': 2914, '둔': 2915, '파괴': 2916, '오우삼': 2917, '양반': 2918, '표정연': 2919, '감독판': 2920, '미션': 2921, '신은': 2922, '꺼내': 2923, '기타': 2924, '못쓰': 2925, '오랜': 2926, '우아': 2927, '때려': 2928, '신이': 2929, '외면': 2930, '매기': 2931, '간첩': 2932, '자하': 2933, '도통': 2934, '묵직': 2935, '향수': 2936, '디젤': 2937, '슈렉': 2938, '쓰나미': 2939, '병원': 2940, '눕': 2941, '취하': 2942, '서도': 2943, '조정': 2944, '대학': 2945, '깁슨': 2946, '하지': 2947, '게스트': 2948, '윈': 2949, '위원': 2950, '고치': 2951, '상쾌': 2952, '아우': 2953, '파워레인저': 2954, '부드럽': 2955, '땀': 2956, '할리우드': 2957, '신하균': 2958, '댐': 2959, '자빠지': 2960, '대비': 2961, '팍팍': 2962, '준': 2963, '구역질': 2964, '완성': 2965, '총알': 2966, '당당': 2967, '도둑': 2968, '익': 2969, '쎄': 2970, '어진': 2971, '부각': 2972, '곱씹': 2973, '가을': 2974, '역작': 2975, '리스트': 2976, '지인': 2977, '직장': 2978, '환장': 2979, '튀어나오': 2980, '대표적': 2981, '깁': 2982, '힘겹': 2983, '묻어나': 2984, '쌍': 2985, '장편': 2986, '특집': 2987, '후기': 2988, '회사': 2989, '가해자': 2990, '질주': 2991, '경계': 2992, '과대평가': 2993, '용이': 2994, '거부': 2995, '선율': 2996, '미가': 2997, '찌르': 2998, '단편영화': 2999, '택시': 3000, '한예슬': 3001, '마케팅': 3002, '커버': 3003, '곰': 3004, '소지섭': 3005, '에드': 3006, '환자': 3007, '나타내': 3008, '중반부': 3009, '포켓몬': 3010, '일점': 3011, '무능': 3012, '이것저것': 3013, '황정민': 3014, '순정': 3015, '습작': 3016, '어긋나': 3017, '무서움': 3018, '나나': 3019, '크리스찬': 3020, '이성재': 3021, '웅장': 3022, '그야말로': 3023, '놀래키': 3024, '솔까': 3025, '접근': 3026, '난감': 3027, '유치찬란': 3028, '법정': 3029, '반감': 3030, '이사': 3031, '집중력': 3032, '콘서트': 3033, '방황': 3034, '거보': 3035, '러셀': 3036, '지브리': 3037, '무의미': 3038, '레이': 3039, '하나님': 3040, '본성': 3041, '왕국': 3042, '선정': 3043, '엉터리': 3044, '마찬가지': 3045, '스키': 3046, '뻥': 3047, '미흡': 3048, '마누라': 3049, '소방관': 3050, '덮': 3051, '시민': 3052, '뉴스': 3053, '곤': 3054, '우롱': 3055, '장근': 3056, '결': 3057, '씨발': 3058, '옴': 3059, '부인': 3060, '모독': 3061, '뱀': 3062, '펼치': 3063, '라스': 3064, '춤추': 3065, '묻히': 3066, '찾아가': 3067, '엉': 3068, '눈뜨': 3069, '춥': 3070, '라스트': 3071, '빠이': 3072, '흔히': 3073, '안목': 3074, '재미지': 3075, '굉장하': 3076, '안경': 3077, '경우': 3078, '끼이': 3079, '휴가': 3080, '원피스': 3081, '아이고': 3082, '긴박': 3083, '무얼': 3084, '웅': 3085, '오만': 3086, '크리스틴': 3087, '모니터': 3088, '뮤': 3089, '개발': 3090, '타이틀': 3091, '지극히': 3092, '여야': 3093, '티나': 3094, '부여': 3095, '천': 3096, '여고': 3097, '일관': 3098, '마블': 3099, '백배': 3100, '그러니까': 3101, '그러면': 3102, '증명': 3103, '다문화': 3104, '이동욱': 3105, '미남': 3106, '출발': 3107, '송승헌': 3108, '음악영화': 3109, '훔치': 3110, '오락': 3111, '잘리': 3112, '누': 3113, '복': 3114, '아가': 3115, '해적': 3116, '돌려보': 3117, '완결': 3118, '상하': 3119, '까운': 3120, '차갑': 3121, '퀸': 3122, '틀림없': 3123, '우마': 3124, '옳': 3125, '닌자': 3126, '행크스': 3127, '실': 3128, '올라오': 3129, '미국판': 3130, '마을': 3131, '젊은이': 3132, '불안': 3133, '김민종': 3134, '송혜교': 3135, '카이': 3136, '가히': 3137, '학원': 3138, '푸르': 3139, '함부로': 3140, '영활': 3141, '민주화': 3142, '직원': 3143, '언어': 3144, '례': 3145, '우습': 3146, '픽션': 3147, '신민아': 3148, '못살': 3149, '수사': 3150, '무개': 3151, '미장센': 3152, '마인드': 3153, '스피드': 3154, '잘나가': 3155, '빅': 3156, '연기파': 3157, '상투적': 3158, '이루어지': 3159, '격투': 3160, '수술': 3161, '몫': 3162, '개똥': 3163, '만날': 3164, '기반': 3165, '불만': 3166, '보스': 3167, '오로지': 3168, '어깨': 3169, '박사': 3170, '성숙': 3171, '연관': 3172, '스릴러물': 3173, '고스란히': 3174, '두렵': 3175, '그딴': 3176, '이민기': 3177, '싱어': 3178, '두분': 3179, '레오': 3180, '호화': 3181, '드러내': 3182, '장혁': 3183, '금지': 3184, '두려움': 3185, '홀로': 3186, '구경': 3187, '빠순이': 3188, '떨리': 3189, '김남길': 3190, '춘': 3191, '띠': 3192, '양조위': 3193, '시장': 3194, '멸망': 3195, '어벤져스': 3196, '주옥같': 3197, '일생': 3198, '두말': 3199, '맥스': 3200, '몬스터': 3201, '야구': 3202, '풍부': 3203, '놀이': 3204, '커지': 3205, '지존': 3206, '칭찬': 3207, '문득': 3208, '일부': 3209, '깨달음': 3210, '합치': 3211, '범': 3212, '적인': 3213, '비추천': 3214, '뉴': 3215, '성경': 3216, '이범수': 3217, '뒤집': 3218, '지켜': 3219, '피터': 3220, '달인': 3221, '데드': 3222, '철': 3223, '가관': 3224, '한니발': 3225, '실종': 3226, '톰크루즈': 3227, '고해': 3228, '길다': 3229, '직': 3230, '에러': 3231, '신데렐라': 3232, '상업적': 3233, '모호': 3234, '루이스': 3235, '첫장': 3236, '유사': 3237, '다능': 3238, '결합': 3239, '결정적': 3240, '용두사미': 3241, '공각기동대': 3242, '증거': 3243, '성형': 3244, '박해일': 3245, '태도': 3246, '상상도': 3247, '따듯': 3248, '하우스': 3249, '띄': 3250, '대역': 3251, '멤버': 3252, '하트': 3253, '옛다': 3254, '어수선': 3255, '찜찜': 3256, '거치': 3257, 'naver': 3258, '노골적': 3259, '머피': 3260, '닥': 3261, '노동자': 3262, '구지성': 3263, '메오': 3264, '예술적': 3265, '신념': 3266, '딸리': 3267, '우수': 3268, '특이하': 3269, '마녀': 3270, '계획': 3271, '엠': 3272, '전이': 3273, '대리': 3274, '흔적': 3275, '감정선': 3276, '매회': 3277, '두고두고': 3278, '덜덜': 3279, '여진구': 3280, '공연': 3281, '정글': 3282, '공감대': 3283, '피식': 3284, '지식': 3285, '훈남': 3286, '관계자': 3287, '획': 3288, '등급': 3289, '생략': 3290, '만해': 3291, '김선아': 3292, '미키': 3293, '소피마르소': 3294, '롱': 3295, '나참': 3296, '라마': 3297, '최지우': 3298, '매번': 3299, '영웅본색': 3300, '내려가': 3301, '정확': 3302, '일하': 3303, '찢': 3304, '일베충': 3305, '이에': 3306, '고수': 3307, '녹화': 3308, '수면': 3309, '에이리언': 3310, '아무래도': 3311, '원주율': 3312, '자질': 3313, '이자': 3314, '약자': 3315, '조인성': 3316, '드래곤볼': 3317, '한글': 3318, '괜춘': 3319, '토요': 3320, '번역': 3321, '학대': 3322, '경의': 3323, '편의': 3324, '카피': 3325, '중학생': 3326, '타입': 3327, '곁': 3328, '람보': 3329, '김명민': 3330, '1빠': 3331, '간직': 3332, '권선징악': 3333, '향': 3334, '특징': 3335, '새기': 3336, '라면': 3337, '표현력': 3338, '니슨': 3339, '곳곳': 3340, '엠마': 3341, '어째서': 3342, '구멍': 3343, '휴먼': 3344, '바쁘': 3345, '덴젤': 3346, '저의': 3347, '태양': 3348, '송강호': 3349, '쓰이': 3350, '본받': 3351, '스토리지': 3352, '투표': 3353, '긴박감': 3354, '충무로': 3355, '최대한': 3356, '무리수': 3357, '괴수': 3358, '사전': 3359, '맑': 3360, '언급': 3361, '펭귄': 3362, '노랗': 3363, '밟': 3364, '명확': 3365, '구원': 3366, '이혼': 3367, '하이킥': 3368, '일본식': 3369, '금방': 3370, '동기': 3371, '썰렁': 3372, '제작사': 3373, '고등학생': 3374, '아담': 3375, '상관없이': 3376, '일본판': 3377, '만화가': 3378, 'sbs': 3379, '나열': 3380, '난국': 3381, '주인': 3382, '찰리': 3383, '경쾌': 3384, '파이': 3385, '메리': 3386, '색깔': 3387, '스케': 3388, '얕': 3389, '유아인': 3390, '이념': 3391, '농담': 3392, '객관적': 3393, '띄우': 3394, '식스': 3395, '작년': 3396, '퍼즐': 3397, '황금': 3398, '장인': 3399, '사춘기': 3400, '저주': 3401, '따스': 3402, '아이언': 3403, '욕구': 3404, '이름값': 3405, '검사': 3406, '자본': 3407, '미달': 3408, '다이하드': 3409, '큐': 3410, '전락': 3411, '위주': 3412, '유대인': 3413, '아프리카': 3414, '지내': 3415, '채플린': 3416, '힛': 3417, '탈': 3418, '급하': 3419, '임권택': 3420, '않되': 3421, '깨지': 3422, '캐서린': 3423, '그룹': 3424, '집어넣': 3425, '정확히': 3426, '시사': 3427, '멀리': 3428, '심리적': 3429, '허준': 3430, '스페인': 3431, '유행': 3432, '실망스럽': 3433, '직업': 3434, '에드워드': 3435, '모자이크': 3436, '마스터': 3437, '신부': 3438, '줄리아': 3439, '유작': 3440, '짐승': 3441, '초심': 3442, '베리': 3443, '전기': 3444, '일인': 3445, '김윤석': 3446, '청하': 3447, '투박': 3448, '부디': 3449, '낭만': 3450, '태국': 3451, '흐뭇': 3452, '호감': 3453, '자매': 3454, '와이어': 3455, '지연': 3456, '마피아': 3457, '토끼': 3458, '끔찍하': 3459, '위기': 3460, '맡기': 3461, '갑갑': 3462, '인터뷰': 3463, '보상': 3464, '그나저나': 3465, '어느새': 3466, '한동안': 3467, '케이지': 3468, '엉덩이': 3469, '배속': 3470, '여왕': 3471, '똑똑': 3472, '돌아다니': 3473, '이작': 3474, '거듭': 3475, '퍼펙트': 3476, '컬트': 3477, '부정적': 3478, '분명히': 3479, '압도적': 3480, '윌': 3481, '교감': 3482, '훈련': 3483, '스님': 3484, '서사': 3485, '길지': 3486, '미학': 3487, '화해': 3488, '베리굿': 3489, '뇌리': 3490, '미군': 3491, '일어': 3492, '고보': 3493, '걸레': 3494, 'ㅌ': 3495, '룰': 3496, '올레': 3497, '대인': 3498, '살아오': 3499, 'ㅂㅅ': 3500, '가하': 3501, '카드': 3502, '서부영': 3503, '활용': 3504, '이성': 3505, '진솔': 3506, '이드': 3507, '자세히': 3508, '가르치': 3509, '재현': 3510, '기사': 3511, '판이': 3512, '동호': 3513, '대학생': 3514, '지하철': 3515, '살지': 3516, '이외': 3517, '설경구': 3518, '현장': 3519, '인종차별': 3520, '대략': 3521, '중세': 3522, '공식': 3523, '오류': 3524, '불리': 3525, '실망감': 3526, '룡': 3527, '낙': 3528, '나인': 3529, '매튜': 3530, '두근두근': 3531, '허전': 3532, '종일': 3533, '오락성': 3534, '작렬': 3535, '홍금보': 3536, '낯': 3537, '세계관': 3538, '한없이': 3539, '파악': 3540, '계': 3541, '쇠': 3542, '반성해': 3543, '슬로우': 3544, '의아': 3545, '잠수함': 3546, '사망': 3547, '메인': 3548, '여태껏': 3549, '그치': 3550, '팔아먹': 3551, '대학교': 3552, '조디': 3553, '쯧쯧': 3554, '실소': 3555, '조악': 3556, '노아': 3557, '사소': 3558, '영상물': 3559, '수단': 3560, '미묘': 3561, '꾹': 3562, '택': 3563, '흐지부지': 3564, '미리': 3565, '와이프': 3566, '옹호': 3567, '일베': 3568, '파멸': 3569, '념': 3570, '저절로': 3571, '평작': 3572, '레이첼': 3573, '승화': 3574, '투자자': 3575, '처먹': 3576, '삼가': 3577, '디아': 3578, '김창완': 3579, '짐작': 3580, '가사': 3581, '어줍잖': 3582, '안성기': 3583, '고발': 3584, '초대': 3585, '알차': 3586, '섞': 3587, '다름': 3588, '감각적': 3589, '맥주': 3590, '불친절': 3591, '쓰기': 3592, '더더욱': 3593, '아여': 3594, '딴': 3595, '공포감': 3596, '녹아들': 3597, '준수': 3598, '언론': 3599, '쏙': 3600, '최선': 3601, '시위': 3602, '수면제': 3603, '로드': 3604, '날로': 3605, '저렴': 3606, '향연': 3607, '그중': 3608, '모욕': 3609, '희극': 3610, '여고괴담': 3611, '쟁': 3612, '제국': 3613, '온몸': 3614, '가나다라': 3615, '피디': 3616, '고백': 3617, '되려': 3618, '엉엉': 3619, '불행': 3620, '주요': 3621, '운전': 3622, '왕자': 3623, '앞부분': 3624, '쌀': 3625, '무작정': 3626, '구혜선': 3627, '디비': 3628, '아메리칸': 3629, '실패작': 3630, '실상': 3631, '땡칠이': 3632, '해소': 3633, '별이': 3634, '엇지': 3635, '오토바이': 3636, '헉': 3637, '먹히': 3638, '알아주': 3639, '나쁜놈': 3640, '기막히': 3641, '피스': 3642, '다그': 3643, '제미': 3644, '다치': 3645, '풍': 3646, '강예원': 3647, '루시': 3648, '별거': 3649, '폭소': 3650, '가족드라마': 3651, '에일리언': 3652, '감상평': 3653, '월드': 3654, '눈높이': 3655, '뚫': 3656, '지적': 3657, '린다': 3658, '동경': 3659, '무색': 3660, '야쿠자': 3661, '한국어': 3662, '공격': 3663, '시티': 3664, '하여금': 3665, '모건': 3666, '테론': 3667, '환불': 3668, '고릴라': 3669, '좌절': 3670, '선정적': 3671, '과제': 3672, '생존': 3673, '메마르': 3674, '구매': 3675, '하나라': 3676, '초라': 3677, '달라': 3678, '공존': 3679, '웹툰': 3680, '스마트폰': 3681, '현대인': 3682, '맺': 3683, '로망': 3684, '문구': 3685, '짤': 3686, '흐리': 3687, '폭': 3688, '전국': 3689, '에혀': 3690, '키드': 3691, '회수': 3692, '클라라': 3693, '여동생': 3694, '사실은': 3695, '기쁘': 3696, '단언': 3697, '겁': 3698, '작인': 3699, '김수로': 3700, '딴짓': 3701, '필수': 3702, '몰아': 3703, '정당화': 3704, '시험': 3705, '장동건': 3706, '재료': 3707, '죠스': 3708, '묶': 3709, '파트너': 3710, '유재석': 3711, '삐': 3712, '파이팅': 3713, '핸드폰': 3714, '캡틴': 3715, '쿨': 3716, '면도': 3717, '긷': 3718, '도와주': 3719, '이자벨': 3720, '아자': 3721, '고민하': 3722, '도망': 3723, '반도': 3724, '꺅': 3725, '권': 3726, '바이러스': 3727, '미국인': 3728, '밉': 3729, '교과서': 3730, '읍': 3731, '신세경': 3732, '균형': 3733, '패턴': 3734, '양산': 3735, '플레이': 3736, '원빈': 3737, '선입견': 3738, '녹이': 3739, '윌리엄스': 3740, '판타스틱': 3741, '조조': 3742, '재해석': 3743, '장나라': 3744, '늘어나': 3745, '균': 3746, '어린아이': 3747, '잇지': 3748, '몰래': 3749, '수치': 3750, '두뇌': 3751, '오점': 3752, '복선': 3753, '끓': 3754, '줄리엣': 3755, '솔': 3756, '다되': 3757, '주목': 3758, '결투': 3759, '잡다': 3760, '아르': 3761, '이내': 3762, '어려움': 3763, '스미': 3764, '초능력': 3765, '뿜': 3766, '제도': 3767, '기술력': 3768, '메이': 3769, '오우': 3770, '비유': 3771, '조로': 3772, '퇴보': 3773, '마니아': 3774, '팔리': 3775, '마저': 3776, '헬기': 3777, '위안': 3778, '행위': 3779, '삼촌': 3780, '비싸': 3781, '말기': 3782, '승부': 3783, '요구': 3784, '삼국지': 3785, '강호동': 3786, '인디': 3787, '참혹': 3788, '등': 3789, '가요': 3790, '답지': 3791, '불면증': 3792, '명량': 3793, '강시': 3794, '일거': 3795, '조국': 3796, '기업': 3797, '미련': 3798, '씨네': 3799, '가상': 3800, '수준급': 3801, '재주': 3802, '정상': 3803, '라이더': 3804, '적극': 3805, '가스': 3806, '고급': 3807, '아웃': 3808, '축하': 3809, '궁': 3810, '송중기': 3811, '폭력적': 3812, '제공': 3813, '재발견': 3814, '미인': 3815, '외우': 3816, '전투기': 3817, '쯤': 3818, '아마추어': 3819, '증': 3820, '무미건조': 3821, '자위': 3822, '호평': 3823, '부류': 3824, '가이': 3825, '암살': 3826, '어의': 3827, '도로': 3828, '쌓이': 3829, '서기': 3830, '고작': 3831, '헤어': 3832, '행운': 3833, '차분': 3834, '후한': 3835, '홈': 3836, '고리': 3837, '어지간': 3838, '장수': 3839, '은기': 3840, '강우': 3841, '비난': 3842, '수애': 3843, '비행': 3844, '오덕': 3845, '그지없': 3846, '절묘': 3847, '다수': 3848, '먼지': 3849, '프레디': 3850, '압도': 3851, '대전': 3852, '미친놈': 3853, '종종': 3854, '장쯔이': 3855, '싱': 3856, '가운데': 3857, '공효진': 3858, '조쉬': 3859, '안기': 3860, '사라': 3861, '집착하': 3862, '문제지': 3863, '쳐주': 3864, '처참': 3865, '게이트': 3866, '목표': 3867, '토마스': 3868, '미야자키': 3869, '개미': 3870, '영광': 3871, '무관심': 3872, '엑소시스트': 3873, '못지않': 3874, '매주': 3875, '고소영': 3876, '독창적': 3877, '측면': 3878, '섞어': 3879, '고찰': 3880, '유오성': 3881, '전통': 3882, '밥그릇': 3883, '안녕': 3884, '나르': 3885, '고질라': 3886, '안내': 3887, '원작자': 3888, '독백': 3889, '디자인': 3890, '이스라엘': 3891, '탐욕': 3892, '칙칙': 3893, '오오': 3894, '미루': 3895, '광해': 3896, '서극': 3897, '살인자': 3898, '통틀어': 3899, '조각': 3900, '산드라블록': 3901, '이론': 3902, '취미': 3903, '모델': 3904, '갑작스럽': 3905, '환타지': 3906, '무책임': 3907, '나두': 3908, '전문성': 3909, '언제쯤': 3910, '미개': 3911, '팬더': 3912, '오묘': 3913, '코넬리': 3914, '아카데미': 3915, '임신': 3916, '순진': 3917, '샤를리즈': 3918, '흔들리': 3919, '흑흑': 3920, '저녁': 3921, '한내': 3922, '인내': 3923, '변함없': 3924, '진구': 3925, '별볼일': 3926, '최수종': 3927, '거만': 3928, '잡아먹': 3929, '아랫': 3930, '오싹': 3931, '헷갈리': 3932, '제시': 3933, '빠지지': 3934, '판치': 3935, '일일': 3936, '페이지': 3937, '재평가': 3938, '김태희': 3939, '금물': 3940, '공산당': 3941, '조안': 3942, '스카이': 3943, '병사': 3944, '종이': 3945, '종합': 3946, '한국형': 3947, '유산': 3948, '골든': 3949, '빨간': 3950, '딴것': 3951, '빙빙': 3952, '홍보영': 3953, '쌍벽': 3954, '근대': 3955, '평가절하': 3956, '감독인': 3957, '시리': 3958, '큐브': 3959, '활동': 3960, '한말': 3961, '혹': 3962, '발암': 3963, '루크': 3964, '소피': 3965, '개독': 3966, '필드': 3967, '랩': 3968, '영화배우': 3969, '뱉': 3970, '정수': 3971, '치열': 3972, '요보': 3973, '홀': 3974, '소련': 3975, '그려내': 3976, '그치만': 3977, '현대판': 3978, '광주': 3979, '어메': 3980, '비롯': 3981, '성지순': 3982, '이민정': 3983, '신발': 3984, '뵈': 3985, '팝': 3986, '낚시질': 3987, '앓이': 3988, '얌': 3989, '강조': 3990, '치명적': 3991, '자아': 3992, '허니': 3993, '애국심': 3994, '가필드': 3995, '지대로': 3996, '지금껏': 3997, '민이': 3998, '주진모': 3999, '걸치': 4000, '큰일': 4001, '다다': 4002, '낯설': 4003, '의존': 4004, '이선': 4005, '음모': 4006, '놔두': 4007, '정치적': 4008, '훼손': 4009, '벌리': 4010, '감기': 4011, '으휴': 4012, '쪽팔리': 4013, '지네': 4014, '미워하': 4015, '축': 4016, '내러티브': 4017, '종류': 4018, '스페셜': 4019, '경지': 4020, '모순': 4021, '비교적': 4022, '산드라': 4023, '그날': 4024, '추격전': 4025, '케이스': 4026, '입히': 4027, '베토벤': 4028, '대책': 4029, '섬뜩': 4030, '본기': 4031, '해전': 4032, '뻘': 4033, '가미': 4034, '신뢰': 4035, '도가니': 4036, '데미': 4037, '꺼리': 4038, '얼른': 4039, '어떡하': 4040, '하디': 4041, '되새기': 4042, '중간쯤': 4043, '간단': 4044, '유이': 4045, '부성애': 4046, '하이': 4047, '다듬': 4048, '위치': 4049, '제리': 4050, '워싱턴': 4051, '아따': 4052, '천녀유혼': 4053, '은퇴': 4054, '부재': 4055, '바램': 4056, '수위': 4057, '할배': 4058, '하하하하하': 4059, '덥': 4060, '닫': 4061, '스탤론': 4062, '요원': 4063, '죄책감': 4064, '자제': 4065, '당최': 4066, '거나': 4067, '요약': 4068, '매트릭스': 4069, '써먹': 4070, '노조': 4071, '듬뿍': 4072, '애교': 4073, '수다': 4074, '나잇': 4075, '내포': 4076, '햐': 4077, '잃어버리': 4078, '케이트': 4079, '단조롭': 4080, '박진영': 4081, '예술인': 4082, '정상인': 4083, '총격전': 4084, '친절': 4085, '토하': 4086, '관리': 4087, '이세': 4088, '갱': 4089, 'ok': 4090, '오인혜': 4091, '인위적': 4092, '파티': 4093, '디스': 4094, '시스템': 4095, '기운': 4096, '각성': 4097, '단역': 4098, '후지': 4099, '잡스': 4100, '야기': 4101, '꼴리': 4102, '평정': 4103, '김래원': 4104, '귀찮': 4105, '진다': 4106, '아이러니': 4107, '한지민': 4108, '날아가': 4109, '세뇌': 4110, '어쨋든': 4111, '고향': 4112, '죽어나': 4113, '그럴싸하': 4114, '에릭': 4115, '그라': 4116, '샤이니': 4117, '필립': 4118, '주상욱': 4119, '김수현': 4120, '부처': 4121, '퍼지': 4122, '리브스': 4123, '이순신': 4124, '대립': 4125, '옮기': 4126, '소품': 4127, '잡지': 4128, '노노': 4129, '감당': 4130, '계상': 4131, '쏴': 4132, '사연': 4133, '호텔': 4134, '회장': 4135, '연장': 4136, '교육적': 4137, '우왕': 4138, '차마': 4139, '글쎄요': 4140, '타이밍': 4141, '쌓': 4142, '쓰레기통': 4143, '거창': 4144, '굿바이': 4145, '흡사': 4146, '어처구니없': 4147, '새로': 4148, '압박': 4149, '꼬리': 4150, '저번': 4151, '내공': 4152, '길들이': 4153, '근거': 4154, '인척': 4155, '기절': 4156, '금치': 4157, '무게감': 4158, '의의': 4159, '건담': 4160, '자본주의': 4161, '수정': 4162, '인격': 4163, '철저': 4164, '붙잡': 4165, '스미스': 4166, '직장인': 4167, '띵': 4168, '버금가': 4169, '모지': 4170, '짓거리': 4171, '망신': 4172, '유승호': 4173, '노튼': 4174, '잉여': 4175, '화신': 4176, '댄서': 4177, '요란': 4178, '정치인': 4179, '박살': 4180, '정신적': 4181, '악행': 4182, '동양인': 4183, '요가': 4184, '물의': 4185, '본격적': 4186, '심금': 4187, '정석': 4188, '종말': 4189, '앙': 4190, '뜰': 4191, '터뜨리': 4192, '역부족': 4193, '허점': 4194, '유익': 4195, '외로': 4196, '한국식': 4197, '가식': 4198, '턴': 4199, '연주': 4200, '대만': 4201, '박자': 4202, '원초적': 4203, '자존심': 4204, '크리': 4205, '다아': 4206, '용가리': 4207, '진영': 4208, '바디': 4209, '헌터': 4210, '브라이언': 4211, '발생': 4212, '손색없': 4213, '교훈적': 4214, '부르기': 4215, '역경': 4216, '고가': 4217, '호소': 4218, '사의': 4219, '텅': 4220, '답습': 4221, '직전': 4222, '폭탄': 4223, '정당': 4224, '인사': 4225, '소유진': 4226, '원망': 4227, '이주': 4228, '어마어마': 4229, '소림': 4230, '되돌': 4231, '예상하': 4232, '쭈욱': 4233, '여자도': 4234, '정신사': 4235, '영화음악': 4236, '방이': 4237, '홍진호': 4238, '흥해': 4239, '사냥': 4240, '이틀': 4241, '순간순간': 4242, '저버리': 4243, '다투': 4244, '이완': 4245, '아기자기': 4246, '서먼': 4247, '내지': 4248, '주문': 4249, '자라': 4250, '이상적': 4251, '과대': 4252, '사막': 4253, '유승준': 4254, '본거': 4255, '라이트': 4256, '해설': 4257, '원맨쇼': 4258, '섭외': 4259, '시각적': 4260, '보고서': 4261, '쫓': 4262, '환영': 4263, '급전': 4264, '식당': 4265, '원인': 4266, '코믹스': 4267, '매치': 4268, '괴상': 4269, '출연료': 4270, '들어내': 4271, '유진': 4272, '앨런': 4273, '마크': 4274, '유도': 4275, '부시': 4276, '박스': 4277, '우익': 4278, '다물': 4279, '왈': 4280, '웩': 4281, '사이트': 4282, '화로': 4283, '후배': 4284, '아시아': 4285, '리그': 4286, '어질': 4287, '교': 4288, '카시': 4289, '작업': 4290, '그럴듯하': 4291, '성장기': 4292, '멜로물': 4293, '랜': 4294, '스칼렛': 4295, '어서': 4296, '분신': 4297, '실컷': 4298, '줄모': 4299, '세명': 4300, '마당': 4301, '확신': 4302, '강제': 4303, '허무하': 4304, '무심코': 4305, '기용': 4306, '스캔들': 4307, '돌이키': 4308, '눈요기': 4309, '붐': 4310, '우승': 4311, '해대': 4312, '이프': 4313, '주구': 4314, '벌레': 4315, '지성': 4316, '이서진': 4317, '호가': 4318, '핀': 4319, '니콜슨': 4320, '방영해': 4321, '주지': 4322, '낭패': 4323, '그릇': 4324, '결제': 4325, '여지껏': 4326, '존엄': 4327, '기부': 4328, '망가': 4329, '얄팍': 4330, '개소리': 4331, '다코타': 4332, '클로': 4333, '딱딱': 4334, '닭': 4335, '전파': 4336, '조진웅': 4337, '기대감': 4338, '모처럼': 4339, '어둠': 4340, '영화판': 4341, '혹성': 4342, '진보': 4343, '마동석': 4344, '퀴어': 4345, '로얄': 4346, '괜': 4347, '피고': 4348, '인의': 4349, '아지': 4350, '비용': 4351, '축복': 4352, '지진희': 4353, '고이': 4354, '서인국': 4355, '본시': 4356, '이리도': 4357, '쫄깃': 4358, '버튼': 4359, '쓰지마': 4360, '나치': 4361, '이글': 4362, '진주만': 4363, '재회': 4364, '겹': 4365, '썸': 4366, '이정진': 4367, '안나': 4368, '에니메이션': 4369, '악평': 4370, '오래간만': 4371, '전환': 4372, '리언': 4373, '타락': 4374, '입양': 4375, '경기': 4376, '법칙': 4377, '과잉': 4378, '솜씨': 4379, '과언': 4380, '책임감': 4381, '부트': 4382, '불우': 4383, '실체': 4384, '노고': 4385, '대륙': 4386, '맹': 4387, '기독교인': 4388, '고현정': 4389, '건조': 4390, '린치': 4391, '진가': 4392, '테잎': 4393, '사촌': 4394, '좌파': 4395, '에밀리': 4396, '상관': 4397, '남매': 4398, '원한': 4399, '소수': 4400, '리드': 4401, '미쳐': 4402, '스탭': 4403, '해리슨': 4404, '비트': 4405, '대단히': 4406, '깔리': 4407, '창조': 4408, '마이크': 4409, '정답': 4410, '대형': 4411, '강도': 4412, '기억도': 4413, '간혹': 4414, '서세원': 4415, '보물': 4416, '분석': 4417, '동이': 4418, '무적': 4419, '김옥빈': 4420, '가게': 4421, '성냥팔이': 4422, '대가': 4423, '지상파': 4424, '이만큼': 4425, '선하': 4426, '거구': 4427, '끊어지': 4428, '옴니버스': 4429, '샤론': 4430, '후까시': 4431, '안달': 4432, '감싸': 4433, '멘스': 4434, '쟁쟁': 4435, '중점': 4436, '영감': 4437, '칠수': 4438, '문채원': 4439, '피우': 4440, '시리즈물': 4441, '지망생': 4442, '아포': 4443, '오죽': 4444, '맛깔': 4445, '대가리': 4446, '헌': 4447, '충족': 4448, '무관': 4449, '버그': 4450, '고로': 4451, '흥': 4452, '숫자': 4453, '여실히': 4454, '아키라': 4455, '묵': 4456, '편히': 4457, '하류': 4458, '컴': 4459, '우의': 4460, '이지아': 4461, '국적': 4462, '현란': 4463, '일없': 4464, '퉤': 4465, '히치콕': 4466, '인칭': 4467, '보지': 4468, '섭': 4469, '모로': 4470, '음성': 4471, '지리': 4472, '제한': 4473, '경이롭': 4474, '일방적': 4475, '문근영': 4476, '엑': 4477, '후진': 4478, '캔디': 4479, '박물관': 4480, '만만': 4481, '휴머니즘': 4482, '펼쳐지': 4483, '과학적': 4484, '컬': 4485, '스크림': 4486, '제맛': 4487, '유방': 4488, '형태': 4489, '헛소리': 4490, '피어스': 4491, '부조리': 4492, '드가': 4493, '정통': 4494, '간간히': 4495, '디게': 4496, '맙소사': 4497, '크리스': 4498, '노트': 4499, '지가': 4500, '발하': 4501, '똥폼': 4502, '가엽': 4503, '훅': 4504, '브리짓': 4505, '주가': 4506, '타짜': 4507, '카타르시스': 4508, '용도': 4509, '맘': 4510, '증오': 4511, '모니카': 4512, '설명도': 4513, '말하기': 4514, '친영': 4515, '문명': 4516, '기교': 4517, '무모': 4518, '장담': 4519, '내친': 4520, '그리스': 4521, '한국말': 4522, '오리지널': 4523, '출생': 4524, '진화': 4525, '장만옥': 4526, '랜드': 4527, '변질': 4528, '지루하': 4529, '에스': 4530, '딕': 4531, '별론': 4532, '화보': 4533, '궁금증': 4534, '원제': 4535, '쿠삭': 4536, '세계적': 4537, '쪽바리': 4538, '꼬맹이': 4539, '어리버리': 4540, '연구': 4541, '한류': 4542, '별개': 4543, '떨구': 4544, '묘미': 4545, '회가': 4546, '더러': 4547, '이입': 4548, '엘렌': 4549, '속도': 4550, '석': 4551, 'ㅛ': 4552, '재기': 4553, '피로': 4554, '해학': 4555, '이수근': 4556, '이정': 4557, '대구': 4558, '질투': 4559, '상도': 4560, '슬랩스틱': 4561, '제정신': 4562, '잔잔히': 4563, '꼬집': 4564, '초등': 4565, '아랍': 4566, '나대': 4567, '유행어': 4568, '어짜피': 4569, '절망': 4570, '연령': 4571, '감추': 4572, '분류': 4573, '고기': 4574, '김민희': 4575, '훗날': 4576, '김규리': 4577, '으악': 4578, '핵심': 4579, '은행': 4580, '교차': 4581, '포커스': 4582, '하여튼': 4583, '퍼스': 4584, '매체': 4585, '저학년': 4586, '깨어나': 4587, '뮤비': 4588, '오늘날': 4589, '혁': 4590, '또는': 4591, '학': 4592, '힐러리': 4593, '쿠엔틴': 4594, '기계': 4595, '성시': 4596, '신동엽': 4597, '눈부시': 4598, '조절위': 4599, '깜찍': 4600, '진작': 4601, '깨물': 4602, '이승기': 4603, '자전거': 4604, '설득': 4605, '해진': 4606, '마땅': 4607, '로랑': 4608, '김윤진': 4609, '꽂히': 4610, '꾼': 4611, '마의': 4612, '무시무시': 4613, '온전히': 4614, '기쁨': 4615, '환희': 4616, '운운': 4617, '정성': 4618, '고고': 4619, '씽': 4620, '가치관': 4621, '슈퍼스타': 4622, '견': 4623, '다정': 4624, '르네': 4625, '머이': 4626, '찰지': 4627, '어필': 4628, '콤비': 4629, '풀어놓': 4630, '짜내': 4631, '디지': 4632, '흥겹': 4633, '평온': 4634, '토이스토리': 4635, '연발': 4636, '아비': 4637, '정권': 4638, '발톱': 4639, '격하': 4640, '가시': 4641, '넘나': 4642, '박한': 4643, '훈': 4644, '안질': 4645, '김민준': 4646, '정재영': 4647, '표본': 4648, '에로틱': 4649, '설레임': 4650, '보수': 4651, '숭고': 4652, '조여정': 4653, '앤드류': 4654, '꼽히': 4655, '흘러나오': 4656, '샷': 4657, '잠자': 4658, '좁': 4659, '꾸준히': 4660, '한남': 4661, '발휘': 4662, '개코': 4663, '선이': 4664, '속상하': 4665, '지역': 4666, '갇히': 4667, '부작': 4668, '풍기': 4669, '졸음': 4670, '왕가위': 4671, '방향': 4672, '처벌': 4673, '밍밍': 4674, '투명': 4675, '아트': 4676, '결승전': 4677, '살수': 4678, '인디언': 4679, '야이': 4680, '천하': 4681, '그림자': 4682, '추잡': 4683, '드래곤': 4684, '단계': 4685, '건드리': 4686, '지닌': 4687, '정신없이': 4688, '동급': 4689, '반의': 4690, '조르': 4691, '추적': 4692, '미사일': 4693, '콧물': 4694, '도덕': 4695, '조니': 4696, '관찰': 4697, '남우': 4698, '프리먼': 4699, '극의': 4700, '일본어': 4701, '화장': 4702, '거여': 4703, '뼈': 4704, '단합': 4705, '다케시': 4706, '길거리': 4707, '쾌감': 4708, '생방송': 4709, '맷': 4710, '예정': 4711, '블레어': 4712, '여성부': 4713, '절절': 4714, '편성': 4715, '벼': 4716, '애청자': 4717, '박용우': 4718, '그토록': 4719, '당당히': 4720, '멍청이': 4721, '몰아가': 4722, '끌어가': 4723, '황제': 4724, '피노키오': 4725, '엄태웅': 4726, '외계': 4727, '썅': 4728, '중구난방': 4729, '돌이': 4730, '크로우': 4731, '탈락': 4732, '인증': 4733, '롯데': 4734, '도서관': 4735, '전해': 4736, '부스': 4737, '나발': 4738, '전형': 4739, '바스코': 4740, '품이': 4741, '캠': 4742, '주니어': 4743, '트렌드': 4744, '인성': 4745, '허허허': 4746, '명백': 4747, '우주선': 4748, '공포심': 4749, '끌로드': 4750, '가만히': 4751, '쏠쏠': 4752, '이슈': 4753, '로드무비': 4754, '망설이': 4755, '샌들러': 4756, '개명': 4757, '패밀리': 4758, '지니': 4759, '시즈': 4760, '짝사랑': 4761, '부러': 4762, '만행': 4763, '쉐': 4764, '대중성': 4765, '망각': 4766, '친일파': 4767, '남자애': 4768, '각인': 4769, '결여': 4770, '움직임': 4771, '하필': 4772, '중국판': 4773, '에코': 4774, '전도연': 4775, '뒷부분': 4776, '수입사': 4777, '차기작': 4778, '실리': 4779, '되돌아보': 4780, '최저': 4781, '맥그리거': 4782, '오가': 4783, '인공': 4784, '생김': 4785, '받치': 4786, '리들리': 4787, '자유로': 4788, '뛰쳐나오': 4789, '실존': 4790, '선교': 4791, '충동': 4792, '오정': 4793, '봉준호': 4794, '시덥잖': 4795, '언더': 4796, '얼렁뚱땅': 4797, '한쪽': 4798, '굉장': 4799, '개들': 4800, '극찬': 4801, '다큐멘타리': 4802, '사형': 4803, '부패': 4804, '존재감': 4805, '다말': 4806, '작의': 4807, '영화정': 4808, '남상미': 4809, '대로': 4810, '암유': 4811, '빙의': 4812, '베테랑': 4813, '박신혜': 4814, '적절히': 4815, '유튜브': 4816, '회복': 4817, '재일': 4818, '로맨틱하': 4819, '따라오': 4820, '회의': 4821, '잭맨': 4822, '코스': 4823, '초보': 4824, '두근거리': 4825, '어두': 4826, '차지': 4827, '헌신': 4828, '퉤퉤': 4829, '동원': 4830, '팬티': 4831, '에리': 4832, '뜯': 4833, '하얗': 4834, '병기': 4835, '약해': 4836, '변호사': 4837, '팬텀': 4838, '후보': 4839, '프로젝트': 4840, '김빠지': 4841, '발달': 4842, '백번': 4843, '연기정': 4844, '마마': 4845, '클래스': 4846, '악의': 4847, '오리지날': 4848, '짜깁기': 4849, '도배': 4850, '극한': 4851, '미만': 4852, '위안부': 4853, '모녀': 4854, '엥': 4855, '삽': 4856, '하치': 4857, '안소니': 4858, '평하': 4859, '김현중': 4860, '도이': 4861, '예지원': 4862, '올바르': 4863, '멜로디': 4864, '저도': 4865, '최면': 4866, '어리석': 4867, '무명': 4868, '희한': 4869, '사골': 4870, '김승우': 4871, '적합': 4872, '조직': 4873, '서운': 4874, '으리으리': 4875, '엑소': 4876, '대변': 4877, '윤리': 4878, '트라우마': 4879, '나탈리': 4880, '오래도록': 4881, '건너': 4882, '손꼽히': 4883, '현빈': 4884, '수녀': 4885, '벅': 4886, '스토리텔링': 4887, '우선': 4888, '십분': 4889, '엣': 4890, '살림': 4891, '특성': 4892, '백미': 4893, '스머프': 4894, '소유': 4895, '각종': 4896, '주체': 4897, '열린': 4898, '이집트': 4899, '생동감': 4900, '매년': 4901, '토리': 4902, '괴기': 4903, '부당': 4904, '딸아이': 4905, '굴': 4906, '서서히': 4907, '케인': 4908, '한인': 4909, '모자르': 4910, '다재': 4911, '나약': 4912, '발레': 4913, '야수': 4914, '지하': 4915, '음란': 4916, '정식': 4917, '그러하': 4918, '대다수': 4919, '개의': 4920, '되찾': 4921, '영점': 4922, '호강': 4923, '유니크': 4924, '링컨': 4925, '서사시': 4926, '그만두': 4927, '제국주의': 4928, '배우진': 4929, '화제': 4930, '틴': 4931, '채민서': 4932, '나뉘': 4933, '사정': 4934, '색기': 4935, '쥐어짜': 4936, '샤를': 4937, '타격감': 4938, '얽히': 4939, '드릴': 4940, '울음': 4941, '샤넬': 4942, '내자': 4943, '유태인': 4944, '기르': 4945, '무엇': 4946, '잡스럽': 4947, '최종': 4948, '일대기': 4949, '이상형': 4950, '호주': 4951, '테스트': 4952, '이국적': 4953, '내려오': 4954, '자비에': 4955, '천정명': 4956, '데이트': 4957, '효민': 4958, '탱크': 4959, '노리': 4960, '기름': 4961, '호프만': 4962, '걸맞': 4963, '발성': 4964, '야망': 4965, '놀람': 4966, '쿄': 4967, '일부분': 4968, '납': 4969, '달이': 4970, '리처드': 4971, '강의': 4972, '킹콩': 4973, '로로': 4974, '불신': 4975, '피부': 4976, '태우': 4977, '주로': 4978, '교체': 4979, '번개': 4980, '은유': 4981, '현기증': 4982, '제레미': 4983, '시급': 4984, '말장난': 4985, '형성': 4986, '비노쉬': 4987, '묘': 4988, '뻔히': 4989, '부제': 4990, '적응': 4991, '날것': 4992, '쪼': 4993, '물들': 4994, '생전': 4995, '차고': 4996, '모드': 4997, '시원찮': 4998, '관우': 4999, '남지': 5000, '절망적': 5001, '가두': 5002, '이안나': 5003, '맴돌': 5004, '유년': 5005, '숨죽이': 5006, '초한지': 5007, '눈앞': 5008, '일반적': 5009, '본영': 5010, '뛰쳐': 5011, '습격': 5012, '홀리': 5013, '짚': 5014, '저스틴': 5015, '뿅': 5016, '연약': 5017, '예상외': 5018, '잔상': 5019, '맴버': 5020, '정은': 5021, '제타': 5022, '오션스': 5023, '소문': 5024, '글로리아': 5025, '탄압': 5026, '러닝': 5027, '쯧': 5028, '동의': 5029, '이토': 5030, '자꾸만': 5031, '하여간': 5032, '싸가지': 5033, '씨리즈': 5034, '툭': 5035, '가너': 5036, '구입': 5037, '넘버': 5038, '배신감': 5039, '김대중': 5040, '노무현': 5041, '이크': 5042, '명절': 5043, '고루': 5044, '지리하': 5045, '닭살': 5046, '몸짓': 5047, '밸런스': 5048, '안받': 5049, '나소': 5050, '인정받': 5051, '안중근': 5052, '시네마': 5053, '작중': 5054, '중견': 5055, '황홀': 5056, '쫄': 5057, '도구': 5058, '세심': 5059, '선라이즈': 5060, '잠기': 5061, '러브레터': 5062, '에이미': 5063, '개유': 5064, '체인지': 5065, '그런대로': 5066, '알렉스': 5067, '바이올린': 5068, '세밀': 5069, '서부극': 5070, '분야': 5071, '광구': 5072, '하야오': 5073, '예외': 5074, '장백': 5075, '깎아내리': 5076, '의무': 5077, '외화': 5078, '사토': 5079, '극우': 5080, '토토': 5081, '발악': 5082, '종교인': 5083, '쇼생크': 5084, '불러일으키': 5085, '치우': 5086, '고도': 5087, '온통': 5088, '창작': 5089, '치닫': 5090, '아서': 5091, '애환': 5092, '주세': 5093, '구별': 5094, '부잣집': 5095, '테마': 5096, '코멘트': 5097, '양심적': 5098, '이경': 5099, '이창': 5100, '끊임없이': 5101, '전무후무': 5102, '제법': 5103, '변태적': 5104, '웨스': 5105, '연속극': 5106, '핑': 5107, '우슬': 5108, '강수연': 5109, '범벅': 5110, '쯧쯧쯧': 5111, '풋': 5112, '통일': 5113, '레인': 5114, '바가지': 5115, '굵': 5116, '자녀': 5117, '처형': 5118, '심히': 5119, '개이': 5120, '정유미': 5121, '첩보물': 5122, '사로잡': 5123, '미성년자': 5124, '팩트': 5125, '연평': 5126, '단막극': 5127, '목욕': 5128, '다음날': 5129, '연출자': 5130, '아휴': 5131, '짬': 5132, '소박': 5133, '권리': 5134, '쟝': 5135, '포로': 5136, '초기': 5137, '이민호': 5138, '무당': 5139, '성폭행': 5140, '부치': 5141, '연예': 5142, '떠들': 5143, '어가': 5144, '당기': 5145, '박시환': 5146, '대답': 5147, '근육': 5148, '무서워하': 5149, '아마도': 5150, '떼우': 5151, '작고': 5152, '결과물': 5153, '최선정': 5154, '더군다나': 5155, '도입부': 5156, '마주': 5157, '전반': 5158, '은거지': 5159, '파도': 5160, '어이없이': 5161, '오픈': 5162, '성관계': 5163, '정서적': 5164, '쥬라기공원': 5165, '매장': 5166, '동정': 5167, '비명': 5168, '마리옹': 5169, '주지훈': 5170, '령': 5171, '폐인': 5172, '봉태': 5173, '경상도': 5174, '오열': 5175, '보라': 5176, '저지': 5177, '절대적': 5178, '문화적': 5179, '아이리스': 5180, '상자': 5181, '동성애자': 5182, '발리': 5183, '토르': 5184, '오디션': 5185, '소비': 5186, '넋': 5187, '철저히': 5188, '도신': 5189, '쉴드': 5190, '방어': 5191, '일과': 5192, '꾸르': 5193, '닦': 5194, '그래두': 5195, '시바': 5196, '긴급조치': 5197, '컬러': 5198, '추모': 5199, '안치': 5200, '뒤떨어지': 5201, '철이': 5202, '반영한': 5203, '벨라': 5204, '취': 5205, '헛점': 5206, '인종': 5207, '타잔': 5208, '가위': 5209, '로스': 5210, '상사': 5211, '삼총사': 5212, '일세': 5213, '랭': 5214, '김고은': 5215, '사자': 5216, '대체적': 5217, '올리버': 5218, '니미': 5219, '단편적': 5220, '유기': 5221, '날개': 5222, '써니': 5223, '인원': 5224, '우려': 5225, '개봉작': 5226, '치지': 5227, '어스': 5228, '폭행': 5229, '시라': 5230, '도달': 5231, '주식': 5232, '오웬': 5233, '뻑': 5234, '신비주의': 5235, '애드': 5236, '경이': 5237, '냉무': 5238, '재생': 5239, '인간미': 5240, '찬란': 5241, '쌤': 5242, '피라냐': 5243, '성향': 5244, '빙자': 5245, '치중': 5246, '앤더슨': 5247, '간신히': 5248, '톱': 5249, '주제곡': 5250, 'ㅔ': 5251, '베이비': 5252, '스펙터클': 5253, '브라질': 5254, '에이즈': 5255, '겹치': 5256, '원탑': 5257, '소속': 5258, '민감': 5259, '발차기': 5260, '구식': 5261, '화재': 5262, '과전': 5263, '경각심': 5264, '군상': 5265, '대중적': 5266, '피구': 5267, '파이트': 5268, '꽥꽥': 5269, '불멸': 5270, '찌들': 5271, '댕': 5272, '충만': 5273, '신파극': 5274, '구성력': 5275, '이모': 5276, '최루': 5277, '동료': 5278, '퍼포먼스': 5279, '밤새': 5280, '생명체': 5281, '타파': 5282, '귀하': 5283, '부천': 5284, '지켜보': 5285, '숙제': 5286, '의학': 5287, '내아': 5288, '유역': 5289, '바래': 5290, '선배': 5291, '주저': 5292, '한채영': 5293, '진이': 5294, '김정은': 5295, '나문희': 5296, '눈길': 5297, '속도감': 5298, '합당': 5299, '조엘': 5300, '이대로': 5301, '간이': 5302, '메가': 5303, '울구': 5304, '과분': 5305, '이수정': 5306, '흔': 5307, '뺨': 5308, '활': 5309, '줄어들': 5310, '들어주': 5311, '비우': 5312, '이재': 5313, '삭막': 5314, '일지': 5315, '끊임없': 5316, '얄밉': 5317, '입가': 5318, '코폴라': 5319, '내기': 5320, '푸하하하': 5321, '박정희': 5322, '능청': 5323, '멘트': 5324, '서태지': 5325, '우리': 5326, '가방': 5327, '박민영': 5328, '아이스': 5329, '수업': 5330, '이생': 5331, '카메오': 5332, '코미디물': 5333, '이동': 5334, '로마': 5335, '싹': 5336, '일상적': 5337, '우스꽝스럽': 5338, '휴지': 5339, '고래': 5340, '어용': 5341, '추상적': 5342, '로렌스': 5343, '특선': 5344, '둔갑': 5345, '한치': 5346, '독일군': 5347, '극단': 5348, '쌔': 5349, '남아돌': 5350, '벌어': 5351, '나래': 5352, '찌푸리': 5353, '불타': 5354, '건달': 5355, '개봉관': 5356, '동성': 5357, '폭파': 5358, '총격': 5359, '떡칠': 5360, '기전': 5361, '히스': 5362, '레저': 5363, '재가': 5364, '상황과': 5365, '세력': 5366, '유코': 5367, '척하': 5368, '조명': 5369, '콜라': 5370, '가슴속': 5371, '앵글': 5372, '권장': 5373, '그리움': 5374, '이러고': 5375, '한고은': 5376, '때묻': 5377, '공군': 5378, '버무리': 5379, '역이': 5380, '흠뻑': 5381, '박스오피스': 5382, '내세우': 5383, '도보': 5384, '의전': 5385, '최상': 5386, '아나킨': 5387, '시퀀스': 5388, '꼬라지': 5389, '자신감': 5390, '멀미': 5391, '꽁': 5392, '코디': 5393, '위대하': 5394, '창의력': 5395, '브로스넌': 5396, '어어': 5397, '알콜': 5398, '짜임': 5399, '사실감': 5400, '파고들': 5401, '깨닳': 5402, '혼나': 5403, '후유증': 5404, '수상': 5405, '관능적': 5406, '드라마틱': 5407, '연민': 5408, '용사': 5409, '정은지': 5410, '자기': 5411, '육체': 5412, '구슬': 5413, '신은경': 5414, '오오오': 5415, '비평': 5416, '놀라움': 5417, '서정': 5418, 'ㅍ': 5419, '첩혈쌍웅': 5420, '사스': 5421, '공무원': 5422, '캡': 5423, '양키': 5424, '개발연': 5425, '시드': 5426, '캐치': 5427, '평행': 5428, '갑자': 5429, '롤': 5430, '갈아타': 5431, '마스크': 5432, '부하': 5433, '야마다': 5434, '삼성': 5435, '대우': 5436, '서유': 5437, '급급': 5438, '더머': 5439, '추리물': 5440, '개개인': 5441, '쭉쭉': 5442, '빼앗기': 5443, '수습': 5444, '아부': 5445, '리치': 5446, '구르': 5447, '경주': 5448, '상남': 5449, '연계': 5450, '오락물': 5451, '천박': 5452, '놀래': 5453, '재이': 5454, '발단': 5455, '아청': 5456, '복귀': 5457, '경제': 5458, '생물': 5459, '가물가물': 5460, '데스티네이션': 5461, '왕가': 5462, '고개': 5463, '안개': 5464, '안이': 5465, '트리': 5466, '소망': 5467, '이치': 5468, '판사': 5469, '사운드트랙': 5470, '해리': 5471, '웨슬리': 5472, '상승': 5473, '소송': 5474, '천둥': 5475, '폄하': 5476, '코너': 5477, '씩': 5478, '온건': 5479, '내려놓': 5480, '눈살': 5481, '앨리스': 5482, '빗나가': 5483, '도영화': 5484, '한자': 5485, '고려': 5486, '천재성': 5487, '젓': 5488, '논거': 5489, '방학': 5490, '거참': 5491, '호랑이': 5492, '탁구': 5493, '다이애나': 5494, '하기전': 5495, '맘마미아': 5496, '고난': 5497, '권총': 5498, '여기자': 5499, '분위': 5500, '팝송': 5501, '김밥': 5502, '도정': 5503, '안면': 5504, '이보영': 5505, '무려': 5506, '스콜세지': 5507, '애로': 5508, '죄악': 5509, '태권': 5510, '지혜': 5511, '윽': 5512, '참내': 5513, '영화아': 5514, '안젤리나': 5515, '형편': 5516, '원회': 5517, '관통': 5518, '전경': 5519, '한층': 5520, '가만': 5521, '포토': 5522, '김현주': 5523, '볼륨': 5524, '에이스': 5525, '호크': 5526, '개운': 5527, '더럽히': 5528, '워킹': 5529, '퓨전': 5530, '박진희': 5531, '뒷모습': 5532, '김새': 5533, '개구리': 5534, '슬슬': 5535, '해로': 5536, '한전': 5537, '앞두': 5538, '한낱': 5539, '오스카': 5540, '대기업': 5541, '굴리': 5542, '중도': 5543, '결정체': 5544, '삼천포': 5545, '생하': 5546, '자연스레': 5547, '파헤치': 5548, '빠짐없이': 5549, '상담': 5550, '자칫': 5551, '종로': 5552, '깡': 5553, '보드': 5554, '예체능': 5555, '이요원': 5556, '여부': 5557, '검술': 5558, '안남기': 5559, '요한슨': 5560, '김수미': 5561, '고군분투': 5562, '소위': 5563, '털리': 5564, '개봉일': 5565, '낭만적': 5566, '솔로': 5567, '불후': 5568, '인육': 5569, '시아': 5570, '신도': 5571, '욕설': 5572, '물리': 5573, '난생': 5574, '막무가내': 5575, '비비': 5576, '안드로메다': 5577, '용인': 5578, '한적': 5579, '로즈': 5580, '따먹': 5581, '아담스': 5582, '표한': 5583, '멍하': 5584, '해리스': 5585, '일류': 5586, '에반게리온': 5587, '엇갈리': 5588, '한의': 5589, '펙': 5590, '엿보': 5591, '특': 5592, '헤매': 5593, '위협': 5594, '숨바꼭질': 5595, '현저히': 5596, '뮤직': 5597, '결심': 5598, '사태': 5599, '헤헤': 5600, '시크': 5601, '그다음': 5602, '각시': 5603, '특색': 5604, '구경하': 5605, '색안경': 5606, '보인': 5607, '정적': 5608, '핸드': 5609, '고유': 5610, '티브이': 5611, '아이템': 5612, '조미': 5613, '위노': 5614, '핀처': 5615, '미션임파서블': 5616, '블럭': 5617, '야마': 5618, '셀': 5619, '후진국': 5620, '아무렇': 5621, '권투': 5622, '활극': 5623, '물질': 5624, '성취': 5625, '현상': 5626, '줍': 5627, '서글프': 5628, '걸출': 5629, '카페': 5630, '스치': 5631, '일요일': 5632, '게리': 5633, '오염': 5634, '방사능': 5635, '돈벌이': 5636, '고지': 5637, '다행히': 5638, '팝스타': 5639, '득': 5640, '적시': 5641, '달려가': 5642, '제격': 5643, '치즈': 5644, '광태': 5645, '만땅': 5646, '슬래셔': 5647, '발광': 5648, '붉은': 5649, '김보성': 5650, '구태의연': 5651, '물보': 5652, '마술': 5653, '대세': 5654, '울부짖': 5655, '성준': 5656, '손님': 5657, '문자': 5658, '싱크': 5659, '곽부성': 5660, '트루': 5661, '최강희': 5662, '업그레이드': 5663, '음모론': 5664, '버프': 5665, '화내': 5666, '여학생': 5667, '쑤시': 5668, '화인': 5669, '성하': 5670, '클라이막스': 5671, '올려놓': 5672, '같잖': 5673, '독재': 5674, '자가': 5675, '염정아': 5676, '어울림': 5677, '최고급': 5678, '소심': 5679, '워크': 5680, '붕괴': 5681, '외적': 5682, '한판': 5683, '바이': 5684, '애써': 5685, '정신연령': 5686, '가늘': 5687, '총기': 5688, '베트남': 5689, '알맹이': 5690, '한결같': 5691, '공상': 5692, '콱': 5693, '경치': 5694, '사주': 5695, '분투': 5696, '서양인': 5697, '걸어가': 5698, '기세': 5699, '어렴풋이': 5700, '김효진': 5701, '상향': 5702, '페이스': 5703, '라디오': 5704, '이하늬': 5705, '토비': 5706, '아우라': 5707, '카렐': 5708, '황신혜': 5709, '동해': 5710, '달라지': 5711, '원본': 5712, '빠다': 5713, '성질': 5714, '전생': 5715, '린지': 5716, '거스르': 5717, '제이미': 5718, '소신': 5719, '스턴': 5720, '이제훈': 5721, '진주': 5722, '어게인': 5723, '에디': 5724, '램': 5725, '지향': 5726, '조장': 5727, '사생활': 5728, '유명배': 5729, '버디': 5730, '불러오': 5731, '해서웨이': 5732, '현명': 5733, '비열': 5734, '우성': 5735, '남다르': 5736, '학예회': 5737, '블레이드': 5738, '눈알': 5739, '예감': 5740, '막내': 5741, '경력': 5742, '빈': 5743, '로지': 5744, '이익': 5745, '공원': 5746, '우뢰': 5747, '우드': 5748, '입맛': 5749, '데인': 5750, '저격': 5751, '형아': 5752, '단연코': 5753, '라이브': 5754, '그전': 5755, '일병': 5756, '기라': 5757, '여전사': 5758, '코스트너': 5759, '시네': 5760, '다구': 5761, '유해진': 5762, '리차드': 5763, '레즈비언': 5764, '일정': 5765, '정신이상': 5766, '전후': 5767, '사무엘': 5768, '영웅주의': 5769, '함속': 5770, '거북이': 5771, '변한': 5772, '네임': 5773, '과감': 5774, '이두': 5775, '개똥철학': 5776, '라이즈': 5777, '나비': 5778, '무장': 5779, '약속': 5780, '함보': 5781, '주관': 5782, '꼬시': 5783, '유머러스하': 5784, '처지': 5785, '뒷통수': 5786, '투쟁': 5787, '싸인': 5788, '고스트': 5789, '전효성': 5790, '조롱': 5791, '토미': 5792, '사족': 5793, '브랜드': 5794, '명곡': 5795, '휘': 5796, '당대': 5797, '쾌락': 5798, '밀고': 5799, '살리기': 5800, '리스': 5801, '여정': 5802, '홀트': 5803, '냉혹': 5804, '갈기': 5805, '기다림': 5806, '바라지': 5807, '아네트': 5808, '베닝': 5809, '팔자': 5810, '금발': 5811, '사례': 5812, '비둘기': 5813, '스텔라': 5814, '무고': 5815, '구질구질': 5816, '빰': 5817, '원스': 5818, '재림': 5819, '레디': 5820, '예언': 5821, '지겨움': 5822, '더블': 5823, '존시': 5824, '끝장': 5825, '마모루': 5826, '진작에': 5827, '오줌': 5828, '밉상': 5829, '의구심': 5830, '오연': 5831, '수퍼맨': 5832, '매료': 5833, '매달리': 5834, '진국': 5835, '그루': 5836, '유효': 5837, '뒤통수': 5838, '교양': 5839, '모에': 5840, '물결': 5841, '낙원': 5842, '손목': 5843, '철철': 5844, '포트만': 5845, '민주주의': 5846, '캐리비안': 5847, '소스': 5848, '타서': 5849, '악녀': 5850, '조한선': 5851, '터트리': 5852, '엑스트라': 5853, '하단': 5854, '비슷비슷': 5855, '황진': 5856, '박지성': 5857, '장진영': 5858, '거저': 5859, '아시아인': 5860, '손꼽': 5861, '비루': 5862, '영역': 5863, '공들이': 5864, 'ㅑ': 5865, '지방': 5866, '김동완': 5867, '정우': 5868, '갈증': 5869, '물고기': 5870, '하트넷': 5871, '노자': 5872, '거칠': 5873, '전반부': 5874, '호연': 5875, '후편': 5876, '개떡': 5877, '자만': 5878, '커다랗': 5879, '쥬라기': 5880, '사기극': 5881, '방송국': 5882, '흑백영화': 5883, '히틀러': 5884, '상대방': 5885, '워터': 5886, '칠': 5887, '역동적': 5888, '전설적': 5889, '테일러': 5890, '문제점': 5891, '망상': 5892, '마루': 5893, '리모컨': 5894, '위조': 5895, '엘리': 5896, '기립': 5897, '윤진': 5898, '잣대': 5899, '그레이스': 5900, '날수': 5901, '아가씨': 5902, '몰두': 5903, '찌꺼기': 5904, '즉': 5905, '거울': 5906, '조성하': 5907, '애비': 5908, '세가': 5909, '전두환': 5910, '샤크': 5911, '비정상적': 5912, '입술': 5913, '간호사': 5914, '이정현': 5915, '미라': 5916, '대머리': 5917, '왁': 5918, '펑': 5919, '맛없': 5920, '조선족': 5921, '마력': 5922, '연대기': 5923, '종결': 5924, '기인': 5925, '강대국': 5926, '장기': 5927, '하루하루': 5928, '에니': 5929, '윤하': 5930, '비의': 5931, '농락': 5932, '청순': 5933, '대처': 5934, '고역': 5935, '쥑이': 5936, '테이프': 5937, '알맞': 5938, '개척': 5939, '명도': 5940, '편의점': 5941, '빈곤': 5942, '핫세': 5943, '암만': 5944, '콩가루': 5945, '성동일': 5946, '지배하': 5947, '이쯤': 5948, '나아가': 5949, '타워': 5950, '녹음': 5951, '맞서': 5952, '주무시': 5953, '야경': 5954, '차이나': 5955, '앵': 5956, '가문': 5957, '제기': 5958, '치부': 5959, '그로테스크': 5960, '싸지르': 5961, '불꽃': 5962, '명탐정': 5963, '에어컨': 5964, '이기주': 5965, '편만': 5966, '전기영': 5967, '별생각': 5968, '허지웅': 5969, '실천': 5970, '전범': 5971, '지니어스': 5972, '추석': 5973, '스완': 5974, '사업': 5975, '어찌나': 5976, '고집': 5977, '뷰티': 5978, '주장': 5979, '맥클레인': 5980, '자료': 5981, '까먹': 5982, '밥맛': 5983, '플러스': 5984, '처녀': 5985, '성과': 5986, '재벌': 5987, '숨소리': 5988, '횡설수설': 5989, '제주도': 5990, '여사': 5991, '맞먹': 5992, '성인영': 5993, '해방': 5994, '동아리': 5995, '도적': 5996, '마녀사냥': 5997, '모범': 5998, '장학': 5999, '꿈속': 6000, '다주': 6001, '노홍철': 6002, '메이저': 6003, '머물': 6004, '김갑수': 6005, '미친년': 6006, '경비': 6007, '강박증': 6008, '유신': 6009, '빗': 6010, '널리': 6011, '영국식': 6012, '세사': 6013, '평화롭': 6014, '반대하': 6015, '고마': 6016, '싱크로': 6017, '간디': 6018, '루비': 6019, '발버둥': 6020, '넘버원': 6021, '고대': 6022, '힘없': 6023, '침대': 6024, '영화제작': 6025, '김소연': 6026, '꽃뱀': 6027, '열정적': 6028, '쯔': 6029, '부대': 6030, '이종석': 6031, '보리': 6032, '난사': 6033, '장사': 6034, '은은': 6035, '서스펙트': 6036, '모조리': 6037, '이소연': 6038, '찜': 6039, '휴지통': 6040, '으으으': 6041, '더구나': 6042, '순서': 6043, '악인': 6044, '비장': 6045, '머리카락': 6046, '해먹': 6047, '애나': 6048, '어지간히': 6049, '민중': 6050, '로만': 6051, '조재현': 6052, '에미': 6053, '스승': 6054, '만끽': 6055, '대일': 6056, '문제없': 6057, '이미숙': 6058, '수결': 6059, '근친': 6060, '대작전': 6061, '중독자': 6062, '페인': 6063, '타임머신': 6064, 'ㄱㅅ': 6065, '쿠퍼': 6066, '오자룡': 6067, '금하': 6068, '한몫': 6069, '차별화': 6070, '허영심': 6071, '옳다': 6072, '이듬': 6073, '미나': 6074, '아일랜드': 6075, '워낭': 6076, '뭉치': 6077, '친근': 6078, '니모': 6079, '비키': 6080, '쇼크': 6081, '디지털': 6082, '알콩달콩': 6083, '궁상맞': 6084, '마키': 6085, '수나': 6086, '장예모': 6087, '괴리감': 6088, '히가시': 6089, '푸하하': 6090, '비틀즈': 6091, '후리': 6092, '맨몸': 6093, '예기': 6094, '쬐금': 6095, '미미': 6096, '저미': 6097, '아부지': 6098, '생생히': 6099, '접어': 6100, '휴대폰': 6101, '중경삼림': 6102, '죽여주': 6103, '강림': 6104, '칠레': 6105, '식겁': 6106, '쳐다보': 6107, '릴리': 6108, '분열': 6109, '취업': 6110, '심란': 6111, '유다': 6112, '기이한': 6113, '사이비': 6114, '무방': 6115, '조문': 6116, '아파트': 6117, '시어머니': 6118, '미지근': 6119, '마돈나': 6120, '더스틴': 6121, '수박': 6122, '오현경': 6123, '심은하': 6124, '런지': 6125, '뷰': 6126, '폐기': 6127, '넓히': 6128, '유연석': 6129, '정신병원': 6130, '쑤': 6131, '독하': 6132, '째': 6133, '따갑': 6134, '교복': 6135, '레슬리': 6136, '무릎팍': 6137, '무죄': 6138, '여론': 6139, '회자': 6140, '고달프': 6141, '까맣': 6142, '성욕': 6143, '똥칠': 6144, '로더': 6145, '실험적': 6146, '설리': 6147, '민호': 6148, '쪼가리': 6149, '이문': 6150, '애새끼': 6151, '라즈': 6152, '어느덧': 6153, '피어나': 6154, '맘대로': 6155, '남동생': 6156, '시대극': 6157, '막말': 6158, '개사': 6159, '이민': 6160, '별명': 6161, '하찮': 6162, '화살': 6163, '우월주의': 6164, '결핍': 6165, '상술': 6166, '마네': 6167, '제문': 6168, '몽정기': 6169, '내야': 6170, '일순': 6171, '네버': 6172, '샤말란': 6173, '마감': 6174, '귀족': 6175, '매개체': 6176, '재판': 6177, '피의': 6178, '놀아나': 6179, '대강': 6180, '질서': 6181, '위력': 6182, '과소평가': 6183, '치매': 6184, '며느리': 6185, '스토커': 6186, '브이': 6187, '맥락': 6188, '집어': 6189, '왈츠': 6190, '다름없': 6191, '짜지': 6192, '추측': 6193, '홈즈': 6194, '아일': 6195, '피셔': 6196, '나른': 6197, '강우석': 6198, '울트라': 6199, '베를린': 6200, '대안': 6201, '여운영': 6202, '전신': 6203, '샤워': 6204, '불교': 6205, '만발': 6206, '장비': 6207, '오바이트': 6208, '티벳': 6209, '리콜': 6210, '오피스': 6211, '유준상': 6212, '히스클리프': 6213, '우물': 6214, '안구': 6215, '으아': 6216, '끈끈': 6217, '유가': 6218, '갑옷': 6219, '폭스': 6220, '칭': 6221, '다망': 6222, '꿰': 6223, '가르': 6224, '거르': 6225, '자부': 6226, '사후': 6227, '지속': 6228, '견주': 6229, '성행위': 6230, '약점': 6231, '기념비적': 6232, '가든': 6233, '서비스': 6234, '린제이': 6235, '앤디': 6236, '적지': 6237, '허탈': 6238, '트리스탄': 6239, '이민자': 6240, '쇼킹': 6241, '진자': 6242, '찐': 6243, '서부': 6244, '재즈': 6245, '사유': 6246, '루키': 6247, '수지': 6248, '페리스': 6249, '취지': 6250, '요리사': 6251, '사납': 6252, '바위': 6253, '커트': 6254, '끌어내': 6255, '뉘': 6256, '의혹': 6257, '도저': 6258, '무표정': 6259, '객': 6260, '선셋': 6261, '방화': 6262, '며칠': 6263, '동보': 6264, '수영': 6265, '허진호': 6266, '와인': 6267, '겁내': 6268, '영하': 6269, '웰': 6270, '우울증': 6271, '시련': 6272, '외부': 6273, '주부': 6274, '독도': 6275, '파랑새': 6276, '나이스': 6277, '월드컵': 6278, '침몰': 6279, '호타': 6280, '정준호': 6281, '출근': 6282, '이종혁': 6283, '깨우': 6284, '우상': 6285, '짜장면': 6286, '정경호': 6287, '포스트': 6288, '원더': 6289, '우먼': 6290, '기하': 6291, '소비자': 6292, '인천': 6293, '문학작품': 6294, '교과서적': 6295, '금성무': 6296, '풍광': 6297, '장창': 6298, '진출': 6299, '장동민': 6300, '스와핑': 6301, '협': 6302, '음침': 6303, '이질감': 6304, '이재은': 6305, '시원시원': 6306, '뒤돌아보': 6307, '불쾌감': 6308, '경고': 6309, '끓이': 6310, '켈리': 6311, '쪼금': 6312, '애국': 6313, '쪽박': 6314, '냉철': 6315, '비꼬': 6316, '오경': 6317, '내주': 6318, '반데라스': 6319, '램버트': 6320, '꾸역꾸역': 6321, '겸손': 6322, '매머드': 6323, '얹': 6324, '끝맺음': 6325, '뚜': 6326, '각도': 6327, '고갈': 6328, '이러니까': 6329, '창의적': 6330, '안부': 6331, '도그빌': 6332, '눈시울': 6333, '요번': 6334, '신선해': 6335, '챙피': 6336, '현대사회': 6337, '예견': 6338, '판정': 6339, '심혜진': 6340, '서투르': 6341, '공익': 6342, '하셈': 6343, '횟수': 6344, '연달': 6345, '매니저': 6346, '프랭크': 6347, '떳떳': 6348, '희미': 6349, '클로즈업': 6350, '주몽': 6351, '강자': 6352, '곤충': 6353, '브리트니': 6354, '볼타': 6355, '남한': 6356, '소식': 6357, '태극기': 6358, '역전': 6359, '국회의원': 6360, '모시': 6361, '이그': 6362, '한국전쟁': 6363, '노무': 6364, '동시대': 6365, '취소': 6366, '엠씨': 6367, '사명': 6368, '불치병': 6369, '블록': 6370, '여성분': 6371, '금요일': 6372, '이상우': 6373, '히든': 6374, '소이': 6375, '입증': 6376, '투성': 6377, '일기': 6378, '애미': 6379, '중인': 6380, '컨트롤': 6381, '전사': 6382, '논리적': 6383, '홍길동': 6384, '국제': 6385, '내부': 6386, '본전': 6387, '몰르': 6388, '해맑': 6389, '해답': 6390, '생일': 6391, '주식회사': 6392, '소지': 6393, '실태': 6394, '매수': 6395, '일편': 6396, '부셔': 6397, '피폐': 6398, '표방': 6399, '전적': 6400, '하울': 6401, '프로스트': 6402, '베드': 6403, '연기인': 6404, '영아': 6405, '사회상': 6406, '강원도': 6407, '퀀시': 6408, '효과음': 6409, '첫날': 6410, '자기만족': 6411, '승자': 6412, '턱없이': 6413, '조만간': 6414, '아이디': 6415, '스튜어트': 6416, '오프': 6417, '슬립': 6418, '산트': 6419, '세세': 6420, '일어서': 6421, '끌려가': 6422, '편지': 6423, '에어': 6424, '수출': 6425, '우리말': 6426, '한곳': 6427, '김준호': 6428, '정책': 6429, '관상': 6430, '여자아이': 6431, '도망자': 6432, '쥐뿔': 6433, '세계대전': 6434, '제길': 6435, '영애': 6436, '풍선': 6437, '지진': 6438, '경향': 6439, '눌리': 6440, '대풍': 6441, '현준': 6442, '다울': 6443, '챔피언': 6444, '오래가': 6445, '로키': 6446, '기원': 6447, '비약': 6448, '배종옥': 6449, '반짝반짝': 6450, '교사': 6451, '답변': 6452, '노숙자': 6453, '우즈': 6454, '헤어나오': 6455, '예의': 6456, '일색': 6457, '동물농장': 6458, '작품상': 6459, '맥이': 6460, '오케스트라': 6461, '이로': 6462, '뻗': 6463, '리키': 6464, '키워': 6465, '시공간': 6466, '총소리': 6467, '서정적': 6468, '박유천': 6469, '제인': 6470, '포도': 6471, '지안': 6472, '아파하': 6473, '원어': 6474, '무도': 6475, '갚': 6476, '요하': 6477, '더러워지': 6478, '도현': 6479, '아멘': 6480, '코마': 6481, '변명': 6482, '코다': 6483, '옆집': 6484, '기질': 6485, '다분': 6486, '카사노바': 6487, '단말': 6488, '반말': 6489, '인디아나': 6490, '긴장도': 6491, '티켓': 6492, '리턴': 6493, '주리': 6494, 'ㄴㄴ': 6495, '근친상간': 6496, '서바이벌': 6497, '생뚱맞': 6498, '씩씩': 6499, '지린다': 6500, '헬': 6501, '성공적': 6502, '안일': 6503, '오컬트': 6504, '지상': 6505, '따라서': 6506, '아아아': 6507, '총각': 6508, '돌아서': 6509, '상기': 6510, '코끼리': 6511, '지그': 6512, '에구': 6513, '이날': 6514, '방지': 6515, '비장미': 6516, '그래요': 6517, '은자': 6518, '끝없': 6519, '박력': 6520, '클라이브': 6521, '톡톡': 6522, '핑계': 6523, '마구': 6524, '젊음': 6525, '해군': 6526, '합격': 6527, '차도': 6528, '트릭': 6529, '터널': 6530, '반고': 6531, '김민정': 6532, '천군': 6533, '대항': 6534, '효과적': 6535, '눈물샘': 6536, '폭도': 6537, '희열': 6538, '투사': 6539, '노릇': 6540, '미셸': 6541, '일상생활': 6542, '일치': 6543, '윤종신': 6544, '누리': 6545, '몰리': 6546, '인간관계': 6547, '퍼레이드': 6548, '누드': 6549, '직시': 6550, '정직': 6551, '꽈': 6552, '도덕적': 6553, '몇일': 6554, '포근': 6555, '요세': 6556, '들롱': 6557, '조폭마누라': 6558, '앞머리': 6559, '하세': 6560, '에에': 6561, '빚': 6562, '데뷔': 6563, '한사랑': 6564, '프레임': 6565, '미숙': 6566, '아아아아': 6567, '주어지': 6568, '심도': 6569, '택하': 6570, '부조화': 6571, '핑크': 6572, '한복판': 6573, '인터': 6574, '실로': 6575, '복제': 6576, '번뜩이': 6577, '두목': 6578, '이브': 6579, '냉': 6580, '결정판': 6581, '표출': 6582, '반면': 6583, '오시이': 6584, '압축': 6585, '뚜렷': 6586, '어리숙하': 6587, '친하': 6588, '못나': 6589, '살인범': 6590, '위한영': 6591, '악한': 6592, '변태영': 6593, '킴': 6594, '체류자': 6595, '텀': 6596, '소라': 6597, '권도': 6598, '여타': 6599, '데이지': 6600, '지시': 6601, '공리': 6602, '트리에': 6603, '나한': 6604, '송윤아': 6605, '인시': 6606, '패기': 6607, '달성': 6608, '롯데시네마': 6609, '어루만지': 6610, '안재모': 6611, '지상주의': 6612, '구로사와': 6613, '콩콩': 6614, '한국적': 6615, '농구': 6616, '치하': 6617, '주변인': 6618, '헤더': 6619, '목마르': 6620, '광대': 6621, '오디오': 6622, '솜': 6623, '오사': 6624, '임무': 6625, '치장': 6626, '리플리': 6627, '등극': 6628, '한결': 6629, '사가': 6630, '묵묵히': 6631, '이기우': 6632, '시초': 6633, '기리': 6634, '자시': 6635, '뺏기': 6636, '전현무': 6637, '능력자': 6638, '정상적': 6639, '협박': 6640, '면상': 6641, '알렌': 6642, '통수': 6643, '끼어들': 6644, '가일': 6645, '극도': 6646, '메가박스': 6647, '딥': 6648, '단면': 6649, '명분': 6650, '장난질': 6651, '승승장구': 6652, '어린왕자': 6653, '사세': 6654, '다가가': 6655, '맘껏': 6656, '오래오래': 6657, '해드': 6658, '페넬로페': 6659, '긴말': 6660, '사바': 6661, '김정일': 6662, '간절': 6663, '두사부일체': 6664, '버겁': 6665, '파괴적': 6666, '치킨': 6667, '그간': 6668, '이참': 6669, '타이타닉': 6670, '말년': 6671, '수호': 6672, '티라노': 6673, '아이덴티티': 6674, '메멘토': 6675, '헛되': 6676, '마가': 6677, '영화인': 6678, '만능': 6679, '가식적': 6680, '데모': 6681, '베이베': 6682, '뒷맛': 6683, '로우': 6684, '얻어맞': 6685, '모차르트': 6686, '스탠바이': 6687, '도나': 6688, '작살': 6689, '클레이': 6690, '안거': 6691, '지능': 6692, '하늘나라': 6693, '나진': 6694, '치우치': 6695, '헤이': 6696, '슈나이더': 6697, '늘어놓': 6698, '거침없이': 6699, '딴사람': 6700, '마더': 6701, '맛나': 6702, '제대': 6703, '감점': 6704, '빨랑': 6705, '김동욱': 6706, '클릭': 6707, '매일매일': 6708, '도장': 6709, '성당': 6710, '내보내': 6711, '이용철': 6712, '선악': 6713, '정신세계': 6714, '코끝': 6715, '웬지': 6716, '완벽히': 6717, '유전자': 6718, '시큰둥': 6719, '팔레스타인': 6720, '캠코더': 6721, '꽂': 6722, '따봉': 6723, '흐믓': 6724, '한발': 6725, '난민': 6726, '두어': 6727, '틀림': 6728, '리브': 6729, '배두나': 6730, '작전': 6731, '해바라기': 6732, '들려': 6733, '백수': 6734, '심야': 6735, '소원': 6736, '비운': 6737, '징징': 6738, '파격': 6739, '심보': 6740, '식구': 6741, '성이': 6742, '발사': 6743, '헤치': 6744, '아하': 6745, '사치': 6746, '족하': 6747, '은정': 6748, '볼일': 6749, '문제작': 6750, '배출': 6751, '해운대': 6752, '늘이': 6753, '비비안리': 6754, '용어': 6755, '극대화': 6756, '설계': 6757, '작정': 6758, '더그': 6759, '절실': 6760, '쪼개': 6761, '심판': 6762, '재활용': 6763, '이라크': 6764, '서동요': 6765, '대자연': 6766, '조형기': 6767, '로켓': 6768, '깜짝깜짝': 6769, '킥': 6770, '아이엠': 6771, '모음집': 6772, '성도': 6773, '획기적': 6774, '크로': 6775, '그래비티': 6776, '조은': 6777, '비판적': 6778, '철수': 6779, '건물': 6780, '되돌리': 6781, '기무라': 6782, '삐뚤어지': 6783, '입소문': 6784, '떠오': 6785, '카레': 6786, '눈꼽': 6787, '그랜트': 6788, '방문': 6789, '베이컨': 6790, '맹인': 6791, '정감': 6792, '배달': 6793, '원의': 6794, '특급': 6795, '양익준': 6796, '셜록': 6797, '침략': 6798, '이경규': 6799, '감시': 6800, '투혼': 6801, '합리화': 6802, '반항': 6803, '괴짜': 6804, '물씬': 6805, '산업': 6806, '잡탕': 6807, '풍성': 6808, '무심': 6809, '서유기': 6810, '특별히': 6811, '편중': 6812, '불사신': 6813, '거꾸로': 6814, '솟': 6815, '비씨': 6816, '화양연화': 6817, '들여다보': 6818, '소문나': 6819, '잔치': 6820, '수현': 6821, '하구': 6822, '히나': 6823, '액츄얼리': 6824, '명장': 6825, '반죽': 6826, '콤': 6827, '백투더': 6828, '이명': 6829, '지껄이': 6830, '다우': 6831, '라라': 6832, '폭동': 6833, '긁': 6834, '소금': 6835, '사뭇': 6836, '우라': 6837, '하희라': 6838, '의이': 6839, '보듬': 6840, '왕정': 6841, '뒷이야기': 6842, '테러리스트': 6843, '격투기': 6844, '냉전': 6845, '허비': 6846, '혼': 6847, '도너': 6848, '뿜어내': 6849, '뒤쳐지': 6850, '퇴': 6851, '중사': 6852, '기승': 6853, '혼돈': 6854, '열차': 6855, '연걸': 6856, '탐정': 6857, '시들': 6858, '일종': 6859, '종북': 6860, '거하': 6861, '의인': 6862, '문어': 6863, '대위': 6864, '귓가': 6865, '국제시장': 6866, '로미오': 6867, '쩍': 6868, '쇼킹하': 6869, '다우니': 6870, '출중': 6871, '주시': 6872, '서커스': 6873, '비틀': 6874, '우연이': 6875, '바비': 6876, '난도질': 6877, '망가뜨리': 6878, '제자': 6879, '피터팬': 6880, '박현지': 6881, '절박': 6882, '다이아몬드': 6883, '라이벌': 6884, '똑': 6885, '걸이': 6886, '애뜻': 6887, '한신': 6888, '손오공': 6889, '하등': 6890, '거란': 6891, '구타': 6892, '조커': 6893, '아슬아슬': 6894, '지려': 6895, '골고루': 6896, '맹탕': 6897, '도박': 6898, '인심': 6899, '엽기적': 6900, '낡': 6901, '닳': 6902, '특정': 6903, '웰컴': 6904, '모래시계': 6905, '이불': 6906, '유주얼': 6907, '냉소적': 6908, '구숙정': 6909, '김정태': 6910, '투입': 6911, '디자이너': 6912, '장이': 6913, '미자': 6914, '덕화': 6915, '라드': 6916, '참담': 6917, '겉돌': 6918, '적정': 6919, '고전적': 6920, '연쇄살인': 6921, '이수경': 6922, '싸대': 6923, '쌍욕': 6924, '구세주': 6925, '먹방': 6926, '반공': 6927, '작자': 6928, '거래': 6929, '핫': 6930, '고준희': 6931, '솔솔': 6932, '멀더': 6933, '원소': 6934, '퍽': 6935, '실신': 6936, '절벽': 6937, '달랑': 6938, '장선우': 6939, '페미니즘': 6940, '경도': 6941, '기둥': 6942, '일제': 6943, '데블': 6944, '박영진': 6945, '해고': 6946, '더글라스': 6947, '한혜진': 6948, '바람둥이': 6949, '명치': 6950, '기뻐하': 6951, '갈피': 6952, '개입': 6953, '수없이': 6954, '뚫리': 6955, '무진장': 6956, '피라미드': 6957, '복고': 6958, '졸고': 6959, '놀이터': 6960, '와일드': 6961, '지현': 6962, '훑어보': 6963, '주름': 6964, '코미디언': 6965, '파파': 6966, '얼음': 6967, '결혼식': 6968, '건너뛰': 6969, '탱고': 6970, '잊어버리': 6971, '올림': 6972, '급조': 6973, '르노': 6974, '켄이치': 6975, '재목': 6976, '실베스타': 6977, '한재': 6978, '천안함': 6979, '파란': 6980, '스콜': 6981, '할로윈': 6982, '댕기': 6983, '샤이닝': 6984, '멕시코': 6985, '후후': 6986, '발끝': 6987, '난장판': 6988, '소리치': 6989, '스푼': 6990, '그로밋': 6991, '집어치': 6992, '톱스타': 6993, '정두홍': 6994, '발매': 6995, '모어': 6996, '교도소': 6997, '윤은혜': 6998, '이청아': 6999, '헌트': 7000, '정준영': 7001, '짖': 7002, '칸나': 7003, '맞춤': 7004, '떠나보내': 7005, '조류': 7006, '전직': 7007, '터프': 7008, '문장': 7009, '벅차오르': 7010, '허영': 7011, '대회': 7012, '뀌': 7013, '양쪽': 7014, '대포': 7015, '감미': 7016, '신체': 7017, '취권': 7018, '주이': 7019, '에로티시즘': 7020, '이조': 7021, '고장': 7022, '패트릭': 7023, '흡': 7024, '아론': 7025, '조던': 7026, '신안': 7027, '되살아나': 7028, '벤허': 7029, '동자': 7030, '스턴트맨': 7031, '입담': 7032, '레즈': 7033, '시답잖': 7034, '모스': 7035, '헨젤': 7036, '어물': 7037, '끈질기': 7038, '소수자': 7039, '전봇대': 7040, '지장': 7041, '단발': 7042, '이승환': 7043, '대여비': 7044, '신앙': 7045, '전자': 7046, '트리플': 7047, '후자': 7048, '비웃': 7049, '상준': 7050, '한평생': 7051, '저래': 7052, '교제': 7053, '뒈지': 7054, '소감': 7055, '비화': 7056, '우베': 7057, '소노': 7058, '시온': 7059, '천지': 7060, '허망': 7061, '대여': 7062, '처분': 7063, '미디어': 7064, '조언': 7065, '버림받': 7066, '희망적': 7067, '찬가': 7068, '미터': 7069, '달리기': 7070, '단둘': 7071, '신물': 7072, '혈압': 7073, '기록물': 7074, '애착': 7075, '크로스': 7076, '층': 7077, '유죄': 7078, '저력': 7079, '아유': 7080, '갈망': 7081, '격정': 7082, '끝없이': 7083, '자칭': 7084, '슈트': 7085, '클루니': 7086, '파란만장': 7087, '멜리사': 7088, '밴': 7089, '스나입스': 7090, '로그': 7091, '이수혁': 7092, '네일': 7093, '샵': 7094, '필리핀': 7095, '얼짱': 7096, '해당': 7097, '파크': 7098, '등과': 7099, '아그': 7100, '쳇': 7101, '똥파리': 7102, '말코비치': 7103, '주드': 7104, '수수': 7105, '적도': 7106, '책보': 7107, '안시': 7108, '새로움': 7109, '속하': 7110, '처참히': 7111, '착신': 7112, '아이콘': 7113, '가브리엘': 7114, '폴리스스토리': 7115, '다잡': 7116, '하이라이트': 7117, '강철': 7118, '이나라': 7119, '연연': 7120, '진거': 7121, '교묘': 7122, '자화상': 7123, '거인': 7124, '손현주': 7125, '글로버': 7126, '전과': 7127, '과욕': 7128, '내뱉': 7129, '참전': 7130, '천벌': 7131, '국민학교': 7132, '매염방': 7133, '화의': 7134, '휘파람': 7135, '논란': 7136, '땜': 7137, '짓밟': 7138, '랭보': 7139, '명언': 7140, '당첨': 7141, '로또': 7142, '들러리': 7143, '급작스럽': 7144, '보살': 7145, '메이킹': 7146, '사로': 7147, '연애시': 7148, '쉰들러': 7149, '롱테이크': 7150, '갱스터': 7151, '맥아': 7152, '기량': 7153, '자란': 7154, '오마이갓': 7155, '갈팡질팡': 7156, '박준형': 7157, '탈북자': 7158, '미생': 7159, '시인': 7160, '어미': 7161, '파렐': 7162, '축축': 7163, '가출': 7164, '감금': 7165, '방송인': 7166, '뜸': 7167, '월요일': 7168, '에너지': 7169, '곽': 7170, '징기스칸': 7171, '토탈': 7172, '논픽션': 7173, '네거': 7174, '속보': 7175, '인간애': 7176, '함축': 7177, '연령대': 7178, '내심': 7179, '부들': 7180, '김두한': 7181, '복장': 7182, '무협물': 7183, '조그만': 7184, '점령': 7185, '건방지': 7186, '로건': 7187, '레먼': 7188, '문학': 7189, '빤': 7190, '오리': 7191, '오호': 7192, '프로파간다': 7193, '모리': 7194, '서바이버': 7195, '스폰지': 7196, '세븐': 7197, '룸': 7198, '구질': 7199, '이저': 7200, '여리': 7201, '안대': 7202, '아메리카': 7203, '지배': 7204, '목록': 7205, '조우': 7206, '데미안': 7207, '으이구': 7208, '메일': 7209, '나아지': 7210, '만류': 7211, '내서': 7212, '이득': 7213, '애처롭': 7214, '시가전': 7215, '이광수': 7216, '진입': 7217, '장벽': 7218, 'pc방': 7219, '대명사': 7220, '때려잡': 7221, '고아라': 7222, '자단': 7223, '총리': 7224, '쿠바': 7225, '사하': 7226, '창작자': 7227, '부끄러움': 7228, '내전': 7229, '고약': 7230, '파이프': 7231, '전우': 7232, '데지': 7233, '땡기': 7234, '절친': 7235, '안느': 7236, '무용': 7237, '비포': 7238, '모세': 7239, '뽐내': 7240, '개간지': 7241, '고정': 7242, '감탄사': 7243, '원제목': 7244, '작작': 7245, '박영규': 7246, '친딸': 7247, '백혈병': 7248, '진전': 7249, '글씨': 7250, '나빠지': 7251, '혐오감': 7252, '대후': 7253, '증언': 7254, '크라운': 7255, '박재범': 7256, '덴마크': 7257, '부시맨': 7258, '엎': 7259, '머니': 7260, '심취': 7261, '멋대로': 7262, '확장': 7263, '면하': 7264, '역겨울': 7265, '박차': 7266, '아녀': 7267, '광신도': 7268, '김국진': 7269, '사회문제': 7270, '헬드': 7271, '동적': 7272, '이태': 7273, '넘겨보': 7274, '일레븐': 7275, '벨트': 7276, '소더버그': 7277, '도어': 7278, '몰아주': 7279, '가창력': 7280, '유민': 7281, '요소요소': 7282, '회부': 7283, '제마': 7284, '요청': 7285, '무기력': 7286, '타겟': 7287, '들려주': 7288, '랄프': 7289, '미스코리아': 7290, '동시간': 7291, '사죄': 7292, '눈감': 7293, '들통': 7294, '지나오': 7295, '우매': 7296, '가구': 7297, '알몸': 7298, '튀기': 7299, '박해진': 7300, '감칠맛': 7301, '장황하': 7302, '역주행': 7303, '공공': 7304, '로스트': 7305, '꿀리': 7306, '색즉시공': 7307, '긍정': 7308, '흡혈귀': 7309, '연하': 7310, '찰스': 7311, '재대로': 7312, '무사': 7313, '다지': 7314, '중주': 7315, '고요': 7316, '레미제라블': 7317, '소외': 7318, '아티스트': 7319, '꾸밈없이': 7320, '시내': 7321, '김혜선': 7322, '부러지': 7323, '배기': 7324, '잠입': 7325, '제거': 7326, '더티': 7327, '눈깔': 7328, '프로필': 7329, '빔': 7330, '수목': 7331, '신예': 7332, '도마': 7333, '인주': 7334, '시베리아': 7335, '베인': 7336, '왓슨': 7337, '지긋지긋': 7338, '총출동': 7339, '행중': 7340, '합작': 7341, '가격': 7342, '아날로그': 7343, '겨우겨우': 7344, '세금': 7345, '버러지': 7346, '손길': 7347, '출연작': 7348, '키보드': 7349, '나오미': 7350, '왓츠': 7351, '파커': 7352, '예약': 7353, '허공': 7354, '아찔': 7355, '꽃비': 7356, '노예': 7357, '일말': 7358, '기타노': 7359, '웹': 7360, '리얼리즘': 7361, '다짐': 7362, '항': 7363, '강용석': 7364, '허물': 7365, '졸이': 7366, '여균동': 7367, '멧': 7368, '변경': 7369, '발정': 7370, '에비': 7371, '유감': 7372, '출동': 7373, '실베스터': 7374, '호호': 7375, '서너': 7376, '실시간': 7377, '이벤트': 7378, '왕따': 7379, '앞세우': 7380, '히로인': 7381, '룻거': 7382, '사살': 7383, '겔': 7384, '장황': 7385, '킬머': 7386, '단정': 7387, '달하': 7388, '청소년기': 7389, '값어치': 7390, '왕창': 7391, '어찌하': 7392, '아하하하': 7393, '본편': 7394, '철딱서니': 7395, '건전': 7396, '팽팽': 7397, '황마': 7398, '정자': 7399, '입력': 7400, '전쟁터': 7401, '사탄': 7402, '오려': 7403, '스타트': 7404, '레이스': 7405, '사사키': 7406, '서막': 7407, '엘리트': 7408, '템포': 7409, '당위': 7410, '덱스터': 7411, '웅얼웅얼': 7412, '워쇼스키': 7413, '좔좔': 7414, '무스': 7415, '새드': 7416, '불량': 7417, '연락': 7418, '영자': 7419, '발굴': 7420, '등용문': 7421, '해상': 7422, '여름방학': 7423, '잡담': 7424, '갈': 7425, '공통점': 7426, '신밧드': 7427, '믹스': 7428, '특공대': 7429, '배창호': 7430, '엿보이': 7431, '각하': 7432, '화요일': 7433, '똘똘': 7434, '억누르': 7435, '구가': 7436, '최진혁': 7437, '노트북': 7438, '현역': 7439, '우유부단': 7440, '넘어지': 7441, '허탈하': 7442, '뽑아내': 7443, '장교': 7444, '석양': 7445, '쉴새없이': 7446, '애증': 7447, '초콜릿': 7448, '틸다': 7449, '비율': 7450, '장식': 7451, '횡포': 7452, '이지현': 7453, '중시': 7454, '답안': 7455, '극화': 7456, '상품': 7457, '초래': 7458, '김유정': 7459, '감회': 7460, '기념': 7461, '연출가': 7462, '쇼핑': 7463, '마음껏': 7464, '충이': 7465, '휴식': 7466, '소용': 7467, '도둑질': 7468, '소주': 7469, '한잔': 7470, '휘둘리': 7471, '해피투게더': 7472, '바보짓': 7473, '최우식': 7474, '데이먼': 7475, '씨부리': 7476, '선조': 7477, '빨리빨리': 7478, '용의자': 7479, '경쟁': 7480, '일체': 7481, '십자': 7482, '무성': 7483, '불태우': 7484, '매드': 7485, '어장': 7486, '이응': 7487, '탈주': 7488, '정은우': 7489, '기능': 7490, '버거': 7491, '서영희': 7492, '무덤덤': 7493, '섬기': 7494, '게리올드만': 7495, '라이저': 7496, 'ㅃ': 7497, '끝장나': 7498, '롤러코스터': 7499, '거침없': 7500, '찍히': 7501, '반대편': 7502, '뒤지': 7503, '배용준': 7504, '탄식': 7505, '우에노': 7506, '현대물': 7507, '음악부': 7508, '의역': 7509, '본분': 7510, '민간인': 7511, '바람나': 7512, '광활': 7513, '이블': 7514, '와이': 7515, '날카롭': 7516, '번쩍': 7517, '여백': 7518, '업적': 7519, '현대사': 7520, '사리': 7521, '이달': 7522, '신경안': 7523, '단단': 7524, '그렇다': 7525, '블러드': 7526, '관념': 7527, '수긍': 7528, '이만': 7529, '마리오': 7530, '조련사': 7531, '요기': 7532, '강화': 7533, '시대상': 7534, '후손': 7535, '고잉': 7536, '가마': 7537, '양말': 7538, '너와': 7539, '내년': 7540, '흐름도': 7541, '은평': 7542, '산뜻': 7543, '도어즈': 7544, '지존파': 7545, '한군데': 7546, '관전': 7547, '반쪽': 7548, '낭만자객': 7549, '갈구': 7550, '자비': 7551, '냄새나': 7552, '라이프': 7553, '이빨': 7554, '이랑': 7555, '치사': 7556, '고은': 7557, '뵙': 7558, '필사적': 7559, '공영방': 7560, '맺히': 7561, '살찌': 7562, '직설적': 7563, '늦추': 7564, '혼신': 7565, '좃': 7566, '상병': 7567, '정극': 7568, '장하': 7569, '너머': 7570, '가져오': 7571, '선장': 7572, '위엄': 7573, '셀프': 7574, '파탄': 7575, '대소동': 7576, '쉐프': 7577, '스시': 7578, '출시': 7579, '소란': 7580, '개구쟁이': 7581, '현혹': 7582, '자괴감': 7583, '호세': 7584, '궁합': 7585, '보너스': 7586, '날줄': 7587, '김지수': 7588, '똘마니': 7589, '김정': 7590, '팍': 7591, '마구잡이': 7592, '티격태격': 7593, '하워드': 7594, '일보': 7595, '통장': 7596, '신보': 7597, '동인': 7598, '응급': 7599, '간신': 7600, '지수': 7601, '비상구': 7602, '요괴': 7603, '퇴색': 7604, '이언': 7605, '으스스': 7606, '인과관계': 7607, '담론': 7608, '신비로움': 7609, '시갈': 7610, '레나': 7611, '허위': 7612, '뷰티풀': 7613, '드루': 7614, '언플': 7615, '김태훈': 7616, '못내': 7617, '도말': 7618, '다인': 7619, '저럭': 7620, '테러범': 7621, '소시민': 7622, '내사': 7623, '노리스': 7624, '리허설': 7625, '제멋대로': 7626, '체제': 7627, '포위': 7628, '배부르': 7629, '빈센트': 7630, '박희순': 7631, '중단': 7632, '썸머': 7633, '초저': 7634, '씌': 7635, '카툰': 7636, '이해력': 7637, '줌마': 7638, '따라다니': 7639, '김지운': 7640, '여성적': 7641, '지점': 7642, '구속': 7643, '진진하': 7644, '낙태': 7645, '피에타': 7646, '중고': 7647, '그레이엄': 7648, '뒤엎': 7649, '기범': 7650, '툭툭': 7651, '의주': 7652, '기네스': 7653, '난생처음': 7654, '웃음소리': 7655, '저만': 7656, '한물가': 7657, '고소': 7658, '엘리베이터': 7659, '글렌': 7660, '민영화': 7661, '마미': 7662, '휘성': 7663, '이영애': 7664, '수장': 7665, '눈망울': 7666, '정려': 7667, '브라더스': 7668, '신과': 7669, '패널': 7670, '량': 7671, '인지': 7672, '병동': 7673, '선교사': 7674, '엘프': 7675, '변호인': 7676, '센세이션': 7677, '구니': 7678, '무교': 7679, '동떨어지': 7680, '로리': 7681, '깨우치': 7682, '만명': 7683, '공자': 7684, '평민': 7685, '실험작': 7686, '버킷': 7687, '일등': 7688, '응답': 7689, '손잡': 7690, '동포': 7691, '바지': 7692, '홍어': 7693, '소음': 7694, '가만있': 7695, '리더': 7696, '한창': 7697, '지지부진': 7698, '몰라보': 7699, '헤드': 7700, '퇴출': 7701, '흡입': 7702, '확보': 7703, '김재원': 7704, '정준하': 7705, '화딱지': 7706, '업고': 7707, '쩡': 7708, '근디': 7709, '포터': 7710, '애슐리': 7711, '찌라시': 7712, '연말': 7713, '알아채': 7714, '낄낄': 7715, '오복': 7716, '하핫': 7717, '진은': 7718, '앓': 7719, '한입': 7720, '반란': 7721, '명색': 7722, '관중': 7723, '간결': 7724, '보장': 7725, '기여': 7726, '우스': 7727, '허리우드': 7728, '양복': 7729, '허락': 7730, '하모니': 7731, '성범죄': 7732, '조현재': 7733, '초기작': 7734, '헛': 7735, '고만': 7736, '메이크업': 7737, '민국': 7738, '물량': 7739, '팜므': 7740, '파탈': 7741, '물어보': 7742, '기구': 7743, '삼박자': 7744, '허황': 7745, '김재중': 7746, '어라': 7747, '쫓기': 7748, '전대': 7749, '쾌': 7750, '트리오': 7751, '주유소': 7752, '설레이': 7753, '기차': 7754, '시달리': 7755, '마왕': 7756, '상식적': 7757, '회한': 7758, '연기진': 7759, '제약': 7760, '나니아': 7761, '자유롭': 7762, '대적': 7763, '좇': 7764, '엘리자베스': 7765, '거미': 7766, '날아다니': 7767, '테이텀': 7768, '시저': 7769, '아중': 7770, '시놉시스': 7771, '당근': 7772, '이산가족': 7773, '도망치': 7774, '풍운': 7775, '유위': 7776, '다작': 7777, '차치': 7778, '인면': 7779, '촌티': 7780, '어줍': 7781, '소피아': 7782, '조자룡': 7783, '방영하': 7784, '정일우': 7785, '칭하': 7786, '카즈': 7787, '알아먹': 7788, '논스톱': 7789, '연관영': 7790, '기초': 7791, '왜색': 7792, '한물': 7793, '서현진': 7794, '씨름': 7795, '꾀': 7796, '햇살': 7797, '작용': 7798, '베네딕트': 7799, '확산': 7800, '화성': 7801, '타면': 7802, '년놈': 7803, '카오스': 7804, '전멸': 7805, '떨어트리': 7806, '해안': 7807, '뽈': 7808, '시전': 7809, '걸음': 7810, '아파치': 7811, '인다': 7812, '자라나': 7813, '별은': 7814, '퇴장': 7815, '엘지': 7816, '에단': 7817, '유동근': 7818, '명예': 7819, '두세': 7820, '좌석': 7821, '오감': 7822, '축소': 7823, '문소리': 7824, '저평': 7825, '미지': 7826, '하락': 7827, '세포': 7828, '식탁': 7829, '베이커': 7830, '명목': 7831, '부의': 7832, '공모자': 7833, '스트립': 7834, '이런저런': 7835, '한껏': 7836, '구상': 7837, '탄하': 7838, '속물': 7839, '라인업': 7840, '나봐': 7841, '몽골': 7842, '정준용': 7843, '고사': 7844, '저쩌': 7845, '시카고': 7846, '불확실': 7847, '구시대적': 7848, '위장': 7849, '느릿': 7850, '세트장': 7851, '로비': 7852, '라운드': 7853, '피눈물': 7854, '아폴로': 7855, '지식인': 7856, '얘기': 7857, '해병대': 7858, '플래시': 7859, '초초': 7860, '저능아': 7861, '봇': 7862, '스타쉽': 7863, '트루퍼스': 7864, '카지노': 7865, '신자': 7866, '그레이': 7867, '소중히': 7868, '쌍둥이': 7869, '가중': 7870, '도리': 7871, '에잇': 7872, '필모그래피': 7873, '파더': 7874, '갈거': 7875, '한배': 7876, '고추': 7877, '상영가': 7878, '학벌': 7879, '창고': 7880, '홀딱': 7881, '기간': 7882, '키노': 7883, '김지영': 7884, '해치': 7885, '하급': 7886, '짊어지': 7887, '꿈같': 7888, '선진국': 7889, '서늘': 7890, '블로그': 7891, '신랄': 7892, '열혈': 7893, '반열': 7894, '내리막길': 7895, '포영': 7896, '사담': 7897, '무협지': 7898, '트레': 7899, '모티브': 7900, '발라': 7901, '척': 7902, '우중충': 7903, '스킨': 7904, '퓨처': 7905, '김상경': 7906, '알아듣': 7907, '연기연': 7908, '페이소스': 7909, '데니스': 7910, '맛보': 7911, '음울': 7912, '서우': 7913, '기황후': 7914, '안중': 7915, '도요타': 7916, '더러움': 7917, '중복': 7918, '펀치': 7919, '주혁': 7920, '살벌': 7921, '시야': 7922, '폭풍우': 7923, '아르헨티나': 7924, '조사': 7925, '주근깨': 7926, '롯': 7927, '메롱': 7928, '육': 7929, '동서양': 7930, '이부': 7931, '사무실': 7932, '앉히': 7933, '끌어들이': 7934, '열리': 7935, '몽상': 7936, '막지': 7937, '안스럽': 7938, '편협': 7939, '불안정': 7940, '허벅지': 7941, '줄줄': 7942, '한가득': 7943, '용재': 7944, '오닐': 7945, '시너지': 7946, '교통사고': 7947, '나비효과': 7948, '삐딱': 7949, '시피': 7950, '개밥': 7951, '가톨릭': 7952, '이리저리': 7953, '장미': 7954, '암담': 7955, '막막': 7956, '지문': 7957, '강제규': 7958, '감도': 7959, '지급': 7960, '대장': 7961, '한대사': 7962, '감격': 7963, '대학가': 7964, '욱일승천': 7965, '사발': 7966, '에고': 7967, '똥꼬': 7968, '홉킨스': 7969, '유료': 7970, '넘사': 7971, '산악': 7972, '미쉘': 7973, '본질적': 7974, '모히칸': 7975, '빌어먹을': 7976, '보정': 7977, '졸립다': 7978, '보태': 7979, '검증': 7980, '쭈쭈': 7981, '캔': 7982, '중하': 7983, '육중': 7984, '모션': 7985, '폴리스': 7986, '개똥이': 7987, '병자': 7988, '박철수': 7989, '관광': 7990, '글귀': 7991, '콜롬비아': 7992, '정크': 7993, '비기': 7994, '행세': 7995, '은밀': 7996, '나들이': 7997, '야만': 7998, '우우': 7999, '트론': 8000, '공산주의': 8001, '미아': 8002, '올인': 8003, '갱신': 8004, '눈여기': 8005, '베티': 8006, '스파르타쿠스': 8007, '브레드': 8008, '본래': 8009, '평등': 8010, '차인표': 8011, '강문': 8012, '감미롭': 8013, '컴플렉스': 8014, '실마리': 8015, '파고': 8016, '소명': 8017, '어부': 8018, '장대': 8019, '아이즈': 8020, '뿌듯': 8021, '물체': 8022, '배경지식': 8023, '무덤': 8024, '가발': 8025, '찢어지': 8026, '야박': 8027, '눈동자': 8028, '흥하': 8029, '크로노스': 8030, '껍데기': 8031, '질색': 8032, '박철민': 8033, '컨텐츠': 8034, '나무라': 8035, '쿠키': 8036, '임마': 8037, '쥐새끼': 8038, '끌어올리': 8039, '최신영': 8040, '건아': 8041, '최불암': 8042, '주조연': 8043, '구두': 8044, '비도': 8045, '에이핑크': 8046, '시한부': 8047, '갱생': 8048, '그야': 8049, '밑바닥': 8050, '병장': 8051, '뮤지션': 8052, '화법': 8053, '애스': 8054, '여럿': 8055, '앙증맞': 8056, '도지': 8057, '버틀러': 8058, '월광': 8059, '사회악': 8060, '식객': 8061, '엠마뉴엘': 8062, '쓸리': 8063, '후광': 8064, '솔찍': 8065, '강박': 8066, '빈민가': 8067, '통제': 8068, '집구석': 8069, '요시': 8070, '훈이': 8071, '한복': 8072, '이상윤': 8073, '마리아': 8074, '퀴즈': 8075, '서구': 8076, '합성': 8077, '갭': 8078, '온리': 8079, '친모': 8080, '진저': 8081, '무신론자': 8082, '리플': 8083, '발칙': 8084, '성교육': 8085, '길수': 8086, '몰아치': 8087, '두르': 8088, '소나기': 8089, '니트': 8090, '구름': 8091, '전용': 8092, '하다못해': 8093, '햄버거': 8094, '동화책': 8095, '말입': 8096, '정교': 8097, '활력소': 8098, '한눈': 8099, '띄엄띄엄': 8100, '으뜸': 8101, '독수리': 8102, '백야': 8103, '한지혜': 8104, '카악': 8105, '해도': 8106, '반할': 8107, '해보면': 8108, '은배': 8109, '크레이지': 8110, '그마': 8111, '카터': 8112, '개신교': 8113, '엔드': 8114, '다람쥐': 8115, '품격': 8116, '폭죽': 8117, '플래툰': 8118, '명함': 8119, '전라': 8120, '소시': 8121, '파가니니': 8122, '순전히': 8123, '석이': 8124, '통통': 8125, '의생': 8126, '천장지구': 8127, '본능적': 8128, '달라이': 8129, '고은아': 8130, '순결': 8131, '먹고살': 8132, '고아원': 8133, '달러': 8134, '삥': 8135, '왜자': 8136, '주자': 8137, '정찬': 8138, '학력': 8139, '무인도': 8140, '사명감': 8141, '자객': 8142, '충성': 8143, '선의': 8144, '이슬람': 8145, '정무문': 8146, '번지': 8147, '치기': 8148, '장고': 8149, '정신과': 8150, '수탈': 8151, '공사': 8152, '꾹꾹': 8153, '효언': 8154, '총싸움': 8155, '수퍼': 8156, '음하': 8157, '말론': 8158, '철학자': 8159, '처들': 8160, '완치': 8161, '엮이': 8162, '나리': 8163, '티모시': 8164, '군국주의': 8165, '역행': 8166, '이순': 8167, '저울질': 8168, '고든': 8169, '제니': 8170, '사이렌': 8171, '그래프': 8172, '문란': 8173, '오지호': 8174, '재구성': 8175, '시니컬': 8176, '심장마비': 8177, '침공': 8178, '아르헨': 8179, '잡것': 8180, '단시간': 8181, '도모': 8182, '현지': 8183, '심리전': 8184, '세끼': 8185, '재확인': 8186, '어드벤쳐': 8187, '한스': 8188, '리슨': 8189, '개조': 8190, '굴욕': 8191, '이재희': 8192, '아리아': 8193, '곰탕': 8194, '런던': 8195, '자아분열': 8196, '짝패': 8197, '곶': 8198, '저그': 8199, '굴러다니': 8200, '룩': 8201, '컴터': 8202, '크리스티': 8203, '굴레': 8204, '이단': 8205, '유로': 8206, '처키': 8207, '요만큼': 8208, '우위': 8209, '점하': 8210, '아귀': 8211, '턱': 8212, '세중': 8213, '귀환': 8214, '마나': 8215, '잠수': 8216, '이바': 8217, '시나리오작가': 8218, '로트': 8219, '신청': 8220, '의욕': 8221, '학원물': 8222, '환경오염': 8223, '주범': 8224, '무력감': 8225, '이룩': 8226, '뒷배': 8227, '낙하산': 8228, '열중': 8229, '데그': 8230, '도기': 8231, '애한': 8232, '격추': 8233, '인형극': 8234, '속삭이': 8235, '얹히': 8236, '마차': 8237, '수년': 8238, '이주노': 8239, '우산': 8240, 'mb': 8241, '코리': 8242, '성규': 8243, '끝자락': 8244, '시종': 8245, '한꺼번에': 8246, '딜레마': 8247, '현정': 8248, '기일': 8249, '젠더': 8250, '횡재': 8251, '권유': 8252, '윌리암스': 8253, '수능': 8254, '찬': 8255, '빅토리아': 8256, '험난': 8257, '전문적': 8258, '플러': 8259, '무난히': 8260, '인구': 8261, '수치스럽': 8262, '허드': 8263, '신성모': 8264, '비욘드': 8265, '차용': 8266, '홍보성': 8267, '칼라': 8268, '렬': 8269, '대사전': 8270, '무전': 8271, '몰이': 8272, '사신': 8273, '할리우드식': 8274, '찰나': 8275, '배트': 8276, '아이스크림': 8277, '극악': 8278, '배고프': 8279, '훌쩍': 8280, '가지가지': 8281, '강이': 8282, '애플렉': 8283, '열등감': 8284, '파리스': 8285, '흡수': 8286, '우보': 8287, '정체불명': 8288, '단단히': 8289, '선덕여왕': 8290, '어르신': 8291, '브리': 8292, '선박': 8293, '수행': 8294, '내맘': 8295, '숫': 8296, '배가': 8297, '하녀': 8298, '시상식': 8299, '신신': 8300, '연애질': 8301, '파이란': 8302, '백윤식': 8303, '희노애락': 8304, '왠만큼': 8305, '법사': 8306, '서교': 8307, '사모': 8308, '징징거리': 8309, '선문답': 8310, '선명': 8311, '서툴': 8312, '숱하': 8313, '여아': 8314, '왕년': 8315, '내보': 8316, '파이널': 8317, '요즈음': 8318, '골드': 8319, '연봉': 8320, '천상': 8321, '이의': 8322, '원리': 8323, '참사': 8324, '기왕': 8325, '가위질': 8326, '여행가': 8327, '교향곡': 8328, '얼룩지': 8329, '메이트': 8330, '멀리서': 8331, '바네사': 8332, '쫙': 8333, '관계없': 8334, '세스': 8335, '또나': 8336, '신건': 8337, '밀러': 8338, '메리트': 8339, '첸': 8340, '레논': 8341, '입체감': 8342, '저하': 8343, '파이퍼': 8344, '쿼터': 8345, '베트남전': 8346, '폐해': 8347, '자이언트': 8348, '숙연': 8349, '콕': 8350, '담그': 8351, '신설': 8352, '천황': 8353, '이지훈': 8354, '자국': 8355, '미처': 8356, '지도자': 8357, '구성해': 8358, '퇴화': 8359, '소재인': 8360, '휠체어': 8361, '놀리': 8362, '변장': 8363, '현시대': 8364, '속마음': 8365, '만족감': 8366, '이울': 8367, '괘씸': 8368, '막가파': 8369, '황금기': 8370, '젠장할': 8371, '무전기': 8372, '주입': 8373, '비지': 8374, '병헌': 8375, '수명': 8376, '단축': 8377, '에너지가': 8378, '이병훈': 8379, '위태': 8380, '놉': 8381, '신랑': 8382, '흙': 8383, '구해주': 8384, '붓': 8385, '청소': 8386, '서두': 8387, '카날': 8388, '스크린쿼터': 8389, '오늘부': 8390, '소재영': 8391, '불혹': 8392, '호기': 8393, '선우': 8394, '개선': 8395, '순종': 8396, '공기': 8397, '쫄딱': 8398, '정기': 8399, '건축': 8400, '인문학': 8401, '테스': 8402, '여느': 8403, '다난': 8404, '스트림': 8405, '핵폭탄': 8406, '눅눅': 8407, '난쟁이': 8408, '돌림': 8409, '구제역': 8410, '참패': 8411, '훼': 8412, '어린이날': 8413, '요일': 8414, '신작': 8415, '한민국': 8416, '커브': 8417, '논': 8418, '감정인': 8419, '숟가락': 8420, '익살': 8421, '상반': 8422, '자체적': 8423, '터너': 8424, '타자': 8425, '원더풀데이': 8426, '참극': 8427, '내이': 8428, '후련': 8429, '선호': 8430, '아더': 8431, '어역': 8432, '잣': 8433, '길이길이': 8434, '태희': 8435, '상급': 8436, '최동훈': 8437, '한날': 8438, '농촌': 8439, '원더풀': 8440, '칭호': 8441, '해안가': 8442, '깃': 8443, '자폭': 8444, '임상수': 8445, '모던': 8446, '찬성': 8447, '임원희': 8448, '먼데': 8449, '가레': 8450, '파일로': 8451, '실물': 8452, '오맹': 8453, '범수': 8454, '안정': 8455, '개별': 8456, '매진': 8457, '밀어주': 8458, '문정희': 8459, '질적': 8460, '하악': 8461, '침착': 8462, '혹하': 8463, '기아': 8464, '단숨에': 8465, '희생양': 8466, '블랙홀': 8467, '유랑': 8468, '암세포': 8469, '칸타빌레': 8470, '하위': 8471, '헤어나': 8472, '윤정희': 8473, '투어': 8474, '대충대충': 8475, '검은색': 8476, '깜빡': 8477, '태평': 8478, '방울': 8479, '변환': 8480, '의부': 8481, '사다리': 8482, '우월': 8483, '피식피식': 8484, '뱅크': 8485, '경종': 8486, '테두리': 8487, '얼빠지': 8488, '볼트': 8489, '야심': 8490, '멀쩡히': 8491, '찐하': 8492, '뛰쳐나가': 8493, '흐트러지': 8494, '백설공주': 8495, '집주인': 8496, '이간질': 8497, '불평등': 8498, '화병': 8499, '식인': 8500, '착용': 8501, '전국적': 8502, '자아내': 8503, '신세': 8504, '유선': 8505, '생산': 8506, '게일': 8507, '끊이': 8508, '빤스': 8509, '탈피': 8510, '칼부림': 8511, '거리감': 8512, '프렌치': 8513, '강박관념': 8514, '아베': 8515, '이수현': 8516, '모기': 8517, '하오': 8518, '묵념': 8519, '나의영': 8520, '소꿉장난': 8521, '퍼가': 8522, '생소': 8523, '왜인': 8524, '백인우': 8525, '월주': 8526, '쟁이': 8527, '이따금': 8528, '제품': 8529, '서럽': 8530, '지모': 8531, '빈자리': 8532, '렉터': 8533, '의제': 8534, '다분히': 8535, '낙인': 8536, '야자': 8537, '자크': 8538, '이홍기': 8539, '위인': 8540, '글세': 8541, '어따': 8542, '행각': 8543, '료코': 8544, '서언': 8545, '지대': 8546, '무재': 8547, '전주': 8548, '장화홍련': 8549, '나란히': 8550, '암것': 8551, '엣지': 8552, '서리': 8553, '본보기': 8554, '정용화': 8555, '전함': 8556, '시궁창': 8557, '강철중': 8558, '골수': 8559, '워메': 8560, '종자': 8561, '통곡': 8562, '악랄': 8563, '거세': 8564, '서두르': 8565, '카이저': 8566, '모양새': 8567, '테입': 8568, '크레이븐': 8569, '대피': 8570, '알프레도': 8571, '로케': 8572, '상의': 8573, '게속': 8574, '스팅': 8575, '잡치': 8576, '뜨거움': 8577, '컴백': 8578, '살상': 8579, '대대': 8580, '발작': 8581, '모레': 8582, '골탕': 8583, '워리': 8584, '알음': 8585, '붙잡히': 8586, '휴잇': 8587, '무력': 8588, '권태': 8589, '라이스': 8590, '감염': 8591, '내려앉': 8592, '토시': 8593, '소림사': 8594, '이미연': 8595, '근본적': 8596, '뒷담': 8597, '팡': 8598, '배치': 8599, '잡이': 8600, '안토니오': 8601, '새우': 8602, '휘날리': 8603, '최고가': 8604, '조타': 8605, '사악': 8606, '격투신': 8607, '혜리': 8608, '남규리': 8609, '하물며': 8610, '짱개': 8611, '하비에르': 8612, '트루먼쇼': 8613, '윗': 8614, '이중적': 8615, '정세': 8616, '본부': 8617, '빼앗': 8618, '이른': 8619, '여감독': 8620, '실력파': 8621, '간단히': 8622, '연식': 8623, '폭발적': 8624, '역린': 8625, '중화': 8626, '일제강점기': 8627, '동욱': 8628, '충무공': 8629, '경감': 8630, '내평': 8631, '멜라니': 8632, '타의': 8633, '미진': 8634, '음미': 8635, '반가움': 8636, '급박': 8637, '행사': 8638, '하우어': 8639, '헝그리': 8640, '모순적': 8641, '진우': 8642, '맹목적': 8643, '역효과': 8644, '십대': 8645, '예술과': 8646, '타오르': 8647, '내적': 8648, '동도': 8649, '주력': 8650, '비행사': 8651, '햄': 8652, '기지': 8653, '푸념': 8654, '으이그': 8655, '날림': 8656, '테레사': 8657, '담당자': 8658, '수상작': 8659, '만수': 8660, '전화기': 8661, '촘촘': 8662, '비디오물': 8663, '과외': 8664, '오진': 8665, '비전': 8666, '미덕': 8667, '봉인': 8668, '의왕': 8669, '진행자': 8670, '풍미': 8671, '철부지': 8672, '부상': 8673, '명감독': 8674, '태풍': 8675, '일장기': 8676, '이럴': 8677, '오후': 8678, '무성영화': 8679, '힘차': 8680, '뽑히': 8681, '쇼미더머니': 8682, '래퍼': 8683, '탐구': 8684, '설원': 8685, '악기': 8686, '판소리': 8687, '투캅스': 8688, '계보': 8689, '겔러': 8690, '대마초': 8691, '광수': 8692, '네이밍': 8693, '황보': 8694, '내레이션': 8695, '에로스': 8696, '겸비': 8697, '대견': 8698, '체인': 8699, '스키장': 8700, '표상': 8701, '스타킹': 8702, '맵': 8703, '최상급': 8704, '양육': 8705, '한경직': 8706, '비디오방': 8707, '노래방': 8708, '대면': 8709, '픽업': 8710, '시비': 8711, '김진명': 8712, '보도': 8713, '뚝': 8714, '계단': 8715, '얼라': 8716, '문과': 8717, '개소': 8718, '다모': 8719, '둘러쌓이': 8720, '마이애미': 8721, '무채색': 8722, '고위': 8723, '낙하': 8724, '토리노': 8725, '첨가': 8726, '드롱': 8727, '집편': 8728, '월스트리트': 8729, '난관': 8730, '배아': 8731, '규칙': 8732, '고슬링': 8733, '흐흐': 8734, '고교': 8735, '허울': 8736, '진의': 8737, '엇나가': 8738, '쌉싸름': 8739, '로라': 8740, '월트': 8741, '종족': 8742, '인류애': 8743, '도찐개찐': 8744, '초특급': 8745, '페르': 8746, '기술적': 8747, '둔탁': 8748, '개과천선': 8749, '엄두': 8750, '자유분방': 8751, '충의': 8752, '능욕': 8753, '카이스트': 8754, '안전': 8755, 'sns': 8756, '백구': 8757, '악령': 8758, '도한': 8759, '유언': 8760, '쾅': 8761, '폭망': 8762, '남성적': 8763, '발라드': 8764, '서신애': 8765, '눈가': 8766, '살의': 8767, '동양적': 8768, '관용': 8769, '홍석천': 8770, '이건모': 8771, '장례식': 8772, '강복희': 8773, '부작용': 8774, '쿠라': 8775, '전달력': 8776, '깔깔대': 8777, '구현': 8778, '신성': 8779, '마린': 8780, '조세': 8781, '훤히': 8782, '확대': 8783, '무림': 8784, '트로': 8785, '제이콥': 8786, '레이드': 8787, '마른': 8788, '지현우': 8789, '하대': 8790, '계산': 8791, '망처': 8792, '코엑스': 8793, '차석구': 8794, '두리반': 8795, '충돌': 8796, '의미심장': 8797, '존대': 8798, '앞쪽': 8799, '노크': 8800, '그니까': 8801, '이식': 8802, '근처': 8803, '불변': 8804, '미침': 8805, '흡인력': 8806, '따오': 8807, '레지던트': 8808, '꺼버리': 8809, '포효': 8810, '각오': 8811, '신성일': 8812, '투자가': 8813, '비로소': 8814, '어니': 8815, '네기': 8816, '간접': 8817, '만회': 8818, '인나': 8819, '걸기': 8820, '소오강호': 8821, '루이': 8822, '왈칵': 8823, '제주': 8824, '질렌할': 8825, '플래쉬': 8826, '기기': 8827, '투척': 8828, '공정하': 8829, '가정부': 8830, '실전': 8831, '투니버스': 8832, '땀나': 8833, '함마': 8834, '빨강': 8835, '인내력': 8836, '삽입': 8837, '모래': 8838, '조단': 8839, '갑질': 8840, '시공': 8841, '중점적': 8842, '접속': 8843, '리사': 8844, '로완': 8845, '검도': 8846, '안드레아': 8847, '맥아더': 8848, '별도': 8849, '나이틀리': 8850, '크레이그': 8851, '단순화': 8852, '독재자': 8853, '스톰': 8854, '추리소설': 8855, '모니': 8856, '사이먼': 8857, '진짜배기': 8858, '안감': 8859, '재정': 8860, '짝짝짝': 8861, '기대중': 8862, '두식': 8863, '강소라': 8864, '조페': 8865, '월터': 8866, '값지': 8867, '슬램덩크': 8868, '상책': 8869, '궁극': 8870, '경기도': 8871, '뒤틀리': 8872, '미로': 8873, '트릴': 8874, '윤호': 8875, '비키니': 8876, '존슨': 8877, '순식간': 8878, '하균': 8879, '유스케': 8880, '락스': 8881, '톡톡히': 8882, '평면적': 8883, '라임': 8884, '주민': 8885, '저항': 8886, '테이크': 8887, '재키': 8888, '검색어': 8889, '아조': 8890, '걸어오': 8891, '모스크바': 8892, '이예': 8893, '회전목마': 8894, '마사미': 8895, '프랑스판': 8896, '왈가왈부': 8897, '고리타분': 8898, '전투신': 8899, '애도': 8900, '애랑': 8901, '화보집': 8902, '약이': 8903, '의방': 8904, '뚜껑': 8905, '째이': 8906, '가르침': 8907, '알랑': 8908, '니스': 8909, '들르': 8910, '이세영': 8911, '매매': 8912, '편도': 8913, '보살피': 8914, '점프': 8915, '서론': 8916, '왕건': 8917, '혼합': 8918, '누비': 8919, '의세계': 8920, '빠져나': 8921, '병들': 8922, '대수': 8923, '비상사태': 8924, '지기': 8925, '고대로': 8926, '날으': 8927, '불사': 8928, '셀마': 8929, '식민': 8930, '두서없이': 8931, '석궁': 8932, '퀘이드': 8933, '토마토': 8934, '이봐': 8935, '조이': 8936, '지난날': 8937, '쬐끔': 8938, '파트': 8939, '뭍히': 8940, '아도': 8941, '숙면': 8942, '동명': 8943, '사위': 8944, '빠리': 8945, '엄하': 8946, '들려오': 8947, '개강': 8948, '부들부들': 8949, '러시안': 8950, '풋볼': 8951, '부녀': 8952, '판단력': 8953, '슬퍼하': 8954, '전영화': 8955, '대응': 8956, '설교': 8957, '밥줄': 8958, '깨뜨리': 8959, '노땅': 8960, '이상하': 8961, '유연': 8962, '늙은이': 8963, '장영화': 8964, '비겁': 8965, '착취': 8966, '토크쇼': 8967, '현대적': 8968, '럭': 8969, '평안': 8970, '벗어던지': 8971, '심연': 8972, '품질': 8973, '질기': 8974, '벌거벗': 8975, '비상': 8976, '확연': 8977, '레닌': 8978, '겨누': 8979, '건들': 8980, '펠릭스': 8981, '드리우': 8982, '빼어나': 8983, '합창': 8984, '내두': 8985, '노후': 8986, '기꺼이': 8987, '동참': 8988, '진': 8989, '구제': 8990, '김정훈': 8991, '뒷전': 8992, '채식': 8993, '후들': 8994, '정성호': 8995, '장모': 8996, '껄끄럽': 8997, '막시무스': 8998, 'jtbc': 8999, '대체로': 9000, '지뢰': 9001, '토렌트': 9002, '핀란드': 9003, '이데올로기': 9004, '제압': 9005, '역사의식': 9006, '헤집': 9007, '머리털': 9008, '전력': 9009, '우도': 9010, '노우': 9011, '타라': 9012, '메디컬': 9013, '또다시': 9014, '왼': 9015, '집합': 9016, '지망': 9017, '억지웃음': 9018, '정면': 9019, '아이다': 9020, '꾸리': 9021, '몽키': 9022, '적벽대전': 9023, '럭비': 9024, '밸': 9025, '김봉': 9026, '세드': 9027, '펠트': 9028, '반정부': 9029, '루나': 9030, '매춘부': 9031, '분통': 9032, '전시': 9033, '흠집': 9034, '마지': 9035, '룸메이트': 9036, '최저치': 9037, '일일이': 9038, '갉아먹': 9039, '인생무상': 9040, '보수적': 9041, '이간': 9042, '크라이': 9043, '신인배': 9044, '이선우': 9045, '플레이어': 9046, '훨훨': 9047, '뱅뱅': 9048, '미어지': 9049, '얽': 9050, '마음대로': 9051, '후회막심': 9052, '솟구치': 9053, '퇴폐적': 9054, '사파리': 9055, '잉글리쉬': 9056, '크기': 9057, '후폭풍': 9058, '기울이': 9059, '치르': 9060, '사면': 9061, '히히': 9062, '잡기': 9063, '두드리': 9064, '발암물질': 9065, '바인': 9066, '객관화': 9067, '종료': 9068, '행태': 9069, '소용돌이': 9070, '도인': 9071, '읽히': 9072, '군사': 9073, '몰상식': 9074, '어김없이': 9075, '무릎': 9076, '레이크': 9077, '이제껏': 9078, '족보': 9079, '홍자': 9080, '민가': 9081, '는지': 9082, '닐슨': 9083, '불평': 9084, '뒤섞이': 9085, '피한': 9086, '모험담': 9087, '슈마허': 9088, '본거지': 9089, '다이빙': 9090, '지긋이': 9091, '십덕': 9092, '조크': 9093, '요한': 9094, '비평가': 9095, '날씨': 9096, '주군': 9097, '격렬': 9098, '박상원': 9099, '치이': 9100, '대마': 9101, '지구종': 9102, '말타': 9103, '비서': 9104, '조은지': 9105, '브라보': 9106, '연개소문': 9107, '경극': 9108, '모태': 9109, '대여점': 9110, '에반스': 9111, '정떨어지': 9112, '증지': 9113, '기겁': 9114, '현실도피': 9115, '쪼그리': 9116, '유세윤': 9117, '학당': 9118, '부진': 9119, '완전체': 9120, '뒤끝': 9121, '포착': 9122, '이장우': 9123, '치고받': 9124, '아들놈': 9125, '인도네시아': 9126, '회보': 9127, '덜떨어지': 9128, '요코': 9129, '사료': 9130, '키치': 9131, '날라리': 9132, '밀도': 9133, '페인트': 9134, '아라이': 9135, '안대인': 9136, '하하하하': 9137, '애로물': 9138, '정인': 9139, '불시착': 9140, '생판': 9141, '쓴웃음': 9142, '길기': 9143, '성질나': 9144, '비보': 9145, '사랑싸움': 9146, '쏠리': 9147, '설마설마': 9148, '사이즈': 9149, '레스토랑': 9150, '에너미': 9151, '벌벌': 9152, '뜯기': 9153, '충실히': 9154, '내수': 9155, '코피': 9156, '가엾': 9157, '만그': 9158, '압력': 9159, '가족도': 9160, '배신자': 9161, '습하': 9162, '양자': 9163, '인자': 9164, '캐스퍼': 9165, '에스티': 9166, '밤늦': 9167, '이어폰': 9168, '이츠': 9169, '터보': 9170, '총잡이': 9171, '꼬박꼬박': 9172, '에이지': 9173, '살기': 9174, '도식적': 9175, '소재자': 9176, '게시판': 9177, '왜냐하면': 9178, '요시노': 9179, '연화': 9180, '날라가': 9181, '적히': 9182, '시연': 9183, '비위': 9184, '유인원': 9185, '단비': 9186, '사토시': 9187, '모독이': 9188, '세종대왕': 9189, '재산': 9190, '온기': 9191, '서울고': 9192, '유천': 9193, '아재': 9194, '메우': 9195, '유비': 9196, '해결사': 9197, '알프스': 9198, '단성사': 9199, '와전': 9200, '건이': 9201, '로간': 9202, '사설': 9203, '잔득': 9204, '용호상박': 9205, '요요': 9206, '김석훈': 9207, '무녀': 9208, '정전': 9209, '피쉬': 9210, '끌어내리': 9211, '스팀': 9212, '메탈리카': 9213, '마귀': 9214, '황찬성': 9215, '담당': 9216, '임채무': 9217, '막연': 9218, '무미': 9219, '졸립': 9220, '폭팔': 9221, '시네마천국': 9222, '이지은': 9223, '다무': 9224, '영화학': 9225, '국밥': 9226, '향이': 9227, '신기태': 9228, '억장': 9229, '다처': 9230, '쯔쯔': 9231, '편향': 9232, '똥례': 9233, '특기': 9234, '나타': 9235, '재훈': 9236, '글로우': 9237, '저냥': 9238, '조금보': 9239, '성지': 9240, '인용': 9241, '어머': 9242, '노바': 9243, '낮잠': 9244, '또오': 9245, '채림': 9246, '힘입': 9247, '선동렬': 9248, '열악': 9249, '드레스': 9250, '돌파': 9251, '절규': 9252, '대조': 9253, '해변': 9254, '파이터': 9255, '김태우': 9256, '화산': 9257, '추성훈': 9258, '육아': 9259, '대담': 9260, '라이징': 9261, '보건': 9262, '곽경택': 9263, '쳐들어오': 9264, '생의': 9265, '렌트': 9266, '싱거': 9267, '카스': 9268, '미쟝센': 9269, '에세이': 9270, '인과': 9271, '황후': 9272, '연쇄': 9273, '도성': 9274, '나원참': 9275, '아돌': 9276, '조미료': 9277, '신사': 9278, '직행': 9279, '박상민': 9280, '헬렌': 9281, '유학생': 9282, '퇴근': 9283, '게이버': 9284, '뉘우치': 9285, '차려': 9286, '물가': 9287, '얼라이브': 9288, '뻣뻣': 9289, '수염': 9290, '숙': 9291, '오마주': 9292, '땡땡': 9293, '품도': 9294, '비굴': 9295, '퍼스트': 9296, '감방': 9297, '쳐넣': 9298, '귤': 9299, '아웅': 9300, '꼭꼭': 9301, '흉터': 9302, '겉핥': 9303, '도입': 9304, '최근작': 9305, '호들갑': 9306, '거두': 9307, '성공기': 9308, '덩': 9309, '남용': 9310, '쿠르': 9311, '쟈니': 9312, '흐느끼': 9313, '엄지': 9314, '몰살': 9315, '인어': 9316, '저당': 9317, '마트': 9318, '에프론': 9319, '꺾이': 9320, '허탈감': 9321, '거듭나': 9322, '조수정': 9323, '로빈스': 9324, '재단': 9325, '한반도': 9326, '조오': 9327, '이은': 9328, '일맥상통': 9329, '손은서': 9330, '신소': 9331, '베끼기': 9332, '획득': 9333, '페티쉬': 9334, '이해관계': 9335, '간섭': 9336, '마네킹': 9337, '표면': 9338, '기수': 9339, '교가': 9340, '삼각관계': 9341, '암시': 9342, '우연찮': 9343, '백성현': 9344, '빠져나오': 9345, '오멘': 9346, '실현': 9347, '빗속': 9348, '엇박자': 9349, '마사': 9350, '에라': 9351, '점차': 9352, '청담동': 9353, '오토': 9354, '순환': 9355, '독살': 9356, '울적': 9357, '워치': 9358, '김청기': 9359, '일진': 9360, '분발': 9361, '어이구': 9362, '급사': 9363, '더위': 9364, '박쥐': 9365, '빼먹': 9366, '오리엔탈리즘': 9367, '면모': 9368, '쪽쪽': 9369, '희극적': 9370, '무턱대고': 9371, '재중': 9372, '로보트': 9373, '키키': 9374, '토로': 9375, '윤여정': 9376, '미세': 9377, '착착': 9378, '모임': 9379, '중생': 9380, '의정': 9381, '특수부대': 9382, '품달': 9383, '이성적': 9384, '극명': 9385, '계획적': 9386, '최재성': 9387, '연옥': 9388, '상류층': 9389, '번외': 9390, 'ㅂㄷㅂㄷ': 9391, '희안': 9392, '리듬': 9393, '실은': 9394, '구단': 9395, '자부심': 9396, '일제시대': 9397, '이효리': 9398, '피츠제럴드': 9399, '밀가루': 9400, '분하': 9401, '트롤': 9402, '소총': 9403, '들판': 9404, '흠흠': 9405, '스페이스': 9406, '훔쳐보': 9407, '속터지': 9408, '추격자': 9409, '희생자': 9410, '편들': 9411, '이질적': 9412, '파치노': 9413, '의대': 9414, '흉': 9415, '마이너': 9416, '남남': 9417, '가화': 9418, '무뇌아': 9419, '풀이': 9420, '광장': 9421, '멸종': 9422, '점퍼': 9423, '이애': 9424, '부질없': 9425, '데니': 9426, '입지': 9427, '레게': 9428, '선전': 9429, '독립투사': 9430, '또래': 9431, '챕터': 9432, '클락': 9433, '전략': 9434, '폰트': 9435, '벅스': 9436, '프라이': 9437, '후세': 9438, '빌딩': 9439, '목욕탕': 9440, '의적': 9441, '와일드카드': 9442, '흐트리': 9443, '이퀄': 9444, '잦': 9445, '보이스': 9446, '야구팬': 9447, '마비': 9448, '에볼루션': 9449, '이끌리': 9450, '세나': 9451, '흰색': 9452, '꾸밈없': 9453, '요인': 9454, '장본인': 9455, '감상문': 9456, '로망스': 9457, '십자가': 9458, '정복': 9459, '살해': 9460, '끼리끼리': 9461, '자상': 9462, '각기': 9463, '아귀레': 9464, '세간': 9465, '괘': 9466, '토대': 9467, '열매': 9468, '주체적': 9469, '기로': 9470, '게으르': 9471, '질감': 9472, '오창민': 9473, '개차반': 9474, '이동진': 9475, '버릇': 9476, '팩스': 9477, '다큐멘터리영화': 9478, '패닉': 9479, '영향력': 9480, '관람자': 9481, '체리': 9482, '장가': 9483, '끔직': 9484, '세탁': 9485, '루머': 9486, '설국': 9487, '삐삐': 9488, '세친': 9489, '표류': 9490, '연희': 9491, '죽도': 9492, '최고조': 9493, '키득거리': 9494, '빠뜨리': 9495, '과오': 9496, '구체적': 9497, '반올림': 9498, '드럼': 9499, '발표': 9500, '윌슨': 9501, '밀폐': 9502, '사탕': 9503, '예스': 9504, '신드롬': 9505, '그리도': 9506, '알아내': 9507, '주류': 9508, '이색적': 9509, '함장': 9510, '전남': 9511, '출소': 9512, '마땅히': 9513, '처하': 9514, '할머님': 9515, '외침': 9516, '사적': 9517, '도끼': 9518, '도자기': 9519, '스피릿': 9520, '변강쇠': 9521, '화두': 9522, '자인': 9523, '마성': 9524, '강물': 9525, '소모': 9526, '고미': 9527, '꼼수': 9528, '동반': 9529, '배포': 9530, '어두움': 9531, '윤상현': 9532, '티셔츠': 9533, '동전': 9534, '던지기': 9535, '아작': 9536, '삽입곡': 9537, '감정적': 9538, '반절': 9539, '경찰서': 9540, '시지': 9541, '생명력': 9542, '민하': 9543, '배합': 9544, '로드리게즈': 9545, '실질적': 9546, '근무': 9547, '예매권': 9548, '위선': 9549, '니키타': 9550, '팽배': 9551, '고쳐': 9552, '희귀': 9553, '촛불': 9554, '러너': 9555, '이상보': 9556, '임하': 9557, '군벌': 9558, '콧수염': 9559, '간부': 9560, '허풍': 9561, '불사조': 9562, '자식새끼': 9563, '디엠': 9564, '고통스럽': 9565, '연금술': 9566, '사심': 9567, '싸하': 9568, '민들레': 9569, '경배': 9570, '도탄': 9571, '전염병': 9572, '타로': 9573, '사슴': 9574, '기억상실': 9575, '세기말': 9576, '도감': 9577, '루프': 9578, '무차별적': 9579, '아드레날린': 9580, '코도': 9581, '이란': 9582, '포악': 9583, '희망차': 9584, '단서': 9585, '영미': 9586, '수요일': 9587, '들이대': 9588, '알랭': 9589, '저장': 9590, '끝물': 9591, '계절': 9592, '율': 9593, '매너': 9594, '설날': 9595, '이덕화': 9596, '은혜': 9597, '산행': 9598, '들어맞': 9599, '공략': 9600, '점수대': 9601, '발명': 9602, '메기': 9603, '애국자': 9604, '허접쓰레기': 9605, '푸근': 9606, '샤이': 9607, '힘쓰': 9608, '지정': 9609, '욕정': 9610, '연정훈': 9611, '개구': 9612, '이명박': 9613, '손들': 9614, '시가': 9615, '귀염': 9616, '먹여주': 9617, '러시아워': 9618, '덩달': 9619, '상실감': 9620, '미학적': 9621, '독창': 9622, '로드리게스': 9623, '계집': 9624, '멀티': 9625, '뺑소니': 9626, '껄껄': 9627, '팽': 9628, '정음': 9629, '장만': 9630, '음산': 9631, '조성': 9632, '물속': 9633, '성교': 9634, '카라': 9635, '나부랭이': 9636, '이스터': 9637, '싱그럽': 9638, '건의': 9639, '참여자': 9640, '간과': 9641, '두려워하': 9642, '우째': 9643, '날뛰': 9644, '애지': 9645, '백제': 9646, '만인': 9647, '퍽퍽': 9648, '징징대': 9649, '서방': 9650, '기덕': 9651, '케리': 9652, '읽기': 9653, '책상': 9654, '루카스': 9655, '의명': 9656, '손자': 9657, '수채화': 9658, '살피': 9659, '감독자': 9660, '새옹지마': 9661, '히힛': 9662, '부릉부릉': 9663, '편안히': 9664, '동질감': 9665, '깃들': 9666, '대성': 9667, '원판': 9668, '은경': 9669, '배수빈': 9670, '광속': 9671, '조연배': 9672, '직접적': 9673, '강남': 9674, '나염': 9675, '유두': 9676, '복수초': 9677, '어쩐지': 9678, '소아': 9679, '성희롱': 9680, '데려가': 9681, '박근혜': 9682, '수치심': 9683, '보합': 9684, '핥': 9685, '테레비': 9686, '파시즘': 9687, '우우우': 9688, '러시아어': 9689, '쓰다듬': 9690, '이어받': 9691, '색채감': 9692, '불안감': 9693, '베아': 9694, '트로이': 9695, '아버님': 9696, '남기남': 9697, '똥통': 9698, '귀도': 9699, '신들리': 9700, '바흐': 9701, '방대': 9702, '치아': 9703, '신기전': 9704, '풍만': 9705, '연신': 9706, '영리': 9707, '천성': 9708, '위선자': 9709, '인력': 9710, '메소드': 9711, '용자': 9712, '팽이': 9713, '불복': 9714, '고자': 9715, '흑인음악': 9716, '싸이': 9717, '원수': 9718, '이시영': 9719, '버트': 9720, '폭로': 9721, '숏': 9722, '다마': 9723, '까대': 9724, '정치사': 9725, '돔': 9726, '돌대가리': 9727, '지지리': 9728, '추정': 9729, '지불': 9730, '동방': 9731, '센트': 9732, '벤츠': 9733, '아크로바틱': 9734, '극히': 9735, '레이션': 9736, '간하': 9737, '분임': 9738, '직후': 9739, '본토': 9740, '사이보그': 9741, '시합': 9742, '퇴물': 9743, '공중전': 9744, '으웩': 9745, '정승필': 9746, '아영': 9747, '앞잡이': 9748, '무산': 9749, '한경': 9750, '애매모호': 9751, '고립': 9752, '망인': 9753, '연설': 9754, '차례': 9755, '버닝': 9756, '몰빵': 9757, '치히로': 9758, '포청천': 9759, '조건': 9760, '위선적': 9761, '카펜터': 9762, '마법사': 9763, '진압': 9764, '조제': 9765, '에그': 9766, '정원': 9767, '오예': 9768, '태연': 9769, '종범': 9770, '억양': 9771, '멎': 9772, '금융': 9773, '분만': 9774, '피아니스트': 9775, '이동준': 9776, '냉소': 9777, '모정': 9778, '유리가면': 9779, '전남편': 9780, '상인': 9781, '돌고래': 9782, '의결': 9783, '한게임': 9784, '이태리': 9785, '가물': 9786, '운명적': 9787, '끝맺': 9788, '독고': 9789, '앨범': 9790, '하룻밤': 9791, '하염없이': 9792, '김원': 9793, '냅두': 9794, '조울증': 9795, '난정': 9796, '다카시': 9797, '희롱': 9798, '장풍': 9799, '패션쇼': 9800, '도진': 9801, '세인': 9802, '성찬': 9803, '겨냥': 9804, '은하': 9805, '자동': 9806, '얼핏': 9807, '나사': 9808, '벙': 9809, '글로리': 9810, '술집': 9811, '유라': 9812, '복도': 9813, '연못': 9814, '성배': 9815, '성별': 9816, '서하': 9817, '김일성': 9818, '넘어오': 9819, '장엄': 9820, '지탱': 9821, '바티칸': 9822, '어어어': 9823, '가연': 9824, '뒤흔들': 9825, '오용': 9826, '관습': 9827, '호모': 9828, '현학적': 9829, '캐롤': 9830, '개인차': 9831, '유물': 9832, '도시락': 9833, '머금': 9834, '손해': 9835, '아앙': 9836, '빤히': 9837, '패러다임': 9838, '재혼': 9839, '음반': 9840, '허다': 9841, '간사': 9842, '신곡': 9843, '피어오르': 9844, '일해': 9845, '수트': 9846, '사투': 9847, '맥없': 9848, '부연': 9849, '가재미': 9850, '금옥': 9851, '시릴': 9852, '다중': 9853, '빡빡이': 9854, '무의식적': 9855, '조화롭': 9856, '유어': 9857, '곁들이': 9858, '메스': 9859, '서진': 9860, '전원주': 9861, '행성': 9862, '추기경': 9863, '미성년': 9864, '농구공': 9865, '적진': 9866, '미움': 9867, '온라인': 9868, '동작': 9869, '아이언스': 9870, '이경희': 9871, '우왕좌왕': 9872, '펜싱': 9873, '스마트': 9874, '롬': 9875, '왜냐면': 9876, '막바지': 9877, '앙상블': 9878, '추노': 9879, '유괴': 9880, '아호': 9881, '갖히': 9882, '유부녀': 9883, '황당무계': 9884, '순하': 9885, '추하': 9886, '클론': 9887, '앞지르': 9888, '학급': 9889, '장려': 9890, '두통': 9891, '대나무': 9892, '뼈저리': 9893, '윙': 9894, '의비': 9895, '바꿔주': 9896, '뇌도': 9897, '정보석': 9898, '악수': 9899, '주루룩': 9900, '좌익': 9901, '미혼모': 9902, '조선미': 9903, '통찰': 9904, '조마조마': 9905, '묵시록': 9906, '하주희': 9907, '경리': 9908, '피범벅': 9909, '힘주': 9910, '전날': 9911, '오케이': 9912, '펄': 9913, '원장': 9914, '정당방위': 9915, '도쿄': 9916, '그러므로': 9917, '비수': 9918, '자슥': 9919, '여어': 9920, '죄의식': 9921, '후부': 9922, '박민우': 9923, '브란도': 9924, '도약': 9925, '음주': 9926, '초창기': 9927, '박지윤': 9928, '거로': 9929, '레빗': 9930, '어허': 9931, '로인': 9932, '윤제균': 9933, '플라이': 9934, '엘도라도': 9935, '관두': 9936, '행보': 9937, '무례': 9938, '촛점': 9939, '과유불급': 9940, '스컬리': 9941, '승리자': 9942, '조종': 9943, '남궁': 9944, '미끼': 9945, '이끼': 9946, '스너프': 9947, '인피': 9948, '피안': 9949, '아사': 9950, '서민': 9951, '펑크': 9952, '올리비아': 9953, '우로': 9954, '지존무상': 9955, '염소': 9956, '토요일': 9957, '미치광이': 9958, '팀원': 9959, '감돌': 9960, '문성근': 9961, '한걸음': 9962, '원주민': 9963, '차이점': 9964, '찐따': 9965, '노민영': 9966, '메탈': 9967, '옛정': 9968, '데이비드': 9969, '조윤숙': 9970, '심슨': 9971, '화교': 9972, '악동': 9973, '초토화': 9974, '중계': 9975, '풀기': 9976, '클레': 9977, '기이': 9978, '사지': 9979, '리버': 9980, '피닉스': 9981, '컴퍼니': 9982, '호러무': 9983, '미지왕': 9984, '이소라': 9985, '유란': 9986, '목젖': 9987, '뼛속': 9988, '산티아고': 9989, '연금술사': 9990, '구수': 9991, '총합': 9992, '보완': 9993, '은아': 9994, '버금': 9995, '매듭': 9996, '떨림': 9997, '재작년': 9998, '쉿': 9999, '몹쓸': 10000, '마츠야마': 10001, '버스데이': 10002, '일리': 10003, '신선도': 10004, '참상': 10005, '갑부': 10006, '쥬드': 10007, '서랑': 10008, '못잊어': 10009, '리마': 10010, '눈물겹': 10011, '중립': 10012, '시동': 10013, '피시방': 10014, '미도': 10015, '기껏': 10016, '폰다': 10017, '후지산': 10018, '에스키모': 10019, '유서': 10020, '매끈': 10021, '트라이앵글': 10022, '두장': 10023, '미제': 10024, '인디펜던스데이': 10025, '진격': 10026, '탄창': 10027, '오산': 10028, '스나이더': 10029, '세기말적': 10030, '반반': 10031, '턱턱': 10032, '야인': 10033, '수발': 10034, '흔이': 10035, '히든카드': 10036, '교장': 10037, '방자': 10038, '양양': 10039, '팔뚝': 10040, '루카': 10041, '사부': 10042, '신저': 10043, '경민': 10044, '귀가': 10045, '보급': 10046, '인기몰이': 10047, '주연자': 10048, '개두': 10049, '이혜영': 10050, '때려치': 10051, '쥐똥': 10052, '다카모리': 10053, '정부군': 10054, '으으': 10055, '폐쇄': 10056, '부탄': 10057, '고모': 10058, '육체적': 10059, '각선미': 10060, '야비': 10061, '에크': 10062, '무안': 10063, '금세기': 10064, '개월': 10065, '심신': 10066, '국가적': 10067, '궁예': 10068, '괴로움': 10069, '일동': 10070, '주책': 10071, '관음증': 10072, '국왕': 10073, '미셀': 10074, '그레텔': 10075, '분배': 10076, '옹기종기': 10077, '처러': 10078, '급수': 10079, '연출작': 10080, '소니': 10081, '판권': 10082, '반복재': 10083, '텔링': 10084, '부도': 10085, '어쩌다가': 10086, '원채': 10087, '구본': 10088, '궤변': 10089, '개런티': 10090, '잡아가': 10091, '빈틈': 10092, '가미카제': 10093, '네이션': 10094, '클레어': 10095, '뻗치': 10096, '여옥': 10097, '은결': 10098, '깔보': 10099, '헌신적': 10100, '인제': 10101, '화이': 10102, '응징': 10103, '헌데': 10104, '최정원': 10105, '아이고야': 10106, '알라': 10107, '배역진': 10108, '천장': 10109, '이성애': 10110, '정열': 10111, '이반': 10112, '라오스': 10113, '세이지': 10114, '나쁜넘': 10115, '고심': 10116, '소울': 10117, '놀음': 10118, '페어': 10119, '그러게': 10120, '청각장애인': 10121, '유전': 10122, '인맥': 10123, '단란': 10124, '화장품': 10125, '왕족': 10126, '모의': 10127, '휘동': 10128, '이현우': 10129, '군도': 10130, '말짱': 10131, '영도': 10132, '이리로': 10133, '출산': 10134, '빙하': 10135, '날아오': 10136, '신문': 10137, '빙글빙글': 10138, '격투장': 10139, '강해': 10140, '광택': 10141, '우하하': 10142, '배알': 10143, '진시황': 10144, '추천작': 10145, '혼동': 10146, '르네상스': 10147, '아낌없이': 10148, '오수민': 10149, '김인문': 10150, '미조': 10151, '가누': 10152, '조강지처': 10153, '마음씨': 10154, '일본군': 10155, '미끈': 10156, '땜빵': 10157, '엑스텐션': 10158, '딴채': 10159, '퍼시픽': 10160, '항문': 10161, '시커멓': 10162, '치미': 10163, '수수께끼': 10164, '노동권': 10165, '대의': 10166, '은반': 10167, '노경': 10168, '관건': 10169, '서민적': 10170, '바퀴': 10171, '나주': 10172, '장훈': 10173, '친인척': 10174, '베버': 10175, '알량': 10176, '천재인': 10177, '터무니없': 10178, '빠져나가': 10179, '탈레반': 10180, '매너리즘': 10181, '딸래미': 10182, '미나리': 10183, '한화': 10184, '배리': 10185, '꼬옥': 10186, '청각': 10187, '화정': 10188, '이즈': 10189, '울고불고': 10190, '제물': 10191, '우회적': 10192, '홍수아': 10193, '진차': 10194, '성궤': 10195, '부추기': 10196, '홍보물': 10197, '동굴': 10198, '엘리스': 10199, '잡식': 10200, '에이브람스': 10201, '현대영': 10202, '화계': 10203, '마조히스트': 10204, '정과': 10205, '일장춘몽': 10206, '반사': 10207, '기관': 10208, '후루룩': 10209, '참하': 10210, '파업': 10211, '기시': 10212, '거물급': 10213, '애자': 10214, '좀처럼': 10215, '외톨이': 10216, '후끈후끈': 10217, '인대': 10218, '지만재': 10219, '발기': 10220, '소유자': 10221, '갈갈이': 10222, '탈선': 10223, '문법': 10224, '감내': 10225, '개비': 10226, '오징어': 10227, '포화': 10228, '김혜성': 10229, '잠재우': 10230, '몸부림': 10231, '꺼림': 10232, '지은': 10233, '해럴슨': 10234, '데르': 10235, '이상준': 10236, '맨땅': 10237, '중후': 10238, '재용': 10239, '칭기즈칸': 10240, '기원하': 10241, '콜래트럴': 10242, '포가튼': 10243, '동갑': 10244, '헬싱': 10245, '김해숙': 10246, '생로병사': 10247, '동하': 10248, '뱃속': 10249, '헤엄': 10250, '다방면': 10251, '서해주': 10252, '로리타': 10253, '탈락자': 10254, '열쇠': 10255, '김흥수': 10256, '이지혜': 10257, '스케이트보드': 10258, '화창': 10259, '서브': 10260, '쇼파': 10261, '권해효': 10262, '지독히': 10263, '인기투표': 10264, '계몽': 10265, '무정': 10266, '반려': 10267, '견과': 10268, '번의': 10269, '와아': 10270, '입대': 10271, '애당초': 10272, '평택': 10273, '구원자': 10274, '메타포': 10275, '진도': 10276, '열망': 10277, '오작교': 10278, '여성영': 10279, '비리': 10280, '껄렁': 10281, '버라이어티': 10282, '어림없': 10283, '배제': 10284, '신병': 10285, '징역': 10286, '복구': 10287, '바람직': 10288, '특효약': 10289, '악장': 10290, '슬롯': 10291, 'ai': 10292, '저울': 10293, '케네디가': 10294, '소속사': 10295, '집어던지': 10296, '강태공': 10297, '작위': 10298, '수학': 10299, '걸리적거리': 10300, '혐한': 10301, '전원일': 10302, '니로': 10303, '중위': 10304, '박장대소': 10305, '캠페인': 10306, '집권': 10307, '패딩': 10308, '양이': 10309, '효도': 10310, '포카혼타스': 10311, '무저갱': 10312, '초현실주의': 10313, '빽': 10314, '처량': 10315, '꼴불견': 10316, '이행': 10317, '궁궐': 10318, '지젤': 10319, '봉만대': 10320, '출수': 10321, '자장면': 10322, '부담감': 10323, '오키나와': 10324, '크림슨': 10325, '타이드': 10326, '레이건': 10327, '프랑스인': 10328, '민의': 10329, '프리미엄': 10330, '삼순': 10331, '슬럼프': 10332, '마스': 10333, '버럭': 10334, '난이도': 10335, '이어서': 10336, '사이토': 10337, '빤하': 10338, '워너': 10339, '챔프': 10340, '체스': 10341, '첩보전': 10342, '몸값': 10343, '신음': 10344, '지디': 10345, '훤': 10346, '신기하': 10347, '큰딸': 10348, '모범적': 10349, '우파': 10350, '박애': 10351, '충성심': 10352, '우인': 10353, '호칭': 10354, '가학': 10355, '전수경': 10356, '화약': 10357, '환각': 10358, '속죄': 10359, '패티슨': 10360, '셔틀': 10361, '분단': 10362, '불완전': 10363, '시데': 10364, '구슬프': 10365, '박형식': 10366, '송창': 10367, '박영선': 10368, '톡': 10369, '정류장': 10370, '무지몽매': 10371, '문하': 10372, '생존자': 10373, '바둑': 10374, '겹쳐지': 10375, '반어법': 10376, '맞대': 10377, '스웨덴': 10378, '북유럽': 10379, '과속': 10380, '모자람': 10381, '참을성': 10382, '슬라이드': 10383, '샘물': 10384, '지고': 10385, '스티치': 10386, '딱지': 10387, '말초신경': 10388, '이즘': 10389, '의존도': 10390, '가족사': 10391, '베로니카': 10392, '버젓이': 10393, '최성국': 10394, '불러대': 10395, '껴안': 10396, '견우': 10397, '양수빈': 10398, '우겨넣': 10399, '범위': 10400, '완주': 10401, '적용': 10402, '음악가': 10403, '진보적': 10404, '자장가': 10405, '우욱': 10406, '지두': 10407, '홍은희': 10408, '안전벨트': 10409, '여경': 10410, '가운': 10411, '사회화': 10412, '현대자동차': 10413, '랜디': 10414, '형상': 10415, '가위바위보': 10416, '불공평': 10417, '오현민': 10418, '뒷수습': 10419, '생떼': 10420, '강력히': 10421, '김준': 10422, '흩뿌리': 10423, '선혈': 10424, '낙서장': 10425, '자국민': 10426, '파인즈': 10427, '자켓': 10428, '전지적': 10429, '창출': 10430, '성자': 10431, '밥상': 10432, '버마': 10433, '치졸': 10434, '이경실': 10435, '똥물': 10436, '마틴스': 10437, '조수': 10438, '토막': 10439, '러브신': 10440, '천불': 10441, '개방적': 10442, '노하우': 10443, '밥벌이': 10444, '비주류': 10445, '땡땡이': 10446, '음량': 10447, '깽판': 10448, '도련님': 10449, '주지사': 10450, '안소희': 10451, '데자뷰': 10452, '껍질': 10453, '번지르르': 10454, '물감': 10455, '슈발': 10456, '연대': 10457, '김수영': 10458, '십계': 10459, '청승맞': 10460, '설희': 10461, '상면': 10462, '노역': 10463, '차해원': 10464, '보위': 10465, '올': 10466, '기득': 10467, '작태': 10468, '제프리': 10469, '러쉬': 10470, '가봉': 10471, '비밥': 10472, '흥얼거리': 10473, '봉합': 10474, '소제': 10475, '바그다드': 10476, '인호': 10477, '혈투': 10478, '해탈': 10479, '모라': 10480, '비공개': 10481, '콘스탄틴': 10482, '전우애': 10483, '숭배': 10484, '나물': 10485, '올드먼': 10486, '어인': 10487, '신경질': 10488, '뉘앙스': 10489, '먹잇감': 10490, '허벌나': 10491, '세시': 10492, '수니': 10493, '수난': 10494, '수잔': 10495, '붉어지': 10496, '태국인': 10497, '자멸': 10498, '아하하': 10499, '태가': 10500, '무인': 10501, '야간': 10502, '불명확': 10503, '숍': 10504, '여호와': 10505, '증인': 10506, '조': 10507, '동산': 10508, '연수': 10509, '해변가': 10510, '좀먹': 10511, '앨리': 10512, '댄싱': 10513, '안방': 10514, '아련히': 10515, '페이션트': 10516, '에이프릴': 10517, '독약': 10518, '진정하': 10519, '아이라인': 10520, '검이': 10521, '각국': 10522, '모빌': 10523, '초콜렛': 10524, '은애': 10525, '인생관': 10526, '쿠스트리차': 10527, '부장': 10528, '교전': 10529, '뮬란': 10530, '청개구리': 10531, '월버그': 10532, '발군': 10533, '스폰': 10534, '오뎅': 10535, '디스코왕': 10536, '뉴에이지': 10537, '노랑': 10538, '인생사': 10539, '회고': 10540, '발동': 10541, '매카시': 10542, '나불거리': 10543, '박치기': 10544, '숙소': 10545, '내걸': 10546, '바르뎀': 10547, '쇄': 10548, '치란': 10549, '채리': 10550, '극초': 10551, '지게': 10552, '변수': 10553, '걸찍': 10554, '록산': 10555, '변인': 10556, '챙겨주': 10557, '자지': 10558, '선언': 10559, '한정적': 10560, '사회시스템': 10561, '얼기설기': 10562, '엘르': 10563, '이길수': 10564, '트로트': 10565, '코치': 10566, '구사': 10567, '코헨': 10568, '포카': 10569, '음향효과': 10570, '상이': 10571, '호라이즌': 10572, '원흉': 10573, '배분': 10574, '가소': 10575, '연제': 10576, '원론적': 10577, '김정화': 10578, '찔끔': 10579, '해골': 10580, '혈청': 10581, '측근': 10582, '착잡': 10583, '천추': 10584, '이다영': 10585, '보심': 10586, '정예': 10587, '강정': 10588, '소나타': 10589, '능력인': 10590, '도착': 10591, '도의': 10592, '실패자': 10593, '음탕': 10594, '약물': 10595, '심화': 10596, '본즈': 10597, '꾸준': 10598, '김주환': 10599, '배제하': 10600, '수식': 10601, '출가': 10602, '말썽': 10603, '미림': 10604, '승기': 10605, '글쓰기': 10606, '무속': 10607, '합법화': 10608, '배심원': 10609, '페스티벌': 10610, '복지': 10611, '회관': 10612, '시험관': 10613, '징글': 10614, '핀트': 10615, '디스크': 10616, '먼로': 10617, '견해': 10618, '무지개': 10619, '동갑내기': 10620, '쥐어뜯': 10621, '열성': 10622, '즐거워하': 10623, '내두르': 10624, '증가': 10625, '파라다이스': 10626, '골병': 10627, '때깔': 10628, '밀림': 10629, '입학': 10630, '김완선': 10631, '클로드': 10632, '본단': 10633, '무의식': 10634, '치키': 10635, 'usb': 10636, '하마터면': 10637, '사쿠라': 10638, '보배': 10639, '슬로모션': 10640, '안매': 10641, '속내': 10642, '갓뎀': 10643, '사타구니': 10644, '기쿠지로': 10645, '프로포즈': 10646, '자기반성': 10647, '한국신': 10648, '허하': 10649, '내용물': 10650, '강대': 10651, '오락실': 10652, '빠가': 10653, '맥과이어': 10654, '황수정': 10655, '노파': 10656, '스피디': 10657, '이영하': 10658, '수첩': 10659, '날조': 10660, '이러쿵저러쿵': 10661, '상위': 10662, '천신만고': 10663, '귀천': 10664, '훈장': 10665, '잡혀가': 10666, '백조': 10667, '서화': 10668, '앤드': 10669, '마련': 10670, '김대희': 10671, '전선': 10672, '손녀': 10673, '세관': 10674, '암투': 10675, '오기': 10676, '죄수': 10677, '딴소리': 10678, '간추리': 10679, '별표': 10680, '틴에이저': 10681, '상하이': 10682, '단편소설': 10683, '무라카미': 10684, '하루키': 10685, '자각': 10686, '말랑': 10687, '고공': 10688, '검프': 10689, '골격': 10690, '행진곡': 10691, '캘리포니아': 10692, '울타리': 10693, '제각기': 10694, '서형': 10695, '중학': 10696, '경찰서장': 10697, '때려치우': 10698, '부풀': 10699, '족족': 10700, '스피커': 10701, '퍼시': 10702, '깨부수': 10703, '일당': 10704, '꾸밈': 10705, '무신': 10706, '교도소장': 10707, '유니폼': 10708, '진취적': 10709, '경멸': 10710, '팀워크': 10711, '가뜩이나': 10712, '정선경': 10713, '내면적': 10714, '들뜨': 10715, '안심': 10716, '당국': 10717, '달라붙': 10718, '꽃집': 10719, '공놀이': 10720, '코리아': 10721, '쫄깃쫄깃': 10722, '반장': 10723, '동방불패': 10724, '몰아넣': 10725, '질의': 10726, '종잡': 10727, '빈틈없이': 10728, '레이코': 10729, '활기차': 10730, '편곡': 10731, '필두': 10732, '섭렵': 10733, '제갈량': 10734, '냉장고': 10735, '색이': 10736, '미르': 10737, '막노동': 10738, '인물관계': 10739, '주심': 10740, '구나라': 10741, '아크': 10742, '벨벳': 10743, '미천': 10744, '교도': 10745, '패트레이버': 10746, '찡찡': 10747, '시름': 10748, '소프트': 10749, '지능적': 10750, '마중': 10751, '결전': 10752, '공평': 10753, '스패로우': 10754, '슈미트': 10755, '너저분': 10756, '알반': 10757, '길용우': 10758, '명인': 10759, '활력': 10760, '허세영': 10761, '백두산': 10762, '관세음보살': 10763, '에이전트': 10764, '탑재': 10765, '히히히': 10766, '신중하': 10767, '기차역': 10768, '덧없': 10769, '소유욕': 10770, '본말': 10771, '해괴망측': 10772, '낯익': 10773, '티파니': 10774, '개꼴': 10775, '생물체': 10776, '루미': 10777, '추녀': 10778, '한국제': 10779, '덧붙이': 10780, '테드': 10781, '야무지': 10782, '시누이': 10783, '이현세': 10784, '자평': 10785, '우동': 10786, '당분간': 10787, '추진': 10788, '실연': 10789, '엘리시움': 10790, '노익장': 10791, '자이상': 10792, '신해혁명': 10793, '항해': 10794, '한족': 10795, '포섭': 10796, '웨딩': 10797, '심심풀이': 10798, '급반전': 10799, '병영': 10800, '채찍': 10801, '돌변': 10802, '웬걸': 10803, '복사': 10804, '프라다': 10805, '로봇물': 10806, '타이': 10807, '삭': 10808, '빠빠': 10809, '박건': 10810, '꿈틀거리': 10811, '규정': 10812, '리오': 10813, '수년전': 10814, '제아무리': 10815, '잔머리': 10816, '체험기': 10817, '분별': 10818, '파급력': 10819, '기특': 10820, '공모': 10821, '동영': 10822, '트랙': 10823, '티에리': 10824, '죽은자': 10825, '울만': 10826, '리타': 10827, '프리티': 10828, '부풀리': 10829, '편파': 10830, '검토': 10831, '리아': 10832, '지붕': 10833, '브레이크': 10834, '정돈': 10835, '근간': 10836, '숙이': 10837, '이화영': 10838, '조촐하': 10839, '시마': 10840, '유독': 10841, '르누아르': 10842, '피땀': 10843, '국보': 10844, '엔티티': 10845, '단가': 10846, '페르시아': 10847, '강냉이': 10848, '공익광고': 10849, '무용지물': 10850, '객기': 10851, '분한': 10852, '아리랑': 10853, 'new': 10854, '배낭여행': 10855, '조연출': 10856, '금고': 10857, '오연수': 10858, '다기': 10859, '저열': 10860, '극영화': 10861, '잡지사': 10862, '당혹': 10863, '라푼젤': 10864, '사라미': 10865, '이레': 10866, '쿵쿵': 10867, '시고니': 10868, '위버': 10869, '지각': 10870, '샬롯': 10871, '몸집': 10872, '세손': 10873, '가락': 10874, '강산': 10875, '총칼': 10876, '재차': 10877, '반점': 10878, '키워드': 10879, '훌륭히': 10880, '부랑': 10881, '조립': 10882, '고름': 10883, '예비군': 10884, '다시다': 10885, '문제의식': 10886, '젠틀맨': 10887, '변요한': 10888, '에르': 10889, '조셉': 10890, '기똥차': 10891, '고양순': 10892, '최윤영': 10893, '우체통': 10894, '뻔지르르': 10895, '롤랑': 10896, '이희준': 10897, '밑바탕': 10898, '전규환': 10899, '조그맣': 10900, '브라운관': 10901, '유미': 10902, '판결': 10903, '의경': 10904, '행이': 10905, '요런': 10906, '설도': 10907, '유노': 10908, '자서전': 10909, '명료': 10910, '곤란': 10911, '제보자': 10912, '세인트': 10913, '박정': 10914, '방관자': 10915, '자메이카': 10916, '극좌': 10917, '꿰뚫': 10918, '떠밀리': 10919, '순응': 10920, '명랑': 10921, '뿡': 10922, '해저': 10923, '하루빨리': 10924, '나만재': 10925, '세일': 10926, '큐브릭': 10927, '발대': 10928, '보조': 10929, '아더왕': 10930, '군데군데': 10931, '푸핫': 10932, '슬쩍슬쩍': 10933, '사색': 10934, '사돈': 10935, '한승연': 10936, '로렌조': 10937, '인소': 10938, '최미자': 10939, '허수아': 10940, '전향': 10941, '국군': 10942, '권태기': 10943, '숙성': 10944, '둥지': 10945, '부화': 10946, '조반니': 10947, '복합': 10948, '싣': 10949, '타르': 10950, '용의': 10951, '누이': 10952, '잡수시': 10953, '해병': 10954, '쫄쫄이': 10955, '샤인': 10956, '비인간적': 10957, '조여오': 10958, '음음': 10959, '나태': 10960, '하락세': 10961, '개피': 10962, '곤하': 10963, '들키': 10964, '악사': 10965, '월령': 10966, '슥': 10967, '던컨': 10968, '우하하하': 10969, '나울': 10970, '무르': 10971, '전계': 10972, '허그': 10973, '개스': 10974, '춤사위': 10975, '본색': 10976, '아톰': 10977, '어여': 10978, '설정자': 10979, '구성원': 10980, '창공': 10981, '현상수': 10982, '쌕': 10983, '시샘': 10984, '앱': 10985, '이준익': 10986, '전미선': 10987, '테렌스': 10988, '내진': 10989, '용맹': 10990, '찔리': 10991, '자빠': 10992, '굶': 10993, '타나토스': 10994, '파스타': 10995, '로튼': 10996, '다솜': 10997, '고딕': 10998, '미소녀': 10999, '수집': 11000, '석대': 11001, '오케': 11002, '다미': 11003, '무쌍': 11004, '커티스': 11005, '남학생': 11006, '훈계': 11007, '산타': 11008, '홍수현': 11009, '출세욕': 11010, '눈멀': 11011, '황인': 11012, '나우': 11013, '타국': 11014, '추위': 11015, '봉하': 11016, '웨인': 11017, '박세영': 11018, '기본기': 11019, '차근차근': 11020, '레슬링': 11021, '반칙': 11022, '저택': 11023, '촌구석': 11024, '어떻든': 11025, '소하': 11026, '룰렛': 11027, '뛰어가': 11028, '박인권': 11029, '씁슬': 11030, '고은정': 11031, '막대': 11032, '존댓말': 11033, '서지혜': 11034, '연출법': 11035, '과주': 11036, '누적': 11037, '적기': 11038, '삼가하': 11039, '구조적': 11040, '연작': 11041, '노을': 11042, '오의': 11043, '돈줄': 11044, '무진': 11045, '착상': 11046, '뒷끝': 11047, '장서희': 11048, '부사장': 11049, '화이자': 11050, '빌붙': 11051, '그림판': 11052, '마릴린': 11053, '이탈': 11054, '기용하': 11055, '권위': 11056, '룻': 11057, '톰슨': 11058, '인현왕후': 11059, '질러가': 11060, '프로야구': 11061, '악쓰': 11062, '떠나가': 11063, '유감없이': 11064, '도화지': 11065, '근황': 11066, '꼬박': 11067, '뜯어보': 11068, '금세': 11069, '전태일': 11070, '임금님': 11071, '함량': 11072, '데쓰': 11073, '엘비스': 11074, '동상': 11075, '마주하': 11076, '감지덕지': 11077, '봄날': 11078, '강한나': 11079, '라이터': 11080, '데굴데굴': 11081, '초상': 11082, '광개토': 11083, '스프': 11084, '강인한': 11085, '감행': 11086, '양주': 11087, '총체': 11088, '거': 11089, '함꼐': 11090, '김성오': 11091, '형상화': 11092, '관록': 11093, '지민': 11094, '자의식': 11095, '비정상': 11096, '특강': 11097, '소머즈': 11098, '정윤희': 11099, '포스트만': 11100, '섬짓': 11101, '처연': 11102, '인드라': 11103, '누벨바그': 11104, '일생일대': 11105, '도경': 11106, '개작': 11107, '이인상': 11108, '야속': 11109, '산과': 11110, '김희정': 11111, '희정': 11112, '가시나무': 11113, '트집': 11114, '올가': 11115, '왕좌': 11116, '대런': 11117, '거미줄': 11118, '셰익스피어': 11119, '과감히': 11120, '어드벤처': 11121, '박선영': 11122, '의도적': 11123, '추켜세우': 11124, '가혹': 11125, '들것': 11126, '두심': 11127, '가바': 11128, '미역국': 11129, '낙마': 11130, '양면성': 11131, '산산히': 11132, '이송': 11133, '재롱': 11134, '예민': 11135, '발자국': 11136, '마타': 11137, '한새': 11138, '야외': 11139, '포세이돈': 11140, '외설': 11141, '오사카': 11142, '랩퍼': 11143, '난동': 11144, '간수': 11145, '박기웅': 11146, '띄엄': 11147, '무조': 11148, '역과': 11149, '두보': 11150, '이산': 11151, '인디아나존스': 11152, '선별': 11153, '댓가': 11154, '배제한': 11155, '청리': 11156, '그레이트': 11157, '영계': 11158, '아지매': 11159, '폭력물': 11160, '재충전': 11161, '사단': 11162, '석연': 11163, '떨치': 11164, '조귀': 11165, '창궐': 11166, '국장': 11167, '트레인': 11168, '스포팅': 11169, '위상': 11170, '아웃사이더': 11171, '캐스트': 11172, '머무': 11173, '작성': 11174, '결정타': 11175, '공중분해': 11176, '네버랜드': 11177, '웬디': 11178, '라이오넬': 11179, '서랍': 11180, '책임자': 11181, '진절머리': 11182, '겉모습': 11183, '적막': 11184, '주임': 11185, '스노우': 11186, '유지인': 11187, '얄궂': 11188, '이윤석': 11189, '맹수': 11190, '보련': 11191, '공장': 11192, '성형외과': 11193, '공식적': 11194, '자위대': 11195, '구동': 11196, '흉내내기': 11197, '샤오시엔': 11198, '편차': 11199, '가량': 11200, '실비아': 11201, '둘리': 11202, '아리까리': 11203, '남구': 11204, '소양': 11205, '일개': 11206, '교만': 11207, '자서': 11208, '한선': 11209, '최고점': 11210, '카프카': 11211, '피날레': 11212, '장명': 11213, '엘릭': 11214, '스틴': 11215, '신인가': 11216, '나상': 11217, '포유': 11218, '사해': 11219, '고조시': 11220, '소간': 11221, '어눌': 11222, '손대': 11223, '후딱': 11224, '문투': 11225, '대국민': 11226, '순교자': 11227, '합창단': 11228, '주마': 11229, '미혼': 11230, '새하얗': 11231, '대원': 11232, '벽돌': 11233, '처단': 11234, '방면': 11235, '두더지': 11236, '강성재': 11237, '안배': 11238, '날들': 11239, '소용없': 11240, '슬퍼지': 11241, '분과': 11242, '압살': 11243, '청렴': 11244, '사드': 11245, '노희경': 11246, '세로': 11247, '금일': 11248, '천년': 11249, '한바탕': 11250, '기어가': 11251, '빈틈없': 11252, '김은형': 11253, '네팔': 11254, '말세': 11255, '테리': 11256, '뜬구름': 11257, '놀이동산': 11258, '난당': 11259, '고경표': 11260, '벙커': 11261, '범람': 11262, '불타오르': 11263, '목조': 11264, '갓난아이': 11265, '김진표': 11266, '노르웨이': 11267, '달아보': 11268, '저속': 11269, '정치색': 11270, '명령': 11271, '덤비': 11272, '노망': 11273, '착오': 11274, '요정': 11275, '고구려': 11276, '혐오자': 11277, '보디': 11278, '한기': 11279, '정치가': 11280, '순이': 11281, '비속어': 11282, '멀정': 11283, '영양가': 11284, '초짜': 11285, '패인': 11286, '지석': 11287, '수려': 11288, '대목': 11289, '다누리': 11290, '오가타': 11291, '혁신적': 11292, '질환': 11293, '호두까기': 11294, '검둥이': 11295, '험': 11296, '컴퓨터게임': 11297, '변두리': 11298, '패륜': 11299, '윗사람': 11300, '반나절': 11301, '사간': 11302, '나오토': 11303, '이래저래': 11304, '댁': 11305, '걸작품': 11306, '난치': 11307, '신호': 11308, '베오울프': 11309, '디스트릭트': 11310, '손전등': 11311, '맹물': 11312, '저작권': 11313, '코어': 11314, '주도': 11315, '크리미': 11316, '그램': 11317, '한강변': 11318, '이보게': 11319, '결말부': 11320, '작금': 11321, '구구': 11322, '제네시스': 11323, '지역감정': 11324, '조장하': 11325, '대성통곡': 11326, '고무적': 11327, '기획물': 11328, '얼얼': 11329, '지상낙원': 11330, '남자영': 11331, '휘말리': 11332, '허약': 11333, '뒷심': 11334, '여당': 11335, '국회': 11336, '몸뚱이': 11337, '상납': 11338, '시트': 11339, '상연': 11340, '메모리': 11341, '세계인': 11342, '편향적': 11343, '정치성': 11344, '무마': 11345, '걸루': 11346, '손수건': 11347, '말레이시아': 11348, '관계없이': 11349, '개키': 11350, '습관': 11351, '천천히': 11352, '줄줄이': 11353, '자작': 11354, '순애보': 11355, '모집': 11356, '멋드러지': 11357, '성대현': 11358, '어린것': 11359, '승룡': 11360, '눈꽃': 11361, '차가움': 11362, '자영': 11363, '배은': 11364, '표기': 11365, '식민지': 11366, '숙식': 11367, '챙': 11368, '홍성진': 11369, '형수': 11370, '어림': 11371, '뒷발': 11372, '파울': 11373, '웬만큼': 11374, '아웅산': 11375, '득템': 11376, '독자': 11377, '몹': 11378, '방가': 11379, '개뻥': 11380, '상대적': 11381, '양다리': 11382, '정규': 11383, '홈페이지': 11384, '무성의': 11385, '나들': 11386, '수영장': 11387, '한별': 11388, '약초': 11389, '김성': 11390, '서내': 11391, '전광판': 11392, '아이젠': 11393, '상호': 11394, '뽀뽀': 11395, '호두': 11396, '맞물리': 11397, '비시': 11398, '얼굴마담': 11399, '스태프': 11400, '깃발': 11401, '콧구멍': 11402, '봉원': 11403, '처제': 11404, '소고기': 11405, '해결책': 11406, '능하': 11407, '옅': 11408, '여하튼': 11409, '장편소설': 11410, '성매매': 11411, '느려터지': 11412, '손바닥': 11413, '딴말': 11414, '꼬꼬마': 11415, '공화당': 11416, '다어': 11417, '자알': 11418, '불문': 11419, '헤비메탈': 11420, '잣다': 11421, '대활약': 11422, '한마음': 11423, '길동': 11424, '남북전쟁': 11425, '제제': 11426, '고단': 11427, 'ㅕ': 11428, '퉁': 11429, '레그': 11430, '교집합': 11431, '내재': 11432, '필연': 11433, '장땡': 11434, '아이큐': 11435, '화면구성': 11436, '김희애': 11437, '호빵맨': 11438, '뒷편': 11439, '아성': 11440, '여지없이': 11441, '무너뜨리': 11442, '디스토피아': 11443, '립스': 11444, '마고': 11445, '활짝': 11446, '영웅담': 11447, '통속적': 11448, '꺽꺽': 11449, '고시': 11450, '순영': 11451, '일당백': 11452, '척도': 11453, '자석': 11454, '담쌓': 11455, '파내': 11456, '코딱지': 11457, '동선': 11458, '구로자와': 11459, '김효원': 11460, '수로': 11461, '낑': 11462, '도유': 11463, '도둑놈': 11464, '울라': 11465, '스페이시': 11466, '진흙탕': 11467, '싸그리': 11468, '한겨울': 11469, '자웅': 11470, '스파게티': 11471, '정액': 11472, '강대성': 11473, '멜로드라마': 11474, '개뻘': 11475, '나원': 11476, '전사자': 11477, '헛되이': 11478, '희화': 11479, '휩쓸리': 11480, '뒷목': 11481, '도그': 11482, '엉키': 11483, '정품': 11484, '웃찾사': 11485, '청소부': 11486, '눈썹': 11487, '바보선언': 11488, '시행': 11489, '엔간': 11490, '틴틴': 11491, '일가': 11492, '험하': 11493, '전쟁물': 11494, '강서현': 11495, '올림픽': 11496, '왼쪽': 11497, '강치': 11498, '정운택': 11499, '선민': 11500, '오버랩': 11501, '탑건': 11502, '조도': 11503, '크리스탈': 11504, '찬물': 11505, '끼얹': 11506, '후원': 11507, '자발적': 11508, '맨인블랙': 11509, '머레이': 11510, '똘기': 11511, '변태일': 11512, '결과적': 11513, '기냥': 11514, '새싹': 11515, '화상': 11516, '엘레나': 11517, '동구': 11518, '시들시들': 11519, '두각': 11520, '이지스': 11521, '뒷받침': 11522, '강연': 11523, '피의자': 11524, '제의': 11525, '센터': 11526, '입센': 11527, '판매': 11528, '북미': 11529, '찜질방': 11530, '만사': 11531, '유려': 11532, '어무이': 11533, '왜주': 11534, '무분별': 11535, '너구리': 11536, '배타': 11537, '쳐지': 11538, '유의': 11539, '태작': 11540, '엔도': 11541, '왕비': 11542, '비데': 11543, '메꾸': 11544, '스트리트': 11545, '협상': 11546, '지상주': 11547, '통렬': 11548, '소득': 11549, '윈드': 11550, '언덕': 11551, '타블로': 11552, '꺼림직': 11553, '색의': 11554, '물음': 11555, '박예진': 11556, '브로큰': 11557, '에스프레소': 11558, '울화통': 11559, '아임': 11560, '툭하면': 11561, '의태': 11562, '연도': 11563, '아랫도리': 11564, '박정아': 11565, '질러대': 11566, '정연': 11567, '딴판': 11568, '드라큐라': 11569, '밀양': 11570, '병실': 11571, '무용수': 11572, '해해': 11573, '구닥다리': 11574, '한여름': 11575, '딜런': 11576, '조무래기': 11577, '생과': 11578, '반사회적': 11579, '북두': 11580, '정석원': 11581, '집합소': 11582, '콘텐츠': 11583, '오드리헵번': 11584, '불리우': 11585, '복면': 11586, '과자': 11587, '안당': 11588, '신품': 11589, '내다보': 11590, '용만': 11591, '일인자': 11592, '아우디': 11593, '종군기자': 11594, '보도사진': 11595, '메릴': 11596, '중반쯤': 11597, '임자': 11598, '울상': 11599, '난데없': 11600, '정지화': 11601, '두드러기': 11602, '식습관': 11603, '용하': 11604, '팜': 11605, '오세': 11606, '킁': 11607, '신중히': 11608, '싹쓸이': 11609, '타쿠야': 11610, '그런데로': 11611, '격파': 11612, '모면': 11613, '좌충우돌': 11614, '야생': 11615, '세븐틴': 11616, '메이드': 11617, '계급': 11618, '곽현화': 11619, '맹세': 11620, '으하하': 11621, '으하하하': 11622, '공권력': 11623, '곁들': 11624, '절실히': 11625, '아스카': 11626, '당차': 11627, '감질': 11628, '더욱이': 11629, '클랜': 11630, '오카다': 11631, '멸하': 11632, '겁주': 11633, '칠흑': 11634, '미동': 11635, '쪽발이': 11636, '경위': 11637, '발시': 11638, '사고방식': 11639, '막차': 11640, '추방': 11641, '사양': 11642, '우현': 11643, '범접': 11644, '두루': 11645, '만일': 11646, '덩크': 11647, '꿀벌': 11648, '북한인': 11649, '친목': 11650, '큰소리': 11651, '단과': 11652, '연두': 11653, '티라': 11654, '지창욱': 11655, '보트': 11656, '맨들': 11657, '물려주': 11658, '유니콘': 11659, '심상': 11660, '헌법': 11661, '보편적': 11662, '땅땅': 11663, '여화': 11664, '레이놀즈': 11665, '밑밥': 11666, '현자': 11667, '보드카': 11668, '음식물': 11669, '그랴': 11670, '소파': 11671, '하프': 11672, '동호회': 11673, '셔터': 11674, '핏빛': 11675, '병자호란': 11676, '오태경': 11677, '형편없이': 11678, '송일국': 11679, '정신감정': 11680, '씻': 11681, '베송': 11682, '심기': 11683, '데일': 11684, '숯': 11685, '소멸': 11686, '구장': 11687, '멱': 11688, '중립적': 11689, '조지클루니': 11690, '조예': 11691, '약육강식': 11692, '육식': 11693, '후우': 11694, '마적': 11695, '기초적': 11696, '만고': 11697, '농익': 11698, '쓴소리': 11699, '염치없': 11700, '엣헴': 11701, '뇌물': 11702, '분단국가': 11703, '휴전': 11704, '나태하': 11705, '여유롭': 11706, '개꿈': 11707, '유럽식': 11708, '음지': 11709, '황폐': 11710, '수색대': 11711, '토마': 11712, '남북': 11713, '김남주': 11714, '동대문': 11715, '똥개': 11716, '단적비연수': 11717, '전전': 11718, '거봐': 11719, '사운': 11720, '페로': 11721, '영화동': 11722, '추천영': 11723, '박성웅': 11724, '못난이': 11725, '먹물': 11726, '옥죄': 11727, '상투': 11728, '원숙': 11729, '윤도현': 11730, '수용': 11731, '냉동': 11732, '신파조': 11733, '딸랑': 11734, '콕콕': 11735, '개상': 11736, '유부남': 11737, '보아하니': 11738, '비견': 11739, '지하실': 11740, '과도기': 11741, '사안': 11742, '연루': 11743, '문학적': 11744, '캣': 11745, '레포트': 11746, '김용': 11747, '언더그라운드': 11748, '집시': 11749, '창업': 11750, '환경보호': 11751, '도용': 11752, '카바': 11753, '스위프트': 11754, '웃음거리': 11755, '프레드': 11756, '산산조각': 11757, '돌려주': 11758, '친척': 11759, '아나키스트': 11760, '장로': 11761, '까치': 11762, '베라': 11763, '에두고': 11764, '치욕': 11765, '퀵': 11766, '아무거': 11767, '접어들': 11768, '포용': 11769, '그리스도인': 11770, '짱짱걸': 11771, '울화': 11772, '생겨나': 11773, '휘두르': 11774, '저자': 11775, '악감정': 11776, '조상': 11777, '경구': 11778, '뿔': 11779, '엔진': 11780, '황진이': 11781, '비틀기': 11782, '머그': 11783, '주간': 11784, '주한': 11785, '헤프': 11786, '덩치': 11787, '적습': 11788, '지구인': 11789, '마사노부': 11790, '광화문': 11791, '계자': 11792, '부세미': 11793, '입체적': 11794, '탐험': 11795, '진용석': 11796, '고이즈미': 11797, '되도록': 11798, '인장': 11799, '시디': 11800, '넋두리': 11801, '레고': 11802, '상관관계': 11803, '더더더': 11804, '순애': 11805, '김명규': 11806, '일본원숭이': 11807, '코라': 11808, '마주치': 11809, '핍박': 11810, '나치스': 11811, '간장': 11812, '어리둥절': 11813, '몽환': 11814, '사물': 11815, '적이': 11816, '산속': 11817, '미니어처': 11818, '투덜대': 11819, '둥이': 11820, '타임캡슐': 11821, '슬레이터': 11822, '초록': 11823, '작살나': 11824, '과학자': 11825, '화수': 11826, '헛돈': 11827, '참맛': 11828, '검찰': 11829, '홍이': 11830, '우진': 11831, '친부모': 11832, '사려': 11833, '빛깔': 11834, '싸게': 11835, '이인': 11836, '스페어': 11837, '레오나르도': 11838, '컨닝': 11839, '일가견': 11840, '인사동': 11841, '화룡점정': 11842, '피클': 11843, '박준규': 11844, '빛바래': 11845, '덮치': 11846, '매들린': 11847, '스토우': 11848, '진영화': 11849, '익히': 11850, '피리': 11851, '불면': 11852, '하마': 11853, '총신': 11854, '부르스': 11855, '월리스': 11856, '아씨': 11857, '뚱이': 11858, '리비': 11859, '래리': 11860, '소론': 11861, '격정적': 11862, '삼키': 11863, '다이나믹': 11864, '달팽이': 11865, '전조': 11866, '머신': 11867, '요지': 11868, '점안': 11869, '난도': 11870, '남쪽': 11871, '진기': 11872, '연소자': 11873, '최효종': 11874, '타격': 11875, '여직원': 11876, '가뭄': 11877, '도심': 11878, '필적': 11879, '파멜라': 11880, '나운': 11881, '닭목': 11882, '페이스북': 11883, '직설': 11884, '대여료': 11885, '기준점': 11886, '골목': 11887, '다방': 11888, '레지': 11889, '참가자': 11890, '요술': 11891, '되짚': 11892, '최세란': 11893, '요염': 11894, '미취학': 11895, '인생철학': 11896, '말없이': 11897, '테오': 11898, '굴복': 11899, '주되': 11900, '끝마무리': 11901, '유식': 11902, '들길': 11903, '일찌감치': 11904, '조패': 11905, '트럭': 11906, '콜드': 11907, '거손': 11908, '틸리': 11909, '창민': 11910, '안마': 11911, '이성민': 11912, '수호지': 11913, '치켜세우': 11914, '열전': 11915, '조민수': 11916, '불의': 11917, '오진희': 11918, '판단하': 11919, '국물': 11920, '라보': 11921, '경망': 11922, '대지': 11923, '아마존': 11924, '춘향전': 11925, '불분명': 11926, '모치': 11927, '마코': 11928, '베스트극장': 11929, '심볼': 11930, '흑사': 11931, '근작': 11932, '수록': 11933, '제안': 11934, '새시': 11935, '못다': 11936, '눈밭': 11937, '감화': 11938, '토스트': 11939, '궁극적': 11940, '입방': 11941, '서지': 11942, '엽서': 11943, '신유': 11944, '벌금': 11945, '개수': 11946, '천공': 11947, '마우스': 11948, '중천': 11949, '복권': 11950, '국기': 11951, '척결': 11952, '마츠다': 11953, '바보상자': 11954, '이종수': 11955, '치달': 11956, '연합': 11957, '닷': 11958, '시력': 11959, '용광로': 11960, '손상': 11961, '최우선': 11962, '벌린': 11963, '산물': 11964, '제갈': 11965, '스트레칭': 11966, '필히': 11967, '수도원': 11968, '심플': 11969, '으앙': 11970, '퓨쳐': 11971, '방위대': 11972, '고질적': 11973, '자기애': 11974, '확고': 11975, '줄다리기': 11976, '심지호': 11977, '본업': 11978, '대딩': 11979, '감투': 11980, '지만정': 11981, '고종': 11982, '꼼꼼': 11983, '장항준': 11984, '화도': 11985, '학도': 11986, '원샷': 11987, '식히': 11988, '한나라': 11989, '벨루시': 11990, '시끌': 11991, '은성': 11992, '다음번': 11993, '선녀': 11994, '관심사': 11995, '환호': 11996, '둘째가': 11997, '선비': 11998, '히노': 11999, '필견': 12000, '살펴보': 12001, '기별': 12002, '볼살': 12003, '해방구': 12004, '애덤스': 12005, '풍문': 12006, '방청객': 12007, '검거': 12008, '곧잘': 12009, '광희': 12010, '칼리': 12011, '해미': 12012, '캐러': 12013, '방도': 12014, '팻': 12015, '호러스': 12016, '트러블': 12017, '비정': 12018, '여성상': 12019, '괴리': 12020, '체면': 12021, '운석': 12022, '빚어내': 12023, '나찌': 12024, '청정': 12025, '어후': 12026, '몽도': 12027, '프리덤': 12028, '과시': 12029, '습성': 12030, '가르시아': 12031, '코스모스': 12032, '장미여관': 12033, '매도': 12034, '가계': 12035, '강서연': 12036, '전염': 12037, '해커': 12038, '점장': 12039, '조난': 12040, '조종사': 12041, '바람피우': 12042, '화이트': 12043, '장창하': 12044, '해양경찰': 12045, '보컬': 12046, '국선': 12047, '손녀딸': 12048, '호수': 12049, '목회자': 12050, '한목': 12051, '바주카': 12052, '만내': 12053, '체코': 12054, '앤나': 12055, '호준': 12056, '사생아': 12057, '독설': 12058, '윤희': 12059, '송재호': 12060, '막돼먹': 12061, '주기적': 12062, '조직원': 12063, '묶이': 12064, '되돌아가': 12065, '남아공': 12066, '안비': 12067, '김병석': 12068, '트림': 12069, '부적절': 12070, '보가트': 12071, '거금': 12072, '사십': 12073, '이분법': 12074, '짓밟히': 12075, '통치': 12076, '윈저': 12077, '엔터테인먼트': 12078, '보성': 12079, '뿌리치': 12080, '찐빵': 12081, '혓바닥': 12082, '개시': 12083, '네리': 12084, '배후': 12085, '표시': 12086, '염증': 12087, '거자': 12088, '가죽': 12089, '빨치산': 12090, '파일럿': 12091, '뒷북': 12092, '상회': 12093, '예진': 12094, '발가벗': 12095, '의형제': 12096, '엑소더스': 12097, '홀로코스트': 12098, '내막': 12099, '주절주절': 12100, '요건': 12101, '블룸': 12102, '진출작': 12103, '보신탕': 12104, '문제집': 12105, '독실': 12106, '초월적': 12107, '절차': 12108, '사법부': 12109, '강윤재': 12110, '물어내': 12111, '루저': 12112, '썰매': 12113, '지로': 12114, '리포트': 12115, '이중성': 12116, '아이구': 12117, '궁상': 12118, '환타': 12119, '소환': 12120, '번들': 12121, '이즈미': 12122, '뒹굴': 12123, '응큼': 12124, '이상현': 12125, '하이드': 12126, '신부가': 12127, '제치': 12128, '모짜르트': 12129, '상스럽': 12130, '앙심': 12131, '난': 12132, '토론': 12133, '출력': 12134, '어떠하': 12135, '안재욱': 12136, '바우어': 12137, '거시': 12138, '건맨': 12139, '장신영': 12140, '방법론': 12141, '변형': 12142, '낚시꾼': 12143, '매직': 12144, '신기록': 12145, '코앞': 12146, '가족적': 12147, '군말': 12148, '창문': 12149, '기욤': 12150, '의분': 12151, '입체': 12152, '열화': 12153, '터무니': 12154, '혜택': 12155, '촉촉': 12156, '뚱뚱': 12157, '물어뜯': 12158, '싸이트': 12159, '얼어붙': 12160, '아이리쉬': 12161, '캐나다': 12162, '앙큼': 12163, '필요악': 12164, '용납': 12165, '정지': 12166, '유실물': 12167, '생고생': 12168, '주의자': 12169, '방불': 12170, '심은경': 12171, '도사': 12172, '유학': 12173, '우애': 12174, '헨리': 12175, '근육질': 12176, '감소': 12177, '무용담': 12178, '나가떨어지': 12179, '들여보내': 12180, '능사': 12181, '공정': 12182, '애국가': 12183, '장편영화': 12184, '포레스트': 12185, '광주민주화운동': 12186, '승천': 12187, '노리개': 12188, '예비': 12189, '권현상': 12190, '딴따라': 12191, '군수': 12192, '양치기': 12193, '전시회': 12194, '미공개': 12195, '해져오': 12196, '변덕': 12197, '빨간색': 12198, '케서': 12199, '인작': 12200, '백악관': 12201, '헤븐': 12202, '수배': 12203, '의기': 12204, '은화': 12205, '독보적': 12206, '귀로': 12207, '일한': 12208, '신봉선': 12209, '패리스': 12210, '씨받이': 12211, '판박이': 12212, '막부': 12213, '대장군': 12214, '더없이': 12215, '뺨치': 12216, '목격자': 12217, '전투력': 12218, '이스트': 12219, '나대지': 12220, '비만': 12221, '파장': 12222, '트랩': 12223, '자원': 12224, '구글': 12225, '본대': 12226, '역겨움': 12227, '아랑': 12228, '친숙': 12229, '정신이상자': 12230, '개수작': 12231, '육지': 12232, '버지니아': 12233, '머저리': 12234, '전장': 12235, '말랑말랑': 12236, '시드니': 12237, '혈전': 12238, '정말루': 12239, '찌릿': 12240, '작도': 12241, '솔직이': 12242, '전보': 12243, '순돌이': 12244, '꿰차': 12245, '멍충이': 12246, '근성': 12247, '천진한': 12248, '불붙': 12249, '까라': 12250, '코인': 12251, '데스몬드': 12252, '끄적이': 12253, '증권': 12254, '데드맨': 12255, '산책': 12256, '육체미': 12257, '장정': 12258, '월래': 12259, '끈기': 12260, '미란다': 12261, '살금': 12262, '기태영': 12263, '폭격': 12264, '후궁': 12265, '빗대': 12266, '고민중': 12267, '미란': 12268, '김연아': 12269, '벤더': 12270, '칼날': 12271, '뒤태': 12272, '경인': 12273, '코렐': 12274, '부딪치': 12275, '망토': 12276, '몹시': 12277, '오지랖': 12278, '백도빈': 12279, '아바': 12280, '심의영': 12281, '웨스턴': 12282, '명민': 12283, '손호영': 12284, '마리화나': 12285, '공지': 12286, '농사': 12287, '여과': 12288, '배송': 12289, '지휘관': 12290, '산화': 12291, '리모콘': 12292, '이로써': 12293, '형제애': 12294, '허준호': 12295, '음식점': 12296, '올라서': 12297, '와해': 12298, '희생적': 12299, '경이적': 12300, '따라쟁이': 12301, '정해준': 12302, '원혼': 12303, '천만다행': 12304, '민종오': 12305, '로저': 12306, '더글러스': 12307, '뒷면': 12308, '으레': 12309, '하나쯤': 12310, '힛힛': 12311, '스튜디오': 12312, '정령': 12313, '이상인': 12314, '상수': 12315, '숙명': 12316, '들이밀': 12317, '욕실': 12318, '축약': 12319, '제로니모': 12320, '유명세': 12321, '김순옥': 12322, '유한': 12323, '코브': 12324, '고무': 12325, '자업자득': 12326, '진세연': 12327, '운동화': 12328, '이건영': 12329, '윌리엄': 12330, '이솝우화': 12331, '총집합': 12332, '총점': 12333, '정녕': 12334, '조두': 12335, '머큐리': 12336, '유인': 12337, '아프간': 12338, '제시간': 12339, '석기시대': 12340, '개황': 12341, '델마': 12342, '스탈린': 12343, '키리': 12344, '보비': 12345, '두서없': 12346, '강문영': 12347, '정정': 12348, '퉁퉁': 12349, '섀끼': 12350, '양민': 12351, '인민군': 12352, '다채': 12353, '아른거리': 12354, '샴쌍둥이': 12355, '감하': 12356, '콩가': 12357, '미래상': 12358, '리틀': 12359, '기연': 12360, '기위': 12361, '빅맥': 12362, '메어': 12363, '김주호': 12364, '괄호': 12365, '조영': 12366, '집계': 12367, '저조': 12368, '가망': 12369, '차경선': 12370, '합리': 12371, '발가락': 12372, '박정민': 12373, '리안': 12374, '끙': 12375, '정소': 12376, '착륙': 12377, '연잇': 12378, '앞내': 12379, '아미': 12380, '개학': 12381, '야채': 12382, '전포': 12383, '타고나': 12384, '파우스트': 12385, '덫': 12386, '색체': 12387, '어디': 12388, '얼릉': 12389, '마야': 12390, '설명서': 12391, '결재': 12392, '개살구': 12393, '도예': 12394, '김원희': 12395, '편승': 12396, '맹꽁': 12397, '신지': 12398, '등가': 12399, '내려지': 12400, '꺼이꺼이': 12401, '기러기': 12402, '정신혜': 12403, '승부사': 12404, '들일': 12405, 'pc': 12406, '축소판': 12407, '조총': 12408, '이수성': 12409, '미켈슨': 12410, '하남': 12411, '취리': 12412, '애견': 12413, '원정': 12414, '김형규': 12415, '동막': 12416, '대주': 12417, '개이득': 12418, '울프맨': 12419, '전립선': 12420, '시신': 12421, '꼴통': 12422, '간병인': 12423, '북극': 12424, '흩어지': 12425, '빗소리': 12426, '하인': 12427, '김지현': 12428, '점철': 12429, '세도': 12430, '기시감': 12431, '부귀영화': 12432, '중심적': 12433, '자꾸자꾸': 12434, '정겹': 12435, '스테이크': 12436, '붉은색': 12437, '상속자': 12438, '영채신': 12439, '변주': 12440, '서민정': 12441, '최정윤': 12442, '누명': 12443, '휘발': 12444, '제자리걸음': 12445, '간략': 12446, '알린': 12447, '비빔밥': 12448, '먹음직': 12449, '파스텔': 12450, '왕후': 12451, '성열': 12452, '인간극장': 12453, '그럴싸': 12454, '결론적': 12455, '비애': 12456, '라이온': 12457, '녜': 12458, '앵무새': 12459, '후레쉬': 12460, '터키': 12461, '복습': 12462, '판도': 12463, '형부': 12464, '버호벤': 12465, '급진': 12466, '팔씨름': 12467, '산맥': 12468, '박성호': 12469, '선동물': 12470, '가부': 12471, '도록': 12472, '우화': 12473, '싸움질': 12474, '섹슈얼': 12475, '평저': 12476, '망상이': 12477, '슬푸': 12478, '장위안': 12479, '전뇌': 12480, '일침': 12481, '표준': 12482, '로맨티스트': 12483, '기숙사': 12484, '낙서': 12485, '김득구': 12486, '결단': 12487, '깽깽이': 12488, '향상': 12489, '대량': 12490, '가호': 12491, '누더기': 12492, '베개': 12493, '강사': 12494, '오스트레일리아': 12495, '계약': 12496, '지난번': 12497, '가감': 12498, '반격': 12499, '맨발': 12500, '어여쁘': 12501, '오십': 12502, '감상적': 12503, '미우': 12504, '남자아이': 12505, '양악': 12506, '쥬스': 12507, '유심히': 12508, '한나': 12509, '진사': 12510, '현주소': 12511, '덤덤': 12512, '점말': 12513, '준이치': 12514, '깜깜': 12515, '스트라이커': 12516, '일박': 12517, '동남아': 12518, '이원': 12519, '이병': 12520, '세주': 12521, '졸개': 12522, '이승철': 12523, '학업': 12524, '둑': 12525, '경아': 12526, '화합': 12527, '레파토리': 12528, '템페스트': 12529, '스페인어': 12530, '개성파': 12531, '이수만': 12532, '위드': 12533, '뒤치닥거리': 12534, '이태원': 12535, '아프가니스탄': 12536, '정소영': 12537, '중국어': 12538, '사인': 12539, '붓다': 12540, '더기': 12541, '토종': 12542, '맥라이언': 12543, '느릿느릿': 12544, '오즈': 12545, '잠자리': 12546, '퍼트리': 12547, '유토피아': 12548, '장신': 12549, '미신': 12550, '실재': 12551, 'la': 12552, '전쯤': 12553, '만년필': 12554, '형언': 12555, '엘런': 12556, '몸부림치': 12557, '원칙': 12558, '와서': 12559, '엇비슷': 12560, '이장': 12561, '피자': 12562, '규현': 12563, '찔찔': 12564, '심해': 12565, '유타': 12566, '쫓아다니': 12567, '깊숙': 12568, 'ㄴㅁ': 12569, '성제': 12570, '마일리지': 12571, '속성': 12572, '잠식': 12573, '복싱': 12574, '지만진': 12575, '면역': 12576, '정반대': 12577, '정다빈': 12578, '사회자': 12579, '우리별': 12580, '옮': 12581, '생활비': 12582, '씨알': 12583, '아마겟돈': 12584, '화마': 12585, '난타': 12586, '갸륵': 12587, '들개': 12588, '구축': 12589, '공백': 12590, '다쿠': 12591, '세실': 12592, '순백': 12593, '향옥': 12594, '두산': 12595, '무상': 12596, '게살': 12597, '거물': 12598, '썩히': 12599, '회피': 12600, '신상': 12601, '크래커': 12602, '그리워하': 12603, '살살': 12604, '자리잡': 12605, '조소': 12606, '노처녀': 12607, '상우': 12608, '힐튼': 12609, '레몬': 12610, '날고기': 12611, '업자': 12612, '애널': 12613, '재고': 12614, '어웨이': 12615, '앎': 12616, '생김새': 12617, '동쪽': 12618, '까닭': 12619, '듀엣': 12620, '봉당': 12621, '메카닉': 12622, '길잡이': 12623, '부술': 12624, '울진': 12625, '족쇄': 12626, '불가사의': 12627, '거실': 12628, '엄습': 12629, '역력': 12630, '양대': 12631, '제목하': 12632, '자잘': 12633, '통과': 12634, '범하': 12635, '가늠': 12636, '저상': 12637, '특권': 12638, '무능력': 12639, '반함': 12640, '배짱이': 12641, '참대': 12642, '음악적': 12643, '테크닉': 12644, '작곡': 12645, '텅텅': 12646, '맞았어': 12647, '예이츠': 12648, '예리': 12649, '나체': 12650, '팁': 12651, '막가': 12652, '정신장애': 12653, '만연': 12654, '스킬': 12655, '고아': 12656, '가부장': 12657, '탱자': 12658, '심청이': 12659, '얌전': 12660, '동유럽': 12661, '유용하': 12662, '헬스장': 12663, '노랑머리': 12664, '오구리': 12665, '얼버무리': 12666, '악마적': 12667, '둘러보': 12668, '지지도': 12669, '철회': 12670, '고두심': 12671, '지라': 12672, '금순': 12673, '극우파': 12674, '외압': 12675, '돈까스': 12676, '이무영': 12677, '역설적': 12678, '쉐퍼드': 12679, '걸스': 12680, '유리창': 12681, '기침': 12682, '자본가': 12683, '사형수': 12684, '쉬이': 12685, '의자': 12686, '고행': 12687, '장발장': 12688, '통찰력': 12689, '회개': 12690, '유세': 12691, '억세': 12692, '구걸': 12693, '짜리몽땅': 12694, '강시영': 12695, '화중': 12696, '무의': 12697, '들어서': 12698, '창대': 12699, '휘트니': 12700, '스쿨': 12701, '연필': 12702, '송하': 12703, '인민': 12704, '괴팍': 12705, '의사소통': 12706, 'lg': 12707, '트윈스': 12708, '비단': 12709, '일수': 12710, '유적': 12711, '구출': 12712, '제천': 12713, '훑': 12714, '의료': 12715, '메가폰': 12716, '응사': 12717, '난데없이': 12718, '매달': 12719, '마술사': 12720, '최후진술': 12721, '불능': 12722, '숀코네리': 12723, '서예': 12724, '독일어': 12725, '취화선': 12726, '여의도': 12727, '와주': 12728, '번갈': 12729, '하주': 12730, '정신력': 12731, '식견': 12732, '감격시대': 12733, '시각장애인': 12734, '토키': 12735, '대진': 12736, '트렁크': 12737, '허리': 12738, '명쾌': 12739, '고한': 12740, '야그': 12741, '알라딘': 12742, '건축학': 12743, '개론': 12744, '김지훈': 12745, '초사': 12746, '이어인': 12747, '한명인': 12748, '말로': 12749, '신우': 12750, '악성': 12751, '음란물': 12752, '유포': 12753, '마코토': 12754, '베스트셀러': 12755, '깔깔거리': 12756, '연상하': 12757, '알레고리': 12758, '앵앵': 12759, '발싸개': 12760, '트라이': 12761, '불운': 12762, '전재': 12763, '용산': 12764, '부기': 12765, '지휘': 12766, '명월': 12767, '토익': 12768, '행진': 12769, '팩토리': 12770, '일자리': 12771, '체스터': 12772, '성차별': 12773, '저격범': 12774, '염병': 12775, '윙즈': 12776, '경선': 12777, '프랑스어': 12778, '엄기준': 12779, '꿋꿋': 12780, '계실': 12781, '해설자': 12782, '과격': 12783, '저리도': 12784, '적요': 12785, '과다': 12786, '사마리아': 12787, '조위': 12788, '최다': 12789, '설탕': 12790, '읊': 12791, '나위': 12792, '분풀이': 12793, '잉그리드': 12794, '갈대': 12795, '부흥': 12796, '플랜': 12797, '모욕적': 12798, '수확': 12799, '하느님': 12800, '연의': 12801, '오그리': 12802, '데이즈': 12803, '참되': 12804, '붕붕': 12805, '갤럭시': 12806, '카톡': 12807, '항쟁': 12808, '햅번': 12809, '아우르': 12810, '무감각': 12811, '브라우닝': 12812, '긴지': 12813, '장농': 12814, '기자단': 12815, '할매': 12816, '배우중': 12817, '김수환': 12818, '수호천사': 12819, '무자': 12820, '일위': 12821, '가해': 12822, '튼실': 12823, '대리운전': 12824, '설수': 12825, '안양': 12826, '판명': 12827, '면죄부': 12828, '판도라': 12829, '마존': 12830, '여가': 12831, '대종상': 12832, '들먹이': 12833, '프로이트': 12834, '융': 12835, '명목하': 12836, '쏘리': 12837, '다이아나': 12838, '통조림': 12839, '술래잡기': 12840, '연륜': 12841, '의뢰': 12842, '연장선': 12843, '놓이': 12844, '중명': 12845, '전해진': 12846, '대보': 12847, '주무': 12848, '패배자': 12849, '아란': 12850, '할랑': 12851, '소카': 12852, '븅': 12853, '최하급': 12854, '스러워': 12855, '이정태': 12856, '욥': 12857, '경쟁력': 12858, '신사참배': 12859, '뜻밖': 12860, '곡성': 12861, '깔깔깔': 12862, '단호': 12863, '정의감': 12864, '남녀노소': 12865, '공주인': 12866, '인간쓰레기': 12867, '목수': 12868, '여파': 12869, '찌찌': 12870, '무자비': 12871, '장님': 12872, '입도': 12873, '대기': 12874, '연기덕': 12875, '외딴': 12876, '긴급': 12877, '까놓': 12878, '타운': 12879, '골드버그': 12880, '웃통': 12881, '하연수': 12882, '허스키': 12883, '딛': 12884, '무선': 12885, '학위': 12886, '블랙잭': 12887, '연휴': 12888, '개털': 12889, '밍크코트': 12890, '탈옥': 12891, '와아아': 12892, '후다닥': 12893, '오크': 12894, '끌어당기': 12895, '연극적': 12896, '신전': 12897, '월급': 12898, '건축물': 12899, '후드': 12900, '초코': 12901, '유교': 12902, '중앙': 12903, '역사관': 12904, '선량': 12905, '커튼': 12906, '데보라': 12907, '아군': 12908, '나부': 12909, '표지': 12910, '오드리': 12911, '볶': 12912, '오비완': 12913, '요다': 12914, '히스테리': 12915, '연적': 12916, '자연재해': 12917, '심경': 12918, '소홀': 12919, '해명': 12920, '친자': 12921, '태클': 12922, '강성진': 12923, '미저리': 12924, '격언': 12925, '막스': 12926, '관왕': 12927, '친가': 12928, '침치': 12929, '치루': 12930, '요동치': 12931, '기장': 12932, '알렉산드라': 12933, '제어': 12934, '도연': 12935, '큰아이': 12936, '헤이든': 12937, '에오': 12938, '악어': 12939, '유저': 12940, '유의미': 12941, '이천희': 12942, '변호': 12943, '수련회': 12944, '오전': 12945, '루고': 12946, '탱': 12947, '클로버': 12948, '박진우': 12949, '서영': 12950, '딴지': 12951, '이구': 12952, '스펙트럼': 12953, '인관': 12954, '진관희': 12955, '전광렬': 12956, '선보이': 12957, '가져가': 12958, '더록': 12959, '여인천': 12960, '조아라': 12961, '베르메르': 12962, '선리': 12963, '쿵후': 12964, '쬐': 12965, '서울극장': 12966, '전도현': 12967, '윤회': 12968, '비닐봉지': 12969, '울먹이': 12970, '파이어': 12971, '골디': 12972, '태권도': 12973, '가오': 12974, '음수': 12975, '안톤': 12976, '으헝': 12977, '하리수': 12978, '폴라': 12979, '여민정': 12980, '구기': 12981, '아브라': 12982, '여장': 12983, '불충분': 12984, '꼬락서니': 12985, '흑흑흑': 12986, '하야': 12987, '요악': 12988, '신입': 12989, '곧이': 12990, '요상': 12991, '충고': 12992, '연극배우': 12993, '불량품': 12994, '귀중': 12995, '자우': 12996, '철학도': 12997, '흥신소': 12998, '불상': 12999, '용쟁호투': 13000, '막론': 13001, '섬칫': 13002, '메르스': 13003, '건축가': 13004, '케이크': 13005, '살며시': 13006, '김지석': 13007, '이혼녀': 13008, '비범': 13009, '기억상실증': 13010, '공항': 13011, '승질': 13012, '영창': 13013, '피나': 13014, '원시': 13015, '페루': 13016, '고결': 13017, '힝': 13018, '마가렛': 13019, '인질극': 13020, '이러나': 13021, '변기': 13022, '끝내기': 13023, '이웃집': 13024, '가대': 13025, '예성': 13026, '진지희': 13027, '티스푼': 13028, '육상': 13029, '거룩': 13030, '고영화': 13031, '털털': 13032, '흐릿': 13033, '연주하': 13034, '헌사': 13035, '소설책': 13036, '구관': 13037, '명관': 13038, '후시녹음': 13039, '올곧': 13040, '핵무기': 13041, '시은': 13042, '죄와벌': 13043, '남장': 13044, '크리스토프': 13045, '링크': 13046, '스틱': 13047, '임주환': 13048, '낙지': 13049, '뒤집어쓰': 13050, '폐륜': 13051, '지난영': 13052, '가상현실': 13053, '유명인': 13054, '내숭': 13055, '억측': 13056, '옥보단': 13057, '춘향이': 13058, '남부': 13059, '펠레': 13060, '영원불멸': 13061, '확대재생산': 13062, '이영환': 13063, '배설': 13064, '우짜': 13065, '일기장': 13066, '단상': 13067, '떨기': 13068, '따라잡': 13069, '폐가': 13070, '헤드윅': 13071, '근사': 13072, '종이컵': 13073, '마루타': 13074, '선고': 13075, '양념': 13076, '꼭두각시': 13077, '말살': 13078, '장면중': 13079, '감초': 13080, '볼프강': 13081, '맞장': 13082, '짬밥': 13083, '신앙심': 13084, '헌팅': 13085, '도열': 13086, '패자부활전': 13087, '포켓몬스터': 13088, '무참히': 13089, '체취': 13090, '떠다니': 13091, '라스베가스': 13092, '진상': 13093, '왕십리': 13094, '인사이드': 13095, '악화': 13096, '총평': 13097, '무내용': 13098, '마춰': 13099, '조센징': 13100, '대입': 13101, '잉글랜드': 13102, '원상복': 13103, '투철': 13104, '항체': 13105, '자기자': 13106, '잘라먹': 13107, '등골': 13108, '스캇': 13109, '청부': 13110, '성서': 13111, '앳킨슨': 13112, '말콤': 13113, '공기인': 13114, '쿨한': 13115, '보복': 13116, '코르': 13117, '교실': 13118, '불새': 13119, '벼슬': 13120, '수험': 13121, '마츠모토': 13122, '재클린': 13123, '적군': 13124, '약소국': 13125, '민세연': 13126, '세바스찬': 13127, '청승': 13128, '가로': 13129, '족구': 13130, '속되': 13131, '윤주': 13132, '에볼라': 13133, '큭': 13134, '텔': 13135, '서글': 13136, '젖몸살': 13137, '핵폐기물': 13138, '괜시리': 13139, '능멸': 13140, '명동': 13141, '덕환': 13142, '상냥': 13143, '럭키': 13144, '열대야': 13145, '빙': 13146, '트레이시': 13147, '동정심': 13148, '장자': 13149, '개츠비': 13150, '그릇되': 13151, '김소현': 13152, '드라이버': 13153, '멜랑콜리': 13154, '이다지': 13155, '끌어안': 13156, '옥정': 13157, '장희빈': 13158, '넉넉': 13159, '아이보리': 13160, '차암': 13161, '외도': 13162, '이마': 13163, '포주': 13164, '후레시': 13165, '퀼트': 13166, '해람': 13167, '실행': 13168, '압박하': 13169, '상위권': 13170, '유유': 13171, '뽀개': 13172, '침해': 13173, '위법': 13174, '창시자': 13175, '고비': 13176, '공연장': 13177, '저가': 13178, '일심동체': 13179, '마틸다': 13180, '광개토대왕': 13181, '빈라덴': 13182, '은신처': 13183, '김종국': 13184, '고등': 13185, '하교': 13186, '구멍가게': 13187, '주소': 13188, '닉슨': 13189, '맹글': 13190, '포맷': 13191, '암흑기': 13192, '김민수': 13193, '코니': 13194, '베타': 13195, '성실': 13196, '알프레드': 13197, '정철민': 13198, '중화사상': 13199, '헝거': 13200, '굳히기': 13201, '짭새': 13202, '칙': 13203, '오합지졸': 13204, '홧병': 13205, '부서': 13206, '깊숙히': 13207, '중가': 13208, '전영록': 13209, '촬영장': 13210, '조윤희': 13211, '업계': 13212, '세경': 13213, '억압적': 13214, '스탠드': 13215, '집요': 13216, '문득문득': 13217, '요망': 13218, '일차원적': 13219, '올리비에': 13220, '탄': 13221, '맥도날드': 13222, '루마니아': 13223, '신보라': 13224, '친근감': 13225, '국정원장': 13226, '생활상': 13227, '시대인': 13228, '군번': 13229, '임파서블': 13230, '연상연': 13231, '조선인': 13232, '한해': 13233, '기획사': 13234, '간도': 13235, '정선희': 13236, '커리어': 13237, '세월호': 13238, '얇': 13239, '국영': 13240, '버그만': 13241, '다릴': 13242, '후생': 13243, '방구': 13244, '하반기': 13245, '한뜻': 13246, '가차': 13247, '은장': 13248, '카르텔': 13249, '황태자': 13250, '처사': 13251, '화하': 13252, '명성황후': 13253, '광산': 13254, '정치판': 13255, '한집': 13256, '뒤집히': 13257, '국극': 13258, '명심': 13259, '김재규': 13260, '네오': 13261, '삼각': 13262, '으아아악': 13263, '내밀': 13264, '토드': 13265, '카운터': 13266, '퇴폐': 13267, '세계사': 13268, '전아': 13269, '봄여름': 13270, '뒤돌': 13271, '평탄': 13272, '원시적': 13273, '무이': 13274, '마음먹': 13275, '당산': 13276, '선남선녀': 13277, '얻어터지': 13278, '짤리': 13279, '민주': 13280, '만기': 13281, '개심': 13282, '장길산': 13283, '트윈': 13284, '토크': 13285, '기미': 13286, '고정관념': 13287, '태고': 13288, '증권투자': 13289, '한동': 13290, '준엄': 13291, '대게': 13292, '방금보': 13293, '촬영지': 13294, '여년': 13295, '내쉬': 13296, '앵앵거리': 13297, '세진': 13298, '몰려오': 13299, '대어': 13300, '베트남전쟁': 13301, '여관방': 13302, '온실효과': 13303, '김명곤': 13304, '나락': 13305, '진짜루': 13306, '산삼': 13307, '하수오': 13308, '배설물': 13309, '의문점': 13310, '지자': 13311, '빠돌이': 13312, '성에': 13313, '허가': 13314, '유청': 13315, '아로': 13316, '제자리': 13317, '빨갛': 13318, '위배': 13319, '집어치우': 13320, '김성수': 13321, '우다': 13322, '민수': 13323, '약발': 13324, '유일무': 13325, '이태백': 13326, '박하사탕': 13327, '다카': 13328, '애드립': 13329, '글래디에이터': 13330, '소말리아': 13331, '최신작': 13332, '추접': 13333, '생연': 13334, '예에': 13335, '성진국': 13336, '오른손': 13337, '진가신': 13338, '발기부전': 13339, '악물': 13340, '타협': 13341, '생고': 13342, '모지라': 13343, '관망': 13344, '전성시대': 13345, '은중': 13346, '코트': 13347, '자폐': 13348, '속출': 13349, '체질': 13350, '반박': 13351, '입소': 13352, '슬럼': 13353, '고흐': 13354, '비니': 13355, '김민선': 13356, '매니지먼트': 13357, '허허벌판': 13358, '바라바': 13359, '런어웨이': 13360, '나노': 13361, '넘나들': 13362, '집중적': 13363, '송현': 13364, '호쾌': 13365, '순대': 13366, '배지': 13367, '팔색조': 13368, '오진우': 13369, '엔젤': 13370, '절단': 13371, '임의로': 13372, '판례': 13373, '순환선': 13374, '지면': 13375, '혁명가': 13376, '다홍': 13377, '멱살잡': 13378, '글로브': 13379, '강인': 13380, '질르': 13381, '말순': 13382, '천도': 13383, '요나': 13384, '깽': 13385, '흉작': 13386, '오지': 13387, '하모': 13388, '프린세스': 13389, '일렁이': 13390, '이수': 13391, '고삐리': 13392, '사샤': 13393, '개간': 13394, '탈옥수': 13395, '투정': 13396, '순례자': 13397, '시끌벅적': 13398, '어불성설': 13399, '난처': 13400, '김영호': 13401, '어벤저스': 13402, '알렉산더': 13403, '으잉': 13404, '간판': 13405, '공쿠르상': 13406, '차츰차츰': 13407, '고딕소설': 13408, '비디오테이프': 13409, '가위손': 13410, '개지': 13411, '무조건적': 13412, '한국민': 13413, '신봉': 13414, '따스함': 13415, '류현진': 13416, '보노': 13417, '죄인': 13418, '상말': 13419, '급무': 13420, '하자': 13421, '기담': 13422, '어번': 13423, '와하하하': 13424, '질풍노도': 13425, '클러치': 13426, '막장일': 13427, '방송반': 13428, '헉헉': 13429, '을지': 13430, '젝스키스': 13431, '성악가': 13432, '묵인': 13433, '허무감': 13434, '무언': 13435, '메시아': 13436, '전재홍': 13437, '월레스': 13438, '건더기': 13439, '전도사': 13440, '최윤희': 13441, '히로시': 13442, '부릅': 13443, '완이': 13444, '세상일': 13445, '매운맛': 13446, '동아시아': 13447, '마키나': 13448, '안드로이드': 13449, '봄바람': 13450, '긍지': 13451, '볼품없': 13452, '재흥': 13453, '오나미': 13454, '간질병': 13455, '조개': 13456, '지영민': 13457, '기고': 13458, '일면': 13459, '와치맨': 13460, '박소연': 13461, '정희태': 13462, '콘돔': 13463, '어버지': 13464, '바퀴벌레': 13465, '과부': 13466, '험담': 13467, '핀잔주': 13468, '투지': 13469, '타탄': 13470, '수더분': 13471, '저널리스트': 13472, '얼씬': 13473, '킥킥': 13474, '살갗': 13475, '폴더': 13476, '꼴값': 13477, '조안나': 13478, '의기투합': 13479, '삼바': 13480, '킹카': 13481, '보병': 13482, '카빈': 13483, '기병': 13484, '두건': 13485, '개미집': 13486, '주요소': 13487, '주역': 13488, '양상국': 13489, '어한': 13490, '귀남이': 13491, '후남': 13492, '선거': 13493, '반달리즘': 13494, '해양': 13495, '차현지': 13496, '연길': 13497, '구더기': 13498, '스웨이지': 13499, '이건희': 13500, '연기호': 13501, '송원': 13502, '간기': 13503, '산림욕': 13504, '박해미': 13505, '라거': 13506, '면접': 13507, '총부림': 13508, '난투극': 13509, '무속인': 13510, '김금화': 13511, '똥침': 13512, '황학동': 13513, '신설동': 13514, '거주자': 13515, '시달': 13516, '황음': 13517, '폭정': 13518, '병따개': 13519, '약화': 13520, '교주': 13521, '귀염둥이': 13522, '불법체류': 13523, '이성룡': 13524, '게이코': 13525, '백백': 13526, '교의': 13527, '음험': 13528, '충충': 13529, '울컥울컥': 13530, '전회': 13531, '명필름': 13532, '심재명': 13533, '탁의': 13534, '간식': 13535, '보그': 13536, '정구': 13537, '미성숙': 13538, '근자': 13539, '정훈': 13540, '재조명': 13541, '미주': 13542, '김선영': 13543, '위반': 13544, '철컹철컹': 13545, '리라': 13546, '쓸어내리': 13547, '불황': 13548, '캐피탈': 13549, '원서': 13550, '꼴사납': 13551, '데인즈': 13552, '환하': 13553, '고수남': 13554, '고부': 13555, '월척': 13556, '뜨뜻': 13557, '프라임': 13558, '헌신짝': 13559, '영채': 13560, '비전문가': 13561, '문영남': 13562, '한과': 13563, '메인주': 13564, '손수': 13565, '까마득히': 13566, '울보': 13567, '김유': 13568, '석소룡': 13569, '소자': 13570, '촌지': 13571, '윌리': 13572, '제현': 13573, '껄렁패': 13574, '아라비안': 13575, '아휘': 13576, '흐리멍텅': 13577, '삐까번쩍': 13578, '차일드': 13579, '크으': 13580, '킹스': 13581, '롤링': 13582, '한탕': 13583, '석훈': 13584, '선구': 13585, '조정중': 13586, '스필버그식': 13587, '최강수': 13588, '쵸콜릿': 13589, '놀림거리': 13590, '현대극': 13591, '후유': 13592, '난방비': 13593, '격동': 13594, '이세창': 13595, '이원화': 13596, '잔다르크': 13597, '대조적': 13598, '오롯이': 13599, '텍스트': 13600, '전지전능': 13601, '김현숙': 13602, '원정대': 13603, '라틴': 13604, '에끼': 13605, '부에노스': 13606, '확률': 13607, '심현섭': 13608, '조선소': 13609, '지난해': 13610, '수주': 13611, '다남': 13612, '입관': 13613, '전무': 13614, '이여진': 13615, '애완견': 13616, '미경': 13617, '오늘내일': 13618, '스크랩': 13619, '루루': 13620, '번치': 13621, '초치': 13622, '황산벌': 13623, '번쩍번쩍': 13624, '필링': 13625, '병마용': 13626, '아리엘': 13627, '넘실거리': 13628, '염두': 13629, '이양': 13630, '냠': 13631, '나뭇가지': 13632, '뚱보': 13633, '관람료': 13634, '당나귀': 13635, '지겨워하': 13636, '뚝딱': 13637, '손호준': 13638, '집약': 13639, '관련하': 13640, '덴마크인': 13641, '부아': 13642, '근로자': 13643, '유린': 13644, '정선': 13645, '기능적': 13646, '지상학': 13647, '기저귀': 13648, '헌정': 13649, '세레나데': 13650, '방탄복': 13651, '방종': 13652, '똘이': 13653, '땡초': 13654, '이외수': 13655, '손톱': 13656, '폭포': 13657, '계곡': 13658, '유경': 13659, '사로잡히': 13660, '시계': 13661, '거개': 13662, '희준': 13663, '톨스토이': 13664, '베어': 13665, '원결': 13666, '제해': 13667, '가위춤': 13668, '신주아': 13669, '남성중': 13670, '복구풍': 13671, '오스틴': 13672, '각박': 13673, '집필': 13674, '틀이': 13675, '전문연': 13676, '잿빛': 13677, '이종인': 13678, '회임': 13679, '높히': 13680, '트랜드': 13681, '자리매김': 13682, '신춘': 13683, '모녀지간': 13684, '오만석': 13685, '불어오': 13686, '멋들어지': 13687, '에따': 13688, '의논': 13689, '추궁': 13690, '백상아리': 13691, '천인공노': 13692, '자손만대': 13693, '점보': 13694, '패권주의': 13695, '옳지': 13696, '샐러리맨': 13697, '굴뚝': 13698, '행선지': 13699, '사우스': 13700, '홀로서기': 13701, '둥둥': 13702, '달레': 13703, '일의': 13704, '총의': 13705, '겨울밤': 13706, '폐하': 13707, '짜부러들': 13708, '급습': 13709, '전명': 13710, '이일수': 13711, '베이스': 13712, '볼펜': 13713, '케이티': 13714, '줄무늬': 13715, '파자마': 13716, '증폭': 13717, '모니터링': 13718, '기성세대': 13719, '몽둥이질': 13720, '꾸어': 13721, '의족': 13722, '목발': 13723, '맛보기': 13724, '타깃': 13725, '재연': 13726, '북부': 13727, '배달부': 13728, '박멸': 13729, '도르': 13730, '케일': 13731, '섭섭': 13732, '고십': 13733, '아연': 13734, '이색': 13735, '앞일': 13736, '박명수': 13737, '약사': 13738, '신대륙': 13739, '식탐': 13740, '짜샤': 13741, '더듬': 13742, '화씨': 13743, '효율': 13744, '찬찬히': 13745, '외래어': 13746, '표기법': 13747, '완패': 13748, '우물가': 13749, '숭늉': 13750, '데미지': 13751, '글마': 13752, '백인대': 13753, '통화': 13754, '장애란': 13755, '덥히': 13756, '서계': 13757, '마더퍼커': 13758, '격렬히': 13759, '본상': 13760, '태인': 13761, '사방': 13762, '드넓': 13763, '식민지화': 13764, '메뚜기': 13765, '혹자': 13766, '영빈': 13767, '호형호제': 13768, '들들': 13769, '로마인': 13770, '투구': 13771, '현준과': 13772, '절제미': 13773, '주사위': 13774, '리바운드': 13775, '프라하': 13776, '똥줄': 13777, '고스란': 13778, '조망': 13779, '크라이스트': 13780, '산사람': 13781, '자수성가': 13782, '포레': 13783, '부질': 13784, '화차': 13785, '발보아': 13786, '건포도': 13787, '불인': 13788, '이종현': 13789, '여성임': 13790, '마음가짐': 13791, '근원지': 13792, '탄저균': 13793, '싸진': 13794, '잡인': 13795, '섹션': 13796, '스스럼없이': 13797, '미확인': 13798, '짜증내': 13799, '사부곡': 13800, '학도병': 13801, '별똥': 13802, '겨울연가': 13803, '덜덜덜': 13804, '혼마': 13805, '바레': 13806, '토너먼트': 13807, '카프': 13808, '임은경': 13809, '허우적대': 13810, '광학': 13811, '의장': 13812, '거론': 13813, '반대일': 13814, '아주까리': 13815, '라흐마니노프': 13816, '연주곡': 13817, '생화학': 13818, '끌어대': 13819, '앤간': 13820, '필터링': 13821, '중수': 13822, '원탁': 13823, '배어나': 13824, '시실리': 13825, '선세': 13826, '내셔널': 13827, '이유미': 13828, '전래': 13829, '얼토당토': 13830, '바토': 13831, '진퇴양난': 13832, '고난도': 13833, '이어가기': 13834, '어두침침': 13835, '틈타': 13836, '보모': 13837, '해매': 13838, '살림살이': 13839, '진급': 13840, '징계': 13841, '찔끔거리': 13842, '삼장': 13843, '마그나': 13844, '노우진': 13845, '정복자': 13846, '선전물': 13847, '이현실': 13848, '태엽': 13849, '독자적': 13850, '김기영': 13851, '나도영': 13852, '끌려오': 13853, '디즈니사': 13854, '키아로스타미': 13855, '안간힘': 13856, '볼썽': 13857, '주덕': 13858, '지뢰밭': 13859, '이물감': 13860, '대동법': 13861, '북방': 13862, '발호': 13863, '심시티': 13864, '군입': 13865, '오마이': 13866, '몽실몽실': 13867, '여운성': 13868, '완급': 13869, '차돌': 13870, '애타': 13871, '번천': 13872, '한성': 13873, '당치': 13874, '토토로': 13875, '유기적': 13876, '장기판': 13877, '물러나': 13878, '재민': 13879, '픽처': 13880, '옮겨가': 13881, '흡족': 13882, '푼수': 13883, '그라운드': 13884, '고견': 13885, '임용': 13886, '버블': 13887, '와타': 13888, '알제리': 13889, '광고지': 13890, '교토': 13891, '망또': 13892, '들어차': 13893, '지엄': 13894, '질투심': 13895, '공로': 13896, '혜빈': 13897, '자루': 13898, '뒤바뀌': 13899, '헤메': 13900, '천제': 13901, '비관': 13902, '농밀': 13903, '강우진': 13904, '파이브': 13905, '별감': 13906, '의임': 13907, '우겨': 13908, '새장': 13909, '기오': 13910, '현태': 13911, '찔끔찔끔': 13912, '배워가': 13913, '덕지덕지': 13914, '하얀색': 13915, '약국집': 13916, '허물없이': 13917, '케이츠': 13918, '여진족': 13919, '훈족': 13920, '하와이': 13921, '딱지치기': 13922, '르노와르': 13923, '수중': 13924, '게르만족': 13925, '각배': 13926, '역마': 13927, '황토색': 13928, '태닝': 13929, '내원': 13930, '자유의지': 13931, '유형': 13932, '섭씨': 13933, '대발': 13934, '재임': 13935, '이름표': 13936, '때기': 13937, '릴로': 13938, '고블린': 13939, '대선': 13940, '이승희': 13941, '낄낄낄낄': 13942, '아톤': 13943, '노골화': 13944, '이소령': 13945, '이중주': 13946, '나긋나긋': 13947, '해주': 13948, '왜소': 13949, '들추': 13950, '튜브': 13951, '떨거지': 13952, '적적': 13953, '사항': 13954, '지체': 13955, '간질': 13956, '형재': 13957, '기대작': 13958, '미착용': 13959, '단속': 13960, '공인': 13961, '사우나': 13962, '넥스트': 13963, '배팅': 13964, '피자헛': 13965, '전면전': 13966, '전용택': 13967, '구구구': 13968, '미연방': 13969, '찬성자': 13970, '이사벨': 13971, '아옌데': 13972, '뮤즈': 13973, '세의': 13974, '아시면': 13975, '불어넣': 13976, '죠지': 13977, '밀어내': 13978, '믹싱': 13979, '승무원': 13980, '어렴풋': 13981, '애액': 13982, '지끈지끈': 13983, '탄성': 13984, '남신': 13985, '면목': 13986, '열애': 13987, '절판': 13988, '아슬하': 13989, '떵떵': 13990, '반발': 13991, '관서본': 13992, '이궁': 13993, '마침내': 13994, '전원주택': 13995, '들여놓': 13996, '로브': 13997, '미얀마': 13998, '군부': 13999, '국명': 14000, '회원': 14001, '매입': 14002, '바둑판': 14003, '태극권': 14004, '중력': 14005, '파국': 14006, '애달프': 14007, '습득': 14008, '에헤': 14009, '논문': 14010, '둘재': 14011, '우고': 14012, '사그러들': 14013, '고속도로': 14014, '하층민': 14015, '걸구': 14016, '코리안': 14017, '스몰': 14018, '마개': 14019, '바리': 14020, '스위트룸': 14021, '붕대': 14022, '띠동갑': 14023, '은지원': 14024, '카를': 14025, '우헤헤헤': 14026, '유아기': 14027, '후기작': 14028, '부스러기': 14029, '금산': 14030, '현인정': 14031, '합장': 14032, '영외': 14033, '강동석': 14034, '하영춘': 14035, '암캐': 14036, '우월주의자': 14037, '채기': 14038, '카랑': 14039, '조유영': 14040, '위성채': 14041, '임꺽정': 14042, '암행어사': 14043, '출두': 14044, '몰이해': 14045, '기본위': 14046, '좌우': 14047, '재등록': 14048, '해신': 14049, '조선왕조': 14050, '자주적': 14051, '지유': 14052, '영화당': 14053, '수필': 14054, '역하': 14055, '개죽음': 14056, '키포인트': 14057, '핵전쟁': 14058, '유성': 14059, '대기오염': 14060, '탈레스': 14061, '수비': 14062, '마토': 14063, '떽': 14064, '졸부': 14065, '냉혈동물': 14066, '혁재': 14067, '훅훅': 14068, '시황': 14069, '음양': 14070, '극동': 14071, '기협': 14072, '화원': 14073, '굴러먹': 14074, '인재': 14075, '브리티시': 14076, '인베이젼': 14077, '돌기': 14078, '너절': 14079, '참도': 14080, '왜낫': 14081, '정석적': 14082, '소프트웨어': 14083, '어는': 14084, '노림수': 14085, '신정환': 14086, '영화상': 14087, '매점': 14088, '칼로리': 14089, '야식': 14090, '코메디물': 14091, '안동': 14092, '후반기': 14093, '혜수': 14094, '받이': 14095, '비디오점': 14096, '저라': 14097, '석권하': 14098, '병역거부': 14099, '서성이': 14100, '운동장': 14101, '뛰어놀': 14102, '곁가지': 14103, '상종': 14104, '노르망디': 14105, '정박': 14106, '개제': 14107, '어짜': 14108, '깔때': 14109, '들이닥치': 14110, '쓸데': 14111, '이소정': 14112, '남주아': 14113, '쏙쏙': 14114, '잉그리쉬': 14115, '섬광': 14116, '난봉': 14117, '미라클': 14118, '고임': 14119, '샌드': 14120, '최상현': 14121, '행동인': 14122, '접히': 14123, '염전': 14124, '풍습': 14125, '먹이사슬': 14126, '무가치': 14127, '분칠': 14128, '삐뚤빼뚤': 14129, '천극': 14130, '떼거지': 14131, '가이드북': 14132, '리바이벌': 14133, '영장': 14134, '허석': 14135, '쫄리': 14136, '험악': 14137, '음해': 14138, '성내': 14139, '사실주의': 14140, '위해조': 14141, '발칸': 14142, '펠리니': 14143, '맥카프리': 14144, '이탈리안': 14145, '시집가': 14146, '스피어스': 14147, '쪼들리': 14148, '위로금': 14149, '도가': 14150, '순둥이': 14151, '마응로': 14152, '혹여': 14153, '나이트클럽': 14154, '다가서': 14155, '게정': 14156, '이얘기': 14157, '양녕대군': 14158, '행복감': 14159, '지목': 14160, '품성': 14161, '김집': 14162, '시큰': 14163, '경최': 14164, '옆구리': 14165, '가득히': 14166, '열렬히': 14167, '자그마': 14168, '텃밭': 14169, '개편': 14170, '불보': 14171, '길소뜸': 14172, '자못': 14173, '이포': 14174, '근이': 14175, '강한성': 14176, '향의': 14177, '북대': 14178, '샤우팅': 14179, '처자': 14180, '졸음운전': 14181, '과학기술': 14182, '모라토리엄': 14183, '제동': 14184, '어화': 14185, '고기잡이': 14186, '퇴마사': 14187, '유럽어': 14188, '속옷': 14189, '과음': 14190, '게워': 14191, '해장술': 14192, '동엽': 14193, '유미영': 14194, '대거': 14195, '마다운': 14196, '태평양': 14197, '실랑이': 14198, '허트로': 14199, '선댄스': 14200, '생시': 14201, '윤유선': 14202, '잡음': 14203, '지만영': 14204, '무화': 14205, '핫바': 14206, '평지': 14207, '낸시': 14208, '추종': 14209, '성용': 14210, '기진하': 14211, '수형': 14212, '차분히': 14213, '부분전': 14214, '거시적': 14215, '빛줄기': 14216, '여성환': 14217, '국대': 14218, '복서': 14219, '형용': 14220, '객실': 14221, '철도청': 14222, '공급': 14223, '플랫': 14224, '타임스': 14225, '풍덩': 14226, '김영철': 14227, '수레': 14228, '부딪히': 14229, '화염': 14230, '오바마': 14231, '종점': 14232, '샐러맨더': 14233, '자음': 14234, '이해부': 14235, '에익': 14236, '박찬': 14237, '여성학': 14238, '피학': 14239, '음영': 14240, '불굴': 14241, '집대성': 14242, '싸랑': 14243, '상주': 14244, '최저임금': 14245, '계좌': 14246, '스마일': 14247, '유망주': 14248, '혜가': 14249, '풀하우스': 14250, '내구': 14251, '공동체': 14252, '송혜': 14253, '피티': 14254, '힘껏': 14255, '송희진': 14256, '여지없': 14257, '윤주희': 14258, '고부간': 14259, '상담소': 14260, '할렐루야': 14261, '문신': 14262, '연공': 14263, '박그네': 14264, '수표': 14265, '푸드': 14266, '롱런': 14267, '공론': 14268, '이판': 14269, '쓰레기장': 14270, '고대소설': 14271, '우연성': 14272, '원동력': 14273, '행크': 14274, '리우': 14275, '콩알': 14276, '지집년': 14277, '설설': 14278, '박원숙': 14279, '페트': 14280, '레이버': 14281, '출간': 14282, '수경': 14283, '사각모': 14284, '조조할인': 14285, '면회': 14286, '랜스': 14287, '베르톨루치': 14288, '강약': 14289, '체커': 14290, '물밑': 14291, '분포도': 14292, '흰머리': 14293, '소꿉놀이': 14294, '헬로': 14295, '동태': 14296, '술주정': 14297, '극빈': 14298, '양선화': 14299, '귀족계급': 14300, '정력': 14301, '땀범벅': 14302, '작곡가': 14303, '담비': 14304, '순발력': 14305, '패자': 14306, '한지섭': 14307, '퍼붓': 14308, '감청': 14309, '화예': 14310, '보조개': 14311, '발목': 14312, '아쿠아리움': 14313, '패왕': 14314, '막강': 14315, '분전': 14316, '하신덕': 14317, '옥수역': 14318, '맥주병': 14319, '조반': 14320, '재질': 14321, '꽁치': 14322, '장재인': 14323, '서문': 14324, '마사오': 14325, '이극': 14326, '장판': 14327, '골목길': 14328, '깡패수업': 14329, '봄방학': 14330, '냉탕': 14331, '온탕': 14332, '자유로이': 14333, '쇼핑몰': 14334, '유인하': 14335, '숨넘어가': 14336, '생태': 14337, '은공': 14338, '돌발': 14339, '면장': 14340, '흘러넘치': 14341, '유우머': 14342, '허구적': 14343, '망사': 14344, '수도업': 14345, '진영오': 14346, '유실': 14347, '섬마을': 14348, '분쟁': 14349, '미지수': 14350, '숭실대': 14351, '기념관': 14352, '신생': 14353, '굴직': 14354, '급격': 14355, '서당': 14356, '격조': 14357, '구월': 14358, '담여': 14359, '주차': 14360, '면박': 14361, '프렌들리': 14362, '정책과': 14363, '친서': 14364, '현존': 14365, '역사물': 14366, '백지화': 14367, '원쑤': 14368, '섀넌': 14369, '의붓': 14370, '전윤수': 14371, '미인도': 14372, '강지석': 14373, '첩': 14374, '고이종': 14375, '도도': 14376, '박순희': 14377, '호르몬': 14378, '난화': 14379, '비지스': 14380, '감옥소': 14381, '속임수': 14382, '열하': 14383, '이원규': 14384, '기본서': 14385, '김전일': 14386, '척척': 14387, '문체': 14388, '사카모토': 14389, '지휘하': 14390, '무법자': 14391, '벤틀리': 14392, '중앙대학': 14393, '새파랗': 14394, '영민이': 14395, '산호': 14396, '진호': 14397, '결만': 14398, '물때': 14399, '발소리': 14400, '관능': 14401, '옥토': 14402, '원만': 14403, '맹추': 14404, '해코지': 14405, '맘마': 14406, '수식어구': 14407, '찡그리': 14408, '가버리': 14409, '몽족': 14410, '민주당': 14411, '탑스': 14412, '꺾지': 14413, '방은진': 14414, '석총': 14415, '월하': 14416, '일렬횡대': 14417, '효림': 14418, '방바닥': 14419, '껌': 14420, '발언': 14421, '로베르토': 14422, '스탠다드': 14423, '계란': 14424, '으깨': 14425, '차빌': 14426, '산업화': 14427, '독점': 14428, '도주': 14429, '교류': 14430, '등돌': 14431, '아악': 14432, '레퀴엠': 14433, '고만고만': 14434, '칼럼': 14435, '시미즈': 14436, '공지철': 14437, '급여': 14438, '미술상': 14439, '침략제국': 14440, '아쉬워하': 14441, '협찬': 14442, '오븐': 14443, '생일날': 14444, '냉대': 14445, '손가락질': 14446, '푱': 14447, '오른': 14448, '고현실': 14449, '에픽': 14450, '꼭지': 14451, '그라고': 14452, '간절히': 14453, '지평': 14454, '따사': 14455, '자작곡': 14456, '자보': 14457, '김경식': 14458, '수연': 14459, '쌈장': 14460, '루디': 14461, '부흥기': 14462, '분분': 14463, '헥헥': 14464, '집들이': 14465, '장현철': 14466, '삼위': 14467, '에이치': 14468, '망은': 14469, '재은': 14470, '단호히': 14471, '김재승': 14472, '쪼끔': 14473, '디바이드': 14474, '불끈불끈': 14475, '알파벳': 14476, '슈라': 14477, '저변': 14478, '단백질': 14479, '저금통': 14480, '일검': 14481, '얼룩말': 14482, '서점': 14483, '선후배': 14484, '짜가': 14485, '헬리': 14486, '그루지아': 14487, '뭐에': 14488, '보영': 14489, '수의': 14490, '한창때': 14491, '싸다구': 14492, '뚫어지': 14493, '모노': 14494, '니시야마': 14495, '아범': 14496, '갑오': 14497, '고막': 14498, '아랫쪽': 14499, '김시진': 14500, '환생': 14501, '빈티지': 14502, '플로': 14503, '귀때기': 14504, '장기간': 14505, '통탄': 14506, '성아': 14507, '지실': 14508, '요다음': 14509, '손위': 14510, '올케': 14511, '수아': 14512, '뒷쪽': 14513, '가장자리': 14514, '남산도서관': 14515, '청순가련': 14516, '맨틀': 14517, '도저이': 14518, '자심': 14519, '스톱모션': 14520, '녹슬': 14521, '어둑어둑': 14522, '갖은': 14523, '아래아': 14524, '까페': 14525, '관능미': 14526, '상형': 14527, '타이어': 14528, '값싸': 14529, '승만': 14530, '서가': 14531, '풍지박산': 14532, '데이터': 14533, '쑨원': 14534, '청나라': 14535, '미결': 14536, '드세': 14537, '독립선언문': 14538, '용문': 14539, '디아블로': 14540, '불길': 14541, '병인': 14542, '공주병': 14543, '넘쳐흐르': 14544, '기동대': 14545, '버클리': 14546, '레이저': 14547, '귀자': 14548, '모신': 14549, '강국': 14550, '고품격': 14551, '수행평가': 14552, '트위스트': 14553, '민족적': 14554, '삐요': 14555, '지렁이': 14556, '주찬옥': 14557, '의거': 14558, '엄격히': 14559, '김무열': 14560, '만듦새': 14561, '문학관': 14562, '개천': 14563, '허튼': 14564, '여미': 14565, '루터': 14566, '넬슨': 14567, '만델라': 14568, '오루': 14569, '킴벌리': 14570, '캐빈': 14571, '로빈슨': 14572, '민세현': 14573, '통쾌히': 14574, '엄밀히': 14575, '정치선': 14576, '정치영': 14577, '이기욱': 14578, '보르헤스': 14579, '담장이': 14580, '또르르르': 14581, '막상막하': 14582, '자극제': 14583, '장진한': 14584, '마티': 14585, '프리드먼': 14586, '막둥이': 14587, '갖다버리': 14588, '학교생활': 14589, '말조심': 14590, '미술관': 14591, '부신': 14592, '매커니즘': 14593, '진보면': 14594, '성장담': 14595, '목마름': 14596, '내다보이': 14597, '땀방울': 14598, '점원': 14599, '초지': 14600, '이왕이면': 14601, '유별나': 14602, '별말': 14603, '내복': 14604, '이주헌': 14605, '비가역적': 14606, '으미': 14607, '나영석': 14608, '신원호': 14609, '땡깡': 14610, '인신매매단': 14611, '면신': 14612, '다이너마이트': 14613, '허용': 14614, '황광희': 14615, '압수': 14616, '나한국': 14617, '하준건': 14618, '신비감': 14619, '생산국': 14620, '레아': 14621, '심부름': 14622, '언짢': 14623, '마리온': 14624, '파계': 14625, '김산': 14626, '팅팅': 14627, '게이샤': 14628, '주제자': 14629, '아낙': 14630, '트랜스젠더': 14631, '다시없': 14632, '상쇄': 14633, '내던지': 14634, '귀담아듣': 14635, '자영업': 14636, '임윤택': 14637, '꼭이': 14638, '타임즈': 14639, '보세': 14640, '둔하': 14641, '간조': 14642, '멍멍이': 14643, '되뇌이': 14644, '비틀거리': 14645, '이슬람인': 14646, '괴한': 14647, '짜르': 14648, '쩝쩝': 14649, '연기수': 14650, '나그네': 14651, '보관': 14652, '타이트': 14653, '고담': 14654, '술기운': 14655, '무르익': 14656, '보검': 14657, '설리번': 14658, '환경적': 14659, '인물전': 14660, '콜린스': 14661, '비뚤어지': 14662, '서강대': 14663, '이풍': 14664, '간접적': 14665, '큰애': 14666, '장미꽃': 14667, '복받치': 14668, '상풍': 14669, '플레밍': 14670, '왁스': 14671, '낭자': 14672, '이동희': 14673, '지멋': 14674, '래빗': 14675, '주룩': 14676, '차량': 14677, '강제종': 14678, '애니씽': 14679, '엘스': 14680, '장례': 14681, '광과민': 14682, '손쉽': 14683, '다재다능': 14684, '연재영': 14685, '어마': 14686, '생영': 14687, '셰퍼드': 14688, '옥살이': 14689, '도자': 14690, '극하': 14691, '서경석': 14692, '조교': 14693, '세다': 14694, '운치': 14695, '반기': 14696, '세이야': 14697, '깨나': 14698, '끼적끼적': 14699, '모방작': 14700, '불알': 14701, '이웃사촌': 14702, '스킨헤드': 14703, '항만': 14704, '신나치': 14705, '신국': 14706, '회주': 14707, '윤상호': 14708, '엘로리': 14709, '에타': 14710, '모터스': 14711, '실업': 14712, '정트리오': 14713, '돌풍': 14714, '응가': 14715, '뿌직뿌직': 14716, '평가자': 14717, '농': 14718, '해발': 14719, '오르내리': 14720, '구경거리': 14721, '팔뼈': 14722, '모유': 14723, '만렙': 14724, '쿨쿨': 14725, '뿌시럭': 14726, '남서': 14727, '처가살이': 14728, '비룡': 14729, '도전장': 14730, '분할': 14731, '구창식': 14732, '소재지': 14733, '송두리': 14734, '친정': 14735, '일급': 14736, '식자재': 14737, '정크푸드': 14738, '딴딴딴': 14739, '문뜩': 14740, '장성기': 14741, '트레이드': 14742, '장기수': 14743, '속세': 14744, '회기': 14745, '빚보증': 14746, '두드러지': 14747, '이제한': 14748, '뻐꾸기': 14749, '밀치': 14750, '내버리': 14751, '작전과': 14752, '자이메': 14753, '선방': 14754, '일삼': 14755, '난립': 14756, '스리': 14757, '음메': 14758, '마임': 14759, '석유': 14760, '패왕별희': 14761, '카이거': 14762, '보험금': 14763, '독촉': 14764, '대부업': 14765, '사채': 14766, '연체': 14767, '팔지': 14768, '정형': 14769, '케이블카': 14770, '취침': 14771, '밀스': 14772, '수호자': 14773, '팔짱': 14774, '탄력': 14775, '수감': 14776, '주세페': 14777, '저저': 14778, '번주': 14779, '고양': 14780, '시대착오적': 14781, '별차': 14782, '지체장애인': 14783, '회전': 14784, '대명': 14785, '동성연애': 14786, '약회': 14787, '조선기': 14788, '쫓아가': 14789, '요상하': 14790, '농가': 14791, '불발': 14792, '맹신적': 14793, '아리스': 14794, '바스': 14795, '의롭': 14796, '합작영화': 14797, '언어적': 14798, '산당': 14799, '처치': 14800, '연구자': 14801, '이유영': 14802, '해파리': 14803, '비유적': 14804, '맞히': 14805, '맞아떨어지': 14806, '이중': 14807, '삼중': 14808, '후반전': 14809, '파고다': 14810, '고조': 14811, '미술품': 14812, '키티': 14813, '질환자': 14814, '다사다난': 14815, '부녀지간': 14816, '부부지간': 14817, '비젼': 14818, '소대장': 14819, '부대원': 14820, '방위': 14821, '여세': 14822, '뒤섞': 14823, '강요한': 14824, '골라내': 14825, '최윤정': 14826, '떠보': 14827, '생산적': 14828, '헛다리': 14829, '로프트': 14830, '참회': 14831, '왼손잡이': 14832, '예술관': 14833, '따님': 14834, '언더씨즈': 14835, '굴욕적': 14836, '주입식': 14837, '빅쇼': 14838, '잔류': 14839, '모르모트': 14840, '입양아': 14841, '밀어부치': 14842, '체하': 14843, '체기': 14844, '텔레토비': 14845, '에어백': 14846, '갑바': 14847, '기니': 14848, '피그': 14849, '주름잡': 14850, '예정되': 14851, '맞장구': 14852, '술자리': 14853, '조카딸': 14854, '배달중': 14855, '씽크': 14856, '위키백과': 14857, '시시껄렁': 14858, '무형문화재': 14859, '찻물': 14860, '배역도': 14861, '교리': 14862, '현암': 14863, '총감독': 14864, '절하': 14865, '도면': 14866, '화백': 14867, '째째하': 14868, '목적의식': 14869, '결단력': 14870, '별지': 14871, '오초희': 14872, '오광자': 14873, '우주남': 14874, '의구': 14875, '여서영': 14876, '자채': 14877, '대접': 14878, '현우': 14879, '반일영': 14880, '교화': 14881, '번지수': 14882, '실루엣': 14883, '뇌사': 14884, '되살리': 14885, '반신반의': 14886, '워싱톤': 14887, '들킬': 14888, '촉박': 14889, '서인석': 14890, '고수로': 14891, '전쟁일기': 14892, '양질': 14893, '계열': 14894, '전대사': 14895, '나뭇꾼': 14896, '딸내미': 14897, '오싹오싹': 14898, '밝힘증': 14899, '불감증': 14900, '유체': 14901, '승려': 14902, '냉랭': 14903, '무차별': 14904, '고래고래': 14905, '합법적': 14906, '주민등록증': 14907, '범프': 14908, '장날': 14909, '원형': 14910, '전동': 14911, '타자기': 14912, '직결': 14913, '타이머': 14914, '부수적': 14915, '캠핑카': 14916, '도넛': 14917, '대성공': 14918, '기달리': 14919, '데이브': 14920, '어비스': 14921, '아시아나': 14922, '불현듯': 14923, '섣불리': 14924, '간편': 14925, '결계': 14926, '열사': 14927, '밤하늘': 14928, '올려다보': 14929, '백남준': 14930, '괴성': 14931, '하반신': 14932, '헬리콥터': 14933, '맹맹': 14934, '보충': 14935, '총부리': 14936, '자격증': 14937, '우러나오': 14938, '벤자민': 14939, '헹': 14940, '에엑': 14941, '쌉쌀': 14942, '방대하': 14943, '초장': 14944, '푸가': 14945, '삼인조': 14946, '경상도사': 14947, '잔반': 14948, '베이더': 14949, '동지애': 14950, '협동': 14951, '생존력': 14952, '세퍼드': 14953, '탐험대': 14954, '과학사': 14955, '포괄적': 14956, '융합': 14957, '졸졸': 14958, '현세': 14959, '찾아다니': 14960, '아듀': 14961, '유능': 14962, '아이맥스': 14963, '보두앵': 14964, '진노': 14965, '내세': 14966, '하수': 14967, '단팥빵': 14968, '팥': 14969, '살뜰': 14970, '결백': 14971, '그림자놀이': 14972, '지침서': 14973, '카우프만': 14974, '일루': 14975, '조카사위': 14976, '럭셔리': 14977, '쌍의': 14978, '학의': 14979, '패티': 14980, '프로도': 14981, '급행': 14982, '부천역': 14983, '는개': 14984, '공각': 14985, '일본전': 14986, '미비': 14987, '기술대': 14988, '밀집': 14989, '본마누라': 14990, '청산가리': 14991, '년보': 14992, '미란씨': 14993, '안경안': 14994, '쿠릴': 14995, '안디': 14996, '개날': 14997, '심영나': 14998, '휴즈': 14999, '정태원': 15000, '호남': 15001, '도시인': 15002, '익산': 15003, '깡촌': 15004, '흔들거리': 15005, '한천': 15006, '고단수': 15007, '흐트러뜨리': 15008, '국어사전': 15009, '방탕': 15010, '무질서': 15011, '지일': 15012, '진진한': 15013, '쫑파티': 15014, '무심히': 15015, '몸뚱아리': 15016, '유권자': 15017, '선거단': 15018, '옹알거리': 15019, '겁쟁이': 15020, '퇴마록': 15021, '가루': 15022, '바수': 15023, '구조하': 15024, '자격지심': 15025, '셋탑박스': 15026, '핫토리': 15027, '계피': 15028, '성묘': 15029, '음질': 15030, '암네리스': 15031, '포에버': 15032, '군자': 15033, '시시콜콜': 15034, '조선고급학교': 15035, '쑥스럽': 15036, '로마서': 15037, '곰탱이': 15038, '집사': 15039, '낄낄대': 15040, '최세영': 15041, '무드': 15042, '기절초풍': 15043, '미운털': 15044, '모래밭': 15045, '패스파인더': 15046, '심고': 15047, '급행열차': 15048, '독사': 15049, '마징가': 15050, '군부대': 15051, '동력': 15052, '천부적': 15053, '소질': 15054, '와이파이': 15055, '코조': 15056, '와와': 15057, '깊이깊이': 15058, '가동': 15059, '근심': 15060, '중전': 15061, '집도': 15062, '광고비': 15063, '빚어지': 15064, '데코': 15065, '샌디': 15066, '삼위일체': 15067, '피로도': 15068, '리어왕': 15069, '토라': 15070, '메트로': 15071, '기자회견': 15072, '수라도': 15073, '교편': 15074, '시간문제': 15075, '쇼핑백': 15076, '스며들': 15077, '못마땅': 15078, '욕설과': 15079, '첫날밤': 15080, '화서': 15081, '대망': 15082, '아낌없': 15083, '협박범': 15084, '양종철': 15085, '평과': 15086, '아른아른': 15087, '원내': 15088, '음식관': 15089, '성군': 15090, '진술': 15091, '문초': 15092, '귀청': 15093, '기울어지': 15094, '칵테일': 15095, '묘기': 15096, '묵히': 15097, '들썩거리': 15098, '숭숭': 15099, '성문': 15100, '공안': 15101, '소령': 15102, '우직': 15103, '시원히': 15104, '어항': 15105, '마라도': 15106, '배민아': 15107, '자주국방': 15108, '몰아내': 15109, '족속': 15110, '정곡': 15111, '검열': 15112, '진배': 15113, '잔형': 15114, '철권': 15115, '제프': 15116, '브리지스': 15117, '범주': 15118, '쫓아오': 15119, '영통': 15120, '바벨': 15121, '크래쉬': 15122, '가쁘': 15123, '상관도': 15124, '클럼': 15125, '지난하': 15126, '얼름': 15127, '기술인': 15128, '덤벼들': 15129, '기소유예': 15130, '유전공학': 15131, '학습': 15132, '아고': 15133, '운전대': 15134, '아모': 15135, '차재환': 15136, '사랑놀이': 15137, '프로페셔널': 15138, '제각각': 15139, '장수봉': 15140, '주인아주머니': 15141, '도둑맞': 15142, '악귀': 15143, '황은정': 15144, '위아래': 15145, '권오중': 15146, '커피숍': 15147, '오뚜기': 15148, '김영애': 15149, '조막': 15150, '명징': 15151, '홍해숙': 15152, '빤쭈': 15153, '편력': 15154, '로댕': 15155, '이힝': 15156, '황무': 15157, '폭주': 15158, '알록달록': 15159, '실사영화': 15160, '공명': 15161, '말꼬리': 15162, '실언': 15163, '꼬투리': 15164, '존제': 15165, '이슬람교': 15166, '푸치니': 15167, '라보엠': 15168, '빌라': 15169, '네트': 15170, '페데리코': 15171, '분석적': 15172, '판가름': 15173, '작문': 15174, '뇨': 15175, '싱긋': 15176, '산해진미': 15177, '주먹다짐': 15178, '번뇌': 15179, '황금비': 15180, '피보': 15181, '나치수': 15182, '먼지바람': 15183, '대군': 15184, '제나라': 15185, '정성일': 15186, '가온': 15187, '금고털이범': 15188, '번호': 15189, '귓속': 15190, '조근조근': 15191, '호부': 15192, '손지창': 15193, '꿇': 15194, '남해': 15195, '일렉트라': 15196, '히잉': 15197, '한세아': 15198, '농간': 15199, '위기감': 15200, '시사점': 15201, '기미가요': 15202, '원조영': 15203, '하이고': 15204, '진정무': 15205, '베드로': 15206, '찬송': 15207, '준희씨': 15208, '화풍': 15209, '배찌': 15210, '죽을힘': 15211, '놀이공원': 15212, '득실': 15213, '금주': 15214, '할인': 15215, '거진': 15216, '우승한': 15217, '후대': 15218, '너트': 15219, '원통하': 15220, '뽁뽁': 15221, '대한극장': 15222, '녹스': 15223, '분해': 15224, '뼈다귀': 15225, '야만인': 15226, '얻어먹': 15227, '우미': 15228, '요미우리': 15229, '급상승': 15230, '세원': 15231, '조윤경': 15232, '경로': 15233, '가로채': 15234, '대학로': 15235, '고구': 15236, '아득': 15237, '노포': 15238, '경비원': 15239, '내려다보': 15240, '모럴': 15241, '느낌표': 15242, '역진': 15243, '후작': 15244, '쮸쮸': 15245, '세배': 15246, '부축': 15247, '컹': 15248, '호갱': 15249, '피비': 15250, '게이츠': 15251, '거양': 15252, '금영화': 15253, '심의위': 15254, '된밥': 15255, '봉창': 15256, '낙천적': 15257, '넉': 15258, '화풀이': 15259, '리사이틀': 15260, '배한성': 15261, '아참': 15262, '수렴': 15263, '아쌀하': 15264, '사정사': 15265, '이등병': 15266, '우스개': 15267, '단절': 15268, '양귀매': 15269, '자유주의': 15270, '블레이드러너': 15271, '네이트': 15272, '담요': 15273, '부두교': 15274, '활보': 15275, '퍼먹': 15276, '억지루': 15277, '시장통': 15278, '흥정': 15279, '스멀스멀': 15280, '돌연': 15281, '받아먹': 15282, '애드리브': 15283, '뒤처지': 15284, '속단': 15285, '줏대': 15286, '하만': 15287, '바싹': 15288, '박봉': 15289, '과로': 15290, '구미': 15291, '김지환': 15292, '명우': 15293, '박완규': 15294, '궤도': 15295, '취의': 15296, '다이어트': 15297, '정설': 15298, '들어앉': 15299, '방기': 15300, '이다솔': 15301, '반납': 15302, '캐슬린': 15303, '주인철': 15304, '한태하': 15305, '가울': 15306, '한미': 15307, '부득불': 15308, '칠보': 15309, '임지': 15310, '유치송': 15311, '낮술': 15312, '은은히': 15313, '조치': 15314, '한나영': 15315, '진스': 15316, '구간': 15317, '영신': 15318, '내무반': 15319, '휴게실': 15320, '안주하': 15321, '진일보': 15322, '이마무라': 15323, '마하트마': 15324, '몰표': 15325, '김일': 15326, '손장난': 15327, '조규현': 15328, '송이': 15329, '삼청교육대': 15330, '교육대학': 15331, '또옥': 15332, '파푸아뉴기니': 15333, '베네룩스': 15334, '라디에이터': 15335, '스프링': 15336, '소도': 15337, '어섬': 15338, '적확': 15339, '잡티': 15340, '가거': 15341, '수전증': 15342, '느긋': 15343, '그라나도스': 15344, '무곡': 15345, '유사품': 15346, '유력': 15347, '백진희': 15348, '주디': 15349, '창조설': 15350, '주룩주룩': 15351, '여식': 15352, '사공': 15353, '천한직': 15354, '업과': 15355, '명성왕후': 15356, '의학적': 15357, '은수': 15358, '강수': 15359, '결신': 15360, '김태균': 15361, '학문': 15362, '하고영': 15363, '자주자주': 15364, '남도': 15365, '천재구': 15366, '참말로': 15367, '할퀴': 15368, '태양에너지': 15369, '켜지': 15370, '금새': 15371, '디스카운트': 15372, '알리바이': 15373, '부름': 15374, '민지아': 15375, '계몽적': 15376, '개기': 15377, '땡큐': 15378, '생활자': 15379, '전거': 15380, '정통파': 15381, '견고': 15382, '점검': 15383, '애플': 15384, '장거리': 15385, '백봉기': 15386, '께름칙': 15387, '항복': 15388, '내선일체': 15389, '청산': 15390, '전격적': 15391, '나영': 15392, '수일': 15393, '삭일': 15394, '용암': 15395, '피콜로': 15396, '네네': 15397, '포신': 15398, '린저': 15399, '쌔리': 15400, '병고': 15401, '강유란': 15402, '로토': 15403, '눕히': 15404, '비디오게임': 15405, '질척': 15406, '비릿': 15407, '전가': 15408, '윈터바텀': 15409, '노스웨스트': 15410, '항공': 15411, '러시': 15412, '금술': 15413, '혈': 15414, '농도': 15415, '스텝맘': 15416, '패트': 15417, '매트': 15418, '우후': 15419, '신나라': 15420, '세레나': 15421, '백순철': 15422, '이규화': 15423, '한선화': 15424, '송재민': 15425, '송재빈': 15426, '가제': 15427, '눈꺼풀': 15428, '국정': 15429, '성선': 15430, '넬리': 15431, '멜빌': 15432, '칭송': 15433, '타들': 15434, '잔인무도': 15435, '노엘': 15436, '김종수': 15437, '꽃피': 15438, '담합': 15439, '미꾸라지': 15440, '리즈만': 15441, '건대입구': 15442, '소극장': 15443, '셰프': 15444, '차위': 15445, '깎이': 15446, '다성': 15447, '삵': 15448, '두루미': 15449, '음원': 15450, '붙히': 15451, '홀쭉이': 15452, '커머스': 15453, '상사람': 15454, '송선미': 15455, '고전분투': 15456, '낼모레': 15457, '미양': 15458, '외상': 15459, '경호원': 15460, '임형주': 15461, '아이슬란드': 15462, '사기단': 15463, '히치하이킹': 15464, '준법정신': 15465, '가정교사': 15466, '컨벤션': 15467, '건설적': 15468, '무덥': 15469, '치도': 15470, '당계례': 15471, '차기': 15472, '적국': 15473, '중국군': 15474, '타석': 15475, '사랑놀음': 15476, '자기희생': 15477, '콘택트': 15478, '소원택': 15479, '탄사': 15480, '브루노': 15481, '자선사업': 15482, '라르고': 15483, '한대희': 15484, '회만': 15485, '해롤드': 15486, '피기스': 15487, '호프먼': 15488, '환전상': 15489, '구로동': 15490, '스르르': 15491, '유년기': 15492, '철없이': 15493, '뒷산': 15494, '당나라': 15495, '진경': 15496, '순금': 15497, '한진경': 15498, '은빛': 15499, '리볼버': 15500, '마오쩌둥': 15501, '민하영': 15502, '타살': 15503, '세발': 15504, '유인촌': 15505, '나디아': 15506, '깃털': 15507, '절감': 15508, '발한': 15509, '동치': 15510, '임순례': 15511, '고속버스': 15512, '슈타인': 15513, '흰돌': 15514, '강경': 15515, '농부가': 15516, '물소': 15517, '밭가': 15518, '이발관': 15519, '타당': 15520, '안말': 15521, '헤밍웨이': 15522, '음경': 15523, '고환': 15524, '고데기': 15525, '재스퍼': 15526, '등굣길': 15527, '웃음보': 15528, '샘플': 15529, '결별': 15530, '레벨': 15531, '야유': 15532, '동한': 15533, '마사무네': 15534, '소요': 15535, '브레스': 15536, '주원': 15537, '다소간': 15538, '재석': 15539, '친화': 15540, '이교도': 15541, '보물섬': 15542, '상봉': 15543, '온도': 15544, '도인지': 15545, '내셔널지오그래픽': 15546, '한금자': 15547, '금자': 15548, '싹둑': 15549, '어유': 15550, '영등': 15551, '하나마나': 15552, '길쭉': 15553, '이정표': 15554, '샘나': 15555, '선재': 15556, '피어슨': 15557, '여류': 15558, '부여잡': 15559, '불공정': 15560, '만세에': 15561, '저세상': 15562, '남곤': 15563, '스컬': 15564, '의민': 15565, '도이영': 15566, '별별': 15567, '학점': 15568, '첩보원': 15569, '선곡': 15570, '정보성': 15571, '빈칸': 15572, '기부영': 15573, '부인과': 15574, '병졸': 15575, '장관': 15576, '귀부인': 15577, '피에르': 15578, '졸지': 15579, '도령': 15580, '창동': 15581, '옹졸': 15582, '피바디': 15583, '자결': 15584, '딸애': 15585, '휴일': 15586, '완숙': 15587, '미에': 15588, '알콩': 15589, '감자': 15590, '음료수': 15591, '정현': 15592, '씨이': 15593, '앰': 15594, '진이한': 15595, '만만세': 15596, '소개서': 15597, '토양': 15598, '완벽주의자': 15599, '코브라': 15600, '피카디리': 15601, '술술': 15602, '세탁소': 15603, '출현진': 15604, '동근': 15605, '칫솔': 15606, '혁명적': 15607, '현실주의자': 15608, '또박또박': 15609, '지만중': 15610, '붕어': 15611, '마길수': 15612, '카세트': 15613, '눈물짓': 15614, '주저앉': 15615, '다카유키': 15616, '최고령': 15617, '스테이트': 15618, '화들짝': 15619, '세라': 15620, '별의별': 15621, '널부러지': 15622, '기회주의자': 15623, '더더군다나': 15624, '의복': 15625, '의례': 15626, '당일': 15627, '수익': 15628, '유가족': 15629, '기타노다케시': 15630, '소나티네': 15631, '성의영': 15632, '속귀': 15633, '뛰어오': 15634, '막이': 15635, '파두': 15636, '희곡': 15637, '달래': 15638, '장국': 15639, '로르카': 15640, '회일': 15641, '장갑': 15642, '새날': 15643, '노이로제': 15644, '후두부': 15645, '유골': 15646, '파우더': 15647, '기상': 15648, '소토': 15649, '세드릭': 15650, '보안': 15651, '실지': 15652, '쪽지': 15653, '씨나리오': 15654, '박정철': 15655, '국수': 15656, '복부': 15657, '윤석화': 15658, '재테크': 15659, '엄지원': 15660, '항목': 15661, '불명': 15662, '기레기': 15663, '드봉': 15664, '욕바가지': 15665, '무생물': 15666, '유해함': 15667, '정다운': 15668, '한줌': 15669, '풍자적': 15670, '로케트': 15671, '이철': 15672, '킨케이드': 15673, '보우': 15674, '니혼': 15675, '급보': 15676, '밭': 15677, '일조': 15678, '뎀비': 15679, '무력시위': 15680, '쿠데타': 15681, '박하진': 15682, '취재': 15683, '대반': 15684, '내색': 15685, '쳐들': 15686, '활발': 15687, '사쿠라이': 15688, '추기성': 15689, '후버': 15690, '동물적': 15691, '정취': 15692, '스토킹': 15693, '실타래': 15694, '낄낄거리': 15695, '해체': 15696, '아울러': 15697, '통념': 15698, '새털': 15699, '등심': 15700, '월가': 15701, '내동댕이': 15702, '로이스': 15703, '윤소라': 15704, '장례식장': 15705, '담뿍': 15706, '음보': 15707, '김홍인': 15708, '발바닥': 15709, '다선': 15710, '집행': 15711, '독선': 15712, '전제하': 15713, '참위': 15714, '사산': 15715, '강이현': 15716, '노부인': 15717, '낙차': 15718, '물리적': 15719, '카게무샤': 15720, '금메달리스트': 15721, '소치': 15722, '씻기': 15723, '사회생활': 15724, '들쓰': 15725, '지만순': 15726, '세르지오': 15727, '후경': 15728, '채택': 15729, '불만도': 15730, '베니스': 15731, '베이글': 15732, '뒤덮': 15733, '김소진': 15734, '동향': 15735, '멕이': 15736, '똥내': 15737, '난점': 15738, '공사장': 15739, '거처': 15740, '노하': 15741, '의뭉': 15742, '에어플레인': 15743, '홀라당': 15744, '진흙': 15745, '지그리': 15746, '으흠': 15747, '언행': 15748, '뒷풀이': 15749, '구색': 15750, '단고기': 15751, '곤히': 15752, '성숙도': 15753, '조물조물': 15754, '탈출기': 15755, '빈처': 15756, '속수무책': 15757, '세한': 15758, '요업': 15759, '김준식': 15760, '살육': 15761, '빅스': 15762, '갓세븐': 15763, '육덕': 15764, '고객': 15765, '합목적적': 15766, '반찬': 15767, '떠먹': 15768, '필터': 15769, '최동렬': 15770, '중강': 15771, '노무라': 15772, '구청': 15773, '분식': 15774, '해치우': 15775, '강진': 15776, '소재삼': 15777, '최완규': 15778, '주질': 15779, '앙투아네트': 15780, '내연': 15781, '솜방망이': 15782, '세자르': 15783, '뒷마무리': 15784, '안받음': 15785, '제조': 15786, '유통': 15787, '광동': 15788, '소제목': 15789, '월요병': 15790, '야스오': 15791, '가래': 15792, '진공': 15793, '질소': 15794, '충전': 15795, '밀봉': 15796, '취객': 15797, '담벼락': 15798, '오줌발': 15799, '깜작': 15800, '코딩': 15801, '탈진': 15802, '수도국': 15803, '전쟁놀이': 15804, '앨버트': 15805, '나단': 15806, '새삼스레': 15807, '하이힐': 15808, '전기톱': 15809, '망고': 15810, '미국군': 15811, '패니': 15812, '건축업': 15813, '너겟': 15814, '새마을': 15815, '노욕': 15816, '고초': 15817, '마침표': 15818, '오너': 15819, '시덥': 15820, '또랑또랑': 15821, '레퍼토리': 15822, '매국노': 15823, '벽력': 15824, '선중': 15825, '소셜': 15826, '찬성도': 15827, '녹차': 15828, '제복': 15829, '학년도': 15830, '재래식': 15831, '울랄라': 15832, '프로덕션': 15833, '양보': 15834, '편성자': 15835, '사미': 15836, '자의': 15837, '피엘': 15838, '전기문': 15839, '우인태': 15840, '생물학': 15841, '국수주의자': 15842, '김중훈': 15843, '김종훈': 15844, '강정원': 15845, '빈하': 15846, '급우': 15847, '정신착란': 15848, '관계인': 15849, '링거': 15850, '수안': 15851, '최승희': 15852, '아라': 15853, '응축': 15854, '기념비': 15855, '유선방송': 15856, '남선생': 15857, '세동': 15858, '구성하': 15859, '사회인': 15860, '화기': 15861, '폼생폼사': 15862, '무늬': 15863, '의권': 15864, '존경심': 15865, '스포티지': 15866, '뱃사공': 15867, '연모': 15868, '소행': 15869, '케케묵': 15870, '자두': 15871, '두부': 15872, '익살맞': 15873, '전과자': 15874, '정태우': 15875, '이룸': 15876, '샤방샤방': 15877, '숙녀': 15878, '어린이집': 15879, '학부형': 15880, '항의': 15881, '모종': 15882, '새까맣': 15883, '초롱': 15884, '밟히': 15885, '은총': 15886, '잡아내': 15887, '욕심꾸러기': 15888, '우거': 15889, '송옥숙': 15890, '반짝거리': 15891, '몰수': 15892, '엿듣': 15893, '비방': 15894, '성탄': 15895, '심드렁': 15896, '떼돈': 15897, '총출연': 15898, '사마천': 15899, '김부식': 15900, '삼국사기': 15901, '황권': 15902, '광규': 15903, '말굽': 15904, '이또': 15905, '쨍': 15906, '황야': 15907, '간통': 15908, '멧돼지': 15909, '일레인': 15910, '캐시디': 15911, '그리스신화': 15912, '성인군자': 15913, '도축': 15914, '아집': 15915, '디케이': 15916, '오달수': 15917, '한여운': 15918, '혜화': 15919, '동귀': 15920, '안달복달': 15921, '몽골인': 15922, '덤덤히': 15923, '압박감': 15924, '울부짖음': 15925, '휠씬': 15926, '우루루': 15927, '뉴코아': 15928, '저릿저릿': 15929, '도작': 15930, '북지': 15931, '명단': 15932, '도미': 15933, '표면적': 15934, '국악': 15935, '갈림길': 15936, '칩': 15937, '복무': 15938, '초대형': 15939, '비정규직': 15940, '강렬히': 15941, '이사실': 15942, '역사극': 15943, '로베르': 15944, '싹수': 15945, '시일': 15946, '삼형제': 15947, '라이언킹': 15948, '얼떨결': 15949, '덧나': 15950, '호아킨': 15951, '단적': 15952, '삼륜차': 15953, '성폭력범': 15954, '요시다': 15955, '나인하': 15956, '탈탈': 15957, '애라': 15958, '첨해': 15959, '결혼식장': 15960, '피바람': 15961, '훼밀리': 15962, '파묻히': 15963, '매몰': 15964, '찾아나서': 15965, '안식': 15966, '남부여': 15967, '제기랄': 15968, '오하라': 15969, '유능제강': 15970, '일시적': 15971, '끓어오르': 15972, '억제': 15973, '쌍룡': 15974, '페어리': 15975, '테일': 15976, '추적자': 15977, '묵자': 15978, '입꼬리': 15979, '일렉트릭': 15980, '각성제': 15981, '미쓰': 15982, '따발총': 15983, '고의': 15984, '조물주': 15985, '중국요리': 15986, '우주전': 15987, '투신': 15988, '하산': 15989, '아브라함': 15990, '어죽': 15991, '교인': 15992, '비웃음': 15993, '손끝': 15994, '나일': 15995, '라팔': 15996, '에스비에스': 15997, '청춘기': 15998, '베란다': 15999, '밝힘': 16000, '대악': 16001, '주영호': 16002, '카페트': 16003, '시월': 16004, '몽골제국': 16005, '부심': 16006, '완다': 16007, '로드쇼': 16008, '볼품': 16009, '저래놓': 16010, '박경림': 16011, '장터': 16012, '보험회사': 16013, '킥킥대': 16014, '야구치': 16015, '시노부': 16016, '최적': 16017, '줄기': 16018, '동침': 16019, '사금융': 16020, '토스카니니': 16021, '명절날': 16022, '우주영': 16023, '인조인간': 16024, '아랍인': 16025, '얼간이': 16026, '배구': 16027, '타티': 16028, '월북': 16029, '정민아': 16030, '요만': 16031, '에드우드': 16032, '소생술': 16033, '결도': 16034, '서양중': 16035, '심의': 16036, '만취': 16037, '세자': 16038, '동차': 16039, '피고인': 16040, '자청': 16041, '꿀꿀이': 16042, '만무': 16043, '여간': 16044, '빈스': 16045, '난파선': 16046, '레비': 16047, '눈초롱': 16048, '나앉': 16049, '진면목': 16050, '걸리버': 16051, '여행기': 16052, '승격': 16053, '되잖': 16054, '활쏘기': 16055, '기호품': 16056, '비염': 16057, '틈새': 16058, '천연두': 16059, '비무장': 16060, '영합주의': 16061, '기집애': 16062, '나잇값': 16063, '허술이': 16064, '입문서': 16065, '생태계': 16066, '나인보': 16067, '쓰르라미': 16068, '걸스카우트': 16069, '곗돈': 16070, '떼이': 16071, '짜그락': 16072, '꽉꽉': 16073, '홍종현': 16074, '오판': 16075, '담임': 16076, '꼭대기': 16077, '수신': 16078, '실황중계': 16079, '그런저런': 16080, '마인': 16081, '금와': 16082, '기정': 16083, '스코틀랜드': 16084, '팝업': 16085, '재편집': 16086, '김두영': 16087, '청량제': 16088, '처남': 16089, '맥없이': 16090, '여관': 16091, '극비': 16092, '구한': 16093, '산골': 16094, '곽한구': 16095, '다케우치': 16096, '명암': 16097, '에어포스원': 16098, '아리수': 16099, '무사도': 16100, '야합': 16101, '개방': 16102, '이력': 16103, '주의보': 16104, '휴가철': 16105, '바다거북': 16106, '렌즈': 16107, '제키': 16108, '국화꽃': 16109, '그해': 16110, '빨아먹': 16111, '소주잔': 16112, '맥주잔': 16113, '남녀관': 16114, '패러독스': 16115, '겨울나기': 16116, '미개인': 16117, '간격': 16118, '노코멘트': 16119, '종사': 16120, '아탈': 16121, '시보': 16122, '태국사': 16123, '성대': 16124, '살결': 16125, '미탄': 16126, '반창고': 16127, '지혈': 16128, '조롱거리': 16129, '거사': 16130, '미어': 16131, '불문율': 16132, '브란트': 16133, '가져다주': 16134, '한집안': 16135, '서지영': 16136, '정치하': 16137, '무기한': 16138, '훈장질': 16139, '물레방아': 16140, '이성계': 16141, '플라스': 16142, '의궤': 16143, '총력전': 16144, '무단': 16145, '연줄': 16146, '들쑤시': 16147, '허억': 16148, '이연재': 16149, '돌쇠': 16150, '익명': 16151, '까뜨린느': 16152, '급식': 16153, '지물': 16154, '윗물': 16155, '점보기': 16156, '공포탄': 16157, '쭝국': 16158, '인력거': 16159, '아나키즘': 16160, '학술': 16161, '서적': 16162, '밧데리': 16163, '패럴리': 16164, '전통적': 16165, '어셔': 16166, '방망이': 16167, '방패': 16168, '성리학': 16169, '정색': 16170, '뚝방': 16171, '조범구': 16172, '앞니': 16173, '진희경': 16174, '중경': 16175, '와호장룡': 16176, '깔끔히': 16177, '표범': 16178, '흉악범': 16179, '달림': 16180, '헝가리': 16181, '방랑기': 16182, '북경': 16183, '목도리': 16184, '장난식': 16185, '즐비': 16186, '노원리': 16187, '의수': 16188, '만파식적': 16189, '신궁': 16190, '강태환': 16191, '과거사': 16192, '회작': 16193, '의남매': 16194, '오한': 16195, '속가': 16196, '네스토': 16197, '무소': 16198, '김범수': 16199, '장가보내': 16200, '딸년': 16201, '돌팔이': 16202, '탈세': 16203, '점조': 16204, '두피': 16205, '임정': 16206, '광대뼈': 16207, '사내': 16208, '빼꼼': 16209, '잔여': 16210, '패가망신': 16211, '죄질': 16212, '송영창': 16213, '펄스': 16214, '샷건': 16215, '로켓포': 16216, '빨래': 16217, '하영화': 16218, '토리야마': 16219, '관여': 16220, '파피': 16221, '평화로이': 16222, '주먹밥': 16223, '콘체르토': 16224, '똥차': 16225, '새차': 16226, '예찬': 16227, '공수': 16228, '로마자': 16229, '대모': 16230, '육감': 16231, '청국장': 16232, '수리': 16233, '수거': 16234, '굴비': 16235, '시정': 16236, '새우튀김': 16237, '뒷구멍': 16238, '기생': 16239, '꽃말': 16240, '심청전': 16241, '용왕': 16242, '여형사': 16243, '고분': 16244, '잠복근무': 16245, '등산객': 16246, '주격': 16247, '소싯적': 16248, '개고기': 16249, '새뮤얼': 16250, '생리대': 16251, '업체': 16252, '도리어': 16253, '이휘재': 16254, '도크': 16255, '시국': 16256, '가인': 16257, '삼중주': 16258, '코걸이': 16259, '귀걸이': 16260, '우롱차': 16261, '송해성': 16262, '가웃': 16263, '꿉꿉': 16264, '날다': 16265, '앰블런스': 16266, '리만': 16267, '찌그러뜨리': 16268, '헉헉거리': 16269, '가전': 16270, '구인': 16271, '무등': 16272, '뛰놀': 16273, '과찬': 16274, '불화로': 16275, '고대사': 16276, '손동장': 16277, '성국': 16278, '은의': 16279, '백색': 16280, '위압': 16281, '힐러': 16282, '저승사자': 16283, '갉작갉작': 16284, '스나이퍼': 16285, '안무가': 16286, '이선태': 16287, '여은지': 16288, '애마': 16289, '교활': 16290, '나미': 16291, '기관사': 16292, '헬리오스': 16293, '삼국': 16294, '손자병법': 16295, '공포증': 16296, '가로수': 16297, '내레이터': 16298, '포식자': 16299, '친위대': 16300, '게슈타포': 16301, '스펙트라': 16302, '실습': 16303, '생사': 16304, '영웅적': 16305, '오렌지': 16306, '일격': 16307, '작동': 16308, '하달': 16309, '도발적': 16310, '느보': 16311, '미니멀': 16312, '인풋': 16313, '맥시멈': 16314, '이펙트': 16315, '아킬레스': 16316, '복음': 16317, '거도': 16318, '첨언': 16319, '조심스레': 16320, '서울시': 16321, '체크': 16322, '치스': 16323, '이지원': 16324, '뉴질랜드': 16325, '꺍': 16326, '금전': 16327, '잎': 16328, '뷔페': 16329, '업둥이': 16330, '본도': 16331, '위스키': 16332, '도라지': 16333, '굳히': 16334, '소현세': 16335, '다채롭': 16336, '제드': 16337, '성악설': 16338, '성선설': 16339, '기웃': 16340, '명예훼손': 16341, '얍삽': 16342, '항일': 16343, '밑지': 16344, '이심': 16345, '정연주': 16346, '생활체육': 16347, '사경': 16348, '진태현': 16349, '김응수': 16350, '뚱뚱이': 16351, '쫄면': 16352, '시다바리': 16353, '양부모': 16354, '프루프': 16355, '두영': 16356, '오색': 16357, '금정': 16358, '찔러보': 16359, '구들': 16360, '덮히': 16361, '이광호': 16362, '정보전': 16363, '호떡': 16364, '얼차려': 16365, '위생': 16366, '실내': 16367, '취식': 16368, '인생극장': 16369, '옛사랑': 16370, '장해': 16371, '탁구부': 16372, '신청자': 16373, '잔악': 16374, '무찌르': 16375, '현영나': 16376, '맨더': 16377, '에마': 16378, '근방': 16379, '자태': 16380, '절세미인': 16381, '뭇': 16382, '어우동': 16383, '원시인': 16384, '원단': 16385, '고층': 16386, '화물선': 16387, '전지': 16388, '글쎄올시다': 16389, '행여나': 16390, '프란시스': 16391, '간당': 16392, '거제': 16393, '발제': 16394, '단잔': 16395, '유이주': 16396, '내려치': 16397, '여물': 16398, '더허': 16399, '까딱까딱': 16400, '연추': 16401, '상상적': 16402, '아유미': 16403, '은교': 16404, '반항아': 16405, '구렁텅이': 16406, '얼렁': 16407, '건너서': 16408, '정벌': 16409, '분동': 16410, '히죽히죽': 16411, '할렘': 16412, '송두율': 16413, '유죄판결': 16414, '시민권자': 16415, '사법': 16416, '출품작': 16417, '껴입': 16418, '수신료': 16419, '까프까즈': 16420, '노소': 16421, '다이안': 16422, '임명': 16423, '면면': 16424, '주파수': 16425, '스크립트': 16426, '알란': 16427, '기왕에': 16428, '가토': 16429, '순신': 16430, '풍신수길': 16431, '말보로': 16432, '마킹': 16433, '모터스포츠': 16434, '동경대': 16435, '도해': 16436, '며주': 16437, '금도': 16438, '왕대': 16439, '내의': 16440, '어뢰': 16441, '격침': 16442, '쟁취': 16443, '감만': 16444, '자존감': 16445, '개변': 16446, '총수입': 16447, '성조기': 16448, '펄럭이': 16449, '다량': 16450, '공신': 16451, '히키코모리': 16452, '교미': 16453, '진안나': 16454, '블루스': 16455, '오승하': 16456, '이서': 16457, '편제': 16458, '개공': 16459, '베틀': 16460, '훌훌': 16461, '삐리리': 16462, '윤윤제': 16463, '복원': 16464, '황해': 16465, '어법': 16466, '실밥': 16467, '서대문': 16468, '화양': 16469, '새우깡': 16470, '조고': 16471, '사제': 16472, '거인증': 16473, '플라토닉': 16474, '아가페': 16475, '높은이': 16476, '저해': 16477, 'mbn': 16478, '윈윈': 16479, '신공': 16480, '국가보안법': 16481, '잡아들': 16482, '도교': 16483, '인식하': 16484, '네델란드': 16485, '신조': 16486, '화쟁': 16487, '삭발': 16488, '여래': 16489, '정변': 16490, '선서': 16491, '무상사': 16492, '조어': 16493, '장부': 16494, '천인': 16495, '맥아리': 16496, '진즉': 16497, '모리아티': 16498, '대평': 16499, '미시': 16500, '대왕': 16501, '태자': 16502, '충당': 16503, '붕붕붕': 16504, '연타': 16505, '이선희': 16506, '금자탑': 16507, '뒷배경': 16508, '굿모닝': 16509, '프레지던트': 16510, '모텔': 16511, '얕잡': 16512, '여신정': 16513, '김혜자': 16514, '치프': 16515, '미식축구': 16516, '외국어고': 16517, '다크호스': 16518, '모하메드': 16519, '레자': 16520, '공책': 16521, '땟국물': 16522, '겨드랑이': 16523, '암내': 16524, '비듬': 16525, '인지상정': 16526, '김기범': 16527, '달르': 16528, '택이': 16529, '중공군': 16530, '나카타': 16531, '나불나불': 16532, '단검': 16533, '노트르담': 16534, '덮어놓': 16535, '카트': 16536, '괜하': 16537, '우후죽순': 16538, '이성진': 16539, '중재하': 16540, '인공수정': 16541, '카레니나': 16542, '성춘향': 16543, '전성': 16544, '벽면': 16545, '배불': 16546, '폭삭': 16547, '물리학적': 16548, '고용': 16549, '만년': 16550, '격차': 16551, '아델': 16552, '마그리트': 16553, '안착': 16554, '요연': 16555, '손색없이': 16556, '개연': 16557, '구성임': 16558, '된통': 16559, '인도주의': 16560, '한없': 16561, '세탁기': 16562, '요법': 16563, '뒷골목': 16564, '뻥튀기': 16565, '뚜렷이': 16566, '관련자': 16567, '귀천이': 16568, '둔거': 16569, '장현수': 16570, '의생활': 16571, '싱숭생숭': 16572, '살인적': 16573, '조미진': 16574, '구호': 16575, '국수주의적': 16576, '이토히로부미': 16577, '모나코': 16578, '당락': 16579, '왕궁': 16580, '신디로퍼': 16581, '쨍쨍거리': 16582, '한낮': 16583, '풋내': 16584, '여름밤': 16585, '열병': 16586, '근신': 16587, '낯짝': 16588, '그러잖': 16589, '역임': 16590, '훈련소': 16591, '진진': 16592, '옷걸이': 16593, '합헌': 16594, '우승하': 16595, '격감': 16596, '바심': 16597, '근엄': 16598, '소꼽장난': 16599, '신빙': 16600, '헐리': 16601, '우기영': 16602, '유민규': 16603, '함성': 16604, '위티': 16605, '플루토': 16606, '구피': 16607, '홍여진': 16608, '가타카': 16609, '이른바': 16610, '바닷가': 16611, '혁신': 16612, '시라소니': 16613, '구필': 16614, '명의': 16615, '한자리': 16616, '오디세이': 16617, '폭신폭신': 16618, '감촉': 16619, '반생': 16620, '교대': 16621, '통진': 16622, '정의당': 16623, '훈련병': 16624, '도식': 16625, '보편화': 16626, '쾌거': 16627, '두근': 16628, '옥한흠': 16629, '후임자': 16630, '김형석': 16631, '서조': 16632, '일락': 16633, '과열': 16634, '노숙': 16635, '장도현': 16636, '혜주': 16637, '함몰': 16638, '망막': 16639, '호사': 16640, '일본국': 16641, '외할아버지': 16642, '신여성': 16643, '페미니스트': 16644, '국립현충원': 16645, '묘자리': 16646, '해괴': 16647, '록커': 16648, '알리야': 16649, '필력': 16650, '오아시스': 16651, '백업': 16652, '레지나': 16653, '침입': 16654, '휴우': 16655, '영시': 16656, '간질간질': 16657, '수송차': 16658, '점자': 16659, '캠프': 16660, '그레고리안': 16661, '성가': 16662, '요따위': 16663, '리브레': 16664, '시청료': 16665, '계약금': 16666, '계산법': 16667, '급성장': 16668, '목포': 16669, '직속': 16670, '부대장': 16671, '공비': 16672, '토벌': 16673, '일선': 16674, '서태화': 16675, '이종필': 16676, '서태환': 16677, '개띠': 16678, '털이': 16679, '황금보': 16680, '사보': 16681, '맹씨': 16682, '원통': 16683, '양동이': 16684, '이히': 16685, '쨈': 16686, '어전': 16687, '느글거리': 16688, '기방': 16689, '잠재적': 16690, '호불': 16691, '배경안': 16692, '종속': 16693, '혼탁': 16694, '외척': 16695, '세도정치': 16696, '나라말': 16697, '민비': 16698, '멀리하': 16699, '이례적': 16700, '해외여행': 16701, '욕보': 16702, '상암': 16703, '칼릴': 16704, '지브란': 16705, '문예': 16706, '증류': 16707, '병상': 16708, '창작과': 16709, '관음': 16710, '백성': 16711, '유전체': 16712, '삼발이': 16713, '브래들리': 16714, '미네소타': 16715, '홍승희': 16716, '탭': 16717, '영화사랑': 16718, '무군': 16719, '이상대': 16720, '오도노휴': 16721, '매해': 16722, '안따': 16723, '어금니': 16724, '물정': 16725, '주만호': 16726, '달구': 16727, '꼬치': 16728, '도서': 16729, '토목': 16730, '명박': 16731, '한정판': 16732, '질대': 16733, '이상자': 16734, '잠재력': 16735, '기태': 16736, '고명환': 16737, '사랑법': 16738, '녹화방송': 16739, '설문': 16740, '기계적': 16741, '스텝진': 16742, '광휘': 16743, '디올': 16744, '큰형': 16745, '서무': 16746, '카네기': 16747, '통치하': 16748, '보존': 16749, '소변': 16750, '힘들이': 16751, '진해': 16752, '까미유': 16753, '마에다': 16754, '아츠': 16755, '을나': 16756, '활성화': 16757, '메세': 16758, '불합리': 16759, '포커': 16760, '분산': 16761, '딱따구리': 16762, '쟁탈전': 16763, '위화감': 16764, '지신': 16765, '반지운': 16766, '반자': 16767, '크윽': 16768, '항마': 16769, '파쇼': 16770, '드문드문': 16771, '박효신': 16772, '저포': 16773, '선망': 16774, '처자식': 16775, '성층권': 16776, '박지아': 16777, '해안선': 16778, '레베카': 16779, '밤톨': 16780, '등쳐먹': 16781, '브릿지': 16782, '야마무라': 16783, '사다꼬': 16784, '숙지': 16785, '키라': 16786, '우렁차': 16787, '문희준': 16788, '완쾌': 16789, '아우성': 16790, '판국': 16791, '길더': 16792, '부엉이': 16793, '부엉부엉': 16794, '부엉': 16795, '전념': 16796, '백동수': 16797, '의보': 16798, '운용': 16799, '동조자': 16800, '감상주의': 16801, '시기상조': 16802, '이율': 16803, '바비도': 16804, '홀애비': 16805, '실의': 16806, '여울': 16807, '포의': 16808, '파손': 16809, '기체': 16810, '성형중': 16811, '까부': 16812, '엘리펀트': 16813, '코비': 16814, '김영민': 16815, '조을': 16816, '청옥': 16817, '제비': 16818, '막국수': 16819, '자취': 16820, '결과주의': 16821, '불건전': 16822, '일단락': 16823, '해어지': 16824, '웨딩드레스': 16825, '싸다니': 16826, '건중': 16827, '청빈': 16828, '고석양': 16829, '유치장': 16830, '타올': 16831, '온돌': 16832, '예시': 16833, '연석': 16834, '용철': 16835, '애송이': 16836, '비이성적': 16837, '방심': 16838, '월경': 16839, '사사': 16840, '운사': 16841, '수반': 16842, '묵비': 16843, '목격': 16844, '맞선': 16845, '박인환': 16846, '유호정': 16847, '이재룡': 16848, '윤미라': 16849, '박주미': 16850, '출세작': 16851, '한진': 16852, '소사이어티': 16853, '박소현': 16854, '태종대': 16855, '근로계약': 16856, '설립': 16857, '점거': 16858, '재량': 16859, '팬티스타킹': 16860, '위성무': 16861, '중턱': 16862, '짓지': 16863, '치미노': 16864, '이단아': 16865, '인공호흡': 16866, '전호': 16867, '멘델': 16868, '마르크스': 16869, '만국': 16870, '단결': 16871, '온데간데없': 16872, '어버버': 16873, '생체': 16874, '버들': 16875, '곽원갑': 16876, '우역': 16877, '무소유': 16878, '바콜': 16879, '부부간': 16880, '발탁': 16881, '밀키스': 16882, '쿠테타': 16883, '기형적': 16884, '남성인': 16885, '나침판': 16886, '보호자': 16887, '이탄': 16888, '산토': 16889, '로드맨': 16890, '완료': 16891, '변천사': 16892, '정경애': 16893, '되지못하': 16894, '해방론자': 16895, '기린': 16896, '문명화': 16897, '법치주의': 16898, '하수도': 16899, '꾸꾸': 16900, '한탕주의': 16901, '군신': 16902, '산부인과': 16903, '파괴범': 16904, '주먹질': 16905, '연가': 16906, '전전긍긍': 16907, '앙꼬': 16908, '음청': 16909, '에블린': 16910, '개호': 16911, '방학기': 16912, '연탄불': 16913, '껄껄껄': 16914, '재개발': 16915, '일취월장': 16916, '자기혐오': 16917, '이재정': 16918, '이엉': 16919, '중산': 16920, '야산': 16921, '애원': 16922, '체구': 16923, '우웅': 16924, '호동이': 16925, '계승': 16926, '진역': 16927, '본처': 16928, '횡': 16929, '득세': 16930, '혼란기': 16931, '따끈따끈': 16932, '커리': 16933, '암술': 16934, '엠피': 16935, '왼손': 16936, '사자후': 16937, '성삼위': 16938, '인간화': 16939, '냉동차': 16940, '조가': 16941, '이글스': 16942, '애꿎': 16943, '삼각대': 16944, '탄두': 16945, '임정영': 16946, '의회': 16947, '올란도': 16948, '클레이튼': 16949, '낸시랭': 16950, '금기': 16951, '성품': 16952, '저격수': 16953, '마일즈': 16954, '텔러': 16955, '나온기': 16956, '언브레이커블': 16957, '상세히': 16958, '예루살렘': 16959, '은주님': 16960, '마세영': 16961, '성깔': 16962, '장의': 16963, '김석정': 16964, '첼로': 16965, '항소': 16966, '일극': 16967, '양동구': 16968, '신의경': 16969, '사천왕': 16970, '성남구': 16971, '거버': 16972, '대디': 16973, '후후후': 16974, '남극': 16975, '방치': 16976, '마이너리티': 16977, '표현법': 16978, '시타': 16979, '코엘료': 16980, '동행': 16981, '가족사진': 16982, '유유자': 16983, '은마': 16984, '완성작': 16985, '찰떡': 16986, '투스': 16987, '사한': 16988, '낯설음': 16989, '신희': 16990, '녹음기': 16991, '신령': 16992, '김지호': 16993, '차세대': 16994, '의열': 16995, '찌그리': 16996, '동불': 16997, '이온': 16998, '이상임': 16999, '외화벌이': 17000, '사칭': 17001, '아이폰': 17002, '인센티브': 17003, '살리에리': 17004, '기인하': 17005, '힌즈': 17006, '세차': 17007, '개울': 17008, '조회수': 17009, '모란꽃': 17010, '옆자리': 17011, '맹랑': 17012, '보약': 17013, '불순': 17014, '역설': 17015, '권력층': 17016, '지방인': 17017, '황금시대': 17018, '동석': 17019, '정희': 17020, '텐트': 17021, '하정': 17022, '무뚝뚝': 17023, '죄스럽': 17024, '시안': 17025, '장착': 17026, '기생충': 17027, '건너가': 17028, '정배': 17029, '노주현': 17030, '알트만': 17031, '거들떠': 17032, '마수리': 17033, '소설집': 17034, '투하': 17035, '비즈니스': 17036, '매섭': 17037, '공중전화': 17038, '이꼴': 17039, '뜯어말리': 17040, '친어머니': 17041, '가잘': 17042, '자공': 17043, '박해': 17044, '종래': 17045, '컵': 17046, '통허': 17047, '자사': 17048, '농과': 17049, '적격': 17050, '겉치레': 17051, '쌈빡': 17052, '일회용': 17053, '숨결': 17054, '물음표': 17055, '시져': 17056, '어패': 17057, '박현성': 17058, '타이거': 17059, '음정': 17060, '넝쿨': 17061, '온당': 17062, '홧김': 17063, '오키': 17064, '떡하니': 17065, '설경': 17066, '우종대': 17067, '충격기': 17068, '막일': 17069, '은폐': 17070, '끄집어내': 17071, '전유': 17072, '치원': 17073, '갈비뼈': 17074, '피카소': 17075, '니체': 17076, '초인': 17077, '현시': 17078, '박상륭': 17079, '가랑비': 17080, '가을날': 17081, '섬세히': 17082, '촌놈': 17083, '신이치': 17084, '일시': 17085, '비크': 17086, '제너': 17087, '레이트': 17088, '빼빼': 17089, '포동포동': 17090, '김여진': 17091, '추노영': 17092, '백마탄': 17093, '썩을놈': 17094, '원영의': 17095, '레토': 17096, '부채': 17097, '하틀리': 17098, '워터보이': 17099, '수야': 17100, '꾸러기': 17101, '허상': 17102, '봉헌': 17103, '단보': 17104, '데스페라도': 17105, '해크먼': 17106, '비하인드': 17107, '맞닿': 17108, '방영중': 17109, '아나스타샤': 17110, '폭스사': 17111, '열파': 17112, '김종민': 17113, '문화재': 17114, '정태성': 17115, '대대손손': 17116, '천안문': 17117, '금괴': 17118, '껑충껑충': 17119, '우비': 17120, '무등산': 17121, '박흥': 17122, '객관': 17123, '담대': 17124, '줄타기': 17125, '한생': 17126, '헛짓': 17127, '안사': 17128, '손모가지': 17129, '복음서': 17130, '과기': 17131, '삼거리': 17132, '빌빌대': 17133, '리더쉽': 17134, '장동권': 17135, '방백': 17136, '중오': 17137, '수수방관': 17138, '장이모': 17139, '타키': 17140, '횡단보도': 17141, '인애': 17142, '미명': 17143, '보통내기': 17144, '기집': 17145, '황감': 17146, '동그라미': 17147, '슈만': 17148, '기드': 17149, '완전무결': 17150, '프린스': 17151, '써보': 17152, '기역': 17153, '별장': 17154, '반한영': 17155, '입학식': 17156, '도화': 17157, '끝끝내': 17158, '소극주의': 17159, '교본': 17160, '족치': 17161, '페리': 17162, '별종': 17163, '본종': 17164, '뜨아': 17165, '진용': 17166, '멕시칸': 17167, '크랙': 17168, '졸립고': 17169, '제영': 17170, '전용관': 17171, '아미타': 17172, '라파스': 17173, '더리': 17174, '어머니이': 17175, '시작점': 17176, '노가다': 17177, '네비게이션': 17178, '메이지': 17179, '사쓰마': 17180, '도쿠가와': 17181, '요시노부': 17182, '쇼군': 17183, '격돌': 17184, '테크노': 17185, '임해군': 17186, '고동': 17187, '알렝': 17188, '엄호': 17189, '돌격': 17190, '토사': 17191, '곤드레': 17192, '코털': 17193, '불일치': 17194, '저팔계': 17195, '삼장법사': 17196, '장기중': 17197, '고용하': 17198, '외디푸스': 17199, '오락가락': 17200, '이규한': 17201, '불륨': 17202, '마르잔': 17203, '혈액': 17204, '워너비': 17205, '결손가정': 17206, '내팽개치': 17207, '부림': 17208, '품행제로': 17209, '써클': 17210, '월리엄스': 17211, '남동': 17212, '명가': 17213, '주서': 17214, '업보': 17215, '장인정': 17216, '환경미화원': 17217, '천히': 17218, '고정인': 17219, '우승자': 17220, '똥똥': 17221, '적대': 17222, '대청도': 17223, '포격': 17224, '반동': 17225, '팔도': 17226, '움찔움찔': 17227, '포탑': 17228, '찰흙': 17229, '깜빡깜빡': 17230, '최철호': 17231, '여로': 17232, '근조': 17233, '빠꾸': 17234, '카르마': 17235, '웜': 17236, '홀이': 17237, '출발지': 17238, '스모': 17239, '표지판': 17240, '지긋': 17241, '유구무언': 17242, '짝짝이': 17243, '빈껍데기': 17244, '보호색': 17245, '카린': 17246, '솔깃': 17247, '운수': 17248, '로치': 17249, '한철': 17250, '박기준': 17251, '벗겨지': 17252, '감명적': 17253, '속주': 17254, '마현실': 17255, '테마파크': 17256, '설명회': 17257, '십자군': 17258, '시라노': 17259, '유니세프': 17260, '천대': 17261, '우대': 17262, '속삭임': 17263, '극점': 17264, '급커브': 17265, '폭발력': 17266, '용정': 17267, '카뮈': 17268, '화이어': 17269, '버드': 17270, '해링턴': 17271, '스프레이': 17272, '송두리채': 17273, '의문부호': 17274, '듀스': 17275, '얼큰': 17276, '단위': 17277, '엘리제궁': 17278, '킬리언': 17279, '신말': 17280, '용타': 17281, '법대': 17282, '현직': 17283, '허름': 17284, '동장': 17285, '마보': 17286, '체육복': 17287, '단세포': 17288, '필요조건': 17289, '충분조건': 17290, '입생': 17291, '줄라이': 17292, '전화통': 17293, '생수': 17294, '천우희': 17295, '의관': 17296, '개신': 17297, '맥시코': 17298, '남성영': 17299, '인간사': 17300, '애상': 17301, '인수대비': 17302, '송어': 17303, '박종원': 17304, '어살': 17305, '엑기스': 17306, '파티장': 17307, '불거': 17308, '김준수': 17309, '박유': 17310, '실정': 17311, '한두편': 17312, '해부': 17313, '열등의식': 17314, '승마': 17315, '연기조': 17316, '두텁': 17317, '이송희': 17318, '사자상': 17319, '모질': 17320, '출근길': 17321, '셸리': 17322, '화아': 17323, '종교전쟁': 17324, '땅바닥': 17325, '부서지': 17326, '헝클어지': 17327, '엄포': 17328, '탈출구': 17329, '매디슨': 17330, '카운티': 17331, '악연': 17332, '독학': 17333, '쓸모없이': 17334, '떠돌': 17335, '후지이': 17336, '시설': 17337, '프란츠': 17338, '한스푼': 17339, '신성록': 17340, '오룡': 17341, '서해': 17342, '어획': 17343, '어선': 17344, '노민우': 17345, '린이': 17346, '어니스트': 17347, '다홍색': 17348, '트렌디': 17349, '지도교사': 17350, '농장': 17351, '게으름': 17352, '샹송': 17353, '복사기': 17354, '디카': 17355, '밀당': 17356, '꼴찌': 17357, '획일적': 17358, '알파': 17359, '덧대': 17360, '책받침': 17361, '박초롱': 17362, '수소': 17363, '동문': 17364, '양파': 17365, '황현희': 17366, '부에노스아이레스': 17367, '앨빈': 17368, '패망': 17369, '롬멜': 17370, '설렘주의': 17371, '떨떠름': 17372, '침울': 17373, '인문': 17374, '지만복': 17375, '농지': 17376, '경작': 17377, '무작위': 17378, '외골수': 17379, '일일히': 17380, '실천도': 17381, '돈맛': 17382, '리딩': 17383, '개돼지': 17384, '들여가': 17385, '사육사': 17386, '뭐어': 17387, '발판': 17388, '명분하': 17389, '콩고': 17390, '달동': 17391, '말속': 17392, '머리부': 17393, '비천': 17394, '흑룡': 17395, '통첩': 17396, '죽창': 17397, '회식': 17398, '장지환': 17399, '부쩍': 17400, '속담': 17401, '수빈': 17402, '순정적': 17403, '전화선': 17404, '매트리스': 17405, '다이오드': 17406, '고서': 17407, '촉수': 17408, '부비부비': 17409, '간통죄': 17410, '실리콘': 17411, '박일': 17412, '서술': 17413, '택배': 17414, '금수': 17415, '최화정': 17416, '게임비': 17417, '재간둥이': 17418, '추신': 17419, '교민': 17420, '반짝': 17421, '승연': 17422, '골초': 17423, '야로': 17424, '허영만': 17425, '메카': 17426, '풀어쓰': 17427, '인간상': 17428, '읊조리': 17429, '역습': 17430, '급히': 17431, '신이치로': 17432, '인생살이': 17433, '쇼쇼': 17434, '기마': 17435, '히히힛': 17436, '안정적': 17437, '얼룩소': 17438, '오더': 17439, '결의': 17440, '백석': 17441, '눈쌀': 17442, '곤지': 17443, '그림동화': 17444, '오이': 17445, '새미': 17446, '제트': 17447, '약탈': 17448, '사영': 17449, '원심': 17450, '잠자코': 17451, '배멀미': 17452, '한상진': 17453, '김태현': 17454, '토기': 17455, '뱐': 17456, '홍수': 17457, '하얘지': 17458, '남녀상열지사': 17459, '오른쪽': 17460, '암흑': 17461, '아공': 17462, '숙변': 17463, '강간범': 17464, '우생': 17465, '간내': 17466, '말수': 17467, '부르짖': 17468, '대명천지': 17469, '화형': 17470, '승인': 17471, '처부': 17472, '아동교육': 17473, '학자': 17474, '추론': 17475, '표하': 17476, '아버지이': 17477, '헤링': 17478, '떠돌이': 17479, '요짐보': 17480, '각주': 17481, '직이': 17482, '지금쯤': 17483, '거들먹대': 17484, '모토': 17485, '시리우스': 17486, '모험물': 17487, '하피': 17488, '김인수': 17489, '디렉터스': 17490, '무보': 17491, '향내': 17492, '키커': 17493, '최주봉': 17494, '영건': 17495, '사무소': 17496, '싸이즈': 17497, '건방': 17498, '고급장교': 17499, '날인': 17500, '구애': 17501, '은일': 17502, '용달차': 17503, '승용차': 17504, '헤어스프레이': 17505, '홀리데이': 17506, '기증': 17507, '아틀란티스': 17508, '유니버스': 17509, '조로증': 17510, '후리치': 17511, '오인': 17512, '반미선': 17513, '리젠트': 17514, '의레': 17515, '출타': 17516, '상현': 17517, '화석': 17518, '전진': 17519, '당돌': 17520, '채색': 17521, '버겐': 17522, '필라': 17523, '본따': 17524, '연로': 17525, '허장': 17526, '마운트': 17527, '양갱': 17528, '신인성': 17529, '김선혜': 17530, '박리': 17531, '장방': 17532, '토속적': 17533, '퐁당': 17534, '연우': 17535, '백영규': 17536, '체포': 17537, '잭라이언': 17538, '요량': 17539, '민지수': 17540, '맨디': 17541, '크림': 17542, '천재천': 17543, '피블스': 17544, '공단': 17545, '배경세': 17546, '장준환': 17547, '피카레스크': 17548, '설상가상': 17549, '크메르루주': 17550, '캄보디아': 17551, '프란': 17552, '마스던': 17553, '볼보': 17554, '차악': 17555, '미래와': 17556, '용병': 17557, '익스펜더블': 17558, '소프': 17559, '신문지': 17560, '독일인': 17561, '과보': 17562, '접전': 17563, '주머니': 17564, '보스턴': 17565, '위영화': 17566, '뭍': 17567, '부조': 17568, '견인': 17569, '하룡': 17570, '대입시': 17571, '알딸딸': 17572, '신디사이저': 17573, '송학': 17574, '장량': 17575, '스러지': 17576, '다도': 17577, '골르': 17578, '무가': 17579, '김치전': 17580, '찬밥': 17581, '엎치락뒤치락': 17582, '경보': 17583, '서임': 17584, '바톤': 17585, '현격': 17586, '진명호': 17587, '순리': 17588, '조정위': 17589, '덩그러니': 17590, '연민정': 17591, '가오리': 17592, '미음': 17593, '위너': 17594, '음식보': 17595, '은연': 17596, '선지': 17597, '병렬': 17598, '철렁': 17599, '들어붓': 17600, '색시': 17601, '환멸감': 17602, '레터': 17603, '소모품': 17604, '들먹': 17605, '삼손': 17606, '꿀꺽': 17607, '안경태': 17608, '편자': 17609, '자폐아': 17610, '감성주의': 17611, '직역': 17612, '집안일': 17613, '전수': 17614, '프롬': 17615, '비꼬이': 17616, '당첨자': 17617, '백발': 17618, '지순': 17619, '김승수': 17620, '부업': 17621, '홈쇼핑': 17622, '파벌': 17623, '상점': 17624, '속사': 17625, '염라대왕': 17626, '아바스': 17627, '환청': 17628, '당뇨': 17629, '합병증': 17630, '단형': 17631, '북소리': 17632, '보증': 17633, '주무르': 17634, '뚝심': 17635, '불매운동': 17636, '뒤로하': 17637, '끼야': 17638, '조상기': 17639, '아주머니': 17640, '연석호': 17641, '워렌': 17642, '경건': 17643, '성녀': 17644, '김해': 17645, '은하사': 17646, '옛적': 17647, '생산가': 17648, '공통': 17649, '드웨인': 17650, '닭장차': 17651, '탐스럽': 17652, '모찌': 17653, '앞바다': 17654, '센타': 17655, '항우': 17656, '황우석': 17657, '신변': 17658, '안상수': 17659, '딴생각': 17660, '자임': 17661, '날래': 17662, '호텔리어': 17663, '노지': 17664, '여름날': 17665, '이초': 17666, '발전도': 17667, '왈가불가': 17668, '싸돌': 17669, '오도방정': 17670, '정신교육': 17671, '타지역': 17672, '장년': 17673, '평안남': 17674, '라벤더': 17675, '이재황': 17676, '정신증': 17677, '윈도우': 17678, '자손': 17679, '일으키기': 17680, '후크': 17681, '어잇': 17682, '자금': 17683, '애리': 17684, '뒤바꾸': 17685, '치정': 17686, '질풍': 17687, '체조': 17688, '당사국': 17689, '브로커': 17690, '디렉션': 17691, '어느날': 17692, '어언': 17693, '각목': 17694, '삐라': 17695, '부리나케': 17696, '전술': 17697, '챔피언십': 17698, '쪼매': 17699, '금비': 17700, '코멘터리': 17701, '동명이인': 17702, '한국과': 17703, '관념적': 17704, '우숩': 17705, '정립': 17706, '비토': 17707, '왕성': 17708, '남중': 17709, '허당': 17710, '김성규': 17711, '지성인': 17712, '박기형': 17713, '정창화': 17714, '비칭': 17715, '갖다대': 17716, '와장창': 17717, '봉제': 17718, '서독제': 17719, '초청작': 17720, '출품': 17721, '속고': 17722, '이실직고': 17723, '토네이도': 17724, '백치': 17725, '브라스': 17726, '정지영': 17727, '굴곡': 17728, '기래': 17729, '도주영': 17730, '가십': 17731, '이세나': 17732, '이마트': 17733, 'van': 17734, '가자지구': 17735, '보스니아': 17736, '바론': 17737, '게시': 17738, '길버트': 17739, '사랑인가': 17740, '미혼녀': 17741, '꺼림칙': 17742, '창자': 17743, '이력서': 17744, '만물': 17745, '조직적': 17746, '체육관': 17747, '달걀': 17748, '황실': 17749, '베쓰': 17750, '곡예': 17751, '각설이': 17752, '호동': 17753, '성소': 17754, '수자': 17755, '직성': 17756, '제하': 17757, '종국': 17758, '오붓': 17759, '합방': 17760, '들썩들썩': 17761, '가리키': 17762, '짐머': 17763, '림프': 17764, '비즈킷': 17765, '공상영': 17766, '버팔로': 17767, '양진우': 17768, '군주': 17769, '군왕': 17770, '요직': 17771, '권력자': 17772, '에상': 17773, '해숙씨': 17774, '안티크': 17775, '보채': 17776, '니드': 17777, '자농': 17778, '도복': 17779, '정향': 17780, '보석상': 17781, '남무': 17782, '동사': 17783, '서독': 17784, '휘청거리': 17785, '애브넛': 17786, '버스틴': 17787, '매초': 17788, '삐그덕': 17789, '구성안': 17790, '현관문': 17791, '채영랑': 17792, '에드먼드': 17793, '젤리': 17794, '불낙': 17795, '빼돌리': 17796, '귀싸대기': 17797, '월남': 17798, '멀린': 17799, '치닿': 17800, '손영목': 17801, '관련짓': 17802, '페페': 17803, '화장대': 17804, '신흥군': 17805, '세계정세': 17806, '의계': 17807, '삼대': 17808, '구차': 17809, '유신론자': 17810, '폭력배': 17811, '야훼': 17812, '방조': 17813, '도발': 17814, '차태식': 17815, '흥행작': 17816, '건초': 17817, '부지': 17818, '김상현': 17819, '태이크': 17820, '도치영': 17821, '아키': 17822, '카우리스마키': 17823, '정아': 17824, '화물': 17825, '굴착기': 17826, '까투리': 17827, '전액': 17828, '어록': 17829, '촉산전': 17830, '외강내유': 17831, '재화': 17832, '웅얼거리': 17833, '김기현': 17834, '폴터': 17835, '규홍': 17836, '아니메': 17837, '서편제': 17838, '신규': 17839, '주름살': 17840, '북받치': 17841, '무법천지': 17842, '획일': 17843, '미적': 17844, '비과학적': 17845, '상륙': 17846, '해해해': 17847, '김보경': 17848, '프리즈': 17849, '목요일': 17850, '북조선': 17851, '쿠릴열도': 17852, '진주하': 17853, '후토': 17854, '사할린': 17855, '경유': 17856, '송환': 17857, '침략자': 17858, '띵동': 17859, '힐스': 17860, '영진위': 17861, '지칭': 17862, '아크바르': 17863, '날르': 17864, '색정': 17865, '이탈자': 17866, '채도': 17867, '낭하': 17868, '추사랑': 17869, '코스모': 17870, '이석기': 17871, '김은숙': 17872, '컬러풀': 17873, '적수': 17874, '너덜너덜': 17875, '리본': 17876, '민석': 17877, '결실': 17878, '냉수': 17879, '오스트레일리아인': 17880, '오스트': 17881, '제지': 17882, '암닭': 17883, '제값': 17884, '성현아': 17885, '한줄기': 17886, '기획력': 17887, '날렵': 17888, '서희원': 17889, '신문기': 17890, '힌트': 17891, '금천': 17892, '주황색': 17893, '허허허허': 17894, '메슥': 17895, '호형': 17896, '추상미': 17897, '에어로스미스': 17898, '팩션': 17899, '이상태': 17900, '교포': 17901, '심문': 17902, '스트롱': 17903, '일화': 17904, '이영아': 17905, '손동작': 17906, '종착역': 17907, '트레비스': 17908, '주랑': 17909, '스트라빈스키': 17910, '침팬지': 17911, '순순히': 17912, '독일식': 17913, '허둥지둥': 17914, '성공회대': 17915, '기종': 17916, '외래': 17917, '수철': 17918, '눈인사': 17919, '말괄량이': 17920, '후덕': 17921, '키퍼': 17922, '플레인': 17923, '위기주': 17924, '조급': 17925, '동정적': 17926, '매스껍': 17927, '듀오': 17928, '박재정': 17929, '엠넷': 17930, '작가적': 17931, '마사키': 17932, '오감도': 17933, '행방불명': 17934, '유추': 17935, '구성연': 17936, '성불': 17937, '독소': 17938, '디나': 17939, '시험적': 17940, '평단': 17941, '만장일치': 17942, '선발대': 17943, '판관': 17944, '알츠하이머': 17945, '햄릿': 17946, '길티': 17947, '수송기': 17948, '시에나': 17949, '짜장': 17950, '저스트': 17951, '쵸콜렛': 17952, '태생': 17953, '타이바': 17954, '학교수': 17955, '로고': 17956, '일터': 17957, '허물어지': 17958, '성애자': 17959, '차동주': 17960, '진당': 17961, '두런두런': 17962, '동요': 17963, '고학년': 17964, '브레스트': 17965, '부다': 17966, '책장': 17967, '주스': 17968, '브레이끼': 17969, '가음': 17970, '용돈': 17971, '총대': 17972, '무지무지': 17973, '카메룬': 17974, '갑과': 17975, '작은새': 17976, '김재옥': 17977, '윤현민': 17978, '백로': 17979, '칼국수': 17980, '계엄군': 17981, '자존': 17982, '원숭': 17983, '현숙': 17984, '고진감래': 17985, '조부': 17986, '장장': 17987, '핏줄': 17988, '유원': 17989, '애벌레': 17990, '솔드': 17991, '캐롤라인': 17992, '컨피덴셜': 17993, '양국': 17994, '정보원': 17995, '분리수거': 17996, '대향연': 17997, '아카데미상': 17998, '용의눈물': 17999, '사표': 18000, '게제': 18001, '완구': 18002, '교환': 18003, '좌우익': 18004, '갑수': 18005, '인구수': 18006, '대규모': 18007, '팔방미인': 18008, '우짜다가': 18009, '연년': 18010, '불키': 18011, '에센': 18012, '어감': 18013, '선약': 18014, '김영오': 18015, '동키호테': 18016, '임영': 18017, '오매': 18018, '맞춤법': 18019, '사우디': 18020, '시터': 18021, '만복': 18022, '장애자': 18023, '서인영': 18024, '끄떡없': 18025, '물리력': 18026, '유탄': 18027, '발사기': 18028, '리모트': 18029, '기름지': 18030, '광영': 18031, '유와': 18032, '천왕': 18033, '나미미': 18034, '교언': 18035, '스키야키': 18036, '닌텐도': 18037, '쫄래쫄래': 18038, '방방': 18039, '겨루': 18040, '꾸벅꾸벅': 18041, '아동학': 18042, '귀향': 18043, '합심': 18044, '친부': 18045, '군대식': 18046, '뒤집기': 18047, '초복': 18048, '말복': 18049, '상당수': 18050, '설인': 18051, '이치가와': 18052, '불문률': 18053, '화근': 18054, '고민거리': 18055, '안나라': 18056, '저진': 18057, '귀임': 18058, '적잖이': 18059, '가학적': 18060, '올여름': 18061, '대전제': 18062, '반의어': 18063, '비켜주': 18064, '따로따로': 18065, '콜렉션': 18066, '무통': 18067, '당히': 18068, '매화': 18069, '물것': 18070, '바바리': 18071, '승부수': 18072, '착란증': 18073, '순조': 18074, '이여운': 18075, '신중': 18076, '극인': 18077, '우중': 18078, '여기인': 18079, '우상화': 18080, '세코': 18081, '피노': 18082, '젬마': 18083, '로마나': 18084, '한초아': 18085, '소영화': 18086, '치받': 18087, '다국적': 18088, '주피터': 18089, '쇳덩이': 18090, '우민': 18091, '닷컴': 18092, '일리아드': 18093, '용두': 18094, '뮤턴트': 18095, '치와와': 18096, '본고': 18097, '신시': 18098, '울음소리': 18099, '등산': 18100, '노모': 18101, '솎': 18102, '이탈리아어': 18103, '우주복': 18104, '반대쪽': 18105, '로잔': 18106, '보적': 18107, '청취': 18108, '델피': 18109, '마동성': 18110, '촉망': 18111, '장희진': 18112, '하석진': 18113, '포피': 18114, '기울': 18115, '청치마': 18116, '부츠': 18117, '아우슈비츠': 18118, '독립운동': 18119, '결산': 18120, '혼식': 18121, '배용균': 18122, '노근리': 18123, '조루': 18124, '정시아': 18125, '들이키': 18126, '대국': 18127, '성인남': 18128, '검표원': 18129, '가라앉히': 18130, '마농': 18131, '타일': 18132, '무국적': 18133, '초식': 18134, '흑의': 18135, '인중': 18136, '호되': 18137, '신고식': 18138, '콧방귀': 18139, '으윽': 18140, '스스럼': 18141, '일요': 18142, '체크아웃': 18143, '가필': 18144, '요해': 18145, '씨지브이': 18146, '단무지': 18147, '한겨레': 18148, '신진': 18149, '퇴원': 18150, '놓아두': 18151, '이잉': 18152, '바터': 18153, '자트': 18154, '디저트': 18155, '딱하': 18156, '성형수': 18157, '살인죄': 18158, '안전지대': 18159, '따블': 18160, '진정대': 18161, '기대우': 18162, '어엉': 18163, '관광버스': 18164, '윤하양': 18165, '박씨부인전': 18166, '신상옥': 18167, '물려받': 18168, '직선': 18169, '표효': 18170, '그늘': 18171, '복성': 18172, '절정기': 18173, '엄살': 18174, '고마움': 18175, '작품전': 18176, '축제': 18177, '김태촌': 18178, '인견': 18179, '아수라': 18180, '알버트': 18181, '레다': 18182, '조직폭력배': 18183, '케니': 18184, '명차': 18185, '아스테릭스': 18186, '연잎': 18187, '일순간': 18188, '듀폰': 18189, '지점장': 18190, '안치우': 18191, '하이든': 18192, '우상시': 18193, '풍경화': 18194, '모파상': 18195, '불같이': 18196, '그제서야': 18197, '루돌프': 18198, '아라한': 18199, '메이커': 18200, '사뿐히': 18201, '탁본': 18202, '기사단': 18203, '기선': 18204, '질펀': 18205, '서프': 18206, '라이츠': 18207, '종보': 18208, '식빵': 18209, '입속': 18210, '시츄에이션': 18211, '비아그라': 18212, '벌점': 18213, '앤드류스': 18214, '몸서리치': 18215, '레슬러': 18216, '기여운': 18217, '상반기': 18218, '편모': 18219, '포탈': 18220, '구시대': 18221, '제이크': 18222, '겸허': 18223, '생맥주': 18224, '숙수': 18225, '하렘': 18226, '세감': 18227, '오사와': 18228, '벚': 18229, '신경균': 18230, '이재익': 18231, '박훈': 18232, '자초': 18233, '영재': 18234, '응답기': 18235, '준치': 18236, '꾸기': 18237, '울퉁불퉁': 18238, '연구소': 18239, '서고': 18240, '객체': 18241, '볼품없이': 18242, '고창석': 18243, '수차례': 18244, '포르쉐': 18245, '절절히': 18246, '오형': 18247, '효녀': 18248, '기랑': 18249, '기통': 18250, '캐논': 18251, '번쩍이': 18252, '다스리': 18253, '곱빼기': 18254, '볶음밥': 18255, '십이지장': 18256, '걸림돌': 18257, '가승': 18258, '하사': 18259, '군림': 18260, '동등': 18261, '동체': 18262, '공멸': 18263, '패셔너블': 18264, '파렴치한': 18265, '풀려나': 18266, '와르르': 18267, '찰싹찰싹': 18268, '프랑소와': 18269, '어차': 18270, '그레고리': 18271, '우피': 18272, '임현제': 18273, '물개': 18274, '도시적': 18275, '안과': 18276, '허리케인': 18277, '캐나다인': 18278, '해원': 18279, '이메일': 18280, '정웅': 18281, '세태': 18282, '볼드윈': 18283, '평평': 18284, '랭카스터': 18285, '다다다다': 18286, '흥미도': 18287, '노예문': 18288, '인적': 18289, '에이그': 18290, '상극': 18291, '노시온': 18292, '마이티': 18293, '바짝': 18294, '엎드리': 18295, '태동': 18296, '수작업': 18297, '화실': 18298, '봉의': 18299, '편애': 18300, '추행': 18301, '발렌타인': 18302, '쑥맥': 18303, '연애담': 18304, '커크': 18305, '화일': 18306, '포천': 18307, '연천': 18308, '곱창': 18309, '베스': 18310, '휴머니스트': 18311, '막걸리': 18312, '쌍라이트': 18313, '대중심리': 18314, '사거리': 18315, '예식장': 18316, '시댁': 18317, '조각나': 18318, '용대가리': 18319, '교장실': 18320, '담임선생': 18321, '온주': 18322, '완도': 18323, '전교': 18324, '엘리엇': 18325, '김치국': 18326, '퀭': 18327, '고취': 18328, '가솔': 18329, '직히': 18330, '웨이브': 18331, '몬트리올': 18332, '볼링공': 18333, '국가정보원': 18334, '입수': 18335, '분말': 18336, '길음': 18337, '자살행위': 18338, '장어': 18339, '존재근거': 18340, '옵션': 18341, '불교관': 18342, '피상적': 18343, '까마귀': 18344, '사커': 18345, '미카엘': 18346, '이기전': 18347, '자베르': 18348, '옭아매': 18349, '쓸모': 18350, '돌개': 18351, '저글링': 18352, '환류': 18353, '문형': 18354, '불쌍히': 18355, '크리스천': 18356, '발자취': 18357, '초코파이': 18358, '자연적': 18359, '다발': 18360, '평전': 18361, '추자현': 18362, '카톨릭': 18363, '방울방울': 18364, '몸무': 18365, '이규형': 18366, '스탠리': 18367, '어처구니없이': 18368, '가성': 18369, '유분수': 18370, '개불': 18371, '뽄드': 18372, '글솜씨': 18373, '엘로': 18374, '첫인상': 18375, '데스카': 18376, '첫걸음': 18377, '쿨로': 18378, '새언니': 18379, '미약': 18380, '급격히': 18381, '전유물': 18382, '거들': 18383, '에아': 18384, '서은기': 18385, '명상하': 18386, '차별주의': 18387, '옹이': 18388, '강희': 18389, '생채기': 18390, '중공': 18391, '논증': 18392, '독처': 18393, '전소': 18394, '고행길': 18395, '뼈아프': 18396, '관광지': 18397, '고즈넉': 18398, '한영상': 18399, '신명나': 18400, '춤판': 18401, '예라': 18402, '호응': 18403, '종지부': 18404, '끄집': 18405, '투기': 18406, '킨스키': 18407, '연주장': 18408, '친자식': 18409, '감제': 18410, '이건하': 18411, '산전수전': 18412, '이상엽': 18413, '박현': 18414, '쉬쉬': 18415, '찬영': 18416, '도처': 18417, '원원': 18418, '파란색': 18419, '징징징': 18420, '순경': 18421, '인내천': 18422, '인스탄트': 18423, '전대미문': 18424, '그리샴': 18425, '오역': 18426, '문방구': 18427, '과묵': 18428, '공화국': 18429, '팜플렛': 18430, '서핑': 18431, '늙이': 18432, '전야': 18433, '석호필': 18434, '강쇠': 18435, '스팸': 18436, '블랙리스트': 18437, '영구차': 18438, '단부': 18439, '다단': 18440, '문연': 18441, '모루': 18442, '도안나': 18443, '최호': 18444, '소굴': 18445, '독기': 18446, '르포': 18447, '근질근질': 18448, '빨아들이': 18449, '한국사': 18450, '승복': 18451, '총동원': 18452, '치욕스럽': 18453, '오뉴월': 18454, '물리학자': 18455, '증세': 18456, '후미': 18457, '클램프': 18458, '조짐': 18459, '다포': 18460, '몸조리': 18461, '조정래': 18462, '기약': 18463, '키싱구라미': 18464, '방출': 18465, '낚시대': 18466, '목도': 18467, '왕석현': 18468, '강신일': 18469, '희석': 18470, '날짜': 18471, '불초자': 18472, '빈정대': 18473, '식탁보': 18474, '조지인': 18475, '안도': 18476, '무취': 18477, '통구이': 18478, '윤세주': 18479, '추척': 18480, '겁먹': 18481, '명성대': 18482, '불가피': 18483, '스즈키': 18484, '료헤이': 18485, '기념작': 18486, '화진': 18487, '쓸쓸히': 18488, '겨울방학': 18489, '요약본': 18490, '최근영': 18491, '구미역': 18492, '물오르': 18493, '메디': 18494, '뉴욕시': 18495, '아늑': 18496, '까락': 18497, '개평': 18498, '공도': 18499, '에버랜드': 18500, '서울대': 18501, '설법': 18502, '취약': 18503, '남진': 18504, '창밖': 18505, '인병': 18506, '뒤잇': 18507, '원수로': 18508, '가택': 18509, '연금보': 18510, '혁이': 18511, '조연정': 18512, '한예리': 18513, '슈팅': 18514, '갈채': 18515, '중고생': 18516, '휴전협정': 18517, '영문': 18518, '붇': 18519, '마오': 18520, '마오쩌뚱': 18521, '예선': 18522, '김진': 18523, '장시간': 18524, '소원성': 18525, '미필': 18526, '인목': 18527, '우사': 18528, '웨버': 18529, '호야': 18530, '피로감': 18531, '김재효': 18532, '심각히': 18533, '실어증': 18534, '부령': 18535, '후처': 18536, '암거': 18537, '덥석': 18538, '넌더리': 18539, '환호성': 18540, '은영': 18541, '통합': 18542, '걸핏하면': 18543, '아이티': 18544, '양광': 18545, '정동': 18546, '장물': 18547, '동네방네': 18548, '빈방': 18549, '버나드': 18550, '인감': 18551, '피장파장': 18552, '곱하기': 18553, '빙그레': 18554, '승점': 18555, '게': 18556, '투자비': 18557, '본디': 18558, '빌라도': 18559, '정치력': 18560, '물거품': 18561, '서명': 18562, '헬프': 18563, '사필귀정': 18564, '국제화': 18565, '대릴': 18566, '네모': 18567, '각지': 18568, '표백제': 18569, '사령관': 18570, '자기전': 18571, '핀치': 18572, '나카타니': 18573, '눈가림': 18574, '우유': 18575, '신해철': 18576, '가조': 18577, '허우대': 18578, '안도감': 18579, '직접화법': 18580, '오윤아': 18581, '자궁': 18582, '신사적': 18583, '현재와': 18584, '쯩': 18585, '명맥': 18586, '일안': 18587, '들고일어나': 18588, '야성': 18589, '파파라치': 18590, '최고도': 18591, '안젤로': 18592, '조건반사': 18593, '염통': 18594, '파타': 18595, '리베': 18596, '뱃살': 18597, '헛탕': 18598, '정말주': 18599, '난간': 18600, '명과': 18601, '극악무도': 18602, '강압적': 18603, '숙청': 18604, '강행': 18605, '응원단': 18606, '공수임': 18607, '하소연': 18608, '문제아': 18609, '미즈노': 18610, '지단': 18611, '임정희': 18612, '아계': 18613, '박종훈': 18614, '주문부': 18615, '뉴올리언스': 18616, '변태인': 18617, '글랜': 18618, '만분지': 18619, '화기애애': 18620, '능성': 18621, '안수': 18622, '적형': 18623, '교빈': 18624, '청강': 18625, '헤로인': 18626, '난장': 18627, '투영': 18628, '놀고먹': 18629, '광선': 18630, '환각제': 18631, '무명인': 18632, '이상일': 18633, '명예나': 18634, '유해': 18635, '유리코': 18636, '고득점': 18637, '방광자': 18638, '자문': 18639, '더치': 18640, '자파': 18641, '설명적': 18642, '과장적': 18643, '달빛': 18644, '정역': 18645, '만루': 18646, '홈런': 18647, '알루미늄': 18648, '생고기': 18649, '부단': 18650, '색도': 18651, '서열': 18652, '성전': 18653, '별수': 18654, '폴링': 18655, '호주머니': 18656, '배야': 18657, '더더': 18658, '으세': 18659, '트로피': 18660, '차디차': 18661, '롤라': 18662, '국내판': 18663, '꼬랑지': 18664, '몸통': 18665, '오탁': 18666, '알래스카': 18667, '격납고': 18668, '메이크': 18669, '자비에르': 18670, '갈라서': 18671, '적기가': 18672, '교재': 18673, '비도덕적': 18674, '균형감': 18675, '쳐죽이': 18676, '괄': 18677, '리바이': 18678, '대갈': 18679, '허둥대': 18680, '한수연': 18681, '지터': 18682, '흐유': 18683, '윌리암슨': 18684, '각본가': 18685, '에렌': 18686, '크루거': 18687, '원활': 18688, '방하': 18689, '리포터': 18690, '랜턴': 18691, '노려보': 18692, '조은숙': 18693, '김유미': 18694, '헬레나': 18695, '화채': 18696, '회복기': 18697, '보강': 18698, '웨어': 18699, '로날드': 18700, '하동훈': 18701, '선만': 18702, '형만': 18703, '새누리당': 18704, '어린이부': 18705, '초원': 18706, '경석': 18707, '개짓거리': 18708, '병운': 18709, '양현석': 18710, '을성': 18711, '과목': 18712, '강민선': 18713, '정장': 18714, '카우보이': 18715, '탐사': 18716, '규범': 18717, '기품': 18718, '기실': 18719, '나으리': 18720, '장악하': 18721, '브루': 18722, '불가사리': 18723, '찾아헤매': 18724, '단백': 18725, '법석': 18726, '후예': 18727, '획기': 18728, '자일리톨': 18729, '공유지': 18730, '독선적': 18731, '애니메이터': 18732, '하청': 18733, '을사조약': 18734, '소공': 18735, '주의영': 18736, '연날리기': 18737, '불꽃놀이': 18738, '소한영': 18739, '홀홀': 18740, '숫하': 18741, '우주기지': 18742, '일사천리': 18743, '용일': 18744, '도우미': 18745, '만덜': 18746, '대폭': 18747, '상욱': 18748, '반팔티': 18749, '확연히': 18750, '토박이': 18751, '유명영': 18752, '사역': 18753, '정죄': 18754, '회계': 18755, '아오키': 18756, '바스터': 18757, '한센': 18758, '먹혀들': 18759, '입장료': 18760, '돌려받': 18761, '김동빈': 18762, '손부': 18763, '극한상황': 18764, '전달자': 18765, '지위': 18766, '허기': 18767, '불러들이': 18768, '최상학': 18769, '양년': 18770, '클리프': 18771, '생활고': 18772, '워리어스': 18773, '승무': 18774, '지간': 18775, '흐흐흐': 18776, '진승현': 18777, '식사': 18778, '수상실': 18779, '김근홍': 18780, '공빈': 18781, '병훈': 18782, '아미르': 18783, '한가운데': 18784, '매한가지': 18785, '천적': 18786, '배상': 18787, '청구': 18788, '분별력': 18789, '연걸님': 18790, '차수연': 18791, '고함치': 18792, '아쿠아': 18793, '정지우': 18794, '카디자': 18795, '선지자': 18796, '미식거리': 18797, '소동': 18798, '따개': 18799, '기획자': 18800, '술래': 18801, '인가서': 18802, '서스페리아': 18803, '차인': 18804, '매드니스': 18805, '역무원': 18806, '어지러움': 18807, '목걸이': 18808, '플라스틱': 18809, '공모전': 18810, '서반': 18811, '고참': 18812, '신한': 18813, '북한어': 18814, '평생토록': 18815, '이준영': 18816, '식자': 18817, '임산부': 18818, '표적': 18819, '브라운아이즈': 18820, '떠벌리': 18821, '배구공': 18822, '득실대': 18823, '용진': 18824, '애니웨이': 18825, '무삼': 18826, '해녀': 18827, '유영': 18828, '철모': 18829, '카버': 18830, '미첼': 18831, '우드랜드': 18832, '연남동': 18833, '난교': 18834, '머리숱': 18835, '탈모': 18836, '경박': 18837, '퇴짜': 18838, '진흥': 18839, '광해군': 18840, '인조반정': 18841, '잡답': 18842, '권력투쟁': 18843, '사회의식': 18844, '줄스': 18845, '일영': 18846, '마우희': 18847, '안태': 18848, '진채': 18849, '기만행위': 18850, '세부적': 18851, '호퍼': 18852, '구냥': 18853, '엄벌': 18854, '미술감독': 18855, '명확히': 18856, '장의사': 18857, '참전자': 18858, '부유': 18859, '한영국': 18860, '이강훈': 18861, '해롭': 18862, '장악': 18863, '연막': 18864, '주르르': 18865, '편부': 18866, '심약자': 18867, '과물': 18868, '인간소외': 18869, '얕보': 18870, '면암': 18871, '수용소': 18872, '다수파': 18873, '후진적': 18874, '소수파': 18875, '소춘': 18876, '별빛': 18877, '도요다': 18878, '번뜩': 18879, '한대중': 18880, '공동': 18881, '명소': 18882, '일벌': 18883, '임영화': 18884, '서슴없이': 18885, '또만': 18886, '셔츠': 18887, '이연우': 18888, '직관력': 18889, '감옥살이': 18890, '테크니컬': 18891, '메신저': 18892, '이화': 18893, '재동': 18894, '난비': 18895, '간간': 18896, '제곱': 18897, '배꼽티': 18898, '뛰어들': 18899, '왕조': 18900, '추종하': 18901, '기럭지': 18902, '벤더스': 18903, '백과': 18904, '안이한': 18905, '성영화': 18906, '별무': 18907, '김선미': 18908, '내비치': 18909, '셀린': 18910, '스탠': 18911, '팩': 18912, '아이라': 18913, '김재철': 18914, '황황': 18915, '별미': 18916, '조용원': 18917, '석가모니': 18918, '무엄': 18919, '터무니없이': 18920, '왜정': 18921, '한탄': 18922, '호킨스': 18923, '버섯': 18924, '프렌드': 18925, '텔런트': 18926, '만선': 18927, '원인제': 18928, '젤루': 18929, '호반': 18930, '진행덕': 18931, '영웅서사시': 18932, '지엽적': 18933, '메지': 18934, '편리': 18935, '공치': 18936, '흠결': 18937, '마시멜로': 18938, '스산': 18939, '흑백사진': 18940, '음담패설': 18941, '흠모': 18942, '교계': 18943, '주창하': 18944, '상동': 18945, '미그기': 18946, '신뢰도': 18947, '박정환': 18948, '이태준': 18949, '헤이엑': 18950, '아쳐': 18951, '태지': 18952, '소원우': 18953, '초음파': 18954, '하위권': 18955, '킹덤': 18956, '쑥': 18957, '레트': 18958, '백승범': 18959, '머나멀': 18960, '당부': 18961, '보리스': 18962, '델': 18963, '석의': 18964, '죽순': 18965, '시류': 18966, '역동': 18967, '태광': 18968, '강소영': 18969, '쌍코피': 18970, '클리닉': 18971, '발해': 18972, '재대': 18973, '큐트': 18974, '하바': 18975, '홍은': 18976, '윤성호': 18977, '이영훈': 18978, '뉴베리': 18979, '한희정': 18980, '도방': 18981, '애완동물': 18982, '자재': 18983, '너도나도': 18984, '방송자': 18985, '배반': 18986, '봉미': 18987, '지율': 18988, '애로우': 18989, '제끼': 18990, '가라앉': 18991, '불가분성': 18992, '연지아': 18993, '충혈': 18994, '달려오': 18995, '마커스': 18996, '남새': 18997, '사무': 18998, '의학박사': 18999, '굵직': 19000, '이대': 19001, '제빵': 19002, '난적': 19003, '새들': 19004, '질퍽': 19005, '거리낌': 19006, '무던': 19007, '마노': 19008, '전결': 19009, '말티': 19010, '시중': 19011, '그네': 19012, '딕시': 19013, '초급': 19014, '위악': 19015, '박의': 19016, '환담': 19017, '한강': 19018, '흘깃': 19019, '눌': 19020, '미들러': 19021, '주안': 19022, '빼내': 19023, '샴': 19024, '의뢰인': 19025, '강력계': 19026, '뱃지': 19027, '케네스': 19028, '솜사탕': 19029, '원초': 19030, '히브리': 19031, '노예제도': 19032, '농한기': 19033, '뉴딜': 19034, '오뚝이': 19035, '한담': 19036, '더크': 19037, '배우화': 19038, '프러포즈': 19039, '레일': 19040, '통제하': 19041, '됨됨이': 19042, '제르미': 19043, '위그': 19044, '영접': 19045, '연산': 19046, '개혁': 19047, '양당': 19048, '반역자': 19049, '사관': 19050, '열성분자': 19051, '다자': 19052, '사이영': 19053, '시명': 19054, '주접': 19055, '담지': 19056, '자책감': 19057, '닮은꼴': 19058, '풀풀': 19059, '이호영': 19060, '후쿠다': 19061, '벼락': 19062, '유명무실': 19063, '방구석': 19064, '실베스트': 19065, '진혜림': 19066, '낙엽': 19067, '장일호': 19068, '나란': 19069, '고충': 19070, '릴레이': 19071, '지도화': 19072, '홍진영': 19073, '임선우': 19074, '빈센조': 19075, '최아라': 19076, '초단': 19077, '늘어뜨리': 19078, '작아지': 19079, '경과': 19080, '헤드스핀': 19081, '노총각': 19082, '즐거워지': 19083, '작은신화': 19084, '신격': 19085, '남미': 19086, '유유히': 19087, '애늙은이': 19088, '순박': 19089, '코코': 19090, '재외': 19091, '부제목': 19092, '불독': 19093, '맨션': 19094, '메들리': 19095, '시판': 19096, '지보': 19097, '회당': 19098, '민머리': 19099, '표창': 19100, '흐흠': 19101, '종소리': 19102, '심리학': 19103, '비너스': 19104, '금장': 19105, '자갈': 19106, '강래원': 19107, '마상': 19108, '다반사': 19109, '침침': 19110, '쥬얼리': 19111, '영업': 19112, '타타타': 19113, '고고학자': 19114, '후려갈기': 19115, '사사사': 19116, '움직': 19117, '부스럭': 19118, '적일': 19119, '김윤성': 19120, '기획과': 19121, '앞줄': 19122, '탈로': 19123, '백문': 19124, '불여일견': 19125, '웅대': 19126, '잠재': 19127, '몽유병': 19128, '화급': 19129, '구해준': 19130, '포연': 19131, '짝꿍': 19132, '출도': 19133, '조공': 19134, '혐오증': 19135, '주련': 19136, '친위': 19137, '계급장': 19138, '아사랑': 19139, '반비례': 19140, '삼보': 19141, '에미넴': 19142, '일방': 19143, '토지': 19144, '흥분감': 19145, '몸파': 19146, '한지원': 19147, '황량': 19148, '셜리': 19149, '클라인': 19150, '웨렌': 19151, '미수': 19152, '미에코': 19153, '서울전': 19154, '정이현': 19155, '국경': 19156, '진유덕': 19157, '동아': 19158, '폴란스키': 19159, '퍽퍽퍽': 19160, '이이영': 19161, '차기인': 19162, '경희대': 19163, '위한나': 19164, '백선엽': 19165, '알카포네': 19166, '인공적': 19167, '매월': 19168, '빻': 19169, '자연환경': 19170, '아트시네마': 19171, '흑백필름': 19172, '최여진': 19173, '나수영': 19174, '술주정뱅이': 19175, '꼬장': 19176, '주정뱅이': 19177, '주방장': 19178, '납치범': 19179, '스파르타식': 19180, '망고스틴': 19181, '다서': 19182, '차돌이': 19183, '오름': 19184, '청부업자': 19185, '식용유': 19186, '가름': 19187, '아랫입술': 19188, '공영': 19189, '언어폭력': 19190, '순익': 19191, '함해': 19192, '지혜인': 19193, '슬로': 19194, '본조': 19195, '펑키': 19196, '박용하': 19197, '금옥연': 19198, '박효민': 19199, '개나무': 19200, '언능': 19201, '상한': 19202, '현장감': 19203, '어깨넘어': 19204, '모기장': 19205, '백곰': 19206, '기호': 19207, '무소속': 19208, '거추장스럽': 19209, '앵글로': 19210, '고음': 19211, '굶주리': 19212, '인고': 19213, '외숙모': 19214, '쏭': 19215, '말미': 19216, '말종': 19217, 'ㅈㅈ': 19218, '이만저만': 19219, '토스': 19220, '냉기': 19221, '이수빈': 19222, '박소영': 19223, '사이드': 19224, '수법': 19225, '감잡히': 19226, '아무르': 19227, '밀리언': 19228, '극심': 19229, '이순재': 19230, '걷어차': 19231, '머리끝': 19232, '아름': 19233, '비노': 19234, '금값': 19235, '개도국': 19236, '공구': 19237, '구해영': 19238, '극약': 19239, '생일도': 19240, '배삼룡': 19241, '달마': 19242, '엄숙': 19243, '기저': 19244, '빈사': 19245, '타나': 19246, '청룡영화상': 19247, '최우수': 19248, '승우': 19249, '담력': 19250, '람만': 19251, '의무감': 19252, '장민경': 19253, '데몰리션': 19254, '터프함': 19255, '낄낄낄': 19256, '찌뿌': 19257, '수혈': 19258, '헌혈': 19259, '불조': 19260, '그리트': 19261, '그리피스': 19262, '진상하': 19263, '현채': 19264, '우그': 19265, '창창': 19266, '낙시': 19267, '부부들': 19268, '쌍기': 19269, '창의': 19270, '허파': 19271, '주얼리': 19272, '촉나라': 19273, '유관': 19274, '오나라': 19275, '궁지': 19276, '까발리': 19277, '문화성': 19278, '숙박업소': 19279, '하선': 19280, '성태현': 19281, '씨아이': 19282, '방진': 19283, '추자': 19284, '블랙호크다운': 19285, '통신': 19286, '상과': 19287, '축배': 19288, '해살': 19289, '첨가물': 19290, '권순분': 19291, '차가워지': 19292, '차도로': 19293, '재래시장': 19294, '해산물': 19295, '강태욱': 19296, '기속': 19297, '몽롱': 19298, '지질': 19299, '농축': 19300, '카라멜': 19301, '혼의': 19302, '돋보기': 19303, '가속': 19304, '의술': 19305, '사시': 19306, '동승': 19307, '김한민': 19308, '벌집': 19309, '밀렵': 19310, '근접': 19311, '지느러미': 19312, '시거': 19313, '근원적': 19314, '깡통': 19315, '촬영기': 19316, '오마에': 19317, '모우': 19318, '공개적': 19319, '뜯어먹': 19320, '퐁네프': 19321, '지아': 19322, '공소시효': 19323, '가까워': 19324, '결승': 19325, '더우기': 19326, '육회': 19327, '고추장': 19328, '여념': 19329, '표현수': 19330, '불판': 19331, '안소영': 19332, '갖가지': 19333, '부딛치': 19334, '이변': 19335, '각서': 19336, '나부랑이': 19337, '서안': 19338, '걸음걸이': 19339, '보디가드': 19340, '멜로스': 19341, '결집': 19342, '고스': 19343, '타만': 19344, '섬머': 19345, '청자': 19346, '극사실주의': 19347, '새넌': 19348, '세미': 19349, '군사력': 19350, '김시덕': 19351, '마우스피스': 19352, '국수주의': 19353, '오민아': 19354, '장미희': 19355, '지어내': 19356, '말본새': 19357, '한푼': 19358, '그렉': 19359, '김호정': 19360, '필리': 19361, '피아': 19362, '해영': 19363, '곧대로': 19364, '반지하': 19365, '컨트리': 19366, '한하': 19367, '피츠': 19368, '눈물바다': 19369, '역겁': 19370, '흐리멍덩': 19371, '원점': 19372, '장택기': 19373, '핵폭발': 19374, '이인수': 19375, '위임': 19376, '세팅': 19377, '출발선': 19378, '카이사르': 19379, '고급지': 19380, '서유경': 19381, '부티': 19382, '물갈이': 19383, '시람': 19384, '환경문제': 19385, '온난화': 19386, '과편': 19387, '동무': 19388, '킵': 19389, '할부': 19390, '이성관': 19391, '손실': 19392, '스타덤': 19393, '가다듬': 19394, '경제력': 19395, '버번': 19396, '다빈': 19397, '유관순': 19398, '물주': 19399, '난만': 19400, '동반자': 19401, '신영진': 19402, '요르단': 19403, '수사력': 19404, '윈튼': 19405, '전갈': 19406, '목동': 19407, '팽겨치': 19408, '떠나버리': 19409, '휘어잡': 19410, '만호': 19411, '지나다니': 19412, '쏠로': 19413, '순간적': 19414, '연만': 19415, '내우': 19416, '천연덕스럽': 19417, '도제': 19418, '카르페': 19419, '터닝': 19420, '옹호자': 19421, '돌로레스': 19422, '시방': 19423, '빨대': 19424, '양희경': 19425, '생신': 19426, '심리학자': 19427, '직소': 19428, '타미': 19429, '뒤꿈치': 19430, '가려내': 19431, '벙어리': 19432, '독심': 19433, '실실': 19434, '마담': 19435, '은퇴작': 19436, '분대장': 19437, '배부': 19438, '정산': 19439, '버팀목': 19440, '앤드루스': 19441, '이소선': 19442, '군복': 19443, '재리': 19444, '빌어먹': 19445, '호령': 19446, '블레이크': 19447, '허경환': 19448, '장승업': 19449, '조매': 19450, '넌센스': 19451, '달란트': 19452, '근대사': 19453, '포옹': 19454, '나나미': 19455, '단물': 19456, '에그머니나': 19457, '지명도': 19458, '브러더스': 19459, '으허허허': 19460, '학과': 19461, '수재민': 19462, '체첸': 19463, '이방인': 19464, '실버': 19465, '신용카드': 19466, '기웃거리': 19467, '천만영': 19468, '복이': 19469, '다빈치': 19470, '위험천만': 19471, '바닥나': 19472, '직무': 19473, '가정주부': 19474, '원죄': 19475, '양요섭': 19476, '릉': 19477, '괜스레': 19478, '교육부': 19479, '파지': 19480, '산은': 19481, '김정현': 19482, '어머님': 19483, '추천안': 19484, '사이다': 19485, '통달': 19486, '갸웃거리': 19487, '자위행위': 19488, '끈적': 19489, '원가': 19490, '미오': 19491, '다이어리': 19492, '물밀': 19493, '그렁그렁': 19494, '보드게임': 19495, '상대성이론': 19496, '캬라멜': 19497, '라떼': 19498, '밤잠': 19499, '자처': 19500, '협동심': 19501, '개인주의': 19502, '김수철': 19503, '춘자': 19504, '이대근': 19505, '율의': 19506, '이브생': 19507, '가스파르': 19508, '스핀': 19509, '주제문': 19510, '언저리': 19511, '납량': 19512, '초상화': 19513, '산타루치아': 19514, '최양일': 19515, '하드보일드': 19516, '한국영상자료원': 19517, '꼬방': 19518, '전용배': 19519, '밀랍': 19520, '자폐증': 19521, '멀리멀리': 19522, '전원': 19523, '유소년': 19524, '도피': 19525, '만병통치약': 19526, '공동투자': 19527, '적성': 19528, '조작법': 19529, '무지막지': 19530, '패스트': 19531, '퓨리어스': 19532, '재팬': 19533, '키다리': 19534, '찬의': 19535, '하이텔': 19536, '필름스': 19537, '몽둥이': 19538, '화물차': 19539, '빈익빈': 19540, '부익부': 19541, '카를로': 19542, '리카르도': 19543, '달갑': 19544, '역력히': 19545, '여서인': 19546, '오근호': 19547, '압승': 19548, '곽지민': 19549, '파하': 19550, '불도저': 19551, '접도': 19552, '환도': 19553, '태극': 19554, '해이': 19555, '영양소': 19556, '방콕': 19557, '인공지능': 19558, '중재': 19559, '교섭': 19560, '그사이': 19561, '조이스': 19562, '캠핑': 19563, '고저': 19564, '일인칭': 19565, '되풀이': 19566, '생선': 19567, '토파즈': 19568, '보은': 19569, '정신머리': 19570, '오랑': 19571, '여보세요': 19572, '논쟁': 19573, '원균': 19574, '퍼센트': 19575, '호스트': 19576, '싸이렌': 19577, '데이비스': 19578, '가령': 19579, '육도': 19580, '선인': 19581, '지근': 19582, '경미': 19583, '혼열': 19584, '천출': 19585, '특진': 19586, '전도': 19587, '젖통': 19588, '안네': 19589, '어음': 19590, '단발머리': 19591, '턱시도': 19592, '트램': 19593, '고무총': 19594, '부둣가': 19595, '변장술': 19596, '겨울날': 19597, '생크림': 19598, '영화식': 19599, '교육방송': 19600, '이성미': 19601, '근영': 19602, '침잠': 19603, '민군': 19604, '예능국': 19605, '민예': 19606, '파키스탄': 19607, '방글라데시': 19608, '야우': 19609, '영영': 19610, '괴로워하': 19611, '퍼팩트': 19612, '학부모': 19613, '억압': 19614, '지음': 19615, '메이드인': 19616, '마카오': 19617, '노선': 19618, '포퓰러': 19619, '무공해': 19620, '강경희': 19621, '귀기': 19622, '세자매': 19623, '희철': 19624, '저만큼': 19625, '아간': 19626, '레밍턴': 19627, '주진': 19628, '오네긴': 19629, '기나길': 19630, '보탬': 19631, '기력': 19632, '노장': 19633, '하야시': 19634, '자릿세': 19635, '패권': 19636, '무왕': 19637, '왕기': 19638, '살바토레': 19639, '겉치장': 19640, '이까짓': 19641, '정소민': 19642, '불평불만': 19643, '감자바위': 19644, '뒤집어씌우': 19645, '랜덤': 19646, '손보': 19647, '시돈': 19648, '보잘것': 19649, '쥐락펴락': 19650, '백이': 19651, '멤피스': 19652, '상두': 19653, '야학': 19654, '앵콜': 19655, '단계적': 19656, '쓰라리': 19657, '역순': 19658, '행적': 19659, '안은정': 19660, '철판': 19661, '봉긋': 19662, '물방울': 19663, '스코어': 19664, '월등히': 19665, '파토': 19666, '지능범': 19667, '영약': 19668, '중남미': 19669, '통속': 19670, '브로마이드': 19671, '전역': 19672, '유동적': 19673, '막사': 19674, '이상주': 19675, '스튜': 19676, '주문진': 19677, '읍사무소': 19678, '강당': 19679, '박범훈': 19680, '고상': 19681, '발버둥이': 19682, '흉물': 19683, '외관': 19684, '레이디': 19685, '샴페인': 19686, '담배꽁초': 19687, '깃대': 19688, '자행': 19689, '치환': 19690, '피살자': 19691, '갈아입': 19692, '을사': 19693, '더미': 19694, '이장호': 19695, '서문시장': 19696, '콩나물': 19697, '어묵': 19698, '포항': 19699, '구룡포': 19700, '깝죽대': 19701, '개머리판': 19702, '노년': 19703, '사도세자': 19704, '정조': 19705, '노론': 19706, '야당': 19707, '주딩': 19708, '세라핀': 19709, '강호': 19710, '차오르': 19711, '손익': 19712, '분기': 19713, '별과': 19714, '집단농장': 19715, '메이퀸': 19716, '대좌': 19717, '기형인': 19718, '강북': 19719, '서한길': 19720, '걸때': 19721, '잠깐잠깐': 19722, '법률': 19723, '특전': 19724, '유보': 19725, '완전무장': 19726, '트이': 19727, '앙드레': 19728, '은지': 19729, '쇼맨십': 19730, '수해': 19731, '날달걀': 19732, '호프': 19733, '위계질서': 19734, '찰싹': 19735, '허드슨': 19736, '석가': 19737, '툴': 19738, '나화': 19739, '김철규': 19740, '대한제국': 19741, '토레스': 19742, '영입': 19743, '막내며느리': 19744, '방언': 19745, '블로거': 19746, '팬시': 19747, '심술부': 19748, '옐친': 19749, '러시아인': 19750, '조역': 19751, '졸업전': 19752, '변론': 19753, '따땃': 19754, '휴양지': 19755, '와이즈': 19756, '주점': 19757, '까불': 19758, '내분': 19759, '중동': 19760, '십중팔구': 19761, '영세': 19762, '드보르작': 19763, '리온': 19764, '요금': 19765, '클로즈': 19766, '경관': 19767, '라스트신': 19768, '돌직구': 19769, '하영': 19770, '슬램': 19771, '대문': 19772, '믹서기': 19773, '당뇨병': 19774, '고혈압': 19775, '도산': 19776, '비투스': 19777, '교차편집': 19778, '렉스': 19779, '내염': 19780, '절반쯤': 19781, '인양': 19782, '흐느적거리': 19783, '그렇잖': 19784, '둘러서': 19785, '염세주': 19786, '종착지': 19787, '쥬세페': 19788, '나토': 19789, '야릇': 19790, '세찬': 19791, '파도치': 19792, '불능점': 19793, '기록영화': 19794, '손익분기점': 19795, '거지발싸개': 19796, '응어리': 19797, '구급': 19798, '심미성': 19799, '주방': 19800, '말질': 19801, '진재영': 19802, '스케이팅': 19803, '딜리': 19804, '물놀이': 19805, '덧없이': 19806, '거북선': 19807, '자전적': 19808, '재욱': 19809, '간지럽': 19810, '하몽하몽': 19811, '털보': 19812, '초반전': 19813, '미투': 19814, '신혜수': 19815, '남성미': 19816, '클라우드': 19817, '아틀라스': 19818, '벌떡': 19819, '임진강': 19820, '보물찾기': 19821, '증발': 19822, '어드벤처물': 19823, '골퍼': 19824, '불만족': 19825, '중금속': 19826, '눈곱': 19827, '슬하': 19828, '불금': 19829, '닫기': 19830, '드라큘라': 19831, '맨홀': 19832, '종방': 19833, '하루밤': 19834, '찢기': 19835, '이새끼': 19836, '투여': 19837, '노컷': 19838, '진화적': 19839, '돌연변이': 19840, '강인구': 19841, '예전영화': 19842, '썸씽': 19843, '지안나': 19844, '분대': 19845, '박규리': 19846, '리터': 19847, '에테르': 19848, '유아독존': 19849, '무기체': 19850, '지극': 19851, '지팡이': 19852, '방정맞': 19853, '김지원': 19854, '설령': 19855, '초대장': 19856, '가희': 19857, '영희': 19858, '일행': 19859, '어리광': 19860, '연금': 19861, '배우영': 19862, '일그러지': 19863, '조루증': 19864, '김영빈': 19865, '졸라대': 19866, '골판지': 19867, '동점': 19868, '차기영': 19869, '베어스': 19870, '주민수': 19871, '부르짓': 19872, '죽마고우': 19873, '천주교인': 19874, '김혜옥': 19875, '기동찬': 19876, '정제': 19877, '버버': 19878, '루쏘': 19879, '볼테르': 19880, '박빙': 19881, '회진': 19882, '한천군': 19883, '구구절절': 19884, '틀어지': 19885, '양성하': 19886, '홍기': 19887, '남선': 19888, '극사실': 19889, '도매': 19890, '함해주': 19891, '로페즈': 19892, '같아지': 19893, '쓸개': 19894, '유키오': 19895, '쌍둥': 19896, '도아름': 19897, '공실': 19898, '버팀': 19899, '스테인': 19900, '뭉게지': 19901, '로메': 19902, '로에': 19903, '알속': 19904, '세련미': 19905, '포일': 19906, '안터': 19907, '뜨리': 19908, '민정현': 19909, '마리안': 19910, '화냥': 19911, '으아아': 19912, '김성홍': 19913, '올가미': 19914, '떠들석': 19915, '인질': 19916, '냠냠': 19917, '로마노': 19918, '목구멍': 19919, '실함': 19920, '다혼': 19921, '한밤중': 19922, '아이노': 19923, '희로애락': 19924, '폭넓': 19925, '내달리': 19926, '시속': 19927, '율동': 19928, '초자연적': 19929, '허상일': 19930, '히스토리': 19931, '강선교': 19932, '김창숙': 19933, '챈들러': 19934, '송증현': 19935, '실험실': 19936, '시리얼': 19937, '작전지휘': 19938, '브룩하이머': 19939, '난가': 19940, '나도진': 19941, '이적': 19942, '서지우': 19943, '앳되': 19944, '지바고': 19945, '거뜬히': 19946, '죽전': 19947, '발칵': 19948, '크리스챤': 19949, '본모습': 19950, '나날이': 19951, '본동': 19952, '식품': 19953, '보이콧': 19954, '분석학': 19955, '황금주': 19956, '할아비': 19957, '옴마': 19958, '린든': 19959, '노스트라다무스': 19960, '적임자': 19961, '주먹구구식': 19962, '휴고': 19963, '과중': 19964, '더부살이': 19965, '의무대': 19966, '임재범': 19967, '엘레베이터': 19968, '슈슈': 19969, '세습': 19970, '국보법': 19971, '위자': 19972, '안주시': 19973, '순회': 19974, '꾀하': 19975, '후일담': 19976, '스테파노': 19977, '니시': 19978, '글루미선데이': 19979, '언페이스풀': 19980, '전말': 19981, '난삽': 19982, '임이영': 19983, '의표': 19984, '일직선': 19985, '영국인': 19986, '폐지안': 19987, '코알라': 19988, '상업자본': 19989, '자산': 19990, '국방': 19991, '발화': 19992, '발소': 19993, '소희': 19994, '개집': 19995, '직조': 19996, '인명': 19997, '팔로우': 19998, '구토': 19999, '장안': 20000, '빌미': 20001, '심한영': 20002, '학연': 20003, '인군': 20004, '임금': 20005, '삭감': 20006, '최전선': 20007, '건국대': 20008, '갈무리': 20009, '애호가': 20010, '장맛비': 20011, '침투': 20012, '더반': 20013, '명만정': 20014, '예능인': 20015, '억시': 20016, '안젤리카': 20017, '휴스': 20018, '골드마인': 20019, '무신경': 20020, '무재능': 20021, '김광석': 20022, '우악': 20023, '작별': 20024, '문화가': 20025, '송구': 20026, '문취': 20027, '뜻있': 20028, '수개월': 20029, '알바스': 20030, '에일': 20031, '통증': 20032, '탁탁': 20033, '탁하': 20034, '합격자': 20035, '오프라인': 20036, '빙하기': 20037, '뜨거워지': 20038, '회춘': 20039, '짤짤': 20040, '해학적': 20041, '마사토': 20042, '섬뜩섬뜩': 20043, '지도연': 20044, '파프리카': 20045, '후세인': 20046, '푸로': 20047, '맹승': 20048, '지한': 20049, '이시하라': 20050, '어수룩': 20051, '콘셉트': 20052, '수하': 20053, '두정': 20054, '이산화탄소': 20055, '나타샤': 20056, '서한': 20057, '고위직': 20058, '하경준': 20059, '호로비츠': 20060, '대도무문': 20061, '시립': 20062, '빈그릇': 20063, '직업의식': 20064, '역해': 20065, '불응': 20066, '별매': 20067, '정애리': 20068, '박은혜': 20069, '작심': 20070, '약탈자': 20071, '타일러': 20072, '박광수': 20073, '보일드': 20074, '하잔': 20075, '유채영': 20076, '몰매': 20077, '빌려주': 20078, '김소희': 20079, '의원': 20080, '우영': 20081, '은행털이': 20082, '다이버': 20083, '쫑긋': 20084, '목매달': 20085, '지리구': 20086, '덩이': 20087, '발아': 20088, '지도안': 20089, '다짜고짜': 20090, '성경구': 20091, '공고': 20092, '사석': 20093, '전다운': 20094, '소연': 20095, '달달달': 20096, '대판': 20097, '범행': 20098, '행위자': 20099, '제반사': 20100, '백분': 20101, '대사조': 20102, '물색': 20103, '슬그머니': 20104, '마켓팅': 20105, '원진': 20106, '노사': 20107, '때리기': 20108, '엘로이즈': 20109, '여우비': 20110, '두들기': 20111, '성형원': 20112, '동조': 20113, '매카시즘': 20114, '공학': 20115, '월리': 20116, '벼랑': 20117, '내몰리': 20118, '방조자': 20119, '광경': 20120, '빠삐용': 20121, '비기닝': 20122, '다크니스': 20123, '껍대기': 20124, '유모': 20125, '팔랑거리': 20126, '징벌자': 20127, '헤라클레스': 20128, '한현상': 20129, '국철': 20130, '김치수': 20131, '고스톱': 20132, '초연': 20133, '재개': 20134, '정좌': 20135, '정독': 20136, '상영작': 20137, '얄짤': 20138, '혐의': 20139, '리퀘스트': 20140, '띵하': 20141, '용품': 20142, '취직': 20143, '부끄러워하': 20144, '업무': 20145, '숙달': 20146, '와공': 20147, '시정잡배': 20148, '실제감': 20149, '이현진': 20150, '빵구': 20151, '인서트': 20152, '배재철': 20153, '프란체스카': 20154, '영산강': 20155, '도고': 20156, '닭장': 20157, '문서': 20158, '문해': 20159, '동맹국': 20160, '정보기관': 20161, '사기죄': 20162, '몬테': 20163, '그참': 20164, '조금자': 20165, '기한': 20166, '익사': 20167, '기점': 20168, '최인호': 20169, '자축': 20170, '절이': 20171, '하마디': 20172, '은평구': 20173, '응암': 20174, '어엿': 20175, '성나': 20176, '어이쿠': 20177, '미끄러지': 20178, '오윤홍': 20179, '파충류': 20180, '현지어': 20181, '판매자': 20182, '정열적': 20183, '과장입': 20184, '저체온증': 20185, '무수': 20186, '대중문화': 20187, '열풍': 20188, '후원자': 20189, '환산': 20190, '말레이지아': 20191, '방귀': 20192, '몬티': 20193, '향수자': 20194, '운화': 20195, '사육': 20196, '동본': 20197, '이약': 20198, '제대군인': 20199, '상식선': 20200, '위한열': 20201, '망우리': 20202, '묘소': 20203, '초고': 20204, '청바지': 20205, '치마': 20206, '보편성': 20207, '좌지우지': 20208, '엠브리': 20209, '하항': 20210, '악마주의': 20211, '살포시': 20212, '마라톤': 20213, '욕보이': 20214, '어린모': 20215, '김남진': 20216, '주마등': 20217, '영수': 20218, '포지션': 20219, '어디쯤': 20220, '영순위': 20221, '다리내': 20222, '효능': 20223, '동식물': 20224, '원님': 20225, '신내': 20226, '아멜리에': 20227, '대출': 20228, '가죽옷': 20229, '한동호': 20230, '성형인': 20231, '똥구멍': 20232, '지배적': 20233, '랑에': 20234, '케네디': 20235, '안양사': 20236, '백성욱': 20237, '이설': 20238, '바이킹': 20239, '문지기': 20240, '턱도': 20241, '신격화': 20242, '서유럽': 20243, '위암': 20244, '소설가': 20245, '접수': 20246, '밀접': 20247, '공공재': 20248, '빅딜': 20249, '부도덕': 20250, '이민영': 20251, '단기적': 20252, '금인상': 20253, '안전사고': 20254, '만개': 20255, '입봉작': 20256, '다층': 20257, '맹렬히': 20258, '애시당초': 20259, '간진': 20260, '헐겁': 20261, '무수히': 20262, '남의상': 20263, '니야': 20264, '팔아넘기': 20265, '마놀로': 20266, '연변': 20267, '서지석': 20268, '개가죽': 20269, '요로': 20270, '유해정': 20271, '리더십': 20272, '인애씨': 20273, '대미': 20274, '명사수': 20275, '의법': 20276, '주교': 20277, '해설가': 20278, '종처럼': 20279, '굴지': 20280, '김명선': 20281, '임종혁': 20282, '자명': 20283, '불임': 20284, '해법': 20285, '바캉스': 20286, '네이키드': 20287, '그렘린': 20288, '성환': 20289, '새콤달콤': 20290, '해군사관학교': 20291, '국방부': 20292, '퓽': 20293, '탕탕탕': 20294, '우르릉': 20295, '토의': 20296, '병아리': 20297, '반일국': 20298, '메이저리그': 20299, '차기준': 20300, '홀튼': 20301, '단도직입적': 20302, '어페어': 20303, '할당량': 20304, '건들건들': 20305, '도널드': 20306, '상열이': 20307, '바바라': 20308, '김정균': 20309, '백만장자': 20310, '화평': 20311, '강시언': 20312, '제나': 20313, '가넷': 20314, '꺾기': 20315, '솔트': 20316, '청각적': 20317, '김현아': 20318, '윤색': 20319, '항변': 20320, '스트레이트': 20321, '머리싸움': 20322, '좌경': 20323, '지갑': 20324, '작은누나': 20325, '암모니아': 20326, '수근': 20327, '육안': 20328, '머뭇거리': 20329, '데불': 20330, '에이프런': 20331, '난방기': 20332, '기혼자': 20333, '세수': 20334, '콜럼버스': 20335, '정들': 20336, '좌중': 20337, '돈벌레': 20338, '아날': 20339, '홀랜드': 20340, '드라이브': 20341, '꽁트': 20342, '걱정거리': 20343, '지훈': 20344, '윤재': 20345, '지름길': 20346, '당연지사': 20347, '아카펠라': 20348, '교통법규': 20349, '소명하': 20350, '솔선': 20351, '한어': 20352, '레이지': 20353, '던전': 20354, '드래': 20355, '제국주의적': 20356, '밀어붙이': 20357, '김상진': 20358, '승객': 20359, '뜨끈': 20360, '응시': 20361, '푸욱': 20362, '모욕감': 20363, '빈공': 20364, '안젤라': 20365, '동경심': 20366, '갈고': 20367, '한겨례': 20368, '양공주': 20369, '양놈': 20370, '입맞춤': 20371, '갈이': 20372, '공형진': 20373, '웬말': 20374, '스윙': 20375, '도호쿠': 20376, '국제영화제': 20377, '김영하': 20378, '경추': 20379, '꺾': 20380, '도날드': 20381, '사디즘': 20382, '마조히즘': 20383, '약혼': 20384, '스파이스': 20385, '전당': 20386, '김성호': 20387, '두루뭉술': 20388, '겨울나그네': 20389, '그린그래스': 20390, '무한정': 20391, '강주': 20392, '차은상': 20393, '자궁암': 20394, '뭉크': 20395, '관료': 20396, '타락상': 20397, '인민재판': 20398, '즉결': 20399, '이북': 20400, '우인희': 20401, '버젓히': 20402, '맹하': 20403, '뺀질이': 20404, '폰타나': 20405, '농부': 20406, '모리츠': 20407, '씌우': 20408, '개골': 20409, '아스팔트': 20410, '맛집': 20411, '끄적거리': 20412, '대관': 20413, '재빨리': 20414, '주기철': 20415, '득보': 20416, '스페인인': 20417, '탐닉': 20418, '진서': 20419, '네온싸인': 20420, '신의영': 20421, '이병기': 20422, '원세훈': 20423, '남재준': 20424, '흐미': 20425, '알렉산드리아': 20426, '총집결': 20427, '이경선': 20428, '궂': 20429, '밥값': 20430, '막되': 20431, '이규원': 20432, '적자': 20433, '하이랜더': 20434, '여장부': 20435, '페킨파': 20436, '용혜원': 20437, '시집': 20438, '1g': 20439, '터미널': 20440, '관계있': 20441, '그랜드': 20442, '부다페스트': 20443, '짠돌이': 20444, '브레인': 20445, '의천': 20446, '모립': 20447, '인어공주': 20448, '치켜뜨': 20449, '곽진영': 20450, '이현주': 20451, '갈데없': 20452, '작사': 20453, '별상': 20454, '프렌차이즈': 20455, '부릅뜨': 20456, '만담': 20457, '백서': 20458, '미세스': 20459, '다면': 20460, '망설': 20461, '경시청': 20462, '주인아저씨': 20463, '가집': 20464, '태산': 20465, '로마군': 20466, '얼결': 20467, '희희낙락': 20468, '반미영': 20469, '의자식': 20470, '고오': 20471, '공황': 20472, '회색빛': 20473, '하커': 20474, '피해망상': 20475, '역사교육': 20476, '병역': 20477, '징용': 20478, '노비': 20479, '김빈': 20480, '플레이스테이션': 20481, '편파적': 20482, '셋트': 20483, '급감': 20484, '도암': 20485, '나도관': 20486, '내신': 20487, '캠벨': 20488, '트레저': 20489, '옐로': 20490, '혜선': 20491, '카테고리': 20492, '활개': 20493, '라이자': 20494, '노래자랑': 20495, '송해선': 20496, '곰곰히': 20497, '코카콜라': 20498, '애프터': 20499, '방영한': 20500, '내노라하': 20501, '버럭버럭': 20502, '글썽거리': 20503, '심파': 20504, '뗑': 20505, '초동': 20506, '벼룩시장': 20507, '손재주': 20508, '나미래': 20509, '파출소': 20510, '동주': 20511, '민자': 20512, '절레절레': 20513, '초속': 20514, '어쨌거나': 20515, '청사진': 20516, '인도음악': 20517, '저떻': 20518, '인신매매': 20519, '허구일': 20520, '현재영': 20521, '나돌': 20522, '서녀': 20523, '확확': 20524, '얼리': 20525, '창살': 20526, '사각지대': 20527, '핏물': 20528, '멀로니': 20529, '옥상': 20530, '송가': 20531, '굉징히': 20532, '홈팀': 20533, '예인': 20534, '김종철': 20535, '자학': 20536, '아구': 20537, '재물': 20538, '걸려들': 20539, '현세대': 20540, '건배': 20541, '쯧쯧설': 20542, '하우저': 20543, '확립': 20544, '선명히': 20545, '상등': 20546, '강부자': 20547, '모아이': 20548, '루가': 20549, '암말': 20550, '실례': 20551, '일가친척': 20552, '입막음': 20553, '동정표': 20554, '미팅': 20555, '이재석': 20556, '달력': 20557, '박미현': 20558, '죽통': 20559, '집합체': 20560, '본심': 20561, '내국인': 20562, '기행': 20563, '참다못하': 20564, '우크라이나': 20565, '농아': 20566, '쳐묵': 20567, '크리스티앙': 20568, '엘리아': 20569, '주정': 20570, '온니': 20571, '덕의': 20572, '니콜스': 20573, '섬나라': 20574, '민속신앙': 20575, '진목승': 20576, '여선생': 20577, '야구방망이': 20578, '국민투표': 20579, '기껏해야': 20580, '누렁이': 20581, '도공': 20582, '방영분': 20583, '과꽃': 20584, '박헌수': 20585, '롤러': 20586, '교묘히': 20587, '굴하': 20588, '문세윤': 20589, '궁중': 20590, '영구아트무비': 20591, '마하': 20592, '화답': 20593, '북수': 20594, '유휴': 20595, '빗기': 20596, '바베큐': 20597, '침샘': 20598, '굽': 20599, '사회사': 20600, '롤랜드': 20601, '지우기': 20602, '쑬': 20603, '산수': 20604, '미분': 20605, '뭉둥이': 20606, '촌뜨기': 20607, '뉘우침': 20608, '서수민': 20609, '역점': 20610, '신성시': 20611, '닉네임': 20612, '똘똘이': 20613, '싸우나': 20614, '시마다': 20615, '호위': 20616, '모가지': 20617, '켐퍼': 20618, '피아노곡': 20619, '한민혁': 20620, '태희군': 20621, '훈육': 20622, '보프': 20623, '스케이트장': 20624, '운율': 20625, '채경아': 20626, '김태식': 20627, '위안거리': 20628, '보경': 20629, '미디': 20630, '살바도르': 20631, '랭군': 20632, '함영화': 20633, '깜방': 20634, '할스트롬': 20635, '병폐': 20636, '지날': 20637, '일산': 20638, '페스타': 20639, '주차장': 20640, '긁히': 20641, '옛날식': 20642, '양궁': 20643, '배낭': 20644, '내딛': 20645, '영해': 20646, '침범': 20647, '조약': 20648, '소풍': 20649, '예지': 20650, '점일': 20651, '도임': 20652, '찍소리': 20653, '깨트리': 20654, '독후감': 20655, '불은': 20656, '건성건성': 20657, '녹취': 20658, '내상': 20659, '항전': 20660, '신이시': 20661, '교생실습': 20662, '비법': 20663, '불성실': 20664, '소마': 20665, '마카': 20666, '군함': 20667, '비윤리적': 20668, '완전범죄': 20669, '향토적': 20670, '헤인즈': 20671, '병탕': 20672, '인간세계': 20673, '찾아내': 20674, '사무치': 20675, '악덕': 20676, '업주': 20677, '발랑': 20678, '백그라운드': 20679, '지구적': 20680, '공통적': 20681, '뜨게': 20682, '어찔': 20683, '회사원': 20684, '새로이': 20685, '돈대': 20686, '우뚝': 20687, '태세': 20688, '찬란히': 20689, '종목': 20690, '수갑': 20691, '끈적끈적': 20692, '대행': 20693, '근현대': 20694, '세이버': 20695, '외전': 20696, '컵라면': 20697, '칼라일': 20698, '세상살이': 20699, '미생물': 20700, '효리': 20701, '통채로': 20702, '헐뜯기': 20703, '멸도': 20704, '엔조이': 20705, '왁자지껄': 20706, '북어': 20707, '글로벌': 20708, '운두': 20709, '개뼈': 20710, '박희서': 20711, '구리면': 20712, '전소현': 20713, '표고': 20714, '조운': 20715, '발각': 20716, '상중하': 20717, '삐뚤': 20718, '까짓': 20719, '궁색': 20720, '와선': 20721, '프로메테우스': 20722, '총망라': 20723, '에스엠': 20724, '의협심': 20725, '논외': 20726, '첨단': 20727, '금상첨화': 20728, '산하': 20729, '팀킬': 20730, '결례': 20731, '홀홀단신': 20732, '선봉': 20733, '미들': 20734, '반신': 20735, '론자': 20736, '태후': 20737, '대장금': 20738, '구몰': 20739, '흘르': 20740, '더블린': 20741, '주석': 20742, '골동품': 20743, '제네바': 20744, '강적': 20745, '튀하': 20746, '되물림': 20747, '내후년': 20748, '묵도': 20749, '어간': 20750, '원투': 20751, '전채': 20752, '삼색': 20753, '출세': 20754, '억지춘향': 20755, '당귀': 20756, '심령': 20757, '신임': 20758, '조혼': 20759, '재아': 20760, '미적지근': 20761, '회귀': 20762, '웬수': 20763, '본진': 20764, '갈매기': 20765, '종씨': 20766, '현실화': 20767, '야구장': 20768, '빠져들어가': 20769, '정채': 20770, '철거민': 20771, '농성자': 20772, '울프': 20773, '짜여지': 20774, '사이언스': 20775, '총재': 20776, '상도덕': 20777, '채털리': 20778, '갸우뚱': 20779, '현재진': 20780, '행형': 20781, '김치영': 20782, '으흐': 20783, '반환': 20784, '돌파구': 20785, '서러움': 20786, '인스피레이션': 20787, '대개': 20788, '스위스': 20789, '회심': 20790, '수학여행': 20791, '발현': 20792, '임상준': 20793, '백사': 20794, '주사': 20795, '라돈': 20796, '치치': 20797, '조재진': 20798, '오범석': 20799, '수원': 20800, '황유정': 20801, '슈워제네거': 20802, '부딛히': 20803, '전통문화': 20804, '생기발랄': 20805, '금마': 20806, '삐지': 20807, '최장': 20808, '아코디언': 20809, '청취자': 20810, '동거': 20811, '동락': 20812, '라이드': 20813, '그리신': 20814, '비양심적': 20815, '오지희': 20816, '조종실': 20817, '뱅': 20818, '줄곳': 20819, '이다희': 20820, '늘상': 20821, '즉흥적': 20822, '삼부': 20823, '서클': 20824, '단결력': 20825, '신인화': 20826, '팀장': 20827, '소동극': 20828, '족적': 20829, '백지': 20830, '살짝살짝': 20831, '태백산맥': 20832, '로카르노': 20833, '액기': 20834, '할애': 20835, '붓기': 20836, '하드디스크': 20837, '용량': 20838, '브룩': 20839, '헤엄치': 20840, '심성': 20841, '참치': 20842, '큐슈': 20843, '서이': 20844, '피지': 20845, '곤두박질': 20846, '케이타': 20847, '차주': 20848, '레릭': 20849, '픽트족': 20850, '기습': 20851, '행군': 20852, '척후': 20853, '율도': 20854, '유고': 20855, '에밀': 20856, '왜장': 20857, '언변': 20858, '백내장': 20859, '족장': 20860, '간극': 20861, '시아버지': 20862, '의정사': 20863, '곰팡이': 20864, '헛것': 20865, '마이어스': 20866, '카마': 20867, '만찬': 20868, '부록': 20869, '한선규': 20870, '담담히': 20871, '리오타': 20872, '전완': 20873, '전폭': 20874, '듀크': 20875, '전희주': 20876, '북장단': 20877, '폴폴': 20878, '금성보': 20879, '존재자': 20880, '고토': 20881, '로열티': 20882, '그린피스': 20883, '파파야': 20884, '전무송': 20885, '석사': 20886, '너리': 20887, '등지': 20888, '이속': 20889, '딕션': 20890, '묵묵': 20891, '중국말': 20892, '바티스타': 20893, '요시모토': 20894, '졸업식': 20895, '돌진': 20896, '향후': 20897, '유출': 20898, '워워': 20899, '퍼짐': 20900, '린': 20901, '보슬비': 20902, '갈대숲': 20903, '총성': 20904, '재자': 20905, '뭉게': 20906, '초입': 20907, '악다구니': 20908, '잔기': 20909, '구태': 20910, '밀짚모자': 20911, '복상사': 20912, '상속': 20913, '야금야금': 20914, '골로': 20915, '방학중': 20916, '응하': 20917, '미실': 20918, '격동기': 20919, '분출구': 20920, '뛰기': 20921, '귀인': 20922, '여건': 20923, '투닥거리': 20924, '언론인': 20925, '공적': 20926, '컨디션': 20927, '수시': 20928, '돈타령': 20929, '건네': 20930, '황일화': 20931, '적중': 20932, '여단': 20933, '김민': 20934, '파닥파닥': 20935, '뒤뚱뒤뚱': 20936, '일식집': 20937, '그리섬': 20938, '답글': 20939, '이문열': 20940, '산들바람': 20941, '담날': 20942, '타방': 20943, '커뮤니티': 20944, '반전수': 20945, '외인': 20946, '스플래쉬': 20947, '어빈': 20948, '틈틈이': 20949, '시구': 20950, '백장미': 20951, '티격': 20952, '불여': 20953, '결집력': 20954, '천하무적': 20955, '성비': 20956, '녹여내': 20957, '힘내기': 20958, '불씨': 20959, '아뿔사': 20960, '중요시': 20961, '까다롭': 20962, '별짓': 20963, '결말내': 20964, '일차': 20965, '우예': 20966, '원영': 20967, '분출': 20968, '루브르박물관': 20969, '한통속': 20970, '협주곡': 20971, '뫼': 20972, '투에': 20973, '산업체': 20974, '첩년': 20975, '유머러스': 20976, '교태': 20977, '떽떽': 20978, '성어': 20979, '울먹울먹': 20980, '다이크': 20981, '하룻': 20982, '쌓기': 20983, '원안': 20984, '걸지': 20985, '면허': 20986, '털끝': 20987, '짝눈': 20988, '테니스': 20989, '성량': 20990, '데려오': 20991, '찬스': 20992, '빈구석': 20993, '존중도': 20994, '눈웃음': 20995, '회색': 20996, '할망구': 20997, '진드기': 20998, '내치': 20999, '쫓아내': 21000, '양단간': 21001, '만리장성': 21002, '임허': 21003, '발산': 21004, '소진': 21005, '지팡구': 21006, '알바트로스': 21007, '이제사': 21008, '곡괭이': 21009, '북경역': 21010, '김진숙': 21011, '급소': 21012, '비껴가': 21013, '꾸짖': 21014, '교차점': 21015, '귀머거리': 21016, '한진우': 21017, '배급자': 21018, '신야': 21019, '군법': 21020, '애국주의': 21021, '정시': 21022, '이제남': 21023, '모티베이션': 21024, '도루': 21025, '이채영': 21026, '쩡쩡': 21027, '손도': 21028, '캠퍼스': 21029, '샘솟': 21030, '고물': 21031, '스포츠카': 21032, '선풍기': 21033, '포덕': 21034, '선행': 21035, '전교조': 21036, '유시': 21037, '장도': 21038, '개진': 21039, '숙주': 21040, '부가가치': 21041, '풍족': 21042, '굼뜨': 21043, '백신': 21044, '에이브': 21045, '라빈': 21046, '포그': 21047, '위크': 21048, '미려': 21049, '신참': 21050, '마데카솔': 21051, '다예': 21052, '고온': 21053, '정지훈': 21054, '욕심내': 21055, '관도': 21056, '연예가': 21057, '정일성': 21058, '촬영감독': 21059, '소스라치': 21060, '금정사': 21061, '방정식': 21062, '급속도': 21063, '해마다': 21064, '라지': 21065, '방해물': 21066, '수두룩': 21067, '김윤아': 21068, '거절': 21069, '오골계': 21070, '기어코': 21071, '진주희': 21072, '복카치오': 21073, '건들이': 21074, '저드': 21075, '신식': 21076, '잡소리': 21077, '오장육부': 21078, '재섭': 21079, '싸나이': 21080, '한정수': 21081, '냉정히': 21082, '유약': 21083, '하타': 21084, '찬미': 21085, '예스맨': 21086, '하비': 21087, '장재': 21088, '감개무량': 21089, '잠적': 21090, '베리만': 21091, '천단': 21092, '비구니': 21093, '당사자': 21094, '속상': 21095, '동물실험': 21096, '우하': 21097, '쪼이': 21098, '폐기물': 21099, '거즈': 21100, '특출': 21101, '양화': 21102, '장후': 21103, '비행선': 21104, '한역': 21105, '리리': 21106, '말숙': 21107, '쿠션': 21108, '쓸모없': 21109, '어촌': 21110, '의초': 21111, '테크': 21112, '고마츠': 21113, '워크샵': 21114, '불합격': 21115, '설익': 21116, '윤소희': 21117, '절약': 21118, '건너편': 21119, '등껍질': 21120, '전진하': 21121, '금시': 21122, '음치': 21123, '왼발': 21124, '불나': 21125, '완공': 21126, '몸속': 21127, '카타리나': 21128, '도적놈': 21129, '달나라': 21130, '부친': 21131, '코러스': 21132, '교차로': 21133, '즐거우': 21134, '전관예우': 21135, '자이언츠': 21136, '경화': 21137, '안내서': 21138, '반물': 21139, '민주학': 21140, '과격분자': 21141, '바나나': 21142, '빌리지': 21143, '의양': 21144, '어로': 21145, '감식': 21146, '페드로': 21147, '호환': 21148, '인플루엔자': 21149, '다이앤': 21150, '견훤': 21151, '주연작': 21152, '양정화': 21153, '수화': 21154, '펄프': 21155, '절경': 21156, '우선인': 21157, '선도': 21158, '졸렬': 21159, '세돌': 21160, '제보': 21161, '능청맞': 21162, '이석우': 21163, '옆차기': 21164, '성능': 21165, '신혜성': 21166, '웨이터': 21167, '의안': 21168, '마찰': 21169, '아으': 21170, '내방': 21171, '최강훈': 21172, '줄곧': 21173, '천재신': 21174, '변태성': 21175, '타내': 21176, '주얼': 21177, '총장': 21178, '서원': 21179, '사회파': 21180, '칸느': 21181, '밑돌': 21182, '토사물': 21183, '아머': 21184, '공식화': 21185, '남지현': 21186, '김희철': 21187, '초조': 21188, '자구': 21189, '철면피': 21190, '여주남': 21191, '성폭력': 21192, '영삼': 21193, '최신': 21194, '장구': 21195, '레이서': 21196, '일간': 21197, '명선': 21198, '콩닥콩닥': 21199, '자아도취': 21200, '분수대': 21201, '꿈쩍': 21202, '눈독': 21203, '동내': 21204, '풀가동': 21205, '형판': 21206, '기마병': 21207, '저마다': 21208, '우우우우': 21209, '걸전': 21210, '폐물': 21211, '식은땀': 21212, '러뷰': 21213, '록스': 21214, '징글징글': 21215, '인디아': 21216, '주술': 21217, '인표': 21218, '나영국': 21219, '업로드': 21220, '도빈': 21221, '충북': 21222, '단양': 21223, '송인화': 21224, '적발': 21225, '최종훈': 21226, '바짓가랑이': 21227, '흩날리': 21228, '불신앙': 21229, '결함': 21230, '소방수': 21231, '안성맞춤': 21232, '배짱': 21233, '글레머': 21234, '무지렁이': 21235, '애석': 21236, '가득가득': 21237, '알현': 21238, '냉큼': 21239, '김승호': 21240, '답인': 21241, '귀차니즘': 21242, '공녀': 21243, '하숙집': 21244, '하숙': 21245, '성립': 21246, '오노': 21247, '대대장': 21248, '주적': 21249, '활동적': 21250, '그물': 21251, '전운': 21252, '쓱쓱': 21253, '미소년': 21254, '순순': 21255, '반효정': 21256, '밤일': 21257, '숙취': 21258, '요전': 21259, '랑그': 21260, '빠롤': 21261, '말끝': 21262, '성냥': 21263, '여담': 21264, '조리': 21265, '권유한': 21266, '스파': 21267, '슈츠': 21268, '박진주': 21269, '거주': 21270, '거주민': 21271, '낱낱이': 21272, '상세': 21273, '터프가이': 21274, '병정': 21275, '휙': 21276, '신발장': 21277, '이완용': 21278, '순례': 21279, '바커': 21280, '밀리어네어': 21281, '액트': 21282, '네이비': 21283, '사도': 21284, '멸시': 21285, '세리': 21286, '한양': 21287, '영락없이': 21288, '양정인': 21289, '랑선': 21290, '워즈': 21291, '풀장': 21292, '기복': 21293, '불로장생': 21294, '한패': 21295, '이륙': 21296, '스타크래프트': 21297, '뫼비우스': 21298, '곁눈질': 21299, '변소': 21300, '독불장군': 21301, '윌리암': 21302, '좌표': 21303, '폭포수': 21304, '우둔': 21305, '빼기': 21306, '아이아': 21307, '스튜디어': 21308, '구미호': 21309, '임사': 21310, '평일도': 21311, '평일': 21312, '벚꽃': 21313, '히히히히': 21314, '옛스럽': 21315, '시봉': 21316, '되새': 21317, '아무쪼록': 21318, '웬간': 21319, '북한군': 21320, '장릉': 21321, '쾌쾌': 21322, '권위자': 21323, '평판': 21324, '단풍': 21325, '개막일': 21326, '승낙': 21327, '빛내': 21328, '육성': 21329, '최윤': 21330, '스쿠터': 21331, '전처': 21332, '한손': 21333, '간접경험': 21334, '이건': 21335, '뇌까리': 21336, '이창훈': 21337, '무한대': 21338, '어거': 21339, '기덕씨': 21340, '준하': 21341, '토이': 21342, '큰싸움': 21343, '서윤모': 21344, '야밤': 21345, '효력': 21346, '지다': 21347, '후퇴': 21348, '조상신': 21349, '전복': 21350, '곧바로': 21351, '문인수': 21352, '성대모사': 21353, '장태정': 21354, '선유': 21355, '선유도': 21356, '잘잘못': 21357, '방송가': 21358, '다곤': 21359, '할례': 21360, '강심장': 21361, '한서진': 21362, '조정국': 21363, '남태현': 21364, '행운아': 21365, '최보영': 21366, '이종': 21367, '단추': 21368, '어긋': 21369, '난시': 21370, '피드': 21371, '물질적': 21372, '석형': 21373, '하늘가': 21374, '윤곽': 21375, '집사람': 21376, '달관': 21377, '공민왕': 21378, '혁혁': 21379, '대시': 21380, '박건영': 21381, '천식': 21382, '날아오르': 21383, '인모': 21384, '감각기관': 21385, '인간문화재': 21386, '하이데거': 21387, '포스트모던': 21388, '박식': 21389, '시답': 21390, '컬러링': 21391, '귀척': 21392, '미개사회': 21393, '기재': 21394, '봉천동': 21395, '구설수': 21396, '배경미': 21397, '이광모': 21398, '구성자': 21399, '다작품': 21400, '성인정': 21401, '에브라': 21402, '전환점': 21403, '연기영': 21404, '우쭐': 21405, '류만': 21406, '변태문': 21407, '반합': 21408, '기정사실화': 21409, '방시혁': 21410, '특정사': 21411, '잡수': 21412, '진단': 21413, '활어': 21414, '버터': 21415, '이천': 21416, '낯가림': 21417, '헐뜯': 21418, '원미연': 21419, '재첩국': 21420, '법인': 21421, '절망감': 21422, '바로바로': 21423, '문익점': 21424, '돈여': 21425, '목재문': 21426, '휩싸이': 21427, '덕이': 21428, '졸도': 21429, '성생': 21430, '육두문자': 21431, '대학살': 21432, '여상': 21433, '분필': 21434, '픽스': 21435, '잡거': 21436, '노련': 21437, '세익스피어': 21438, '대참패': 21439, '오운': 21440, '별처': 21441, '상욕': 21442, '방해일': 21443, '실크': 21444, '케어': 21445, '시스루': 21446, '웨폰': 21447, '내지르': 21448, '안건': 21449, '고화질': 21450, '치료비': 21451, '탄탄히': 21452, '거푸집': 21453, '튼튼': 21454, '회고록': 21455, '의식하': 21456, '아이젠슈타인': 21457, '김보연': 21458, '효의': 21459, '외사랑': 21460, '분수령': 21461, '예방': 21462, '기생수': 21463, '겉모양': 21464, '톱니바퀴': 21465, '비강': 21466, '쌍두마차': 21467, '민병훈': 21468, '사회질서': 21469, '어지럽히': 21470, '까탈': 21471, '킨제이': 21472, '칼싸움': 21473, '박지수': 21474, '라디오헤드': 21475, '진영인': 21476, '설키': 21477, '한국성': 21478, '보석중': 21479, '진실로': 21480, '낙상': 21481, '셀러': 21482, '온정': 21483, '스모크': 21484, '내츄럴': 21485, '옥토버': 21486, '해일': 21487, '상대역': 21488, '고과': 21489, '애마부인': 21490, '양윤호': 21491, '정민': 21492, '피폭': 21493, '인조': 21494, '몸서리': 21495, '과허': 21496, '가렛': 21497, '연주자': 21498, '연주회': 21499, '군기': 21500, '소크라테스': 21501, '레츠': 21502, '입문자': 21503, '자칼': 21504, '황성': 21505, '두근대': 21506, '글래스': 21507, '길가': 21508, '광우병': 21509, '정론지': 21510, '이제쯤': 21511, '야외무대': 21512, '점점이': 21513, '상해': 21514, '물계': 21515, '합체': 21516, '미사': 21517, '한수아': 21518, '심지': 21519, '텔레': 21520, '도꾸': 21521, '로프': 21522, '섬터': 21523, '얼래': 21524, '조정하': 21525, '리스본': 21526, '만두': 21527, '생강': 21528, '몰카': 21529, '만화방': 21530, '헵번': 21531, '번득거리': 21532, '콤플렉스': 21533, '낯뜨겁': 21534, '연세': 21535, '브랜도': 21536, '생계': 21537, '페트릭': 21538, '리멤버': 21539, '타이탄': 21540, '공산주의자': 21541, '쌍칼': 21542, '해피엔드': 21543, '영국판': 21544, '구프': 21545, '뻑뻑': 21546, '모스트': 21547, '저부': 21548, '양립': 21549, '가족주의': 21550, '황효명': 21551, '반타작': 21552, '성결': 21553, '지중': 21554, '아덴': 21555, '좌측': 21556, '종반부': 21557, '장렬히': 21558, '김수정': 21559, '고별': 21560, '은한': 21561, '서벌': 21562, '오리엔탈': 21563, '짝짝': 21564, '식도': 21565, '돌려놓': 21566, '후쿠시마': 21567, '원전': 21568, '비핵화': 21569, '바이블': 21570, '지남': 21571, '몽타쥬': 21572, '병태': 21573, '젊음이': 21574, '호의': 21575, '고졸': 21576, '우등': 21577, '코너리': 21578, '푸시': 21579, '헛간': 21580, '야야': 21581, '비잉': 21582, '오공': 21583, '고정우': 21584, '이재우': 21585, '김준성': 21586, '김민경': 21587, '디렉': 21588, '당구공': 21589, '턱수염': 21590, '조달': 21591, '산거': 21592, '캥거루': 21593, '양돈': 21594, '충청도': 21595, '바로잡': 21596, '피력': 21597, '청중': 21598, '서재': 21599, '정지순': 21600, '워스트': 21601, '전기총': 21602, '반디': 21603, '도노반': 21604, '서해준': 21605, '부락': 21606, '문맥': 21607, '덕보': 21608, '필립스': 21609, '유기물': 21610, '살생': 21611, '명제': 21612, '추앙': 21613, '강점': 21614, '희도': 21615, '한설': 21616, '아둔': 21617, '준영씨': 21618, '자괴': 21619, '패악질': 21620, '투게더': 21621, '안준영': 21622, '숭배자': 21623, '할로우': 21624, '학이': 21625, '주간지': 21626, '범죄소설': 21627, '잘잘': 21628, '시집살이': 21629, '대법원': 21630, '형사소송': 21631, '제족': 21632, '우주여행': 21633, '명실': 21634, '공히': 21635, '캐시': 21636, '피치': 21637, '스테로이드': 21638, '보조제': 21639, '약물복용': 21640, '포괄': 21641, '성급': 21642, '예언서': 21643, '양비론': 21644, '제휴': 21645, '너바나': 21646, '본연': 21647, '뽀얗': 21648, '야아': 21649, '세르게이': 21650, '파병': 21651, '통로': 21652, '의당': 21653, '위성': 21654, '에펠탑': 21655, '스네이크': 21656, '개싸움': 21657, '이윤기': 21658, '울음바다': 21659, '모의고사': 21660, '손범수': 21661, '색계': 21662, '족히': 21663, '쩌릿쩌릿': 21664, '코아': 21665, '무혁': 21666, '단두대': 21667, '질끈': 21668, '건반': 21669, '박기태': 21670, '개토': 21671, '중지': 21672, '이로움': 21673, '교관': 21674, '활활': 21675, '비감': 21676, '절해': 21677, '구급차': 21678, '접목': 21679, '남하진': 21680, '신생아': 21681, '반군': 21682, '디시': 21683, '착찹': 21684, '디럭스': 21685, '임도': 21686, '말싸움': 21687, '동맹': 21688, '히스테릭': 21689, '하기는': 21690, '셀룰러': 21691, '목초': 21692, '카나': 21693, '돌머리': 21694, '동지': 21695, '금지령': 21696, '기주': 21697, '촛대': 21698, '랩소디': 21699, '코리언': 21700, '까내': 21701, '원수지': 21702, '탕녀': 21703, '문턱': 21704, '구원하': 21705, '청량리': 21706, '지리멸렬': 21707, '자기반': 21708, '유분': 21709, '안근': 21710, '넉살': 21711, '원고료': 21712, '현시점': 21713, '법원': 21714, '꺼꾸로': 21715, '김인권': 21716, '효시': 21717, '골드만': 21718, '함지': 21719, '파라도': 21720, '유나': 21721, '박준': 21722, '갈기갈기': 21723, '마님': 21724, '바우': 21725, '쌀밥': 21726, '명개': 21727, '개남': 21728, '축구공': 21729, '정밀': 21730, '맡아보': 21731, '속물근성': 21732, '서미화': 21733, '미티': 21734, '피크닉': 21735, '쫘악': 21736, '플레잉': 21737, '특정인': 21738, '보데': 21739, '선글라스': 21740, '클립': 21741, '신지수': 21742, '시영': 21743, '성추행': 21744, '암탉': 21745, '첫눈': 21746, '파랑': 21747, '만장': 21748, '용병이반': 21749, '구형': 21750, '아반떼': 21751, '경찰차': 21752, '싼타': 21753, '도미니크': 21754, '플레이보이': 21755, '염장': 21756, '임재': 21757, '범법자': 21758, '지상렬': 21759, '포즈': 21760, '현사': 21761, '이를테면': 21762, '면면이': 21763, '오존': 21764, '빌빌': 21765, '감시자': 21766, '훼손죄': 21767, '본당': 21768, '해묵': 21769, '조의': 21770, '위태한': 21771, '히피': 21772, '개그우먼': 21773, '김미연': 21774, '입성': 21775, '아시안게임': 21776, '개막식': 21777, '시스터': 21778, '난데': 21779, '폴란드': 21780, '판타': 21781, '반즈': 21782, '미심': 21783, '어른거리': 21784, '콜트': 21785, '본의': 21786, '룸싸롱': 21787, '대테러': 21788, '도치': 21789, '역할극': 21790, '시옷': 21791, '건태': 21792, '강정마을': 21793, '엄선': 21794, '굴러': 21795, '유무': 21796, '맞이': 21797, '머릿': 21798, '신비적': 21799, '코스트': 21800, '시건방지': 21801, '철책': 21802, '걷어치우': 21803, '선주아': 21804, '피파': 21805, '목두기': 21806, '흰눈': 21807, '프랑켄슈타인': 21808, '자포자기': 21809, '폴락': 21810, '슬쩍': 21811, '윤경근': 21812, '칠정': 21813, '정종석': 21814, '버선': 21815, '재우': 21816, '콜로세움': 21817, '곤궁': 21818, '대리모': 21819, '루이비통': 21820, '다리오': 21821, '빈도': 21822, '격세지감': 21823, '스폰서': 21824, '속인': 21825, '숙모': 21826, '태초': 21827, '참석': 21828, '마영화': 21829, '도수현': 21830, '영의': 21831, '섬멸': 21832, '농성장': 21833, '지조': 21834, '베키': 21835, '트루먼': 21836, '저작권료': 21837, '경마장': 21838, '로큰롤': 21839, '밤중': 21840, '장문': 21841, '헤아리': 21842, '구현실': 21843, '마르퀴스': 21844, '물내': 21845, '배배': 21846, '다래': 21847, '남아라': 21848, '유혼': 21849, '면내': 21850, '희극지왕': 21851, '신디': 21852, '이방인들': 21853, '고은산': 21854, '억지스레': 21855, '여운아': 21856, '홍대': 21857, '호세아': 21858, '꿇리': 21859, '에취': 21860, '표현기': 21861, '순진무구': 21862, '인터폴': 21863, '코제트': 21864, '콜레트': 21865, '구딩': 21866, '강현민': 21867, '경성': 21868, '속사정': 21869, '불도': 21870, '지금동': 21871, '솔리드': 21872, '선동시': 21873, '스케치북': 21874, '쌀쌀': 21875, '개신교도': 21876, '택시드라이버': 21877, '그저께': 21878, '죗값': 21879, '파기': 21880, '선데이': 21881, '에비타': 21882, '노중': 21883, '낙오자': 21884, '몽고': 21885, '예하': 21886, '암기': 21887, '판검사': 21888, '신라': 21889, '달밤': 21890, '컥': 21891, '동토': 21892, '포럼': 21893, '영민': 21894, '쎄이': 21895, '우투': 21896, '복수심': 21897, '자조': 21898, '서정희': 21899, '내장': 21900, '페이퍼': 21901, '루스': 21902, '숨김없이': 21903, '에스더': 21904, '참수형': 21905, '에토': 21906, '가져주': 21907, '쇠퇴': 21908, '친작': 21909, '소작': 21910, '친분': 21911, '장미정': 21912, '외교통상부': 21913, '통역': 21914, '파스': 21915, '가족관': 21916, '정신지체': 21917, '싸움판': 21918, '금액': 21919, '정공법': 21920, '충동적': 21921, '주술사': 21922, '개략': 21923, '구이': 21924, '앞자리': 21925, '체념': 21926, '매스터': 21927, '천진난만': 21928, '음용': 21929, '타켓': 21930, '번하': 21931, '흐흑': 21932, '보루': 21933, '난자': 21934, '계모': 21935, '서행': 21936, '쇼트': 21937, '회화': 21938, '원화': 21939, '제다이': 21940, '커밍아웃': 21941, '또렷': 21942, '가입': 21943, '침상': 21944, '숭': 21945, '트래픽': 21946, '유엔': 21947, '정신분열증': 21948, '흉측': 21949, '바벨탑': 21950, '길들': 21951, '여진': 21952, '내들': 21953, '불협화음': 21954, '백작': 21955, '참게': 21956, '작약': 21957, '신주쿠': 21958, '주보': 21959, '이탈리아전': 21960, '소넨필드': 21961, '도부': 21962, '부족감': 21963, '열불': 21964, '파수꾼': 21965, '리프트': 21966, '변비': 21967, '덧칠': 21968, '아이피': 21969, '강승윤': 21970, '새옷': 21971, '조수미': 21972, '동혁': 21973, '개개': 21974, '보통이': 21975, '타이완': 21976, '마취': 21977, '킬링필드': 21978, '뻔자': 21979, '마지못하': 21980, '구황': 21981, '우상우': 21982, '끄덕이': 21983, '괴변': 21984, '미남자': 21985, '햇빛': 21986, '뇌쇄': 21987, '조종하': 21988, '근본': 21989, '정욕': 21990, '참견': 21991, '국사': 21992, '의무적': 21993, '철심': 21994, '위원회': 21995, '자끄': 21996, '시월애': 21997, '알렉': 21998, '무공': 21999, '마이더스': 22000, '빌빌거리': 22001, '번스': 22002, '진법': 22003, '후식': 22004, '김신재': 22005, '뜨끔': 22006, '화면전환': 22007, '페이드': 22008, '구리구리': 22009, '피싱': 22010, '상공': 22011, '자동문': 22012, '성문화': 22013, '무대장치': 22014, '에덴': 22015, '새콤': 22016, '후후훗': 22017, '킬킬대': 22018, '염불': 22019, '외고': 22020, '루시퍼': 22021, '까보': 22022, '주경': 22023, '살신성인': 22024, '서울말': 22025, '출판': 22026, '다다르': 22027, '과이': 22028, '콸콸': 22029, '하키': 22030, '젖가슴': 22031, '괴력': 22032, '합하': 22033, '기보': 22034, '고귀': 22035, '징집': 22036, '천운': 22037, '최루탄': 22038, '한축': 22039, '보좌': 22040, '뜨이': 22041, '팔다리': 22042, '기면': 22043, '발작증': 22044, '선포': 22045, '새바람': 22046, '두껍': 22047, '기미랑': 22048, '땀구멍': 22049, '화장지': 22050, '오창석': 22051, '용식': 22052, '노추': 22053, '브렌든': 22054, '프레이저': 22055, '정태호': 22056, '블러': 22057, '특작': 22058, '간츠': 22059, '담장': 22060, '기상천': 22061, '외하': 22062, '붕어빵': 22063, '오프라': 22064, '윈프리': 22065, '사절': 22066, '병적': 22067, '군필자': 22068, '제야': 22069, '재배': 22070, '악순환': 22071, '매춘': 22072, '경탄': 22073, '똑똑히': 22074, '기어오르': 22075, '지름': 22076, '윤복': 22077, '샤시': 22078, '옷고름': 22079, '이봐라': 22080, '마당발': 22081, '의서': 22082}\n"
     ]
    }
   ],
   "source": [
    "print(\"전체에서 %s개의 고유한 토큰을 찾았습니다.\" % len(word_index)) # 상위 10000개(사실상 9999개)의 인덱스 정보는 확보했지만, 우선 전체를 보여줌\n",
    "print(\"word_index type : \", type(word_index))\n",
    "print(\"word_index : \", word_index) # tokenizer는 0번 index를 사용하지 않음 (후에 padding을 0으로 하기 위함)\n",
    "# 불용어 처리를 하지 않는 게 일반적"
   ]
  },
  {
   "cell_type": "markdown",
   "metadata": {
    "id": "XinzolTTcRqD"
   },
   "source": [
    "## 데이터 Sequencing"
   ]
  },
  {
   "cell_type": "code",
   "execution_count": null,
   "metadata": {
    "colab": {
     "base_uri": "https://localhost:8080/"
    },
    "executionInfo": {
     "elapsed": 118,
     "status": "ok",
     "timestamp": 1656638324807,
     "user": {
      "displayName": "진창호",
      "userId": "09608549926967536417"
     },
     "user_tz": -540
    },
    "id": "XLMhPd-ab_z0",
    "outputId": "4cf6bc09-63a9-4cb8-8cd8-4ad2613a6a42"
   },
   "outputs": [
    {
     "name": "stdout",
     "output_type": "stream",
     "text": [
      "data 0 :  [148, 1]\n",
      "texts 0 :  가슴 일렁이 영화\n"
     ]
    }
   ],
   "source": [
    "data = tokenizer.texts_to_sequences(train_data_text)\n",
    "\n",
    "print(\"data 0 : \", data[0])\n",
    "print(\"texts 0 : \", train_data_text[0])"
   ]
  },
  {
   "cell_type": "markdown",
   "metadata": {
    "id": "yJPx4486cACM"
   },
   "source": [
    "## 데이터 Padding"
   ]
  },
  {
   "cell_type": "code",
   "execution_count": null,
   "metadata": {
    "colab": {
     "base_uri": "https://localhost:8080/"
    },
    "executionInfo": {
     "elapsed": 19,
     "status": "ok",
     "timestamp": 1656638324807,
     "user": {
      "displayName": "진창호",
      "userId": "09608549926967536417"
     },
     "user_tz": -540
    },
    "id": "-EQVyKmOc_KF",
    "outputId": "3b77ceaf-4ab3-41b4-8b32-7f00aad01ff5"
   },
   "outputs": [
    {
     "name": "stdout",
     "output_type": "stream",
     "text": [
      "data :  [[   0    0    0 ...    0  148    1]\n",
      " [   0    0    0 ... 4488 1649   76]\n",
      " [   0    0    0 ...  715  728 1870]\n",
      " ...\n",
      " [   0    0    0 ...  967  563   15]\n",
      " [   0    0    0 ... 1270  398  572]\n",
      " [   0    0    0 ...  230    4 1391]]\n",
      "data 0 :  [  0   0   0   0   0   0   0   0   0   0   0   0   0   0   0   0   0   0\n",
      " 148   1]\n",
      "data 0의 길이 :  20\n"
     ]
    }
   ],
   "source": [
    "# 데이터 패팅은 많으면 잘라내고 없으면 채워준다는 특징이 있다.\n",
    "data = pad_sequences(data, maxlen = maxlen)\n",
    "\n",
    "print(\"data : \", data)\n",
    "print(\"data 0 : \", data[0])\n",
    "print(\"data 0의 길이 : \", len(data[0]))"
   ]
  },
  {
   "cell_type": "code",
   "execution_count": null,
   "metadata": {
    "colab": {
     "base_uri": "https://localhost:8080/"
    },
    "executionInfo": {
     "elapsed": 16,
     "status": "ok",
     "timestamp": 1656638324807,
     "user": {
      "displayName": "진창호",
      "userId": "09608549926967536417"
     },
     "user_tz": -540
    },
    "id": "8ccZg3V9fxXF",
    "outputId": "4d4c259e-458c-4c62-de44-4654d17fb347"
   },
   "outputs": [
    {
     "name": "stdout",
     "output_type": "stream",
     "text": [
      "<class 'list'>\n",
      "<class 'numpy.ndarray'>\n",
      "(49389, 20)\n"
     ]
    }
   ],
   "source": [
    "print(type(train_data_text)) # list\n",
    "print(type(data)) # numpy\n",
    "print(data.shape)"
   ]
  },
  {
   "cell_type": "markdown",
   "metadata": {
    "id": "rOT5Wwbtdjrr"
   },
   "source": [
    "## One-Hot Encoding"
   ]
  },
  {
   "cell_type": "code",
   "execution_count": null,
   "metadata": {
    "colab": {
     "base_uri": "https://localhost:8080/"
    },
    "executionInfo": {
     "elapsed": 13,
     "status": "ok",
     "timestamp": 1656638324808,
     "user": {
      "displayName": "진창호",
      "userId": "09608549926967536417"
     },
     "user_tz": -540
    },
    "id": "1siOKWc7dj6a",
    "outputId": "9bc70dfd-4fca-4e1f-e6fd-398d83f13d06"
   },
   "outputs": [
    {
     "name": "stdout",
     "output_type": "stream",
     "text": [
      "[[0. 0. 0. 0. 0. 1. 1. 1. 0. 0. 0.]\n",
      " [0. 0. 0. 0. 0. 0. 0. 0. 1. 1. 1.]]\n"
     ]
    }
   ],
   "source": [
    "import numpy as np\n",
    "\n",
    "sample = [[5, 6, 7], [8, 9, 10]]\n",
    "arr = np.zeros((len(sample), 10 + 1))\n",
    "for i, seq in enumerate(sample):\n",
    "  arr[i, seq] = 1.\n",
    "print(arr)\n",
    "# one-hot encoding을 거치며 빈도, 순서 정보 손실"
   ]
  },
  {
   "cell_type": "code",
   "execution_count": null,
   "metadata": {
    "id": "uOUJOQk9hEM8"
   },
   "outputs": [],
   "source": [
    "def to_one_hot(sequences, dimension):\n",
    "  results = np.zeros((len(sequences), dimension))\n",
    "  for i, sequence in enumerate(sequences):\n",
    "    results[i, sequence] = 1.\n",
    "  return results\n",
    "\n",
    "data = to_one_hot(data, dimension = max_words)\n",
    "labels = np.asarray(train_data_senti).astype('float32')"
   ]
  },
  {
   "cell_type": "code",
   "execution_count": null,
   "metadata": {
    "colab": {
     "base_uri": "https://localhost:8080/"
    },
    "executionInfo": {
     "elapsed": 12,
     "status": "ok",
     "timestamp": 1656638326561,
     "user": {
      "displayName": "진창호",
      "userId": "09608549926967536417"
     },
     "user_tz": -540
    },
    "id": "yQtExR8VhEx8",
    "outputId": "8048babf-7d65-40f4-a81c-30236c560313"
   },
   "outputs": [
    {
     "name": "stdout",
     "output_type": "stream",
     "text": [
      "data :  [[1. 1. 0. ... 0. 0. 0.]\n",
      " [1. 1. 0. ... 0. 0. 0.]\n",
      " [1. 0. 0. ... 0. 0. 0.]\n",
      " ...\n",
      " [1. 1. 0. ... 0. 0. 0.]\n",
      " [1. 0. 0. ... 0. 0. 0.]\n",
      " [1. 1. 0. ... 0. 0. 0.]]\n",
      "10000\n",
      "data[0][0:100] :  [1. 1. 0. 0. 0. 0. 0. 0. 0. 0. 0. 0. 0. 0. 0. 0. 0. 0. 0. 0. 0. 0. 0. 0.\n",
      " 0. 0. 0. 0. 0. 0. 0. 0. 0. 0. 0. 0. 0. 0. 0. 0. 0. 0. 0. 0. 0. 0. 0. 0.\n",
      " 0. 0. 0. 0. 0. 0. 0. 0. 0. 0. 0. 0. 0. 0. 0. 0. 0. 0. 0. 0. 0. 0. 0. 0.\n",
      " 0. 0. 0. 0. 0. 0. 0. 0. 0. 0. 0. 0. 0. 0. 0. 0. 0. 0. 0. 0. 0. 0. 0. 0.\n",
      " 0. 0. 0. 0.]\n"
     ]
    }
   ],
   "source": [
    "print(\"data : \", data)\n",
    "print(len(data[0]))\n",
    "print(\"data[0][0:100] : \", data[0][0:100])"
   ]
  },
  {
   "cell_type": "markdown",
   "metadata": {
    "id": "DPBesmXHHzvP"
   },
   "source": [
    "## 훈련 데이터에서 검증데이터 분리"
   ]
  },
  {
   "cell_type": "code",
   "execution_count": null,
   "metadata": {
    "colab": {
     "base_uri": "https://localhost:8080/"
    },
    "executionInfo": {
     "elapsed": 9,
     "status": "ok",
     "timestamp": 1656638326561,
     "user": {
      "displayName": "진창호",
      "userId": "09608549926967536417"
     },
     "user_tz": -540
    },
    "id": "7U0FvhK3HzgV",
    "outputId": "5752ab3f-77e5-4a70-a635-09c5ce1fb666"
   },
   "outputs": [
    {
     "name": "stdout",
     "output_type": "stream",
     "text": [
      "<class 'list'>\n",
      "<class 'numpy.ndarray'>\n",
      "(49389, 10000)\n",
      "데이터 텐서의 차원 :  2\n",
      "레이블 텐서의 차원 :  1\n",
      "데이터 텐서의 크기 :  (49389, 10000)\n",
      "레이블 텐서의 크기 :  (49389,)\n"
     ]
    }
   ],
   "source": [
    "print(type(train_data_text))\n",
    "print(type(data))\n",
    "print(data.shape)\n",
    "\n",
    "print(\"데이터 텐서의 차원 : \", data.ndim)\n",
    "print(\"레이블 텐서의 차원 : \", labels.ndim)\n",
    "\n",
    "print(\"데이터 텐서의 크기 : \", data.shape)\n",
    "print(\"레이블 텐서의 크기 : \", labels.shape)"
   ]
  },
  {
   "cell_type": "code",
   "execution_count": null,
   "metadata": {
    "id": "CpJXlIg5KQ4m"
   },
   "outputs": [],
   "source": [
    "validation_ratio = 0.3\n",
    "validation_len = math.floor(len(train_data_text) * validation_ratio)\n",
    "\n",
    "x_train = data[validation_len:]\n",
    "y_train = labels[validation_len:]\n",
    "x_val = data[:validation_len]\n",
    "y_val = labels[:validation_len]"
   ]
  },
  {
   "cell_type": "markdown",
   "metadata": {
    "id": "gYxAGXpCK7jO"
   },
   "source": [
    "## 모델 설계 & 훈련"
   ]
  },
  {
   "cell_type": "code",
   "execution_count": null,
   "metadata": {
    "colab": {
     "base_uri": "https://localhost:8080/"
    },
    "executionInfo": {
     "elapsed": 5122,
     "status": "ok",
     "timestamp": 1656638331679,
     "user": {
      "displayName": "진창호",
      "userId": "09608549926967536417"
     },
     "user_tz": -540
    },
    "id": "DJuNgiQsK6xU",
    "outputId": "834d2a24-4aa3-4bd1-93ff-e02dac6c12ac"
   },
   "outputs": [
    {
     "name": "stdout",
     "output_type": "stream",
     "text": [
      "Model: \"sequential\"\n",
      "_________________________________________________________________\n",
      " Layer (type)                Output Shape              Param #   \n",
      "=================================================================\n",
      " dense (Dense)               (None, 64)                640064    \n",
      "                                                                 \n",
      " dense_1 (Dense)             (None, 32)                2080      \n",
      "                                                                 \n",
      " dense_2 (Dense)             (None, 1)                 33        \n",
      "                                                                 \n",
      "=================================================================\n",
      "Total params: 642,177\n",
      "Trainable params: 642,177\n",
      "Non-trainable params: 0\n",
      "_________________________________________________________________\n"
     ]
    }
   ],
   "source": [
    "from keras.models import Sequential\n",
    "from keras.layers import Dense\n",
    "\n",
    "model = Sequential()\n",
    "\n",
    "model.add(Dense(64, activation = 'relu', input_shape = (max_words, )))\n",
    "model.add(Dense(32, activation = 'relu'))\n",
    "model.add(Dense(1, activation = 'sigmoid'))\n",
    "model.compile(optimizer='rmsprop', loss='binary_crossentropy', metrics=['acc'])\n",
    "model.summary() # 파라미터의 개수를 확인 -> 너무 많으면 독립변수에 과적합 될 가능성이 크다."
   ]
  },
  {
   "cell_type": "markdown",
   "metadata": {
    "id": "OsNTBvKXVxbQ"
   },
   "source": [
    "## 각종 값 저장"
   ]
  },
  {
   "cell_type": "code",
   "execution_count": null,
   "metadata": {
    "colab": {
     "base_uri": "https://localhost:8080/"
    },
    "executionInfo": {
     "elapsed": 36498,
     "status": "ok",
     "timestamp": 1656638368159,
     "user": {
      "displayName": "진창호",
      "userId": "09608549926967536417"
     },
     "user_tz": -540
    },
    "id": "odB2EJz3Oe5N",
    "outputId": "1dc1dc73-20d9-4e6d-87de-89d2bac8879d"
   },
   "outputs": [
    {
     "name": "stdout",
     "output_type": "stream",
     "text": [
      "Epoch 1/5\n",
      "1081/1081 [==============================] - 10s 7ms/step - loss: 0.4350 - acc: 0.7997 - val_loss: 0.4108 - val_acc: 0.8142\n",
      "Epoch 2/5\n",
      "1081/1081 [==============================] - 5s 5ms/step - loss: 0.3712 - acc: 0.8392 - val_loss: 0.4066 - val_acc: 0.8198\n",
      "Epoch 3/5\n",
      "1081/1081 [==============================] - 5s 5ms/step - loss: 0.3540 - acc: 0.8490 - val_loss: 0.4053 - val_acc: 0.8205\n",
      "Epoch 4/5\n",
      "1081/1081 [==============================] - 7s 6ms/step - loss: 0.3430 - acc: 0.8547 - val_loss: 0.4053 - val_acc: 0.8191\n",
      "Epoch 5/5\n",
      "1081/1081 [==============================] - 5s 5ms/step - loss: 0.3308 - acc: 0.8624 - val_loss: 0.3997 - val_acc: 0.8211\n"
     ]
    }
   ],
   "source": [
    "history = model.fit(x_train, y_train, epochs = 5, batch_size = 32, validation_data = (x_val, y_val))\n",
    "history_dict = history.history"
   ]
  },
  {
   "cell_type": "code",
   "execution_count": null,
   "metadata": {
    "colab": {
     "base_uri": "https://localhost:8080/"
    },
    "executionInfo": {
     "elapsed": 976,
     "status": "ok",
     "timestamp": 1656638526155,
     "user": {
      "displayName": "진창호",
      "userId": "09608549926967536417"
     },
     "user_tz": -540
    },
    "id": "7DfooabBOerc",
    "outputId": "e4c49c08-0e5b-416b-b35d-427a4d447191"
   },
   "outputs": [
    {
     "name": "stdout",
     "output_type": "stream",
     "text": [
      "/content/gdrive/MyDrive/Colab Notebooks/Big AI/Dataset/pytest\n"
     ]
    }
   ],
   "source": [
    "# CPU와 GPU를 구분해서 모델 생성해야 함\n",
    "%cd /content/gdrive/MyDrive/Colab Notebooks/Big AI/Dataset/pytest\n",
    "\n",
    "model.save(\"text_binary_model.h5\") # HDF 포맷\n",
    "\n",
    "import pickle\n",
    "with open(\"text_binary_tokenizer.pickle\", 'wb') as handle:\n",
    "  pickle.dump(tokenizer, handle, protocol = pickle.HIGHEST_PROTOCOL)"
   ]
  },
  {
   "cell_type": "markdown",
   "metadata": {
    "id": "rDCvT8tOV0e9"
   },
   "source": [
    "## 모델 성능 확인"
   ]
  },
  {
   "cell_type": "code",
   "execution_count": null,
   "metadata": {
    "colab": {
     "base_uri": "https://localhost:8080/"
    },
    "executionInfo": {
     "elapsed": 775,
     "status": "ok",
     "timestamp": 1656640040790,
     "user": {
      "displayName": "진창호",
      "userId": "09608549926967536417"
     },
     "user_tz": -540
    },
    "id": "nYggbqm3VvV4",
    "outputId": "388fa984-ba63-4cff-e35b-f2be75eac8f5"
   },
   "outputs": [
    {
     "name": "stdout",
     "output_type": "stream",
     "text": [
      "Train accuracy of each epoch :  [0.8   0.839 0.849 0.855 0.862]\n",
      "Validation accuracy of each epoch :  [0.814 0.82  0.82  0.819 0.821]\n"
     ]
    }
   ],
   "source": [
    "acc = history_dict['acc']\n",
    "val_acc = history_dict['val_acc']\n",
    "loss = history_dict['loss']\n",
    "val_loss = history_dict['val_loss']\n",
    "\n",
    "print(\"Train accuracy of each epoch : \", np.round(acc, 3))\n",
    "print(\"Validation accuracy of each epoch : \", np.round(val_acc, 3))"
   ]
  },
  {
   "cell_type": "code",
   "execution_count": null,
   "metadata": {
    "colab": {
     "base_uri": "https://localhost:8080/",
     "height": 300
    },
    "executionInfo": {
     "elapsed": 823,
     "status": "ok",
     "timestamp": 1656640044366,
     "user": {
      "displayName": "진창호",
      "userId": "09608549926967536417"
     },
     "user_tz": -540
    },
    "id": "iskft0ZNbYQG",
    "outputId": "6dc83815-9501-43a5-faab-5d96c7c776b7"
   },
   "outputs": [
    {
     "name": "stdout",
     "output_type": "stream",
     "text": [
      "range(1, 6)\n"
     ]
    },
    {
     "data": {
      "image/png": "[encoded data removed]",
      "text/plain": [
       "<Figure size 432x288 with 1 Axes>"
      ]
     },
     "metadata": {
      "image/png": {
       "height": 265,
       "width": 375
      },
      "needs_background": "light"
     },
     "output_type": "display_data"
    }
   ],
   "source": [
    "import matplotlib.pyplot as plt\n",
    "\n",
    "epochs = range(1, len(acc) + 1)\n",
    "print(epochs)\n",
    "\n",
    "plt.plot(epochs, acc, 'bo', label = \"Training Acc\")\n",
    "plt.plot(epochs, val_acc, 'b', label = \"Validation Acc\")\n",
    "plt.title(\"Training and validation accuracy\")\n",
    "plt.legend()\n",
    "plt.show()"
   ]
  },
  {
   "cell_type": "code",
   "execution_count": null,
   "metadata": {
    "colab": {
     "base_uri": "https://localhost:8080/",
     "height": 282
    },
    "executionInfo": {
     "elapsed": 835,
     "status": "ok",
     "timestamp": 1656640147726,
     "user": {
      "displayName": "진창호",
      "userId": "09608549926967536417"
     },
     "user_tz": -540
    },
    "id": "lRWE61CxbYq1",
    "outputId": "fc62f681-a740-408a-a116-73f423394b2f"
   },
   "outputs": [
    {
     "data": {
      "image/png": "[encoded data removed]",
      "text/plain": [
       "<Figure size 432x288 with 1 Axes>"
      ]
     },
     "metadata": {
      "image/png": {
       "height": 265,
       "width": 375
      },
      "needs_background": "light"
     },
     "output_type": "display_data"
    }
   ],
   "source": [
    "plt.figure()\n",
    "\n",
    "plt.plot(epochs, loss, 'bo', label = \"Training Loss\")\n",
    "plt.plot(epochs, val_loss, 'b', label = \"Validation Loss\")\n",
    "plt.title(\"Training and validation accuracy\")\n",
    "plt.legend()\n",
    "plt.show()"
   ]
  },
  {
   "cell_type": "markdown",
   "metadata": {
    "id": "GXy4IsiHWil9"
   },
   "source": [
    "## 모델 Load"
   ]
  },
  {
   "cell_type": "code",
   "execution_count": null,
   "metadata": {
    "id": "pnFDuOd8Wi8Y"
   },
   "outputs": [],
   "source": [
    "import os\n",
    "from keras.models import load_model\n",
    "\n",
    "filepath = \"/content/gdrive/MyDrive/Colab Notebooks/Big AI/Dataset/pytest\"\n",
    "os.chdir(filepath)\n",
    "print(\"Current Directory : \", os.getcwd())\n",
    "\n",
    "loaded_model = load_model(\"text_binary_model.h5\")\n",
    "print(\"model loaded : \", loaded_model)\n",
    "\n",
    "with open(\"text_binary_tokenizer.pickle\", 'rb') as handle:\n",
    "  loaded_tokenizer = pickle.load(handle)"
   ]
  },
  {
   "cell_type": "markdown",
   "metadata": {
    "id": "vdRuk45WXunP"
   },
   "source": [
    "## 테스트 데이터 평가과정"
   ]
  },
  {
   "cell_type": "code",
   "execution_count": null,
   "metadata": {
    "id": "sbRzZypWXn0v"
   },
   "outputs": [],
   "source": [
    "print(test_data_text)\n",
    "print(test_data_senti)"
   ]
  },
  {
   "cell_type": "code",
   "execution_count": null,
   "metadata": {
    "id": "sJkLLDfIX363"
   },
   "outputs": [],
   "source": [
    "data = loaded_tokenizer.texts_to_sequences(test_data_text) # 당연히 훈련데이터에서 훈련시킨 모델 사용\n",
    "data = pad_sequences(data, maxlen = maxlen)\n",
    "x_test = to_one_hot(data, dimension = max_words)\n",
    "y_test = np.asarray(test_data_senti).astype('float32')"
   ]
  },
  {
   "cell_type": "code",
   "execution_count": null,
   "metadata": {
    "colab": {
     "base_uri": "https://localhost:8080/"
    },
    "executionInfo": {
     "elapsed": 4611,
     "status": "ok",
     "timestamp": 1656639175043,
     "user": {
      "displayName": "진창호",
      "userId": "09608549926967536417"
     },
     "user_tz": -540
    },
    "id": "NjgQbxaIYgZ5",
    "outputId": "0072a41d-ca86-4996-eede-9f7d32cafe5c"
   },
   "outputs": [
    {
     "name": "stdout",
     "output_type": "stream",
     "text": [
      "515/515 [==============================] - 2s 3ms/step - loss: 0.3885 - acc: 0.8268\n",
      "prediction model loss & acc :  [0.3884999454021454, 0.8267735838890076]\n"
     ]
    }
   ],
   "source": [
    "test_eval = loaded_model.evaluate(x_test, y_test)\n",
    "\n",
    "print(\"prediction model loss & acc : \", test_eval)"
   ]
  },
  {
   "cell_type": "markdown",
   "metadata": {
    "id": "Z1LFLZR2Y87t"
   },
   "source": [
    "데이터 예측해보기"
   ]
  },
  {
   "cell_type": "code",
   "execution_count": 1,
   "metadata": {
    "colab": {
     "base_uri": "https://localhost:8080/",
     "height": 391
    },
    "executionInfo": {
     "elapsed": 673,
     "status": "error",
     "timestamp": 1656670340401,
     "user": {
      "displayName": "진창호",
      "userId": "09608549926967536417"
     },
     "user_tz": -540
    },
    "id": "KrmJ-RaYY90m",
    "outputId": "05686ebf-fa32-4555-a921-862afbeba735"
   },
   "outputs": [
    {
     "ename": "ModuleNotFoundError",
     "errorDetails": {
      "actions": [
       {
        "action": "open_url",
        "actionText": "Open Examples",
        "url": "/notebooks/snippets/importing_libraries.ipynb"
       }
      ]
     },
     "evalue": "ignored",
     "output_type": "error",
     "traceback": [
      "\u001b[0;31m---------------------------------------------------------------------------\u001b[0m",
      "\u001b[0;31mModuleNotFoundError\u001b[0m                       Traceback (most recent call last)",
      "\u001b[0;32m<ipython-input-1-2cc7ee6c6a4d>\u001b[0m in \u001b[0;36m<module>\u001b[0;34m()\u001b[0m\n\u001b[0;32m----> 1\u001b[0;31m \u001b[0;32mimport\u001b[0m \u001b[0mrhinoMorph\u001b[0m\u001b[0;34m\u001b[0m\u001b[0;34m\u001b[0m\u001b[0m\n\u001b[0m\u001b[1;32m      2\u001b[0m \u001b[0mrn\u001b[0m \u001b[0;34m=\u001b[0m \u001b[0mrhinoMorph\u001b[0m\u001b[0;34m.\u001b[0m\u001b[0mstartRhino\u001b[0m\u001b[0;34m(\u001b[0m\u001b[0;34m)\u001b[0m\u001b[0;34m\u001b[0m\u001b[0;34m\u001b[0m\u001b[0m\n\u001b[1;32m      3\u001b[0m \u001b[0;34m\u001b[0m\u001b[0m\n\u001b[1;32m      4\u001b[0m \u001b[0mtext\u001b[0m \u001b[0;34m=\u001b[0m \u001b[0;34m[\u001b[0m\u001b[0;34m\"재미있게 잘 봤습니다.\"\u001b[0m\u001b[0;34m]\u001b[0m\u001b[0;34m\u001b[0m\u001b[0;34m\u001b[0m\u001b[0m\n\u001b[1;32m      5\u001b[0m \u001b[0mtext\u001b[0m \u001b[0;34m=\u001b[0m \u001b[0;34m[\u001b[0m\u001b[0mrhinoMorph\u001b[0m\u001b[0;34m.\u001b[0m\u001b[0monlyMorph_list\u001b[0m\u001b[0;34m(\u001b[0m\u001b[0mrn\u001b[0m\u001b[0;34m,\u001b[0m \u001b[0msentense\u001b[0m\u001b[0;34m,\u001b[0m \u001b[0mpos\u001b[0m \u001b[0;34m=\u001b[0m \u001b[0;34m[\u001b[0m\u001b[0;34m'NNG'\u001b[0m\u001b[0;34m,\u001b[0m \u001b[0;34m'NNP'\u001b[0m\u001b[0;34m,\u001b[0m \u001b[0;34m'NP'\u001b[0m\u001b[0;34m,\u001b[0m \u001b[0;34m'VV'\u001b[0m\u001b[0;34m,\u001b[0m \u001b[0;34m'VA'\u001b[0m\u001b[0;34m,\u001b[0m \u001b[0;34m'XR'\u001b[0m\u001b[0;34m,\u001b[0m \u001b[0;34m'IC'\u001b[0m\u001b[0;34m,\u001b[0m \u001b[0;34m'MM'\u001b[0m\u001b[0;34m,\u001b[0m \u001b[0;34m'MAG'\u001b[0m\u001b[0;34m,\u001b[0m \u001b[0;34m'MAJ'\u001b[0m\u001b[0;34m]\u001b[0m\u001b[0;34m,\u001b[0m \u001b[0meomi\u001b[0m \u001b[0;34m=\u001b[0m \u001b[0;32mFalse\u001b[0m\u001b[0;34m)\u001b[0m \u001b[0;32mfor\u001b[0m \u001b[0msentense\u001b[0m \u001b[0;32min\u001b[0m \u001b[0mtext\u001b[0m\u001b[0;34m]\u001b[0m\u001b[0;34m\u001b[0m\u001b[0;34m\u001b[0m\u001b[0m\n",
      "\u001b[0;31mModuleNotFoundError\u001b[0m: No module named 'rhinoMorph'",
      "",
      "\u001b[0;31m---------------------------------------------------------------------------\u001b[0;32m\nNOTE: If your import is failing due to a missing package, you can\nmanually install dependencies using either !pip or !apt.\n\nTo view examples of installing some common dependencies, click the\n\"Open Examples\" button below.\n\u001b[0;31m---------------------------------------------------------------------------\u001b[0m\n"
     ]
    }
   ],
   "source": [
    "import rhinoMorph\n",
    "rn = rhinoMorph.startRhino()\n",
    "\n",
    "text = [\"재미있게 잘 봤습니다.\"]\n",
    "text = [rhinoMorph.onlyMorph_list(rn, sentense, pos = ['NNG', 'NNP', 'NP', 'VV', 'VA', 'XR', 'IC', 'MM', 'MAG', 'MAJ'], eomi = False) for sentense in text]\n",
    "print(\"형태소 분석 결과 : \", text)\n",
    "\n",
    "data = loaded_tokenizer.texts_to_sequences(text)\n",
    "data = pad_sequences(data, maxlen = maxlen)\n",
    "x_test = to_one_hot(data, dimension = max_words)\n",
    "\n",
    "prediction = loaded_model.predict(x_test)\n",
    "print(\"Result : \", prediction)"
   ]
  }
 ],
 "metadata": {
  "accelerator": "GPU",
  "colab": {
   "authorship_tag": "ABX9TyNslroe2FKUftKA172a8Xap",
   "collapsed_sections": [],
   "name": "6월 30일.ipynb",
   "provenance": []
  },
  "gpuClass": "standard",
  "kernelspec": {
   "display_name": "Python 3",
   "language": "python",
   "name": "python3"
  },
  "language_info": {
   "codemirror_mode": {
    "name": "ipython",
    "version": 3
   },
   "file_extension": ".py",
   "mimetype": "text/x-python",
   "name": "python",
   "nbconvert_exporter": "python",
   "pygments_lexer": "ipython3",
   "version": "3.8.5"
  }
 },
 "nbformat": 4,
 "nbformat_minor": 1
}
