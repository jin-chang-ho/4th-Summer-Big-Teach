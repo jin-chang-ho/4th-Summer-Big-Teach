{
 "cells": [
  {
   "cell_type": "markdown",
   "metadata": {
    "id": "vrFc8KUVrAAX"
   },
   "source": [
    "# 제어문"
   ]
  },
  {
   "cell_type": "code",
   "execution_count": 1,
   "metadata": {
    "colab": {
     "base_uri": "https://localhost:8080/"
    },
    "executionInfo": {
     "elapsed": 8707,
     "status": "ok",
     "timestamp": 1656487489309,
     "user": {
      "displayName": "진창호",
      "userId": "09608549926967536417"
     },
     "user_tz": -540
    },
    "id": "33SbkJpCrdLM",
    "outputId": "b03ee6e0-a585-496d-dcb9-2f6af9625073"
   },
   "outputs": [
    {
     "name": "stdout",
     "output_type": "stream",
     "text": [
      "다리가 몇 개입니까?4\n",
      "새끼가 2마리 이상입니까?True\n",
      "초식입니까, 잡식입니까?잡식\n",
      "소 또는 돼지이나, 돼지일 것입니다.\n",
      "돼지가 분명합니다.\n"
     ]
    }
   ],
   "source": [
    "animals = ['닭', '소', '돼지']\n",
    "\n",
    "legs = int(input(\"다리가 몇 개입니까?\"))\n",
    "childs = bool(input(\"새끼가 2마리 이상입니까?\"))\n",
    "foods = input(\"초식입니까, 잡식입니까?\")\n",
    "\n",
    "if legs == 2:\n",
    "  print(\"닭입니다.\")\n",
    "\n",
    "if legs == 4 and childs == True:\n",
    "  print(\"소 또는 돼지이나, 돼지일 것입니다.\")\n",
    "\n",
    "if legs == 4 and childs == True and foods == \"잡식\":\n",
    "  print(\"돼지가 분명합니다.\")\n",
    "\n",
    "if legs == 4 and childs == True and foods == \"초식\":\n",
    "  print(\"소가 분명합니다.\")"
   ]
  },
  {
   "cell_type": "code",
   "execution_count": 2,
   "metadata": {
    "colab": {
     "base_uri": "https://localhost:8080/"
    },
    "executionInfo": {
     "elapsed": 10602,
     "status": "ok",
     "timestamp": 1656487499894,
     "user": {
      "displayName": "진창호",
      "userId": "09608549926967536417"
     },
     "user_tz": -540
    },
    "id": "0vDTBJDvsR6v",
    "outputId": "d3d763eb-8541-4175-a60a-72395075a47b"
   },
   "outputs": [
    {
     "name": "stdout",
     "output_type": "stream",
     "text": [
      "동물을 입력해주세요 : 닭\n",
      "닭 있습니다.\n"
     ]
    }
   ],
   "source": [
    "animal = input(\"동물을 입력해주세요 : \")\n",
    "animals = ['닭', '소', '돼지']\n",
    "\n",
    "if animal in animals:\n",
    "  print(animal + \" 있습니다.\")\n",
    "\n",
    "if animal not in animals:\n",
    "  print(animal + \" 없습니다.\")"
   ]
  },
  {
   "cell_type": "code",
   "execution_count": 3,
   "metadata": {
    "colab": {
     "base_uri": "https://localhost:8080/"
    },
    "executionInfo": {
     "elapsed": 2570,
     "status": "ok",
     "timestamp": 1656487502436,
     "user": {
      "displayName": "진창호",
      "userId": "09608549926967536417"
     },
     "user_tz": -540
    },
    "id": "WwZTOLcHtBQ1",
    "outputId": "e151cbf0-135b-4875-82d6-7c5496818fe7"
   },
   "outputs": [
    {
     "name": "stdout",
     "output_type": "stream",
     "text": [
      "동물을 입력해주세요 : 3\n",
      "3 없습니다.\n"
     ]
    }
   ],
   "source": [
    "animal = input(\"동물을 입력해주세요 : \")\n",
    "animals = ['닭', '소', '돼지']\n",
    "\n",
    "if animal in animals:\n",
    "  print(animal + \" 있습니다.\")\n",
    "else:\n",
    "  print(animal + \" 없습니다.\")"
   ]
  },
  {
   "cell_type": "code",
   "execution_count": 4,
   "metadata": {
    "colab": {
     "base_uri": "https://localhost:8080/"
    },
    "executionInfo": {
     "elapsed": 2570,
     "status": "ok",
     "timestamp": 1656487504987,
     "user": {
      "displayName": "진창호",
      "userId": "09608549926967536417"
     },
     "user_tz": -540
    },
    "id": "HnuINWuXuFSd",
    "outputId": "68b20d15-4a17-47bf-b927-a559d2147e7f"
   },
   "outputs": [
    {
     "name": "stdout",
     "output_type": "stream",
     "text": [
      "동물을 입력해주세요 : 3\n",
      "3 없습니다...\n"
     ]
    }
   ],
   "source": [
    "animals = ['닭', '소', '돼지']\n",
    "animals2 = ['오리', '꿩', '노루']\n",
    "\n",
    "animal = input(\"동물을 입력해주세요 : \")\n",
    "\n",
    "if animal in animals:\n",
    "  print(animal + \" 있습니다!\")\n",
    "elif animal in animals2:\n",
    "  print(animal + \" 앞으로 살 것입니다.\")\n",
    "else:\n",
    "  print(animal + \" 없습니다...\")"
   ]
  },
  {
   "cell_type": "code",
   "execution_count": 5,
   "metadata": {
    "colab": {
     "base_uri": "https://localhost:8080/"
    },
    "executionInfo": {
     "elapsed": 2597,
     "status": "ok",
     "timestamp": 1656487507548,
     "user": {
      "displayName": "진창호",
      "userId": "09608549926967536417"
     },
     "user_tz": -540
    },
    "id": "IJjWdNtXxYzM",
    "outputId": "671c3723-7be3-40c9-f3d7-a2e066dbc5dd"
   },
   "outputs": [
    {
     "name": "stdout",
     "output_type": "stream",
     "text": [
      "동물을 입력해주세요 : 4\n"
     ]
    }
   ],
   "source": [
    "animals = ['닭', '소', '돼지']\n",
    "\n",
    "animal = input(\"동물을 입력해주세요 : \")\n",
    "found = False\n",
    "\n",
    "for an in animals:\n",
    "  if animal == an:\n",
    "    found = True\n",
    "    print(animal + \" 있습니다.\")"
   ]
  },
  {
   "cell_type": "code",
   "execution_count": 6,
   "metadata": {
    "colab": {
     "base_uri": "https://localhost:8080/"
    },
    "executionInfo": {
     "elapsed": 2221,
     "status": "ok",
     "timestamp": 1656487509757,
     "user": {
      "displayName": "진창호",
      "userId": "09608549926967536417"
     },
     "user_tz": -540
    },
    "id": "UCyogV7LvP8N",
    "outputId": "8928c227-40b1-43b4-def7-b93fd552643a"
   },
   "outputs": [
    {
     "name": "stdout",
     "output_type": "stream",
     "text": [
      "동물을 입력해주세요 : 5\n",
      "못 찾았습니다.\n"
     ]
    }
   ],
   "source": [
    "animals = ['닭', '소', '돼지']\n",
    "\n",
    "animal = input(\"동물을 입력해주세요 : \")\n",
    "found = False\n",
    "\n",
    "for an in animals:\n",
    "  if animal == an:\n",
    "    found = True\n",
    "    print(animal + \" 있습니다.\")\n",
    "\n",
    "if not found:\n",
    "  print(\"못 찾았습니다.\")"
   ]
  },
  {
   "cell_type": "code",
   "execution_count": 7,
   "metadata": {
    "colab": {
     "base_uri": "https://localhost:8080/"
    },
    "executionInfo": {
     "elapsed": 14,
     "status": "ok",
     "timestamp": 1656487509759,
     "user": {
      "displayName": "진창호",
      "userId": "09608549926967536417"
     },
     "user_tz": -540
    },
    "id": "m_tzQaed1GEK",
    "outputId": "7694d211-e6bc-409b-8773-6942091baacf"
   },
   "outputs": [
    {
     "name": "stdout",
     "output_type": "stream",
     "text": [
      "***** 제일농장 *****\n",
      "닭, 100마리입니다.\n",
      "소, 50마리입니다.\n",
      "돼지, 80마리입니다.\n",
      "***** 우리농장 *****\n",
      "닭, 50마리입니다.\n",
      "소, 10마리입니다.\n",
      "돼지, 20마리입니다.\n",
      "***** 한국농장 *****\n",
      "닭, 200마리입니다.\n",
      "소, 100마리입니다.\n",
      "돼지, 150마리입니다.\n"
     ]
    }
   ],
   "source": [
    "farms = {'제일농장' : [100, 50, 80], '우리농장' : [50, 10, 20], '한국농장' : [200, 100, 150]}\n",
    "animals = ['닭', '소', '돼지']\n",
    "\n",
    "for farm in farms:\n",
    "  print(\"*\" * 5, farm, '*' * 5)\n",
    "  i = 0\n",
    "  for animal in animals:\n",
    "    print(animal + \", \" + str(farms[farm][i]) + \"마리입니다.\")\n",
    "    i = i + 1"
   ]
  },
  {
   "cell_type": "code",
   "execution_count": 10,
   "metadata": {
    "colab": {
     "base_uri": "https://localhost:8080/"
    },
    "executionInfo": {
     "elapsed": 2103,
     "status": "ok",
     "timestamp": 1656487511852,
     "user": {
      "displayName": "진창호",
      "userId": "09608549926967536417"
     },
     "user_tz": -540
    },
    "id": "-jhd0hpK4H_5",
    "outputId": "6bf29d27-c2a8-4739-821c-aea9cd52f40d"
   },
   "outputs": [
    {
     "name": "stdout",
     "output_type": "stream",
     "text": [
      "동물을 입력해주세요 : 소\n",
      "소, 찾았습니다.\n"
     ]
    }
   ],
   "source": [
    "animals = ['닭', '소', '돼지']\n",
    "\n",
    "user = input(\"동물을 입력해주세요 : \")\n",
    "\n",
    "for animal in animals:\n",
    "  if user == animal:\n",
    "    print(user + \", 찾았습니다.\")\n",
    "    break"
   ]
  },
  {
   "cell_type": "markdown",
   "metadata": {
    "id": "17LtCqaN4gGR"
   },
   "source": [
    "# 함수"
   ]
  },
  {
   "cell_type": "code",
   "execution_count": 12,
   "metadata": {
    "colab": {
     "base_uri": "https://localhost:8080/"
    },
    "id": "bVHrsCEG4gX5",
    "outputId": "bddf1828-64e7-41c7-e7c2-fcc0927b98af"
   },
   "outputs": [
    {
     "name": "stdout",
     "output_type": "stream",
     "text": [
      "숫자를 입력하세요 : 4\n",
      "4을 입력한 결과는 4\n"
     ]
    }
   ],
   "source": [
    "def abs(number):\n",
    "  if number < 0:\n",
    "    number = -number\n",
    "\n",
    "  return str(number)\n",
    "\n",
    "num = int(input(\"숫자를 입력하세요 : \"))\n",
    "print(str(num) + \"을 입력한 결과는 \" + abs(num))"
   ]
  },
  {
   "cell_type": "code",
   "execution_count": 13,
   "metadata": {
    "id": "OCJrkCh4EM1K"
   },
   "outputs": [
    {
     "name": "stdout",
     "output_type": "stream",
     "text": [
      "[2, 4, 6, 8, 10]\n"
     ]
    }
   ],
   "source": [
    "def select_even(*args):\n",
    "  result = []\n",
    "  for num in args:\n",
    "    if num % 2 != 1:\n",
    "      result.append(num)\n",
    "  return result\n",
    "\n",
    "even = select_even(1, 2, 3, 4, 5, 6, 7, 8, 9, 10)\n",
    "print(even)"
   ]
  },
  {
   "cell_type": "code",
   "execution_count": 14,
   "metadata": {
    "id": "DwCffffu7PLC"
   },
   "outputs": [
    {
     "name": "stdout",
     "output_type": "stream",
     "text": [
      "[2, 4, 6, 8, 10]\n",
      "Help on function select_even in module __main__:\n",
      "\n",
      "select_even(list)\n",
      "    짝수를 판별하는 함수\n",
      "\n"
     ]
    }
   ],
   "source": [
    "def select_even(list):\n",
    "  \"\"\"\n",
    "  짝수를 판별하는 함수 \n",
    "  \"\"\"\n",
    "  result = []\n",
    "  for num in list:\n",
    "    if num % 2 != 1:\n",
    "      result.append(num)\n",
    "  return result\n",
    "\n",
    "even = select_even([1, 2, 3, 4, 5, 6, 7, 8, 9, 10])\n",
    "print(even)\n",
    "\n",
    "help(select_even)"
   ]
  },
  {
   "cell_type": "code",
   "execution_count": 16,
   "metadata": {
    "id": "IhTnckaBD-Sz"
   },
   "outputs": [
    {
     "name": "stdout",
     "output_type": "stream",
     "text": [
      "숫자를 입력하세요 : 15\n",
      "15.0\n"
     ]
    }
   ],
   "source": [
    "number =   float(input(\"숫자를 입력하세요 : \"))\n",
    "print(number)"
   ]
  },
  {
   "cell_type": "code",
   "execution_count": 17,
   "metadata": {
    "id": "6a3lJerqE6VT"
   },
   "outputs": [
    {
     "name": "stdout",
     "output_type": "stream",
     "text": [
      "1대 대통령: 이승만\n",
      "2대 대통령: 윤보선\n",
      "3대 대통령: 박정희\n",
      "4대 대통령: 최규하\n",
      "5대 대통령: 전두환\n",
      "6대 대통령: 노태우\n",
      "7대 대통령: 김영삼\n",
      "8대 대통령: 김대중\n",
      "9대 대통령: 노무현\n",
      "10대 대통령: 이명박\n",
      "11대 대통령: 박근혜\n",
      "12대 대통령: 문재인\n",
      "13대 대통령: 윤석열\n"
     ]
    }
   ],
   "source": [
    "presidents = [\"이승만\", \"윤보선\", \"박정희\", \"최규하\", \"전두환\", \"노태우\", \"김영삼\", \"김대중\", \"노무현\", \"이명박\", \"박근혜\", \"문재인\", \"윤석열\"]\n",
    "\n",
    "for i in range(len(presidents)):\n",
    "  print(str(i + 1) + \"대 대통령: \" + presidents[i])"
   ]
  },
  {
   "cell_type": "markdown",
   "metadata": {
    "id": "Y_cg5VI-HwSK"
   },
   "source": [
    "# 모듈"
   ]
  },
  {
   "cell_type": "code",
   "execution_count": 18,
   "metadata": {
    "id": "5kOEw7lCHwiz"
   },
   "outputs": [
    {
     "name": "stdout",
     "output_type": "stream",
     "text": [
      "['False', 'None', 'True', 'and', 'as', 'assert', 'async', 'await', 'break', 'class', 'continue', 'def', 'del', 'elif', 'else', 'except', 'finally', 'for', 'from', 'global', 'if', 'import', 'in', 'is', 'lambda', 'nonlocal', 'not', 'or', 'pass', 'raise', 'return', 'try', 'while', 'with', 'yield']\n"
     ]
    }
   ],
   "source": [
    "import keyword\n",
    "\n",
    "print(keyword.kwlist) # 주요 내장 모듈 알려줌"
   ]
  },
  {
   "cell_type": "code",
   "execution_count": 19,
   "metadata": {
    "id": "Wqybq7igLnfM"
   },
   "outputs": [
    {
     "name": "stdout",
     "output_type": "stream",
     "text": [
      "['a', 'b', 'c', 'd', 'e']\n",
      "['a', 'c', 'b']\n",
      "[27, 35, 45, 15, 4, 41]\n",
      "[4, 15, 27, 35, 41, 45]\n"
     ]
    }
   ],
   "source": [
    "import random\n",
    "\n",
    "card = ['a', 'b', 'c', 'd', 'e']\n",
    "print(card)\n",
    "\n",
    "selected = random.sample(card, 3)\n",
    "print(selected)\n",
    "\n",
    "lotto = random.sample(range(1, 46), 6)\n",
    "print(lotto)\n",
    "\n",
    "lotto.sort()\n",
    "print(lotto)"
   ]
  },
  {
   "cell_type": "code",
   "execution_count": 20,
   "metadata": {
    "id": "1BJYHjzWNYeG"
   },
   "outputs": [
    {
     "name": "stdout",
     "output_type": "stream",
     "text": [
      "0.957774856324358\n",
      "8.576123738614633\n"
     ]
    }
   ],
   "source": [
    "import random\n",
    "\n",
    "print(random.random()) # 0.0 ~ 1.0 사이의 난수 생성\n",
    "print(random.uniform(0, 10)) # 0.0 ~ 10.0 사이의 난수 생성"
   ]
  },
  {
   "cell_type": "code",
   "execution_count": 21,
   "metadata": {
    "id": "PKhmoh7GNP6y"
   },
   "outputs": [
    {
     "name": "stdout",
     "output_type": "stream",
     "text": [
      "start :  1657068809.0585747\n",
      "**********\n",
      "0.02094435691833496 초 경과\n"
     ]
    }
   ],
   "source": [
    "import time\n",
    "\n",
    "start = time.time()\n",
    "print(\"start : \", start)\n",
    "\n",
    "def manyloop(num):\n",
    "  for i in range(num):\n",
    "    if i % 10000 == 0:\n",
    "      print(\"*\", end = \"\")\n",
    "  print()\n",
    "\n",
    "number = 100000\n",
    "manyloop(number)\n",
    "\n",
    "end = time.time()\n",
    "print(end - start, \"초 경과\")"
   ]
  },
  {
   "cell_type": "code",
   "execution_count": 22,
   "metadata": {
    "id": "K_fbDpsie6ZJ"
   },
   "outputs": [
    {
     "name": "stdout",
     "output_type": "stream",
     "text": [
      "Wed Jul  6 09:53:30 2022\n",
      "<class 'list'>\n",
      "Wed\n",
      "Jul\n",
      "\n",
      "6\n",
      "09:53:30\n",
      "2022\n"
     ]
    }
   ],
   "source": [
    "import time\n",
    "\n",
    "current = time.ctime()\n",
    "print(current)\n",
    "\n",
    "current_list = current.split(' ')\n",
    "print(type(current_list))\n",
    "\n",
    "for t in current_list:\n",
    "  print(t)"
   ]
  },
  {
   "cell_type": "code",
   "execution_count": 23,
   "metadata": {
    "id": "KGguFm5ufM-f"
   },
   "outputs": [
    {
     "name": "stdout",
     "output_type": "stream",
     "text": [
      "Wed Jul  6 09:53:31 2022\n",
      "Wed Jul  6 09:53:32 2022\n",
      "Wed Jul  6 09:53:33 2022\n",
      "Wed Jul  6 09:53:34 2022\n",
      "Wed Jul  6 09:53:35 2022\n",
      "Wed Jul  6 09:53:36 2022\n"
     ]
    }
   ],
   "source": [
    "import time\n",
    "\n",
    "for t in range(6):\n",
    "  print(time.ctime())\n",
    "  time.sleep(1)"
   ]
  },
  {
   "cell_type": "markdown",
   "metadata": {
    "id": "FnmCGeYifdJI"
   },
   "source": [
    "# 파일 입출력"
   ]
  },
  {
   "cell_type": "code",
   "execution_count": 27,
   "metadata": {
    "id": "lA-6BDrlfc84"
   },
   "outputs": [],
   "source": [
    "f = open('output/myfile.txt', 'w')\n",
    "\n",
    "memo = \"이것은 연습데이터입니다.\"\n",
    "\n",
    "f.write(memo)\n",
    "f.close()"
   ]
  },
  {
   "cell_type": "code",
   "execution_count": 28,
   "metadata": {
    "id": "PwKPcrQcfl7e"
   },
   "outputs": [
    {
     "name": "stdout",
     "output_type": "stream",
     "text": [
      "C:\\Users\\Windows\\Desktop\\대학교\\4학년 여름방학\\Big_AI\\파이썬기본\\코드\n"
     ]
    }
   ],
   "source": [
    "import os\n",
    "\n",
    "print(os.getcwd())"
   ]
  },
  {
   "cell_type": "code",
   "execution_count": 30,
   "metadata": {
    "id": "czunKBdAgGF3"
   },
   "outputs": [
    {
     "name": "stdout",
     "output_type": "stream",
     "text": [
      "이것은 연습데이터입니다.\n"
     ]
    }
   ],
   "source": [
    "f = open(\"output/myfile.txt\", \"r\")\n",
    "\n",
    "text = f.read()\n",
    "print(text)\n",
    "\n",
    "f.close()"
   ]
  },
  {
   "cell_type": "code",
   "execution_count": 31,
   "metadata": {
    "id": "qq0dv6ijggtf"
   },
   "outputs": [],
   "source": [
    "f = open(\"output/myfile2.txt\", \"w\")\n",
    "\n",
    "memo = '''이것은 첫번째 문장입니다.\n",
    "그리고 이것은 두번째 문장이구요.\n",
    "마지막 세번째 문장이랍니다.\n",
    "'''\n",
    "\n",
    "f.write(memo)\n",
    "f.close()"
   ]
  },
  {
   "cell_type": "code",
   "execution_count": 32,
   "metadata": {
    "id": "f-qRa1bthXHG"
   },
   "outputs": [
    {
     "name": "stdout",
     "output_type": "stream",
     "text": [
      "이것은 첫번째 문장입니다.\n",
      "그리고 이것은 두번째 문장이구요.\n",
      "마지막 세번째 문장이랍니다.\n",
      "\n"
     ]
    }
   ],
   "source": [
    "f = open(\"output/myfile2.txt\", \"r\")\n",
    "\n",
    "text = f.read()\n",
    "print(text)\n",
    "\n",
    "f.close()"
   ]
  },
  {
   "cell_type": "code",
   "execution_count": 33,
   "metadata": {
    "id": "tmowDqXqheMv"
   },
   "outputs": [
    {
     "name": "stdout",
     "output_type": "stream",
     "text": [
      "이것은 첫번째 문장입니다.\n",
      "\n",
      "그리고 이것은 두번째 문장이구요.\n",
      "\n",
      "마지막 세번째 문장이랍니다.\n",
      "\n"
     ]
    }
   ],
   "source": [
    "f = open(\"output/myfile2.txt\", \"r\")\n",
    "\n",
    "for line in f:\n",
    "  print(line)\n",
    "\n",
    "f.close()"
   ]
  },
  {
   "cell_type": "code",
   "execution_count": 35,
   "metadata": {
    "id": "D6QyVVJyh0IB"
   },
   "outputs": [
    {
     "name": "stdout",
     "output_type": "stream",
     "text": [
      "['이것은 첫번째 문장입니다.\\n', '그리고 이것은 두번째 문장이구요.\\n', '마지막 세번째 문장이랍니다.\\n']\n"
     ]
    }
   ],
   "source": [
    "f = open(\"output/myfile2.txt\", \"r\")\n",
    "\n",
    "lines = f.readlines()\n",
    "print(lines)\n",
    "\n",
    "f.close()"
   ]
  },
  {
   "cell_type": "code",
   "execution_count": 36,
   "metadata": {
    "id": "LS4InC-niJPf"
   },
   "outputs": [
    {
     "name": "stdout",
     "output_type": "stream",
     "text": [
      "['이것은 첫번째 문장입니다.\\n', '그리고 이것은 두번째 문장이구요.\\n', '마지막 세번째 문장이랍니다.\\n']\n"
     ]
    }
   ],
   "source": [
    "with open(\"output/myfile2.txt\", \"r\") as f: # f.close 안 필요함\n",
    "  lines = f.readlines()\n",
    "  print(lines)"
   ]
  },
  {
   "cell_type": "code",
   "execution_count": 37,
   "metadata": {
    "id": "lmbsPDlciaWA"
   },
   "outputs": [
    {
     "name": "stdout",
     "output_type": "stream",
     "text": [
      "또 다른 줄이 추가되었습니다.\n"
     ]
    }
   ],
   "source": [
    "f1 = open(\"output/myfile2.txt\", \"r\")\n",
    "f2 = open(\"output/myfile3.txt\", \"w\")\n",
    "\n",
    "for line in f1.readlines():\n",
    "  f2.write(line)\n",
    "\n",
    "f1.close()\n",
    "f2.close()\n",
    "\n",
    "f = open(\"output/myfile3.txt\", \"a\")\n",
    "f.write(\"또 다른 줄이 추가되었습니다.\")\n",
    "f.close()\n",
    "\n",
    "f = open(\"output/myfile3.txt\", \"r\")\n",
    "print(f.read())"
   ]
  },
  {
   "cell_type": "markdown",
   "metadata": {
    "id": "Mm1jTJ1NkTyH"
   },
   "source": [
    "# GDrive 연동"
   ]
  },
  {
   "cell_type": "code",
   "execution_count": 39,
   "metadata": {
    "id": "yEmWAzU8kTTf"
   },
   "outputs": [],
   "source": [
    "# from google.colab import drive\n",
    "\n",
    "# drive.mount(\"/content/gdrive\")"
   ]
  },
  {
   "cell_type": "code",
   "execution_count": null,
   "metadata": {
    "id": "5GQ8YAZgl60R"
   },
   "outputs": [],
   "source": [
    "# !ls /content/gdrive/MyDrive/Colab\\ Notebooks/Big\\ AI/Dataset/pytest_basic # 확인"
   ]
  },
  {
   "cell_type": "markdown",
   "metadata": {
    "id": "2NuvwPSVtscv"
   },
   "source": [
    "# Numpy와 Pandas"
   ]
  },
  {
   "cell_type": "code",
   "execution_count": 1,
   "metadata": {
    "id": "Pur42cv3mR7r"
   },
   "outputs": [
    {
     "name": "stdout",
     "output_type": "stream",
     "text": [
      "[0 1 2 3 4 5 6 7 8 9] [0 1 2 3 4] [5 6 7 8 9] [3 4]\n"
     ]
    }
   ],
   "source": [
    "import numpy as np\n",
    "    \n",
    "x = np.arange(10) # 0 ~ 9 정수 만듦\n",
    "x2 = x[:5]\n",
    "x3 = x[5:]\n",
    "x4 = x[3:5]\n",
    "\n",
    "print(x, x2, x3, x4)"
   ]
  },
  {
   "cell_type": "code",
   "execution_count": 3,
   "metadata": {
    "id": "Xegbp8U1oW9o"
   },
   "outputs": [
    {
     "name": "stdout",
     "output_type": "stream",
     "text": [
      "179.73809523809524\n"
     ]
    }
   ],
   "source": [
    "import numpy as np\n",
    "import pandas as pd\n",
    "\n",
    "data = pd.read_csv(\"C:\\\\Users\\\\Windows\\\\Desktop\\\\대학교\\\\4학년 여름방학\\\\Big_AI\\\\파이썬기본\\\\pytest_basic\\\\presidents_heights.csv\")\n",
    "print(np.mean(data['height']))"
   ]
  },
  {
   "cell_type": "code",
   "execution_count": 4,
   "metadata": {
    "id": "04RiiVmDsljg"
   },
   "outputs": [
    {
     "data": {
      "image/png": "[encoded data removed]",
      "text/plain": [
       "<Figure size 432x288 with 1 Axes>"
      ]
     },
     "metadata": {
      "needs_background": "light"
     },
     "output_type": "display_data"
    }
   ],
   "source": [
    "import matplotlib.pyplot as plt\n",
    "\n",
    "plt.hist(data['height'])\n",
    "plt.show()"
   ]
  },
  {
   "cell_type": "markdown",
   "metadata": {
    "id": "3SfrcTYotw70"
   },
   "source": [
    "Pandas는 Series(한 개의 열), DataFrame(두 개 이상의 열)를 다룬다."
   ]
  },
  {
   "cell_type": "code",
   "execution_count": 5,
   "metadata": {
    "id": "c35SR5ldtwjn"
   },
   "outputs": [
    {
     "name": "stdout",
     "output_type": "stream",
     "text": [
      "[1, 2, 3, 4, 5]\n",
      "[1 2 3 4 5]\n",
      "0    1\n",
      "1    2\n",
      "2    3\n",
      "3    4\n",
      "4    5\n",
      "dtype: int64\n"
     ]
    }
   ],
   "source": [
    "import numpy as np\n",
    "import pandas as pd\n",
    "\n",
    "x = [1, 2, 3, 4, 5]\n",
    "print(x)\n",
    "x1 = np.array(x)\n",
    "print(x1)\n",
    "x2 = pd.Series(x)\n",
    "print(x2)"
   ]
  },
  {
   "cell_type": "code",
   "execution_count": 6,
   "metadata": {
    "id": "0iXx8aKqtS8w"
   },
   "outputs": [
    {
     "name": "stdout",
     "output_type": "stream",
     "text": [
      "2\n",
      "1    2\n",
      "2    3\n",
      "dtype: int64\n",
      "[2 3]\n"
     ]
    }
   ],
   "source": [
    "import numpy as np\n",
    "import pandas as pd\n",
    "\n",
    "x = pd.Series([1, 2, 3, 4, 5])\n",
    "print(x[1])\n",
    "print(x[1:3])\n",
    "print(x.values[1:3])"
   ]
  },
  {
   "cell_type": "code",
   "execution_count": 7,
   "metadata": {
    "id": "bWVMJbBKu1m7"
   },
   "outputs": [
    {
     "name": "stdout",
     "output_type": "stream",
     "text": [
      "   도시    인구\n",
      "0  서울  9705\n",
      "1  부산  3400\n",
      "2  대구  2450\n"
     ]
    }
   ],
   "source": [
    "import pandas as pd\n",
    "\n",
    "data = {'도시' : ['서울', '부산', '대구'], '인구' : [9705, 3400, 2450]}\n",
    "data = pd.DataFrame(data)\n",
    "print(data)"
   ]
  },
  {
   "cell_type": "code",
   "execution_count": 8,
   "metadata": {
    "id": "NY4vqT3AvJNv"
   },
   "outputs": [
    {
     "name": "stdout",
     "output_type": "stream",
     "text": [
      "   order               name  height\n",
      "0      1  George Washington     189\n",
      "1      2         John Adams     170\n",
      "2      3   Thomas Jefferson     189\n",
      "3      4      James Madison     163\n",
      "4      5       James Monroe     183\n",
      "    order               name  height\n",
      "37     40      Ronald Reagan     185\n",
      "38     41  George H. W. Bush     188\n",
      "39     42       Bill Clinton     188\n",
      "40     43     George W. Bush     182\n",
      "41     44       Barack Obama     185\n",
      "=== 속성 ===\n",
      "Index(['order', 'name', 'height'], dtype='object')\n",
      "[[1 'George Washington' 189]\n",
      " [2 'John Adams' 170]\n",
      " [3 'Thomas Jefferson' 189]\n",
      " [4 'James Madison' 163]\n",
      " [5 'James Monroe' 183]\n",
      " [6 'John Quincy Adams' 171]\n",
      " [7 'Andrew Jackson' 185]\n",
      " [8 'Martin Van Buren' 168]\n",
      " [9 'William Henry Harrison' 173]\n",
      " [10 'John Tyler' 183]\n",
      " [11 'James K. Polk' 173]\n",
      " [12 'Zachary Taylor' 173]\n",
      " [13 'Millard Fillmore' 175]\n",
      " [14 'Franklin Pierce' 178]\n",
      " [15 'James Buchanan' 183]\n",
      " [16 'Abraham Lincoln' 193]\n",
      " [17 'Andrew Johnson' 178]\n",
      " [18 'Ulysses S. Grant' 173]\n",
      " [19 'Rutherford B. Hayes' 174]\n",
      " [20 'James A. Garfield' 183]\n",
      " [21 'Chester A. Arthur' 183]\n",
      " [23 'Benjamin Harrison' 168]\n",
      " [25 'William McKinley' 170]\n",
      " [26 'Theodore Roosevelt' 178]\n",
      " [27 'William Howard Taft' 182]\n",
      " [28 'Woodrow Wilson' 180]\n",
      " [29 'Warren G. Harding' 183]\n",
      " [30 'Calvin Coolidge' 178]\n",
      " [31 'Herbert Hoover' 182]\n",
      " [32 'Franklin D. Roosevelt' 188]\n",
      " [33 'Harry S. Truman' 175]\n",
      " [34 'Dwight D. Eisenhower' 179]\n",
      " [35 'John F. Kennedy' 183]\n",
      " [36 'Lyndon B. Johnson' 193]\n",
      " [37 'Richard Nixon' 182]\n",
      " [38 'Gerald Ford' 183]\n",
      " [39 'Jimmy Carter' 177]\n",
      " [40 'Ronald Reagan' 185]\n",
      " [41 'George H. W. Bush' 188]\n",
      " [42 'Bill Clinton' 188]\n",
      " [43 'George W. Bush' 182]\n",
      " [44 'Barack Obama' 185]]\n",
      "<class 'pandas.core.frame.DataFrame'>\n",
      "RangeIndex: 42 entries, 0 to 41\n",
      "Data columns (total 3 columns):\n",
      " #   Column  Non-Null Count  Dtype \n",
      "---  ------  --------------  ----- \n",
      " 0   order   42 non-null     int64 \n",
      " 1   name    42 non-null     object\n",
      " 2   height  42 non-null     int64 \n",
      "dtypes: int64(2), object(1)\n",
      "memory usage: 1.1+ KB\n",
      "None\n"
     ]
    }
   ],
   "source": [
    "import pandas as pd\n",
    "\n",
    "data = pd.read_csv(\"C:\\\\Users\\\\Windows\\\\Desktop\\\\대학교\\\\4학년 여름방학\\\\Big_AI\\\\파이썬기본\\\\pytest_basic\\\\presidents_heights.csv\")\n",
    "\n",
    "print(data.head())\n",
    "print(data.tail())\n",
    "\n",
    "print(\"=== 속성 ===\")\n",
    "print(data.columns)\n",
    "print(data.values)\n",
    "\n",
    "print(data.info())"
   ]
  },
  {
   "cell_type": "code",
   "execution_count": 9,
   "metadata": {
    "id": "n481QdH50Ssi"
   },
   "outputs": [
    {
     "name": "stdout",
     "output_type": "stream",
     "text": [
      "<class 'pandas.core.series.Series'>\n",
      "<class 'pandas.core.frame.DataFrame'>\n"
     ]
    }
   ],
   "source": [
    "import pandas as pd\n",
    "\n",
    "data = pd.read_csv(\"C:\\\\Users\\\\Windows\\\\Desktop\\\\대학교\\\\4학년 여름방학\\\\Big_AI\\\\파이썬기본\\\\pytest_basic\\\\presidents_heights.csv\")\n",
    "\n",
    "print(type(data['name']))\n",
    "print(type(data['name'].to_frame())) # or data[['name']]"
   ]
  },
  {
   "cell_type": "code",
   "execution_count": 10,
   "metadata": {
    "id": "bpX47fPK0s7K"
   },
   "outputs": [
    {
     "name": "stdout",
     "output_type": "stream",
     "text": [
      "Index(['order', 'name', 'height'], dtype='object')\n",
      "                      name  height\n",
      "0        George Washington     189\n",
      "1               John Adams     170\n",
      "2         Thomas Jefferson     189\n",
      "3            James Madison     163\n",
      "4             James Monroe     183\n",
      "5        John Quincy Adams     171\n",
      "6           Andrew Jackson     185\n",
      "7         Martin Van Buren     168\n",
      "8   William Henry Harrison     173\n",
      "9               John Tyler     183\n",
      "10           James K. Polk     173\n",
      "11          Zachary Taylor     173\n",
      "12        Millard Fillmore     175\n",
      "13         Franklin Pierce     178\n",
      "14          James Buchanan     183\n",
      "15         Abraham Lincoln     193\n",
      "16          Andrew Johnson     178\n",
      "17        Ulysses S. Grant     173\n",
      "18     Rutherford B. Hayes     174\n",
      "19       James A. Garfield     183\n",
      "20       Chester A. Arthur     183\n",
      "21       Benjamin Harrison     168\n",
      "22        William McKinley     170\n",
      "23      Theodore Roosevelt     178\n",
      "24     William Howard Taft     182\n",
      "25          Woodrow Wilson     180\n",
      "26       Warren G. Harding     183\n",
      "27         Calvin Coolidge     178\n",
      "28          Herbert Hoover     182\n",
      "29   Franklin D. Roosevelt     188\n",
      "30         Harry S. Truman     175\n",
      "31    Dwight D. Eisenhower     179\n",
      "32         John F. Kennedy     183\n",
      "33       Lyndon B. Johnson     193\n",
      "34           Richard Nixon     182\n",
      "35             Gerald Ford     183\n",
      "36            Jimmy Carter     177\n",
      "37           Ronald Reagan     185\n",
      "38       George H. W. Bush     188\n",
      "39            Bill Clinton     188\n",
      "40          George W. Bush     182\n",
      "41            Barack Obama     185\n"
     ]
    }
   ],
   "source": [
    "import pandas as pd\n",
    "\n",
    "data = pd.read_csv(\"C:\\\\Users\\\\Windows\\\\Desktop\\\\대학교\\\\4학년 여름방학\\\\Big_AI\\\\파이썬기본\\\\pytest_basic\\\\presidents_heights.csv\")\n",
    "\n",
    "print(data.columns)\n",
    "print(data[['name', 'height']])"
   ]
  },
  {
   "cell_type": "code",
   "execution_count": 11,
   "metadata": {
    "id": "f4MlzpWk1Gtr"
   },
   "outputs": [
    {
     "name": "stdout",
     "output_type": "stream",
     "text": [
      "1    a\n",
      "3    b\n",
      "5    c\n",
      "dtype: object\n",
      "**********\n",
      "a\n",
      "3    b\n",
      "5    c\n",
      "dtype: object\n",
      "=== loc ===\n",
      "a\n",
      "1    a\n",
      "3    b\n",
      "dtype: object\n",
      "\n",
      "=== iloc ===\n",
      "b\n",
      "3    b\n",
      "5    c\n",
      "dtype: object\n"
     ]
    }
   ],
   "source": [
    "import pandas as pd\n",
    "\n",
    "data = pd.Series(['a', 'b', 'c'], index = [1, 3, 5])\n",
    "print(data)\n",
    "\n",
    "print(\"*\"*10)\n",
    "print(data[1])\n",
    "print(data[1:3])\n",
    "\n",
    "print(\"=== loc ===\") # 주로 열쪽에 많이 사용\n",
    "print(data.loc[1])\n",
    "print(data.loc[1:3])\n",
    "\n",
    "print(\"\\n=== iloc ===\") # 주로 행쪽에 많이 사용\n",
    "print(data.iloc[1])\n",
    "print(data.iloc[1:3])"
   ]
  },
  {
   "cell_type": "code",
   "execution_count": 12,
   "metadata": {
    "id": "lFpi0jHL8XTr"
   },
   "outputs": [
    {
     "name": "stdout",
     "output_type": "stream",
     "text": [
      "   order               name  height\n",
      "0      1  George Washington     189\n",
      "1      2         John Adams     170\n",
      "2      3   Thomas Jefferson     189\n",
      "3      4      James Madison     163\n",
      "4      5       James Monroe     183\n",
      "=== 열 선택 ===\n",
      "                name  height\n",
      "0  George Washington     189\n",
      "1         John Adams     170\n",
      "2   Thomas Jefferson     189\n",
      "3      James Madison     163\n",
      "4       James Monroe     183\n",
      "                name\n",
      "0  George Washington\n",
      "1         John Adams\n",
      "2   Thomas Jefferson\n",
      "3      James Madison\n",
      "4       James Monroe\n",
      "                name  height\n",
      "0  George Washington     189\n",
      "1         John Adams     170\n",
      "2   Thomas Jefferson     189\n",
      "3      James Madison     163\n",
      "4       James Monroe     183\n",
      "                name\n",
      "0  George Washington\n",
      "1         John Adams\n",
      "2   Thomas Jefferson\n",
      "3      James Madison\n",
      "4       James Monroe\n",
      "0          George Washington\n",
      "1                 John Adams\n",
      "2           Thomas Jefferson\n",
      "3              James Madison\n",
      "4               James Monroe\n",
      "5          John Quincy Adams\n",
      "6             Andrew Jackson\n",
      "7           Martin Van Buren\n",
      "8     William Henry Harrison\n",
      "9                 John Tyler\n",
      "10             James K. Polk\n",
      "11            Zachary Taylor\n",
      "12          Millard Fillmore\n",
      "13           Franklin Pierce\n",
      "14            James Buchanan\n",
      "15           Abraham Lincoln\n",
      "16            Andrew Johnson\n",
      "17          Ulysses S. Grant\n",
      "18       Rutherford B. Hayes\n",
      "19         James A. Garfield\n",
      "20         Chester A. Arthur\n",
      "21         Benjamin Harrison\n",
      "22          William McKinley\n",
      "23        Theodore Roosevelt\n",
      "24       William Howard Taft\n",
      "25            Woodrow Wilson\n",
      "26         Warren G. Harding\n",
      "27           Calvin Coolidge\n",
      "28            Herbert Hoover\n",
      "29     Franklin D. Roosevelt\n",
      "30           Harry S. Truman\n",
      "31      Dwight D. Eisenhower\n",
      "32           John F. Kennedy\n",
      "33         Lyndon B. Johnson\n",
      "34             Richard Nixon\n",
      "35               Gerald Ford\n",
      "36              Jimmy Carter\n",
      "37             Ronald Reagan\n",
      "38         George H. W. Bush\n",
      "39              Bill Clinton\n",
      "40            George W. Bush\n",
      "41              Barack Obama\n",
      "Name: name, dtype: object\n"
     ]
    }
   ],
   "source": [
    "import pandas as pd\n",
    "\n",
    "data = pd.read_csv(\"C:\\\\Users\\\\Windows\\\\Desktop\\\\대학교\\\\4학년 여름방학\\\\Big_AI\\\\파이썬기본\\\\pytest_basic\\\\presidents_heights.csv\")\n",
    "\n",
    "print(data.head())\n",
    "\n",
    "print(\"=== 열 선택 ===\")\n",
    "data1 = data[[\"name\", \"height\"]]\n",
    "data2 = data[data.columns[1:2]]\n",
    "data3 = data.loc[:, 'name':'height']\n",
    "data4 = data.iloc[:, 1:2]\n",
    "\n",
    "print(data1.head())\n",
    "print(data2.head())\n",
    "print(data3.head())\n",
    "print(data4.head())\n",
    "\n",
    "print(data.name) # 한 개 열만 가져오기"
   ]
  },
  {
   "cell_type": "code",
   "execution_count": 13,
   "metadata": {
    "id": "P6mJBLrR-TFN"
   },
   "outputs": [
    {
     "name": "stdout",
     "output_type": "stream",
     "text": [
      "0          George Washington\n",
      "1                 John Adams\n",
      "2           Thomas Jefferson\n",
      "3              James Madison\n",
      "4               James Monroe\n",
      "5          John Quincy Adams\n",
      "6             Andrew Jackson\n",
      "7           Martin Van Buren\n",
      "8     William Henry Harrison\n",
      "9                 John Tyler\n",
      "10             James K. Polk\n",
      "11            Zachary Taylor\n",
      "12          Millard Fillmore\n",
      "13           Franklin Pierce\n",
      "14            James Buchanan\n",
      "15           Abraham Lincoln\n",
      "16            Andrew Johnson\n",
      "17          Ulysses S. Grant\n",
      "18       Rutherford B. Hayes\n",
      "19         James A. Garfield\n",
      "20         Chester A. Arthur\n",
      "21         Benjamin Harrison\n",
      "22          William McKinley\n",
      "23        Theodore Roosevelt\n",
      "24       William Howard Taft\n",
      "25            Woodrow Wilson\n",
      "26         Warren G. Harding\n",
      "27           Calvin Coolidge\n",
      "28            Herbert Hoover\n",
      "29     Franklin D. Roosevelt\n",
      "30           Harry S. Truman\n",
      "31      Dwight D. Eisenhower\n",
      "32           John F. Kennedy\n",
      "33         Lyndon B. Johnson\n",
      "34             Richard Nixon\n",
      "35               Gerald Ford\n",
      "36              Jimmy Carter\n",
      "37             Ronald Reagan\n",
      "38         George H. W. Bush\n",
      "39              Bill Clinton\n",
      "40            George W. Bush\n",
      "41              Barack Obama\n",
      "Name: name, dtype: object\n",
      "=== 1, 2 컬럼 선택 ===\n",
      "                      name  height\n",
      "0        George Washington     189\n",
      "1               John Adams     170\n",
      "2         Thomas Jefferson     189\n",
      "3            James Madison     163\n",
      "4             James Monroe     183\n",
      "5        John Quincy Adams     171\n",
      "6           Andrew Jackson     185\n",
      "7         Martin Van Buren     168\n",
      "8   William Henry Harrison     173\n",
      "9               John Tyler     183\n",
      "10           James K. Polk     173\n",
      "11          Zachary Taylor     173\n",
      "12        Millard Fillmore     175\n",
      "13         Franklin Pierce     178\n",
      "14          James Buchanan     183\n",
      "15         Abraham Lincoln     193\n",
      "16          Andrew Johnson     178\n",
      "17        Ulysses S. Grant     173\n",
      "18     Rutherford B. Hayes     174\n",
      "19       James A. Garfield     183\n",
      "20       Chester A. Arthur     183\n",
      "21       Benjamin Harrison     168\n",
      "22        William McKinley     170\n",
      "23      Theodore Roosevelt     178\n",
      "24     William Howard Taft     182\n",
      "25          Woodrow Wilson     180\n",
      "26       Warren G. Harding     183\n",
      "27         Calvin Coolidge     178\n",
      "28          Herbert Hoover     182\n",
      "29   Franklin D. Roosevelt     188\n",
      "30         Harry S. Truman     175\n",
      "31    Dwight D. Eisenhower     179\n",
      "32         John F. Kennedy     183\n",
      "33       Lyndon B. Johnson     193\n",
      "34           Richard Nixon     182\n",
      "35             Gerald Ford     183\n",
      "36            Jimmy Carter     177\n",
      "37           Ronald Reagan     185\n",
      "38       George H. W. Bush     188\n",
      "39            Bill Clinton     188\n",
      "40          George W. Bush     182\n",
      "41            Barack Obama     185\n",
      "=== 0 ~ 2번째 행 선택 ===\n",
      "   order               name  height\n",
      "0      1  George Washington     189\n",
      "1      2         John Adams     170\n",
      "2      3   Thomas Jefferson     189\n",
      "=== 1번 컬럼 선택 ===\n",
      "0    George Washington\n",
      "1           John Adams\n",
      "2     Thomas Jefferson\n",
      "Name: name, dtype: object\n",
      "=== 1 ~ 2번 컬럼 선택 ===\n",
      "                name  height\n",
      "0  George Washington     189\n",
      "1         John Adams     170\n",
      "2   Thomas Jefferson     189\n"
     ]
    }
   ],
   "source": [
    "import pandas as pd\n",
    "\n",
    "data = pd.read_csv(\"C:\\\\Users\\\\Windows\\\\Desktop\\\\대학교\\\\4학년 여름방학\\\\Big_AI\\\\파이썬기본\\\\pytest_basic\\\\presidents_heights.csv\")\n",
    "\n",
    "print(data.iloc[:, 1])\n",
    "\n",
    "print(\"=== 1, 2 컬럼 선택 ===\")\n",
    "print(data.iloc[:, [1, 2]])\n",
    "\n",
    "print(\"=== 0 ~ 2번째 행 선택 ===\")\n",
    "print(data.iloc[0:3, :])\n",
    "\n",
    "print(\"=== 1번 컬럼 선택 ===\")\n",
    "print(data.iloc[0:3, 1])\n",
    "\n",
    "print(\"=== 1 ~ 2번 컬럼 선택 ===\")\n",
    "print(data.iloc[0:3, 1:3])"
   ]
  },
  {
   "cell_type": "code",
   "execution_count": 14,
   "metadata": {
    "id": "DMiKwCtg_glR"
   },
   "outputs": [
    {
     "name": "stdout",
     "output_type": "stream",
     "text": [
      "   id name gender  sales\n",
      "3   4  김선영      F   2200\n",
      "6   7  최필선      M   2200\n",
      "   id name gender  sales\n",
      "0   1  김원경      F   1000\n",
      "2   3  조해선      F   1500\n",
      "3   4  김선영      F   2200\n",
      "4   5  이화영      F   1700\n",
      "   id name gender  sales\n",
      "3   4  김선영      F   2200\n",
      "   id name gender  sales\n",
      "0   1  김원경      F   1000\n",
      "2   3  조해선      F   1500\n",
      "3   4  김선영      F   2200\n",
      "4   5  이화영      F   1700\n",
      "6   7  최필선      M   2200\n"
     ]
    }
   ],
   "source": [
    "import pandas as pd\n",
    "\n",
    "data = pd.read_csv(\"C:\\\\Users\\\\Windows\\\\Desktop\\\\대학교\\\\4학년 여름방학\\\\Big_AI\\\\파이썬기본\\\\pytest_basic\\\\sales_result.csv\", encoding = \"CP949\")\n",
    "\n",
    "print(data[data.sales > 2000])\n",
    "print(data[data.gender ==  \"F\"])\n",
    "print(data[(data.sales > 2000) & (data.gender == \"F\")])\n",
    "print(data[(data.sales > 2000) | (data.gender == \"F\")])"
   ]
  },
  {
   "cell_type": "markdown",
   "metadata": {
    "id": "0hflyBy3KPMB"
   },
   "source": [
    "# Colab에서 시각화 전 한글 폰트"
   ]
  },
  {
   "cell_type": "code",
   "execution_count": 15,
   "metadata": {
    "id": "PoX8WjsAKPqJ"
   },
   "outputs": [
    {
     "name": "stderr",
     "output_type": "stream",
     "text": [
      "'apt'은(는) 내부 또는 외부 명령, 실행할 수 있는 프로그램, 또는\n",
      "배치 파일이 아닙니다.\n"
     ]
    }
   ],
   "source": [
    "# import matplotlib as mpl\n",
    "# import matplotlib.pyplot as plt\n",
    "\n",
    "# %config InlineBackend.figure_format = \"retina\"\n",
    "# !apt install fonts-nanum\n",
    "\n",
    "# import matplotlib.font_manager as fm\n",
    "# fontpath = \"/usr/share/fonts/truetype/nanum/NanumMyeongjo.ttf\"\n",
    "# font = fm.FontProperties(fname = fontpath, size = 9)\n",
    "\n",
    "# import matplotlib as mpl\n",
    "# mpl.font_manager._rebuild()\n",
    "# mpl.pyplot.rc('font', family=\"NanumMyeongjo\")"
   ]
  },
  {
   "cell_type": "markdown",
   "metadata": {
    "id": "ZAFMehS4ANKx"
   },
   "source": [
    "# 시각화"
   ]
  },
  {
   "cell_type": "code",
   "execution_count": 17,
   "metadata": {
    "id": "VouGl5WzANvx"
   },
   "outputs": [
    {
     "data": {
      "image/png": "[encoded data removed]",
      "text/plain": [
       "<Figure size 432x288 with 1 Axes>"
      ]
     },
     "metadata": {
      "image/png": {
       "height": 248,
       "width": 368
      },
      "needs_background": "light"
     },
     "output_type": "display_data"
    }
   ],
   "source": [
    "import matplotlib.pyplot as plt\n",
    "\n",
    "x = [1, 3, 5, 7, 9]\n",
    "y = [2, 4, 3, 6, 10]\n",
    "\n",
    "plt.plot(x, y)\n",
    "plt.show()"
   ]
  },
  {
   "cell_type": "code",
   "execution_count": 18,
   "metadata": {
    "id": "4QLd7g1tA1qJ"
   },
   "outputs": [
    {
     "data": {
      "image/png": "[encoded data removed]",
      "text/plain": [
       "<Figure size 576x396 with 1 Axes>"
      ]
     },
     "metadata": {
      "image/png": {
       "height": 329,
       "width": 478
      }
     },
     "output_type": "display_data"
    }
   ],
   "source": [
    "import matplotlib.pyplot as plt\n",
    "\n",
    "plt.style.use('seaborn')\n",
    "\n",
    "x = [1, 3, 5, 7, 9]\n",
    "y = [2, 4, 3, 6, 10]\n",
    "\n",
    "plt.plot(x, y)\n",
    "plt.show()"
   ]
  },
  {
   "cell_type": "code",
   "execution_count": 21,
   "metadata": {
    "id": "bnFGeim4A8gK"
   },
   "outputs": [
    {
     "data": {
      "image/png": "[encoded data removed]",
      "text/plain": [
       "<Figure size 576x396 with 1 Axes>"
      ]
     },
     "metadata": {
      "image/png": {
       "height": 329,
       "width": 478
      }
     },
     "output_type": "display_data"
    }
   ],
   "source": [
    "import os\n",
    "import matplotlib.pyplot as plt\n",
    "\n",
    "os.chdir(\"C:\\\\Users\\\\Windows\\\\Desktop\\\\대학교\\\\4학년 여름방학\\\\Big_AI\\\\파이썬기본\\\\pytest_basic\\\\image\")\n",
    "\n",
    "plt.style.use(\"seaborn\")\n",
    "\n",
    "x = [1, 3, 5, 7, 9]\n",
    "y = [2, 4, 3, 6, 10]\n",
    "\n",
    "fig = plt.figure()\n",
    "plt.plot(x, y)\n",
    "fig.savefig(\"mypic.png\")\n",
    "\n",
    "os.chdir(\"C:\\\\Users\\\\Windows\\\\Desktop\\\\대학교\\\\4학년 여름방학\\\\Big_AI\\\\파이썬기본\\\\코드\")"
   ]
  },
  {
   "cell_type": "code",
   "execution_count": 22,
   "metadata": {
    "id": "kOdqvEHJCYyC"
   },
   "outputs": [
    {
     "data": {
      "image/png": "[encoded data removed]",
      "text/plain": [
       "<Figure size 576x396 with 1 Axes>"
      ]
     },
     "metadata": {
      "image/png": {
       "height": 329,
       "width": 478
      }
     },
     "output_type": "display_data"
    }
   ],
   "source": [
    "import matplotlib.pyplot as plt\n",
    "\n",
    "plt.style.use(\"seaborn\")\n",
    "\n",
    "def mycal(num):\n",
    "  num2 = num ** 2\n",
    "  return num2\n",
    "\n",
    "x = [1, 3, 5, 7, 9]\n",
    "y = [2, 4, 3, 6, 10]\n",
    "y2 = []\n",
    "\n",
    "for x_each in x:\n",
    "  y2.append(mycal(x_each))\n",
    "\n",
    "plt.plot(x, y, color = \"red\", linestyle = \"dashed\")\n",
    "plt.plot(x, y2, color = \"darkcyan\", linestyle = \"dashdot\")\n",
    "plt.show()"
   ]
  },
  {
   "cell_type": "code",
   "execution_count": 23,
   "metadata": {
    "id": "hwbBypF7DETL"
   },
   "outputs": [
    {
     "data": {
      "image/png": "[encoded data removed]",
      "text/plain": [
       "<Figure size 576x396 with 1 Axes>"
      ]
     },
     "metadata": {
      "image/png": {
       "height": 361,
       "width": 499
      }
     },
     "output_type": "display_data"
    }
   ],
   "source": [
    "import matplotlib.pyplot as plt\n",
    "\n",
    "plt.style.use(\"ggplot\")\n",
    "\n",
    "x = range(1, 13)\n",
    "y = [100, 110, 130, 150, 120, 140, 170, 180, 150, 160, 200, 210]\n",
    "\n",
    "plt.plot(x, y)\n",
    "\n",
    "plt.title(\"My First Picture\")\n",
    "plt.xlabel(\"month\")\n",
    "plt.ylabel(\"sales\")\n",
    "\n",
    "plt.show()"
   ]
  },
  {
   "cell_type": "code",
   "execution_count": 33,
   "metadata": {
    "id": "RzpV2J1eEY88"
   },
   "outputs": [
    {
     "name": "stderr",
     "output_type": "stream",
     "text": [
      "No handles with labels found to put in legend.\n"
     ]
    },
    {
     "data": {
      "image/png": "[encoded data removed]",
      "text/plain": [
       "<Figure size 576x396 with 1 Axes>"
      ]
     },
     "metadata": {
      "image/png": {
       "height": 362,
       "width": 498
      }
     },
     "output_type": "display_data"
    }
   ],
   "source": [
    "import matplotlib\n",
    "import matplotlib.pyplot as plt\n",
    "import matplotlib.font_manager as fm\n",
    "\n",
    "font_location = \"C:\\\\Windows\\\\Fonts\\\\HMFMPYUN.ttf\"\n",
    "font_name = fm.FontProperties(fname = font_location).get_name()\n",
    "matplotlib.rc(\"font\", family = font_name)\n",
    "\n",
    "plt.style.use(\"ggplot\")\n",
    "# plt.rc('font', family='NanumBarunGothic') \n",
    "\n",
    "x = range(1, 13)\n",
    "y = [100, 110, 130, 150, 120, 140, 170, 180, 150, 160, 200, 210]\n",
    "\n",
    "plt.plot(x, y)\n",
    "\n",
    "plt.title(\"나의 첫 번째 그림\")\n",
    "plt.xlabel(\"월\")\n",
    "plt.ylabel(\"매출액\")\n",
    "\n",
    "plt.legend()\n",
    "plt.show()  "
   ]
  },
  {
   "cell_type": "code",
   "execution_count": 34,
   "metadata": {
    "id": "YVkAHpILFktD"
   },
   "outputs": [
    {
     "name": "stdout",
     "output_type": "stream",
     "text": [
      "   Year   Part  Usage\n",
      "0  2001     산업  85158\n",
      "1  2001     수송  31909\n",
      "2  2001  가정및상업  32893\n",
      "3  2001  공공및기타   2989\n",
      "4  2002     산업  89197\n",
      "    Year   Part   Usage\n",
      "43  2011  공공및기타    4560\n",
      "44  2012     산업  128324\n",
      "45  2012     수송   37143\n",
      "46  2012  가정및상업   37884\n",
      "47  2012  공공및기타    4769\n"
     ]
    },
    {
     "data": {
      "image/png": "[encoded data removed]",
      "text/plain": [
       "<Figure size 576x396 with 1 Axes>"
      ]
     },
     "metadata": {
      "image/png": {
       "height": 330,
       "width": 497
      }
     },
     "output_type": "display_data"
    }
   ],
   "source": [
    "import numpy as np\n",
    "import pandas as pd\n",
    "import matplotlib\n",
    "import matplotlib.pyplot as plt\n",
    "import matplotlib.font_manager as fm\n",
    "\n",
    "font_location = \"C:\\\\Windows\\\\Fonts\\\\HMFMPYUN.ttf\"\n",
    "font_name = fm.FontProperties(fname = font_location).get_name()\n",
    "matplotlib.rc(\"font\", family = font_name)\n",
    "\n",
    "data = pd.read_csv(\"C:\\\\Users\\\\Windows\\\\Desktop\\\\대학교\\\\4학년 여름방학\\\\Big_AI\\\\파이썬기본\\\\pytest_basic\\\\electricity.CSV\", encoding = \"CP949\")\n",
    "print(data.head())\n",
    "print(data.tail())\n",
    "\n",
    "산업 = data[data.Part == \"산업\"]\n",
    "산업 = 산업[[\"Usage\"]]\n",
    "수송 = data[data.Part == \"수송\"]\n",
    "수송 = 수송[[\"Usage\"]]\n",
    "가정및상업 = data[data.Part == \"가정및상업\"]\n",
    "가정및상업 = 가정및상업[[\"Usage\"]]\n",
    "공공및기타 = data[data.Part == \"공공및기타\"]\n",
    "공공및기타 = 공공및기타[[\"Usage\"]]\n",
    "\n",
    "x = np.arange(2001, 2013)\n",
    "plt.plot(x, 산업, color = \"red\", label = \"산업\")\n",
    "plt.plot(x, 수송, color = \"blue\", label = \"수송\", linestyle = \"dashed\")\n",
    "plt.plot(x, 가정및상업, color = \"purple\", label = \"가정및상업\", linestyle = \"dashdot\")\n",
    "plt.plot(x, 공공및기타, color = \"black\", label = \"공공및기타\", linestyle = \"dotted\")\n",
    "plt.legend()\n",
    "plt.show()"
   ]
  },
  {
   "cell_type": "markdown",
   "metadata": {
    "id": "xbkgn2M53uA7"
   },
   "source": [
    "# 산점도"
   ]
  },
  {
   "cell_type": "code",
   "execution_count": 35,
   "metadata": {
    "id": "1iPwE8edEo4h"
   },
   "outputs": [
    {
     "data": {
      "image/png": "[encoded data removed]",
      "text/plain": [
       "<Figure size 576x396 with 1 Axes>"
      ]
     },
     "metadata": {
      "image/png": {
       "height": 345,
       "width": 494
      }
     },
     "output_type": "display_data"
    }
   ],
   "source": [
    "import matplotlib.pyplot as plt\n",
    "\n",
    "plt.style.use(\"seaborn-whitegrid\")\n",
    "\n",
    "height = [160, 162, 162, 163, 163, 162, 166, 166, 170, 169]\n",
    "weight_man = [55, 56, 58, 61, 63, 65, 66, 70, 72, 75]\n",
    "weight_woman = [53, 55, 56, 60, 61, 62, 62, 65, 65, 66]\n",
    "\n",
    "plt.scatter(height, weight_man, alpha = 0.5, s = 300, label = \"male\")\n",
    "plt.scatter(height, weight_woman, alpha = 0.5, s = 300, label = \"female\")\n",
    "\n",
    "plt.xlabel(\"height\")\n",
    "plt.ylabel(\"weight\")\n",
    "plt.legend()\n",
    "plt.show()"
   ]
  },
  {
   "cell_type": "code",
   "execution_count": 38,
   "metadata": {
    "id": "-FFv7vZN4mb3"
   },
   "outputs": [
    {
     "name": "stdout",
     "output_type": "stream",
     "text": [
      "    sex  ageYear  ageMonth  heightIn  weightLb\n",
      "0     f    11.92       143      56.3      85.0\n",
      "1     f    12.92       155      62.3     105.0\n",
      "2     f    12.75       153      63.3     108.0\n",
      "3     f    13.42       161      59.0      92.0\n",
      "4     f    15.92       191      62.5     112.5\n",
      "..   ..      ...       ...       ...       ...\n",
      "231   m    13.67       164      66.5     112.0\n",
      "232   m    15.75       189      65.0     114.0\n",
      "233   m    13.67       164      61.5     140.0\n",
      "234   m    13.92       167      62.0     107.5\n",
      "235   m    12.58       151      59.3      87.0\n",
      "\n",
      "[236 rows x 5 columns]\n"
     ]
    },
    {
     "data": {
      "image/png": "[encoded data removed]",
      "text/plain": [
       "<Figure size 576x396 with 1 Axes>"
      ]
     },
     "metadata": {
      "image/png": {
       "height": 345,
       "width": 499
      }
     },
     "output_type": "display_data"
    }
   ],
   "source": [
    "import pandas as pd\n",
    "import matplotlib.pyplot as plt\n",
    "\n",
    "data = pd.read_csv(\"C:\\\\Users\\\\Windows\\\\Desktop\\\\대학교\\\\4학년 여름방학\\\\Big_AI\\\\파이썬기본\\\\pytest_basic\\\\heightweight.csv\")\n",
    "print(data)\n",
    "man_data = data[data.sex == \"m\"]\n",
    "woman_data = data[data.sex == \"f\"]\n",
    "\n",
    "plt.scatter(man_data[[\"heightIn\"]], man_data[[\"weightLb\"]], alpha = 0.5, s = 50, label = \"male\")\n",
    "plt.scatter(woman_data[[\"heightIn\"]], woman_data[[\"weightLb\"]], alpha = 0.5, s = 50, label = \"female\")\n",
    "\n",
    "plt.xlabel(\"height\")\n",
    "plt.ylabel(\"weight\")\n",
    "plt.legend()\n",
    "plt.show()"
   ]
  },
  {
   "cell_type": "code",
   "execution_count": 41,
   "metadata": {
    "id": "yf0mza9i6l45"
   },
   "outputs": [
    {
     "name": "stdout",
     "output_type": "stream",
     "text": [
      "     Sepal.Length  Sepal.Width  Petal.Length  Petal.Width    Species\n",
      "0             5.1          3.5           1.4          0.2     setosa\n",
      "1             4.9          3.0           1.4          0.2     setosa\n",
      "2             4.7          3.2           1.3          0.2     setosa\n",
      "3             4.6          3.1           1.5          0.2     setosa\n",
      "4             5.0          3.6           1.4          0.2     setosa\n",
      "..            ...          ...           ...          ...        ...\n",
      "145           6.7          3.0           5.2          2.3  virginica\n",
      "146           6.3          2.5           5.0          1.9  virginica\n",
      "147           6.5          3.0           5.2          2.0  virginica\n",
      "148           6.2          3.4           5.4          2.3  virginica\n",
      "149           5.9          3.0           5.1          1.8  virginica\n",
      "\n",
      "[150 rows x 5 columns]\n"
     ]
    },
    {
     "data": {
      "image/png": "[encoded data removed]",
      "text/plain": [
       "<Figure size 576x396 with 1 Axes>"
      ]
     },
     "metadata": {
      "image/png": {
       "height": 345,
       "width": 488
      }
     },
     "output_type": "display_data"
    }
   ],
   "source": [
    "import pandas as pd\n",
    "import matplotlib.pyplot as plt\n",
    "\n",
    "data = pd.read_csv(\"C:\\\\Users\\\\Windows\\\\Desktop\\\\대학교\\\\4학년 여름방학\\\\Big_AI\\\\파이썬기본\\\\pytest_basic\\\\iris.csv\")\n",
    "print(data)\n",
    "setosa = data[data.Species == \"setosa\"]\n",
    "versicolor = data[data.Species == \"versicolor\"]\n",
    "virginica = data[data.Species == \"virginica\"]\n",
    "\n",
    "plt.scatter(setosa[[\"Petal.Width\"]], setosa[[\"Petal.Length\"]], alpha = 0.5, s = 50, label = \"setosa\")\n",
    "plt.scatter(versicolor[[\"Petal.Width\"]], versicolor[[\"Petal.Length\"]], alpha = 0.5, s = 50, label = \"versicolor\")\n",
    "plt.scatter(virginica[[\"Petal.Width\"]], virginica[[\"Petal.Length\"]], alpha = 0.5, s = 50, label = \"virginica\")\n",
    "\n",
    "plt.xlabel(\"Petal.Width\")\n",
    "plt.ylabel(\"Petal.Length\")\n",
    "plt.legend()\n",
    "plt.show()"
   ]
  },
  {
   "cell_type": "code",
   "execution_count": 42,
   "metadata": {
    "id": "lc_wm92F82VC"
   },
   "outputs": [
    {
     "name": "stdout",
     "output_type": "stream",
     "text": [
      "    order                    name  height\n",
      "0       1       George Washington     189\n",
      "1       2              John Adams     170\n",
      "2       3        Thomas Jefferson     189\n",
      "3       4           James Madison     163\n",
      "4       5            James Monroe     183\n",
      "5       6       John Quincy Adams     171\n",
      "6       7          Andrew Jackson     185\n",
      "7       8        Martin Van Buren     168\n",
      "8       9  William Henry Harrison     173\n",
      "9      10              John Tyler     183\n",
      "10     11           James K. Polk     173\n",
      "11     12          Zachary Taylor     173\n",
      "12     13        Millard Fillmore     175\n",
      "13     14         Franklin Pierce     178\n",
      "14     15          James Buchanan     183\n",
      "15     16         Abraham Lincoln     193\n",
      "16     17          Andrew Johnson     178\n",
      "17     18        Ulysses S. Grant     173\n",
      "18     19     Rutherford B. Hayes     174\n",
      "19     20       James A. Garfield     183\n",
      "20     21       Chester A. Arthur     183\n",
      "21     23       Benjamin Harrison     168\n",
      "22     25        William McKinley     170\n",
      "23     26      Theodore Roosevelt     178\n",
      "24     27     William Howard Taft     182\n",
      "25     28          Woodrow Wilson     180\n",
      "26     29       Warren G. Harding     183\n",
      "27     30         Calvin Coolidge     178\n",
      "28     31          Herbert Hoover     182\n",
      "29     32   Franklin D. Roosevelt     188\n",
      "30     33         Harry S. Truman     175\n",
      "31     34    Dwight D. Eisenhower     179\n",
      "32     35         John F. Kennedy     183\n",
      "33     36       Lyndon B. Johnson     193\n",
      "34     37           Richard Nixon     182\n",
      "35     38             Gerald Ford     183\n",
      "36     39            Jimmy Carter     177\n",
      "37     40           Ronald Reagan     185\n",
      "38     41       George H. W. Bush     188\n",
      "39     42            Bill Clinton     188\n",
      "40     43          George W. Bush     182\n",
      "41     44            Barack Obama     185\n"
     ]
    },
    {
     "data": {
      "text/plain": [
       "(array([ 1.,  2.,  3.,  5.,  3.,  6., 12.,  3.,  5.,  2.]),\n",
       " array([163., 166., 169., 172., 175., 178., 181., 184., 187., 190., 193.]),\n",
       " <BarContainer object of 10 artists>)"
      ]
     },
     "execution_count": 42,
     "metadata": {},
     "output_type": "execute_result"
    },
    {
     "data": {
      "image/png": "[encoded data removed]",
      "text/plain": [
       "<Figure size 576x396 with 1 Axes>"
      ]
     },
     "metadata": {
      "image/png": {
       "height": 329,
       "width": 478
      }
     },
     "output_type": "display_data"
    }
   ],
   "source": [
    "import numpy as np\n",
    "import pandas as pd\n",
    "import matplotlib.pyplot as plt\n",
    "\n",
    "plt.style.use(\"ggplot\")\n",
    "\n",
    "data = pd.read_csv(\"C:\\\\Users\\\\Windows\\\\Desktop\\\\대학교\\\\4학년 여름방학\\\\Big_AI\\\\파이썬기본\\\\pytest_basic\\\\presidents_heights.csv\")\n",
    "print(data)\n",
    "plt.hist(np.array(data[['height']]), color = \"red\", alpha = 0.5, edgecolor = \"white\")"
   ]
  },
  {
   "cell_type": "markdown",
   "metadata": {
    "id": "Ti44vmsRKHHq"
   },
   "source": [
    "# 데이터 전처리"
   ]
  },
  {
   "cell_type": "markdown",
   "metadata": {
    "id": "PtrlWgYeLzPG"
   },
   "source": [
    "## 기초정보확인"
   ]
  },
  {
   "cell_type": "code",
   "execution_count": 43,
   "metadata": {
    "id": "h4hUv18NKwZK"
   },
   "outputs": [
    {
     "data": {
      "text/html": [
       "<div>\n",
       "<style scoped>\n",
       "    .dataframe tbody tr th:only-of-type {\n",
       "        vertical-align: middle;\n",
       "    }\n",
       "\n",
       "    .dataframe tbody tr th {\n",
       "        vertical-align: top;\n",
       "    }\n",
       "\n",
       "    .dataframe thead th {\n",
       "        text-align: right;\n",
       "    }\n",
       "</style>\n",
       "<table border=\"1\" class=\"dataframe\">\n",
       "  <thead>\n",
       "    <tr style=\"text-align: right;\">\n",
       "      <th></th>\n",
       "      <th>age</th>\n",
       "      <th>job</th>\n",
       "      <th>marital</th>\n",
       "      <th>education</th>\n",
       "      <th>default</th>\n",
       "      <th>balance</th>\n",
       "      <th>housing</th>\n",
       "      <th>loan</th>\n",
       "      <th>contact</th>\n",
       "      <th>day</th>\n",
       "      <th>month</th>\n",
       "      <th>duration</th>\n",
       "      <th>campaign</th>\n",
       "      <th>pdays</th>\n",
       "      <th>previous</th>\n",
       "      <th>poutcome</th>\n",
       "      <th>y</th>\n",
       "    </tr>\n",
       "  </thead>\n",
       "  <tbody>\n",
       "    <tr>\n",
       "      <th>0</th>\n",
       "      <td>58</td>\n",
       "      <td>management</td>\n",
       "      <td>married</td>\n",
       "      <td>tertiary</td>\n",
       "      <td>no</td>\n",
       "      <td>2143</td>\n",
       "      <td>yes</td>\n",
       "      <td>no</td>\n",
       "      <td>NaN</td>\n",
       "      <td>5</td>\n",
       "      <td>may</td>\n",
       "      <td>261</td>\n",
       "      <td>1</td>\n",
       "      <td>-1</td>\n",
       "      <td>0</td>\n",
       "      <td>NaN</td>\n",
       "      <td>no</td>\n",
       "    </tr>\n",
       "    <tr>\n",
       "      <th>1</th>\n",
       "      <td>36</td>\n",
       "      <td>technician</td>\n",
       "      <td>single</td>\n",
       "      <td>secondary</td>\n",
       "      <td>no</td>\n",
       "      <td>265</td>\n",
       "      <td>yes</td>\n",
       "      <td>yes</td>\n",
       "      <td>NaN</td>\n",
       "      <td>5</td>\n",
       "      <td>may</td>\n",
       "      <td>348</td>\n",
       "      <td>1</td>\n",
       "      <td>-1</td>\n",
       "      <td>0</td>\n",
       "      <td>NaN</td>\n",
       "      <td>no</td>\n",
       "    </tr>\n",
       "    <tr>\n",
       "      <th>2</th>\n",
       "      <td>25</td>\n",
       "      <td>blue-collar</td>\n",
       "      <td>married</td>\n",
       "      <td>secondary</td>\n",
       "      <td>no</td>\n",
       "      <td>-7</td>\n",
       "      <td>yes</td>\n",
       "      <td>no</td>\n",
       "      <td>NaN</td>\n",
       "      <td>5</td>\n",
       "      <td>may</td>\n",
       "      <td>365</td>\n",
       "      <td>1</td>\n",
       "      <td>-1</td>\n",
       "      <td>0</td>\n",
       "      <td>NaN</td>\n",
       "      <td>no</td>\n",
       "    </tr>\n",
       "    <tr>\n",
       "      <th>3</th>\n",
       "      <td>53</td>\n",
       "      <td>technician</td>\n",
       "      <td>married</td>\n",
       "      <td>secondary</td>\n",
       "      <td>no</td>\n",
       "      <td>-3</td>\n",
       "      <td>no</td>\n",
       "      <td>no</td>\n",
       "      <td>NaN</td>\n",
       "      <td>5</td>\n",
       "      <td>may</td>\n",
       "      <td>1666</td>\n",
       "      <td>1</td>\n",
       "      <td>-1</td>\n",
       "      <td>0</td>\n",
       "      <td>NaN</td>\n",
       "      <td>no</td>\n",
       "    </tr>\n",
       "    <tr>\n",
       "      <th>4</th>\n",
       "      <td>24</td>\n",
       "      <td>technician</td>\n",
       "      <td>single</td>\n",
       "      <td>secondary</td>\n",
       "      <td>no</td>\n",
       "      <td>-103</td>\n",
       "      <td>yes</td>\n",
       "      <td>yes</td>\n",
       "      <td>NaN</td>\n",
       "      <td>5</td>\n",
       "      <td>may</td>\n",
       "      <td>145</td>\n",
       "      <td>1</td>\n",
       "      <td>-1</td>\n",
       "      <td>0</td>\n",
       "      <td>NaN</td>\n",
       "      <td>no</td>\n",
       "    </tr>\n",
       "  </tbody>\n",
       "</table>\n",
       "</div>"
      ],
      "text/plain": [
       "   age          job  marital  education default  balance housing loan contact  \\\n",
       "0   58   management  married   tertiary      no     2143     yes   no     NaN   \n",
       "1   36   technician   single  secondary      no      265     yes  yes     NaN   \n",
       "2   25  blue-collar  married  secondary      no       -7     yes   no     NaN   \n",
       "3   53   technician  married  secondary      no       -3      no   no     NaN   \n",
       "4   24   technician   single  secondary      no     -103     yes  yes     NaN   \n",
       "\n",
       "   day month  duration  campaign  pdays  previous poutcome   y  \n",
       "0    5   may       261         1     -1         0      NaN  no  \n",
       "1    5   may       348         1     -1         0      NaN  no  \n",
       "2    5   may       365         1     -1         0      NaN  no  \n",
       "3    5   may      1666         1     -1         0      NaN  no  \n",
       "4    5   may       145         1     -1         0      NaN  no  "
      ]
     },
     "execution_count": 43,
     "metadata": {},
     "output_type": "execute_result"
    }
   ],
   "source": [
    "import pandas as pd\n",
    "\n",
    "data = pd.read_csv(\"C:\\\\Users\\\\Windows\\\\Desktop\\\\대학교\\\\4학년 여름방학\\\\Big_AI\\\\파이썬기본\\\\pytest_basic\\\\bank.csv\")\n",
    "data.head()"
   ]
  },
  {
   "cell_type": "code",
   "execution_count": 44,
   "metadata": {
    "id": "CeVz3yknK_0R"
   },
   "outputs": [
    {
     "data": {
      "text/plain": [
       "(7234, 17)"
      ]
     },
     "execution_count": 44,
     "metadata": {},
     "output_type": "execute_result"
    }
   ],
   "source": [
    "data.shape"
   ]
  },
  {
   "cell_type": "code",
   "execution_count": 45,
   "metadata": {
    "id": "yCLXLYAfLFL5"
   },
   "outputs": [
    {
     "name": "stdout",
     "output_type": "stream",
     "text": [
      "<class 'pandas.core.frame.DataFrame'>\n",
      "RangeIndex: 7234 entries, 0 to 7233\n",
      "Data columns (total 17 columns):\n",
      " #   Column     Non-Null Count  Dtype \n",
      "---  ------     --------------  ----- \n",
      " 0   age        7234 non-null   int64 \n",
      " 1   job        7190 non-null   object\n",
      " 2   marital    7234 non-null   object\n",
      " 3   education  6961 non-null   object\n",
      " 4   default    7234 non-null   object\n",
      " 5   balance    7234 non-null   int64 \n",
      " 6   housing    7234 non-null   object\n",
      " 7   loan       7234 non-null   object\n",
      " 8   contact    5196 non-null   object\n",
      " 9   day        7234 non-null   int64 \n",
      " 10  month      7234 non-null   object\n",
      " 11  duration   7234 non-null   int64 \n",
      " 12  campaign   7234 non-null   int64 \n",
      " 13  pdays      7234 non-null   int64 \n",
      " 14  previous   7234 non-null   int64 \n",
      " 15  poutcome   1334 non-null   object\n",
      " 16  y          7234 non-null   object\n",
      "dtypes: int64(7), object(10)\n",
      "memory usage: 960.9+ KB\n"
     ]
    }
   ],
   "source": [
    "data.info()"
   ]
  },
  {
   "cell_type": "markdown",
   "metadata": {
    "id": "7wHwB-N6L3SK"
   },
   "source": [
    "## 기초통계정보"
   ]
  },
  {
   "cell_type": "code",
   "execution_count": 46,
   "metadata": {
    "id": "EiIHkAd7LXBz"
   },
   "outputs": [
    {
     "data": {
      "text/html": [
       "<div>\n",
       "<style scoped>\n",
       "    .dataframe tbody tr th:only-of-type {\n",
       "        vertical-align: middle;\n",
       "    }\n",
       "\n",
       "    .dataframe tbody tr th {\n",
       "        vertical-align: top;\n",
       "    }\n",
       "\n",
       "    .dataframe thead th {\n",
       "        text-align: right;\n",
       "    }\n",
       "</style>\n",
       "<table border=\"1\" class=\"dataframe\">\n",
       "  <thead>\n",
       "    <tr style=\"text-align: right;\">\n",
       "      <th></th>\n",
       "      <th>age</th>\n",
       "      <th>balance</th>\n",
       "      <th>day</th>\n",
       "      <th>duration</th>\n",
       "      <th>campaign</th>\n",
       "      <th>pdays</th>\n",
       "      <th>previous</th>\n",
       "    </tr>\n",
       "  </thead>\n",
       "  <tbody>\n",
       "    <tr>\n",
       "      <th>count</th>\n",
       "      <td>7234.000000</td>\n",
       "      <td>7234.000000</td>\n",
       "      <td>7234.000000</td>\n",
       "      <td>7234.000000</td>\n",
       "      <td>7234.000000</td>\n",
       "      <td>7234.000000</td>\n",
       "      <td>7234.000000</td>\n",
       "    </tr>\n",
       "    <tr>\n",
       "      <th>mean</th>\n",
       "      <td>40.834808</td>\n",
       "      <td>1374.912911</td>\n",
       "      <td>15.623860</td>\n",
       "      <td>262.875311</td>\n",
       "      <td>2.713989</td>\n",
       "      <td>40.277716</td>\n",
       "      <td>0.565939</td>\n",
       "    </tr>\n",
       "    <tr>\n",
       "      <th>std</th>\n",
       "      <td>10.706442</td>\n",
       "      <td>3033.882933</td>\n",
       "      <td>8.307826</td>\n",
       "      <td>268.921065</td>\n",
       "      <td>2.983740</td>\n",
       "      <td>99.188008</td>\n",
       "      <td>1.825100</td>\n",
       "    </tr>\n",
       "    <tr>\n",
       "      <th>min</th>\n",
       "      <td>2.000000</td>\n",
       "      <td>-3313.000000</td>\n",
       "      <td>1.000000</td>\n",
       "      <td>0.000000</td>\n",
       "      <td>1.000000</td>\n",
       "      <td>-1.000000</td>\n",
       "      <td>0.000000</td>\n",
       "    </tr>\n",
       "    <tr>\n",
       "      <th>25%</th>\n",
       "      <td>33.000000</td>\n",
       "      <td>74.000000</td>\n",
       "      <td>8.000000</td>\n",
       "      <td>103.000000</td>\n",
       "      <td>1.000000</td>\n",
       "      <td>-1.000000</td>\n",
       "      <td>0.000000</td>\n",
       "    </tr>\n",
       "    <tr>\n",
       "      <th>50%</th>\n",
       "      <td>39.000000</td>\n",
       "      <td>453.500000</td>\n",
       "      <td>16.000000</td>\n",
       "      <td>183.000000</td>\n",
       "      <td>2.000000</td>\n",
       "      <td>-1.000000</td>\n",
       "      <td>0.000000</td>\n",
       "    </tr>\n",
       "    <tr>\n",
       "      <th>75%</th>\n",
       "      <td>48.000000</td>\n",
       "      <td>1470.750000</td>\n",
       "      <td>21.000000</td>\n",
       "      <td>321.750000</td>\n",
       "      <td>3.000000</td>\n",
       "      <td>-1.000000</td>\n",
       "      <td>0.000000</td>\n",
       "    </tr>\n",
       "    <tr>\n",
       "      <th>max</th>\n",
       "      <td>157.000000</td>\n",
       "      <td>81204.000000</td>\n",
       "      <td>31.000000</td>\n",
       "      <td>3366.000000</td>\n",
       "      <td>44.000000</td>\n",
       "      <td>850.000000</td>\n",
       "      <td>40.000000</td>\n",
       "    </tr>\n",
       "  </tbody>\n",
       "</table>\n",
       "</div>"
      ],
      "text/plain": [
       "               age       balance          day     duration     campaign  \\\n",
       "count  7234.000000   7234.000000  7234.000000  7234.000000  7234.000000   \n",
       "mean     40.834808   1374.912911    15.623860   262.875311     2.713989   \n",
       "std      10.706442   3033.882933     8.307826   268.921065     2.983740   \n",
       "min       2.000000  -3313.000000     1.000000     0.000000     1.000000   \n",
       "25%      33.000000     74.000000     8.000000   103.000000     1.000000   \n",
       "50%      39.000000    453.500000    16.000000   183.000000     2.000000   \n",
       "75%      48.000000   1470.750000    21.000000   321.750000     3.000000   \n",
       "max     157.000000  81204.000000    31.000000  3366.000000    44.000000   \n",
       "\n",
       "             pdays     previous  \n",
       "count  7234.000000  7234.000000  \n",
       "mean     40.277716     0.565939  \n",
       "std      99.188008     1.825100  \n",
       "min      -1.000000     0.000000  \n",
       "25%      -1.000000     0.000000  \n",
       "50%      -1.000000     0.000000  \n",
       "75%      -1.000000     0.000000  \n",
       "max     850.000000    40.000000  "
      ]
     },
     "execution_count": 46,
     "metadata": {},
     "output_type": "execute_result"
    }
   ],
   "source": [
    "# 평균, 최소, 최대를 잘 봐야함\n",
    "data.describe() # 문자열 정보 제외"
   ]
  },
  {
   "cell_type": "markdown",
   "metadata": {
    "id": "LffLG6TrL6o6"
   },
   "source": [
    "## 결측치 제거 & 치환"
   ]
  },
  {
   "cell_type": "code",
   "execution_count": 47,
   "metadata": {
    "id": "tGwNHFJ5L8TK"
   },
   "outputs": [
    {
     "data": {
      "text/plain": [
       "True"
      ]
     },
     "execution_count": 47,
     "metadata": {},
     "output_type": "execute_result"
    }
   ],
   "source": [
    "data.isnull().values.any()"
   ]
  },
  {
   "cell_type": "code",
   "execution_count": 48,
   "metadata": {
    "id": "psgODb-uMCRC"
   },
   "outputs": [
    {
     "data": {
      "text/plain": [
       "age             0\n",
       "job            44\n",
       "marital         0\n",
       "education     273\n",
       "default         0\n",
       "balance         0\n",
       "housing         0\n",
       "loan            0\n",
       "contact      2038\n",
       "day             0\n",
       "month           0\n",
       "duration        0\n",
       "campaign        0\n",
       "pdays           0\n",
       "previous        0\n",
       "poutcome     5900\n",
       "y               0\n",
       "dtype: int64"
      ]
     },
     "execution_count": 48,
     "metadata": {},
     "output_type": "execute_result"
    }
   ],
   "source": [
    "data.isnull().sum()\n",
    "# 25%를 넘으면 column 제거 고려\n",
    "# 그 다음 결측치 치환 고려\n",
    "# 얼마 없으면 row 제거 고려"
   ]
  },
  {
   "cell_type": "code",
   "execution_count": 49,
   "metadata": {
    "id": "EKBcrjVAMQPC"
   },
   "outputs": [
    {
     "name": "stdout",
     "output_type": "stream",
     "text": [
      "전체 행의 수 :  7234\n",
      "1/3에 해당하는 행의 수 2170\n",
      "\n",
      "(6935, 17)\n",
      "\n",
      "(6935, 16)\n",
      "\n",
      "   age          job  marital  education default  balance housing loan  \\\n",
      "0   58   management  married   tertiary      no     2143     yes   no   \n",
      "1   36   technician   single  secondary      no      265     yes  yes   \n",
      "2   25  blue-collar  married  secondary      no       -7     yes   no   \n",
      "3   53   technician  married  secondary      no       -3      no   no   \n",
      "4   24   technician   single  secondary      no     -103     yes  yes   \n",
      "\n",
      "   contact  day month  duration  campaign  pdays  previous   y  \n",
      "0  unknown    5   may       261         1     -1         0  no  \n",
      "1  unknown    5   may       348         1     -1         0  no  \n",
      "2  unknown    5   may       365         1     -1         0  no  \n",
      "3  unknown    5   may      1666         1     -1         0  no  \n",
      "4  unknown    5   may       145         1     -1         0  no  \n",
      "(6935, 16)\n",
      "age          0\n",
      "job          0\n",
      "marital      0\n",
      "education    0\n",
      "default      0\n",
      "balance      0\n",
      "housing      0\n",
      "loan         0\n",
      "contact      0\n",
      "day          0\n",
      "month        0\n",
      "duration     0\n",
      "campaign     0\n",
      "pdays        0\n",
      "previous     0\n",
      "y            0\n",
      "dtype: int64\n"
     ]
    }
   ],
   "source": [
    "# 결측치가 있는 컬럼을 제거하는 기준잡기\n",
    "print(\"전체 행의 수 : \", len(data))\n",
    "print(\"1/3에 해당하는 행의 수\", int(len(data) * 0.3))\n",
    "print()\n",
    "\n",
    "# row 제거\n",
    "data = data.dropna(subset = [\"job\", \"education\"])\n",
    "print(data.shape)\n",
    "print()\n",
    "\n",
    "# column 제거 (수동 제거도 나쁘지 않음)\n",
    "data = data.dropna(thresh=2170, axis=1)\n",
    "print(data.shape)\n",
    "print()\n",
    "\n",
    "# data 치환\n",
    "data = data.fillna({'contact' : 'unknown'})\n",
    "print(data.head())\n",
    "print(data.shape)\n",
    "print(data.isnull().sum())"
   ]
  },
  {
   "cell_type": "markdown",
   "metadata": {
    "id": "SYqC-OsAORzR"
   },
   "source": [
    "## 이상치 제거"
   ]
  },
  {
   "cell_type": "code",
   "execution_count": 50,
   "metadata": {
    "id": "TTQoUj6zN6Ti"
   },
   "outputs": [
    {
     "data": {
      "text/plain": [
       "(6933, 16)"
      ]
     },
     "execution_count": 50,
     "metadata": {},
     "output_type": "execute_result"
    }
   ],
   "source": [
    "# age가 18세 이상, 100세 미만인 고객만 분석 대상으로 삼으려함\n",
    "data = data[data.age >= 18]\n",
    "data = data[data.age < 100]\n",
    "data.shape"
   ]
  },
  {
   "cell_type": "markdown",
   "metadata": {
    "id": "ZlXDhZpfOUJK"
   },
   "source": [
    "## 문자열을 숫자형으로 치환"
   ]
  },
  {
   "cell_type": "code",
   "execution_count": 51,
   "metadata": {
    "id": "uiWN-W_OOHJF"
   },
   "outputs": [
    {
     "name": "stdout",
     "output_type": "stream",
     "text": [
      "   age          job  marital  education  default  balance  housing  loan  \\\n",
      "0   58   management  married   tertiary        0     2143        1     0   \n",
      "1   36   technician   single  secondary        0      265        1     1   \n",
      "2   25  blue-collar  married  secondary        0       -7        1     0   \n",
      "3   53   technician  married  secondary        0       -3        0     0   \n",
      "4   24   technician   single  secondary        0     -103        1     1   \n",
      "\n",
      "   contact  day month  duration  campaign  pdays  previous  y  \n",
      "0  unknown    5   may       261         1     -1         0  0  \n",
      "1  unknown    5   may       348         1     -1         0  0  \n",
      "2  unknown    5   may       365         1     -1         0  0  \n",
      "3  unknown    5   may      1666         1     -1         0  0  \n",
      "4  unknown    5   may       145         1     -1         0  0  \n",
      "   age  default  balance  housing  loan  day  duration  campaign  pdays  \\\n",
      "0   58        0     2143        1     0    5       261         1     -1   \n",
      "1   36        0      265        1     1    5       348         1     -1   \n",
      "2   25        0       -7        1     0    5       365         1     -1   \n",
      "3   53        0       -3        0     0    5      1666         1     -1   \n",
      "4   24        0     -103        1     1    5       145         1     -1   \n",
      "\n",
      "   previous  ...  month_dec  month_feb  month_jan  month_jul  month_jun  \\\n",
      "0         0  ...          0          0          0          0          0   \n",
      "1         0  ...          0          0          0          0          0   \n",
      "2         0  ...          0          0          0          0          0   \n",
      "3         0  ...          0          0          0          0          0   \n",
      "4         0  ...          0          0          0          0          0   \n",
      "\n",
      "   month_mar  month_may  month_nov  month_oct  month_sep  \n",
      "0          0          1          0          0          0  \n",
      "1          0          1          0          0          0  \n",
      "2          0          1          0          0          0  \n",
      "3          0          1          0          0          0  \n",
      "4          0          1          0          0          0  \n",
      "\n",
      "[5 rows x 43 columns]\n"
     ]
    }
   ],
   "source": [
    "# 바이너리 치환\n",
    "data = data.replace(\"yes\", 1)\n",
    "data = data.replace(\"no\", 0)\n",
    "print(data.head())\n",
    "\n",
    "# 원 핫 인코딩\n",
    "data = pd.get_dummies(data, columns = [\"job\", \"marital\", \"education\", \"contact\", \"month\"]) # 새로운 colmun을 할당받게 된다.\n",
    "print(data.head())"
   ]
  },
  {
   "cell_type": "markdown",
   "metadata": {
    "id": "sMnx7nMxPUB-"
   },
   "source": [
    "## 결과 저장"
   ]
  },
  {
   "cell_type": "code",
   "execution_count": 52,
   "metadata": {
    "id": "MMslqr6lPC2f"
   },
   "outputs": [],
   "source": [
    "data.to_csv(\"C:\\\\Users\\\\Windows\\\\Desktop\\\\대학교\\\\4학년 여름방학\\\\Big_AI\\\\파이썬기본\\\\코드\\\\output\\\\result.csv\", index = False)"
   ]
  },
  {
   "cell_type": "markdown",
   "metadata": {
    "id": "5lMdddrZP1Tq"
   },
   "source": [
    "## 정규화 연습"
   ]
  },
  {
   "cell_type": "code",
   "execution_count": 53,
   "metadata": {
    "id": "viC6iwbmQhwB"
   },
   "outputs": [
    {
     "name": "stdout",
     "output_type": "stream",
     "text": [
      "               model   mpg  cyl   disp   hp  drat     wt   qsec  vs  am  gear  \\\n",
      "0          Mazda RX4  21.0    6  160.0  110  3.90  2.620  16.46   0   1     4   \n",
      "1      Mazda RX4 Wag  21.0    6  160.0  110  3.90  2.875  17.02   0   1     4   \n",
      "2         Datsun 710  22.8    4  108.0   93  3.85  2.320  18.61   1   1     4   \n",
      "3     Hornet 4 Drive  21.4    6  258.0  110  3.08  3.215  19.44   1   0     3   \n",
      "4  Hornet Sportabout  18.7    8  360.0  175  3.15  3.440  17.02   0   0     3   \n",
      "\n",
      "   carb  \n",
      "0     4  \n",
      "1     4  \n",
      "2     1  \n",
      "3     1  \n",
      "4     2  \n",
      "<class 'pandas.core.frame.DataFrame'>\n",
      "<class 'pandas.core.frame.DataFrame'>\n",
      "<class 'numpy.ndarray'>\n",
      "[9]\n"
     ]
    }
   ],
   "source": [
    "# 정규화 여부는 정규화를 한 결과와 안 한 결과를 비교하여 알 수 있다.\n",
    "from sklearn.preprocessing import MinMaxScaler\n",
    "\n",
    "# 데이터 확인\n",
    "data = pd.read_csv(\"C:\\\\Users\\\\Windows\\\\Desktop\\\\대학교\\\\4학년 여름방학\\\\Big_AI\\\\파이썬기본\\\\pytest_basic\\\\mtcars.csv\")\n",
    "print(data.head())\n",
    "\n",
    "# 정규화\n",
    "qsec = data[[\"qsec\"]]\n",
    "scaler = MinMaxScaler()\n",
    "print(type(qsec))\n",
    "scaler.fit(qsec)\n",
    "print(type(qsec))\n",
    "qsec_scaled = scaler.transform(qsec)\n",
    "print(type(qsec_scaled))\n",
    "\n",
    "# 0.5를 넘어가는 개수확인\n",
    "qsec_scaled_above = qsec_scaled > 0.5\n",
    "print(sum(qsec_scaled_above))"
   ]
  },
  {
   "cell_type": "markdown",
   "metadata": {
    "id": "f85mdDLRThz7"
   },
   "source": [
    "# 연습문제"
   ]
  },
  {
   "cell_type": "code",
   "execution_count": 54,
   "metadata": {
    "id": "3a8aFVFpTkJS"
   },
   "outputs": [
    {
     "name": "stdout",
     "output_type": "stream",
     "text": [
      "5.759386625\n"
     ]
    }
   ],
   "source": [
    "import numpy as np\n",
    "import pandas as pd\n",
    "\n",
    "data = pd.read_csv(\"C:\\\\Users\\\\Windows\\\\Desktop\\\\대학교\\\\4학년 여름방학\\\\Big_AI\\\\파이썬기본\\\\pytest_basic\\\\boston_housing.csv\")\n",
    "\n",
    "Crim_10 = data.sort_values(by='crim', ascending=False).iloc[9]\n",
    "Crim_10 = Crim_10['crim']\n",
    "\n",
    "data_10_index = data[data.crim >= Crim_10].index\n",
    "data.iloc[data_10_index, 0] = Crim_10\n",
    "\n",
    "age_80 = data[data.age >= 80]\n",
    "print(age_80['crim'].mean())"
   ]
  },
  {
   "cell_type": "code",
   "execution_count": 55,
   "metadata": {
    "id": "vAzUQXn1JE27"
   },
   "outputs": [
    {
     "name": "stdout",
     "output_type": "stream",
     "text": [
      "표준편차 전후의 차이 :  1.9758041679713187\n"
     ]
    }
   ],
   "source": [
    "import numpy as np\n",
    "import pandas as pd\n",
    "\n",
    "data = pd.read_csv(\"C:\\\\Users\\\\Windows\\\\Desktop\\\\대학교\\\\4학년 여름방학\\\\Big_AI\\\\파이썬기본\\\\pytest_basic\\\\california_housing.csv\")\n",
    "train_data = data.iloc[:20639 // 5 * 4, :].copy()\n",
    "pre_train_std = train_data['total_bedrooms'].std()\n",
    "train_median = train_data['total_bedrooms'].median()\n",
    "train_data[train_data.isnull().total_bedrooms] = train_median\n",
    "post_train_std = train_data['total_bedrooms'].std()\n",
    "print(\"표준편차 전후의 차이 : \", pre_train_std - post_train_std)"
   ]
  },
  {
   "cell_type": "code",
   "execution_count": 56,
   "metadata": {
    "id": "zStuNKptMOoT"
   },
   "outputs": [
    {
     "name": "stdout",
     "output_type": "stream",
     "text": [
      "6421430.0206699995\n"
     ]
    }
   ],
   "source": [
    "import numpy as np\n",
    "import pandas as pd\n",
    "\n",
    "data = pd.read_csv(\"C:\\\\Users\\\\Windows\\\\Desktop\\\\대학교\\\\4학년 여름방학\\\\Big_AI\\\\파이썬기본\\\\pytest_basic\\\\insurance.csv\")\n",
    "\n",
    "charge_mean = data['charges'].mean()\n",
    "charge_std = data['charges'].std()\n",
    "charge_std = charge_std * 1.5\n",
    "data_above = data[(data.charges >= (charge_mean + charge_std)) | (data.charges <= (charge_mean - charge_std))]\n",
    "print(data_above['charges'].sum())"
   ]
  },
  {
   "cell_type": "markdown",
   "metadata": {
    "id": "9MG0DqEEbOb1"
   },
   "source": [
    "데이터 불러오기"
   ]
  },
  {
   "cell_type": "code",
   "execution_count": 57,
   "metadata": {
    "id": "wKcH_2gvMnUC"
   },
   "outputs": [],
   "source": [
    "import numpy as np\n",
    "import pandas as pd\n",
    "\n",
    "X_train = pd.read_csv(\"C:\\\\Users\\\\Windows\\\\Desktop\\\\대학교\\\\4학년 여름방학\\\\Big_AI\\\\파이썬기본\\\\pytest_basic\\\\EC_X_train.csv\")\n",
    "y_train = pd.read_csv(\"C:\\\\Users\\\\Windows\\\\Desktop\\\\대학교\\\\4학년 여름방학\\\\Big_AI\\\\파이썬기본\\\\pytest_basic\\\\EC_y_train.csv\")\n",
    "X_test = pd.read_csv(\"C:\\\\Users\\\\Windows\\\\Desktop\\\\대학교\\\\4학년 여름방학\\\\Big_AI\\\\파이썬기본\\\\pytest_basic\\\\EC_X_test.csv\")"
   ]
  },
  {
   "cell_type": "markdown",
   "metadata": {
    "id": "cfo6ACRnCed2"
   },
   "source": [
    "결측치 확인"
   ]
  },
  {
   "cell_type": "code",
   "execution_count": 58,
   "metadata": {
    "id": "dLEVQfWxCeyA"
   },
   "outputs": [
    {
     "name": "stdout",
     "output_type": "stream",
     "text": [
      "False\n",
      "ID                     0\n",
      "Warehouse_block        0\n",
      "Mode_of_Shipment       0\n",
      "Customer_care_calls    0\n",
      "Customer_rating        0\n",
      "Cost_of_the_Product    0\n",
      "Prior_purchases        0\n",
      "Product_importance     0\n",
      "Gender                 0\n",
      "Discount_offered       0\n",
      "Weight_in_gms          0\n",
      "dtype: int64\n",
      "False\n",
      "ID                     0\n",
      "Warehouse_block        0\n",
      "Mode_of_Shipment       0\n",
      "Customer_care_calls    0\n",
      "Customer_rating        0\n",
      "Cost_of_the_Product    0\n",
      "Prior_purchases        0\n",
      "Product_importance     0\n",
      "Gender                 0\n",
      "Discount_offered       0\n",
      "Weight_in_gms          0\n",
      "dtype: int64\n"
     ]
    }
   ],
   "source": [
    "print(X_train.isnull().values.any())\n",
    "print(X_train.isnull().sum())\n",
    "\n",
    "print(X_test.isnull().values.any())\n",
    "print(X_test.isnull().sum())"
   ]
  },
  {
   "cell_type": "markdown",
   "metadata": {
    "id": "-z3IR7AvbQso"
   },
   "source": [
    "X_train 데이터 확인하기"
   ]
  },
  {
   "cell_type": "code",
   "execution_count": 59,
   "metadata": {
    "id": "rZ8YJJyla4M5"
   },
   "outputs": [
    {
     "name": "stdout",
     "output_type": "stream",
     "text": [
      "   ID Warehouse_block Mode_of_Shipment  Customer_care_calls  Customer_rating  \\\n",
      "0   1               B             Ship                    3                4   \n",
      "1   2               F             Ship                    4                3   \n",
      "2   3               B             Ship                    2                1   \n",
      "3   4               F             Ship                    6                5   \n",
      "4   5               F           Flight                    3                1   \n",
      "\n",
      "   Cost_of_the_Product  Prior_purchases Product_importance Gender  \\\n",
      "0                  134                3               high      F   \n",
      "1                  173                3             medium      M   \n",
      "2                  192                3               high      M   \n",
      "3                  284                4             medium      M   \n",
      "4                  246                3                low      F   \n",
      "\n",
      "   Discount_offered  Weight_in_gms  \n",
      "0                 6           5680  \n",
      "1                 5           5331  \n",
      "2                46           3206  \n",
      "3                 8           5346  \n",
      "4                10           4707  \n",
      "<class 'pandas.core.frame.DataFrame'>\n",
      "RangeIndex: 8799 entries, 0 to 8798\n",
      "Data columns (total 11 columns):\n",
      " #   Column               Non-Null Count  Dtype \n",
      "---  ------               --------------  ----- \n",
      " 0   ID                   8799 non-null   int64 \n",
      " 1   Warehouse_block      8799 non-null   object\n",
      " 2   Mode_of_Shipment     8799 non-null   object\n",
      " 3   Customer_care_calls  8799 non-null   int64 \n",
      " 4   Customer_rating      8799 non-null   int64 \n",
      " 5   Cost_of_the_Product  8799 non-null   int64 \n",
      " 6   Prior_purchases      8799 non-null   int64 \n",
      " 7   Product_importance   8799 non-null   object\n",
      " 8   Gender               8799 non-null   object\n",
      " 9   Discount_offered     8799 non-null   int64 \n",
      " 10  Weight_in_gms        8799 non-null   int64 \n",
      "dtypes: int64(7), object(4)\n",
      "memory usage: 756.3+ KB\n",
      "None\n"
     ]
    }
   ],
   "source": [
    "print(X_train.head())\n",
    "print(X_train.info())"
   ]
  },
  {
   "cell_type": "markdown",
   "metadata": {
    "id": "aDcab3paBm3v"
   },
   "source": [
    "테스트 데이터 전처리"
   ]
  },
  {
   "cell_type": "code",
   "execution_count": 60,
   "metadata": {
    "id": "4CPsMW5pBnMv"
   },
   "outputs": [],
   "source": [
    "y_train = y_train[\"Reached.on.Time_Y.N\"]"
   ]
  },
  {
   "cell_type": "markdown",
   "metadata": {
    "id": "QJswy1uw-b0m"
   },
   "source": [
    "숫자형과 문자형 분리"
   ]
  },
  {
   "cell_type": "code",
   "execution_count": 61,
   "metadata": {
    "id": "-QzjIsGLbNea"
   },
   "outputs": [],
   "source": [
    "X_train_num = X_train[['Customer_care_calls', 'Customer_rating', 'Cost_of_the_Product', 'Prior_purchases', 'Discount_offered', 'Weight_in_gms']]\n",
    "X_train_cat = X_train[['Warehouse_block', 'Mode_of_Shipment', 'Product_importance', 'Gender']]\n",
    "\n",
    "X_test_num = X_test[['Customer_care_calls', 'Customer_rating', 'Cost_of_the_Product', 'Prior_purchases', 'Discount_offered', 'Weight_in_gms']]\n",
    "X_test_cat = X_test[['Warehouse_block', 'Mode_of_Shipment', 'Product_importance', 'Gender']]"
   ]
  },
  {
   "cell_type": "markdown",
   "metadata": {
    "id": "dwLKXMo4-ds2"
   },
   "source": [
    "문자형 원-핫 인코딩"
   ]
  },
  {
   "cell_type": "code",
   "execution_count": 62,
   "metadata": {
    "id": "D1uA5Uqr-a9G"
   },
   "outputs": [
    {
     "name": "stdout",
     "output_type": "stream",
     "text": [
      "<class 'pandas.core.frame.DataFrame'>\n",
      "<class 'pandas.core.frame.DataFrame'>\n"
     ]
    }
   ],
   "source": [
    "X_train_cat = pd.get_dummies(X_train_cat)\n",
    "X_test_cat = pd.get_dummies(X_test_cat)\n",
    "\n",
    "print(type(X_train_cat))\n",
    "print(type(X_test_cat))"
   ]
  },
  {
   "cell_type": "markdown",
   "metadata": {
    "id": "YmU-Ljo9-xGD"
   },
   "source": [
    "숫자형 정규화"
   ]
  },
  {
   "cell_type": "code",
   "execution_count": 63,
   "metadata": {
    "id": "fJV_9ALN-w5j"
   },
   "outputs": [
    {
     "name": "stdout",
     "output_type": "stream",
     "text": [
      "<class 'numpy.ndarray'>\n",
      "<class 'numpy.ndarray'>\n"
     ]
    }
   ],
   "source": [
    "from sklearn.preprocessing import MinMaxScaler\n",
    "scaler = MinMaxScaler()\n",
    "scaler.fit(X_train_num)\n",
    "\n",
    "X_train_scaled = scaler.transform(X_train_num)\n",
    "X_test_scaled = scaler.transform(X_test_num)\n",
    "\n",
    "print(type(X_train_scaled))\n",
    "print(type(X_test_scaled))"
   ]
  },
  {
   "cell_type": "markdown",
   "metadata": {
    "id": "ufG03ht-Al1e"
   },
   "source": [
    "숫자형과 문자형 결합"
   ]
  },
  {
   "cell_type": "code",
   "execution_count": 64,
   "metadata": {
    "id": "0ywIySnqAmIQ"
   },
   "outputs": [],
   "source": [
    "X_train_final = pd.concat([pd.DataFrame(X_train_scaled), X_train_cat], axis = 1)\n",
    "X_test_final = pd.concat([pd.DataFrame(X_test_scaled), X_test_cat], axis = 1)"
   ]
  },
  {
   "cell_type": "markdown",
   "metadata": {
    "id": "hlJna_-iBBe4"
   },
   "source": [
    "모델 생성 및 성능 확인"
   ]
  },
  {
   "cell_type": "code",
   "execution_count": 65,
   "metadata": {
    "id": "ihY7kxPKBA6M"
   },
   "outputs": [
    {
     "data": {
      "text/plain": [
       "0.6401863848164564"
      ]
     },
     "execution_count": 65,
     "metadata": {},
     "output_type": "execute_result"
    }
   ],
   "source": [
    "from sklearn.linear_model import LogisticRegression\n",
    "model = LogisticRegression()\n",
    "model.fit(X_train_final, y_train)\n",
    "model.score(X_train_final, y_train)"
   ]
  },
  {
   "cell_type": "code",
   "execution_count": 66,
   "metadata": {
    "id": "rdeD61C0Bzog"
   },
   "outputs": [
    {
     "data": {
      "text/plain": [
       "1.0"
      ]
     },
     "execution_count": 66,
     "metadata": {},
     "output_type": "execute_result"
    }
   ],
   "source": [
    "from sklearn.ensemble import RandomForestClassifier\n",
    "model = RandomForestClassifier()\n",
    "model.fit(X_train_final, y_train)\n",
    "model.score(X_train_final, y_train)"
   ]
  },
  {
   "cell_type": "markdown",
   "metadata": {
    "id": "hYM3PGZRC409"
   },
   "source": [
    "테스트 데이터 예측"
   ]
  },
  {
   "cell_type": "code",
   "execution_count": 67,
   "metadata": {
    "id": "euQdwl6SB_Me"
   },
   "outputs": [],
   "source": [
    "pred_test = model.predict(X_test_final)"
   ]
  },
  {
   "cell_type": "markdown",
   "metadata": {
    "id": "w9wh1O_FC_Rb"
   },
   "source": [
    "결과 정리"
   ]
  },
  {
   "cell_type": "code",
   "execution_count": 68,
   "metadata": {
    "id": "tEszSC59C_iC"
   },
   "outputs": [],
   "source": [
    "result = pd.concat([pd.DataFrame(X_test['ID']), pd.DataFrame(pred_test, columns = ['predicted'])], axis = 1)"
   ]
  },
  {
   "cell_type": "code",
   "execution_count": 69,
   "metadata": {
    "id": "6IwHm-c7DRXB"
   },
   "outputs": [
    {
     "data": {
      "text/html": [
       "<div>\n",
       "<style scoped>\n",
       "    .dataframe tbody tr th:only-of-type {\n",
       "        vertical-align: middle;\n",
       "    }\n",
       "\n",
       "    .dataframe tbody tr th {\n",
       "        vertical-align: top;\n",
       "    }\n",
       "\n",
       "    .dataframe thead th {\n",
       "        text-align: right;\n",
       "    }\n",
       "</style>\n",
       "<table border=\"1\" class=\"dataframe\">\n",
       "  <thead>\n",
       "    <tr style=\"text-align: right;\">\n",
       "      <th></th>\n",
       "      <th>ID</th>\n",
       "      <th>predicted</th>\n",
       "    </tr>\n",
       "  </thead>\n",
       "  <tbody>\n",
       "    <tr>\n",
       "      <th>0</th>\n",
       "      <td>8800</td>\n",
       "      <td>1</td>\n",
       "    </tr>\n",
       "    <tr>\n",
       "      <th>1</th>\n",
       "      <td>8801</td>\n",
       "      <td>1</td>\n",
       "    </tr>\n",
       "    <tr>\n",
       "      <th>2</th>\n",
       "      <td>8802</td>\n",
       "      <td>0</td>\n",
       "    </tr>\n",
       "    <tr>\n",
       "      <th>3</th>\n",
       "      <td>8803</td>\n",
       "      <td>1</td>\n",
       "    </tr>\n",
       "    <tr>\n",
       "      <th>4</th>\n",
       "      <td>8804</td>\n",
       "      <td>0</td>\n",
       "    </tr>\n",
       "  </tbody>\n",
       "</table>\n",
       "</div>"
      ],
      "text/plain": [
       "     ID  predicted\n",
       "0  8800          1\n",
       "1  8801          1\n",
       "2  8802          0\n",
       "3  8803          1\n",
       "4  8804          0"
      ]
     },
     "execution_count": 69,
     "metadata": {},
     "output_type": "execute_result"
    }
   ],
   "source": [
    "result.head()"
   ]
  },
  {
   "cell_type": "code",
   "execution_count": 70,
   "metadata": {
    "id": "MNKgZanrDTmA"
   },
   "outputs": [],
   "source": [
    "result.to_csv(\"C:\\\\Users\\\\Windows\\\\Desktop\\\\대학교\\\\4학년 여름방학\\\\Big_AI\\\\파이썬기본\\\\코드\\\\output\\\\EC_result.csv\", index = False)"
   ]
  },
  {
   "cell_type": "markdown",
   "metadata": {
    "id": "epaGnsS_DtAe"
   },
   "source": [
    "# 연습문제 2"
   ]
  },
  {
   "cell_type": "code",
   "execution_count": null,
   "metadata": {
    "id": "hLiQ8kvuJ7CQ"
   },
   "outputs": [],
   "source": [
    "import pandas as pd\n",
    "\n",
    "data = pd.read_csv(\"/content/gdrive/MyDrive/Colab Notebooks/Big AI/Dataset/pytest_basic/boston_housing_new.csv\")\n",
    "\n",
    "data_70 = data.iloc[:505 // 10 * 7]\n",
    "print(data_70['tax'].quantile(q=0.25))"
   ]
  },
  {
   "cell_type": "code",
   "execution_count": null,
   "metadata": {
    "id": "MyrOEC1RR9s1"
   },
   "outputs": [],
   "source": [
    "import numpy as np\n",
    "import pandas as pd\n",
    "\n",
    "data = pd.read_csv(\"/content/gdrive/MyDrive/Colab Notebooks/Big AI/Dataset/pytest_basic/tour.csv\", encoding=\"euc-kr\")\n",
    "\n",
    "data_2020 = data[data.year == 2000]\n",
    "data_2020_mean = np.mean(np.array(data_2020.iloc[:, 1:]))\n",
    "\n",
    "sum(data_2020.iloc[0, :] >= data_2020_mean)"
   ]
  },
  {
   "cell_type": "code",
   "execution_count": null,
   "metadata": {
    "id": "RO-gikr9WChQ"
   },
   "outputs": [],
   "source": [
    "import pandas as pd\n",
    "\n",
    "data = pd.read_csv(\"/content/gdrive/MyDrive/Colab Notebooks/Big AI/Dataset/pytest_basic/titanic.csv\")\n",
    "na = data.isnull().sum()\n",
    "na.sort_values(ascending = False).index[0]"
   ]
  },
  {
   "cell_type": "code",
   "execution_count": null,
   "metadata": {
    "id": "3IDNoo4GWma1"
   },
   "outputs": [],
   "source": [
    "import numpy as np\n",
    "import pandas as pd\n",
    "\n",
    "train = pd.read_csv(\"/content/gdrive/MyDrive/Colab Notebooks/Big AI/Dataset/pytest_basic/TravelInsurancePrediction_train.csv\")\n",
    "test = pd.read_csv(\"/content/gdrive/MyDrive/Colab Notebooks/Big AI/Dataset/pytest_basic/TravelInsurancePrediction_test.csv\")"
   ]
  },
  {
   "cell_type": "code",
   "execution_count": null,
   "metadata": {
    "id": "bf8LRJl8XITx"
   },
   "outputs": [],
   "source": [
    "train_data = train.iloc[:, 0:len(train.columns) - 1]\n",
    "train_label = train[[\"TravelInsurance\"]]\n",
    "id = test[[\"ID\"]]"
   ]
  },
  {
   "cell_type": "code",
   "execution_count": null,
   "metadata": {
    "id": "JdGzf1srW3m5"
   },
   "outputs": [],
   "source": [
    "print(str(train_data))\n",
    "print(train_data.info())\n",
    "print(str(train_label))\n",
    "print(train_label.info())"
   ]
  },
  {
   "cell_type": "code",
   "execution_count": null,
   "metadata": {
    "id": "ZNMxUxq3X086"
   },
   "outputs": [],
   "source": [
    "train_data_num = train_data[[\"Age\", \"AnnualIncome\", \"FamilyMembers\", \"ChronicDiseases\"]]\n",
    "train_data_one = train_data[[\"Employment Type\", \"GraduateOrNot\", \"FrequentFlyer\", \"EverTravelledAbroad\"]]\n",
    "\n",
    "test_data_num = test[[\"Age\", \"AnnualIncome\", \"FamilyMembers\", \"ChronicDiseases\"]]\n",
    "test_data_one = test[[\"Employment Type\", \"GraduateOrNot\", \"FrequentFlyer\", \"EverTravelledAbroad\"]]"
   ]
  },
  {
   "cell_type": "code",
   "execution_count": null,
   "metadata": {
    "id": "IFYr6ahnYwBS"
   },
   "outputs": [],
   "source": [
    "train_data_one = pd.get_dummies(train_data_one)\n",
    "test_data_one = pd.get_dummies(test_data_one)"
   ]
  },
  {
   "cell_type": "code",
   "execution_count": null,
   "metadata": {
    "id": "lMm_Ay7OYRu0"
   },
   "outputs": [],
   "source": [
    "from sklearn.preprocessing import MinMaxScaler\n",
    "scaler = MinMaxScaler()\n",
    "scaler.fit(train_data_num)\n",
    "\n",
    "train_data_num = scaler.transform(train_data_num)\n",
    "test_data_num = scaler.transform(test_data_num)"
   ]
  },
  {
   "cell_type": "code",
   "execution_count": null,
   "metadata": {
    "id": "eU8LcBBGZRux"
   },
   "outputs": [],
   "source": [
    "X_train_final = pd.concat([pd.DataFrame(train_data_num), train_data_one], axis = 1)\n",
    "X_test_final = pd.concat([pd.DataFrame(test_data_num), test_data_one], axis = 1)"
   ]
  },
  {
   "cell_type": "code",
   "execution_count": null,
   "metadata": {
    "id": "7CEN6aMhZYyK"
   },
   "outputs": [],
   "source": [
    "from sklearn.linear_model import LogisticRegression\n",
    "model = LogisticRegression()\n",
    "model.fit(X_train_final, train_label)\n",
    "model.score(X_train_final, train_label)"
   ]
  },
  {
   "cell_type": "code",
   "execution_count": null,
   "metadata": {
    "id": "GoZzB8qIZeLo"
   },
   "outputs": [],
   "source": [
    "from sklearn.ensemble import RandomForestClassifier\n",
    "model = RandomForestClassifier()\n",
    "model.fit(X_train_final, train_label)\n",
    "model.score(X_train_final, train_label)"
   ]
  },
  {
   "cell_type": "code",
   "execution_count": null,
   "metadata": {
    "id": "Tl-4sOmZaHEK"
   },
   "outputs": [],
   "source": [
    "predicted = model.predict(X_test_final)"
   ]
  },
  {
   "cell_type": "code",
   "execution_count": null,
   "metadata": {
    "id": "TJXg0RwPZ-nS"
   },
   "outputs": [],
   "source": [
    "result = pd.concat([id, pd.DataFrame(predicted, columns = ['predicted'])], axis = 1)"
   ]
  },
  {
   "cell_type": "code",
   "execution_count": null,
   "metadata": {
    "id": "oWfAksf1asTT"
   },
   "outputs": [],
   "source": [
    "result.to_csv()"
   ]
  }
 ],
 "metadata": {
  "colab": {
   "authorship_tag": "ABX9TyNRWTTwG4WIZi4+uZY4tyj7",
   "collapsed_sections": [],
   "name": "6월 28일.ipynb",
   "provenance": []
  },
  "kernelspec": {
   "display_name": "Python 3",
   "language": "python",
   "name": "python3"
  },
  "language_info": {
   "codemirror_mode": {
    "name": "ipython",
    "version": 3
   },
   "file_extension": ".py",
   "mimetype": "text/x-python",
   "name": "python",
   "nbconvert_exporter": "python",
   "pygments_lexer": "ipython3",
   "version": "3.8.5"
  }
 },
 "nbformat": 4,
 "nbformat_minor": 1
}
