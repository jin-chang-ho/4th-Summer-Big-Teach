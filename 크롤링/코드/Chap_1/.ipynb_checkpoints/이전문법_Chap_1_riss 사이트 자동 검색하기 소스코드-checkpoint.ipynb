{
 "cells": [
  {
   "cell_type": "code",
   "execution_count": 4,
   "metadata": {
    "scrolled": true
   },
   "outputs": [
    {
     "name": "stdout",
     "output_type": "stream",
     "text": [
      "====================================================================================================\n",
      " 이 크롤러는 RISS 사이트의 논문 및 학술자료 수집용 웹크롤러입니다.\n",
      "====================================================================================================\n",
      "1.수집할 자료의 키워드는 무엇입니까?(여러개일 경우 , 로 구분하여 입력): 전염병\n",
      "\n",
      "\n"
     ]
    }
   ],
   "source": [
    "!pip install selenium"
   ]
  },
  {
   "cell_type": "code",
   "execution_count": null,
   "metadata": {},
   "outputs": [],
   "source": [
    "# riss.kr 에서 특정 키워드로 논문 / 학술 자료 검색하기\n",
    "\n",
    "#Step 1. 필요한 모듈을 로딩합니다\n",
    "from selenium import webdriver\n",
    "import time          \n",
    "\n",
    "#Step 2. 사용자에게 검색 관련 정보들을 입력 받습니다.\n",
    "print(\"=\" *100)\n",
    "print(\" 이 크롤러는 RISS 사이트의 논문 및 학술자료 수집용 웹크롤러입니다.\")\n",
    "print(\"=\" *100)\n",
    "query_txt = input('1.수집할 자료의 키워드는 무엇입니까?(여러개일 경우 , 로 구분하여 입력): ')\n",
    "#query_txt = '해양자원,도시재생'\n",
    "print(\"\\n\")\n",
    "\n",
    "#Step 3. 크롬 드라이버 설정 및 웹 페이지 열기\n",
    "chrome_path = \"C:\\chromedriver.exe\"\n",
    "driver = webdriver.Chrome(chrome_path)\n",
    "\n",
    "url = 'http://www.riss.kr/' # https:// 반드시 써주기\n",
    "driver.get(url)\n",
    "time.sleep(5) # 페이지가 안 열렸는데 검색을 하면 오류를 띄운다. 그래서 인터넷 속도에 따라 기다리는 시간을 준다.\n",
    "\n",
    "#Step 4. 자동으로 검색어 입력 후 조회하기\n",
    "# element : 웹 페이지 구성요소 / id, name, xpath 중 하나로 element 찾음\n",
    "element = driver.find_element_by_id(\"query\") # id를 중심으로 찾아라. xpath 사용 시에는 안에 \"가 있는 경우가 있어서 ''로 써야한다.\n",
    "driver.find_element_by_id(\"query\").click( )\n",
    "element.send_keys(query_txt) # typing 해라.\n",
    "element.send_keys(\"\\n\") # enter 입력\n",
    "\n",
    "# 테더링 혹은 VPN을 이용하여 웹 크롤링을 해야 ip 차단이 안 막힌다."
   ]
  },
  {
   "cell_type": "code",
   "execution_count": 1,
   "metadata": {},
   "outputs": [
    {
     "name": "stdout",
     "output_type": "stream",
     "text": [
      "====================================================================================================\n",
      " 이 크롤러는 네이버 서진수 빅데이터 웹크롤러입니다.\n",
      "====================================================================================================\n",
      "1. 수집할 자료의 키워드는 무엇입니까?(여러개일 경우 , 로 구분하여 입력): 서진수 빅데이터\n",
      "\n",
      "\n"
     ]
    },
    {
     "name": "stderr",
     "output_type": "stream",
     "text": [
      "<ipython-input-1-82aed07bc2d4>:17: DeprecationWarning: executable_path has been deprecated, please pass in a Service object\n",
      "  driver = webdriver.Chrome(chrome_path)\n",
      "<ipython-input-1-82aed07bc2d4>:25: DeprecationWarning: find_element_by_* commands are deprecated. Please use find_element() instead\n",
      "  element = driver.find_element_by_id(\"query\") # id를 중심으로 찾아라. xpath 사용 시에는 안에 \"가 있는 경우가 있어서 ''로 써야한다.\n",
      "<ipython-input-1-82aed07bc2d4>:26: DeprecationWarning: find_element_by_* commands are deprecated. Please use find_element() instead\n",
      "  driver.find_element_by_id(\"query\").click( )\n"
     ]
    }
   ],
   "source": [
    "# 1. 네이버 사이트의 검색창에 \"서진수 빅데이터\" 키워드를 입력한 후 검색을 실행하도록 코드를 작성하세요.\n",
    "\n",
    "#Step 1. 필요한 모듈을 로딩합니다\n",
    "from selenium import webdriver\n",
    "import time          \n",
    "\n",
    "#Step 2. 사용자에게 검색 관련 정보들을 입력 받습니다.\n",
    "print(\"=\" *100)\n",
    "print(\" 이 크롤러는 네이버 서진수 빅데이터 웹크롤러입니다.\")\n",
    "print(\"=\" *100)\n",
    "query_txt = input('1. 수집할 자료의 키워드는 무엇입니까?(여러개일 경우 , 로 구분하여 입력): ')\n",
    "#query_txt = '해양자원,도시재생'\n",
    "print(\"\\n\")\n",
    "\n",
    "#Step 3. 크롬 드라이버 설정 및 웹 페이지 열기\n",
    "chrome_path = \"C:\\chromedriver.exe\"\n",
    "driver = webdriver.Chrome(chrome_path)\n",
    "driver.maximize_window()\n",
    "\n",
    "url = 'http://www.naver.com' # https:// 반드시 써주기\n",
    "driver.get(url)\n",
    "time.sleep(3) # 페이지가 안 열렸는데 검색을 하면 오류를 띄운다. 그래서 인터넷 속도에 따라 기다리는 시간을 준다.\n",
    "\n",
    "#Step 4. 자동으로 검색어 입력 후 조회하기\n",
    "# element : 웹 페이지 구성요소 / id, name, xpath 중 하나로 element 찾음\n",
    "element = driver.find_element_by_id(\"query\") # id를 중심으로 찾아라. xpath 사용 시에는 안에 \"가 있는 경우가 있어서 ''로 써야한다.\n",
    "driver.find_element_by_id(\"query\").click( )\n",
    "element.send_keys(query_txt) # typing 해라.\n",
    "element.send_keys(\"\\n\") # enter 입력"
   ]
  },
  {
   "cell_type": "code",
   "execution_count": 2,
   "metadata": {},
   "outputs": [
    {
     "name": "stdout",
     "output_type": "stream",
     "text": [
      "====================================================================================================\n",
      " 이 크롤러는 네이버 서진수 빅데이터 웹크롤러입니다.\n",
      "====================================================================================================\n",
      "1. 수집할 자료의 키워드는 무엇입니까?(여러개일 경우 , 로 구분하여 입력): 서진수 빅데이터\n",
      "\n",
      "\n"
     ]
    },
    {
     "name": "stderr",
     "output_type": "stream",
     "text": [
      "<ipython-input-2-db074555162d>:17: DeprecationWarning: executable_path has been deprecated, please pass in a Service object\n",
      "  driver = webdriver.Chrome(chrome_path)\n",
      "<ipython-input-2-db074555162d>:25: DeprecationWarning: find_element_by_* commands are deprecated. Please use find_element() instead\n",
      "  element = driver.find_element_by_id(\"q\") # id를 중심으로 찾아라. xpath 사용 시에는 안에 \"가 있는 경우가 있어서 ''로 써야한다.\n",
      "<ipython-input-2-db074555162d>:26: DeprecationWarning: find_element_by_* commands are deprecated. Please use find_element() instead\n",
      "  driver.find_element_by_id(\"q\").click( )\n"
     ]
    }
   ],
   "source": [
    "# 2. 다음 사이트의 검색창에 \"서진수 빅데이터\" 키워드를 입력한 후 검색을 실행하도록 코드를 작성하세요.\n",
    "\n",
    "#Step 1. 필요한 모듈을 로딩합니다\n",
    "from selenium import webdriver\n",
    "import time          \n",
    "\n",
    "#Step 2. 사용자에게 검색 관련 정보들을 입력 받습니다.\n",
    "print(\"=\" *100)\n",
    "print(\" 이 크롤러는 다음 서진수 빅데이터 웹크롤러입니다.\")\n",
    "print(\"=\" *100)\n",
    "query_txt = input('1. 수집할 자료의 키워드는 무엇입니까?(여러개일 경우 , 로 구분하여 입력): ')\n",
    "#query_txt = '해양자원,도시재생'\n",
    "print(\"\\n\")\n",
    "\n",
    "#Step 3. 크롬 드라이버 설정 및 웹 페이지 열기\n",
    "chrome_path = \"C:\\chromedriver.exe\"\n",
    "driver = webdriver.Chrome(chrome_path)\n",
    "driver.maximize_window()\n",
    "\n",
    "url = 'http://www.daum.net' # https:// 반드시 써주기\n",
    "driver.get(url)\n",
    "time.sleep(3) # 페이지가 안 열렸는데 검색을 하면 오류를 띄운다. 그래서 인터넷 속도에 따라 기다리는 시간을 준다.\n",
    "\n",
    "#Step 4. 자동으로 검색어 입력 후 조회하기\n",
    "# element : 웹 페이지 구성요소 / id, name, xpath 중 하나로 element 찾음\n",
    "element = driver.find_element_by_id(\"q\") # id를 중심으로 찾아라. xpath 사용 시에는 안에 \"가 있는 경우가 있어서 ''로 써야한다.\n",
    "driver.find_element_by_id(\"q\").click( )\n",
    "element.send_keys(query_txt) # typing 해라.\n",
    "element.send_keys(\"\\n\") # enter 입력"
   ]
  },
  {
   "cell_type": "code",
   "execution_count": 4,
   "metadata": {},
   "outputs": [
    {
     "name": "stdout",
     "output_type": "stream",
     "text": [
      "====================================================================================================\n",
      " 이 크롤러는 구글 서진수 빅데이터 웹크롤러입니다.\n",
      "====================================================================================================\n",
      "1. 수집할 자료의 키워드는 무엇입니까?(여러개일 경우 , 로 구분하여 입력): 서진수 빅데이터\n",
      "\n",
      "\n"
     ]
    },
    {
     "name": "stderr",
     "output_type": "stream",
     "text": [
      "<ipython-input-4-8973a0fe2748>:17: DeprecationWarning: executable_path has been deprecated, please pass in a Service object\n",
      "  driver = webdriver.Chrome(chrome_path)\n",
      "<ipython-input-4-8973a0fe2748>:25: DeprecationWarning: find_element_by_name is deprecated. Please use find_element(by=By.NAME, value=name) instead\n",
      "  element = driver.find_element_by_name(\"q\") # id를 중심으로 찾아라. xpath 사용 시에는 안에 \"가 있는 경우가 있어서 ''로 써야한다.\n",
      "<ipython-input-4-8973a0fe2748>:26: DeprecationWarning: find_element_by_name is deprecated. Please use find_element(by=By.NAME, value=name) instead\n",
      "  driver.find_element_by_name(\"q\").click( )\n"
     ]
    }
   ],
   "source": [
    "# 3. 구글 사이트의 검색창에 \"서진수 빅데이터\" 키워드를 입력한 후 검색을 실행하도록 코드를 작성하세요.\n",
    "\n",
    "#Step 1. 필요한 모듈을 로딩합니다\n",
    "from selenium import webdriver\n",
    "import time          \n",
    "\n",
    "#Step 2. 사용자에게 검색 관련 정보들을 입력 받습니다.\n",
    "print(\"=\" *100)\n",
    "print(\" 이 크롤러는 구글 서진수 빅데이터 웹크롤러입니다.\")\n",
    "print(\"=\" *100)\n",
    "query_txt = input('1. 수집할 자료의 키워드는 무엇입니까?(여러개일 경우 , 로 구분하여 입력): ')\n",
    "#query_txt = '해양자원,도시재생'\n",
    "print(\"\\n\")\n",
    "\n",
    "#Step 3. 크롬 드라이버 설정 및 웹 페이지 열기\n",
    "chrome_path = \"C:\\chromedriver.exe\"\n",
    "driver = webdriver.Chrome(chrome_path)\n",
    "\n",
    "url = 'http://www.google.com' # https:// 반드시 써주기\n",
    "driver.get(url)\n",
    "time.sleep(3) # 페이지가 안 열렸는데 검색을 하면 오류를 띄운다. 그래서 인터넷 속도에 따라 기다리는 시간을 준다.\n",
    "driver.maximize_window()\n",
    "\n",
    "#Step 4. 자동으로 검색어 입력 후 조회하기\n",
    "# element : 웹 페이지 구성요소 / id, name, xpath 중 하나로 element 찾음\n",
    "element = driver.find_element_by_name(\"q\") # id를 중심으로 찾아라. xpath 사용 시에는 안에 \"가 있는 경우가 있어서 ''로 써야한다.\n",
    "driver.find_element_by_name(\"q\").click( )\n",
    "element.send_keys(query_txt) # typing 해라.\n",
    "element.send_keys(\"\\n\") # enter 입력"
   ]
  },
  {
   "cell_type": "code",
   "execution_count": 29,
   "metadata": {
    "scrolled": true
   },
   "outputs": [
    {
     "name": "stdout",
     "output_type": "stream",
     "text": [
      "====================================================================================================\n",
      " 이 크롤러는 대한민국 구석구석 사이트 제주도 빅데이터 웹크롤러입니다.\n",
      "====================================================================================================\n",
      "1. 수집할 자료의 키워드는 무엇입니까?(여러개일 경우 , 로 구분하여 입력): 제주도\n",
      "\n",
      "\n"
     ]
    },
    {
     "name": "stderr",
     "output_type": "stream",
     "text": [
      "<ipython-input-29-c7f0a847bc22>:17: DeprecationWarning: executable_path has been deprecated, please pass in a Service object\n",
      "  driver = webdriver.Chrome(chrome_path)\n",
      "<ipython-input-29-c7f0a847bc22>:26: DeprecationWarning: find_element_by_* commands are deprecated. Please use find_element() instead\n",
      "  element = driver.find_element_by_id(\"inp_search\") # id를 중심으로 찾아라. xpath 사용 시에는 안에 \"가 있는 경우가 있어서 ''로 써야한다.\n",
      "<ipython-input-29-c7f0a847bc22>:27: DeprecationWarning: find_element_by_* commands are deprecated. Please use find_element() instead\n",
      "  driver.find_element_by_id(\"inp_search\").click( )\n"
     ]
    }
   ],
   "source": [
    "# 4. 대한민국 구석구석 사이트 \"제주도\" 키워드를 입력한 후 검색을 실행하도록 코드를 작성하세요.\n",
    "\n",
    "#Step 1. 필요한 모듈을 로딩합니다\n",
    "from selenium import webdriver\n",
    "import time          \n",
    "\n",
    "#Step 2. 사용자에게 검색 관련 정보들을 입력 받습니다.\n",
    "print(\"=\" *100)\n",
    "print(\" 이 크롤러는 대한민국 구석구석 사이트 제주도 빅데이터 웹크롤러입니다.\")\n",
    "print(\"=\" *100)\n",
    "query_txt = input('1. 수집할 자료의 키워드는 무엇입니까?(여러개일 경우 , 로 구분하여 입력): ')\n",
    "#query_txt = '해양자원,도시재생'\n",
    "print(\"\\n\")\n",
    "\n",
    "#Step 3. 크롬 드라이버 설정 및 웹 페이지 열기\n",
    "chrome_path = \"C:\\chromedriver.exe\"\n",
    "driver = webdriver.Chrome(chrome_path)\n",
    "driver.maximize_window()\n",
    "\n",
    "url = 'https://korean.visitkorea.or.kr/' # https:// 반드시 써주기\n",
    "driver.get(url)\n",
    "time.sleep(3) # 페이지가 안 열렸는데 검색을 하면 오류를 띄운다. 그래서 인터넷 속도에 따라 기다리는 시간을 준다.\n",
    "\n",
    "#Step 4. 자동으로 검색어 입력 후 조회하기\n",
    "# element : 웹 페이지 구성요소 / id, name, xpath 중 하나로 element 찾음\n",
    "element = driver.find_element_by_id(\"inp_search\") # id를 중심으로 찾아라. xpath 사용 시에는 안에 \"가 있는 경우가 있어서 ''로 써야한다.\n",
    "driver.find_element_by_id(\"inp_search\").click( )\n",
    "element.send_keys(query_txt) # typing 해라.\n",
    "element.send_keys(\"\\n\") # enter 입력"
   ]
  },
  {
   "cell_type": "code",
   "execution_count": 23,
   "metadata": {},
   "outputs": [
    {
     "name": "stdout",
     "output_type": "stream",
     "text": [
      "====================================================================================================\n",
      " 이 크롤러는 대한항공 제주도 빅데이터 웹크롤러입니다.\n",
      "====================================================================================================\n",
      "1. 수집할 자료의 키워드는 무엇입니까?(여러개일 경우 , 로 구분하여 입력): 제주도\n",
      "\n",
      "\n"
     ]
    },
    {
     "name": "stderr",
     "output_type": "stream",
     "text": [
      "<ipython-input-23-8a713357268a>:16: DeprecationWarning: executable_path has been deprecated, please pass in a Service object\n",
      "  driver = webdriver.Chrome(chrome_path)\n",
      "<ipython-input-23-8a713357268a>:25: DeprecationWarning: find_element_by_* commands are deprecated. Please use find_element() instead\n",
      "  driver.find_element_by_id(\"search-btn\").click( )\n",
      "<ipython-input-23-8a713357268a>:26: DeprecationWarning: find_element_by_* commands are deprecated. Please use find_element() instead\n",
      "  driver.find_element_by_id('placeholder-search').click( )\n",
      "<ipython-input-23-8a713357268a>:27: DeprecationWarning: find_element_by_* commands are deprecated. Please use find_element() instead\n",
      "  element = driver.find_element_by_id('popover1__search')\n"
     ]
    }
   ],
   "source": [
    "# 5. 대한항공 홈페이지에 자동 접속하여 오른쪽 상단의 돋보기 버튼을 클릭하여 \"제주도\" 키워드를 입력하여 자동 검색하도록 코드를 작성하세요.\n",
    "\n",
    "#Step 1. 필요한 모듈을 로딩합니다\n",
    "from selenium import webdriver\n",
    "import time          \n",
    "\n",
    "#Step 2. 사용자에게 검색 관련 정보들을 입력 받습니다.\n",
    "print(\"=\" *100)\n",
    "print(\" 이 크롤러는 대한항공 제주도 빅데이터 웹크롤러입니다.\")\n",
    "print(\"=\" *100)\n",
    "query_txt = input('1. 수집할 자료의 키워드는 무엇입니까?(여러개일 경우 , 로 구분하여 입력): ')\n",
    "#query_txt = '해양자원,도시재생'\n",
    "print(\"\\n\")\n",
    "\n",
    "#Step 3. 크롬 드라이버 설정 및 웹 페이지 열기\n",
    "chrome_path = \"C:\\chromedriver.exe\"\n",
    "driver = webdriver.Chrome(chrome_path)\n",
    "driver.maximize_window()\n",
    "\n",
    "url = 'https://www.koreanair.com/' # https:// 반드시 써주기\n",
    "driver.get(url)\n",
    "time.sleep(3) # 페이지가 안 열렸는데 검색을 하면 오류를 띄운다. 그래서 인터넷 속도에 따라 기다리는 시간을 준다.\n",
    "\n",
    "#Step 4. 자동으로 검색어 입력 후 조회하기\n",
    "# element : 웹 페이지 구성요소 / id, name, xpath 중 하나로 element 찾음\n",
    "driver.find_element_by_id(\"search-btn\").click( )\n",
    "driver.find_element_by_id('placeholder-search').click( )\n",
    "element = driver.find_element_by_id('popover1__search')\n",
    "element.send_keys(query_txt) # typing 해라.\n",
    "element.send_keys('\\n')"
   ]
  },
  {
   "cell_type": "code",
   "execution_count": 36,
   "metadata": {},
   "outputs": [
    {
     "name": "stdout",
     "output_type": "stream",
     "text": [
      "====================================================================================================\n",
      " 이 크롤러는 가천대학교 장학금 빅데이터 웹크롤러입니다.\n",
      "====================================================================================================\n",
      "1. 수집할 자료의 키워드는 무엇입니까?(여러개일 경우 , 로 구분하여 입력): 장학금\n",
      "\n",
      "\n"
     ]
    },
    {
     "name": "stderr",
     "output_type": "stream",
     "text": [
      "<ipython-input-36-9151f7ec081b>:19: DeprecationWarning: executable_path has been deprecated, please pass in a Service object\n",
      "  driver = webdriver.Chrome(chrome_path)\n",
      "<ipython-input-36-9151f7ec081b>:28: DeprecationWarning: find_element_by_* commands are deprecated. Please use find_element() instead\n",
      "  driver.find_element_by_id(\"onesignal-slidedown-cancel-button\").click( )\n",
      "<ipython-input-36-9151f7ec081b>:29: DeprecationWarning: find_element_by_xpath is deprecated. Please use find_element(by=By.XPATH, value=xpath) instead\n",
      "  driver.find_element_by_xpath(\"/html/body/div[4]/div[1]/div[3]/ul/li[5]/button[1]\").click( )\n",
      "<ipython-input-36-9151f7ec081b>:30: DeprecationWarning: find_element_by_* commands are deprecated. Please use find_element() instead\n",
      "  element = driver.find_element_by_id('qt')\n"
     ]
    }
   ],
   "source": [
    "# 6. 가천대학교 홈페이지에 자동 접속하여 오른쪽 상단의 돋보기 버튼을 클릭하여 \"장학금\" 키워드를 입력하여 자동 검색하도록 코드를 작성하세요.\n",
    "\n",
    "#Step 1. 필요한 모듈을 로딩합니다\n",
    "from selenium import webdriver\n",
    "import time          \n",
    "\n",
    "#Step 2. 사용자에게 검색 관련 정보들을 입력 받습니다.\n",
    "print(\"=\" *100)\n",
    "print(\" 이 크롤러는 가천대학교 장학금 빅데이터 웹크롤러입니다.\")\n",
    "print(\"=\" *100)\n",
    "query_txt = input('1. 수집할 자료의 키워드는 무엇입니까?(여러개일 경우 , 로 구분하여 입력): ')\n",
    "#query_txt = '해양자원,도시재생'\n",
    "print(\"\\n\")\n",
    "\n",
    "\n",
    "\n",
    "#Step 3. 크롬 드라이버 설정 및 웹 페이지 열기\n",
    "chrome_path = \"C:\\chromedriver.exe\"\n",
    "driver = webdriver.Chrome(chrome_path)\n",
    "driver.maximize_window()\n",
    "\n",
    "url = 'https://www.gachon.ac.kr/' # https:// 반드시 써주기\n",
    "driver.get(url)\n",
    "time.sleep(3) # 페이지가 안 열렸는데 검색을 하면 오류를 띄운다. 그래서 인터넷 속도에 따라 기다리는 시간을 준다.\n",
    "\n",
    "#Step 4. 자동으로 검색어 입력 후 조회하기\n",
    "# element : 웹 페이지 구성요소 / id, name, xpath 중 하나로 element 찾음\n",
    "driver.find_element_by_id(\"onesignal-slidedown-cancel-button\").click( )\n",
    "driver.find_element_by_xpath(\"/html/body/div[4]/div[1]/div[3]/ul/li[5]/button[1]\").click( )\n",
    "element = driver.find_element_by_id('qt')\n",
    "element.send_keys(query_txt) # typing 해라.\n",
    "element.send_keys('\\n')"
   ]
  },
  {
   "cell_type": "code",
   "execution_count": 35,
   "metadata": {},
   "outputs": [
    {
     "name": "stdout",
     "output_type": "stream",
     "text": [
      "====================================================================================================\n",
      " 이 크롤러는 서울대학교 장학금 빅데이터 웹크롤러입니다.\n",
      "====================================================================================================\n",
      "1. 수집할 자료의 키워드는 무엇입니까?(여러개일 경우 , 로 구분하여 입력): 장학금\n",
      "\n",
      "\n"
     ]
    },
    {
     "name": "stderr",
     "output_type": "stream",
     "text": [
      "<ipython-input-35-48e537a24a84>:17: DeprecationWarning: executable_path has been deprecated, please pass in a Service object\n",
      "  driver = webdriver.Chrome(chrome_path)\n",
      "<ipython-input-35-48e537a24a84>:26: DeprecationWarning: find_element_by_xpath is deprecated. Please use find_element(by=By.XPATH, value=xpath) instead\n",
      "  driver.find_element_by_xpath(\"/html/body/header/div/div/div/div[1]/div/div[1]/a\").click( )\n",
      "<ipython-input-35-48e537a24a84>:27: DeprecationWarning: find_element_by_* commands are deprecated. Please use find_element() instead\n",
      "  element = driver.find_element_by_id('search2')\n"
     ]
    }
   ],
   "source": [
    "# 7. 서울대학교 홈페이지에 자동 접속하여 왼쪽 아래부분의 돋보기 버튼을 클릭하여 \"장학금\" 키워드를 입력하여 자동 검색하도록 코드를 작성하세요.\n",
    "\n",
    "#Step 1. 필요한 모듈을 로딩합니다\n",
    "from selenium import webdriver\n",
    "import time          \n",
    "\n",
    "#Step 2. 사용자에게 검색 관련 정보들을 입력 받습니다.\n",
    "print(\"=\" *100)\n",
    "print(\" 이 크롤러는 서울대학교 장학금 빅데이터 웹크롤러입니다.\")\n",
    "print(\"=\" *100)\n",
    "query_txt = input('1. 수집할 자료의 키워드는 무엇입니까?(여러개일 경우 , 로 구분하여 입력): ')\n",
    "#query_txt = '해양자원,도시재생'\n",
    "print(\"\\n\")\n",
    "\n",
    "#Step 3. 크롬 드라이버 설정 및 웹 페이지 열기\n",
    "chrome_path = \"C:\\chromedriver.exe\"\n",
    "driver = webdriver.Chrome(chrome_path)\n",
    "driver.maximize_window()\n",
    "\n",
    "url = 'https://www.snu.ac.kr/' # https:// 반드시 써주기\n",
    "driver.get(url)\n",
    "time.sleep(3) # 페이지가 안 열렸는데 검색을 하면 오류를 띄운다. 그래서 인터넷 속도에 따라 기다리는 시간을 준다.\n",
    "\n",
    "#Step 4. 자동으로 검색어 입력 후 조회하기\n",
    "# element : 웹 페이지 구성요소 / id, name, xpath 중 하나로 element 찾음\n",
    "driver.find_element_by_xpath(\"/html/body/header/div/div/div/div[1]/div/div[1]/a\").click( )\n",
    "element = driver.find_element_by_id('search2')\n",
    "element.send_keys(query_txt) # typing 해라.\n",
    "element.send_keys('\\n')"
   ]
  }
 ],
 "metadata": {
  "kernelspec": {
   "display_name": "Python 3",
   "language": "python",
   "name": "python3"
  },
  "language_info": {
   "codemirror_mode": {
    "name": "ipython",
    "version": 3
   },
   "file_extension": ".py",
   "mimetype": "text/x-python",
   "name": "python",
   "nbconvert_exporter": "python",
   "pygments_lexer": "ipython3",
   "version": "3.8.5"
  }
 },
 "nbformat": 4,
 "nbformat_minor": 2
}
