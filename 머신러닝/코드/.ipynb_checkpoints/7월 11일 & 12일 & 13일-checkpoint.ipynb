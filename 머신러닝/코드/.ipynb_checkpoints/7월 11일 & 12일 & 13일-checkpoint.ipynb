{
 "cells": [
  {
   "cell_type": "markdown",
   "id": "2439e5ae",
   "metadata": {},
   "source": [
    "# 데이터 수집"
   ]
  },
  {
   "cell_type": "code",
   "execution_count": 8,
   "id": "7e8e57e4",
   "metadata": {},
   "outputs": [],
   "source": [
    "import numpy as np\n",
    "import pandas as pd\n",
    "import matplotlib.pyplot as plt\n",
    "import seaborn as sns"
   ]
  },
  {
   "cell_type": "code",
   "execution_count": 9,
   "id": "4fd969a5",
   "metadata": {},
   "outputs": [],
   "source": [
    "df = sns.load_dataset('titanic')"
   ]
  },
  {
   "cell_type": "code",
   "execution_count": 10,
   "id": "5cf2877b",
   "metadata": {},
   "outputs": [
    {
     "name": "stdout",
     "output_type": "stream",
     "text": [
      "<class 'pandas.core.frame.DataFrame'>\n",
      "(891, 15)\n",
      "Index(['survived', 'pclass', 'sex', 'age', 'sibsp', 'parch', 'fare',\n",
      "       'embarked', 'class', 'who', 'adult_male', 'deck', 'embark_town',\n",
      "       'alive', 'alone'],\n",
      "      dtype='object')\n"
     ]
    }
   ],
   "source": [
    "print(type(df))\n",
    "print(df.shape) # 15 차원의 891개 데이터\n",
    "print(df.columns) # sibsp : 형제 / 배우자의 수, parch : 부모 / 자녀의 수, embarked : 탑승항, deck : 객실번호"
   ]
  },
  {
   "cell_type": "code",
   "execution_count": 11,
   "id": "5a1d8677",
   "metadata": {},
   "outputs": [
    {
     "name": "stdout",
     "output_type": "stream",
     "text": [
      "<class 'pandas.core.frame.DataFrame'>\n",
      "RangeIndex: 891 entries, 0 to 890\n",
      "Data columns (total 15 columns):\n",
      " #   Column       Non-Null Count  Dtype   \n",
      "---  ------       --------------  -----   \n",
      " 0   survived     891 non-null    int64   \n",
      " 1   pclass       891 non-null    int64   \n",
      " 2   sex          891 non-null    object  \n",
      " 3   age          714 non-null    float64 \n",
      " 4   sibsp        891 non-null    int64   \n",
      " 5   parch        891 non-null    int64   \n",
      " 6   fare         891 non-null    float64 \n",
      " 7   embarked     889 non-null    object  \n",
      " 8   class        891 non-null    category\n",
      " 9   who          891 non-null    object  \n",
      " 10  adult_male   891 non-null    bool    \n",
      " 11  deck         203 non-null    category\n",
      " 12  embark_town  889 non-null    object  \n",
      " 13  alive        891 non-null    object  \n",
      " 14  alone        891 non-null    bool    \n",
      "dtypes: bool(2), category(2), float64(2), int64(4), object(5)\n",
      "memory usage: 80.6+ KB\n"
     ]
    }
   ],
   "source": [
    "df.info()"
   ]
  },
  {
   "cell_type": "code",
   "execution_count": 12,
   "id": "5e8fa6a3",
   "metadata": {},
   "outputs": [
    {
     "data": {
      "text/html": [
       "<div>\n",
       "<style scoped>\n",
       "    .dataframe tbody tr th:only-of-type {\n",
       "        vertical-align: middle;\n",
       "    }\n",
       "\n",
       "    .dataframe tbody tr th {\n",
       "        vertical-align: top;\n",
       "    }\n",
       "\n",
       "    .dataframe thead th {\n",
       "        text-align: right;\n",
       "    }\n",
       "</style>\n",
       "<table border=\"1\" class=\"dataframe\">\n",
       "  <thead>\n",
       "    <tr style=\"text-align: right;\">\n",
       "      <th></th>\n",
       "      <th>survived</th>\n",
       "      <th>pclass</th>\n",
       "      <th>age</th>\n",
       "      <th>sibsp</th>\n",
       "      <th>parch</th>\n",
       "      <th>fare</th>\n",
       "    </tr>\n",
       "  </thead>\n",
       "  <tbody>\n",
       "    <tr>\n",
       "      <th>count</th>\n",
       "      <td>891.000000</td>\n",
       "      <td>891.000000</td>\n",
       "      <td>714.000000</td>\n",
       "      <td>891.000000</td>\n",
       "      <td>891.000000</td>\n",
       "      <td>891.000000</td>\n",
       "    </tr>\n",
       "    <tr>\n",
       "      <th>mean</th>\n",
       "      <td>0.383838</td>\n",
       "      <td>2.308642</td>\n",
       "      <td>29.699118</td>\n",
       "      <td>0.523008</td>\n",
       "      <td>0.381594</td>\n",
       "      <td>32.204208</td>\n",
       "    </tr>\n",
       "    <tr>\n",
       "      <th>std</th>\n",
       "      <td>0.486592</td>\n",
       "      <td>0.836071</td>\n",
       "      <td>14.526497</td>\n",
       "      <td>1.102743</td>\n",
       "      <td>0.806057</td>\n",
       "      <td>49.693429</td>\n",
       "    </tr>\n",
       "    <tr>\n",
       "      <th>min</th>\n",
       "      <td>0.000000</td>\n",
       "      <td>1.000000</td>\n",
       "      <td>0.420000</td>\n",
       "      <td>0.000000</td>\n",
       "      <td>0.000000</td>\n",
       "      <td>0.000000</td>\n",
       "    </tr>\n",
       "    <tr>\n",
       "      <th>25%</th>\n",
       "      <td>0.000000</td>\n",
       "      <td>2.000000</td>\n",
       "      <td>20.125000</td>\n",
       "      <td>0.000000</td>\n",
       "      <td>0.000000</td>\n",
       "      <td>7.910400</td>\n",
       "    </tr>\n",
       "    <tr>\n",
       "      <th>50%</th>\n",
       "      <td>0.000000</td>\n",
       "      <td>3.000000</td>\n",
       "      <td>28.000000</td>\n",
       "      <td>0.000000</td>\n",
       "      <td>0.000000</td>\n",
       "      <td>14.454200</td>\n",
       "    </tr>\n",
       "    <tr>\n",
       "      <th>75%</th>\n",
       "      <td>1.000000</td>\n",
       "      <td>3.000000</td>\n",
       "      <td>38.000000</td>\n",
       "      <td>1.000000</td>\n",
       "      <td>0.000000</td>\n",
       "      <td>31.000000</td>\n",
       "    </tr>\n",
       "    <tr>\n",
       "      <th>max</th>\n",
       "      <td>1.000000</td>\n",
       "      <td>3.000000</td>\n",
       "      <td>80.000000</td>\n",
       "      <td>8.000000</td>\n",
       "      <td>6.000000</td>\n",
       "      <td>512.329200</td>\n",
       "    </tr>\n",
       "  </tbody>\n",
       "</table>\n",
       "</div>"
      ],
      "text/plain": [
       "         survived      pclass         age       sibsp       parch        fare\n",
       "count  891.000000  891.000000  714.000000  891.000000  891.000000  891.000000\n",
       "mean     0.383838    2.308642   29.699118    0.523008    0.381594   32.204208\n",
       "std      0.486592    0.836071   14.526497    1.102743    0.806057   49.693429\n",
       "min      0.000000    1.000000    0.420000    0.000000    0.000000    0.000000\n",
       "25%      0.000000    2.000000   20.125000    0.000000    0.000000    7.910400\n",
       "50%      0.000000    3.000000   28.000000    0.000000    0.000000   14.454200\n",
       "75%      1.000000    3.000000   38.000000    1.000000    0.000000   31.000000\n",
       "max      1.000000    3.000000   80.000000    8.000000    6.000000  512.329200"
      ]
     },
     "execution_count": 12,
     "metadata": {},
     "output_type": "execute_result"
    }
   ],
   "source": [
    "df.describe() # 수치값들의 특징을 볼 수 있다."
   ]
  },
  {
   "cell_type": "code",
   "execution_count": 13,
   "id": "f355a8ae",
   "metadata": {},
   "outputs": [
    {
     "data": {
      "text/plain": [
       "survived         0\n",
       "pclass           0\n",
       "sex              0\n",
       "age            177\n",
       "sibsp            0\n",
       "parch            0\n",
       "fare             0\n",
       "embarked         2\n",
       "class            0\n",
       "who              0\n",
       "adult_male       0\n",
       "deck           688\n",
       "embark_town      2\n",
       "alive            0\n",
       "alone            0\n",
       "dtype: int64"
      ]
     },
     "execution_count": 13,
     "metadata": {},
     "output_type": "execute_result"
    }
   ],
   "source": [
    "df.isna().sum()"
   ]
  },
  {
   "cell_type": "code",
   "execution_count": 14,
   "id": "c58532c7",
   "metadata": {},
   "outputs": [
    {
     "data": {
      "text/plain": [
       "3    491\n",
       "1    216\n",
       "2    184\n",
       "Name: pclass, dtype: int64"
      ]
     },
     "execution_count": 14,
     "metadata": {},
     "output_type": "execute_result"
    }
   ],
   "source": [
    "# 선택적 데이터 살피기\n",
    "df.pclass.value_counts()"
   ]
  },
  {
   "cell_type": "code",
   "execution_count": 15,
   "id": "02e07208",
   "metadata": {},
   "outputs": [
    {
     "data": {
      "text/plain": [
       "<AxesSubplot:>"
      ]
     },
     "execution_count": 15,
     "metadata": {},
     "output_type": "execute_result"
    },
    {
     "data": {
      "image/png": "[encoded data removed]",
      "text/plain": [
       "<Figure size 432x288 with 1 Axes>"
      ]
     },
     "metadata": {
      "needs_background": "light"
     },
     "output_type": "display_data"
    }
   ],
   "source": [
    "df.pclass.value_counts().plot(kind='bar')"
   ]
  },
  {
   "cell_type": "code",
   "execution_count": 16,
   "id": "4c95222b",
   "metadata": {},
   "outputs": [
    {
     "data": {
      "text/plain": [
       "male      577\n",
       "female    314\n",
       "Name: sex, dtype: int64"
      ]
     },
     "execution_count": 16,
     "metadata": {},
     "output_type": "execute_result"
    }
   ],
   "source": [
    "df.sex.value_counts()"
   ]
  },
  {
   "cell_type": "code",
   "execution_count": 17,
   "id": "4ee7bf83",
   "metadata": {},
   "outputs": [
    {
     "data": {
      "text/plain": [
       "<AxesSubplot:>"
      ]
     },
     "execution_count": 17,
     "metadata": {},
     "output_type": "execute_result"
    },
    {
     "data": {
      "image/png": "[encoded data removed]",
      "text/plain": [
       "<Figure size 432x288 with 1 Axes>"
      ]
     },
     "metadata": {
      "needs_background": "light"
     },
     "output_type": "display_data"
    }
   ],
   "source": [
    "df.sex.value_counts().plot(kind = 'bar')"
   ]
  },
  {
   "cell_type": "code",
   "execution_count": 18,
   "id": "8f742a62",
   "metadata": {},
   "outputs": [
    {
     "data": {
      "text/plain": [
       "<AxesSubplot:ylabel='Frequency'>"
      ]
     },
     "execution_count": 18,
     "metadata": {},
     "output_type": "execute_result"
    },
    {
     "data": {
      "image/png": "[encoded data removed]",
      "text/plain": [
       "<Figure size 432x288 with 1 Axes>"
      ]
     },
     "metadata": {
      "needs_background": "light"
     },
     "output_type": "display_data"
    }
   ],
   "source": [
    "df.age.plot(kind='hist', bins = 20)"
   ]
  },
  {
   "cell_type": "markdown",
   "id": "7563f5af",
   "metadata": {},
   "source": [
    "# 데이터 전처리 1"
   ]
  },
  {
   "cell_type": "markdown",
   "id": "04780528",
   "metadata": {},
   "source": [
    "## embarked"
   ]
  },
  {
   "cell_type": "code",
   "execution_count": 19,
   "id": "20924ca8",
   "metadata": {},
   "outputs": [],
   "source": [
    "df = df.drop(['embark_town'], axis = 1) # default는 axis = 0"
   ]
  },
  {
   "cell_type": "code",
   "execution_count": 20,
   "id": "fd601469",
   "metadata": {},
   "outputs": [
    {
     "name": "stdout",
     "output_type": "stream",
     "text": [
      "<class 'pandas.core.frame.DataFrame'>\n",
      "RangeIndex: 891 entries, 0 to 890\n",
      "Data columns (total 14 columns):\n",
      " #   Column      Non-Null Count  Dtype   \n",
      "---  ------      --------------  -----   \n",
      " 0   survived    891 non-null    int64   \n",
      " 1   pclass      891 non-null    int64   \n",
      " 2   sex         891 non-null    object  \n",
      " 3   age         714 non-null    float64 \n",
      " 4   sibsp       891 non-null    int64   \n",
      " 5   parch       891 non-null    int64   \n",
      " 6   fare        891 non-null    float64 \n",
      " 7   embarked    889 non-null    object  \n",
      " 8   class       891 non-null    category\n",
      " 9   who         891 non-null    object  \n",
      " 10  adult_male  891 non-null    bool    \n",
      " 11  deck        203 non-null    category\n",
      " 12  alive       891 non-null    object  \n",
      " 13  alone       891 non-null    bool    \n",
      "dtypes: bool(2), category(2), float64(2), int64(4), object(4)\n",
      "memory usage: 73.7+ KB\n"
     ]
    }
   ],
   "source": [
    "df.info()"
   ]
  },
  {
   "cell_type": "code",
   "execution_count": 21,
   "id": "1a88040b",
   "metadata": {},
   "outputs": [],
   "source": [
    "df.embarked.fillna('S', inplace = True)"
   ]
  },
  {
   "cell_type": "code",
   "execution_count": 22,
   "id": "9957858a",
   "metadata": {},
   "outputs": [
    {
     "data": {
      "text/plain": [
       "survived        0\n",
       "pclass          0\n",
       "sex             0\n",
       "age           177\n",
       "sibsp           0\n",
       "parch           0\n",
       "fare            0\n",
       "embarked        0\n",
       "class           0\n",
       "who             0\n",
       "adult_male      0\n",
       "deck          688\n",
       "alive           0\n",
       "alone           0\n",
       "dtype: int64"
      ]
     },
     "execution_count": 22,
     "metadata": {},
     "output_type": "execute_result"
    }
   ],
   "source": [
    "df.isna().sum()"
   ]
  },
  {
   "cell_type": "markdown",
   "id": "b90870d3",
   "metadata": {},
   "source": [
    "## age"
   ]
  },
  {
   "cell_type": "code",
   "execution_count": 23,
   "id": "94f925e4",
   "metadata": {},
   "outputs": [
    {
     "data": {
      "text/plain": [
       "count    714.000000\n",
       "mean      29.699118\n",
       "std       14.526497\n",
       "min        0.420000\n",
       "25%       20.125000\n",
       "50%       28.000000\n",
       "75%       38.000000\n",
       "max       80.000000\n",
       "Name: age, dtype: float64"
      ]
     },
     "execution_count": 23,
     "metadata": {},
     "output_type": "execute_result"
    }
   ],
   "source": [
    "df.age.describe()"
   ]
  },
  {
   "cell_type": "code",
   "execution_count": 24,
   "id": "5f8cc23f",
   "metadata": {},
   "outputs": [],
   "source": [
    "groupded = df.groupby(by=[\"sex\", \"pclass\"])"
   ]
  },
  {
   "cell_type": "code",
   "execution_count": 25,
   "id": "fb46aa61",
   "metadata": {},
   "outputs": [
    {
     "data": {
      "text/html": [
       "<div>\n",
       "<style scoped>\n",
       "    .dataframe tbody tr th:only-of-type {\n",
       "        vertical-align: middle;\n",
       "    }\n",
       "\n",
       "    .dataframe tbody tr th {\n",
       "        vertical-align: top;\n",
       "    }\n",
       "\n",
       "    .dataframe thead th {\n",
       "        text-align: right;\n",
       "    }\n",
       "</style>\n",
       "<table border=\"1\" class=\"dataframe\">\n",
       "  <thead>\n",
       "    <tr style=\"text-align: right;\">\n",
       "      <th>pclass</th>\n",
       "      <th>1</th>\n",
       "      <th>2</th>\n",
       "      <th>3</th>\n",
       "    </tr>\n",
       "    <tr>\n",
       "      <th>sex</th>\n",
       "      <th></th>\n",
       "      <th></th>\n",
       "      <th></th>\n",
       "    </tr>\n",
       "  </thead>\n",
       "  <tbody>\n",
       "    <tr>\n",
       "      <th>female</th>\n",
       "      <td>35.0</td>\n",
       "      <td>28.0</td>\n",
       "      <td>21.5</td>\n",
       "    </tr>\n",
       "    <tr>\n",
       "      <th>male</th>\n",
       "      <td>40.0</td>\n",
       "      <td>30.0</td>\n",
       "      <td>25.0</td>\n",
       "    </tr>\n",
       "  </tbody>\n",
       "</table>\n",
       "</div>"
      ],
      "text/plain": [
       "pclass     1     2     3\n",
       "sex                     \n",
       "female  35.0  28.0  21.5\n",
       "male    40.0  30.0  25.0"
      ]
     },
     "execution_count": 25,
     "metadata": {},
     "output_type": "execute_result"
    }
   ],
   "source": [
    "groupded.age.median().unstack() # 출력된 값을 저장하면 df.iloc으로 값을 가져올 수 있다."
   ]
  },
  {
   "cell_type": "code",
   "execution_count": 26,
   "id": "4955876d",
   "metadata": {},
   "outputs": [],
   "source": [
    "# df[(df.sex == 'male') & (df.pclass == 1)].age.fillna(40.0, inplace=True) : 슬라이싱했기 때문에 update가 안됨\n",
    "# df[(df.sex == 'male') & (df.pclass == 1) & (df.age.isna())].age = 40.0 : 이것도 안됨\n",
    "# 필터링 Update 때는 loc 사용 필수\n",
    "df.loc[(df.sex == 'male') & (df.pclass == 1) & (df.age.isna()), \"age\"] = 40.0\n",
    "df.loc[(df.sex == 'female') & (df.pclass == 1) & (df.age.isna()), \"age\"] = 35.0\n",
    "df.loc[(df.sex == 'male') & (df.pclass == 2) & (df.age.isna()), \"age\"] = 30.0\n",
    "df.loc[(df.sex == 'female') & (df.pclass == 2) & (df.age.isna()), \"age\"] = 28.0\n",
    "df.loc[(df.sex == 'male') & (df.pclass == 3) & (df.age.isna()), \"age\"] = 25.0\n",
    "df.loc[(df.sex == 'female') & (df.pclass == 3) & (df.age.isna()), \"age\"] = 21.5"
   ]
  },
  {
   "cell_type": "code",
   "execution_count": 27,
   "id": "62bb3887",
   "metadata": {},
   "outputs": [
    {
     "data": {
      "text/plain": [
       "survived        0\n",
       "pclass          0\n",
       "sex             0\n",
       "age             0\n",
       "sibsp           0\n",
       "parch           0\n",
       "fare            0\n",
       "embarked        0\n",
       "class           0\n",
       "who             0\n",
       "adult_male      0\n",
       "deck          688\n",
       "alive           0\n",
       "alone           0\n",
       "dtype: int64"
      ]
     },
     "execution_count": 27,
     "metadata": {},
     "output_type": "execute_result"
    }
   ],
   "source": [
    "df.isna().sum()"
   ]
  },
  {
   "cell_type": "markdown",
   "id": "070e5ffd",
   "metadata": {},
   "source": [
    "## deck"
   ]
  },
  {
   "cell_type": "code",
   "execution_count": 28,
   "id": "7c59afd6",
   "metadata": {},
   "outputs": [],
   "source": [
    "df.drop(columns='deck', inplace=True)"
   ]
  },
  {
   "cell_type": "code",
   "execution_count": 29,
   "id": "a6ff2789",
   "metadata": {},
   "outputs": [
    {
     "data": {
      "text/plain": [
       "survived      0\n",
       "pclass        0\n",
       "sex           0\n",
       "age           0\n",
       "sibsp         0\n",
       "parch         0\n",
       "fare          0\n",
       "embarked      0\n",
       "class         0\n",
       "who           0\n",
       "adult_male    0\n",
       "alive         0\n",
       "alone         0\n",
       "dtype: int64"
      ]
     },
     "execution_count": 29,
     "metadata": {},
     "output_type": "execute_result"
    }
   ],
   "source": [
    "df.isna().sum()"
   ]
  },
  {
   "cell_type": "markdown",
   "id": "22c95765",
   "metadata": {},
   "source": [
    "# 데이터 전처리 2"
   ]
  },
  {
   "cell_type": "code",
   "execution_count": 30,
   "id": "50dafffa",
   "metadata": {},
   "outputs": [],
   "source": [
    "df1 = sns.load_dataset('titanic')"
   ]
  },
  {
   "cell_type": "code",
   "execution_count": 31,
   "id": "9fe8d78e",
   "metadata": {},
   "outputs": [
    {
     "name": "stdout",
     "output_type": "stream",
     "text": [
      "<class 'pandas.core.frame.DataFrame'>\n",
      "RangeIndex: 891 entries, 0 to 890\n",
      "Data columns (total 15 columns):\n",
      " #   Column       Non-Null Count  Dtype   \n",
      "---  ------       --------------  -----   \n",
      " 0   survived     891 non-null    int64   \n",
      " 1   pclass       891 non-null    int64   \n",
      " 2   sex          891 non-null    object  \n",
      " 3   age          714 non-null    float64 \n",
      " 4   sibsp        891 non-null    int64   \n",
      " 5   parch        891 non-null    int64   \n",
      " 6   fare         891 non-null    float64 \n",
      " 7   embarked     889 non-null    object  \n",
      " 8   class        891 non-null    category\n",
      " 9   who          891 non-null    object  \n",
      " 10  adult_male   891 non-null    bool    \n",
      " 11  deck         203 non-null    category\n",
      " 12  embark_town  889 non-null    object  \n",
      " 13  alive        891 non-null    object  \n",
      " 14  alone        891 non-null    bool    \n",
      "dtypes: bool(2), category(2), float64(2), int64(4), object(5)\n",
      "memory usage: 80.6+ KB\n"
     ]
    }
   ],
   "source": [
    "df1.info()"
   ]
  },
  {
   "cell_type": "markdown",
   "id": "a3baf06e",
   "metadata": {},
   "source": [
    "## embark_town"
   ]
  },
  {
   "cell_type": "code",
   "execution_count": 32,
   "id": "1d31a062",
   "metadata": {},
   "outputs": [],
   "source": [
    "df1 = df1.drop('embark_town', axis = 1)"
   ]
  },
  {
   "cell_type": "code",
   "execution_count": 33,
   "id": "834856e7",
   "metadata": {},
   "outputs": [
    {
     "name": "stdout",
     "output_type": "stream",
     "text": [
      "<class 'pandas.core.frame.DataFrame'>\n",
      "RangeIndex: 891 entries, 0 to 890\n",
      "Data columns (total 14 columns):\n",
      " #   Column      Non-Null Count  Dtype   \n",
      "---  ------      --------------  -----   \n",
      " 0   survived    891 non-null    int64   \n",
      " 1   pclass      891 non-null    int64   \n",
      " 2   sex         891 non-null    object  \n",
      " 3   age         714 non-null    float64 \n",
      " 4   sibsp       891 non-null    int64   \n",
      " 5   parch       891 non-null    int64   \n",
      " 6   fare        891 non-null    float64 \n",
      " 7   embarked    889 non-null    object  \n",
      " 8   class       891 non-null    category\n",
      " 9   who         891 non-null    object  \n",
      " 10  adult_male  891 non-null    bool    \n",
      " 11  deck        203 non-null    category\n",
      " 12  alive       891 non-null    object  \n",
      " 13  alone       891 non-null    bool    \n",
      "dtypes: bool(2), category(2), float64(2), int64(4), object(4)\n",
      "memory usage: 73.7+ KB\n"
     ]
    }
   ],
   "source": [
    "df1.info()"
   ]
  },
  {
   "cell_type": "markdown",
   "id": "5634d400",
   "metadata": {},
   "source": [
    "## age"
   ]
  },
  {
   "cell_type": "code",
   "execution_count": 34,
   "id": "ea8a493d",
   "metadata": {},
   "outputs": [],
   "source": [
    "df1.age.fillna(df1.age.mean(), inplace = True)"
   ]
  },
  {
   "cell_type": "code",
   "execution_count": 35,
   "id": "ae0217b0",
   "metadata": {},
   "outputs": [
    {
     "name": "stdout",
     "output_type": "stream",
     "text": [
      "<class 'pandas.core.frame.DataFrame'>\n",
      "RangeIndex: 891 entries, 0 to 890\n",
      "Data columns (total 14 columns):\n",
      " #   Column      Non-Null Count  Dtype   \n",
      "---  ------      --------------  -----   \n",
      " 0   survived    891 non-null    int64   \n",
      " 1   pclass      891 non-null    int64   \n",
      " 2   sex         891 non-null    object  \n",
      " 3   age         891 non-null    float64 \n",
      " 4   sibsp       891 non-null    int64   \n",
      " 5   parch       891 non-null    int64   \n",
      " 6   fare        891 non-null    float64 \n",
      " 7   embarked    889 non-null    object  \n",
      " 8   class       891 non-null    category\n",
      " 9   who         891 non-null    object  \n",
      " 10  adult_male  891 non-null    bool    \n",
      " 11  deck        203 non-null    category\n",
      " 12  alive       891 non-null    object  \n",
      " 13  alone       891 non-null    bool    \n",
      "dtypes: bool(2), category(2), float64(2), int64(4), object(4)\n",
      "memory usage: 73.7+ KB\n"
     ]
    }
   ],
   "source": [
    "df1.info()"
   ]
  },
  {
   "cell_type": "markdown",
   "id": "d1c19636",
   "metadata": {},
   "source": [
    "## embarked"
   ]
  },
  {
   "cell_type": "code",
   "execution_count": 36,
   "id": "f882541a",
   "metadata": {},
   "outputs": [],
   "source": [
    "df1.embarked.fillna('N', inplace = True)"
   ]
  },
  {
   "cell_type": "code",
   "execution_count": 37,
   "id": "2bbde482",
   "metadata": {},
   "outputs": [
    {
     "name": "stdout",
     "output_type": "stream",
     "text": [
      "<class 'pandas.core.frame.DataFrame'>\n",
      "RangeIndex: 891 entries, 0 to 890\n",
      "Data columns (total 14 columns):\n",
      " #   Column      Non-Null Count  Dtype   \n",
      "---  ------      --------------  -----   \n",
      " 0   survived    891 non-null    int64   \n",
      " 1   pclass      891 non-null    int64   \n",
      " 2   sex         891 non-null    object  \n",
      " 3   age         891 non-null    float64 \n",
      " 4   sibsp       891 non-null    int64   \n",
      " 5   parch       891 non-null    int64   \n",
      " 6   fare        891 non-null    float64 \n",
      " 7   embarked    891 non-null    object  \n",
      " 8   class       891 non-null    category\n",
      " 9   who         891 non-null    object  \n",
      " 10  adult_male  891 non-null    bool    \n",
      " 11  deck        203 non-null    category\n",
      " 12  alive       891 non-null    object  \n",
      " 13  alone       891 non-null    bool    \n",
      "dtypes: bool(2), category(2), float64(2), int64(4), object(4)\n",
      "memory usage: 73.7+ KB\n"
     ]
    }
   ],
   "source": [
    "df1.info()"
   ]
  },
  {
   "cell_type": "markdown",
   "id": "1b6a8cbd",
   "metadata": {},
   "source": [
    "## deck"
   ]
  },
  {
   "cell_type": "code",
   "execution_count": 38,
   "id": "51cb9c56",
   "metadata": {},
   "outputs": [],
   "source": [
    "# categories 타입을 object 타입으로 바꿔줘야 함\n",
    "df1.deck = df1.deck.astype(\"object\")"
   ]
  },
  {
   "cell_type": "code",
   "execution_count": 39,
   "id": "d13d95a1",
   "metadata": {},
   "outputs": [],
   "source": [
    "df1.deck.fillna('N', inplace = True)"
   ]
  },
  {
   "cell_type": "code",
   "execution_count": 40,
   "id": "b6f12e47",
   "metadata": {},
   "outputs": [
    {
     "name": "stdout",
     "output_type": "stream",
     "text": [
      "<class 'pandas.core.frame.DataFrame'>\n",
      "RangeIndex: 891 entries, 0 to 890\n",
      "Data columns (total 14 columns):\n",
      " #   Column      Non-Null Count  Dtype   \n",
      "---  ------      --------------  -----   \n",
      " 0   survived    891 non-null    int64   \n",
      " 1   pclass      891 non-null    int64   \n",
      " 2   sex         891 non-null    object  \n",
      " 3   age         891 non-null    float64 \n",
      " 4   sibsp       891 non-null    int64   \n",
      " 5   parch       891 non-null    int64   \n",
      " 6   fare        891 non-null    float64 \n",
      " 7   embarked    891 non-null    object  \n",
      " 8   class       891 non-null    category\n",
      " 9   who         891 non-null    object  \n",
      " 10  adult_male  891 non-null    bool    \n",
      " 11  deck        891 non-null    object  \n",
      " 12  alive       891 non-null    object  \n",
      " 13  alone       891 non-null    bool    \n",
      "dtypes: bool(2), category(1), float64(2), int64(4), object(5)\n",
      "memory usage: 79.4+ KB\n"
     ]
    }
   ],
   "source": [
    "df1.info()"
   ]
  },
  {
   "cell_type": "markdown",
   "id": "e5708d78",
   "metadata": {},
   "source": [
    "## 데이터 관계 분석"
   ]
  },
  {
   "cell_type": "code",
   "execution_count": 41,
   "id": "d58ac3e8",
   "metadata": {},
   "outputs": [
    {
     "data": {
      "text/html": [
       "<div>\n",
       "<style scoped>\n",
       "    .dataframe tbody tr th:only-of-type {\n",
       "        vertical-align: middle;\n",
       "    }\n",
       "\n",
       "    .dataframe tbody tr th {\n",
       "        vertical-align: top;\n",
       "    }\n",
       "\n",
       "    .dataframe thead th {\n",
       "        text-align: right;\n",
       "    }\n",
       "</style>\n",
       "<table border=\"1\" class=\"dataframe\">\n",
       "  <thead>\n",
       "    <tr style=\"text-align: right;\">\n",
       "      <th></th>\n",
       "      <th>survived</th>\n",
       "      <th>pclass</th>\n",
       "      <th>age</th>\n",
       "      <th>sibsp</th>\n",
       "      <th>parch</th>\n",
       "      <th>fare</th>\n",
       "      <th>adult_male</th>\n",
       "      <th>alone</th>\n",
       "    </tr>\n",
       "  </thead>\n",
       "  <tbody>\n",
       "    <tr>\n",
       "      <th>survived</th>\n",
       "      <td>1.000000</td>\n",
       "      <td>-0.338481</td>\n",
       "      <td>-0.059579</td>\n",
       "      <td>-0.035322</td>\n",
       "      <td>0.081629</td>\n",
       "      <td>0.257307</td>\n",
       "      <td>-0.557080</td>\n",
       "      <td>-0.203367</td>\n",
       "    </tr>\n",
       "    <tr>\n",
       "      <th>pclass</th>\n",
       "      <td>-0.338481</td>\n",
       "      <td>1.000000</td>\n",
       "      <td>-0.413583</td>\n",
       "      <td>0.083081</td>\n",
       "      <td>0.018443</td>\n",
       "      <td>-0.549500</td>\n",
       "      <td>0.094035</td>\n",
       "      <td>0.135207</td>\n",
       "    </tr>\n",
       "    <tr>\n",
       "      <th>age</th>\n",
       "      <td>-0.059579</td>\n",
       "      <td>-0.413583</td>\n",
       "      <td>1.000000</td>\n",
       "      <td>-0.249854</td>\n",
       "      <td>-0.175526</td>\n",
       "      <td>0.122692</td>\n",
       "      <td>0.263411</td>\n",
       "      <td>0.175529</td>\n",
       "    </tr>\n",
       "    <tr>\n",
       "      <th>sibsp</th>\n",
       "      <td>-0.035322</td>\n",
       "      <td>0.083081</td>\n",
       "      <td>-0.249854</td>\n",
       "      <td>1.000000</td>\n",
       "      <td>0.414838</td>\n",
       "      <td>0.159651</td>\n",
       "      <td>-0.253586</td>\n",
       "      <td>-0.584471</td>\n",
       "    </tr>\n",
       "    <tr>\n",
       "      <th>parch</th>\n",
       "      <td>0.081629</td>\n",
       "      <td>0.018443</td>\n",
       "      <td>-0.175526</td>\n",
       "      <td>0.414838</td>\n",
       "      <td>1.000000</td>\n",
       "      <td>0.216225</td>\n",
       "      <td>-0.349943</td>\n",
       "      <td>-0.583398</td>\n",
       "    </tr>\n",
       "    <tr>\n",
       "      <th>fare</th>\n",
       "      <td>0.257307</td>\n",
       "      <td>-0.549500</td>\n",
       "      <td>0.122692</td>\n",
       "      <td>0.159651</td>\n",
       "      <td>0.216225</td>\n",
       "      <td>1.000000</td>\n",
       "      <td>-0.182024</td>\n",
       "      <td>-0.271832</td>\n",
       "    </tr>\n",
       "    <tr>\n",
       "      <th>adult_male</th>\n",
       "      <td>-0.557080</td>\n",
       "      <td>0.094035</td>\n",
       "      <td>0.263411</td>\n",
       "      <td>-0.253586</td>\n",
       "      <td>-0.349943</td>\n",
       "      <td>-0.182024</td>\n",
       "      <td>1.000000</td>\n",
       "      <td>0.404744</td>\n",
       "    </tr>\n",
       "    <tr>\n",
       "      <th>alone</th>\n",
       "      <td>-0.203367</td>\n",
       "      <td>0.135207</td>\n",
       "      <td>0.175529</td>\n",
       "      <td>-0.584471</td>\n",
       "      <td>-0.583398</td>\n",
       "      <td>-0.271832</td>\n",
       "      <td>0.404744</td>\n",
       "      <td>1.000000</td>\n",
       "    </tr>\n",
       "  </tbody>\n",
       "</table>\n",
       "</div>"
      ],
      "text/plain": [
       "            survived    pclass       age     sibsp     parch      fare  \\\n",
       "survived    1.000000 -0.338481 -0.059579 -0.035322  0.081629  0.257307   \n",
       "pclass     -0.338481  1.000000 -0.413583  0.083081  0.018443 -0.549500   \n",
       "age        -0.059579 -0.413583  1.000000 -0.249854 -0.175526  0.122692   \n",
       "sibsp      -0.035322  0.083081 -0.249854  1.000000  0.414838  0.159651   \n",
       "parch       0.081629  0.018443 -0.175526  0.414838  1.000000  0.216225   \n",
       "fare        0.257307 -0.549500  0.122692  0.159651  0.216225  1.000000   \n",
       "adult_male -0.557080  0.094035  0.263411 -0.253586 -0.349943 -0.182024   \n",
       "alone      -0.203367  0.135207  0.175529 -0.584471 -0.583398 -0.271832   \n",
       "\n",
       "            adult_male     alone  \n",
       "survived     -0.557080 -0.203367  \n",
       "pclass        0.094035  0.135207  \n",
       "age           0.263411  0.175529  \n",
       "sibsp        -0.253586 -0.584471  \n",
       "parch        -0.349943 -0.583398  \n",
       "fare         -0.182024 -0.271832  \n",
       "adult_male    1.000000  0.404744  \n",
       "alone         0.404744  1.000000  "
      ]
     },
     "execution_count": 41,
     "metadata": {},
     "output_type": "execute_result"
    }
   ],
   "source": [
    "# 종속변수 : survived\n",
    "df.corr() # 선형 관계 파악 (높은 것들 : pclass, fare, adult_male)"
   ]
  },
  {
   "cell_type": "code",
   "execution_count": 42,
   "id": "552ef7ba",
   "metadata": {},
   "outputs": [
    {
     "data": {
      "text/plain": [
       "<AxesSubplot:>"
      ]
     },
     "execution_count": 42,
     "metadata": {},
     "output_type": "execute_result"
    },
    {
     "data": {
      "image/png": "[encoded data removed]",
      "text/plain": [
       "<Figure size 432x288 with 1 Axes>"
      ]
     },
     "metadata": {
      "needs_background": "light"
     },
     "output_type": "display_data"
    }
   ],
   "source": [
    "sns.heatmap(df.corr(), cmap = 'coolwarm', annot = True, cbar = False) # annot은 숫자 보여줌"
   ]
  },
  {
   "cell_type": "code",
   "execution_count": 43,
   "id": "94469e8c",
   "metadata": {},
   "outputs": [],
   "source": [
    "# 가정 : pclass와 생존여부의 상관관계가 높게 나타난다.\n",
    "# 그럼 클래스에 따라 갑판과 멀리있는 룸에 투숙한 승객은 사망할 확률이 높다.\n",
    "# 그럼 신체적으로 뛰어난 사람이 더 생존확률이 높을 것이다.\n",
    "# 그럼 성인 남성의 생존률이 높을 것이다.\n",
    "# pclass와 생존여부를 따로 보고, 성별과 생존여부, pclass & 성별과 생존여부를 살펴보자."
   ]
  },
  {
   "cell_type": "code",
   "execution_count": 44,
   "id": "d41ab3ca",
   "metadata": {},
   "outputs": [
    {
     "data": {
      "text/html": [
       "<div>\n",
       "<style scoped>\n",
       "    .dataframe tbody tr th:only-of-type {\n",
       "        vertical-align: middle;\n",
       "    }\n",
       "\n",
       "    .dataframe tbody tr th {\n",
       "        vertical-align: top;\n",
       "    }\n",
       "\n",
       "    .dataframe thead th {\n",
       "        text-align: right;\n",
       "    }\n",
       "</style>\n",
       "<table border=\"1\" class=\"dataframe\">\n",
       "  <thead>\n",
       "    <tr style=\"text-align: right;\">\n",
       "      <th>survived</th>\n",
       "      <th>0</th>\n",
       "      <th>1</th>\n",
       "      <th>All</th>\n",
       "    </tr>\n",
       "    <tr>\n",
       "      <th>pclass</th>\n",
       "      <th></th>\n",
       "      <th></th>\n",
       "      <th></th>\n",
       "    </tr>\n",
       "  </thead>\n",
       "  <tbody>\n",
       "    <tr>\n",
       "      <th>1</th>\n",
       "      <td>80</td>\n",
       "      <td>136</td>\n",
       "      <td>216</td>\n",
       "    </tr>\n",
       "    <tr>\n",
       "      <th>2</th>\n",
       "      <td>97</td>\n",
       "      <td>87</td>\n",
       "      <td>184</td>\n",
       "    </tr>\n",
       "    <tr>\n",
       "      <th>3</th>\n",
       "      <td>372</td>\n",
       "      <td>119</td>\n",
       "      <td>491</td>\n",
       "    </tr>\n",
       "    <tr>\n",
       "      <th>All</th>\n",
       "      <td>549</td>\n",
       "      <td>342</td>\n",
       "      <td>891</td>\n",
       "    </tr>\n",
       "  </tbody>\n",
       "</table>\n",
       "</div>"
      ],
      "text/plain": [
       "survived    0    1  All\n",
       "pclass                 \n",
       "1          80  136  216\n",
       "2          97   87  184\n",
       "3         372  119  491\n",
       "All       549  342  891"
      ]
     },
     "execution_count": 44,
     "metadata": {},
     "output_type": "execute_result"
    }
   ],
   "source": [
    "# pclass와 생존여부를 따로 보자.\n",
    "# 찾고자 하는 값을 양성으로 둔다.\n",
    "pd.crosstab(df['pclass'], df['survived'], margins = True) # margins는 합계를 나타내줌"
   ]
  },
  {
   "cell_type": "code",
   "execution_count": 45,
   "id": "e400ad89",
   "metadata": {},
   "outputs": [
    {
     "data": {
      "text/plain": [
       "<AxesSubplot:xlabel='pclass'>"
      ]
     },
     "execution_count": 45,
     "metadata": {},
     "output_type": "execute_result"
    },
    {
     "data": {
      "image/png": "[encoded data removed]",
      "text/plain": [
       "<Figure size 432x288 with 1 Axes>"
      ]
     },
     "metadata": {
      "needs_background": "light"
     },
     "output_type": "display_data"
    }
   ],
   "source": [
    "pd.crosstab(df['pclass'], df['survived']).plot(kind = 'bar')"
   ]
  },
  {
   "cell_type": "code",
   "execution_count": 46,
   "id": "98659e4d",
   "metadata": {},
   "outputs": [
    {
     "data": {
      "text/html": [
       "<div>\n",
       "<style scoped>\n",
       "    .dataframe tbody tr th:only-of-type {\n",
       "        vertical-align: middle;\n",
       "    }\n",
       "\n",
       "    .dataframe tbody tr th {\n",
       "        vertical-align: top;\n",
       "    }\n",
       "\n",
       "    .dataframe thead th {\n",
       "        text-align: right;\n",
       "    }\n",
       "</style>\n",
       "<table border=\"1\" class=\"dataframe\">\n",
       "  <thead>\n",
       "    <tr style=\"text-align: right;\">\n",
       "      <th>survived</th>\n",
       "      <th>0</th>\n",
       "      <th>1</th>\n",
       "      <th>All</th>\n",
       "    </tr>\n",
       "    <tr>\n",
       "      <th>sex</th>\n",
       "      <th></th>\n",
       "      <th></th>\n",
       "      <th></th>\n",
       "    </tr>\n",
       "  </thead>\n",
       "  <tbody>\n",
       "    <tr>\n",
       "      <th>female</th>\n",
       "      <td>81</td>\n",
       "      <td>233</td>\n",
       "      <td>314</td>\n",
       "    </tr>\n",
       "    <tr>\n",
       "      <th>male</th>\n",
       "      <td>468</td>\n",
       "      <td>109</td>\n",
       "      <td>577</td>\n",
       "    </tr>\n",
       "    <tr>\n",
       "      <th>All</th>\n",
       "      <td>549</td>\n",
       "      <td>342</td>\n",
       "      <td>891</td>\n",
       "    </tr>\n",
       "  </tbody>\n",
       "</table>\n",
       "</div>"
      ],
      "text/plain": [
       "survived    0    1  All\n",
       "sex                    \n",
       "female     81  233  314\n",
       "male      468  109  577\n",
       "All       549  342  891"
      ]
     },
     "execution_count": 46,
     "metadata": {},
     "output_type": "execute_result"
    }
   ],
   "source": [
    "# 성별과 생존여부를 따로 보자.\n",
    "pd.crosstab(df['sex'], df['survived'], margins = True)"
   ]
  },
  {
   "cell_type": "code",
   "execution_count": 47,
   "id": "b65f04c0",
   "metadata": {},
   "outputs": [
    {
     "data": {
      "text/plain": [
       "<AxesSubplot:xlabel='sex'>"
      ]
     },
     "execution_count": 47,
     "metadata": {},
     "output_type": "execute_result"
    },
    {
     "data": {
      "image/png": "[encoded data removed]",
      "text/plain": [
       "<Figure size 432x288 with 1 Axes>"
      ]
     },
     "metadata": {
      "needs_background": "light"
     },
     "output_type": "display_data"
    }
   ],
   "source": [
    "pd.crosstab(df['sex'], df['survived']).plot(kind = 'bar')"
   ]
  },
  {
   "cell_type": "code",
   "execution_count": 48,
   "id": "eb3aee40",
   "metadata": {},
   "outputs": [
    {
     "data": {
      "text/html": [
       "<div>\n",
       "<style scoped>\n",
       "    .dataframe tbody tr th:only-of-type {\n",
       "        vertical-align: middle;\n",
       "    }\n",
       "\n",
       "    .dataframe tbody tr th {\n",
       "        vertical-align: top;\n",
       "    }\n",
       "\n",
       "    .dataframe thead th {\n",
       "        text-align: right;\n",
       "    }\n",
       "</style>\n",
       "<table border=\"1\" class=\"dataframe\">\n",
       "  <thead>\n",
       "    <tr style=\"text-align: right;\">\n",
       "      <th></th>\n",
       "      <th>survived</th>\n",
       "      <th>0</th>\n",
       "      <th>1</th>\n",
       "      <th>All</th>\n",
       "    </tr>\n",
       "    <tr>\n",
       "      <th>pclass</th>\n",
       "      <th>sex</th>\n",
       "      <th></th>\n",
       "      <th></th>\n",
       "      <th></th>\n",
       "    </tr>\n",
       "  </thead>\n",
       "  <tbody>\n",
       "    <tr>\n",
       "      <th rowspan=\"2\" valign=\"top\">1</th>\n",
       "      <th>female</th>\n",
       "      <td>3</td>\n",
       "      <td>91</td>\n",
       "      <td>94</td>\n",
       "    </tr>\n",
       "    <tr>\n",
       "      <th>male</th>\n",
       "      <td>77</td>\n",
       "      <td>45</td>\n",
       "      <td>122</td>\n",
       "    </tr>\n",
       "    <tr>\n",
       "      <th rowspan=\"2\" valign=\"top\">2</th>\n",
       "      <th>female</th>\n",
       "      <td>6</td>\n",
       "      <td>70</td>\n",
       "      <td>76</td>\n",
       "    </tr>\n",
       "    <tr>\n",
       "      <th>male</th>\n",
       "      <td>91</td>\n",
       "      <td>17</td>\n",
       "      <td>108</td>\n",
       "    </tr>\n",
       "    <tr>\n",
       "      <th rowspan=\"2\" valign=\"top\">3</th>\n",
       "      <th>female</th>\n",
       "      <td>72</td>\n",
       "      <td>72</td>\n",
       "      <td>144</td>\n",
       "    </tr>\n",
       "    <tr>\n",
       "      <th>male</th>\n",
       "      <td>300</td>\n",
       "      <td>47</td>\n",
       "      <td>347</td>\n",
       "    </tr>\n",
       "    <tr>\n",
       "      <th>All</th>\n",
       "      <th></th>\n",
       "      <td>549</td>\n",
       "      <td>342</td>\n",
       "      <td>891</td>\n",
       "    </tr>\n",
       "  </tbody>\n",
       "</table>\n",
       "</div>"
      ],
      "text/plain": [
       "survived         0    1  All\n",
       "pclass sex                  \n",
       "1      female    3   91   94\n",
       "       male     77   45  122\n",
       "2      female    6   70   76\n",
       "       male     91   17  108\n",
       "3      female   72   72  144\n",
       "       male    300   47  347\n",
       "All            549  342  891"
      ]
     },
     "execution_count": 48,
     "metadata": {},
     "output_type": "execute_result"
    }
   ],
   "source": [
    "# pclass, 성별과 생존여부를 따로 보자.\n",
    "pd.crosstab([df['pclass'], df['sex']], df['survived'], margins = True)"
   ]
  },
  {
   "cell_type": "code",
   "execution_count": 49,
   "id": "a98b9e92",
   "metadata": {},
   "outputs": [
    {
     "data": {
      "text/plain": [
       "<AxesSubplot:xlabel='pclass,sex'>"
      ]
     },
     "execution_count": 49,
     "metadata": {},
     "output_type": "execute_result"
    },
    {
     "data": {
      "image/png": "[encoded data removed]",
      "text/plain": [
       "<Figure size 432x288 with 1 Axes>"
      ]
     },
     "metadata": {
      "needs_background": "light"
     },
     "output_type": "display_data"
    }
   ],
   "source": [
    "pd.crosstab([df['pclass'], df['sex']], df['survived']).plot(kind = 'bar')"
   ]
  },
  {
   "cell_type": "code",
   "execution_count": 50,
   "id": "fca9f201",
   "metadata": {},
   "outputs": [
    {
     "name": "stderr",
     "output_type": "stream",
     "text": [
      "C:\\ProgramData\\Anaconda3\\lib\\site-packages\\seaborn\\_decorators.py:36: FutureWarning: Pass the following variables as keyword args: x, y. From version 0.12, the only valid positional argument will be `data`, and passing other arguments without an explicit keyword will result in an error or misinterpretation.\n",
      "  warnings.warn(\n"
     ]
    },
    {
     "data": {
      "text/plain": [
       "<AxesSubplot:xlabel='pclass', ylabel='age'>"
      ]
     },
     "execution_count": 50,
     "metadata": {},
     "output_type": "execute_result"
    },
    {
     "data": {
      "image/png": "[encoded data removed]",
      "text/plain": [
       "<Figure size 432x288 with 1 Axes>"
      ]
     },
     "metadata": {
      "needs_background": "light"
     },
     "output_type": "display_data"
    }
   ],
   "source": [
    "# 나이와 생존여부도 관계가 있을 꺼 같다.\n",
    "# hue : 표시하고 싶은 것, quartile : 25%, 50%, 75% 표시, split : True면 합쳐짐\n",
    "sns.violinplot('pclass', 'age', hue = 'survived', data = df, inner = \"quartile\", split = True) # 연속값에 괜찮은 성능"
   ]
  },
  {
   "cell_type": "code",
   "execution_count": 51,
   "id": "4f8ddd36",
   "metadata": {},
   "outputs": [
    {
     "name": "stderr",
     "output_type": "stream",
     "text": [
      "C:\\ProgramData\\Anaconda3\\lib\\site-packages\\seaborn\\_decorators.py:36: FutureWarning: Pass the following variables as keyword args: x, y. From version 0.12, the only valid positional argument will be `data`, and passing other arguments without an explicit keyword will result in an error or misinterpretation.\n",
      "  warnings.warn(\n"
     ]
    },
    {
     "data": {
      "text/plain": [
       "<AxesSubplot:xlabel='sex', ylabel='age'>"
      ]
     },
     "execution_count": 51,
     "metadata": {},
     "output_type": "execute_result"
    },
    {
     "data": {
      "image/png": "[encoded data removed]",
      "text/plain": [
       "<Figure size 432x288 with 1 Axes>"
      ]
     },
     "metadata": {
      "needs_background": "light"
     },
     "output_type": "display_data"
    }
   ],
   "source": [
    "sns.violinplot('sex', 'age', hue = 'survived', data = df, inner = \"quartile\", split = True)"
   ]
  },
  {
   "cell_type": "markdown",
   "id": "0fab8f27",
   "metadata": {},
   "source": [
    "## 문자 -> 숫자"
   ]
  },
  {
   "cell_type": "code",
   "execution_count": 52,
   "id": "cb9b1f30",
   "metadata": {},
   "outputs": [
    {
     "data": {
      "text/html": [
       "<div>\n",
       "<style scoped>\n",
       "    .dataframe tbody tr th:only-of-type {\n",
       "        vertical-align: middle;\n",
       "    }\n",
       "\n",
       "    .dataframe tbody tr th {\n",
       "        vertical-align: top;\n",
       "    }\n",
       "\n",
       "    .dataframe thead th {\n",
       "        text-align: right;\n",
       "    }\n",
       "</style>\n",
       "<table border=\"1\" class=\"dataframe\">\n",
       "  <thead>\n",
       "    <tr style=\"text-align: right;\">\n",
       "      <th></th>\n",
       "      <th>survived</th>\n",
       "      <th>pclass</th>\n",
       "      <th>sex</th>\n",
       "      <th>age</th>\n",
       "      <th>sibsp</th>\n",
       "      <th>parch</th>\n",
       "      <th>fare</th>\n",
       "      <th>embarked</th>\n",
       "      <th>class</th>\n",
       "      <th>who</th>\n",
       "      <th>adult_male</th>\n",
       "      <th>alive</th>\n",
       "      <th>alone</th>\n",
       "    </tr>\n",
       "  </thead>\n",
       "  <tbody>\n",
       "    <tr>\n",
       "      <th>0</th>\n",
       "      <td>0</td>\n",
       "      <td>3</td>\n",
       "      <td>male</td>\n",
       "      <td>22.0</td>\n",
       "      <td>1</td>\n",
       "      <td>0</td>\n",
       "      <td>7.2500</td>\n",
       "      <td>S</td>\n",
       "      <td>Third</td>\n",
       "      <td>man</td>\n",
       "      <td>True</td>\n",
       "      <td>no</td>\n",
       "      <td>False</td>\n",
       "    </tr>\n",
       "    <tr>\n",
       "      <th>1</th>\n",
       "      <td>1</td>\n",
       "      <td>1</td>\n",
       "      <td>female</td>\n",
       "      <td>38.0</td>\n",
       "      <td>1</td>\n",
       "      <td>0</td>\n",
       "      <td>71.2833</td>\n",
       "      <td>C</td>\n",
       "      <td>First</td>\n",
       "      <td>woman</td>\n",
       "      <td>False</td>\n",
       "      <td>yes</td>\n",
       "      <td>False</td>\n",
       "    </tr>\n",
       "    <tr>\n",
       "      <th>2</th>\n",
       "      <td>1</td>\n",
       "      <td>3</td>\n",
       "      <td>female</td>\n",
       "      <td>26.0</td>\n",
       "      <td>0</td>\n",
       "      <td>0</td>\n",
       "      <td>7.9250</td>\n",
       "      <td>S</td>\n",
       "      <td>Third</td>\n",
       "      <td>woman</td>\n",
       "      <td>False</td>\n",
       "      <td>yes</td>\n",
       "      <td>True</td>\n",
       "    </tr>\n",
       "    <tr>\n",
       "      <th>3</th>\n",
       "      <td>1</td>\n",
       "      <td>1</td>\n",
       "      <td>female</td>\n",
       "      <td>35.0</td>\n",
       "      <td>1</td>\n",
       "      <td>0</td>\n",
       "      <td>53.1000</td>\n",
       "      <td>S</td>\n",
       "      <td>First</td>\n",
       "      <td>woman</td>\n",
       "      <td>False</td>\n",
       "      <td>yes</td>\n",
       "      <td>False</td>\n",
       "    </tr>\n",
       "    <tr>\n",
       "      <th>4</th>\n",
       "      <td>0</td>\n",
       "      <td>3</td>\n",
       "      <td>male</td>\n",
       "      <td>35.0</td>\n",
       "      <td>0</td>\n",
       "      <td>0</td>\n",
       "      <td>8.0500</td>\n",
       "      <td>S</td>\n",
       "      <td>Third</td>\n",
       "      <td>man</td>\n",
       "      <td>True</td>\n",
       "      <td>no</td>\n",
       "      <td>True</td>\n",
       "    </tr>\n",
       "    <tr>\n",
       "      <th>...</th>\n",
       "      <td>...</td>\n",
       "      <td>...</td>\n",
       "      <td>...</td>\n",
       "      <td>...</td>\n",
       "      <td>...</td>\n",
       "      <td>...</td>\n",
       "      <td>...</td>\n",
       "      <td>...</td>\n",
       "      <td>...</td>\n",
       "      <td>...</td>\n",
       "      <td>...</td>\n",
       "      <td>...</td>\n",
       "      <td>...</td>\n",
       "    </tr>\n",
       "    <tr>\n",
       "      <th>886</th>\n",
       "      <td>0</td>\n",
       "      <td>2</td>\n",
       "      <td>male</td>\n",
       "      <td>27.0</td>\n",
       "      <td>0</td>\n",
       "      <td>0</td>\n",
       "      <td>13.0000</td>\n",
       "      <td>S</td>\n",
       "      <td>Second</td>\n",
       "      <td>man</td>\n",
       "      <td>True</td>\n",
       "      <td>no</td>\n",
       "      <td>True</td>\n",
       "    </tr>\n",
       "    <tr>\n",
       "      <th>887</th>\n",
       "      <td>1</td>\n",
       "      <td>1</td>\n",
       "      <td>female</td>\n",
       "      <td>19.0</td>\n",
       "      <td>0</td>\n",
       "      <td>0</td>\n",
       "      <td>30.0000</td>\n",
       "      <td>S</td>\n",
       "      <td>First</td>\n",
       "      <td>woman</td>\n",
       "      <td>False</td>\n",
       "      <td>yes</td>\n",
       "      <td>True</td>\n",
       "    </tr>\n",
       "    <tr>\n",
       "      <th>888</th>\n",
       "      <td>0</td>\n",
       "      <td>3</td>\n",
       "      <td>female</td>\n",
       "      <td>21.5</td>\n",
       "      <td>1</td>\n",
       "      <td>2</td>\n",
       "      <td>23.4500</td>\n",
       "      <td>S</td>\n",
       "      <td>Third</td>\n",
       "      <td>woman</td>\n",
       "      <td>False</td>\n",
       "      <td>no</td>\n",
       "      <td>False</td>\n",
       "    </tr>\n",
       "    <tr>\n",
       "      <th>889</th>\n",
       "      <td>1</td>\n",
       "      <td>1</td>\n",
       "      <td>male</td>\n",
       "      <td>26.0</td>\n",
       "      <td>0</td>\n",
       "      <td>0</td>\n",
       "      <td>30.0000</td>\n",
       "      <td>C</td>\n",
       "      <td>First</td>\n",
       "      <td>man</td>\n",
       "      <td>True</td>\n",
       "      <td>yes</td>\n",
       "      <td>True</td>\n",
       "    </tr>\n",
       "    <tr>\n",
       "      <th>890</th>\n",
       "      <td>0</td>\n",
       "      <td>3</td>\n",
       "      <td>male</td>\n",
       "      <td>32.0</td>\n",
       "      <td>0</td>\n",
       "      <td>0</td>\n",
       "      <td>7.7500</td>\n",
       "      <td>Q</td>\n",
       "      <td>Third</td>\n",
       "      <td>man</td>\n",
       "      <td>True</td>\n",
       "      <td>no</td>\n",
       "      <td>True</td>\n",
       "    </tr>\n",
       "  </tbody>\n",
       "</table>\n",
       "<p>891 rows × 13 columns</p>\n",
       "</div>"
      ],
      "text/plain": [
       "     survived  pclass     sex   age  sibsp  parch     fare embarked   class  \\\n",
       "0           0       3    male  22.0      1      0   7.2500        S   Third   \n",
       "1           1       1  female  38.0      1      0  71.2833        C   First   \n",
       "2           1       3  female  26.0      0      0   7.9250        S   Third   \n",
       "3           1       1  female  35.0      1      0  53.1000        S   First   \n",
       "4           0       3    male  35.0      0      0   8.0500        S   Third   \n",
       "..        ...     ...     ...   ...    ...    ...      ...      ...     ...   \n",
       "886         0       2    male  27.0      0      0  13.0000        S  Second   \n",
       "887         1       1  female  19.0      0      0  30.0000        S   First   \n",
       "888         0       3  female  21.5      1      2  23.4500        S   Third   \n",
       "889         1       1    male  26.0      0      0  30.0000        C   First   \n",
       "890         0       3    male  32.0      0      0   7.7500        Q   Third   \n",
       "\n",
       "       who  adult_male alive  alone  \n",
       "0      man        True    no  False  \n",
       "1    woman       False   yes  False  \n",
       "2    woman       False   yes   True  \n",
       "3    woman       False   yes  False  \n",
       "4      man        True    no   True  \n",
       "..     ...         ...   ...    ...  \n",
       "886    man        True    no   True  \n",
       "887  woman       False   yes   True  \n",
       "888  woman       False    no  False  \n",
       "889    man        True   yes   True  \n",
       "890    man        True    no   True  \n",
       "\n",
       "[891 rows x 13 columns]"
      ]
     },
     "execution_count": 52,
     "metadata": {},
     "output_type": "execute_result"
    }
   ],
   "source": [
    "df"
   ]
  },
  {
   "cell_type": "code",
   "execution_count": 53,
   "id": "78a45069",
   "metadata": {},
   "outputs": [
    {
     "name": "stdout",
     "output_type": "stream",
     "text": [
      "Encoder classes : ['female' 'male']\n"
     ]
    }
   ],
   "source": [
    "from sklearn.preprocessing import LabelEncoder\n",
    "\n",
    "sex_item = list(set(df.sex))\n",
    "encoder = LabelEncoder()\n",
    "encoder.fit(sex_item)\n",
    "print(\"Encoder classes :\", encoder.classes_)\n",
    "sex_label = encoder.transform(df.sex)\n",
    "df.sex = sex_label"
   ]
  },
  {
   "cell_type": "code",
   "execution_count": 54,
   "id": "29d6309b",
   "metadata": {},
   "outputs": [
    {
     "data": {
      "text/html": [
       "<div>\n",
       "<style scoped>\n",
       "    .dataframe tbody tr th:only-of-type {\n",
       "        vertical-align: middle;\n",
       "    }\n",
       "\n",
       "    .dataframe tbody tr th {\n",
       "        vertical-align: top;\n",
       "    }\n",
       "\n",
       "    .dataframe thead th {\n",
       "        text-align: right;\n",
       "    }\n",
       "</style>\n",
       "<table border=\"1\" class=\"dataframe\">\n",
       "  <thead>\n",
       "    <tr style=\"text-align: right;\">\n",
       "      <th></th>\n",
       "      <th>survived</th>\n",
       "      <th>pclass</th>\n",
       "      <th>sex</th>\n",
       "      <th>age</th>\n",
       "      <th>sibsp</th>\n",
       "      <th>parch</th>\n",
       "      <th>fare</th>\n",
       "      <th>embarked</th>\n",
       "      <th>class</th>\n",
       "      <th>who</th>\n",
       "      <th>adult_male</th>\n",
       "      <th>alive</th>\n",
       "      <th>alone</th>\n",
       "    </tr>\n",
       "  </thead>\n",
       "  <tbody>\n",
       "    <tr>\n",
       "      <th>0</th>\n",
       "      <td>0</td>\n",
       "      <td>3</td>\n",
       "      <td>1</td>\n",
       "      <td>22.0</td>\n",
       "      <td>1</td>\n",
       "      <td>0</td>\n",
       "      <td>7.2500</td>\n",
       "      <td>S</td>\n",
       "      <td>Third</td>\n",
       "      <td>man</td>\n",
       "      <td>True</td>\n",
       "      <td>no</td>\n",
       "      <td>False</td>\n",
       "    </tr>\n",
       "    <tr>\n",
       "      <th>1</th>\n",
       "      <td>1</td>\n",
       "      <td>1</td>\n",
       "      <td>0</td>\n",
       "      <td>38.0</td>\n",
       "      <td>1</td>\n",
       "      <td>0</td>\n",
       "      <td>71.2833</td>\n",
       "      <td>C</td>\n",
       "      <td>First</td>\n",
       "      <td>woman</td>\n",
       "      <td>False</td>\n",
       "      <td>yes</td>\n",
       "      <td>False</td>\n",
       "    </tr>\n",
       "    <tr>\n",
       "      <th>2</th>\n",
       "      <td>1</td>\n",
       "      <td>3</td>\n",
       "      <td>0</td>\n",
       "      <td>26.0</td>\n",
       "      <td>0</td>\n",
       "      <td>0</td>\n",
       "      <td>7.9250</td>\n",
       "      <td>S</td>\n",
       "      <td>Third</td>\n",
       "      <td>woman</td>\n",
       "      <td>False</td>\n",
       "      <td>yes</td>\n",
       "      <td>True</td>\n",
       "    </tr>\n",
       "    <tr>\n",
       "      <th>3</th>\n",
       "      <td>1</td>\n",
       "      <td>1</td>\n",
       "      <td>0</td>\n",
       "      <td>35.0</td>\n",
       "      <td>1</td>\n",
       "      <td>0</td>\n",
       "      <td>53.1000</td>\n",
       "      <td>S</td>\n",
       "      <td>First</td>\n",
       "      <td>woman</td>\n",
       "      <td>False</td>\n",
       "      <td>yes</td>\n",
       "      <td>False</td>\n",
       "    </tr>\n",
       "    <tr>\n",
       "      <th>4</th>\n",
       "      <td>0</td>\n",
       "      <td>3</td>\n",
       "      <td>1</td>\n",
       "      <td>35.0</td>\n",
       "      <td>0</td>\n",
       "      <td>0</td>\n",
       "      <td>8.0500</td>\n",
       "      <td>S</td>\n",
       "      <td>Third</td>\n",
       "      <td>man</td>\n",
       "      <td>True</td>\n",
       "      <td>no</td>\n",
       "      <td>True</td>\n",
       "    </tr>\n",
       "    <tr>\n",
       "      <th>...</th>\n",
       "      <td>...</td>\n",
       "      <td>...</td>\n",
       "      <td>...</td>\n",
       "      <td>...</td>\n",
       "      <td>...</td>\n",
       "      <td>...</td>\n",
       "      <td>...</td>\n",
       "      <td>...</td>\n",
       "      <td>...</td>\n",
       "      <td>...</td>\n",
       "      <td>...</td>\n",
       "      <td>...</td>\n",
       "      <td>...</td>\n",
       "    </tr>\n",
       "    <tr>\n",
       "      <th>886</th>\n",
       "      <td>0</td>\n",
       "      <td>2</td>\n",
       "      <td>1</td>\n",
       "      <td>27.0</td>\n",
       "      <td>0</td>\n",
       "      <td>0</td>\n",
       "      <td>13.0000</td>\n",
       "      <td>S</td>\n",
       "      <td>Second</td>\n",
       "      <td>man</td>\n",
       "      <td>True</td>\n",
       "      <td>no</td>\n",
       "      <td>True</td>\n",
       "    </tr>\n",
       "    <tr>\n",
       "      <th>887</th>\n",
       "      <td>1</td>\n",
       "      <td>1</td>\n",
       "      <td>0</td>\n",
       "      <td>19.0</td>\n",
       "      <td>0</td>\n",
       "      <td>0</td>\n",
       "      <td>30.0000</td>\n",
       "      <td>S</td>\n",
       "      <td>First</td>\n",
       "      <td>woman</td>\n",
       "      <td>False</td>\n",
       "      <td>yes</td>\n",
       "      <td>True</td>\n",
       "    </tr>\n",
       "    <tr>\n",
       "      <th>888</th>\n",
       "      <td>0</td>\n",
       "      <td>3</td>\n",
       "      <td>0</td>\n",
       "      <td>21.5</td>\n",
       "      <td>1</td>\n",
       "      <td>2</td>\n",
       "      <td>23.4500</td>\n",
       "      <td>S</td>\n",
       "      <td>Third</td>\n",
       "      <td>woman</td>\n",
       "      <td>False</td>\n",
       "      <td>no</td>\n",
       "      <td>False</td>\n",
       "    </tr>\n",
       "    <tr>\n",
       "      <th>889</th>\n",
       "      <td>1</td>\n",
       "      <td>1</td>\n",
       "      <td>1</td>\n",
       "      <td>26.0</td>\n",
       "      <td>0</td>\n",
       "      <td>0</td>\n",
       "      <td>30.0000</td>\n",
       "      <td>C</td>\n",
       "      <td>First</td>\n",
       "      <td>man</td>\n",
       "      <td>True</td>\n",
       "      <td>yes</td>\n",
       "      <td>True</td>\n",
       "    </tr>\n",
       "    <tr>\n",
       "      <th>890</th>\n",
       "      <td>0</td>\n",
       "      <td>3</td>\n",
       "      <td>1</td>\n",
       "      <td>32.0</td>\n",
       "      <td>0</td>\n",
       "      <td>0</td>\n",
       "      <td>7.7500</td>\n",
       "      <td>Q</td>\n",
       "      <td>Third</td>\n",
       "      <td>man</td>\n",
       "      <td>True</td>\n",
       "      <td>no</td>\n",
       "      <td>True</td>\n",
       "    </tr>\n",
       "  </tbody>\n",
       "</table>\n",
       "<p>891 rows × 13 columns</p>\n",
       "</div>"
      ],
      "text/plain": [
       "     survived  pclass  sex   age  sibsp  parch     fare embarked   class  \\\n",
       "0           0       3    1  22.0      1      0   7.2500        S   Third   \n",
       "1           1       1    0  38.0      1      0  71.2833        C   First   \n",
       "2           1       3    0  26.0      0      0   7.9250        S   Third   \n",
       "3           1       1    0  35.0      1      0  53.1000        S   First   \n",
       "4           0       3    1  35.0      0      0   8.0500        S   Third   \n",
       "..        ...     ...  ...   ...    ...    ...      ...      ...     ...   \n",
       "886         0       2    1  27.0      0      0  13.0000        S  Second   \n",
       "887         1       1    0  19.0      0      0  30.0000        S   First   \n",
       "888         0       3    0  21.5      1      2  23.4500        S   Third   \n",
       "889         1       1    1  26.0      0      0  30.0000        C   First   \n",
       "890         0       3    1  32.0      0      0   7.7500        Q   Third   \n",
       "\n",
       "       who  adult_male alive  alone  \n",
       "0      man        True    no  False  \n",
       "1    woman       False   yes  False  \n",
       "2    woman       False   yes   True  \n",
       "3    woman       False   yes  False  \n",
       "4      man        True    no   True  \n",
       "..     ...         ...   ...    ...  \n",
       "886    man        True    no   True  \n",
       "887  woman       False   yes   True  \n",
       "888  woman       False    no  False  \n",
       "889    man        True   yes   True  \n",
       "890    man        True    no   True  \n",
       "\n",
       "[891 rows x 13 columns]"
      ]
     },
     "execution_count": 54,
     "metadata": {},
     "output_type": "execute_result"
    }
   ],
   "source": [
    "df"
   ]
  },
  {
   "cell_type": "code",
   "execution_count": 55,
   "id": "41b834b5",
   "metadata": {},
   "outputs": [
    {
     "name": "stdout",
     "output_type": "stream",
     "text": [
      "Encoder classes : ['C' 'Q' 'S']\n"
     ]
    }
   ],
   "source": [
    "embarked_item = list(set(df.embarked))\n",
    "encoder = LabelEncoder()\n",
    "encoder.fit(embarked_item)\n",
    "print(\"Encoder classes :\", encoder.classes_)\n",
    "embarked_label = encoder.transform(df.embarked)\n",
    "df.embarked = embarked_label"
   ]
  },
  {
   "cell_type": "code",
   "execution_count": 56,
   "id": "1532e72f",
   "metadata": {},
   "outputs": [
    {
     "name": "stdout",
     "output_type": "stream",
     "text": [
      "Encoder classes : ['First' 'Second' 'Third']\n"
     ]
    }
   ],
   "source": [
    "class_item = list(set(df['class']))\n",
    "encoder = LabelEncoder()\n",
    "encoder.fit(class_item)\n",
    "print(\"Encoder classes :\", encoder.classes_)\n",
    "class_label = encoder.transform(df['class'])\n",
    "df['class'] = class_label"
   ]
  },
  {
   "cell_type": "code",
   "execution_count": 57,
   "id": "8be77e32",
   "metadata": {},
   "outputs": [
    {
     "name": "stdout",
     "output_type": "stream",
     "text": [
      "Encoder classes : ['child' 'man' 'woman']\n"
     ]
    }
   ],
   "source": [
    "who_item = list(set(df.who))\n",
    "encoder = LabelEncoder()\n",
    "encoder.fit(who_item)\n",
    "print(\"Encoder classes :\", encoder.classes_)\n",
    "who_label = encoder.transform(df.who)\n",
    "df.who = who_label"
   ]
  },
  {
   "cell_type": "code",
   "execution_count": 58,
   "id": "4ac781fc",
   "metadata": {},
   "outputs": [
    {
     "name": "stdout",
     "output_type": "stream",
     "text": [
      "Encoder classes : [False  True]\n"
     ]
    }
   ],
   "source": [
    "adult_male_item = list(set(df.adult_male))\n",
    "encoder = LabelEncoder()\n",
    "encoder.fit(adult_male_item)\n",
    "print(\"Encoder classes :\", encoder.classes_)\n",
    "adult_male_label = encoder.transform(df.adult_male)\n",
    "df.adult_male = adult_male_label"
   ]
  },
  {
   "cell_type": "code",
   "execution_count": 59,
   "id": "f5cee576",
   "metadata": {},
   "outputs": [
    {
     "name": "stdout",
     "output_type": "stream",
     "text": [
      "Encoder classes : ['no' 'yes']\n"
     ]
    }
   ],
   "source": [
    "alive_item = list(set(df.alive))\n",
    "encoder = LabelEncoder()\n",
    "encoder.fit(alive_item)\n",
    "print(\"Encoder classes :\", encoder.classes_)\n",
    "alive_label = encoder.transform(df.alive)\n",
    "df.alive = alive_label"
   ]
  },
  {
   "cell_type": "code",
   "execution_count": 60,
   "id": "a29d5463",
   "metadata": {},
   "outputs": [
    {
     "name": "stdout",
     "output_type": "stream",
     "text": [
      "Encoder classes : [False  True]\n"
     ]
    }
   ],
   "source": [
    "alone_item = list(set(df.alone))\n",
    "encoder = LabelEncoder()\n",
    "encoder.fit(alone_item)\n",
    "print(\"Encoder classes :\", encoder.classes_)\n",
    "alone_label = encoder.transform(df.alone)\n",
    "df.alone = alone_label"
   ]
  },
  {
   "cell_type": "code",
   "execution_count": 61,
   "id": "1fed11b1",
   "metadata": {},
   "outputs": [
    {
     "data": {
      "text/html": [
       "<div>\n",
       "<style scoped>\n",
       "    .dataframe tbody tr th:only-of-type {\n",
       "        vertical-align: middle;\n",
       "    }\n",
       "\n",
       "    .dataframe tbody tr th {\n",
       "        vertical-align: top;\n",
       "    }\n",
       "\n",
       "    .dataframe thead th {\n",
       "        text-align: right;\n",
       "    }\n",
       "</style>\n",
       "<table border=\"1\" class=\"dataframe\">\n",
       "  <thead>\n",
       "    <tr style=\"text-align: right;\">\n",
       "      <th></th>\n",
       "      <th>survived</th>\n",
       "      <th>pclass</th>\n",
       "      <th>sex</th>\n",
       "      <th>age</th>\n",
       "      <th>sibsp</th>\n",
       "      <th>parch</th>\n",
       "      <th>fare</th>\n",
       "      <th>embarked</th>\n",
       "      <th>class</th>\n",
       "      <th>who</th>\n",
       "      <th>adult_male</th>\n",
       "      <th>alive</th>\n",
       "      <th>alone</th>\n",
       "    </tr>\n",
       "  </thead>\n",
       "  <tbody>\n",
       "    <tr>\n",
       "      <th>0</th>\n",
       "      <td>0</td>\n",
       "      <td>3</td>\n",
       "      <td>1</td>\n",
       "      <td>22.0</td>\n",
       "      <td>1</td>\n",
       "      <td>0</td>\n",
       "      <td>7.2500</td>\n",
       "      <td>2</td>\n",
       "      <td>2</td>\n",
       "      <td>1</td>\n",
       "      <td>1</td>\n",
       "      <td>0</td>\n",
       "      <td>0</td>\n",
       "    </tr>\n",
       "    <tr>\n",
       "      <th>1</th>\n",
       "      <td>1</td>\n",
       "      <td>1</td>\n",
       "      <td>0</td>\n",
       "      <td>38.0</td>\n",
       "      <td>1</td>\n",
       "      <td>0</td>\n",
       "      <td>71.2833</td>\n",
       "      <td>0</td>\n",
       "      <td>0</td>\n",
       "      <td>2</td>\n",
       "      <td>0</td>\n",
       "      <td>1</td>\n",
       "      <td>0</td>\n",
       "    </tr>\n",
       "    <tr>\n",
       "      <th>2</th>\n",
       "      <td>1</td>\n",
       "      <td>3</td>\n",
       "      <td>0</td>\n",
       "      <td>26.0</td>\n",
       "      <td>0</td>\n",
       "      <td>0</td>\n",
       "      <td>7.9250</td>\n",
       "      <td>2</td>\n",
       "      <td>2</td>\n",
       "      <td>2</td>\n",
       "      <td>0</td>\n",
       "      <td>1</td>\n",
       "      <td>1</td>\n",
       "    </tr>\n",
       "    <tr>\n",
       "      <th>3</th>\n",
       "      <td>1</td>\n",
       "      <td>1</td>\n",
       "      <td>0</td>\n",
       "      <td>35.0</td>\n",
       "      <td>1</td>\n",
       "      <td>0</td>\n",
       "      <td>53.1000</td>\n",
       "      <td>2</td>\n",
       "      <td>0</td>\n",
       "      <td>2</td>\n",
       "      <td>0</td>\n",
       "      <td>1</td>\n",
       "      <td>0</td>\n",
       "    </tr>\n",
       "    <tr>\n",
       "      <th>4</th>\n",
       "      <td>0</td>\n",
       "      <td>3</td>\n",
       "      <td>1</td>\n",
       "      <td>35.0</td>\n",
       "      <td>0</td>\n",
       "      <td>0</td>\n",
       "      <td>8.0500</td>\n",
       "      <td>2</td>\n",
       "      <td>2</td>\n",
       "      <td>1</td>\n",
       "      <td>1</td>\n",
       "      <td>0</td>\n",
       "      <td>1</td>\n",
       "    </tr>\n",
       "    <tr>\n",
       "      <th>...</th>\n",
       "      <td>...</td>\n",
       "      <td>...</td>\n",
       "      <td>...</td>\n",
       "      <td>...</td>\n",
       "      <td>...</td>\n",
       "      <td>...</td>\n",
       "      <td>...</td>\n",
       "      <td>...</td>\n",
       "      <td>...</td>\n",
       "      <td>...</td>\n",
       "      <td>...</td>\n",
       "      <td>...</td>\n",
       "      <td>...</td>\n",
       "    </tr>\n",
       "    <tr>\n",
       "      <th>886</th>\n",
       "      <td>0</td>\n",
       "      <td>2</td>\n",
       "      <td>1</td>\n",
       "      <td>27.0</td>\n",
       "      <td>0</td>\n",
       "      <td>0</td>\n",
       "      <td>13.0000</td>\n",
       "      <td>2</td>\n",
       "      <td>1</td>\n",
       "      <td>1</td>\n",
       "      <td>1</td>\n",
       "      <td>0</td>\n",
       "      <td>1</td>\n",
       "    </tr>\n",
       "    <tr>\n",
       "      <th>887</th>\n",
       "      <td>1</td>\n",
       "      <td>1</td>\n",
       "      <td>0</td>\n",
       "      <td>19.0</td>\n",
       "      <td>0</td>\n",
       "      <td>0</td>\n",
       "      <td>30.0000</td>\n",
       "      <td>2</td>\n",
       "      <td>0</td>\n",
       "      <td>2</td>\n",
       "      <td>0</td>\n",
       "      <td>1</td>\n",
       "      <td>1</td>\n",
       "    </tr>\n",
       "    <tr>\n",
       "      <th>888</th>\n",
       "      <td>0</td>\n",
       "      <td>3</td>\n",
       "      <td>0</td>\n",
       "      <td>21.5</td>\n",
       "      <td>1</td>\n",
       "      <td>2</td>\n",
       "      <td>23.4500</td>\n",
       "      <td>2</td>\n",
       "      <td>2</td>\n",
       "      <td>2</td>\n",
       "      <td>0</td>\n",
       "      <td>0</td>\n",
       "      <td>0</td>\n",
       "    </tr>\n",
       "    <tr>\n",
       "      <th>889</th>\n",
       "      <td>1</td>\n",
       "      <td>1</td>\n",
       "      <td>1</td>\n",
       "      <td>26.0</td>\n",
       "      <td>0</td>\n",
       "      <td>0</td>\n",
       "      <td>30.0000</td>\n",
       "      <td>0</td>\n",
       "      <td>0</td>\n",
       "      <td>1</td>\n",
       "      <td>1</td>\n",
       "      <td>1</td>\n",
       "      <td>1</td>\n",
       "    </tr>\n",
       "    <tr>\n",
       "      <th>890</th>\n",
       "      <td>0</td>\n",
       "      <td>3</td>\n",
       "      <td>1</td>\n",
       "      <td>32.0</td>\n",
       "      <td>0</td>\n",
       "      <td>0</td>\n",
       "      <td>7.7500</td>\n",
       "      <td>1</td>\n",
       "      <td>2</td>\n",
       "      <td>1</td>\n",
       "      <td>1</td>\n",
       "      <td>0</td>\n",
       "      <td>1</td>\n",
       "    </tr>\n",
       "  </tbody>\n",
       "</table>\n",
       "<p>891 rows × 13 columns</p>\n",
       "</div>"
      ],
      "text/plain": [
       "     survived  pclass  sex   age  sibsp  parch     fare  embarked  class  who  \\\n",
       "0           0       3    1  22.0      1      0   7.2500         2      2    1   \n",
       "1           1       1    0  38.0      1      0  71.2833         0      0    2   \n",
       "2           1       3    0  26.0      0      0   7.9250         2      2    2   \n",
       "3           1       1    0  35.0      1      0  53.1000         2      0    2   \n",
       "4           0       3    1  35.0      0      0   8.0500         2      2    1   \n",
       "..        ...     ...  ...   ...    ...    ...      ...       ...    ...  ...   \n",
       "886         0       2    1  27.0      0      0  13.0000         2      1    1   \n",
       "887         1       1    0  19.0      0      0  30.0000         2      0    2   \n",
       "888         0       3    0  21.5      1      2  23.4500         2      2    2   \n",
       "889         1       1    1  26.0      0      0  30.0000         0      0    1   \n",
       "890         0       3    1  32.0      0      0   7.7500         1      2    1   \n",
       "\n",
       "     adult_male  alive  alone  \n",
       "0             1      0      0  \n",
       "1             0      1      0  \n",
       "2             0      1      1  \n",
       "3             0      1      0  \n",
       "4             1      0      1  \n",
       "..          ...    ...    ...  \n",
       "886           1      0      1  \n",
       "887           0      1      1  \n",
       "888           0      0      0  \n",
       "889           1      1      1  \n",
       "890           1      0      1  \n",
       "\n",
       "[891 rows x 13 columns]"
      ]
     },
     "execution_count": 61,
     "metadata": {},
     "output_type": "execute_result"
    }
   ],
   "source": [
    "df"
   ]
  },
  {
   "cell_type": "code",
   "execution_count": 62,
   "id": "a2133444",
   "metadata": {},
   "outputs": [
    {
     "data": {
      "text/plain": [
       "survived       0.383838\n",
       "pclass         2.308642\n",
       "sex            0.647587\n",
       "age           29.112424\n",
       "sibsp          0.523008\n",
       "parch          0.381594\n",
       "fare          32.204208\n",
       "embarked       1.536476\n",
       "class          1.308642\n",
       "who            1.210999\n",
       "adult_male     0.602694\n",
       "alive          0.383838\n",
       "alone          0.602694\n",
       "dtype: float64"
      ]
     },
     "execution_count": 62,
     "metadata": {},
     "output_type": "execute_result"
    }
   ],
   "source": [
    "df.mean()"
   ]
  },
  {
   "cell_type": "code",
   "execution_count": 63,
   "id": "53d98b9d",
   "metadata": {},
   "outputs": [
    {
     "data": {
      "text/plain": [
       "survived         0.236772\n",
       "pclass           0.699015\n",
       "sex              0.228475\n",
       "age            177.007700\n",
       "sibsp            1.216043\n",
       "parch            0.649728\n",
       "fare          2469.436846\n",
       "embarked         0.626477\n",
       "class            0.699015\n",
       "who              0.353182\n",
       "adult_male       0.239723\n",
       "alive            0.236772\n",
       "alone            0.239723\n",
       "dtype: float64"
      ]
     },
     "execution_count": 63,
     "metadata": {},
     "output_type": "execute_result"
    }
   ],
   "source": [
    "df.var()"
   ]
  },
  {
   "cell_type": "markdown",
   "id": "c51aebca",
   "metadata": {},
   "source": [
    "## 표준화 & 정규화 (분류 시 불필요, 선형 회귀 시 필수)"
   ]
  },
  {
   "cell_type": "code",
   "execution_count": 64,
   "id": "afc443f2",
   "metadata": {},
   "outputs": [],
   "source": [
    "def standard_deviation(x):\n",
    "    (x - x.mean()) / x.std()\n",
    "    \n",
    "def normalized_deviation(x):\n",
    "    (x - x.min()) / (x.max() - x.min())"
   ]
  },
  {
   "cell_type": "code",
   "execution_count": 65,
   "id": "5c365f06",
   "metadata": {},
   "outputs": [],
   "source": [
    "stand_df = (df - df.mean()) / df.std()"
   ]
  },
  {
   "cell_type": "code",
   "execution_count": 66,
   "id": "8f3ea73b",
   "metadata": {},
   "outputs": [],
   "source": [
    "norm_df = (df - df.min()) / (df.max() - df.min())"
   ]
  },
  {
   "cell_type": "code",
   "execution_count": 67,
   "id": "a79607d3",
   "metadata": {},
   "outputs": [
    {
     "name": "stdout",
     "output_type": "stream",
     "text": [
      "     survived  pclass  sex       age  sibsp     parch      fare  embarked  \\\n",
      "0         0.0     1.0  1.0  0.271174  0.125  0.000000  0.014151       1.0   \n",
      "1         1.0     0.0  0.0  0.472229  0.125  0.000000  0.139136       0.0   \n",
      "2         1.0     1.0  0.0  0.321438  0.000  0.000000  0.015469       1.0   \n",
      "3         1.0     0.0  0.0  0.434531  0.125  0.000000  0.103644       1.0   \n",
      "4         0.0     1.0  1.0  0.434531  0.000  0.000000  0.015713       1.0   \n",
      "..        ...     ...  ...       ...    ...       ...       ...       ...   \n",
      "886       0.0     0.5  1.0  0.334004  0.000  0.000000  0.025374       1.0   \n",
      "887       1.0     0.0  0.0  0.233476  0.000  0.000000  0.058556       1.0   \n",
      "888       0.0     1.0  0.0  0.264891  0.125  0.333333  0.045771       1.0   \n",
      "889       1.0     0.0  1.0  0.321438  0.000  0.000000  0.058556       0.0   \n",
      "890       0.0     1.0  1.0  0.396833  0.000  0.000000  0.015127       0.5   \n",
      "\n",
      "     class  who  adult_male  alive  alone  \n",
      "0      1.0  0.5         1.0    0.0    0.0  \n",
      "1      0.0  1.0         0.0    1.0    0.0  \n",
      "2      1.0  1.0         0.0    1.0    1.0  \n",
      "3      0.0  1.0         0.0    1.0    0.0  \n",
      "4      1.0  0.5         1.0    0.0    1.0  \n",
      "..     ...  ...         ...    ...    ...  \n",
      "886    0.5  0.5         1.0    0.0    1.0  \n",
      "887    0.0  1.0         0.0    1.0    1.0  \n",
      "888    1.0  1.0         0.0    0.0    0.0  \n",
      "889    0.0  0.5         1.0    1.0    1.0  \n",
      "890    1.0  0.5         1.0    0.0    1.0  \n",
      "\n",
      "[891 rows x 13 columns]\n"
     ]
    }
   ],
   "source": [
    "print(norm_df)"
   ]
  },
  {
   "cell_type": "markdown",
   "id": "1968431f",
   "metadata": {},
   "source": [
    "## 전처리 마친 데이터의 관계성 파악"
   ]
  },
  {
   "cell_type": "code",
   "execution_count": 68,
   "id": "665b627d",
   "metadata": {},
   "outputs": [
    {
     "data": {
      "text/plain": [
       "<AxesSubplot:>"
      ]
     },
     "execution_count": 68,
     "metadata": {},
     "output_type": "execute_result"
    },
    {
     "data": {
      "image/png": "[encoded data removed]",
      "text/plain": [
       "<Figure size 1440x1080 with 1 Axes>"
      ]
     },
     "metadata": {
      "needs_background": "light"
     },
     "output_type": "display_data"
    }
   ],
   "source": [
    "import matplotlib.pyplot as plt\n",
    "\n",
    "plt.figure(figsize = (20, 15))\n",
    "sns.heatmap(df.corr(), cmap = 'coolwarm', annot = True, cbar = False)\n",
    "# 독립변수 간에는 연관성이 없어야 좋다. (0.8 이상 연관성이 있으면 차원축소 사용) ex. sex & adult_male\n",
    "# 나이는 연속형 데이터이다. 따라서 종속변수와 독립변수 간 관련성을 밝히기 힘들다. so, 범위를 지정해 범주형 데이터로 바꿀 필요가 있다."
   ]
  },
  {
   "cell_type": "code",
   "execution_count": 69,
   "id": "38595f09",
   "metadata": {},
   "outputs": [],
   "source": [
    "# 중복되는 열 삭제\n",
    "df.drop(['alive', 'class'], axis = 1, inplace = True)"
   ]
  },
  {
   "cell_type": "code",
   "execution_count": 70,
   "id": "1506409f",
   "metadata": {},
   "outputs": [
    {
     "data": {
      "text/plain": [
       "<AxesSubplot:>"
      ]
     },
     "execution_count": 70,
     "metadata": {},
     "output_type": "execute_result"
    },
    {
     "data": {
      "image/png": "[encoded data removed]",
      "text/plain": [
       "<Figure size 1440x1080 with 1 Axes>"
      ]
     },
     "metadata": {
      "needs_background": "light"
     },
     "output_type": "display_data"
    }
   ],
   "source": [
    "import matplotlib.pyplot as plt\n",
    "\n",
    "plt.figure(figsize = (20, 15))\n",
    "sns.heatmap(df.corr(), cmap = 'coolwarm', annot = True, cbar = False)"
   ]
  },
  {
   "cell_type": "markdown",
   "id": "d61a4103",
   "metadata": {},
   "source": [
    "# 모델 선택"
   ]
  },
  {
   "cell_type": "code",
   "execution_count": 71,
   "id": "fa92ff2b",
   "metadata": {},
   "outputs": [],
   "source": [
    "# 데이터는 training(훈련), validation(검증), test(시험) data로 나눈다.\n",
    "# 학습데이터 문제/정답(80%), 시험데이터 문제/정답(20%)"
   ]
  },
  {
   "cell_type": "code",
   "execution_count": 72,
   "id": "0d422f9c",
   "metadata": {},
   "outputs": [],
   "source": [
    "X = df.drop('survived', axis = 1)\n",
    "Y = df.survived\n",
    "X1 = df1.drop('survived', axis = 1)\n",
    "Y1 = df1.survived"
   ]
  },
  {
   "cell_type": "code",
   "execution_count": 73,
   "id": "35d17493",
   "metadata": {},
   "outputs": [],
   "source": [
    "X_stand = stand_df.drop('survived', axis = 1)\n",
    "Y_stand = df.survived"
   ]
  },
  {
   "cell_type": "code",
   "execution_count": 74,
   "id": "091c2bbd",
   "metadata": {},
   "outputs": [
    {
     "data": {
      "text/html": [
       "<div>\n",
       "<style scoped>\n",
       "    .dataframe tbody tr th:only-of-type {\n",
       "        vertical-align: middle;\n",
       "    }\n",
       "\n",
       "    .dataframe tbody tr th {\n",
       "        vertical-align: top;\n",
       "    }\n",
       "\n",
       "    .dataframe thead th {\n",
       "        text-align: right;\n",
       "    }\n",
       "</style>\n",
       "<table border=\"1\" class=\"dataframe\">\n",
       "  <thead>\n",
       "    <tr style=\"text-align: right;\">\n",
       "      <th></th>\n",
       "      <th>pclass</th>\n",
       "      <th>sex</th>\n",
       "      <th>age</th>\n",
       "      <th>sibsp</th>\n",
       "      <th>parch</th>\n",
       "      <th>fare</th>\n",
       "      <th>embarked</th>\n",
       "      <th>who</th>\n",
       "      <th>adult_male</th>\n",
       "      <th>alone</th>\n",
       "    </tr>\n",
       "  </thead>\n",
       "  <tbody>\n",
       "    <tr>\n",
       "      <th>0</th>\n",
       "      <td>3</td>\n",
       "      <td>1</td>\n",
       "      <td>22.0</td>\n",
       "      <td>1</td>\n",
       "      <td>0</td>\n",
       "      <td>7.2500</td>\n",
       "      <td>2</td>\n",
       "      <td>1</td>\n",
       "      <td>1</td>\n",
       "      <td>0</td>\n",
       "    </tr>\n",
       "    <tr>\n",
       "      <th>1</th>\n",
       "      <td>1</td>\n",
       "      <td>0</td>\n",
       "      <td>38.0</td>\n",
       "      <td>1</td>\n",
       "      <td>0</td>\n",
       "      <td>71.2833</td>\n",
       "      <td>0</td>\n",
       "      <td>2</td>\n",
       "      <td>0</td>\n",
       "      <td>0</td>\n",
       "    </tr>\n",
       "    <tr>\n",
       "      <th>2</th>\n",
       "      <td>3</td>\n",
       "      <td>0</td>\n",
       "      <td>26.0</td>\n",
       "      <td>0</td>\n",
       "      <td>0</td>\n",
       "      <td>7.9250</td>\n",
       "      <td>2</td>\n",
       "      <td>2</td>\n",
       "      <td>0</td>\n",
       "      <td>1</td>\n",
       "    </tr>\n",
       "    <tr>\n",
       "      <th>3</th>\n",
       "      <td>1</td>\n",
       "      <td>0</td>\n",
       "      <td>35.0</td>\n",
       "      <td>1</td>\n",
       "      <td>0</td>\n",
       "      <td>53.1000</td>\n",
       "      <td>2</td>\n",
       "      <td>2</td>\n",
       "      <td>0</td>\n",
       "      <td>0</td>\n",
       "    </tr>\n",
       "    <tr>\n",
       "      <th>4</th>\n",
       "      <td>3</td>\n",
       "      <td>1</td>\n",
       "      <td>35.0</td>\n",
       "      <td>0</td>\n",
       "      <td>0</td>\n",
       "      <td>8.0500</td>\n",
       "      <td>2</td>\n",
       "      <td>1</td>\n",
       "      <td>1</td>\n",
       "      <td>1</td>\n",
       "    </tr>\n",
       "  </tbody>\n",
       "</table>\n",
       "</div>"
      ],
      "text/plain": [
       "   pclass  sex   age  sibsp  parch     fare  embarked  who  adult_male  alone\n",
       "0       3    1  22.0      1      0   7.2500         2    1           1      0\n",
       "1       1    0  38.0      1      0  71.2833         0    2           0      0\n",
       "2       3    0  26.0      0      0   7.9250         2    2           0      1\n",
       "3       1    0  35.0      1      0  53.1000         2    2           0      0\n",
       "4       3    1  35.0      0      0   8.0500         2    1           1      1"
      ]
     },
     "execution_count": 74,
     "metadata": {},
     "output_type": "execute_result"
    }
   ],
   "source": [
    "X.head()"
   ]
  },
  {
   "cell_type": "code",
   "execution_count": 75,
   "id": "2b0937f3",
   "metadata": {},
   "outputs": [
    {
     "data": {
      "text/plain": [
       "0    0\n",
       "1    1\n",
       "2    1\n",
       "3    1\n",
       "4    0\n",
       "Name: survived, dtype: int64"
      ]
     },
     "execution_count": 75,
     "metadata": {},
     "output_type": "execute_result"
    }
   ],
   "source": [
    "Y.head()"
   ]
  },
  {
   "cell_type": "code",
   "execution_count": 76,
   "id": "9438899d",
   "metadata": {},
   "outputs": [
    {
     "data": {
      "text/html": [
       "<div>\n",
       "<style scoped>\n",
       "    .dataframe tbody tr th:only-of-type {\n",
       "        vertical-align: middle;\n",
       "    }\n",
       "\n",
       "    .dataframe tbody tr th {\n",
       "        vertical-align: top;\n",
       "    }\n",
       "\n",
       "    .dataframe thead th {\n",
       "        text-align: right;\n",
       "    }\n",
       "</style>\n",
       "<table border=\"1\" class=\"dataframe\">\n",
       "  <thead>\n",
       "    <tr style=\"text-align: right;\">\n",
       "      <th></th>\n",
       "      <th>pclass</th>\n",
       "      <th>sex</th>\n",
       "      <th>age</th>\n",
       "      <th>sibsp</th>\n",
       "      <th>parch</th>\n",
       "      <th>fare</th>\n",
       "      <th>embarked</th>\n",
       "      <th>class</th>\n",
       "      <th>who</th>\n",
       "      <th>adult_male</th>\n",
       "      <th>deck</th>\n",
       "      <th>alive</th>\n",
       "      <th>alone</th>\n",
       "    </tr>\n",
       "  </thead>\n",
       "  <tbody>\n",
       "    <tr>\n",
       "      <th>0</th>\n",
       "      <td>3</td>\n",
       "      <td>male</td>\n",
       "      <td>22.0</td>\n",
       "      <td>1</td>\n",
       "      <td>0</td>\n",
       "      <td>7.2500</td>\n",
       "      <td>S</td>\n",
       "      <td>Third</td>\n",
       "      <td>man</td>\n",
       "      <td>True</td>\n",
       "      <td>N</td>\n",
       "      <td>no</td>\n",
       "      <td>False</td>\n",
       "    </tr>\n",
       "    <tr>\n",
       "      <th>1</th>\n",
       "      <td>1</td>\n",
       "      <td>female</td>\n",
       "      <td>38.0</td>\n",
       "      <td>1</td>\n",
       "      <td>0</td>\n",
       "      <td>71.2833</td>\n",
       "      <td>C</td>\n",
       "      <td>First</td>\n",
       "      <td>woman</td>\n",
       "      <td>False</td>\n",
       "      <td>C</td>\n",
       "      <td>yes</td>\n",
       "      <td>False</td>\n",
       "    </tr>\n",
       "    <tr>\n",
       "      <th>2</th>\n",
       "      <td>3</td>\n",
       "      <td>female</td>\n",
       "      <td>26.0</td>\n",
       "      <td>0</td>\n",
       "      <td>0</td>\n",
       "      <td>7.9250</td>\n",
       "      <td>S</td>\n",
       "      <td>Third</td>\n",
       "      <td>woman</td>\n",
       "      <td>False</td>\n",
       "      <td>N</td>\n",
       "      <td>yes</td>\n",
       "      <td>True</td>\n",
       "    </tr>\n",
       "    <tr>\n",
       "      <th>3</th>\n",
       "      <td>1</td>\n",
       "      <td>female</td>\n",
       "      <td>35.0</td>\n",
       "      <td>1</td>\n",
       "      <td>0</td>\n",
       "      <td>53.1000</td>\n",
       "      <td>S</td>\n",
       "      <td>First</td>\n",
       "      <td>woman</td>\n",
       "      <td>False</td>\n",
       "      <td>C</td>\n",
       "      <td>yes</td>\n",
       "      <td>False</td>\n",
       "    </tr>\n",
       "    <tr>\n",
       "      <th>4</th>\n",
       "      <td>3</td>\n",
       "      <td>male</td>\n",
       "      <td>35.0</td>\n",
       "      <td>0</td>\n",
       "      <td>0</td>\n",
       "      <td>8.0500</td>\n",
       "      <td>S</td>\n",
       "      <td>Third</td>\n",
       "      <td>man</td>\n",
       "      <td>True</td>\n",
       "      <td>N</td>\n",
       "      <td>no</td>\n",
       "      <td>True</td>\n",
       "    </tr>\n",
       "  </tbody>\n",
       "</table>\n",
       "</div>"
      ],
      "text/plain": [
       "   pclass     sex   age  sibsp  parch     fare embarked  class    who  \\\n",
       "0       3    male  22.0      1      0   7.2500        S  Third    man   \n",
       "1       1  female  38.0      1      0  71.2833        C  First  woman   \n",
       "2       3  female  26.0      0      0   7.9250        S  Third  woman   \n",
       "3       1  female  35.0      1      0  53.1000        S  First  woman   \n",
       "4       3    male  35.0      0      0   8.0500        S  Third    man   \n",
       "\n",
       "   adult_male deck alive  alone  \n",
       "0        True    N    no  False  \n",
       "1       False    C   yes  False  \n",
       "2       False    N   yes   True  \n",
       "3       False    C   yes  False  \n",
       "4        True    N    no   True  "
      ]
     },
     "execution_count": 76,
     "metadata": {},
     "output_type": "execute_result"
    }
   ],
   "source": [
    "X1.head()"
   ]
  },
  {
   "cell_type": "code",
   "execution_count": 77,
   "id": "1ba37845",
   "metadata": {},
   "outputs": [
    {
     "data": {
      "text/plain": [
       "0    0\n",
       "1    1\n",
       "2    1\n",
       "3    1\n",
       "4    0\n",
       "Name: survived, dtype: int64"
      ]
     },
     "execution_count": 77,
     "metadata": {},
     "output_type": "execute_result"
    }
   ],
   "source": [
    "Y1.head()"
   ]
  },
  {
   "cell_type": "code",
   "execution_count": 78,
   "id": "f4c783fd",
   "metadata": {},
   "outputs": [],
   "source": [
    "from sklearn.model_selection import train_test_split\n",
    "\n",
    "X_train, X_test, Y_train, Y_test = train_test_split(X, Y, test_size=0.2, random_state=42) # random_state는 똑같은 결과를 공유하게 해줌(seed)"
   ]
  },
  {
   "cell_type": "code",
   "execution_count": 79,
   "id": "adc0b2b8",
   "metadata": {},
   "outputs": [],
   "source": [
    "# 현재는 데이터 양이 작아 validation pass\n",
    "# X_train, X_val, Y_train, Y_val = train_test_split(X_train, Y_train, test_size = 0.2, random_state = 42)"
   ]
  },
  {
   "cell_type": "code",
   "execution_count": 80,
   "id": "72f7414e",
   "metadata": {},
   "outputs": [],
   "source": [
    "from sklearn.tree import DecisionTreeClassifier # 트리 구조형 분류기\n",
    "from sklearn.ensemble import RandomForestClassifier # 랜덤 포레스트형 분류기\n",
    "from sklearn.linear_model import LogisticRegression # 선형 분류기\n",
    "from sklearn.metrics import accuracy_score"
   ]
  },
  {
   "cell_type": "code",
   "execution_count": 81,
   "id": "5f63bdc4",
   "metadata": {},
   "outputs": [],
   "source": [
    "dt_clf = DecisionTreeClassifier()\n",
    "rf_clf = RandomForestClassifier(n_jobs = 2) # n_jobs : 동시수행 횟수\n",
    "lr_clf = LogisticRegression(n_jobs = 2)"
   ]
  },
  {
   "cell_type": "markdown",
   "id": "849c2c91",
   "metadata": {},
   "source": [
    "## 정확도 단일 파악"
   ]
  },
  {
   "cell_type": "code",
   "execution_count": 82,
   "id": "bcf4455e",
   "metadata": {},
   "outputs": [
    {
     "data": {
      "text/plain": [
       "0.7318435754189944"
      ]
     },
     "execution_count": 82,
     "metadata": {},
     "output_type": "execute_result"
    }
   ],
   "source": [
    "dt_clf.fit(X_train, Y_train)\n",
    "Y_pred = dt_clf.predict(X_test)\n",
    "accuracy_score(Y_test, Y_pred)"
   ]
  },
  {
   "cell_type": "code",
   "execution_count": 83,
   "id": "4dd2a5f1",
   "metadata": {},
   "outputs": [
    {
     "data": {
      "text/plain": [
       "0.8212290502793296"
      ]
     },
     "execution_count": 83,
     "metadata": {},
     "output_type": "execute_result"
    }
   ],
   "source": [
    "rf_clf.fit(X_train, Y_train)\n",
    "Y_pred = rf_clf.predict(X_test)\n",
    "accuracy_score(Y_test, Y_pred)"
   ]
  },
  {
   "cell_type": "code",
   "execution_count": 84,
   "id": "12a32f86",
   "metadata": {},
   "outputs": [
    {
     "data": {
      "text/plain": [
       "0.8212290502793296"
      ]
     },
     "execution_count": 84,
     "metadata": {},
     "output_type": "execute_result"
    }
   ],
   "source": [
    "lr_clf.fit(X_train, Y_train)\n",
    "Y_pred = lr_clf.predict(X_test)\n",
    "accuracy_score(Y_test, Y_pred)"
   ]
  },
  {
   "cell_type": "markdown",
   "id": "09afe843",
   "metadata": {},
   "source": [
    "## K-Fold로 정확도 파악"
   ]
  },
  {
   "cell_type": "code",
   "execution_count": 85,
   "id": "d5bcc072",
   "metadata": {},
   "outputs": [],
   "source": [
    "# 회귀 분석 시에는 K-Fold 밖에 없음\n",
    "from sklearn.model_selection import KFold "
   ]
  },
  {
   "cell_type": "code",
   "execution_count": 86,
   "id": "64e51cae",
   "metadata": {},
   "outputs": [],
   "source": [
    "kfold = KFold(n_splits = 5) # 데이터를 5개로 나눠서 검증"
   ]
  },
  {
   "cell_type": "code",
   "execution_count": 87,
   "id": "2ce3414d",
   "metadata": {},
   "outputs": [
    {
     "name": "stdout",
     "output_type": "stream",
     "text": [
      "[179 180 181 182 183 184 185 186 187 188 189 190 191 192 193 194 195 196\n",
      " 197 198 199 200 201 202 203 204 205 206 207 208 209 210 211 212 213 214\n",
      " 215 216 217 218 219 220 221 222 223 224 225 226 227 228 229 230 231 232\n",
      " 233 234 235 236 237 238 239 240 241 242 243 244 245 246 247 248 249 250\n",
      " 251 252 253 254 255 256 257 258 259 260 261 262 263 264 265 266 267 268\n",
      " 269 270 271 272 273 274 275 276 277 278 279 280 281 282 283 284 285 286\n",
      " 287 288 289 290 291 292 293 294 295 296 297 298 299 300 301 302 303 304\n",
      " 305 306 307 308 309 310 311 312 313 314 315 316 317 318 319 320 321 322\n",
      " 323 324 325 326 327 328 329 330 331 332 333 334 335 336 337 338 339 340\n",
      " 341 342 343 344 345 346 347 348 349 350 351 352 353 354 355 356 357 358\n",
      " 359 360 361 362 363 364 365 366 367 368 369 370 371 372 373 374 375 376\n",
      " 377 378 379 380 381 382 383 384 385 386 387 388 389 390 391 392 393 394\n",
      " 395 396 397 398 399 400 401 402 403 404 405 406 407 408 409 410 411 412\n",
      " 413 414 415 416 417 418 419 420 421 422 423 424 425 426 427 428 429 430\n",
      " 431 432 433 434 435 436 437 438 439 440 441 442 443 444 445 446 447 448\n",
      " 449 450 451 452 453 454 455 456 457 458 459 460 461 462 463 464 465 466\n",
      " 467 468 469 470 471 472 473 474 475 476 477 478 479 480 481 482 483 484\n",
      " 485 486 487 488 489 490 491 492 493 494 495 496 497 498 499 500 501 502\n",
      " 503 504 505 506 507 508 509 510 511 512 513 514 515 516 517 518 519 520\n",
      " 521 522 523 524 525 526 527 528 529 530 531 532 533 534 535 536 537 538\n",
      " 539 540 541 542 543 544 545 546 547 548 549 550 551 552 553 554 555 556\n",
      " 557 558 559 560 561 562 563 564 565 566 567 568 569 570 571 572 573 574\n",
      " 575 576 577 578 579 580 581 582 583 584 585 586 587 588 589 590 591 592\n",
      " 593 594 595 596 597 598 599 600 601 602 603 604 605 606 607 608 609 610\n",
      " 611 612 613 614 615 616 617 618 619 620 621 622 623 624 625 626 627 628\n",
      " 629 630 631 632 633 634 635 636 637 638 639 640 641 642 643 644 645 646\n",
      " 647 648 649 650 651 652 653 654 655 656 657 658 659 660 661 662 663 664\n",
      " 665 666 667 668 669 670 671 672 673 674 675 676 677 678 679 680 681 682\n",
      " 683 684 685 686 687 688 689 690 691 692 693 694 695 696 697 698 699 700\n",
      " 701 702 703 704 705 706 707 708 709 710 711 712 713 714 715 716 717 718\n",
      " 719 720 721 722 723 724 725 726 727 728 729 730 731 732 733 734 735 736\n",
      " 737 738 739 740 741 742 743 744 745 746 747 748 749 750 751 752 753 754\n",
      " 755 756 757 758 759 760 761 762 763 764 765 766 767 768 769 770 771 772\n",
      " 773 774 775 776 777 778 779 780 781 782 783 784 785 786 787 788 789 790\n",
      " 791 792 793 794 795 796 797 798 799 800 801 802 803 804 805 806 807 808\n",
      " 809 810 811 812 813 814 815 816 817 818 819 820 821 822 823 824 825 826\n",
      " 827 828 829 830 831 832 833 834 835 836 837 838 839 840 841 842 843 844\n",
      " 845 846 847 848 849 850 851 852 853 854 855 856 857 858 859 860 861 862\n",
      " 863 864 865 866 867 868 869 870 871 872 873 874 875 876 877 878 879 880\n",
      " 881 882 883 884 885 886 887 888 889 890] <class 'list'>\n"
     ]
    }
   ],
   "source": [
    "train_indexset = []\n",
    "test_indexset = []\n",
    "\n",
    "for train, test in kfold.split(X):\n",
    "    train_indexset.append(train)\n",
    "    test_indexset.append(test)\n",
    "\n",
    "print(train_indexset[0], type(train_indexset))"
   ]
  },
  {
   "cell_type": "code",
   "execution_count": 88,
   "id": "9eb6f6a1",
   "metadata": {},
   "outputs": [],
   "source": [
    "dt_clf = DecisionTreeClassifier()\n",
    "rf_clf = RandomForestClassifier(n_jobs = 2) # n_jobs : 동시수행 횟수\n",
    "lr_clf = LogisticRegression(n_jobs = 2)"
   ]
  },
  {
   "cell_type": "code",
   "execution_count": 89,
   "id": "8e2b34d2",
   "metadata": {},
   "outputs": [
    {
     "name": "stdout",
     "output_type": "stream",
     "text": [
      "DecisionTreeClassifier Accuracy : 0.7889900194589166\n"
     ]
    }
   ],
   "source": [
    "pred_list = []\n",
    "X = np.array(X)\n",
    "Y = np.array(Y)\n",
    "\n",
    "for i in range(len(train_indexset)):\n",
    "    temp_index = train_indexset[i]\n",
    "    dt_clf.fit(X[train_indexset[i]], Y[train_indexset[i]])\n",
    "    Y_pred = dt_clf.predict(X[test_indexset[i]])\n",
    "    pred_list.append(accuracy_score(Y[test_indexset[i]], Y_pred))\n",
    "\n",
    "print(\"DecisionTreeClassifier Accuracy :\", np.mean(pred_list))"
   ]
  },
  {
   "cell_type": "code",
   "execution_count": 90,
   "id": "4c5156db",
   "metadata": {},
   "outputs": [
    {
     "name": "stdout",
     "output_type": "stream",
     "text": [
      "RandomForestClassifier Accuracy : 0.8013684012303057\n"
     ]
    }
   ],
   "source": [
    "pred_list = []\n",
    "X = np.array(X)\n",
    "Y = np.array(Y)\n",
    "\n",
    "for i in range(len(train_indexset)):\n",
    "    temp_index = train_indexset[i]\n",
    "    rf_clf.fit(X[train_indexset[i]], Y[train_indexset[i]])\n",
    "    Y_pred = rf_clf.predict(X[test_indexset[i]])\n",
    "    pred_list.append(accuracy_score(Y[test_indexset[i]], Y_pred))\n",
    "\n",
    "print(\"RandomForestClassifier Accuracy :\", np.mean(pred_list))"
   ]
  },
  {
   "cell_type": "code",
   "execution_count": 91,
   "id": "6f01e732",
   "metadata": {},
   "outputs": [
    {
     "name": "stdout",
     "output_type": "stream",
     "text": [
      "LogisticRegression Accuracy :  0.815931203314293\n"
     ]
    }
   ],
   "source": [
    "pred_list = []\n",
    "X = np.array(X)\n",
    "Y = np.array(Y)\n",
    "\n",
    "for i in range(len(train_indexset)):\n",
    "    temp_index = train_indexset[i]\n",
    "    lr_clf.fit(X[train_indexset[i]], Y[train_indexset[i]])\n",
    "    Y_pred = lr_clf.predict(X[test_indexset[i]])\n",
    "    pred_list.append(accuracy_score(Y[test_indexset[i]], Y_pred))\n",
    "\n",
    "print(\"LogisticRegression Accuracy : \", np.mean(pred_list))"
   ]
  },
  {
   "cell_type": "markdown",
   "id": "b923c7a0",
   "metadata": {},
   "source": [
    "## 클래스 별로 자른 K-Fold로 정확도 파악 (정보가 한 쪽으로 몰려있을 때 유용)"
   ]
  },
  {
   "cell_type": "code",
   "execution_count": 92,
   "id": "7fbd1235",
   "metadata": {},
   "outputs": [
    {
     "name": "stdout",
     "output_type": "stream",
     "text": [
      "0    119\n",
      "1     59\n",
      "Name: survived, dtype: int64\n",
      "0    100\n",
      "1     78\n",
      "Name: survived, dtype: int64\n",
      "0    108\n",
      "1     70\n",
      "Name: survived, dtype: int64\n",
      "0    107\n",
      "1     71\n",
      "Name: survived, dtype: int64\n",
      "0    115\n",
      "1     64\n",
      "Name: survived, dtype: int64\n"
     ]
    }
   ],
   "source": [
    "print(df.survived.iloc[:178].value_counts())\n",
    "print(df.survived.iloc[178:178*2].value_counts())\n",
    "print(df.survived.iloc[178*2:178*3].value_counts())\n",
    "print(df.survived.iloc[178*3:178*4].value_counts())\n",
    "print(df.survived.iloc[178*4:].value_counts())\n",
    "# 0, 1의 비가 일정하지 않다."
   ]
  },
  {
   "cell_type": "code",
   "execution_count": 93,
   "id": "0d27c79f",
   "metadata": {},
   "outputs": [],
   "source": [
    "# stratified K-Fold : 클래스 비를 일정하게 만든 K-Fold\n",
    "from sklearn.model_selection import StratifiedKFold\n",
    "\n",
    "skfold = StratifiedKFold(n_splits = 5)"
   ]
  },
  {
   "cell_type": "code",
   "execution_count": 94,
   "id": "8370c4ff",
   "metadata": {},
   "outputs": [
    {
     "name": "stdout",
     "output_type": "stream",
     "text": [
      "[168 169 170 171 173 174 175 176 177 178 179 180 181 182 185 188 189 191\n",
      " 196 197 199 200 201 202 203 204 205 206 207 208 209 210 211 212 213 214\n",
      " 215 216 217 218 219 220 221 222 223 224 225 226 227 228 229 230 231 232\n",
      " 233 234 235 236 237 238 239 240 241 242 243 244 245 246 247 248 249 250\n",
      " 251 252 253 254 255 256 257 258 259 260 261 262 263 264 265 266 267 268\n",
      " 269 270 271 272 273 274 275 276 277 278 279 280 281 282 283 284 285 286\n",
      " 287 288 289 290 291 292 293 294 295 296 297 298 299 300 301 302 303 304\n",
      " 305 306 307 308 309 310 311 312 313 314 315 316 317 318 319 320 321 322\n",
      " 323 324 325 326 327 328 329 330 331 332 333 334 335 336 337 338 339 340\n",
      " 341 342 343 344 345 346 347 348 349 350 351 352 353 354 355 356 357 358\n",
      " 359 360 361 362 363 364 365 366 367 368 369 370 371 372 373 374 375 376\n",
      " 377 378 379 380 381 382 383 384 385 386 387 388 389 390 391 392 393 394\n",
      " 395 396 397 398 399 400 401 402 403 404 405 406 407 408 409 410 411 412\n",
      " 413 414 415 416 417 418 419 420 421 422 423 424 425 426 427 428 429 430\n",
      " 431 432 433 434 435 436 437 438 439 440 441 442 443 444 445 446 447 448\n",
      " 449 450 451 452 453 454 455 456 457 458 459 460 461 462 463 464 465 466\n",
      " 467 468 469 470 471 472 473 474 475 476 477 478 479 480 481 482 483 484\n",
      " 485 486 487 488 489 490 491 492 493 494 495 496 497 498 499 500 501 502\n",
      " 503 504 505 506 507 508 509 510 511 512 513 514 515 516 517 518 519 520\n",
      " 521 522 523 524 525 526 527 528 529 530 531 532 533 534 535 536 537 538\n",
      " 539 540 541 542 543 544 545 546 547 548 549 550 551 552 553 554 555 556\n",
      " 557 558 559 560 561 562 563 564 565 566 567 568 569 570 571 572 573 574\n",
      " 575 576 577 578 579 580 581 582 583 584 585 586 587 588 589 590 591 592\n",
      " 593 594 595 596 597 598 599 600 601 602 603 604 605 606 607 608 609 610\n",
      " 611 612 613 614 615 616 617 618 619 620 621 622 623 624 625 626 627 628\n",
      " 629 630 631 632 633 634 635 636 637 638 639 640 641 642 643 644 645 646\n",
      " 647 648 649 650 651 652 653 654 655 656 657 658 659 660 661 662 663 664\n",
      " 665 666 667 668 669 670 671 672 673 674 675 676 677 678 679 680 681 682\n",
      " 683 684 685 686 687 688 689 690 691 692 693 694 695 696 697 698 699 700\n",
      " 701 702 703 704 705 706 707 708 709 710 711 712 713 714 715 716 717 718\n",
      " 719 720 721 722 723 724 725 726 727 728 729 730 731 732 733 734 735 736\n",
      " 737 738 739 740 741 742 743 744 745 746 747 748 749 750 751 752 753 754\n",
      " 755 756 757 758 759 760 761 762 763 764 765 766 767 768 769 770 771 772\n",
      " 773 774 775 776 777 778 779 780 781 782 783 784 785 786 787 788 789 790\n",
      " 791 792 793 794 795 796 797 798 799 800 801 802 803 804 805 806 807 808\n",
      " 809 810 811 812 813 814 815 816 817 818 819 820 821 822 823 824 825 826\n",
      " 827 828 829 830 831 832 833 834 835 836 837 838 839 840 841 842 843 844\n",
      " 845 846 847 848 849 850 851 852 853 854 855 856 857 858 859 860 861 862\n",
      " 863 864 865 866 867 868 869 870 871 872 873 874 875 876 877 878 879 880\n",
      " 881 882 883 884 885 886 887 888 889 890] <class 'list'>\n"
     ]
    }
   ],
   "source": [
    "train_indexset = []\n",
    "test_indexset = []\n",
    "\n",
    "for train, test in skfold.split(X, Y):\n",
    "    train_indexset.append(train)\n",
    "    test_indexset.append(test)\n",
    "\n",
    "print(train_indexset[0], type(train_indexset))"
   ]
  },
  {
   "cell_type": "code",
   "execution_count": 95,
   "id": "3d0a303a",
   "metadata": {},
   "outputs": [],
   "source": [
    "dt_clf = DecisionTreeClassifier()\n",
    "rf_clf = RandomForestClassifier(n_jobs = 2) # n_jobs : 동시수행 횟수\n",
    "lr_clf = LogisticRegression(n_jobs = 2)"
   ]
  },
  {
   "cell_type": "code",
   "execution_count": 96,
   "id": "a7632435",
   "metadata": {},
   "outputs": [
    {
     "name": "stdout",
     "output_type": "stream",
     "text": [
      "DecisionTreeClassifier Accuracy : 0.793528340970435\n"
     ]
    }
   ],
   "source": [
    "pred_list = []\n",
    "X = np.array(X)\n",
    "Y = np.array(Y)\n",
    "\n",
    "for i in range(len(train_indexset)):\n",
    "    temp_index = train_indexset[i]\n",
    "    dt_clf.fit(X[train_indexset[i]], Y[train_indexset[i]])\n",
    "    Y_pred = dt_clf.predict(X[test_indexset[i]])\n",
    "    pred_list.append(accuracy_score(Y[test_indexset[i]], Y_pred))\n",
    "\n",
    "print(\"DecisionTreeClassifier Accuracy :\", np.mean(pred_list))"
   ]
  },
  {
   "cell_type": "code",
   "execution_count": 97,
   "id": "7b78c108",
   "metadata": {},
   "outputs": [
    {
     "name": "stdout",
     "output_type": "stream",
     "text": [
      "RandomForestClassifier Accuracy : 0.8047203565375682\n"
     ]
    }
   ],
   "source": [
    "pred_list = []\n",
    "X = np.array(X)\n",
    "Y = np.array(Y)\n",
    "\n",
    "for i in range(len(train_indexset)):\n",
    "    temp_index = train_indexset[i]\n",
    "    rf_clf.fit(X[train_indexset[i]], Y[train_indexset[i]])\n",
    "    Y_pred = rf_clf.predict(X[test_indexset[i]])\n",
    "    pred_list.append(accuracy_score(Y[test_indexset[i]], Y_pred))\n",
    "\n",
    "print(\"RandomForestClassifier Accuracy :\", np.mean(pred_list))"
   ]
  },
  {
   "cell_type": "code",
   "execution_count": 98,
   "id": "c5aec9e6",
   "metadata": {},
   "outputs": [
    {
     "name": "stdout",
     "output_type": "stream",
     "text": [
      "LogisticRegression Accuracy :  0.820413031197037\n"
     ]
    }
   ],
   "source": [
    "pred_list = []\n",
    "X = np.array(X)\n",
    "Y = np.array(Y)\n",
    "\n",
    "for i in range(len(train_indexset)):\n",
    "    temp_index = train_indexset[i]\n",
    "    lr_clf.fit(X[train_indexset[i]], Y[train_indexset[i]])\n",
    "    Y_pred = lr_clf.predict(X[test_indexset[i]])\n",
    "    pred_list.append(accuracy_score(Y[test_indexset[i]], Y_pred))\n",
    "\n",
    "print(\"LogisticRegression Accuracy : \", np.mean(pred_list))"
   ]
  },
  {
   "cell_type": "code",
   "execution_count": 99,
   "id": "f265f49b",
   "metadata": {},
   "outputs": [],
   "source": [
    "from sklearn.model_selection import cross_val_score"
   ]
  },
  {
   "cell_type": "code",
   "execution_count": 100,
   "id": "cb255383",
   "metadata": {},
   "outputs": [],
   "source": [
    "dt_clf = DecisionTreeClassifier()\n",
    "rf_clf = RandomForestClassifier(n_jobs = 2) # n_jobs : 동시수행 횟수\n",
    "lr_clf = LogisticRegression(n_jobs = 2)"
   ]
  },
  {
   "cell_type": "code",
   "execution_count": 101,
   "id": "5a983bf0",
   "metadata": {},
   "outputs": [
    {
     "name": "stdout",
     "output_type": "stream",
     "text": [
      "0.796899127487289\n"
     ]
    }
   ],
   "source": [
    "print(np.mean(cross_val_score(dt_clf, X, Y, cv = 5, n_jobs = 5)))"
   ]
  },
  {
   "cell_type": "code",
   "execution_count": 102,
   "id": "86804061",
   "metadata": {},
   "outputs": [
    {
     "name": "stdout",
     "output_type": "stream",
     "text": [
      "0.806973824618668\n"
     ]
    }
   ],
   "source": [
    "print(np.mean(cross_val_score(rf_clf, X, Y, cv = 5, n_jobs = 5)))"
   ]
  },
  {
   "cell_type": "code",
   "execution_count": 103,
   "id": "0bcf3ddc",
   "metadata": {},
   "outputs": [
    {
     "name": "stdout",
     "output_type": "stream",
     "text": [
      "0.820413031197037\n"
     ]
    }
   ],
   "source": [
    "print(np.mean(cross_val_score(lr_clf, X, Y, cv = 5, n_jobs = 5)))"
   ]
  },
  {
   "cell_type": "code",
   "execution_count": 104,
   "id": "0cc73edd",
   "metadata": {},
   "outputs": [],
   "source": [
    "from sklearn.model_selection import cross_val_score"
   ]
  },
  {
   "cell_type": "code",
   "execution_count": 105,
   "id": "ca830b98",
   "metadata": {},
   "outputs": [],
   "source": [
    "dt_clf = DecisionTreeClassifier()\n",
    "rf_clf = RandomForestClassifier(n_jobs = 2) # n_jobs : 동시수행 횟수\n",
    "lr_clf = LogisticRegression(n_jobs = 2)"
   ]
  },
  {
   "cell_type": "code",
   "execution_count": 106,
   "id": "d8992910",
   "metadata": {},
   "outputs": [
    {
     "name": "stdout",
     "output_type": "stream",
     "text": [
      "1.0\n"
     ]
    }
   ],
   "source": [
    "print(np.mean(cross_val_score(dt_clf, X_stand, Y_stand, cv = 5, n_jobs = 5)))"
   ]
  },
  {
   "cell_type": "code",
   "execution_count": 107,
   "id": "9afd0be6",
   "metadata": {},
   "outputs": [
    {
     "name": "stdout",
     "output_type": "stream",
     "text": [
      "1.0\n"
     ]
    }
   ],
   "source": [
    "print(np.mean(cross_val_score(rf_clf, X_stand, Y_stand, cv = 5, n_jobs = 5)))"
   ]
  },
  {
   "cell_type": "code",
   "execution_count": 108,
   "id": "53ecb96e",
   "metadata": {},
   "outputs": [
    {
     "name": "stdout",
     "output_type": "stream",
     "text": [
      "1.0\n"
     ]
    }
   ],
   "source": [
    "print(np.mean(cross_val_score(lr_clf, X_stand, Y_stand, cv = 5, n_jobs = 5)))"
   ]
  },
  {
   "cell_type": "markdown",
   "id": "971b29a8",
   "metadata": {},
   "source": [
    "## 하이퍼 파라미터 튜닝 (꽤나 중요)"
   ]
  },
  {
   "cell_type": "code",
   "execution_count": 109,
   "id": "c1cb791f",
   "metadata": {},
   "outputs": [],
   "source": [
    "from sklearn.model_selection import train_test_split\n",
    "\n",
    "X_train, X_test, Y_train, Y_test = train_test_split(X, Y, test_size=0.1, random_state=42)\n",
    "X_train_1, X_val_1, Y_train_1, Y_var_1 = train_test_split(X_train, Y_train, test_size=0.1, random_state=42)"
   ]
  },
  {
   "cell_type": "code",
   "execution_count": 110,
   "id": "78354664",
   "metadata": {},
   "outputs": [
    {
     "name": "stdout",
     "output_type": "stream",
     "text": [
      "1번째 시도 : 0.8014984472049689\n",
      "2번째 시도 : 0.8014984472049689\n",
      "3번째 시도 : 0.8014984472049689\n",
      "4번째 시도 : 0.8014984472049689\n",
      "5번째 시도 : 0.8014984472049689\n",
      "6번째 시도 : 0.8014984472049689\n",
      "7번째 시도 : 0.8014984472049689\n",
      "8번째 시도 : 0.8014984472049689\n",
      "9번째 시도 : 0.8014984472049689\n",
      "10번째 시도 : 0.8139673913043477\n",
      "11번째 시도 : 0.8077329192546584\n",
      "12번째 시도 : 0.8189673913043478\n",
      "13번째 시도 : 0.818967391304348\n",
      "14번째 시도 : 0.8139829192546584\n",
      "15번째 시도 : 0.8214673913043479\n",
      "16번째 시도 : 0.8177173913043478\n",
      "17번째 시도 : 0.8114829192546583\n",
      "18번째 시도 : 0.8214673913043479\n",
      "19번째 시도 : 0.8052251552795031\n",
      "20번째 시도 : 0.7939984472049689\n",
      "21번째 시도 : 0.8014829192546584\n",
      "22번째 시도 : 0.8014751552795032\n",
      "23번째 시도 : 0.792748447204969\n",
      "24번째 시도 : 0.8014829192546584\n",
      "25번째 시도 : 0.8052251552795031\n",
      "26번째 시도 : 0.793998447204969\n",
      "27번째 시도 : 0.7989829192546584\n"
     ]
    }
   ],
   "source": [
    "# 원래는 모든 경우의 수를 돌리면 됨\n",
    "# 약 1억개..\n",
    "# so 일부만 해보자.. (27개 경우의 수)\n",
    "\n",
    "count = 1\n",
    "for max_depth in [2, 4, 5]:\n",
    "    for min_samples_split in [2, 4, 6]:\n",
    "        for min_samples_leaf in [1, 3, 5]:            \n",
    "            dt_clf = DecisionTreeClassifier(max_depth = max_depth, min_samples_split=min_samples_split, min_samples_leaf = min_samples_leaf)\n",
    "            print(str(count) + \"번째 시도 :\", np.mean(cross_val_score(dt_clf, X_train, Y_train, cv = 5, n_jobs = 5)))\n",
    "            count = count + 1"
   ]
  },
  {
   "cell_type": "code",
   "execution_count": 111,
   "id": "12f9ab45",
   "metadata": {},
   "outputs": [],
   "source": [
    "from sklearn.model_selection import GridSearchCV"
   ]
  },
  {
   "cell_type": "code",
   "execution_count": 112,
   "id": "2e19ee45",
   "metadata": {},
   "outputs": [],
   "source": [
    "param_grid = {'max_depth':[2, 4, 5],\n",
    "             'min_samples_split' : [2, 4, 6],\n",
    "             'min_samples_leaf' : [1, 3, 5]}"
   ]
  },
  {
   "cell_type": "code",
   "execution_count": 113,
   "id": "dabbcd8f",
   "metadata": {},
   "outputs": [],
   "source": [
    "dt_clf = DecisionTreeClassifier()\n",
    "grid_dtclf = GridSearchCV(dt_clf, param_grid = param_grid, scoring='accuracy', n_jobs = -1, cv = 5)"
   ]
  },
  {
   "cell_type": "code",
   "execution_count": 114,
   "id": "2c586ed4",
   "metadata": {},
   "outputs": [
    {
     "name": "stdout",
     "output_type": "stream",
     "text": [
      "걸린 시간 : 0.4248616695404053\n"
     ]
    }
   ],
   "source": [
    "import time\n",
    "\n",
    "start_time = time.time()\n",
    "grid_dtclf.fit(X_train, Y_train)\n",
    "print(\"걸린 시간 :\", time.time() - start_time)"
   ]
  },
  {
   "cell_type": "code",
   "execution_count": 115,
   "id": "afa8a433",
   "metadata": {},
   "outputs": [
    {
     "data": {
      "text/plain": [
       "{'max_depth': 4, 'min_samples_leaf': 5, 'min_samples_split': 4}"
      ]
     },
     "execution_count": 115,
     "metadata": {},
     "output_type": "execute_result"
    }
   ],
   "source": [
    "grid_dtclf.best_params_"
   ]
  },
  {
   "cell_type": "code",
   "execution_count": 116,
   "id": "030a5919",
   "metadata": {},
   "outputs": [
    {
     "data": {
      "text/plain": [
       "0.8214673913043479"
      ]
     },
     "execution_count": 116,
     "metadata": {},
     "output_type": "execute_result"
    }
   ],
   "source": [
    "grid_dtclf.best_score_"
   ]
  },
  {
   "cell_type": "code",
   "execution_count": 117,
   "id": "4de50bf4",
   "metadata": {},
   "outputs": [],
   "source": [
    "best_dtclt = grid_dtclf.best_estimator_"
   ]
  },
  {
   "cell_type": "code",
   "execution_count": 118,
   "id": "14c92eda",
   "metadata": {},
   "outputs": [],
   "source": [
    "best_pred = best_dtclt.predict(X_test)"
   ]
  },
  {
   "cell_type": "code",
   "execution_count": 119,
   "id": "a174f05a",
   "metadata": {},
   "outputs": [
    {
     "data": {
      "text/plain": [
       "0.8333333333333334"
      ]
     },
     "execution_count": 119,
     "metadata": {},
     "output_type": "execute_result"
    }
   ],
   "source": [
    "accuracy_score(Y_test, best_pred)"
   ]
  },
  {
   "cell_type": "code",
   "execution_count": 120,
   "id": "32afcb0f",
   "metadata": {},
   "outputs": [
    {
     "data": {
      "text/plain": [
       "{'ccp_alpha': 0.0,\n",
       " 'class_weight': None,\n",
       " 'criterion': 'gini',\n",
       " 'max_depth': None,\n",
       " 'max_features': None,\n",
       " 'max_leaf_nodes': None,\n",
       " 'min_impurity_decrease': 0.0,\n",
       " 'min_impurity_split': None,\n",
       " 'min_samples_leaf': 1,\n",
       " 'min_samples_split': 2,\n",
       " 'min_weight_fraction_leaf': 0.0,\n",
       " 'presort': 'deprecated',\n",
       " 'random_state': None,\n",
       " 'splitter': 'best'}"
      ]
     },
     "execution_count": 120,
     "metadata": {},
     "output_type": "execute_result"
    }
   ],
   "source": [
    "dt_clf.get_params()"
   ]
  },
  {
   "cell_type": "markdown",
   "id": "8b4b890f",
   "metadata": {},
   "source": [
    "# 평가 및 적용"
   ]
  },
  {
   "cell_type": "code",
   "execution_count": 121,
   "id": "d21f209f",
   "metadata": {},
   "outputs": [],
   "source": [
    "# 회귀 성능 평가 지표 : MAE, MSE, RMSE, R^2(0에 가까울수록 나쁘고 1에 가까울수록 좋음)\n",
    "# 분류 성능 평가 지표 : 정확도, 오차행렬, 정밀도 & 재현율, F1 스코어, ROC AUC"
   ]
  },
  {
   "cell_type": "code",
   "execution_count": 122,
   "id": "f3fd071f",
   "metadata": {},
   "outputs": [],
   "source": [
    "# 정확도 : 예측 결과가 동일한 데이터 건수 / 전체 예측 데이터 건수, (TP + TN) / (TP + FP + FN + TN)  \n",
    "# 정밀도 : 실제 음성인 데이터 예측을 양성으로 잘못하는 경우, TP / (FP + TP)\n",
    "# 재현율 : 실제 양성인 데이터 예측을 음성으로 잘못하는 경우, TP / (FN + TP)\n",
    "# F1 스코어 : 정밀도와 재현율을 동시에 어느정도 좋게 만들려는 시도, TP / (TP + (FN + FP) / 2) \n",
    "# ROC AUC : TPR(TP / (FN + TP))과 FPR(FP / (FP + TN))의 그림을 그려준 적분 값\n",
    "# 국가 프로젝트에선 정확도와 ROC AUC를 평가 지표로 잡는다.\n",
    "# 암 판단 모델, 금융 사기 모델은 재현율, 스팸 메일은 정밀도가 중요"
   ]
  },
  {
   "cell_type": "code",
   "execution_count": 123,
   "id": "ca20ef10",
   "metadata": {},
   "outputs": [],
   "source": [
    "confunsion_df = pd.DataFrame({'y_pred' : best_pred, 'y' : Y_test})"
   ]
  },
  {
   "cell_type": "code",
   "execution_count": 125,
   "id": "68e7ea6c",
   "metadata": {},
   "outputs": [],
   "source": [
    "confunsion_df['result'] = (confunsion_df.y_pred == confunsion_df.y)"
   ]
  },
  {
   "cell_type": "code",
   "execution_count": 127,
   "id": "a74b271e",
   "metadata": {},
   "outputs": [],
   "source": [
    "confunsion_df['result1'] = 0"
   ]
  },
  {
   "cell_type": "code",
   "execution_count": 128,
   "id": "3477296a",
   "metadata": {},
   "outputs": [],
   "source": [
    "confunsion_df.loc[confunsion_df.y_pred == 0, 'result1'] = 'Negative'\n",
    "confunsion_df.loc[confunsion_df.y_pred == 1, 'result1'] = 'Positive'"
   ]
  },
  {
   "cell_type": "code",
   "execution_count": 129,
   "id": "75ba1599",
   "metadata": {},
   "outputs": [
    {
     "data": {
      "text/html": [
       "<div>\n",
       "<style scoped>\n",
       "    .dataframe tbody tr th:only-of-type {\n",
       "        vertical-align: middle;\n",
       "    }\n",
       "\n",
       "    .dataframe tbody tr th {\n",
       "        vertical-align: top;\n",
       "    }\n",
       "\n",
       "    .dataframe thead th {\n",
       "        text-align: right;\n",
       "    }\n",
       "</style>\n",
       "<table border=\"1\" class=\"dataframe\">\n",
       "  <thead>\n",
       "    <tr style=\"text-align: right;\">\n",
       "      <th></th>\n",
       "      <th>y_pred</th>\n",
       "      <th>y</th>\n",
       "      <th>result</th>\n",
       "      <th>result1</th>\n",
       "    </tr>\n",
       "  </thead>\n",
       "  <tbody>\n",
       "    <tr>\n",
       "      <th>0</th>\n",
       "      <td>0</td>\n",
       "      <td>1</td>\n",
       "      <td>False</td>\n",
       "      <td>Negative</td>\n",
       "    </tr>\n",
       "    <tr>\n",
       "      <th>1</th>\n",
       "      <td>0</td>\n",
       "      <td>0</td>\n",
       "      <td>True</td>\n",
       "      <td>Negative</td>\n",
       "    </tr>\n",
       "    <tr>\n",
       "      <th>2</th>\n",
       "      <td>0</td>\n",
       "      <td>0</td>\n",
       "      <td>True</td>\n",
       "      <td>Negative</td>\n",
       "    </tr>\n",
       "    <tr>\n",
       "      <th>3</th>\n",
       "      <td>1</td>\n",
       "      <td>1</td>\n",
       "      <td>True</td>\n",
       "      <td>Positive</td>\n",
       "    </tr>\n",
       "    <tr>\n",
       "      <th>4</th>\n",
       "      <td>1</td>\n",
       "      <td>1</td>\n",
       "      <td>True</td>\n",
       "      <td>Positive</td>\n",
       "    </tr>\n",
       "    <tr>\n",
       "      <th>...</th>\n",
       "      <td>...</td>\n",
       "      <td>...</td>\n",
       "      <td>...</td>\n",
       "      <td>...</td>\n",
       "    </tr>\n",
       "    <tr>\n",
       "      <th>85</th>\n",
       "      <td>0</td>\n",
       "      <td>0</td>\n",
       "      <td>True</td>\n",
       "      <td>Negative</td>\n",
       "    </tr>\n",
       "    <tr>\n",
       "      <th>86</th>\n",
       "      <td>1</td>\n",
       "      <td>1</td>\n",
       "      <td>True</td>\n",
       "      <td>Positive</td>\n",
       "    </tr>\n",
       "    <tr>\n",
       "      <th>87</th>\n",
       "      <td>1</td>\n",
       "      <td>1</td>\n",
       "      <td>True</td>\n",
       "      <td>Positive</td>\n",
       "    </tr>\n",
       "    <tr>\n",
       "      <th>88</th>\n",
       "      <td>0</td>\n",
       "      <td>0</td>\n",
       "      <td>True</td>\n",
       "      <td>Negative</td>\n",
       "    </tr>\n",
       "    <tr>\n",
       "      <th>89</th>\n",
       "      <td>0</td>\n",
       "      <td>0</td>\n",
       "      <td>True</td>\n",
       "      <td>Negative</td>\n",
       "    </tr>\n",
       "  </tbody>\n",
       "</table>\n",
       "<p>90 rows × 4 columns</p>\n",
       "</div>"
      ],
      "text/plain": [
       "    y_pred  y  result   result1\n",
       "0        0  1   False  Negative\n",
       "1        0  0    True  Negative\n",
       "2        0  0    True  Negative\n",
       "3        1  1    True  Positive\n",
       "4        1  1    True  Positive\n",
       "..     ... ..     ...       ...\n",
       "85       0  0    True  Negative\n",
       "86       1  1    True  Positive\n",
       "87       1  1    True  Positive\n",
       "88       0  0    True  Negative\n",
       "89       0  0    True  Negative\n",
       "\n",
       "[90 rows x 4 columns]"
      ]
     },
     "execution_count": 129,
     "metadata": {},
     "output_type": "execute_result"
    }
   ],
   "source": [
    "confunsion_df"
   ]
  },
  {
   "cell_type": "code",
   "execution_count": 166,
   "id": "5329df90",
   "metadata": {},
   "outputs": [],
   "source": [
    "from sklearn.metrics import confusion_matrix, accuracy_score, recall_score, precision_score, f1_score"
   ]
  },
  {
   "cell_type": "code",
   "execution_count": 167,
   "id": "f4527b1d",
   "metadata": {},
   "outputs": [
    {
     "name": "stdout",
     "output_type": "stream",
     "text": [
      "정확도 : 0.83\n",
      "Confusion Matrix : \n",
      " [[45  9]\n",
      " [ 6 30]]\n",
      "재현율 : 0.83\n",
      "정밀도 : 0.77\n",
      "F1 Score : 0.80\n"
     ]
    }
   ],
   "source": [
    "print(\"정확도 : %.2f\" % accuracy_score(Y_test, best_pred))\n",
    "print(\"Confusion Matrix :\", '\\n', confusion_matrix(Y_test, best_pred)) # [[TN, FP], [FN, TP]]\n",
    "print(\"재현율 : %.2f\" % recall_score(Y_test, best_pred))\n",
    "print(\"정밀도 : %.2f\" % precision_score(Y_test, best_pred)) \n",
    "print(\"F1 Score : %.2f\" % f1_score(Y_test, best_pred))"
   ]
  },
  {
   "cell_type": "code",
   "execution_count": 135,
   "id": "db7b6d1e",
   "metadata": {},
   "outputs": [],
   "source": [
    "dt_clf = DecisionTreeClassifier()\n",
    "lr_clf = LogisticRegression()"
   ]
  },
  {
   "cell_type": "code",
   "execution_count": 137,
   "id": "52c43090",
   "metadata": {},
   "outputs": [
    {
     "name": "stderr",
     "output_type": "stream",
     "text": [
      "C:\\ProgramData\\Anaconda3\\lib\\site-packages\\sklearn\\linear_model\\_logistic.py:762: ConvergenceWarning: lbfgs failed to converge (status=1):\n",
      "STOP: TOTAL NO. of ITERATIONS REACHED LIMIT.\n",
      "\n",
      "Increase the number of iterations (max_iter) or scale the data as shown in:\n",
      "    https://scikit-learn.org/stable/modules/preprocessing.html\n",
      "Please also refer to the documentation for alternative solver options:\n",
      "    https://scikit-learn.org/stable/modules/linear_model.html#logistic-regression\n",
      "  n_iter_i = _check_optimize_result(\n"
     ]
    }
   ],
   "source": [
    "dt_clf.fit(X_train, Y_train)\n",
    "lr_clf.fit(X_train, Y_train)\n",
    "dt_pred = dt_clf.predict(X_test)\n",
    "lr_pred = lr_clf.predict(X_test)"
   ]
  },
  {
   "cell_type": "code",
   "execution_count": 168,
   "id": "f18f55ce",
   "metadata": {},
   "outputs": [
    {
     "name": "stdout",
     "output_type": "stream",
     "text": [
      "정확도 : 0.79\n",
      "Confusion Matrix : \n",
      " [[43 11]\n",
      " [ 8 28]]\n",
      "재현율 : 0.78\n",
      "정밀도 : 0.72\n",
      "F1 Score : 0.75\n"
     ]
    }
   ],
   "source": [
    "print(\"정확도 : %.2f\" % accuracy_score(Y_test, dt_pred))\n",
    "print(\"Confusion Matrix :\", '\\n', confusion_matrix(Y_test, dt_pred)) # [[TN, FP], [FN, TP]]\n",
    "print(\"재현율 : %.2f\" % recall_score(Y_test, dt_pred))\n",
    "print(\"정밀도 : %.2f\" % precision_score(Y_test, dt_pred))\n",
    "print(\"F1 Score : %.2f\" % f1_score(Y_test, dt_pred))"
   ]
  },
  {
   "cell_type": "code",
   "execution_count": 169,
   "id": "7abba5ec",
   "metadata": {},
   "outputs": [
    {
     "name": "stdout",
     "output_type": "stream",
     "text": [
      "정확도 : 0.83\n",
      "Confusion Matrix : \n",
      " [[46  8]\n",
      " [ 7 29]]\n",
      "재현율 : 0.81\n",
      "정밀도 : 0.78\n",
      "F1 Score : 0.79\n"
     ]
    }
   ],
   "source": [
    "print(\"정확도 : %.2f\" % accuracy_score(Y_test, lr_pred))\n",
    "print(\"Confusion Matrix :\", '\\n', confusion_matrix(Y_test, lr_pred)) # [[TN, FP], [FN, TP]]\n",
    "print(\"재현율 : %.2f\" % recall_score(Y_test, lr_pred))\n",
    "print(\"정밀도 : %.2f\" % precision_score(Y_test, lr_pred))\n",
    "print(\"F1 Score : %.2f\" % f1_score(Y_test, lr_pred))"
   ]
  },
  {
   "cell_type": "code",
   "execution_count": 170,
   "id": "6246fe8e",
   "metadata": {},
   "outputs": [
    {
     "data": {
      "text/plain": [
       "array([0, 0, 0, 1, 1, 1, 1, 0, 1, 1, 0, 0, 0, 0, 0, 1, 0, 1, 0, 0, 0, 0,\n",
       "       1, 0, 0, 0, 0, 0, 0, 1, 0, 1, 0, 1, 0, 0, 0, 1, 1, 0, 0, 0, 0, 0,\n",
       "       1, 0, 0, 0, 0, 0, 1, 1, 0, 1, 0, 1, 0, 1, 1, 1, 0, 1, 1, 0, 0, 1,\n",
       "       0, 0, 0, 1, 1, 1, 0, 1, 0, 0, 1, 1, 1, 1, 0, 1, 1, 0, 0, 0, 1, 1,\n",
       "       0, 0], dtype=int64)"
      ]
     },
     "execution_count": 170,
     "metadata": {},
     "output_type": "execute_result"
    }
   ],
   "source": [
    "lr_clf.predict(X_test)"
   ]
  },
  {
   "cell_type": "code",
   "execution_count": 171,
   "id": "50a4e09f",
   "metadata": {},
   "outputs": [
    {
     "data": {
      "text/plain": [
       "array([[0.91451508, 0.08548492],\n",
       "       [0.81125864, 0.18874136],\n",
       "       [0.9027169 , 0.0972831 ],\n",
       "       [0.14769764, 0.85230236],\n",
       "       [0.32430309, 0.67569691],\n",
       "       [0.05983021, 0.94016979],\n",
       "       [0.28200584, 0.71799416],\n",
       "       [0.94370666, 0.05629334],\n",
       "       [0.26561087, 0.73438913],\n",
       "       [0.0738055 , 0.9261945 ],\n",
       "       [0.65310128, 0.34689872],\n",
       "       [0.93004022, 0.06995978],\n",
       "       [0.6699708 , 0.3300292 ],\n",
       "       [0.8847625 , 0.1152375 ],\n",
       "       [0.82142238, 0.17857762],\n",
       "       [0.05175325, 0.94824675],\n",
       "       [0.67023327, 0.32976673],\n",
       "       [0.28195984, 0.71804016],\n",
       "       [0.80076113, 0.19923887],\n",
       "       [0.65745268, 0.34254732],\n",
       "       [0.90786558, 0.09213442],\n",
       "       [0.62948877, 0.37051123],\n",
       "       [0.33899664, 0.66100336],\n",
       "       [0.90238895, 0.09761105],\n",
       "       [0.90753486, 0.09246514],\n",
       "       [0.73060576, 0.26939424],\n",
       "       [0.56837354, 0.43162646],\n",
       "       [0.81015823, 0.18984177],\n",
       "       [0.71253492, 0.28746508],\n",
       "       [0.34940173, 0.65059827],\n",
       "       [0.90139951, 0.09860049],\n",
       "       [0.31944425, 0.68055575],\n",
       "       [0.56627894, 0.43372106],\n",
       "       [0.31794089, 0.68205911],\n",
       "       [0.90001893, 0.09998107],\n",
       "       [0.89152811, 0.10847189],\n",
       "       [0.60213829, 0.39786171],\n",
       "       [0.28200584, 0.71799416],\n",
       "       [0.05221583, 0.94778417],\n",
       "       [0.90911221, 0.09088779],\n",
       "       [0.85910678, 0.14089322],\n",
       "       [0.92407896, 0.07592104],\n",
       "       [0.90907566, 0.09092434],\n",
       "       [0.89402703, 0.10597297],\n",
       "       [0.29134357, 0.70865643],\n",
       "       [0.95744156, 0.04255844],\n",
       "       [0.90133257, 0.09866743],\n",
       "       [0.9062803 , 0.0937197 ],\n",
       "       [0.90806831, 0.09193169],\n",
       "       [0.61747068, 0.38252932],\n",
       "       [0.48758866, 0.51241134],\n",
       "       [0.12164047, 0.87835953],\n",
       "       [0.97785414, 0.02214586],\n",
       "       [0.09986493, 0.90013507],\n",
       "       [0.93890909, 0.06109091],\n",
       "       [0.06310825, 0.93689175],\n",
       "       [0.81354395, 0.18645605],\n",
       "       [0.03433475, 0.96566525],\n",
       "       [0.17850197, 0.82149803],\n",
       "       [0.27440398, 0.72559602],\n",
       "       [0.90406314, 0.09593686],\n",
       "       [0.16671543, 0.83328457],\n",
       "       [0.18064339, 0.81935661],\n",
       "       [0.65062497, 0.34937503],\n",
       "       [0.89402703, 0.10597297],\n",
       "       [0.2374844 , 0.7625156 ],\n",
       "       [0.75538783, 0.24461217],\n",
       "       [0.9139528 , 0.0860472 ],\n",
       "       [0.90662346, 0.09337654],\n",
       "       [0.07105599, 0.92894401],\n",
       "       [0.22337323, 0.77662677],\n",
       "       [0.07796977, 0.92203023],\n",
       "       [0.51468318, 0.48531682],\n",
       "       [0.07701036, 0.92298964],\n",
       "       [0.90661372, 0.09338628],\n",
       "       [0.92954212, 0.07045788],\n",
       "       [0.31011583, 0.68988417],\n",
       "       [0.05251681, 0.94748319],\n",
       "       [0.18868178, 0.81131822],\n",
       "       [0.41870857, 0.58129143],\n",
       "       [0.98441724, 0.01558276],\n",
       "       [0.1698933 , 0.8301067 ],\n",
       "       [0.06811926, 0.93188074],\n",
       "       [0.89403042, 0.10596958],\n",
       "       [0.62401067, 0.37598933],\n",
       "       [0.6631996 , 0.3368004 ],\n",
       "       [0.04806738, 0.95193262],\n",
       "       [0.04865543, 0.95134457],\n",
       "       [0.66064216, 0.33935784],\n",
       "       [0.90926515, 0.09073485]])"
      ]
     },
     "execution_count": 171,
     "metadata": {},
     "output_type": "execute_result"
    }
   ],
   "source": [
    "lr_clf.predict_proba(X_test)"
   ]
  },
  {
   "cell_type": "code",
   "execution_count": 172,
   "id": "d0f1cc11",
   "metadata": {},
   "outputs": [
    {
     "name": "stdout",
     "output_type": "stream",
     "text": [
      "threshold : 0.1\n",
      "\n",
      "\n",
      "정확도 : 0.63\n",
      "Confusion Matrix : \n",
      " [[23 31]\n",
      " [ 2 34]]\n",
      "재현율 : 0.94\n",
      "정밀도 : 0.52\n",
      "F1 Score : 0.67\n",
      "\n",
      "\n",
      "threshold : 0.2\n",
      "\n",
      "\n",
      "정확도 : 0.73\n",
      "Confusion Matrix : \n",
      " [[33 21]\n",
      " [ 3 33]]\n",
      "재현율 : 0.92\n",
      "정밀도 : 0.61\n",
      "F1 Score : 0.73\n",
      "\n",
      "\n",
      "threshold : 0.3\n",
      "\n",
      "\n",
      "정확도 : 0.77\n",
      "Confusion Matrix : \n",
      " [[36 18]\n",
      " [ 3 33]]\n",
      "재현율 : 0.92\n",
      "정밀도 : 0.65\n",
      "F1 Score : 0.76\n",
      "\n",
      "\n",
      "threshold : 0.4\n",
      "\n",
      "\n",
      "정확도 : 0.82\n",
      "Confusion Matrix : \n",
      " [[44 10]\n",
      " [ 6 30]]\n",
      "재현율 : 0.83\n",
      "정밀도 : 0.75\n",
      "F1 Score : 0.79\n",
      "\n",
      "\n",
      "threshold : 0.5\n",
      "\n",
      "\n",
      "정확도 : 0.83\n",
      "Confusion Matrix : \n",
      " [[46  8]\n",
      " [ 7 29]]\n",
      "재현율 : 0.81\n",
      "정밀도 : 0.78\n",
      "F1 Score : 0.79\n",
      "\n",
      "\n",
      "threshold : 0.6\n",
      "\n",
      "\n",
      "정확도 : 0.83\n",
      "Confusion Matrix : \n",
      " [[47  7]\n",
      " [ 8 28]]\n",
      "재현율 : 0.78\n",
      "정밀도 : 0.80\n",
      "F1 Score : 0.79\n",
      "\n",
      "\n",
      "threshold : 0.7\n",
      "\n",
      "\n",
      "정확도 : 0.83\n",
      "Confusion Matrix : \n",
      " [[50  4]\n",
      " [11 25]]\n",
      "재현율 : 0.69\n",
      "정밀도 : 0.86\n",
      "F1 Score : 0.77\n",
      "\n",
      "\n",
      "threshold : 0.8\n",
      "\n",
      "\n",
      "정확도 : 0.81\n",
      "Confusion Matrix : \n",
      " [[53  1]\n",
      " [16 20]]\n",
      "재현율 : 0.56\n",
      "정밀도 : 0.95\n",
      "F1 Score : 0.70\n",
      "\n",
      "\n",
      "threshold : 0.9\n",
      "\n",
      "\n",
      "정확도 : 0.76\n",
      "Confusion Matrix : \n",
      " [[54  0]\n",
      " [22 14]]\n",
      "재현율 : 0.39\n",
      "정밀도 : 1.00\n",
      "F1 Score : 0.56\n",
      "\n",
      "\n"
     ]
    }
   ],
   "source": [
    "from sklearn.preprocessing import Binarizer\n",
    "\n",
    "accuracy = []\n",
    "recall = []\n",
    "precision = []\n",
    "f1 = []\n",
    "\n",
    "for th in [0.1, 0.2, 0.3, 0.4, 0.5, 0.6, 0.7, 0.8, 0.9]:\n",
    "    binarizer = Binarizer(threshold = th)\n",
    "    lr_pred_new = binarizer.fit_transform(lr_clf.predict_proba(X_test))[:, 1]\n",
    "    print(\"threshold :\", th)\n",
    "    print(\"\\n\")\n",
    "    print(\"정확도 : %.2f\" % accuracy_score(Y_test, lr_pred_new))\n",
    "    accuracy.append(accuracy_score(Y_test, lr_pred_new))\n",
    "    print(\"Confusion Matrix :\", '\\n', confusion_matrix(Y_test, lr_pred_new)) # [[TN, FP], [FN, TP]]\n",
    "    print(\"재현율 : %.2f\" % recall_score(Y_test, lr_pred_new))\n",
    "    recall.append(recall_score(Y_test, lr_pred_new))\n",
    "    print(\"정밀도 : %.2f\" % precision_score(Y_test, lr_pred_new))\n",
    "    precision.append(precision_score(Y_test, lr_pred_new))\n",
    "    print(\"F1 Score : %.2f\" % f1_score(Y_test, lr_pred_new))\n",
    "    f1.append(f1_score(Y_test, lr_pred_new))\n",
    "    print('\\n')"
   ]
  },
  {
   "cell_type": "code",
   "execution_count": 174,
   "id": "66d0a23a",
   "metadata": {},
   "outputs": [
    {
     "data": {
      "image/png": "[encoded data removed]",
      "text/plain": [
       "<Figure size 1440x1080 with 1 Axes>"
      ]
     },
     "metadata": {
      "needs_background": "light"
     },
     "output_type": "display_data"
    }
   ],
   "source": [
    "plt.figure(figsize=(20, 15))\n",
    "plt.plot(np.arange(0.1, 1, 0.1), accuracy)\n",
    "plt.plot(np.arange(0.1, 1, 0.1), recall)\n",
    "plt.plot(np.arange(0.1, 1, 0.1), precision)\n",
    "plt.plot(np.arange(0.1, 1, 0.1), f1)\n",
    "plt.legend(['accuracy', 'recall', 'precision', 'f1_score'])\n",
    "plt.show()"
   ]
  },
  {
   "cell_type": "code",
   "execution_count": null,
   "id": "3f151fe4",
   "metadata": {},
   "outputs": [],
   "source": []
  },
  {
   "cell_type": "code",
   "execution_count": null,
   "id": "981bc75e",
   "metadata": {},
   "outputs": [],
   "source": []
  },
  {
   "cell_type": "code",
   "execution_count": null,
   "id": "5e283246",
   "metadata": {},
   "outputs": [],
   "source": []
  }
 ],
 "metadata": {
  "kernelspec": {
   "display_name": "Python 3",
   "language": "python",
   "name": "python3"
  },
  "language_info": {
   "codemirror_mode": {
    "name": "ipython",
    "version": 3
   },
   "file_extension": ".py",
   "mimetype": "text/x-python",
   "name": "python",
   "nbconvert_exporter": "python",
   "pygments_lexer": "ipython3",
   "version": "3.8.5"
  }
 },
 "nbformat": 4,
 "nbformat_minor": 5
}
